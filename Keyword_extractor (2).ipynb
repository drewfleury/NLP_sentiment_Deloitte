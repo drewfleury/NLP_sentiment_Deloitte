{
 "cells": [
  {
   "cell_type": "markdown",
   "id": "64aef4b2",
   "metadata": {},
   "source": [
    "### Install required packages and import them"
   ]
  },
  {
   "cell_type": "code",
   "execution_count": 1,
   "id": "876a45cd",
   "metadata": {
    "collapsed": true
   },
   "outputs": [
    {
     "name": "stdout",
     "output_type": "stream",
     "text": [
      "zsh:1: no matches found: keybert[all]\n",
      "Requirement already satisfied: sentence-transformers in /Users/drew/opt/miniconda3/lib/python3.9/site-packages (2.0.0)\n",
      "Requirement already satisfied: torch>=1.6.0 in /Users/drew/opt/miniconda3/lib/python3.9/site-packages (from sentence-transformers) (1.9.0)\n",
      "Requirement already satisfied: scipy in /Users/drew/opt/miniconda3/lib/python3.9/site-packages (from sentence-transformers) (1.7.1)\n",
      "Requirement already satisfied: nltk in /Users/drew/opt/miniconda3/lib/python3.9/site-packages (from sentence-transformers) (3.6.2)\n",
      "Requirement already satisfied: huggingface-hub in /Users/drew/opt/miniconda3/lib/python3.9/site-packages (from sentence-transformers) (0.0.12)\n",
      "Requirement already satisfied: sentencepiece in /Users/drew/opt/miniconda3/lib/python3.9/site-packages (from sentence-transformers) (0.1.96)\n",
      "Requirement already satisfied: torchvision in /Users/drew/opt/miniconda3/lib/python3.9/site-packages (from sentence-transformers) (0.10.0)\n",
      "Requirement already satisfied: numpy in /Users/drew/opt/miniconda3/lib/python3.9/site-packages (from sentence-transformers) (1.21.1)\n",
      "Requirement already satisfied: tqdm in /Users/drew/opt/miniconda3/lib/python3.9/site-packages (from sentence-transformers) (4.54.1)\n",
      "Requirement already satisfied: scikit-learn in /Users/drew/opt/miniconda3/lib/python3.9/site-packages (from sentence-transformers) (0.24.2)\n",
      "Requirement already satisfied: transformers<5.0.0,>=4.6.0 in /Users/drew/opt/miniconda3/lib/python3.9/site-packages (from sentence-transformers) (4.9.0)\n",
      "Requirement already satisfied: packaging>=20.9 in /Users/drew/opt/miniconda3/lib/python3.9/site-packages (from huggingface-hub->sentence-transformers) (21.0)\n",
      "Requirement already satisfied: requests in /Users/drew/opt/miniconda3/lib/python3.9/site-packages (from huggingface-hub->sentence-transformers) (2.25.0)\n",
      "Requirement already satisfied: typing-extensions in /Users/drew/opt/miniconda3/lib/python3.9/site-packages (from huggingface-hub->sentence-transformers) (3.10.0.0)\n",
      "Requirement already satisfied: filelock in /Users/drew/opt/miniconda3/lib/python3.9/site-packages (from huggingface-hub->sentence-transformers) (3.0.12)\n",
      "Requirement already satisfied: tqdm in /Users/drew/opt/miniconda3/lib/python3.9/site-packages (from sentence-transformers) (4.54.1)\n",
      "Requirement already satisfied: tqdm in /Users/drew/opt/miniconda3/lib/python3.9/site-packages (from sentence-transformers) (4.54.1)\n",
      "Requirement already satisfied: regex in /Users/drew/opt/miniconda3/lib/python3.9/site-packages (from nltk->sentence-transformers) (2021.7.6)\n",
      "Requirement already satisfied: click in /Users/drew/opt/miniconda3/lib/python3.9/site-packages (from nltk->sentence-transformers) (8.0.1)\n",
      "Requirement already satisfied: joblib in /Users/drew/opt/miniconda3/lib/python3.9/site-packages (from nltk->sentence-transformers) (1.0.1)\n",
      "Requirement already satisfied: pyparsing>=2.0.2 in /Users/drew/opt/miniconda3/lib/python3.9/site-packages (from packaging>=20.9->huggingface-hub->sentence-transformers) (2.4.7)\n",
      "Requirement already satisfied: chardet<4,>=3.0.2 in /Users/drew/opt/miniconda3/lib/python3.9/site-packages (from requests->huggingface-hub->sentence-transformers) (3.0.4)\n",
      "Requirement already satisfied: urllib3<1.27,>=1.21.1 in /Users/drew/opt/miniconda3/lib/python3.9/site-packages (from requests->huggingface-hub->sentence-transformers) (1.25.11)\n",
      "Requirement already satisfied: idna<3,>=2.5 in /Users/drew/opt/miniconda3/lib/python3.9/site-packages (from requests->huggingface-hub->sentence-transformers) (2.10)\n",
      "Requirement already satisfied: certifi>=2017.4.17 in /Users/drew/opt/miniconda3/lib/python3.9/site-packages (from requests->huggingface-hub->sentence-transformers) (2020.12.5)\n",
      "Requirement already satisfied: scipy in /Users/drew/opt/miniconda3/lib/python3.9/site-packages (from sentence-transformers) (1.7.1)\n",
      "Requirement already satisfied: joblib in /Users/drew/opt/miniconda3/lib/python3.9/site-packages (from nltk->sentence-transformers) (1.0.1)\n",
      "Requirement already satisfied: numpy in /Users/drew/opt/miniconda3/lib/python3.9/site-packages (from sentence-transformers) (1.21.1)\n",
      "Requirement already satisfied: threadpoolctl>=2.0.0 in /Users/drew/opt/miniconda3/lib/python3.9/site-packages (from scikit-learn->sentence-transformers) (2.2.0)\n",
      "Requirement already satisfied: numpy in /Users/drew/opt/miniconda3/lib/python3.9/site-packages (from sentence-transformers) (1.21.1)\n",
      "Requirement already satisfied: typing-extensions in /Users/drew/opt/miniconda3/lib/python3.9/site-packages (from huggingface-hub->sentence-transformers) (3.10.0.0)\n",
      "Requirement already satisfied: torch>=1.6.0 in /Users/drew/opt/miniconda3/lib/python3.9/site-packages (from sentence-transformers) (1.9.0)\n",
      "Requirement already satisfied: numpy in /Users/drew/opt/miniconda3/lib/python3.9/site-packages (from sentence-transformers) (1.21.1)\n",
      "Requirement already satisfied: pillow>=5.3.0 in /Users/drew/opt/miniconda3/lib/python3.9/site-packages (from torchvision->sentence-transformers) (8.3.1)\n",
      "Requirement already satisfied: regex in /Users/drew/opt/miniconda3/lib/python3.9/site-packages (from nltk->sentence-transformers) (2021.7.6)\n",
      "Requirement already satisfied: requests in /Users/drew/opt/miniconda3/lib/python3.9/site-packages (from huggingface-hub->sentence-transformers) (2.25.0)\n",
      "Requirement already satisfied: pyyaml>=5.1 in /Users/drew/opt/miniconda3/lib/python3.9/site-packages (from transformers<5.0.0,>=4.6.0->sentence-transformers) (5.4.1)\n",
      "Requirement already satisfied: numpy in /Users/drew/opt/miniconda3/lib/python3.9/site-packages (from sentence-transformers) (1.21.1)\n",
      "Requirement already satisfied: huggingface-hub in /Users/drew/opt/miniconda3/lib/python3.9/site-packages (from sentence-transformers) (0.0.12)\n",
      "Requirement already satisfied: packaging>=20.9 in /Users/drew/opt/miniconda3/lib/python3.9/site-packages (from huggingface-hub->sentence-transformers) (21.0)\n",
      "Requirement already satisfied: sacremoses in /Users/drew/opt/miniconda3/lib/python3.9/site-packages (from transformers<5.0.0,>=4.6.0->sentence-transformers) (0.0.45)\n",
      "Requirement already satisfied: tokenizers<0.11,>=0.10.1 in /Users/drew/opt/miniconda3/lib/python3.9/site-packages (from transformers<5.0.0,>=4.6.0->sentence-transformers) (0.10.3)\n",
      "Requirement already satisfied: filelock in /Users/drew/opt/miniconda3/lib/python3.9/site-packages (from huggingface-hub->sentence-transformers) (3.0.12)\n",
      "Requirement already satisfied: tqdm in /Users/drew/opt/miniconda3/lib/python3.9/site-packages (from sentence-transformers) (4.54.1)\n",
      "Requirement already satisfied: click in /Users/drew/opt/miniconda3/lib/python3.9/site-packages (from nltk->sentence-transformers) (8.0.1)\n",
      "Requirement already satisfied: joblib in /Users/drew/opt/miniconda3/lib/python3.9/site-packages (from nltk->sentence-transformers) (1.0.1)\n",
      "Requirement already satisfied: regex in /Users/drew/opt/miniconda3/lib/python3.9/site-packages (from nltk->sentence-transformers) (2021.7.6)\n",
      "Requirement already satisfied: six in /Users/drew/opt/miniconda3/lib/python3.9/site-packages (from sacremoses->transformers<5.0.0,>=4.6.0->sentence-transformers) (1.15.0)\n",
      "Requirement already satisfied: tqdm in /Users/drew/opt/miniconda3/lib/python3.9/site-packages (from sentence-transformers) (4.54.1)\n"
     ]
    }
   ],
   "source": [
    "!pip install keybert[all]\n",
    "!pip install -U sentence-transformers"
   ]
  },
  {
   "cell_type": "code",
   "execution_count": 2,
   "id": "7bb3c3d2",
   "metadata": {},
   "outputs": [],
   "source": [
    "import pandas as pd\n",
    "from keybert import KeyBERT\n",
    "kw_model = KeyBERT(model='paraphrase-multilingual-MiniLM-L12-v2')\n",
    "from sentence_transformers import SentenceTransformer\n",
    "model = SentenceTransformer('paraphrase-multilingual-MiniLM-L12-v2')"
   ]
  },
  {
   "cell_type": "markdown",
   "id": "5cd3f5be",
   "metadata": {},
   "source": [
    "### Import CSV File from server "
   ]
  },
  {
   "cell_type": "code",
   "execution_count": 3,
   "id": "75fd2799",
   "metadata": {},
   "outputs": [],
   "source": [
    "df = pd.read_csv(\"insert path name here\", delimiter = '$', encoding = 'utf-8-sig', engine ='python')"
   ]
  },
  {
   "cell_type": "markdown",
   "id": "95878ff6",
   "metadata": {},
   "source": [
    "### Filter out junk comments"
   ]
  },
  {
   "cell_type": "markdown",
   "id": "ce5294e9",
   "metadata": {},
   "source": [
    "filters out all comments with a character length of 4 or less (e.g. \"n.a.\" removed, which was causing a problem with the application)"
   ]
  },
  {
   "cell_type": "code",
   "execution_count": 4,
   "id": "0dc4457b",
   "metadata": {},
   "outputs": [
    {
     "data": {
      "text/html": [
       "<div>\n",
       "<style scoped>\n",
       "    .dataframe tbody tr th:only-of-type {\n",
       "        vertical-align: middle;\n",
       "    }\n",
       "\n",
       "    .dataframe tbody tr th {\n",
       "        vertical-align: top;\n",
       "    }\n",
       "\n",
       "    .dataframe thead th {\n",
       "        text-align: right;\n",
       "    }\n",
       "</style>\n",
       "<table border=\"1\" class=\"dataframe\">\n",
       "  <thead>\n",
       "    <tr style=\"text-align: right;\">\n",
       "      <th></th>\n",
       "      <th>%ERQuestionKey</th>\n",
       "      <th>ERA_QuestionComment</th>\n",
       "    </tr>\n",
       "  </thead>\n",
       "  <tbody>\n",
       "    <tr>\n",
       "      <th>0</th>\n",
       "      <td>112/7557</td>\n",
       "      <td>Same. Face to face meeting followed by efficie...</td>\n",
       "    </tr>\n",
       "    <tr>\n",
       "      <th>1</th>\n",
       "      <td>2/7549</td>\n",
       "      <td>project was split in 2 phases: onboarding 2 ex...</td>\n",
       "    </tr>\n",
       "    <tr>\n",
       "      <th>2</th>\n",
       "      <td>11/7549</td>\n",
       "      <td>working @ distance is not obvious, certainly n...</td>\n",
       "    </tr>\n",
       "    <tr>\n",
       "      <th>3</th>\n",
       "      <td>112/7549</td>\n",
       "      <td>physical meetings, making Agile work in a norm...</td>\n",
       "    </tr>\n",
       "    <tr>\n",
       "      <th>4</th>\n",
       "      <td>1/7549</td>\n",
       "      <td>Deloitte team has an in depth knowledge of BE ...</td>\n",
       "    </tr>\n",
       "    <tr>\n",
       "      <th>5</th>\n",
       "      <td>9/7549</td>\n",
       "      <td>cfr remarks done on question 2.</td>\n",
       "    </tr>\n",
       "    <tr>\n",
       "      <th>6</th>\n",
       "      <td>11/7677</td>\n",
       "      <td>Nous avons apprécié d'avoir pu disctuer avec D...</td>\n",
       "    </tr>\n",
       "    <tr>\n",
       "      <th>7</th>\n",
       "      <td>1/7677</td>\n",
       "      <td>Peu d'expérience des analystes junior.</td>\n",
       "    </tr>\n",
       "    <tr>\n",
       "      <th>8</th>\n",
       "      <td>2/7676</td>\n",
       "      <td>Le démarrage difficile en raison de l'inexpéri...</td>\n",
       "    </tr>\n",
       "    <tr>\n",
       "      <th>10</th>\n",
       "      <td>6/7677</td>\n",
       "      <td>Turn-over important concernant les analystes j...</td>\n",
       "    </tr>\n",
       "  </tbody>\n",
       "</table>\n",
       "</div>"
      ],
      "text/plain": [
       "   %ERQuestionKey                                ERA_QuestionComment\n",
       "0        112/7557  Same. Face to face meeting followed by efficie...\n",
       "1          2/7549  project was split in 2 phases: onboarding 2 ex...\n",
       "2         11/7549  working @ distance is not obvious, certainly n...\n",
       "3        112/7549  physical meetings, making Agile work in a norm...\n",
       "4          1/7549  Deloitte team has an in depth knowledge of BE ...\n",
       "5          9/7549                    cfr remarks done on question 2.\n",
       "6         11/7677  Nous avons apprécié d'avoir pu disctuer avec D...\n",
       "7          1/7677             Peu d'expérience des analystes junior.\n",
       "8          2/7676  Le démarrage difficile en raison de l'inexpéri...\n",
       "10         6/7677  Turn-over important concernant les analystes j..."
      ]
     },
     "execution_count": 4,
     "metadata": {},
     "output_type": "execute_result"
    }
   ],
   "source": [
    "df['ERA_QuestionComment'] = df['ERA_QuestionComment'].astype('str')\n",
    "mask = (df['ERA_QuestionComment'].str.len() > 4)\n",
    "df = df.loc[mask]\n",
    "df.head(10)"
   ]
  },
  {
   "cell_type": "markdown",
   "id": "bd16fd81",
   "metadata": {},
   "source": [
    "### Define main function and loop it through all comments"
   ]
  },
  {
   "cell_type": "markdown",
   "id": "cd49dfd3",
   "metadata": {},
   "source": [
    "Defines the function 'Keywords' that take an input x (the comment) and runs the keyword extraction on it:"
   ]
  },
  {
   "cell_type": "code",
   "execution_count": 5,
   "id": "41770039",
   "metadata": {},
   "outputs": [],
   "source": [
    "def Keywords(x):\n",
    "    doc = x\n",
    "    kw_model = KeyBERT(model)\n",
    "    keywords = kw_model.extract_keywords(doc, keyphrase_ngram_range=(1, 1), stop_words=None, highlight=True, top_n=10)\n",
    "    print(keywords)\n",
    "    return keywords"
   ]
  },
  {
   "cell_type": "markdown",
   "id": "836d6e2e",
   "metadata": {},
   "source": [
    "Loops all comments through the function and puts them into a new column 'ER_Keywords':"
   ]
  },
  {
   "cell_type": "code",
   "execution_count": 6,
   "id": "eb05b156",
   "metadata": {
    "scrolled": true
   },
   "outputs": [
    {
     "data": {
      "text/html": [
       "<pre style=\"white-space:pre;overflow-x:auto;line-height:normal;font-family:Menlo,'DejaVu Sans Mono',consolas,'Courier New',monospace\">Same. <span style=\"color: #000000; text-decoration-color: #000000; background-color: #ffff00\">Face</span> <span style=\"color: #000000; text-decoration-color: #000000; background-color: #ffff00\">to</span> <span style=\"color: #000000; text-decoration-color: #000000; background-color: #ffff00\">face</span> <span style=\"color: #000000; text-decoration-color: #000000; background-color: #ffff00\">meeting</span> <span style=\"color: #000000; text-decoration-color: #000000; background-color: #ffff00\">followed</span> <span style=\"color: #000000; text-decoration-color: #000000; background-color: #ffff00\">by</span> <span style=\"color: #000000; text-decoration-color: #000000; background-color: #ffff00\">efficient</span> <span style=\"color: #000000; text-decoration-color: #000000; background-color: #ffff00\">Teams</span> meetings.\n",
       "</pre>\n"
      ],
      "text/plain": [
       "Same. \u001b[30;48;2;255;255;0mFace\u001b[0m \u001b[30;48;2;255;255;0mto\u001b[0m \u001b[30;48;2;255;255;0mface\u001b[0m \u001b[30;48;2;255;255;0mmeeting\u001b[0m \u001b[30;48;2;255;255;0mfollowed\u001b[0m \u001b[30;48;2;255;255;0mby\u001b[0m \u001b[30;48;2;255;255;0mefficient\u001b[0m \u001b[30;48;2;255;255;0mTeams\u001b[0m meetings.\n"
      ]
     },
     "metadata": {},
     "output_type": "display_data"
    },
    {
     "name": "stdout",
     "output_type": "stream",
     "text": [
      "[('meetings', 0.6496), ('meeting', 0.5971), ('teams', 0.5519), ('efficient', 0.3443), ('face', 0.3205), ('same', 0.2873), ('followed', 0.2534), ('to', 0.2511), ('by', 0.1537)]\n"
     ]
    },
    {
     "data": {
      "text/html": [
       "<pre style=\"white-space:pre;overflow-x:auto;line-height:normal;font-family:Menlo,'DejaVu Sans Mono',consolas,'Courier New',monospace\"><span style=\"color: #000000; text-decoration-color: #000000; background-color: #ffff00\">project</span> was <span style=\"color: #000000; text-decoration-color: #000000; background-color: #ffff00\">split</span> in 2 phases: <span style=\"color: #000000; text-decoration-color: #000000; background-color: #ffff00\">onboarding</span> 2 exco's and <span style=\"color: #000000; text-decoration-color: #000000; background-color: #ffff00\">running</span> first pilot. Exco-onboarding \n",
       "has not given the <span style=\"color: #000000; text-decoration-color: #000000; background-color: #ffff00\">results</span> that were expected, partially for <span style=\"color: #000000; text-decoration-color: #000000; background-color: #ffff00\">reasins</span> that are inside the \n",
       "organisation.\n",
       "</pre>\n"
      ],
      "text/plain": [
       "\u001b[30;48;2;255;255;0mproject\u001b[0m was \u001b[30;48;2;255;255;0msplit\u001b[0m in 2 phases: \u001b[30;48;2;255;255;0monboarding\u001b[0m 2 exco's and \u001b[30;48;2;255;255;0mrunning\u001b[0m first pilot. Exco-onboarding \n",
       "has not given the \u001b[30;48;2;255;255;0mresults\u001b[0m that were expected, partially for \u001b[30;48;2;255;255;0mreasins\u001b[0m that are inside the \n",
       "organisation.\n"
      ]
     },
     "metadata": {},
     "output_type": "display_data"
    },
    {
     "name": "stdout",
     "output_type": "stream",
     "text": [
      "[('exco', 0.5254), ('project', 0.3382), ('pilot', 0.3276), ('reasins', 0.3068), ('onboarding', 0.2931), ('phases', 0.284), ('organisation', 0.2681), ('results', 0.265), ('running', 0.239), ('split', 0.2376)]\n"
     ]
    },
    {
     "data": {
      "text/html": [
       "<pre style=\"white-space:pre;overflow-x:auto;line-height:normal;font-family:Menlo,'DejaVu Sans Mono',consolas,'Courier New',monospace\"><span style=\"color: #000000; text-decoration-color: #000000; background-color: #ffff00\">working</span> @ <span style=\"color: #000000; text-decoration-color: #000000; background-color: #ffff00\">distance</span> <span style=\"color: #000000; text-decoration-color: #000000; background-color: #ffff00\">is</span> <span style=\"color: #000000; text-decoration-color: #000000; background-color: #ffff00\">not</span> obvious, certainly <span style=\"color: #000000; text-decoration-color: #000000; background-color: #ffff00\">not</span> in this type of project, <span style=\"color: #000000; text-decoration-color: #000000; background-color: #ffff00\">where</span> intense \n",
       "<span style=\"color: #000000; text-decoration-color: #000000; background-color: #ffff00\">collaboration</span> <span style=\"color: #000000; text-decoration-color: #000000; background-color: #ffff00\">between</span> <span style=\"color: #000000; text-decoration-color: #000000; background-color: #ffff00\">teams</span> has to <span style=\"color: #000000; text-decoration-color: #000000; background-color: #ffff00\">be</span> established\n",
       "</pre>\n"
      ],
      "text/plain": [
       "\u001b[30;48;2;255;255;0mworking\u001b[0m @ \u001b[30;48;2;255;255;0mdistance\u001b[0m \u001b[30;48;2;255;255;0mis\u001b[0m \u001b[30;48;2;255;255;0mnot\u001b[0m obvious, certainly \u001b[30;48;2;255;255;0mnot\u001b[0m in this type of project, \u001b[30;48;2;255;255;0mwhere\u001b[0m intense \n",
       "\u001b[30;48;2;255;255;0mcollaboration\u001b[0m \u001b[30;48;2;255;255;0mbetween\u001b[0m \u001b[30;48;2;255;255;0mteams\u001b[0m has to \u001b[30;48;2;255;255;0mbe\u001b[0m established\n"
      ]
     },
     "metadata": {},
     "output_type": "display_data"
    },
    {
     "name": "stdout",
     "output_type": "stream",
     "text": [
      "[('collaboration', 0.5391), ('distance', 0.5052), ('teams', 0.389), ('project', 0.3813), ('working', 0.333), ('between', 0.2921), ('not', 0.2116), ('where', 0.1875), ('is', 0.184), ('be', 0.1812)]\n"
     ]
    },
    {
     "data": {
      "text/html": [
       "<pre style=\"white-space:pre;overflow-x:auto;line-height:normal;font-family:Menlo,'DejaVu Sans Mono',consolas,'Courier New',monospace\">physical meetings, <span style=\"color: #000000; text-decoration-color: #000000; background-color: #ffff00\">making</span> <span style=\"color: #000000; text-decoration-color: #000000; background-color: #ffff00\">Agile</span> <span style=\"color: #000000; text-decoration-color: #000000; background-color: #ffff00\">work</span> in a normal <span style=\"color: #000000; text-decoration-color: #000000; background-color: #ffff00\">environment</span> of collaboration, co-creation \n",
       "and in an <span style=\"color: #000000; text-decoration-color: #000000; background-color: #ffff00\">environment</span> <span style=\"color: #000000; text-decoration-color: #000000; background-color: #ffff00\">suited</span> to this way of <span style=\"color: #000000; text-decoration-color: #000000; background-color: #ffff00\">working</span> (Greenhouse,...)\n",
       "</pre>\n"
      ],
      "text/plain": [
       "physical meetings, \u001b[30;48;2;255;255;0mmaking\u001b[0m \u001b[30;48;2;255;255;0mAgile\u001b[0m \u001b[30;48;2;255;255;0mwork\u001b[0m in a normal \u001b[30;48;2;255;255;0menvironment\u001b[0m of collaboration, co-creation \n",
       "and in an \u001b[30;48;2;255;255;0menvironment\u001b[0m \u001b[30;48;2;255;255;0msuited\u001b[0m to this way of \u001b[30;48;2;255;255;0mworking\u001b[0m (Greenhouse,...)\n"
      ]
     },
     "metadata": {},
     "output_type": "display_data"
    },
    {
     "name": "stdout",
     "output_type": "stream",
     "text": [
      "[('collaboration', 0.599), ('meetings', 0.5948), ('agile', 0.4807), ('work', 0.471), ('working', 0.4317), ('environment', 0.4046), ('making', 0.4025), ('greenhouse', 0.358), ('creation', 0.2863), ('suited', 0.268)]\n"
     ]
    },
    {
     "data": {
      "text/html": [
       "<pre style=\"white-space:pre;overflow-x:auto;line-height:normal;font-family:Menlo,'DejaVu Sans Mono',consolas,'Courier New',monospace\"><span style=\"color: #000000; text-decoration-color: #000000; background-color: #ffff00\">Deloitte</span> team has an <span style=\"color: #000000; text-decoration-color: #000000; background-color: #ffff00\">in</span> depth <span style=\"color: #000000; text-decoration-color: #000000; background-color: #ffff00\">knowledge</span> <span style=\"color: #000000; text-decoration-color: #000000; background-color: #ffff00\">of</span> <span style=\"color: #000000; text-decoration-color: #000000; background-color: #ffff00\">BE</span> <span style=\"color: #000000; text-decoration-color: #000000; background-color: #ffff00\">insurance</span> <span style=\"color: #000000; text-decoration-color: #000000; background-color: #ffff00\">sector</span> <span style=\"color: #000000; text-decoration-color: #000000; background-color: #ffff00\">and</span> <span style=\"color: #000000; text-decoration-color: #000000; background-color: #ffff00\">of</span> <span style=\"color: #000000; text-decoration-color: #000000; background-color: #ffff00\">Ethias</span> &amp; NRB <span style=\"color: #000000; text-decoration-color: #000000; background-color: #ffff00\">in</span> \n",
       "<span style=\"color: #000000; text-decoration-color: #000000; background-color: #ffff00\">specific</span>\n",
       "</pre>\n"
      ],
      "text/plain": [
       "\u001b[30;48;2;255;255;0mDeloitte\u001b[0m team has an \u001b[30;48;2;255;255;0min\u001b[0m depth \u001b[30;48;2;255;255;0mknowledge\u001b[0m \u001b[30;48;2;255;255;0mof\u001b[0m \u001b[30;48;2;255;255;0mBE\u001b[0m \u001b[30;48;2;255;255;0minsurance\u001b[0m \u001b[30;48;2;255;255;0msector\u001b[0m \u001b[30;48;2;255;255;0mand\u001b[0m \u001b[30;48;2;255;255;0mof\u001b[0m \u001b[30;48;2;255;255;0mEthias\u001b[0m & NRB \u001b[30;48;2;255;255;0min\u001b[0m \n",
       "\u001b[30;48;2;255;255;0mspecific\u001b[0m\n"
      ]
     },
     "metadata": {},
     "output_type": "display_data"
    },
    {
     "name": "stdout",
     "output_type": "stream",
     "text": [
      "[('insurance', 0.4218), ('sector', 0.3151), ('ethias', 0.2628), ('deloitte', 0.2581), ('knowledge', 0.2502), ('specific', 0.1857), ('in', 0.1616), ('be', 0.1402), ('and', 0.1278), ('of', 0.1174)]\n"
     ]
    },
    {
     "data": {
      "text/html": [
       "<pre style=\"white-space:pre;overflow-x:auto;line-height:normal;font-family:Menlo,'DejaVu Sans Mono',consolas,'Courier New',monospace\"><span style=\"color: #000000; text-decoration-color: #000000; background-color: #ffff00\">cfr</span> <span style=\"color: #000000; text-decoration-color: #000000; background-color: #ffff00\">remarks</span> <span style=\"color: #000000; text-decoration-color: #000000; background-color: #ffff00\">done</span> <span style=\"color: #000000; text-decoration-color: #000000; background-color: #ffff00\">on</span> <span style=\"color: #000000; text-decoration-color: #000000; background-color: #ffff00\">question</span> 2.\n",
       "</pre>\n"
      ],
      "text/plain": [
       "\u001b[30;48;2;255;255;0mcfr\u001b[0m \u001b[30;48;2;255;255;0mremarks\u001b[0m \u001b[30;48;2;255;255;0mdone\u001b[0m \u001b[30;48;2;255;255;0mon\u001b[0m \u001b[30;48;2;255;255;0mquestion\u001b[0m 2.\n"
      ]
     },
     "metadata": {},
     "output_type": "display_data"
    },
    {
     "name": "stdout",
     "output_type": "stream",
     "text": [
      "[('remarks', 0.5055), ('cfr', 0.4974), ('question', 0.3178), ('on', 0.2871), ('done', 0.2669)]\n"
     ]
    },
    {
     "data": {
      "text/html": [
       "<pre style=\"white-space:pre;overflow-x:auto;line-height:normal;font-family:Menlo,'DejaVu Sans Mono',consolas,'Courier New',monospace\">Nous <span style=\"color: #000000; text-decoration-color: #000000; background-color: #ffff00\">avons</span> <span style=\"color: #000000; text-decoration-color: #000000; background-color: #ffff00\">apprécié</span> d'avoir pu disctuer avec <span style=\"color: #000000; text-decoration-color: #000000; background-color: #ffff00\">Deloitte</span> le <span style=\"color: #000000; text-decoration-color: #000000; background-color: #ffff00\">retour</span> d'une <span style=\"color: #000000; text-decoration-color: #000000; background-color: #ffff00\">analyste</span> en présentiel \n",
       "<span style=\"color: #000000; text-decoration-color: #000000; background-color: #ffff00\">après</span> le <span style=\"color: #000000; text-decoration-color: #000000; background-color: #ffff00\">confinement</span> (entre mai et décembre 2020) alors même que nous comprenons que la règle\n",
       "pour <span style=\"color: #000000; text-decoration-color: #000000; background-color: #ffff00\">Deloitte</span> <span style=\"color: #000000; text-decoration-color: #000000; background-color: #ffff00\">consistait</span> en du télétravail.\n",
       "</pre>\n"
      ],
      "text/plain": [
       "Nous \u001b[30;48;2;255;255;0mavons\u001b[0m \u001b[30;48;2;255;255;0mapprécié\u001b[0m d'avoir pu disctuer avec \u001b[30;48;2;255;255;0mDeloitte\u001b[0m le \u001b[30;48;2;255;255;0mretour\u001b[0m d'une \u001b[30;48;2;255;255;0manalyste\u001b[0m en présentiel \n",
       "\u001b[30;48;2;255;255;0maprès\u001b[0m le \u001b[30;48;2;255;255;0mconfinement\u001b[0m (entre mai et décembre 2020) alors même que nous comprenons que la règle\n",
       "pour \u001b[30;48;2;255;255;0mDeloitte\u001b[0m \u001b[30;48;2;255;255;0mconsistait\u001b[0m en du télétravail.\n"
      ]
     },
     "metadata": {},
     "output_type": "display_data"
    },
    {
     "name": "stdout",
     "output_type": "stream",
     "text": [
      "[('analyste', 0.2624), ('retour', 0.2489), ('deloitte', 0.2475), ('apprécié', 0.2257), ('télétravail', 0.2235), ('avons', 0.2148), ('entre', 0.2122), ('après', 0.2054), ('consistait', 0.204), ('confinement', 0.2037)]\n"
     ]
    },
    {
     "data": {
      "text/html": [
       "<pre style=\"white-space:pre;overflow-x:auto;line-height:normal;font-family:Menlo,'DejaVu Sans Mono',consolas,'Courier New',monospace\"><span style=\"color: #000000; text-decoration-color: #000000; background-color: #ffff00\">Peu</span> d'expérience <span style=\"color: #000000; text-decoration-color: #000000; background-color: #ffff00\">des</span> <span style=\"color: #000000; text-decoration-color: #000000; background-color: #ffff00\">analystes</span> junior.\n",
       "</pre>\n"
      ],
      "text/plain": [
       "\u001b[30;48;2;255;255;0mPeu\u001b[0m d'expérience \u001b[30;48;2;255;255;0mdes\u001b[0m \u001b[30;48;2;255;255;0manalystes\u001b[0m junior.\n"
      ]
     },
     "metadata": {},
     "output_type": "display_data"
    },
    {
     "name": "stdout",
     "output_type": "stream",
     "text": [
      "[('junior', 0.5503), ('analystes', 0.5406), ('peu', 0.2992), ('expérience', 0.2602), ('des', 0.2188)]\n"
     ]
    },
    {
     "data": {
      "text/html": [
       "<pre style=\"white-space:pre;overflow-x:auto;line-height:normal;font-family:Menlo,'DejaVu Sans Mono',consolas,'Courier New',monospace\">Le démarrage <span style=\"color: #000000; text-decoration-color: #000000; background-color: #ffff00\">difficile</span> en raison de l'inexpérience d'une bonne partie des ressources mises à \n",
       "disposition et <span style=\"color: #000000; text-decoration-color: #000000; background-color: #ffff00\">surtout</span> des nombreux et fréquents <span style=\"color: #000000; text-decoration-color: #000000; background-color: #ffff00\">changements</span> de personnel n'a certainement \n",
       "pas aidé la conduite du projet. Par contre, le <span style=\"color: #000000; text-decoration-color: #000000; background-color: #ffff00\">rôle</span> <span style=\"color: #000000; text-decoration-color: #000000; background-color: #ffff00\">prépondérant</span> joué par Charlotte Boulanger\n",
       "et son <span style=\"color: #000000; text-decoration-color: #000000; background-color: #ffff00\">intervention</span> sur le <span style=\"color: #000000; text-decoration-color: #000000; background-color: #ffff00\">projet</span> jusqu'à son terme aura été décisif. In fine, nous n'avons \n",
       "eu qu'a nous féliciter de son apport.\n",
       "</pre>\n"
      ],
      "text/plain": [
       "Le démarrage \u001b[30;48;2;255;255;0mdifficile\u001b[0m en raison de l'inexpérience d'une bonne partie des ressources mises à \n",
       "disposition et \u001b[30;48;2;255;255;0msurtout\u001b[0m des nombreux et fréquents \u001b[30;48;2;255;255;0mchangements\u001b[0m de personnel n'a certainement \n",
       "pas aidé la conduite du projet. Par contre, le \u001b[30;48;2;255;255;0mrôle\u001b[0m \u001b[30;48;2;255;255;0mprépondérant\u001b[0m joué par Charlotte Boulanger\n",
       "et son \u001b[30;48;2;255;255;0mintervention\u001b[0m sur le \u001b[30;48;2;255;255;0mprojet\u001b[0m jusqu'à son terme aura été décisif. In fine, nous n'avons \n",
       "eu qu'a nous féliciter de son apport.\n"
      ]
     },
     "metadata": {},
     "output_type": "display_data"
    },
    {
     "name": "stdout",
     "output_type": "stream",
     "text": [
      "[('projet', 0.4029), ('inexpérience', 0.3767), ('intervention', 0.3348), ('rôle', 0.3311), ('décisif', 0.3194), ('avons', 0.3093), ('difficile', 0.3048), ('prépondérant', 0.2935), ('changements', 0.2889), ('surtout', 0.2721)]\n"
     ]
    },
    {
     "data": {
      "text/html": [
       "<pre style=\"white-space:pre;overflow-x:auto;line-height:normal;font-family:Menlo,'DejaVu Sans Mono',consolas,'Courier New',monospace\">Turn-over <span style=\"color: #000000; text-decoration-color: #000000; background-color: #ffff00\">important</span> <span style=\"color: #000000; text-decoration-color: #000000; background-color: #ffff00\">concernant</span> les <span style=\"color: #000000; text-decoration-color: #000000; background-color: #ffff00\">analystes</span> <span style=\"color: #000000; text-decoration-color: #000000; background-color: #ffff00\">junior</span> (5 <span style=\"color: #000000; text-decoration-color: #000000; background-color: #ffff00\">ont</span> <span style=\"color: #000000; text-decoration-color: #000000; background-color: #ffff00\">travaillé</span> <span style=\"color: #000000; text-decoration-color: #000000; background-color: #ffff00\">sur</span> le projet).\n",
       "</pre>\n"
      ],
      "text/plain": [
       "Turn-over \u001b[30;48;2;255;255;0mimportant\u001b[0m \u001b[30;48;2;255;255;0mconcernant\u001b[0m les \u001b[30;48;2;255;255;0manalystes\u001b[0m \u001b[30;48;2;255;255;0mjunior\u001b[0m (5 \u001b[30;48;2;255;255;0mont\u001b[0m \u001b[30;48;2;255;255;0mtravaillé\u001b[0m \u001b[30;48;2;255;255;0msur\u001b[0m le projet).\n"
      ]
     },
     "metadata": {},
     "output_type": "display_data"
    },
    {
     "name": "stdout",
     "output_type": "stream",
     "text": [
      "[('analystes', 0.5217), ('junior', 0.3951), ('projet', 0.3389), ('turn', 0.2938), ('important', 0.24), ('over', 0.2164), ('travaillé', 0.2155), ('concernant', 0.211), ('ont', 0.1849), ('sur', 0.152)]\n"
     ]
    },
    {
     "data": {
      "text/html": [
       "<pre style=\"white-space:pre;overflow-x:auto;line-height:normal;font-family:Menlo,'DejaVu Sans Mono',consolas,'Courier New',monospace\">The <span style=\"color: #000000; text-decoration-color: #000000; background-color: #ffff00\">project</span> was delivered as it should, however we are <span style=\"color: #000000; text-decoration-color: #000000; background-color: #ffff00\">convinced</span> we do not <span style=\"color: #000000; text-decoration-color: #000000; background-color: #ffff00\">choose</span> the \n",
       "<span style=\"color: #000000; text-decoration-color: #000000; background-color: #ffff00\">cheapest</span> <span style=\"color: #000000; text-decoration-color: #000000; background-color: #ffff00\">option</span> on the market. <span style=\"color: #000000; text-decoration-color: #000000; background-color: #ffff00\">Conceptually</span> and process-wise, <span style=\"color: #000000; text-decoration-color: #000000; background-color: #ffff00\">Deloitte</span> is really <span style=\"color: #000000; text-decoration-color: #000000; background-color: #ffff00\">strong</span> \n",
       "though.\n",
       "</pre>\n"
      ],
      "text/plain": [
       "The \u001b[30;48;2;255;255;0mproject\u001b[0m was delivered as it should, however we are \u001b[30;48;2;255;255;0mconvinced\u001b[0m we do not \u001b[30;48;2;255;255;0mchoose\u001b[0m the \n",
       "\u001b[30;48;2;255;255;0mcheapest\u001b[0m \u001b[30;48;2;255;255;0moption\u001b[0m on the market. \u001b[30;48;2;255;255;0mConceptually\u001b[0m and process-wise, \u001b[30;48;2;255;255;0mDeloitte\u001b[0m is really \u001b[30;48;2;255;255;0mstrong\u001b[0m \n",
       "though.\n"
      ]
     },
     "metadata": {},
     "output_type": "display_data"
    },
    {
     "name": "stdout",
     "output_type": "stream",
     "text": [
      "[('project', 0.3127), ('deloitte', 0.2983), ('choose', 0.2806), ('convinced', 0.2782), ('conceptually', 0.2772), ('cheapest', 0.2469), ('should', 0.2362), ('market', 0.2217), ('option', 0.2207), ('strong', 0.21)]\n"
     ]
    },
    {
     "data": {
      "text/html": [
       "<pre style=\"white-space:pre;overflow-x:auto;line-height:normal;font-family:Menlo,'DejaVu Sans Mono',consolas,'Courier New',monospace\">A <span style=\"color: #000000; text-decoration-color: #000000; background-color: #ffff00\">new</span> <span style=\"color: #000000; text-decoration-color: #000000; background-color: #ffff00\">normal</span> <span style=\"color: #000000; text-decoration-color: #000000; background-color: #ffff00\">for</span> <span style=\"color: #000000; text-decoration-color: #000000; background-color: #ffff00\">everyone</span> <span style=\"color: #000000; text-decoration-color: #000000; background-color: #ffff00\">and</span> <span style=\"color: #000000; text-decoration-color: #000000; background-color: #ffff00\">Deloitte</span> <span style=\"color: #000000; text-decoration-color: #000000; background-color: #ffff00\">did</span> <span style=\"color: #000000; text-decoration-color: #000000; background-color: #ffff00\">really</span> well.\n",
       "</pre>\n"
      ],
      "text/plain": [
       "A \u001b[30;48;2;255;255;0mnew\u001b[0m \u001b[30;48;2;255;255;0mnormal\u001b[0m \u001b[30;48;2;255;255;0mfor\u001b[0m \u001b[30;48;2;255;255;0meveryone\u001b[0m \u001b[30;48;2;255;255;0mand\u001b[0m \u001b[30;48;2;255;255;0mDeloitte\u001b[0m \u001b[30;48;2;255;255;0mdid\u001b[0m \u001b[30;48;2;255;255;0mreally\u001b[0m well.\n"
      ]
     },
     "metadata": {},
     "output_type": "display_data"
    },
    {
     "name": "stdout",
     "output_type": "stream",
     "text": [
      "[('normal', 0.2958), ('new', 0.2946), ('everyone', 0.2624), ('well', 0.2319), ('deloitte', 0.2116), ('did', 0.1772), ('for', 0.1549), ('and', 0.0776), ('really', 0.0477)]\n"
     ]
    },
    {
     "data": {
      "text/html": [
       "<pre style=\"white-space:pre;overflow-x:auto;line-height:normal;font-family:Menlo,'DejaVu Sans Mono',consolas,'Courier New',monospace\">Yes, <span style=\"color: #000000; text-decoration-color: #000000; background-color: #ffff00\">without</span> doubt.\n",
       "</pre>\n"
      ],
      "text/plain": [
       "Yes, \u001b[30;48;2;255;255;0mwithout\u001b[0m doubt.\n"
      ]
     },
     "metadata": {},
     "output_type": "display_data"
    },
    {
     "name": "stdout",
     "output_type": "stream",
     "text": [
      "[('yes', 0.7852), ('doubt', 0.4201), ('without', 0.2749)]\n"
     ]
    },
    {
     "data": {
      "text/html": [
       "<pre style=\"white-space:pre;overflow-x:auto;line-height:normal;font-family:Menlo,'DejaVu Sans Mono',consolas,'Courier New',monospace\"><span style=\"color: #000000; text-decoration-color: #000000; background-color: #ffff00\">Collaboration</span> was really <span style=\"color: #000000; text-decoration-color: #000000; background-color: #ffff00\">good</span> <span style=\"color: #000000; text-decoration-color: #000000; background-color: #ffff00\">at</span> <span style=\"color: #000000; text-decoration-color: #000000; background-color: #ffff00\">all</span> levels, but scope/budget <span style=\"color: #000000; text-decoration-color: #000000; background-color: #ffff00\">discussions</span> were <span style=\"color: #000000; text-decoration-color: #000000; background-color: #ffff00\">distracting</span> <span style=\"color: #000000; text-decoration-color: #000000; background-color: #ffff00\">at</span>\n",
       "times.\n",
       "</pre>\n"
      ],
      "text/plain": [
       "\u001b[30;48;2;255;255;0mCollaboration\u001b[0m was really \u001b[30;48;2;255;255;0mgood\u001b[0m \u001b[30;48;2;255;255;0mat\u001b[0m \u001b[30;48;2;255;255;0mall\u001b[0m levels, but scope/budget \u001b[30;48;2;255;255;0mdiscussions\u001b[0m were \u001b[30;48;2;255;255;0mdistracting\u001b[0m \u001b[30;48;2;255;255;0mat\u001b[0m\n",
       "times.\n"
      ]
     },
     "metadata": {},
     "output_type": "display_data"
    },
    {
     "name": "stdout",
     "output_type": "stream",
     "text": [
      "[('collaboration', 0.5095), ('discussions', 0.3766), ('distracting', 0.3152), ('budget', 0.2889), ('scope', 0.1735), ('levels', 0.1441), ('all', 0.1404), ('good', 0.1134), ('at', 0.1004), ('times', 0.0988)]\n"
     ]
    },
    {
     "data": {
      "text/html": [
       "<pre style=\"white-space:pre;overflow-x:auto;line-height:normal;font-family:Menlo,'DejaVu Sans Mono',consolas,'Courier New',monospace\"><span style=\"color: #000000; text-decoration-color: #000000; background-color: #ffff00\">Active</span> communication, but <span style=\"color: #000000; text-decoration-color: #000000; background-color: #ffff00\">some</span> <span style=\"color: #000000; text-decoration-color: #000000; background-color: #ffff00\">more</span> presence/attendance in <span style=\"color: #000000; text-decoration-color: #000000; background-color: #ffff00\">meetings</span> <span style=\"color: #000000; text-decoration-color: #000000; background-color: #ffff00\">could</span> be expected <span style=\"color: #000000; text-decoration-color: #000000; background-color: #ffff00\">at</span> \n",
       "times.\n",
       "</pre>\n"
      ],
      "text/plain": [
       "\u001b[30;48;2;255;255;0mActive\u001b[0m communication, but \u001b[30;48;2;255;255;0msome\u001b[0m \u001b[30;48;2;255;255;0mmore\u001b[0m presence/attendance in \u001b[30;48;2;255;255;0mmeetings\u001b[0m \u001b[30;48;2;255;255;0mcould\u001b[0m be expected \u001b[30;48;2;255;255;0mat\u001b[0m \n",
       "times.\n"
      ]
     },
     "metadata": {},
     "output_type": "display_data"
    },
    {
     "name": "stdout",
     "output_type": "stream",
     "text": [
      "[('meetings', 0.611), ('communication', 0.4917), ('presence', 0.3709), ('attendance', 0.3652), ('active', 0.3307), ('more', 0.3105), ('some', 0.2289), ('at', 0.2149), ('times', 0.2079), ('could', 0.2065)]\n"
     ]
    },
    {
     "data": {
      "text/html": [
       "<pre style=\"white-space:pre;overflow-x:auto;line-height:normal;font-family:Menlo,'DejaVu Sans Mono',consolas,'Courier New',monospace\"><span style=\"color: #000000; text-decoration-color: #000000; background-color: #ffff00\">Go</span> <span style=\"color: #000000; text-decoration-color: #000000; background-color: #ffff00\">quicker</span> in <span style=\"color: #000000; text-decoration-color: #000000; background-color: #ffff00\">daily</span> <span style=\"color: #000000; text-decoration-color: #000000; background-color: #ffff00\">standup</span> mode, even <span style=\"color: #000000; text-decoration-color: #000000; background-color: #ffff00\">during</span> <span style=\"color: #000000; text-decoration-color: #000000; background-color: #ffff00\">process</span> design. I <span style=\"color: #000000; text-decoration-color: #000000; background-color: #ffff00\">takes</span> only 15 min a day, but \n",
       "<span style=\"color: #000000; text-decoration-color: #000000; background-color: #ffff00\">keeps</span> the <span style=\"color: #000000; text-decoration-color: #000000; background-color: #ffff00\">team</span> together.\n",
       "</pre>\n"
      ],
      "text/plain": [
       "\u001b[30;48;2;255;255;0mGo\u001b[0m \u001b[30;48;2;255;255;0mquicker\u001b[0m in \u001b[30;48;2;255;255;0mdaily\u001b[0m \u001b[30;48;2;255;255;0mstandup\u001b[0m mode, even \u001b[30;48;2;255;255;0mduring\u001b[0m \u001b[30;48;2;255;255;0mprocess\u001b[0m design. I \u001b[30;48;2;255;255;0mtakes\u001b[0m only 15 min a day, but \n",
       "\u001b[30;48;2;255;255;0mkeeps\u001b[0m the \u001b[30;48;2;255;255;0mteam\u001b[0m together.\n"
      ]
     },
     "metadata": {},
     "output_type": "display_data"
    },
    {
     "name": "stdout",
     "output_type": "stream",
     "text": [
      "[('quicker', 0.5126), ('standup', 0.4701), ('team', 0.3413), ('takes', 0.2993), ('keeps', 0.2738), ('process', 0.2563), ('daily', 0.2341), ('go', 0.2191), ('during', 0.1866), ('mode', 0.1769)]\n"
     ]
    },
    {
     "data": {
      "text/html": [
       "<pre style=\"white-space:pre;overflow-x:auto;line-height:normal;font-family:Menlo,'DejaVu Sans Mono',consolas,'Courier New',monospace\"><span style=\"color: #000000; text-decoration-color: #000000; background-color: #ffff00\">Collaboration</span> was really <span style=\"color: #000000; text-decoration-color: #000000; background-color: #ffff00\">good</span> at <span style=\"color: #000000; text-decoration-color: #000000; background-color: #ffff00\">all</span> levels, but I <span style=\"color: #000000; text-decoration-color: #000000; background-color: #ffff00\">think</span> <span style=\"color: #000000; text-decoration-color: #000000; background-color: #ffff00\">we</span> <span style=\"color: #000000; text-decoration-color: #000000; background-color: #ffff00\">could</span> have <span style=\"color: #000000; text-decoration-color: #000000; background-color: #ffff00\">worked</span> <span style=\"color: #000000; text-decoration-color: #000000; background-color: #ffff00\">more</span> as <span style=\"color: #000000; text-decoration-color: #000000; background-color: #ffff00\">one</span> \n",
       "team.\n",
       "</pre>\n"
      ],
      "text/plain": [
       "\u001b[30;48;2;255;255;0mCollaboration\u001b[0m was really \u001b[30;48;2;255;255;0mgood\u001b[0m at \u001b[30;48;2;255;255;0mall\u001b[0m levels, but I \u001b[30;48;2;255;255;0mthink\u001b[0m \u001b[30;48;2;255;255;0mwe\u001b[0m \u001b[30;48;2;255;255;0mcould\u001b[0m have \u001b[30;48;2;255;255;0mworked\u001b[0m \u001b[30;48;2;255;255;0mmore\u001b[0m as \u001b[30;48;2;255;255;0mone\u001b[0m \n",
       "team.\n"
      ]
     },
     "metadata": {},
     "output_type": "display_data"
    },
    {
     "name": "stdout",
     "output_type": "stream",
     "text": [
      "[('collaboration', 0.5465), ('team', 0.4473), ('we', 0.2647), ('all', 0.1923), ('good', 0.1921), ('worked', 0.1694), ('think', 0.164), ('one', 0.1547), ('could', 0.1118), ('more', 0.1027)]\n"
     ]
    },
    {
     "data": {
      "text/html": [
       "<pre style=\"white-space:pre;overflow-x:auto;line-height:normal;font-family:Menlo,'DejaVu Sans Mono',consolas,'Courier New',monospace\"><span style=\"color: #000000; text-decoration-color: #000000; background-color: #ffff00\">Collaboration</span> <span style=\"color: #000000; text-decoration-color: #000000; background-color: #ffff00\">was</span> enjoyable. Scope/budget <span style=\"color: #000000; text-decoration-color: #000000; background-color: #ffff00\">discussions</span> <span style=\"color: #000000; text-decoration-color: #000000; background-color: #ffff00\">were</span> a bit <span style=\"color: #000000; text-decoration-color: #000000; background-color: #ffff00\">annoying</span> <span style=\"color: #000000; text-decoration-color: #000000; background-color: #ffff00\">at</span> times.\n",
       "</pre>\n"
      ],
      "text/plain": [
       "\u001b[30;48;2;255;255;0mCollaboration\u001b[0m \u001b[30;48;2;255;255;0mwas\u001b[0m enjoyable. Scope/budget \u001b[30;48;2;255;255;0mdiscussions\u001b[0m \u001b[30;48;2;255;255;0mwere\u001b[0m a bit \u001b[30;48;2;255;255;0mannoying\u001b[0m \u001b[30;48;2;255;255;0mat\u001b[0m times.\n"
      ]
     },
     "metadata": {},
     "output_type": "display_data"
    },
    {
     "name": "stdout",
     "output_type": "stream",
     "text": [
      "[('collaboration', 0.4828), ('discussions', 0.438), ('budget', 0.3609), ('annoying', 0.3102), ('enjoyable', 0.2423), ('were', 0.1888), ('times', 0.1594), ('was', 0.1296), ('at', 0.1139), ('scope', 0.1128)]\n"
     ]
    },
    {
     "data": {
      "text/html": [
       "<pre style=\"white-space:pre;overflow-x:auto;line-height:normal;font-family:Menlo,'DejaVu Sans Mono',consolas,'Courier New',monospace\"><span style=\"color: #000000; text-decoration-color: #000000; background-color: #ffff00\">Very</span> <span style=\"color: #000000; text-decoration-color: #000000; background-color: #ffff00\">good</span> <span style=\"color: #000000; text-decoration-color: #000000; background-color: #ffff00\">understanding</span> <span style=\"color: #000000; text-decoration-color: #000000; background-color: #ffff00\">of</span> <span style=\"color: #000000; text-decoration-color: #000000; background-color: #ffff00\">our</span> <span style=\"color: #000000; text-decoration-color: #000000; background-color: #ffff00\">BtoB</span> context.\n",
       "</pre>\n"
      ],
      "text/plain": [
       "\u001b[30;48;2;255;255;0mVery\u001b[0m \u001b[30;48;2;255;255;0mgood\u001b[0m \u001b[30;48;2;255;255;0munderstanding\u001b[0m \u001b[30;48;2;255;255;0mof\u001b[0m \u001b[30;48;2;255;255;0mour\u001b[0m \u001b[30;48;2;255;255;0mBtoB\u001b[0m context.\n"
      ]
     },
     "metadata": {},
     "output_type": "display_data"
    },
    {
     "name": "stdout",
     "output_type": "stream",
     "text": [
      "[('btob', 0.619), ('context', 0.3991), ('understanding', 0.3757), ('good', 0.3106), ('our', 0.2186), ('of', 0.2144), ('very', 0.2054)]\n"
     ]
    },
    {
     "data": {
      "text/html": [
       "<pre style=\"white-space:pre;overflow-x:auto;line-height:normal;font-family:Menlo,'DejaVu Sans Mono',consolas,'Courier New',monospace\"><span style=\"color: #000000; text-decoration-color: #000000; background-color: #ffff00\">Outcome</span> of the <span style=\"color: #000000; text-decoration-color: #000000; background-color: #ffff00\">Process</span> &amp; <span style=\"color: #000000; text-decoration-color: #000000; background-color: #ffff00\">Design</span> was as promised. Also <span style=\"color: #000000; text-decoration-color: #000000; background-color: #ffff00\">Discovery</span> <span style=\"color: #000000; text-decoration-color: #000000; background-color: #ffff00\">phase</span> <span style=\"color: #000000; text-decoration-color: #000000; background-color: #ffff00\">result</span> was \n",
       "satisfactory, but some <span style=\"color: #000000; text-decoration-color: #000000; background-color: #ffff00\">scope</span> <span style=\"color: #000000; text-decoration-color: #000000; background-color: #ffff00\">escalations</span> were needed here.\n",
       "</pre>\n"
      ],
      "text/plain": [
       "\u001b[30;48;2;255;255;0mOutcome\u001b[0m of the \u001b[30;48;2;255;255;0mProcess\u001b[0m & \u001b[30;48;2;255;255;0mDesign\u001b[0m was as promised. Also \u001b[30;48;2;255;255;0mDiscovery\u001b[0m \u001b[30;48;2;255;255;0mphase\u001b[0m \u001b[30;48;2;255;255;0mresult\u001b[0m was \n",
       "satisfactory, but some \u001b[30;48;2;255;255;0mscope\u001b[0m \u001b[30;48;2;255;255;0mescalations\u001b[0m were needed here.\n"
      ]
     },
     "metadata": {},
     "output_type": "display_data"
    },
    {
     "name": "stdout",
     "output_type": "stream",
     "text": [
      "[('discovery', 0.4143), ('satisfactory', 0.4088), ('escalations', 0.3964), ('outcome', 0.3945), ('result', 0.3862), ('process', 0.343), ('phase', 0.3205), ('promised', 0.2878), ('design', 0.2351), ('scope', 0.2165)]\n"
     ]
    },
    {
     "data": {
      "text/html": [
       "<pre style=\"white-space:pre;overflow-x:auto;line-height:normal;font-family:Menlo,'DejaVu Sans Mono',consolas,'Courier New',monospace\"><span style=\"color: #000000; text-decoration-color: #000000; background-color: #ffff00\">Chosen</span> <span style=\"color: #000000; text-decoration-color: #000000; background-color: #ffff00\">solutions</span> <span style=\"color: #000000; text-decoration-color: #000000; background-color: #ffff00\">were</span> <span style=\"color: #000000; text-decoration-color: #000000; background-color: #ffff00\">mostly</span> <span style=\"color: #000000; text-decoration-color: #000000; background-color: #ffff00\">off</span> the <span style=\"color: #000000; text-decoration-color: #000000; background-color: #ffff00\">shelve</span> (as required), so creativity/innovation was \n",
       "limited.\n",
       "</pre>\n"
      ],
      "text/plain": [
       "\u001b[30;48;2;255;255;0mChosen\u001b[0m \u001b[30;48;2;255;255;0msolutions\u001b[0m \u001b[30;48;2;255;255;0mwere\u001b[0m \u001b[30;48;2;255;255;0mmostly\u001b[0m \u001b[30;48;2;255;255;0moff\u001b[0m the \u001b[30;48;2;255;255;0mshelve\u001b[0m (as required), so creativity/innovation was \n",
       "limited.\n"
      ]
     },
     "metadata": {},
     "output_type": "display_data"
    },
    {
     "name": "stdout",
     "output_type": "stream",
     "text": [
      "[('innovation', 0.3859), ('creativity', 0.3544), ('limited', 0.2995), ('solutions', 0.1609), ('chosen', 0.1581), ('required', 0.1063), ('off', 0.0791), ('mostly', 0.0752), ('shelve', 0.0692), ('were', 0.0548)]\n"
     ]
    },
    {
     "data": {
      "text/html": [
       "<pre style=\"white-space:pre;overflow-x:auto;line-height:normal;font-family:Menlo,'DejaVu Sans Mono',consolas,'Courier New',monospace\"><span style=\"color: #000000; text-decoration-color: #000000; background-color: #ffff00\">No</span> <span style=\"color: #000000; text-decoration-color: #000000; background-color: #ffff00\">doubts</span> <span style=\"color: #000000; text-decoration-color: #000000; background-color: #ffff00\">about</span> <span style=\"color: #000000; text-decoration-color: #000000; background-color: #ffff00\">the</span> <span style=\"color: #000000; text-decoration-color: #000000; background-color: #ffff00\">delivered</span> processes.\n",
       "</pre>\n"
      ],
      "text/plain": [
       "\u001b[30;48;2;255;255;0mNo\u001b[0m \u001b[30;48;2;255;255;0mdoubts\u001b[0m \u001b[30;48;2;255;255;0mabout\u001b[0m \u001b[30;48;2;255;255;0mthe\u001b[0m \u001b[30;48;2;255;255;0mdelivered\u001b[0m processes.\n"
      ]
     },
     "metadata": {},
     "output_type": "display_data"
    },
    {
     "name": "stdout",
     "output_type": "stream",
     "text": [
      "[('processes', 0.4464), ('delivered', 0.3783), ('the', 0.1522), ('about', 0.1325), ('doubts', 0.1221), ('no', 0.0121)]\n"
     ]
    },
    {
     "data": {
      "text/html": [
       "<pre style=\"white-space:pre;overflow-x:auto;line-height:normal;font-family:Menlo,'DejaVu Sans Mono',consolas,'Courier New',monospace\"><span style=\"color: #000000; text-decoration-color: #000000; background-color: #ffff00\">Just</span> <span style=\"color: #000000; text-decoration-color: #000000; background-color: #ffff00\">have</span> <span style=\"color: #000000; text-decoration-color: #000000; background-color: #ffff00\">some</span> <span style=\"color: #000000; text-decoration-color: #000000; background-color: #ffff00\">meetings</span> <span style=\"color: #000000; text-decoration-color: #000000; background-color: #ffff00\">together</span> <span style=\"color: #000000; text-decoration-color: #000000; background-color: #ffff00\">in</span> <span style=\"color: #000000; text-decoration-color: #000000; background-color: #ffff00\">stead</span> <span style=\"color: #000000; text-decoration-color: #000000; background-color: #ffff00\">of</span> videocall.\n",
       "</pre>\n"
      ],
      "text/plain": [
       "\u001b[30;48;2;255;255;0mJust\u001b[0m \u001b[30;48;2;255;255;0mhave\u001b[0m \u001b[30;48;2;255;255;0msome\u001b[0m \u001b[30;48;2;255;255;0mmeetings\u001b[0m \u001b[30;48;2;255;255;0mtogether\u001b[0m \u001b[30;48;2;255;255;0min\u001b[0m \u001b[30;48;2;255;255;0mstead\u001b[0m \u001b[30;48;2;255;255;0mof\u001b[0m videocall.\n"
      ]
     },
     "metadata": {},
     "output_type": "display_data"
    },
    {
     "name": "stdout",
     "output_type": "stream",
     "text": [
      "[('videocall', 0.5647), ('meetings', 0.5243), ('together', 0.3154), ('some', 0.3099), ('just', 0.2725), ('have', 0.2229), ('in', 0.1592), ('of', 0.148), ('stead', 0.062)]\n"
     ]
    },
    {
     "data": {
      "text/html": [
       "<pre style=\"white-space:pre;overflow-x:auto;line-height:normal;font-family:Menlo,'DejaVu Sans Mono',consolas,'Courier New',monospace\"><span style=\"color: #000000; text-decoration-color: #000000; background-color: #ffff00\">The</span> <span style=\"color: #000000; text-decoration-color: #000000; background-color: #ffff00\">virtual</span> <span style=\"color: #000000; text-decoration-color: #000000; background-color: #ffff00\">work</span> <span style=\"color: #000000; text-decoration-color: #000000; background-color: #ffff00\">is</span> <span style=\"color: #000000; text-decoration-color: #000000; background-color: #ffff00\">fine</span> <span style=\"color: #000000; text-decoration-color: #000000; background-color: #ffff00\">also</span> <span style=\"color: #000000; text-decoration-color: #000000; background-color: #ffff00\">for</span> <span style=\"color: #000000; text-decoration-color: #000000; background-color: #ffff00\">the</span> <span style=\"color: #000000; text-decoration-color: #000000; background-color: #ffff00\">new</span> <span style=\"color: #000000; text-decoration-color: #000000; background-color: #ffff00\">normal</span>\n",
       "</pre>\n"
      ],
      "text/plain": [
       "\u001b[30;48;2;255;255;0mThe\u001b[0m \u001b[30;48;2;255;255;0mvirtual\u001b[0m \u001b[30;48;2;255;255;0mwork\u001b[0m \u001b[30;48;2;255;255;0mis\u001b[0m \u001b[30;48;2;255;255;0mfine\u001b[0m \u001b[30;48;2;255;255;0malso\u001b[0m \u001b[30;48;2;255;255;0mfor\u001b[0m \u001b[30;48;2;255;255;0mthe\u001b[0m \u001b[30;48;2;255;255;0mnew\u001b[0m \u001b[30;48;2;255;255;0mnormal\u001b[0m\n"
      ]
     },
     "metadata": {},
     "output_type": "display_data"
    },
    {
     "name": "stdout",
     "output_type": "stream",
     "text": [
      "[('virtual', 0.6227), ('work', 0.3943), ('fine', 0.3334), ('normal', 0.2989), ('new', 0.2606), ('for', 0.2002), ('also', 0.1857), ('is', 0.1213), ('the', 0.1133)]\n"
     ]
    },
    {
     "data": {
      "text/html": [
       "<pre style=\"white-space:pre;overflow-x:auto;line-height:normal;font-family:Menlo,'DejaVu Sans Mono',consolas,'Courier New',monospace\"><span style=\"color: #000000; text-decoration-color: #000000; background-color: #ffff00\">Having</span> <span style=\"color: #000000; text-decoration-color: #000000; background-color: #ffff00\">more</span> <span style=\"color: #000000; text-decoration-color: #000000; background-color: #ffff00\">F2f</span> <span style=\"color: #000000; text-decoration-color: #000000; background-color: #ffff00\">Meetings</span>\n",
       "</pre>\n"
      ],
      "text/plain": [
       "\u001b[30;48;2;255;255;0mHaving\u001b[0m \u001b[30;48;2;255;255;0mmore\u001b[0m \u001b[30;48;2;255;255;0mF2f\u001b[0m \u001b[30;48;2;255;255;0mMeetings\u001b[0m\n"
      ]
     },
     "metadata": {},
     "output_type": "display_data"
    },
    {
     "name": "stdout",
     "output_type": "stream",
     "text": [
      "[('meetings', 0.6195), ('f2f', 0.619), ('more', 0.3636), ('having', 0.1973)]\n"
     ]
    },
    {
     "data": {
      "text/html": [
       "<pre style=\"white-space:pre;overflow-x:auto;line-height:normal;font-family:Menlo,'DejaVu Sans Mono',consolas,'Courier New',monospace\"><span style=\"color: #000000; text-decoration-color: #000000; background-color: #ffff00\">Nous</span> <span style=\"color: #000000; text-decoration-color: #000000; background-color: #ffff00\">avons</span> beaucoup apprécié l'expertise apportée par l'équipe <span style=\"color: #000000; text-decoration-color: #000000; background-color: #ffff00\">Deloitte</span> dans le <span style=\"color: #000000; text-decoration-color: #000000; background-color: #ffff00\">cadre</span> de ce \n",
       "projet. Il était <span style=\"color: #000000; text-decoration-color: #000000; background-color: #ffff00\">clé</span> pour <span style=\"color: #000000; text-decoration-color: #000000; background-color: #ffff00\">nous</span> d'avoir des <span style=\"color: #000000; text-decoration-color: #000000; background-color: #ffff00\">spécialistes</span> UI/UX pour <span style=\"color: #000000; text-decoration-color: #000000; background-color: #ffff00\">nous</span> apporter cette \n",
       "<span style=\"color: #000000; text-decoration-color: #000000; background-color: #ffff00\">compétence</span> et l'objectif a été atteint.\n",
       "</pre>\n"
      ],
      "text/plain": [
       "\u001b[30;48;2;255;255;0mNous\u001b[0m \u001b[30;48;2;255;255;0mavons\u001b[0m beaucoup apprécié l'expertise apportée par l'équipe \u001b[30;48;2;255;255;0mDeloitte\u001b[0m dans le \u001b[30;48;2;255;255;0mcadre\u001b[0m de ce \n",
       "projet. Il était \u001b[30;48;2;255;255;0mclé\u001b[0m pour \u001b[30;48;2;255;255;0mnous\u001b[0m d'avoir des \u001b[30;48;2;255;255;0mspécialistes\u001b[0m UI/UX pour \u001b[30;48;2;255;255;0mnous\u001b[0m apporter cette \n",
       "\u001b[30;48;2;255;255;0mcompétence\u001b[0m et l'objectif a été atteint.\n"
      ]
     },
     "metadata": {},
     "output_type": "display_data"
    },
    {
     "name": "stdout",
     "output_type": "stream",
     "text": [
      "[('expertise', 0.4823), ('spécialistes', 0.419), ('projet', 0.3528), ('compétence', 0.2979), ('objectif', 0.269), ('deloitte', 0.2574), ('cadre', 0.2326), ('avons', 0.2029), ('nous', 0.1995), ('clé', 0.1965)]\n"
     ]
    },
    {
     "data": {
      "text/html": [
       "<pre style=\"white-space:pre;overflow-x:auto;line-height:normal;font-family:Menlo,'DejaVu Sans Mono',consolas,'Courier New',monospace\">Nous avons beaucoup apprécié l'expertise apportée par l'équipe <span style=\"color: #000000; text-decoration-color: #000000; background-color: #ffff00\">Deloitte</span> dans le cadre de ce \n",
       "projet. Il était <span style=\"color: #000000; text-decoration-color: #000000; background-color: #ffff00\">clé</span> pour nous d'avoir des <span style=\"color: #000000; text-decoration-color: #000000; background-color: #ffff00\">spécialistes</span> UI/UX pour nous apporter cette \n",
       "<span style=\"color: #000000; text-decoration-color: #000000; background-color: #ffff00\">compétence</span> et l'objectif a été atteint. Seul hic est qu'elle a utilisé des <span style=\"color: #000000; text-decoration-color: #000000; background-color: #ffff00\">outils</span> compatible \n",
       "<span style=\"color: #000000; text-decoration-color: #000000; background-color: #ffff00\">Mac</span> uniquement et nous sommes sur PC.\n",
       "</pre>\n"
      ],
      "text/plain": [
       "Nous avons beaucoup apprécié l'expertise apportée par l'équipe \u001b[30;48;2;255;255;0mDeloitte\u001b[0m dans le cadre de ce \n",
       "projet. Il était \u001b[30;48;2;255;255;0mclé\u001b[0m pour nous d'avoir des \u001b[30;48;2;255;255;0mspécialistes\u001b[0m UI/UX pour nous apporter cette \n",
       "\u001b[30;48;2;255;255;0mcompétence\u001b[0m et l'objectif a été atteint. Seul hic est qu'elle a utilisé des \u001b[30;48;2;255;255;0moutils\u001b[0m compatible \n",
       "\u001b[30;48;2;255;255;0mMac\u001b[0m uniquement et nous sommes sur PC.\n"
      ]
     },
     "metadata": {},
     "output_type": "display_data"
    },
    {
     "name": "stdout",
     "output_type": "stream",
     "text": [
      "[('expertise', 0.4423), ('outils', 0.4064), ('spécialistes', 0.3915), ('mac', 0.3866), ('pc', 0.318), ('projet', 0.3134), ('compétence', 0.2839), ('clé', 0.2565), ('objectif', 0.2433), ('deloitte', 0.2308)]\n"
     ]
    },
    {
     "data": {
      "text/html": [
       "<pre style=\"white-space:pre;overflow-x:auto;line-height:normal;font-family:Menlo,'DejaVu Sans Mono',consolas,'Courier New',monospace\">normal, bonne <span style=\"color: #000000; text-decoration-color: #000000; background-color: #ffff00\">utilisation</span> de <span style=\"color: #000000; text-decoration-color: #000000; background-color: #ffff00\">Miro</span> <span style=\"color: #000000; text-decoration-color: #000000; background-color: #ffff00\">Board</span> qui a été <span style=\"color: #000000; text-decoration-color: #000000; background-color: #ffff00\">appréciée</span> par les <span style=\"color: #000000; text-decoration-color: #000000; background-color: #ffff00\">participanst</span> aux <span style=\"color: #000000; text-decoration-color: #000000; background-color: #ffff00\">workshop</span>\n",
       "malgré les petits kwack. <span style=\"color: #000000; text-decoration-color: #000000; background-color: #ffff00\">Attention</span> de prendre en compte les <span style=\"color: #000000; text-decoration-color: #000000; background-color: #ffff00\">utilisateurs</span> qui ne sont pas \n",
       "tech-savvy\n",
       "</pre>\n"
      ],
      "text/plain": [
       "normal, bonne \u001b[30;48;2;255;255;0mutilisation\u001b[0m de \u001b[30;48;2;255;255;0mMiro\u001b[0m \u001b[30;48;2;255;255;0mBoard\u001b[0m qui a été \u001b[30;48;2;255;255;0mappréciée\u001b[0m par les \u001b[30;48;2;255;255;0mparticipanst\u001b[0m aux \u001b[30;48;2;255;255;0mworkshop\u001b[0m\n",
       "malgré les petits kwack. \u001b[30;48;2;255;255;0mAttention\u001b[0m de prendre en compte les \u001b[30;48;2;255;255;0mutilisateurs\u001b[0m qui ne sont pas \n",
       "tech-savvy\n"
      ]
     },
     "metadata": {},
     "output_type": "display_data"
    },
    {
     "name": "stdout",
     "output_type": "stream",
     "text": [
      "[('workshop', 0.3783), ('board', 0.3427), ('miro', 0.3239), ('participanst', 0.2967), ('utilisateurs', 0.2894), ('tech', 0.2893), ('savvy', 0.2792), ('attention', 0.2741), ('utilisation', 0.2713), ('appréciée', 0.2638)]\n"
     ]
    },
    {
     "data": {
      "text/html": [
       "<pre style=\"white-space:pre;overflow-x:auto;line-height:normal;font-family:Menlo,'DejaVu Sans Mono',consolas,'Courier New',monospace\"><span style=\"color: #000000; text-decoration-color: #000000; background-color: #ffff00\">pas</span> d'avis\n",
       "</pre>\n"
      ],
      "text/plain": [
       "\u001b[30;48;2;255;255;0mpas\u001b[0m d'avis\n"
      ]
     },
     "metadata": {},
     "output_type": "display_data"
    },
    {
     "name": "stdout",
     "output_type": "stream",
     "text": [
      "[('pas', 0.8179), ('avis', 0.6834)]\n"
     ]
    },
    {
     "data": {
      "text/html": [
       "<pre style=\"white-space:pre;overflow-x:auto;line-height:normal;font-family:Menlo,'DejaVu Sans Mono',consolas,'Courier New',monospace\">l'équipe n'avait <span style=\"color: #000000; text-decoration-color: #000000; background-color: #ffff00\">pas</span> une grade <span style=\"color: #000000; text-decoration-color: #000000; background-color: #ffff00\">connaissance</span> de <span style=\"color: #000000; text-decoration-color: #000000; background-color: #ffff00\">notre</span> <span style=\"color: #000000; text-decoration-color: #000000; background-color: #ffff00\">secteur</span> <span style=\"color: #000000; text-decoration-color: #000000; background-color: #ffff00\">ni</span> des <span style=\"color: #000000; text-decoration-color: #000000; background-color: #ffff00\">produits</span> d'assurance Vie \n",
       "mais ce n'était <span style=\"color: #000000; text-decoration-color: #000000; background-color: #ffff00\">pas</span> demandé.\n",
       "</pre>\n"
      ],
      "text/plain": [
       "l'équipe n'avait \u001b[30;48;2;255;255;0mpas\u001b[0m une grade \u001b[30;48;2;255;255;0mconnaissance\u001b[0m de \u001b[30;48;2;255;255;0mnotre\u001b[0m \u001b[30;48;2;255;255;0msecteur\u001b[0m \u001b[30;48;2;255;255;0mni\u001b[0m des \u001b[30;48;2;255;255;0mproduits\u001b[0m d'assurance Vie \n",
       "mais ce n'était \u001b[30;48;2;255;255;0mpas\u001b[0m demandé.\n"
      ]
     },
     "metadata": {},
     "output_type": "display_data"
    },
    {
     "name": "stdout",
     "output_type": "stream",
     "text": [
      "[('équipe', 0.134), ('assurance', 0.085), ('secteur', 0.0481), ('ni', 0.0458), ('connaissance', 0.0225), ('pas', 0.0053), ('demandé', -0.0222), ('notre', -0.023), ('produits', -0.0518), ('avait', -0.0555)]\n"
     ]
    },
    {
     "data": {
      "text/html": [
       "<pre style=\"white-space:pre;overflow-x:auto;line-height:normal;font-family:Menlo,'DejaVu Sans Mono',consolas,'Courier New',monospace\">Oui, <span style=\"color: #000000; text-decoration-color: #000000; background-color: #ffff00\">beaucoup</span> a <span style=\"color: #000000; text-decoration-color: #000000; background-color: #ffff00\">été</span> livré <span style=\"color: #000000; text-decoration-color: #000000; background-color: #ffff00\">et</span> <span style=\"color: #000000; text-decoration-color: #000000; background-color: #ffff00\">de</span> très <span style=\"color: #000000; text-decoration-color: #000000; background-color: #ffff00\">bonne</span> <span style=\"color: #000000; text-decoration-color: #000000; background-color: #ffff00\">qualité</span> <span style=\"color: #000000; text-decoration-color: #000000; background-color: #ffff00\">en</span> très <span style=\"color: #000000; text-decoration-color: #000000; background-color: #ffff00\">peu</span> <span style=\"color: #000000; text-decoration-color: #000000; background-color: #ffff00\">de</span> <span style=\"color: #000000; text-decoration-color: #000000; background-color: #ffff00\">temps</span> <span style=\"color: #000000; text-decoration-color: #000000; background-color: #ffff00\">et</span> <span style=\"color: #000000; text-decoration-color: #000000; background-color: #ffff00\">budget</span> fixe.\n",
       "</pre>\n"
      ],
      "text/plain": [
       "Oui, \u001b[30;48;2;255;255;0mbeaucoup\u001b[0m a \u001b[30;48;2;255;255;0mété\u001b[0m livré \u001b[30;48;2;255;255;0met\u001b[0m \u001b[30;48;2;255;255;0mde\u001b[0m très \u001b[30;48;2;255;255;0mbonne\u001b[0m \u001b[30;48;2;255;255;0mqualité\u001b[0m \u001b[30;48;2;255;255;0men\u001b[0m très \u001b[30;48;2;255;255;0mpeu\u001b[0m \u001b[30;48;2;255;255;0mde\u001b[0m \u001b[30;48;2;255;255;0mtemps\u001b[0m \u001b[30;48;2;255;255;0met\u001b[0m \u001b[30;48;2;255;255;0mbudget\u001b[0m fixe.\n"
      ]
     },
     "metadata": {},
     "output_type": "display_data"
    },
    {
     "name": "stdout",
     "output_type": "stream",
     "text": [
      "[('qualité', 0.3885), ('budget', 0.3286), ('beaucoup', 0.3103), ('bonne', 0.2422), ('peu', 0.202), ('de', 0.1515), ('et', 0.1507), ('temps', 0.148), ('en', 0.1314), ('été', 0.1296)]\n"
     ]
    },
    {
     "data": {
      "text/html": [
       "<pre style=\"white-space:pre;overflow-x:auto;line-height:normal;font-family:Menlo,'DejaVu Sans Mono',consolas,'Courier New',monospace\"><span style=\"color: #000000; text-decoration-color: #000000; background-color: #ffff00\">Ben</span> <span style=\"color: #000000; text-decoration-color: #000000; background-color: #ffff00\">tevreden</span> <span style=\"color: #000000; text-decoration-color: #000000; background-color: #ffff00\">over</span> <span style=\"color: #000000; text-decoration-color: #000000; background-color: #ffff00\">het</span> <span style=\"color: #000000; text-decoration-color: #000000; background-color: #ffff00\">opgeleverde</span> resultaat.\n",
       "</pre>\n"
      ],
      "text/plain": [
       "\u001b[30;48;2;255;255;0mBen\u001b[0m \u001b[30;48;2;255;255;0mtevreden\u001b[0m \u001b[30;48;2;255;255;0mover\u001b[0m \u001b[30;48;2;255;255;0mhet\u001b[0m \u001b[30;48;2;255;255;0mopgeleverde\u001b[0m resultaat.\n"
      ]
     },
     "metadata": {},
     "output_type": "display_data"
    },
    {
     "name": "stdout",
     "output_type": "stream",
     "text": [
      "[('tevreden', 0.685), ('resultaat', 0.5384), ('ben', 0.3212), ('opgeleverde', 0.263), ('het', 0.212), ('over', 0.1509)]\n"
     ]
    },
    {
     "data": {
      "text/html": [
       "<pre style=\"white-space:pre;overflow-x:auto;line-height:normal;font-family:Menlo,'DejaVu Sans Mono',consolas,'Courier New',monospace\"><span style=\"color: #000000; text-decoration-color: #000000; background-color: #ffff00\">Zeer</span> <span style=\"color: #000000; text-decoration-color: #000000; background-color: #ffff00\">tevreden</span>\n",
       "</pre>\n"
      ],
      "text/plain": [
       "\u001b[30;48;2;255;255;0mZeer\u001b[0m \u001b[30;48;2;255;255;0mtevreden\u001b[0m\n"
      ]
     },
     "metadata": {},
     "output_type": "display_data"
    },
    {
     "name": "stdout",
     "output_type": "stream",
     "text": [
      "[('tevreden', 0.9764), ('zeer', 0.6931)]\n"
     ]
    },
    {
     "data": {
      "text/html": [
       "<pre style=\"white-space:pre;overflow-x:auto;line-height:normal;font-family:Menlo,'DejaVu Sans Mono',consolas,'Courier New',monospace\"><span style=\"color: #000000; text-decoration-color: #000000; background-color: #ffff00\">Communicatie</span> <span style=\"color: #000000; text-decoration-color: #000000; background-color: #ffff00\">is</span> vlot.\n",
       "</pre>\n"
      ],
      "text/plain": [
       "\u001b[30;48;2;255;255;0mCommunicatie\u001b[0m \u001b[30;48;2;255;255;0mis\u001b[0m vlot.\n"
      ]
     },
     "metadata": {},
     "output_type": "display_data"
    },
    {
     "name": "stdout",
     "output_type": "stream",
     "text": [
      "[('communicatie', 0.7452), ('vlot', 0.2861), ('is', 0.267)]\n"
     ]
    },
    {
     "data": {
      "text/html": [
       "<pre style=\"white-space:pre;overflow-x:auto;line-height:normal;font-family:Menlo,'DejaVu Sans Mono',consolas,'Courier New',monospace\"><span style=\"color: #000000; text-decoration-color: #000000; background-color: #ffff00\">De</span> <span style=\"color: #000000; text-decoration-color: #000000; background-color: #ffff00\">personeelswissels</span> <span style=\"color: #000000; text-decoration-color: #000000; background-color: #ffff00\">en</span> <span style=\"color: #000000; text-decoration-color: #000000; background-color: #ffff00\">beschikbaarheden</span> <span style=\"color: #000000; text-decoration-color: #000000; background-color: #ffff00\">van</span> <span style=\"color: #000000; text-decoration-color: #000000; background-color: #ffff00\">medewerkers</span> <span style=\"color: #000000; text-decoration-color: #000000; background-color: #ffff00\">van</span> <span style=\"color: #000000; text-decoration-color: #000000; background-color: #ffff00\">Deloitte</span> <span style=\"color: #000000; text-decoration-color: #000000; background-color: #ffff00\">was</span> <span style=\"color: #000000; text-decoration-color: #000000; background-color: #ffff00\">soms</span> wat stoef.\n",
       "</pre>\n"
      ],
      "text/plain": [
       "\u001b[30;48;2;255;255;0mDe\u001b[0m \u001b[30;48;2;255;255;0mpersoneelswissels\u001b[0m \u001b[30;48;2;255;255;0men\u001b[0m \u001b[30;48;2;255;255;0mbeschikbaarheden\u001b[0m \u001b[30;48;2;255;255;0mvan\u001b[0m \u001b[30;48;2;255;255;0mmedewerkers\u001b[0m \u001b[30;48;2;255;255;0mvan\u001b[0m \u001b[30;48;2;255;255;0mDeloitte\u001b[0m \u001b[30;48;2;255;255;0mwas\u001b[0m \u001b[30;48;2;255;255;0msoms\u001b[0m wat stoef.\n"
      ]
     },
     "metadata": {},
     "output_type": "display_data"
    },
    {
     "name": "stdout",
     "output_type": "stream",
     "text": [
      "[('personeelswissels', 0.5325), ('medewerkers', 0.3741), ('deloitte', 0.1733), ('beschikbaarheden', 0.135), ('de', 0.1041), ('van', 0.072), ('was', 0.062), ('en', 0.0602), ('soms', 0.0403), ('stoef', 0.0323)]\n"
     ]
    },
    {
     "data": {
      "text/html": [
       "<pre style=\"white-space:pre;overflow-x:auto;line-height:normal;font-family:Menlo,'DejaVu Sans Mono',consolas,'Courier New',monospace\"><span style=\"color: #000000; text-decoration-color: #000000; background-color: #ffff00\">Weinig</span> <span style=\"color: #000000; text-decoration-color: #000000; background-color: #ffff00\">innovatie</span> oplossingen. <span style=\"color: #000000; text-decoration-color: #000000; background-color: #ffff00\">Dit</span> <span style=\"color: #000000; text-decoration-color: #000000; background-color: #ffff00\">was</span> <span style=\"color: #000000; text-decoration-color: #000000; background-color: #ffff00\">echter</span> <span style=\"color: #000000; text-decoration-color: #000000; background-color: #ffff00\">ook</span> <span style=\"color: #000000; text-decoration-color: #000000; background-color: #ffff00\">niet</span> <span style=\"color: #000000; text-decoration-color: #000000; background-color: #ffff00\">de</span> doelstelling.\n",
       "</pre>\n"
      ],
      "text/plain": [
       "\u001b[30;48;2;255;255;0mWeinig\u001b[0m \u001b[30;48;2;255;255;0minnovatie\u001b[0m oplossingen. \u001b[30;48;2;255;255;0mDit\u001b[0m \u001b[30;48;2;255;255;0mwas\u001b[0m \u001b[30;48;2;255;255;0mechter\u001b[0m \u001b[30;48;2;255;255;0mook\u001b[0m \u001b[30;48;2;255;255;0mniet\u001b[0m \u001b[30;48;2;255;255;0mde\u001b[0m doelstelling.\n"
      ]
     },
     "metadata": {},
     "output_type": "display_data"
    },
    {
     "name": "stdout",
     "output_type": "stream",
     "text": [
      "[('innovatie', 0.5141), ('doelstelling', 0.3508), ('weinig', 0.2997), ('oplossingen', 0.2684), ('echter', 0.2446), ('niet', 0.2226), ('was', 0.1152), ('dit', 0.0821), ('de', 0.082), ('ook', 0.0806)]\n"
     ]
    },
    {
     "data": {
      "text/html": [
       "<pre style=\"white-space:pre;overflow-x:auto;line-height:normal;font-family:Menlo,'DejaVu Sans Mono',consolas,'Courier New',monospace\">Zeker.\n",
       "</pre>\n"
      ],
      "text/plain": [
       "Zeker.\n"
      ]
     },
     "metadata": {},
     "output_type": "display_data"
    },
    {
     "name": "stdout",
     "output_type": "stream",
     "text": [
      "[('zeker', 0.9263)]\n"
     ]
    },
    {
     "data": {
      "text/html": [
       "<pre style=\"white-space:pre;overflow-x:auto;line-height:normal;font-family:Menlo,'DejaVu Sans Mono',consolas,'Courier New',monospace\"><span style=\"color: #000000; text-decoration-color: #000000; background-color: #ffff00\">De</span> <span style=\"color: #000000; text-decoration-color: #000000; background-color: #ffff00\">coronacrisis</span> <span style=\"color: #000000; text-decoration-color: #000000; background-color: #ffff00\">heeft</span> <span style=\"color: #000000; text-decoration-color: #000000; background-color: #ffff00\">weinig</span> <span style=\"color: #000000; text-decoration-color: #000000; background-color: #ffff00\">tot</span> <span style=\"color: #000000; text-decoration-color: #000000; background-color: #ffff00\">geen</span> <span style=\"color: #000000; text-decoration-color: #000000; background-color: #ffff00\">impact</span> <span style=\"color: #000000; text-decoration-color: #000000; background-color: #ffff00\">gehad</span> <span style=\"color: #000000; text-decoration-color: #000000; background-color: #ffff00\">op</span> <span style=\"color: #000000; text-decoration-color: #000000; background-color: #ffff00\">de</span> samenwerking.\n",
       "</pre>\n"
      ],
      "text/plain": [
       "\u001b[30;48;2;255;255;0mDe\u001b[0m \u001b[30;48;2;255;255;0mcoronacrisis\u001b[0m \u001b[30;48;2;255;255;0mheeft\u001b[0m \u001b[30;48;2;255;255;0mweinig\u001b[0m \u001b[30;48;2;255;255;0mtot\u001b[0m \u001b[30;48;2;255;255;0mgeen\u001b[0m \u001b[30;48;2;255;255;0mimpact\u001b[0m \u001b[30;48;2;255;255;0mgehad\u001b[0m \u001b[30;48;2;255;255;0mop\u001b[0m \u001b[30;48;2;255;255;0mde\u001b[0m samenwerking.\n"
      ]
     },
     "metadata": {},
     "output_type": "display_data"
    },
    {
     "name": "stdout",
     "output_type": "stream",
     "text": [
      "[('coronacrisis', 0.4199), ('weinig', 0.2958), ('samenwerking', 0.2023), ('geen', 0.1614), ('impact', 0.0953), ('heeft', 0.0604), ('gehad', 0.0336), ('de', -0.0241), ('op', -0.0291), ('tot', -0.1355)]\n"
     ]
    },
    {
     "data": {
      "text/html": [
       "<pre style=\"white-space:pre;overflow-x:auto;line-height:normal;font-family:Menlo,'DejaVu Sans Mono',consolas,'Courier New',monospace\"><span style=\"color: #000000; text-decoration-color: #000000; background-color: #ffff00\">Medewerkers</span> <span style=\"color: #000000; text-decoration-color: #000000; background-color: #ffff00\">van</span> <span style=\"color: #000000; text-decoration-color: #000000; background-color: #ffff00\">Deloitte</span> <span style=\"color: #000000; text-decoration-color: #000000; background-color: #ffff00\">zijn</span> <span style=\"color: #000000; text-decoration-color: #000000; background-color: #ffff00\">snel</span> en <span style=\"color: #000000; text-decoration-color: #000000; background-color: #ffff00\">goed</span> <span style=\"color: #000000; text-decoration-color: #000000; background-color: #ffff00\">geïntegreerd</span> <span style=\"color: #000000; text-decoration-color: #000000; background-color: #ffff00\">in</span> <span style=\"color: #000000; text-decoration-color: #000000; background-color: #ffff00\">onze</span> business.\n",
       "</pre>\n"
      ],
      "text/plain": [
       "\u001b[30;48;2;255;255;0mMedewerkers\u001b[0m \u001b[30;48;2;255;255;0mvan\u001b[0m \u001b[30;48;2;255;255;0mDeloitte\u001b[0m \u001b[30;48;2;255;255;0mzijn\u001b[0m \u001b[30;48;2;255;255;0msnel\u001b[0m en \u001b[30;48;2;255;255;0mgoed\u001b[0m \u001b[30;48;2;255;255;0mgeïntegreerd\u001b[0m \u001b[30;48;2;255;255;0min\u001b[0m \u001b[30;48;2;255;255;0monze\u001b[0m business.\n"
      ]
     },
     "metadata": {},
     "output_type": "display_data"
    },
    {
     "name": "stdout",
     "output_type": "stream",
     "text": [
      "[('business', 0.2606), ('medewerkers', 0.2488), ('geïntegreerd', 0.1971), ('deloitte', 0.1783), ('snel', 0.1658), ('onze', 0.1142), ('goed', 0.1098), ('in', 0.095), ('van', 0.082), ('zijn', 0.061)]\n"
     ]
    },
    {
     "data": {
      "text/html": [
       "<pre style=\"white-space:pre;overflow-x:auto;line-height:normal;font-family:Menlo,'DejaVu Sans Mono',consolas,'Courier New',monospace\"><span style=\"color: #000000; text-decoration-color: #000000; background-color: #ffff00\">The</span> current way of <span style=\"color: #000000; text-decoration-color: #000000; background-color: #ffff00\">working</span> (remote) is not <span style=\"color: #000000; text-decoration-color: #000000; background-color: #ffff00\">the</span> <span style=\"color: #000000; text-decoration-color: #000000; background-color: #ffff00\">ideal</span> way of working, <span style=\"color: #000000; text-decoration-color: #000000; background-color: #ffff00\">however</span> it does have its\n",
       "advantages. In <span style=\"color: #000000; text-decoration-color: #000000; background-color: #ffff00\">the</span> <span style=\"color: #000000; text-decoration-color: #000000; background-color: #ffff00\">future</span> <span style=\"color: #000000; text-decoration-color: #000000; background-color: #ffff00\">we</span> need <span style=\"color: #000000; text-decoration-color: #000000; background-color: #ffff00\">to</span> find <span style=\"color: #000000; text-decoration-color: #000000; background-color: #ffff00\">the</span> right <span style=\"color: #000000; text-decoration-color: #000000; background-color: #ffff00\">balance</span> and have <span style=\"color: #000000; text-decoration-color: #000000; background-color: #ffff00\">the</span> best of <span style=\"color: #000000; text-decoration-color: #000000; background-color: #ffff00\">both</span> worlds.\n",
       "</pre>\n"
      ],
      "text/plain": [
       "\u001b[30;48;2;255;255;0mThe\u001b[0m current way of \u001b[30;48;2;255;255;0mworking\u001b[0m (remote) is not \u001b[30;48;2;255;255;0mthe\u001b[0m \u001b[30;48;2;255;255;0mideal\u001b[0m way of working, \u001b[30;48;2;255;255;0mhowever\u001b[0m it does have its\n",
       "advantages. In \u001b[30;48;2;255;255;0mthe\u001b[0m \u001b[30;48;2;255;255;0mfuture\u001b[0m \u001b[30;48;2;255;255;0mwe\u001b[0m need \u001b[30;48;2;255;255;0mto\u001b[0m find \u001b[30;48;2;255;255;0mthe\u001b[0m right \u001b[30;48;2;255;255;0mbalance\u001b[0m and have \u001b[30;48;2;255;255;0mthe\u001b[0m best of \u001b[30;48;2;255;255;0mboth\u001b[0m worlds.\n"
      ]
     },
     "metadata": {},
     "output_type": "display_data"
    },
    {
     "name": "stdout",
     "output_type": "stream",
     "text": [
      "[('working', 0.4713), ('balance', 0.4092), ('ideal', 0.3916), ('future', 0.3822), ('we', 0.3553), ('advantages', 0.3545), ('however', 0.3335), ('both', 0.2753), ('the', 0.2704), ('to', 0.2646)]\n"
     ]
    },
    {
     "data": {
      "text/html": [
       "<pre style=\"white-space:pre;overflow-x:auto;line-height:normal;font-family:Menlo,'DejaVu Sans Mono',consolas,'Courier New',monospace\"><span style=\"color: #000000; text-decoration-color: #000000; background-color: #ffff00\">For</span> some <span style=\"color: #000000; text-decoration-color: #000000; background-color: #ffff00\">difficult</span> cases, very time consuming &amp; lots of money spent. It <span style=\"color: #000000; text-decoration-color: #000000; background-color: #ffff00\">could</span> be <span style=\"color: #000000; text-decoration-color: #000000; background-color: #ffff00\">avoided</span> if \n",
       "<span style=\"color: #000000; text-decoration-color: #000000; background-color: #ffff00\">knowledge</span> is even more <span style=\"color: #000000; text-decoration-color: #000000; background-color: #ffff00\">better</span> translated into <span style=\"color: #000000; text-decoration-color: #000000; background-color: #ffff00\">practical</span> application.\n",
       "</pre>\n"
      ],
      "text/plain": [
       "\u001b[30;48;2;255;255;0mFor\u001b[0m some \u001b[30;48;2;255;255;0mdifficult\u001b[0m cases, very time consuming & lots of money spent. It \u001b[30;48;2;255;255;0mcould\u001b[0m be \u001b[30;48;2;255;255;0mavoided\u001b[0m if \n",
       "\u001b[30;48;2;255;255;0mknowledge\u001b[0m is even more \u001b[30;48;2;255;255;0mbetter\u001b[0m translated into \u001b[30;48;2;255;255;0mpractical\u001b[0m application.\n"
      ]
     },
     "metadata": {},
     "output_type": "display_data"
    },
    {
     "name": "stdout",
     "output_type": "stream",
     "text": [
      "[('knowledge', 0.3897), ('difficult', 0.3373), ('practical', 0.3149), ('spent', 0.2928), ('cases', 0.2742), ('could', 0.2544), ('avoided', 0.2493), ('better', 0.2399), ('application', 0.2359), ('for', 0.2272)]\n"
     ]
    },
    {
     "data": {
      "text/html": [
       "<pre style=\"white-space:pre;overflow-x:auto;line-height:normal;font-family:Menlo,'DejaVu Sans Mono',consolas,'Courier New',monospace\"><span style=\"color: #000000; text-decoration-color: #000000; background-color: #ffff00\">clear</span> <span style=\"color: #000000; text-decoration-color: #000000; background-color: #ffff00\">communication</span> &amp; <span style=\"color: #000000; text-decoration-color: #000000; background-color: #ffff00\">being</span> pro-active\n",
       "</pre>\n"
      ],
      "text/plain": [
       "\u001b[30;48;2;255;255;0mclear\u001b[0m \u001b[30;48;2;255;255;0mcommunication\u001b[0m & \u001b[30;48;2;255;255;0mbeing\u001b[0m pro-active\n"
      ]
     },
     "metadata": {},
     "output_type": "display_data"
    },
    {
     "name": "stdout",
     "output_type": "stream",
     "text": [
      "[('communication', 0.6329), ('active', 0.5201), ('pro', 0.4515), ('clear', 0.4507), ('being', 0.4055)]\n"
     ]
    },
    {
     "data": {
      "text/html": [
       "<pre style=\"white-space:pre;overflow-x:auto;line-height:normal;font-family:Menlo,'DejaVu Sans Mono',consolas,'Courier New',monospace\"><span style=\"color: #000000; text-decoration-color: #000000; background-color: #ffff00\">We</span> <span style=\"color: #000000; text-decoration-color: #000000; background-color: #ffff00\">have</span> <span style=\"color: #000000; text-decoration-color: #000000; background-color: #ffff00\">no</span> <span style=\"color: #000000; text-decoration-color: #000000; background-color: #ffff00\">view</span> <span style=\"color: #000000; text-decoration-color: #000000; background-color: #ffff00\">on</span> <span style=\"color: #000000; text-decoration-color: #000000; background-color: #ffff00\">their</span> <span style=\"color: #000000; text-decoration-color: #000000; background-color: #ffff00\">digital</span> <span style=\"color: #000000; text-decoration-color: #000000; background-color: #ffff00\">expertise</span> &amp; <span style=\"color: #000000; text-decoration-color: #000000; background-color: #ffff00\">innovative</span> <span style=\"color: #000000; text-decoration-color: #000000; background-color: #ffff00\">solutions</span>\n",
       "</pre>\n"
      ],
      "text/plain": [
       "\u001b[30;48;2;255;255;0mWe\u001b[0m \u001b[30;48;2;255;255;0mhave\u001b[0m \u001b[30;48;2;255;255;0mno\u001b[0m \u001b[30;48;2;255;255;0mview\u001b[0m \u001b[30;48;2;255;255;0mon\u001b[0m \u001b[30;48;2;255;255;0mtheir\u001b[0m \u001b[30;48;2;255;255;0mdigital\u001b[0m \u001b[30;48;2;255;255;0mexpertise\u001b[0m & \u001b[30;48;2;255;255;0minnovative\u001b[0m \u001b[30;48;2;255;255;0msolutions\u001b[0m\n"
      ]
     },
     "metadata": {},
     "output_type": "display_data"
    },
    {
     "name": "stdout",
     "output_type": "stream",
     "text": [
      "[('digital', 0.2937), ('their', 0.2875), ('expertise', 0.2717), ('innovative', 0.2623), ('we', 0.2067), ('view', 0.1533), ('solutions', 0.1189), ('on', 0.1114), ('no', 0.1105), ('have', 0.1063)]\n"
     ]
    },
    {
     "data": {
      "text/html": [
       "<pre style=\"white-space:pre;overflow-x:auto;line-height:normal;font-family:Menlo,'DejaVu Sans Mono',consolas,'Courier New',monospace\"><span style=\"color: #000000; text-decoration-color: #000000; background-color: #ffff00\">Technival</span> compentency: very good <span style=\"color: #000000; text-decoration-color: #000000; background-color: #ffff00\">Translation</span> <span style=\"color: #000000; text-decoration-color: #000000; background-color: #ffff00\">into</span> <span style=\"color: #000000; text-decoration-color: #000000; background-color: #ffff00\">practical</span> applications: <span style=\"color: #000000; text-decoration-color: #000000; background-color: #ffff00\">in</span> <span style=\"color: #000000; text-decoration-color: #000000; background-color: #ffff00\">complex</span> \n",
       "situations, not all elements taken <span style=\"color: #000000; text-decoration-color: #000000; background-color: #ffff00\">into</span> account as of the start of the <span style=\"color: #000000; text-decoration-color: #000000; background-color: #ffff00\">analysis</span>\n",
       "</pre>\n"
      ],
      "text/plain": [
       "\u001b[30;48;2;255;255;0mTechnival\u001b[0m compentency: very good \u001b[30;48;2;255;255;0mTranslation\u001b[0m \u001b[30;48;2;255;255;0minto\u001b[0m \u001b[30;48;2;255;255;0mpractical\u001b[0m applications: \u001b[30;48;2;255;255;0min\u001b[0m \u001b[30;48;2;255;255;0mcomplex\u001b[0m \n",
       "situations, not all elements taken \u001b[30;48;2;255;255;0minto\u001b[0m account as of the start of the \u001b[30;48;2;255;255;0manalysis\u001b[0m\n"
      ]
     },
     "metadata": {},
     "output_type": "display_data"
    },
    {
     "name": "stdout",
     "output_type": "stream",
     "text": [
      "[('technival', 0.5566), ('compentency', 0.5141), ('practical', 0.4573), ('analysis', 0.4226), ('applications', 0.3688), ('situations', 0.337), ('translation', 0.332), ('in', 0.3317), ('into', 0.3096), ('complex', 0.3007)]\n"
     ]
    },
    {
     "data": {
      "text/html": [
       "<pre style=\"white-space:pre;overflow-x:auto;line-height:normal;font-family:Menlo,'DejaVu Sans Mono',consolas,'Courier New',monospace\">Sometimes, <span style=\"color: #000000; text-decoration-color: #000000; background-color: #ffff00\">communication</span> <span style=\"color: #000000; text-decoration-color: #000000; background-color: #ffff00\">not</span> <span style=\"color: #000000; text-decoration-color: #000000; background-color: #ffff00\">as</span> <span style=\"color: #000000; text-decoration-color: #000000; background-color: #ffff00\">straightforward</span> <span style=\"color: #000000; text-decoration-color: #000000; background-color: #ffff00\">as</span> <span style=\"color: #000000; text-decoration-color: #000000; background-color: #ffff00\">needed</span> <span style=\"color: #000000; text-decoration-color: #000000; background-color: #ffff00\">to</span> <span style=\"color: #000000; text-decoration-color: #000000; background-color: #ffff00\">both</span> <span style=\"color: #000000; text-decoration-color: #000000; background-color: #ffff00\">Associates</span> <span style=\"color: #000000; text-decoration-color: #000000; background-color: #ffff00\">and</span> P&amp;O\n",
       "</pre>\n"
      ],
      "text/plain": [
       "Sometimes, \u001b[30;48;2;255;255;0mcommunication\u001b[0m \u001b[30;48;2;255;255;0mnot\u001b[0m \u001b[30;48;2;255;255;0mas\u001b[0m \u001b[30;48;2;255;255;0mstraightforward\u001b[0m \u001b[30;48;2;255;255;0mas\u001b[0m \u001b[30;48;2;255;255;0mneeded\u001b[0m \u001b[30;48;2;255;255;0mto\u001b[0m \u001b[30;48;2;255;255;0mboth\u001b[0m \u001b[30;48;2;255;255;0mAssociates\u001b[0m \u001b[30;48;2;255;255;0mand\u001b[0m P&O\n"
      ]
     },
     "metadata": {},
     "output_type": "display_data"
    },
    {
     "name": "stdout",
     "output_type": "stream",
     "text": [
      "[('communication', 0.5313), ('associates', 0.51), ('both', 0.2759), ('and', 0.2706), ('to', 0.2171), ('as', 0.217), ('sometimes', 0.2018), ('straightforward', 0.1861), ('needed', 0.1727), ('not', 0.1719)]\n"
     ]
    },
    {
     "data": {
      "text/html": [
       "<pre style=\"white-space:pre;overflow-x:auto;line-height:normal;font-family:Menlo,'DejaVu Sans Mono',consolas,'Courier New',monospace\"><span style=\"color: #000000; text-decoration-color: #000000; background-color: #ffff00\">Remote</span> <span style=\"color: #000000; text-decoration-color: #000000; background-color: #ffff00\">way</span> of <span style=\"color: #000000; text-decoration-color: #000000; background-color: #ffff00\">working</span> <span style=\"color: #000000; text-decoration-color: #000000; background-color: #ffff00\">was</span> <span style=\"color: #000000; text-decoration-color: #000000; background-color: #ffff00\">fully</span> <span style=\"color: #000000; text-decoration-color: #000000; background-color: #ffff00\">embraced</span> <span style=\"color: #000000; text-decoration-color: #000000; background-color: #ffff00\">and</span> the <span style=\"color: #000000; text-decoration-color: #000000; background-color: #ffff00\">team</span> <span style=\"color: #000000; text-decoration-color: #000000; background-color: #ffff00\">adapted</span> <span style=\"color: #000000; text-decoration-color: #000000; background-color: #ffff00\">quickly</span>\n",
       "</pre>\n"
      ],
      "text/plain": [
       "\u001b[30;48;2;255;255;0mRemote\u001b[0m \u001b[30;48;2;255;255;0mway\u001b[0m of \u001b[30;48;2;255;255;0mworking\u001b[0m \u001b[30;48;2;255;255;0mwas\u001b[0m \u001b[30;48;2;255;255;0mfully\u001b[0m \u001b[30;48;2;255;255;0membraced\u001b[0m \u001b[30;48;2;255;255;0mand\u001b[0m the \u001b[30;48;2;255;255;0mteam\u001b[0m \u001b[30;48;2;255;255;0madapted\u001b[0m \u001b[30;48;2;255;255;0mquickly\u001b[0m\n"
      ]
     },
     "metadata": {},
     "output_type": "display_data"
    },
    {
     "name": "stdout",
     "output_type": "stream",
     "text": [
      "[('remote', 0.3613), ('team', 0.3264), ('quickly', 0.3061), ('embraced', 0.2425), ('adapted', 0.2299), ('fully', 0.1893), ('working', 0.1865), ('way', 0.1396), ('was', 0.1381), ('and', 0.0656)]\n"
     ]
    },
    {
     "data": {
      "text/html": [
       "<pre style=\"white-space:pre;overflow-x:auto;line-height:normal;font-family:Menlo,'DejaVu Sans Mono',consolas,'Courier New',monospace\"><span style=\"color: #000000; text-decoration-color: #000000; background-color: #ffff00\">Great</span> collaboration, <span style=\"color: #000000; text-decoration-color: #000000; background-color: #ffff00\">felt</span> <span style=\"color: #000000; text-decoration-color: #000000; background-color: #ffff00\">seamless</span>\n",
       "</pre>\n"
      ],
      "text/plain": [
       "\u001b[30;48;2;255;255;0mGreat\u001b[0m collaboration, \u001b[30;48;2;255;255;0mfelt\u001b[0m \u001b[30;48;2;255;255;0mseamless\u001b[0m\n"
      ]
     },
     "metadata": {},
     "output_type": "display_data"
    },
    {
     "name": "stdout",
     "output_type": "stream",
     "text": [
      "[('collaboration', 0.7167), ('seamless', 0.5105), ('great', 0.4943), ('felt', 0.3561)]\n"
     ]
    },
    {
     "data": {
      "text/html": [
       "<pre style=\"white-space:pre;overflow-x:auto;line-height:normal;font-family:Menlo,'DejaVu Sans Mono',consolas,'Courier New',monospace\"><span style=\"color: #000000; text-decoration-color: #000000; background-color: #ffff00\">The</span> <span style=\"color: #000000; text-decoration-color: #000000; background-color: #ffff00\">team</span> has shown <span style=\"color: #000000; text-decoration-color: #000000; background-color: #ffff00\">their</span> <span style=\"color: #000000; text-decoration-color: #000000; background-color: #ffff00\">committed</span> <span style=\"color: #000000; text-decoration-color: #000000; background-color: #ffff00\">to</span> <span style=\"color: #000000; text-decoration-color: #000000; background-color: #ffff00\">learn</span> <span style=\"color: #000000; text-decoration-color: #000000; background-color: #ffff00\">about</span> <span style=\"color: #000000; text-decoration-color: #000000; background-color: #ffff00\">the</span> <span style=\"color: #000000; text-decoration-color: #000000; background-color: #ffff00\">industry</span> and <span style=\"color: #000000; text-decoration-color: #000000; background-color: #ffff00\">technical</span> <span style=\"color: #000000; text-decoration-color: #000000; background-color: #ffff00\">details</span>\n",
       "</pre>\n"
      ],
      "text/plain": [
       "\u001b[30;48;2;255;255;0mThe\u001b[0m \u001b[30;48;2;255;255;0mteam\u001b[0m has shown \u001b[30;48;2;255;255;0mtheir\u001b[0m \u001b[30;48;2;255;255;0mcommitted\u001b[0m \u001b[30;48;2;255;255;0mto\u001b[0m \u001b[30;48;2;255;255;0mlearn\u001b[0m \u001b[30;48;2;255;255;0mabout\u001b[0m \u001b[30;48;2;255;255;0mthe\u001b[0m \u001b[30;48;2;255;255;0mindustry\u001b[0m and \u001b[30;48;2;255;255;0mtechnical\u001b[0m \u001b[30;48;2;255;255;0mdetails\u001b[0m\n"
      ]
     },
     "metadata": {},
     "output_type": "display_data"
    },
    {
     "name": "stdout",
     "output_type": "stream",
     "text": [
      "[('industry', 0.4188), ('team', 0.414), ('technical', 0.4012), ('learn', 0.3642), ('details', 0.2507), ('about', 0.2269), ('their', 0.1931), ('the', 0.159), ('to', 0.1355), ('committed', 0.1279)]\n"
     ]
    },
    {
     "data": {
      "text/html": [
       "<pre style=\"white-space:pre;overflow-x:auto;line-height:normal;font-family:Menlo,'DejaVu Sans Mono',consolas,'Courier New',monospace\">yes <span style=\"color: #000000; text-decoration-color: #000000; background-color: #ffff00\">but</span> again, a <span style=\"color: #000000; text-decoration-color: #000000; background-color: #ffff00\">little</span> bit <span style=\"color: #000000; text-decoration-color: #000000; background-color: #ffff00\">more</span> in <span style=\"color: #000000; text-decoration-color: #000000; background-color: #ffff00\">depth</span> <span style=\"color: #000000; text-decoration-color: #000000; background-color: #ffff00\">detailing</span> <span style=\"color: #000000; text-decoration-color: #000000; background-color: #ffff00\">and</span> <span style=\"color: #000000; text-decoration-color: #000000; background-color: #ffff00\">expertise</span> <span style=\"color: #000000; text-decoration-color: #000000; background-color: #ffff00\">would</span> have <span style=\"color: #000000; text-decoration-color: #000000; background-color: #ffff00\">been</span> useful.\n",
       "</pre>\n"
      ],
      "text/plain": [
       "yes \u001b[30;48;2;255;255;0mbut\u001b[0m again, a \u001b[30;48;2;255;255;0mlittle\u001b[0m bit \u001b[30;48;2;255;255;0mmore\u001b[0m in \u001b[30;48;2;255;255;0mdepth\u001b[0m \u001b[30;48;2;255;255;0mdetailing\u001b[0m \u001b[30;48;2;255;255;0mand\u001b[0m \u001b[30;48;2;255;255;0mexpertise\u001b[0m \u001b[30;48;2;255;255;0mwould\u001b[0m have \u001b[30;48;2;255;255;0mbeen\u001b[0m useful.\n"
      ]
     },
     "metadata": {},
     "output_type": "display_data"
    },
    {
     "name": "stdout",
     "output_type": "stream",
     "text": [
      "[('expertise', 0.4946), ('useful', 0.4287), ('detailing', 0.3812), ('more', 0.3779), ('depth', 0.3461), ('would', 0.2812), ('little', 0.276), ('and', 0.2524), ('been', 0.2469), ('but', 0.2459)]\n"
     ]
    },
    {
     "data": {
      "text/html": [
       "<pre style=\"white-space:pre;overflow-x:auto;line-height:normal;font-family:Menlo,'DejaVu Sans Mono',consolas,'Courier New',monospace\"><span style=\"color: #000000; text-decoration-color: #000000; background-color: #ffff00\">sometimes</span> <span style=\"color: #000000; text-decoration-color: #000000; background-color: #ffff00\">informal</span> calls/get <span style=\"color: #000000; text-decoration-color: #000000; background-color: #ffff00\">togethers</span> <span style=\"color: #000000; text-decoration-color: #000000; background-color: #ffff00\">can</span> be <span style=\"color: #000000; text-decoration-color: #000000; background-color: #ffff00\">of</span> <span style=\"color: #000000; text-decoration-color: #000000; background-color: #ffff00\">additional</span> <span style=\"color: #000000; text-decoration-color: #000000; background-color: #ffff00\">added</span> value.\n",
       "</pre>\n"
      ],
      "text/plain": [
       "\u001b[30;48;2;255;255;0msometimes\u001b[0m \u001b[30;48;2;255;255;0minformal\u001b[0m calls/get \u001b[30;48;2;255;255;0mtogethers\u001b[0m \u001b[30;48;2;255;255;0mcan\u001b[0m be \u001b[30;48;2;255;255;0mof\u001b[0m \u001b[30;48;2;255;255;0madditional\u001b[0m \u001b[30;48;2;255;255;0madded\u001b[0m value.\n"
      ]
     },
     "metadata": {},
     "output_type": "display_data"
    },
    {
     "name": "stdout",
     "output_type": "stream",
     "text": [
      "[('informal', 0.5088), ('calls', 0.4903), ('togethers', 0.3704), ('sometimes', 0.3697), ('additional', 0.3613), ('get', 0.2944), ('added', 0.2943), ('can', 0.2571), ('value', 0.2376), ('of', 0.1769)]\n"
     ]
    },
    {
     "data": {
      "text/html": [
       "<pre style=\"white-space:pre;overflow-x:auto;line-height:normal;font-family:Menlo,'DejaVu Sans Mono',consolas,'Courier New',monospace\"><span style=\"color: #000000; text-decoration-color: #000000; background-color: #ffff00\">see</span> <span style=\"color: #000000; text-decoration-color: #000000; background-color: #ffff00\">above</span>\n",
       "</pre>\n"
      ],
      "text/plain": [
       "\u001b[30;48;2;255;255;0msee\u001b[0m \u001b[30;48;2;255;255;0mabove\u001b[0m\n"
      ]
     },
     "metadata": {},
     "output_type": "display_data"
    },
    {
     "name": "stdout",
     "output_type": "stream",
     "text": [
      "[('above', 0.841), ('see', 0.8042)]\n"
     ]
    },
    {
     "data": {
      "text/html": [
       "<pre style=\"white-space:pre;overflow-x:auto;line-height:normal;font-family:Menlo,'DejaVu Sans Mono',consolas,'Courier New',monospace\"><span style=\"color: #000000; text-decoration-color: #000000; background-color: #ffff00\">great</span> <span style=\"color: #000000; text-decoration-color: #000000; background-color: #ffff00\">people</span> <span style=\"color: #000000; text-decoration-color: #000000; background-color: #ffff00\">that</span> <span style=\"color: #000000; text-decoration-color: #000000; background-color: #ffff00\">worked</span> <span style=\"color: #000000; text-decoration-color: #000000; background-color: #ffff00\">on</span> <span style=\"color: #000000; text-decoration-color: #000000; background-color: #ffff00\">the</span> project.\n",
       "</pre>\n"
      ],
      "text/plain": [
       "\u001b[30;48;2;255;255;0mgreat\u001b[0m \u001b[30;48;2;255;255;0mpeople\u001b[0m \u001b[30;48;2;255;255;0mthat\u001b[0m \u001b[30;48;2;255;255;0mworked\u001b[0m \u001b[30;48;2;255;255;0mon\u001b[0m \u001b[30;48;2;255;255;0mthe\u001b[0m project.\n"
      ]
     },
     "metadata": {},
     "output_type": "display_data"
    },
    {
     "name": "stdout",
     "output_type": "stream",
     "text": [
      "[('project', 0.5361), ('great', 0.4439), ('people', 0.3479), ('the', 0.2806), ('worked', 0.2683), ('on', 0.2681), ('that', 0.2082)]\n"
     ]
    },
    {
     "data": {
      "text/html": [
       "<pre style=\"white-space:pre;overflow-x:auto;line-height:normal;font-family:Menlo,'DejaVu Sans Mono',consolas,'Courier New',monospace\"><span style=\"color: #000000; text-decoration-color: #000000; background-color: #ffff00\">high</span> <span style=\"color: #000000; text-decoration-color: #000000; background-color: #ffff00\">level</span> the <span style=\"color: #000000; text-decoration-color: #000000; background-color: #ffff00\">roadmap</span> was <span style=\"color: #000000; text-decoration-color: #000000; background-color: #ffff00\">okay</span> but <span style=\"color: #000000; text-decoration-color: #000000; background-color: #ffff00\">there</span> was an <span style=\"color: #000000; text-decoration-color: #000000; background-color: #ffff00\">opportunity</span> <span style=\"color: #000000; text-decoration-color: #000000; background-color: #ffff00\">to</span> <span style=\"color: #000000; text-decoration-color: #000000; background-color: #ffff00\">go</span> <span style=\"color: #000000; text-decoration-color: #000000; background-color: #ffff00\">more</span> in depth.\n",
       "</pre>\n"
      ],
      "text/plain": [
       "\u001b[30;48;2;255;255;0mhigh\u001b[0m \u001b[30;48;2;255;255;0mlevel\u001b[0m the \u001b[30;48;2;255;255;0mroadmap\u001b[0m was \u001b[30;48;2;255;255;0mokay\u001b[0m but \u001b[30;48;2;255;255;0mthere\u001b[0m was an \u001b[30;48;2;255;255;0mopportunity\u001b[0m \u001b[30;48;2;255;255;0mto\u001b[0m \u001b[30;48;2;255;255;0mgo\u001b[0m \u001b[30;48;2;255;255;0mmore\u001b[0m in depth.\n"
      ]
     },
     "metadata": {},
     "output_type": "display_data"
    },
    {
     "name": "stdout",
     "output_type": "stream",
     "text": [
      "[('roadmap', 0.4921), ('depth', 0.3809), ('level', 0.3389), ('opportunity', 0.2752), ('high', 0.2728), ('go', 0.2588), ('okay', 0.2221), ('more', 0.2203), ('there', 0.209), ('to', 0.1629)]\n"
     ]
    },
    {
     "data": {
      "text/html": [
       "<pre style=\"white-space:pre;overflow-x:auto;line-height:normal;font-family:Menlo,'DejaVu Sans Mono',consolas,'Courier New',monospace\">It <span style=\"color: #000000; text-decoration-color: #000000; background-color: #ffff00\">was</span> <span style=\"color: #000000; text-decoration-color: #000000; background-color: #ffff00\">easy</span> to <span style=\"color: #000000; text-decoration-color: #000000; background-color: #ffff00\">work</span> <span style=\"color: #000000; text-decoration-color: #000000; background-color: #ffff00\">with</span> <span style=\"color: #000000; text-decoration-color: #000000; background-color: #ffff00\">Deloitte</span> Connect. <span style=\"color: #000000; text-decoration-color: #000000; background-color: #ffff00\">Some</span> <span style=\"color: #000000; text-decoration-color: #000000; background-color: #ffff00\">delay</span> because of <span style=\"color: #000000; text-decoration-color: #000000; background-color: #ffff00\">illness</span> <span style=\"color: #000000; text-decoration-color: #000000; background-color: #ffff00\">at</span> Deloitte.\n",
       "</pre>\n"
      ],
      "text/plain": [
       "It \u001b[30;48;2;255;255;0mwas\u001b[0m \u001b[30;48;2;255;255;0measy\u001b[0m to \u001b[30;48;2;255;255;0mwork\u001b[0m \u001b[30;48;2;255;255;0mwith\u001b[0m \u001b[30;48;2;255;255;0mDeloitte\u001b[0m Connect. \u001b[30;48;2;255;255;0mSome\u001b[0m \u001b[30;48;2;255;255;0mdelay\u001b[0m because of \u001b[30;48;2;255;255;0millness\u001b[0m \u001b[30;48;2;255;255;0mat\u001b[0m Deloitte.\n"
      ]
     },
     "metadata": {},
     "output_type": "display_data"
    },
    {
     "name": "stdout",
     "output_type": "stream",
     "text": [
      "[('delay', 0.2464), ('deloitte', 0.2299), ('illness', 0.1823), ('work', 0.1446), ('easy', 0.1431), ('connect', 0.1326), ('with', 0.1194), ('at', 0.0769), ('was', 0.0502), ('some', 0.035)]\n"
     ]
    },
    {
     "data": {
      "text/html": [
       "<pre style=\"white-space:pre;overflow-x:auto;line-height:normal;font-family:Menlo,'DejaVu Sans Mono',consolas,'Courier New',monospace\">A <span style=\"color: #000000; text-decoration-color: #000000; background-color: #ffff00\">good</span> communication/collaboration.\n",
       "</pre>\n"
      ],
      "text/plain": [
       "A \u001b[30;48;2;255;255;0mgood\u001b[0m communication/collaboration.\n"
      ]
     },
     "metadata": {},
     "output_type": "display_data"
    },
    {
     "name": "stdout",
     "output_type": "stream",
     "text": [
      "[('collaboration', 0.7658), ('communication', 0.6642), ('good', 0.445)]\n"
     ]
    },
    {
     "data": {
      "text/html": [
       "<pre style=\"white-space:pre;overflow-x:auto;line-height:normal;font-family:Menlo,'DejaVu Sans Mono',consolas,'Courier New',monospace\"><span style=\"color: #000000; text-decoration-color: #000000; background-color: #ffff00\">To</span> <span style=\"color: #000000; text-decoration-color: #000000; background-color: #ffff00\">continue</span> <span style=\"color: #000000; text-decoration-color: #000000; background-color: #ffff00\">with</span> <span style=\"color: #000000; text-decoration-color: #000000; background-color: #ffff00\">Deloitte</span> <span style=\"color: #000000; text-decoration-color: #000000; background-color: #ffff00\">Connect</span>\n",
       "</pre>\n"
      ],
      "text/plain": [
       "\u001b[30;48;2;255;255;0mTo\u001b[0m \u001b[30;48;2;255;255;0mcontinue\u001b[0m \u001b[30;48;2;255;255;0mwith\u001b[0m \u001b[30;48;2;255;255;0mDeloitte\u001b[0m \u001b[30;48;2;255;255;0mConnect\u001b[0m\n"
      ]
     },
     "metadata": {},
     "output_type": "display_data"
    },
    {
     "name": "stdout",
     "output_type": "stream",
     "text": [
      "[('continue', 0.3778), ('connect', 0.3751), ('deloitte', 0.2992), ('with', 0.2918), ('to', 0.1035)]\n"
     ]
    },
    {
     "data": {
      "text/html": [
       "<pre style=\"white-space:pre;overflow-x:auto;line-height:normal;font-family:Menlo,'DejaVu Sans Mono',consolas,'Courier New',monospace\">Yes. <span style=\"color: #000000; text-decoration-color: #000000; background-color: #ffff00\">We</span> <span style=\"color: #000000; text-decoration-color: #000000; background-color: #ffff00\">gave</span> an explication when <span style=\"color: #000000; text-decoration-color: #000000; background-color: #ffff00\">we</span> began the <span style=\"color: #000000; text-decoration-color: #000000; background-color: #ffff00\">collaboration</span> for <span style=\"color: #000000; text-decoration-color: #000000; background-color: #ffff00\">Cert</span> I. It <span style=\"color: #000000; text-decoration-color: #000000; background-color: #ffff00\">was</span> <span style=\"color: #000000; text-decoration-color: #000000; background-color: #ffff00\">easy</span> to <span style=\"color: #000000; text-decoration-color: #000000; background-color: #ffff00\">work</span> \n",
       "<span style=\"color: #000000; text-decoration-color: #000000; background-color: #ffff00\">with</span> the <span style=\"color: #000000; text-decoration-color: #000000; background-color: #ffff00\">same</span> team/people.\n",
       "</pre>\n"
      ],
      "text/plain": [
       "Yes. \u001b[30;48;2;255;255;0mWe\u001b[0m \u001b[30;48;2;255;255;0mgave\u001b[0m an explication when \u001b[30;48;2;255;255;0mwe\u001b[0m began the \u001b[30;48;2;255;255;0mcollaboration\u001b[0m for \u001b[30;48;2;255;255;0mCert\u001b[0m I. It \u001b[30;48;2;255;255;0mwas\u001b[0m \u001b[30;48;2;255;255;0measy\u001b[0m to \u001b[30;48;2;255;255;0mwork\u001b[0m \n",
       "\u001b[30;48;2;255;255;0mwith\u001b[0m the \u001b[30;48;2;255;255;0msame\u001b[0m team/people.\n"
      ]
     },
     "metadata": {},
     "output_type": "display_data"
    },
    {
     "name": "stdout",
     "output_type": "stream",
     "text": [
      "[('collaboration', 0.5415), ('team', 0.3618), ('we', 0.3416), ('was', 0.2738), ('with', 0.2662), ('cert', 0.2584), ('same', 0.2467), ('work', 0.2373), ('easy', 0.2337), ('gave', 0.2252)]\n"
     ]
    },
    {
     "data": {
      "text/html": [
       "<pre style=\"white-space:pre;overflow-x:auto;line-height:normal;font-family:Menlo,'DejaVu Sans Mono',consolas,'Courier New',monospace\"><span style=\"color: #000000; text-decoration-color: #000000; background-color: #ffff00\">Good</span> collaboration, flexible.\n",
       "</pre>\n"
      ],
      "text/plain": [
       "\u001b[30;48;2;255;255;0mGood\u001b[0m collaboration, flexible.\n"
      ]
     },
     "metadata": {},
     "output_type": "display_data"
    },
    {
     "name": "stdout",
     "output_type": "stream",
     "text": [
      "[('collaboration', 0.8031), ('good', 0.4511), ('flexible', 0.4218)]\n"
     ]
    },
    {
     "data": {
      "text/html": [
       "<pre style=\"white-space:pre;overflow-x:auto;line-height:normal;font-family:Menlo,'DejaVu Sans Mono',consolas,'Courier New',monospace\">Yes, <span style=\"color: #000000; text-decoration-color: #000000; background-color: #ffff00\">good</span> <span style=\"color: #000000; text-decoration-color: #000000; background-color: #ffff00\">business</span> <span style=\"color: #000000; text-decoration-color: #000000; background-color: #ffff00\">understanding</span> <span style=\"color: #000000; text-decoration-color: #000000; background-color: #ffff00\">especially</span> <span style=\"color: #000000; text-decoration-color: #000000; background-color: #ffff00\">for</span> the <span style=\"color: #000000; text-decoration-color: #000000; background-color: #ffff00\">processes</span> <span style=\"color: #000000; text-decoration-color: #000000; background-color: #ffff00\">that</span> <span style=\"color: #000000; text-decoration-color: #000000; background-color: #ffff00\">linked</span> to SAP.\n",
       "</pre>\n"
      ],
      "text/plain": [
       "Yes, \u001b[30;48;2;255;255;0mgood\u001b[0m \u001b[30;48;2;255;255;0mbusiness\u001b[0m \u001b[30;48;2;255;255;0munderstanding\u001b[0m \u001b[30;48;2;255;255;0mespecially\u001b[0m \u001b[30;48;2;255;255;0mfor\u001b[0m the \u001b[30;48;2;255;255;0mprocesses\u001b[0m \u001b[30;48;2;255;255;0mthat\u001b[0m \u001b[30;48;2;255;255;0mlinked\u001b[0m to SAP.\n"
      ]
     },
     "metadata": {},
     "output_type": "display_data"
    },
    {
     "name": "stdout",
     "output_type": "stream",
     "text": [
      "[('business', 0.4503), ('sap', 0.4422), ('good', 0.3054), ('understanding', 0.2768), ('processes', 0.2652), ('yes', 0.2038), ('especially', 0.1832), ('for', 0.1791), ('that', 0.1611), ('linked', 0.1547)]\n"
     ]
    },
    {
     "data": {
      "text/html": [
       "<pre style=\"white-space:pre;overflow-x:auto;line-height:normal;font-family:Menlo,'DejaVu Sans Mono',consolas,'Courier New',monospace\"><span style=\"color: #000000; text-decoration-color: #000000; background-color: #ffff00\">Combination</span> of <span style=\"color: #000000; text-decoration-color: #000000; background-color: #ffff00\">teams</span> <span style=\"color: #000000; text-decoration-color: #000000; background-color: #ffff00\">meetings</span> and physical <span style=\"color: #000000; text-decoration-color: #000000; background-color: #ffff00\">meetings</span> would be good. <span style=\"color: #000000; text-decoration-color: #000000; background-color: #ffff00\">Discussing</span> <span style=\"color: #000000; text-decoration-color: #000000; background-color: #ffff00\">complex</span> <span style=\"color: #000000; text-decoration-color: #000000; background-color: #ffff00\">topics</span> \n",
       "always works <span style=\"color: #000000; text-decoration-color: #000000; background-color: #ffff00\">better</span> when you are in the <span style=\"color: #000000; text-decoration-color: #000000; background-color: #ffff00\">same</span> room.\n",
       "</pre>\n"
      ],
      "text/plain": [
       "\u001b[30;48;2;255;255;0mCombination\u001b[0m of \u001b[30;48;2;255;255;0mteams\u001b[0m \u001b[30;48;2;255;255;0mmeetings\u001b[0m and physical \u001b[30;48;2;255;255;0mmeetings\u001b[0m would be good. \u001b[30;48;2;255;255;0mDiscussing\u001b[0m \u001b[30;48;2;255;255;0mcomplex\u001b[0m \u001b[30;48;2;255;255;0mtopics\u001b[0m \n",
       "always works \u001b[30;48;2;255;255;0mbetter\u001b[0m when you are in the \u001b[30;48;2;255;255;0msame\u001b[0m room.\n"
      ]
     },
     "metadata": {},
     "output_type": "display_data"
    },
    {
     "name": "stdout",
     "output_type": "stream",
     "text": [
      "[('meetings', 0.5663), ('discussing', 0.4581), ('teams', 0.3719), ('topics', 0.3379), ('room', 0.3291), ('better', 0.265), ('complex', 0.2392), ('combination', 0.2108), ('same', 0.2064), ('good', 0.1808)]\n"
     ]
    },
    {
     "data": {
      "text/html": [
       "<pre style=\"white-space:pre;overflow-x:auto;line-height:normal;font-family:Menlo,'DejaVu Sans Mono',consolas,'Courier New',monospace\">Yes, <span style=\"color: #000000; text-decoration-color: #000000; background-color: #ffff00\">good</span> <span style=\"color: #000000; text-decoration-color: #000000; background-color: #ffff00\">experts</span> (Supply chain, HR, risk, ...) <span style=\"color: #000000; text-decoration-color: #000000; background-color: #ffff00\">attended</span> <span style=\"color: #000000; text-decoration-color: #000000; background-color: #ffff00\">the</span> <span style=\"color: #000000; text-decoration-color: #000000; background-color: #ffff00\">meetings</span> <span style=\"color: #000000; text-decoration-color: #000000; background-color: #ffff00\">and</span> brought <span style=\"color: #000000; text-decoration-color: #000000; background-color: #ffff00\">useful</span> \n",
       "<span style=\"color: #000000; text-decoration-color: #000000; background-color: #ffff00\">expertise</span> (outside-in view)\n",
       "</pre>\n"
      ],
      "text/plain": [
       "Yes, \u001b[30;48;2;255;255;0mgood\u001b[0m \u001b[30;48;2;255;255;0mexperts\u001b[0m (Supply chain, HR, risk, ...) \u001b[30;48;2;255;255;0mattended\u001b[0m \u001b[30;48;2;255;255;0mthe\u001b[0m \u001b[30;48;2;255;255;0mmeetings\u001b[0m \u001b[30;48;2;255;255;0mand\u001b[0m brought \u001b[30;48;2;255;255;0museful\u001b[0m \n",
       "\u001b[30;48;2;255;255;0mexpertise\u001b[0m (outside-in view)\n"
      ]
     },
     "metadata": {},
     "output_type": "display_data"
    },
    {
     "name": "stdout",
     "output_type": "stream",
     "text": [
      "[('expertise', 0.4861), ('experts', 0.4534), ('meetings', 0.4397), ('attended', 0.3407), ('useful', 0.2627), ('good', 0.2223), ('hr', 0.2077), ('in', 0.1577), ('the', 0.1568), ('and', 0.1454)]\n"
     ]
    },
    {
     "data": {
      "text/html": [
       "<pre style=\"white-space:pre;overflow-x:auto;line-height:normal;font-family:Menlo,'DejaVu Sans Mono',consolas,'Courier New',monospace\">yes, <span style=\"color: #000000; text-decoration-color: #000000; background-color: #ffff00\">good</span> <span style=\"color: #000000; text-decoration-color: #000000; background-color: #ffff00\">team</span> <span style=\"color: #000000; text-decoration-color: #000000; background-color: #ffff00\">and</span> <span style=\"color: #000000; text-decoration-color: #000000; background-color: #ffff00\">easy</span> <span style=\"color: #000000; text-decoration-color: #000000; background-color: #ffff00\">to</span> <span style=\"color: #000000; text-decoration-color: #000000; background-color: #ffff00\">reach</span> <span style=\"color: #000000; text-decoration-color: #000000; background-color: #ffff00\">in</span> case <span style=\"color: #000000; text-decoration-color: #000000; background-color: #ffff00\">of</span> <span style=\"color: #000000; text-decoration-color: #000000; background-color: #ffff00\">questions</span>\n",
       "</pre>\n"
      ],
      "text/plain": [
       "yes, \u001b[30;48;2;255;255;0mgood\u001b[0m \u001b[30;48;2;255;255;0mteam\u001b[0m \u001b[30;48;2;255;255;0mand\u001b[0m \u001b[30;48;2;255;255;0measy\u001b[0m \u001b[30;48;2;255;255;0mto\u001b[0m \u001b[30;48;2;255;255;0mreach\u001b[0m \u001b[30;48;2;255;255;0min\u001b[0m case \u001b[30;48;2;255;255;0mof\u001b[0m \u001b[30;48;2;255;255;0mquestions\u001b[0m\n"
      ]
     },
     "metadata": {},
     "output_type": "display_data"
    },
    {
     "name": "stdout",
     "output_type": "stream",
     "text": [
      "[('team', 0.602), ('good', 0.4062), ('yes', 0.3426), ('questions', 0.3002), ('easy', 0.2836), ('reach', 0.2239), ('to', 0.1978), ('in', 0.1788), ('of', 0.1684), ('and', 0.1437)]\n"
     ]
    },
    {
     "data": {
      "text/html": [
       "<pre style=\"white-space:pre;overflow-x:auto;line-height:normal;font-family:Menlo,'DejaVu Sans Mono',consolas,'Courier New',monospace\"><span style=\"color: #000000; text-decoration-color: #000000; background-color: #ffff00\">Went</span> <span style=\"color: #000000; text-decoration-color: #000000; background-color: #ffff00\">very</span> <span style=\"color: #000000; text-decoration-color: #000000; background-color: #ffff00\">well</span> <span style=\"color: #000000; text-decoration-color: #000000; background-color: #ffff00\">giving</span> <span style=\"color: #000000; text-decoration-color: #000000; background-color: #ffff00\">the</span> <span style=\"color: #000000; text-decoration-color: #000000; background-color: #ffff00\">circumstances</span> <span style=\"color: #000000; text-decoration-color: #000000; background-color: #ffff00\">which</span> are <span style=\"color: #000000; text-decoration-color: #000000; background-color: #ffff00\">difficult</span> <span style=\"color: #000000; text-decoration-color: #000000; background-color: #ffff00\">for</span> everyone.\n",
       "</pre>\n"
      ],
      "text/plain": [
       "\u001b[30;48;2;255;255;0mWent\u001b[0m \u001b[30;48;2;255;255;0mvery\u001b[0m \u001b[30;48;2;255;255;0mwell\u001b[0m \u001b[30;48;2;255;255;0mgiving\u001b[0m \u001b[30;48;2;255;255;0mthe\u001b[0m \u001b[30;48;2;255;255;0mcircumstances\u001b[0m \u001b[30;48;2;255;255;0mwhich\u001b[0m are \u001b[30;48;2;255;255;0mdifficult\u001b[0m \u001b[30;48;2;255;255;0mfor\u001b[0m everyone.\n"
      ]
     },
     "metadata": {},
     "output_type": "display_data"
    },
    {
     "name": "stdout",
     "output_type": "stream",
     "text": [
      "[('difficult', 0.3158), ('circumstances', 0.2881), ('everyone', 0.2461), ('giving', 0.226), ('well', 0.2066), ('very', 0.183), ('went', 0.155), ('for', 0.1487), ('the', 0.1178), ('which', 0.0473)]\n"
     ]
    },
    {
     "data": {
      "text/html": [
       "<pre style=\"white-space:pre;overflow-x:auto;line-height:normal;font-family:Menlo,'DejaVu Sans Mono',consolas,'Courier New',monospace\">Yes, besides <span style=\"color: #000000; text-decoration-color: #000000; background-color: #ffff00\">the</span> <span style=\"color: #000000; text-decoration-color: #000000; background-color: #ffff00\">content</span> <span style=\"color: #000000; text-decoration-color: #000000; background-color: #ffff00\">the</span> <span style=\"color: #000000; text-decoration-color: #000000; background-color: #ffff00\">team</span> <span style=\"color: #000000; text-decoration-color: #000000; background-color: #ffff00\">provided</span> <span style=\"color: #000000; text-decoration-color: #000000; background-color: #ffff00\">us</span> with a very clear and <span style=\"color: #000000; text-decoration-color: #000000; background-color: #ffff00\">simple</span> <span style=\"color: #000000; text-decoration-color: #000000; background-color: #ffff00\">template</span> (= what \n",
       "<span style=\"color: #000000; text-decoration-color: #000000; background-color: #ffff00\">we</span> requested).\n",
       "</pre>\n"
      ],
      "text/plain": [
       "Yes, besides \u001b[30;48;2;255;255;0mthe\u001b[0m \u001b[30;48;2;255;255;0mcontent\u001b[0m \u001b[30;48;2;255;255;0mthe\u001b[0m \u001b[30;48;2;255;255;0mteam\u001b[0m \u001b[30;48;2;255;255;0mprovided\u001b[0m \u001b[30;48;2;255;255;0mus\u001b[0m with a very clear and \u001b[30;48;2;255;255;0msimple\u001b[0m \u001b[30;48;2;255;255;0mtemplate\u001b[0m (= what \n",
       "\u001b[30;48;2;255;255;0mwe\u001b[0m requested).\n"
      ]
     },
     "metadata": {},
     "output_type": "display_data"
    },
    {
     "name": "stdout",
     "output_type": "stream",
     "text": [
      "[('template', 0.4443), ('simple', 0.4036), ('content', 0.3304), ('we', 0.3224), ('provided', 0.3171), ('team', 0.3055), ('yes', 0.2555), ('requested', 0.2544), ('us', 0.247), ('the', 0.2251)]\n"
     ]
    },
    {
     "data": {
      "text/html": [
       "<pre style=\"white-space:pre;overflow-x:auto;line-height:normal;font-family:Menlo,'DejaVu Sans Mono',consolas,'Courier New',monospace\"><span style=\"color: #000000; text-decoration-color: #000000; background-color: #ffff00\">Strong</span> <span style=\"color: #000000; text-decoration-color: #000000; background-color: #ffff00\">integration</span>\n",
       "</pre>\n"
      ],
      "text/plain": [
       "\u001b[30;48;2;255;255;0mStrong\u001b[0m \u001b[30;48;2;255;255;0mintegration\u001b[0m\n"
      ]
     },
     "metadata": {},
     "output_type": "display_data"
    },
    {
     "name": "stdout",
     "output_type": "stream",
     "text": [
      "[('integration', 0.8377), ('strong', 0.6023)]\n"
     ]
    },
    {
     "data": {
      "text/html": [
       "<pre style=\"white-space:pre;overflow-x:auto;line-height:normal;font-family:Menlo,'DejaVu Sans Mono',consolas,'Courier New',monospace\">Onze <span style=\"color: #000000; text-decoration-color: #000000; background-color: #ffff00\">verwachtingen</span> in het begin van het <span style=\"color: #000000; text-decoration-color: #000000; background-color: #ffff00\">project</span> waren <span style=\"color: #000000; text-decoration-color: #000000; background-color: #ffff00\">hoger</span> dan de uiteindelijke resultaten. \n",
       "Dit is <span style=\"color: #000000; text-decoration-color: #000000; background-color: #ffff00\">voor</span> een <span style=\"color: #000000; text-decoration-color: #000000; background-color: #ffff00\">belangrijk</span> deel te wijten aan de verschillende <span style=\"color: #000000; text-decoration-color: #000000; background-color: #ffff00\">asset</span> <span style=\"color: #000000; text-decoration-color: #000000; background-color: #ffff00\">politieken</span> van de TSO en\n",
       "de <span style=\"color: #000000; text-decoration-color: #000000; background-color: #ffff00\">DSO</span> en het tegenvallen van de <span style=\"color: #000000; text-decoration-color: #000000; background-color: #ffff00\">data</span> pooling.\n",
       "</pre>\n"
      ],
      "text/plain": [
       "Onze \u001b[30;48;2;255;255;0mverwachtingen\u001b[0m in het begin van het \u001b[30;48;2;255;255;0mproject\u001b[0m waren \u001b[30;48;2;255;255;0mhoger\u001b[0m dan de uiteindelijke resultaten. \n",
       "Dit is \u001b[30;48;2;255;255;0mvoor\u001b[0m een \u001b[30;48;2;255;255;0mbelangrijk\u001b[0m deel te wijten aan de verschillende \u001b[30;48;2;255;255;0masset\u001b[0m \u001b[30;48;2;255;255;0mpolitieken\u001b[0m van de TSO en\n",
       "de \u001b[30;48;2;255;255;0mDSO\u001b[0m en het tegenvallen van de \u001b[30;48;2;255;255;0mdata\u001b[0m pooling.\n"
      ]
     },
     "metadata": {},
     "output_type": "display_data"
    },
    {
     "name": "stdout",
     "output_type": "stream",
     "text": [
      "[('verwachtingen', 0.4877), ('resultaten', 0.388), ('data', 0.3169), ('hoger', 0.3016), ('project', 0.2953), ('politieken', 0.2866), ('dso', 0.2659), ('asset', 0.249), ('belangrijk', 0.2285), ('voor', 0.2209)]\n"
     ]
    },
    {
     "data": {
      "text/html": [
       "<pre style=\"white-space:pre;overflow-x:auto;line-height:normal;font-family:Menlo,'DejaVu Sans Mono',consolas,'Courier New',monospace\">De <span style=\"color: #000000; text-decoration-color: #000000; background-color: #ffff00\">samenwerking</span> <span style=\"color: #000000; text-decoration-color: #000000; background-color: #ffff00\">tussen</span> de personen was <span style=\"color: #000000; text-decoration-color: #000000; background-color: #ffff00\">goed</span> maar de <span style=\"color: #000000; text-decoration-color: #000000; background-color: #ffff00\">doorlooptijd</span> van het <span style=\"color: #000000; text-decoration-color: #000000; background-color: #ffff00\">project</span> was <span style=\"color: #000000; text-decoration-color: #000000; background-color: #ffff00\">lang</span> in \n",
       "vergelijking <span style=\"color: #000000; text-decoration-color: #000000; background-color: #ffff00\">met</span> de <span style=\"color: #000000; text-decoration-color: #000000; background-color: #ffff00\">resultaten</span> en de <span style=\"color: #000000; text-decoration-color: #000000; background-color: #ffff00\">lessons</span> learned.\n",
       "</pre>\n"
      ],
      "text/plain": [
       "De \u001b[30;48;2;255;255;0msamenwerking\u001b[0m \u001b[30;48;2;255;255;0mtussen\u001b[0m de personen was \u001b[30;48;2;255;255;0mgoed\u001b[0m maar de \u001b[30;48;2;255;255;0mdoorlooptijd\u001b[0m van het \u001b[30;48;2;255;255;0mproject\u001b[0m was \u001b[30;48;2;255;255;0mlang\u001b[0m in \n",
       "vergelijking \u001b[30;48;2;255;255;0mmet\u001b[0m de \u001b[30;48;2;255;255;0mresultaten\u001b[0m en de \u001b[30;48;2;255;255;0mlessons\u001b[0m learned.\n"
      ]
     },
     "metadata": {},
     "output_type": "display_data"
    },
    {
     "name": "stdout",
     "output_type": "stream",
     "text": [
      "[('samenwerking', 0.4771), ('resultaten', 0.3803), ('doorlooptijd', 0.363), ('project', 0.3366), ('learned', 0.3251), ('lessons', 0.2764), ('tussen', 0.2235), ('met', 0.1883), ('goed', 0.1873), ('lang', 0.1695)]\n"
     ]
    },
    {
     "data": {
      "text/html": [
       "<pre style=\"white-space:pre;overflow-x:auto;line-height:normal;font-family:Menlo,'DejaVu Sans Mono',consolas,'Courier New',monospace\"><span style=\"color: #000000; text-decoration-color: #000000; background-color: #ffff00\">Deloitte</span> <span style=\"color: #000000; text-decoration-color: #000000; background-color: #ffff00\">werkt</span> op een zeer <span style=\"color: #000000; text-decoration-color: #000000; background-color: #ffff00\">professionele</span> manier, zij <span style=\"color: #000000; text-decoration-color: #000000; background-color: #ffff00\">bieden</span> een <span style=\"color: #000000; text-decoration-color: #000000; background-color: #ffff00\">goede</span> en <span style=\"color: #000000; text-decoration-color: #000000; background-color: #ffff00\">correcte</span> <span style=\"color: #000000; text-decoration-color: #000000; background-color: #ffff00\">service</span> \n",
       "aan. Zij houden zich ook aan <span style=\"color: #000000; text-decoration-color: #000000; background-color: #ffff00\">de</span> gemaakte afspraken.\n",
       "</pre>\n"
      ],
      "text/plain": [
       "\u001b[30;48;2;255;255;0mDeloitte\u001b[0m \u001b[30;48;2;255;255;0mwerkt\u001b[0m op een zeer \u001b[30;48;2;255;255;0mprofessionele\u001b[0m manier, zij \u001b[30;48;2;255;255;0mbieden\u001b[0m een \u001b[30;48;2;255;255;0mgoede\u001b[0m en \u001b[30;48;2;255;255;0mcorrecte\u001b[0m \u001b[30;48;2;255;255;0mservice\u001b[0m \n",
       "aan. Zij houden zich ook aan \u001b[30;48;2;255;255;0mde\u001b[0m gemaakte afspraken.\n"
      ]
     },
     "metadata": {},
     "output_type": "display_data"
    },
    {
     "name": "stdout",
     "output_type": "stream",
     "text": [
      "[('professionele', 0.4075), ('service', 0.3208), ('deloitte', 0.2606), ('afspraken', 0.2606), ('werkt', 0.2271), ('bieden', 0.212), ('goede', 0.1811), ('correcte', 0.1368), ('manier', 0.1318), ('de', 0.1314)]\n"
     ]
    },
    {
     "data": {
      "text/html": [
       "<pre style=\"white-space:pre;overflow-x:auto;line-height:normal;font-family:Menlo,'DejaVu Sans Mono',consolas,'Courier New',monospace\"><span style=\"color: #000000; text-decoration-color: #000000; background-color: #ffff00\">Fysiek</span> <span style=\"color: #000000; text-decoration-color: #000000; background-color: #ffff00\">contact</span> is <span style=\"color: #000000; text-decoration-color: #000000; background-color: #ffff00\">onontbeerlijk</span> <span style=\"color: #000000; text-decoration-color: #000000; background-color: #ffff00\">voor</span> de <span style=\"color: #000000; text-decoration-color: #000000; background-color: #ffff00\">sleutel</span> gesprekken, <span style=\"color: #000000; text-decoration-color: #000000; background-color: #ffff00\">ondanks</span> alle <span style=\"color: #000000; text-decoration-color: #000000; background-color: #ffff00\">technische</span> \n",
       "<span style=\"color: #000000; text-decoration-color: #000000; background-color: #ffff00\">hulpmiddelen</span> die er ter <span style=\"color: #000000; text-decoration-color: #000000; background-color: #ffff00\">beschikking</span> zijn.\n",
       "</pre>\n"
      ],
      "text/plain": [
       "\u001b[30;48;2;255;255;0mFysiek\u001b[0m \u001b[30;48;2;255;255;0mcontact\u001b[0m is \u001b[30;48;2;255;255;0monontbeerlijk\u001b[0m \u001b[30;48;2;255;255;0mvoor\u001b[0m de \u001b[30;48;2;255;255;0msleutel\u001b[0m gesprekken, \u001b[30;48;2;255;255;0mondanks\u001b[0m alle \u001b[30;48;2;255;255;0mtechnische\u001b[0m \n",
       "\u001b[30;48;2;255;255;0mhulpmiddelen\u001b[0m die er ter \u001b[30;48;2;255;255;0mbeschikking\u001b[0m zijn.\n"
      ]
     },
     "metadata": {},
     "output_type": "display_data"
    },
    {
     "name": "stdout",
     "output_type": "stream",
     "text": [
      "[('gesprekken', 0.4109), ('contact', 0.3889), ('technische', 0.3588), ('fysiek', 0.3438), ('hulpmiddelen', 0.3095), ('sleutel', 0.1734), ('ondanks', 0.1622), ('onontbeerlijk', 0.1593), ('beschikking', 0.1477), ('voor', 0.1415)]\n"
     ]
    },
    {
     "data": {
      "text/html": [
       "<pre style=\"white-space:pre;overflow-x:auto;line-height:normal;font-family:Menlo,'DejaVu Sans Mono',consolas,'Courier New',monospace\"><span style=\"color: #000000; text-decoration-color: #000000; background-color: #ffff00\">Zie</span> <span style=\"color: #000000; text-decoration-color: #000000; background-color: #ffff00\">relatief</span> <span style=\"color: #000000; text-decoration-color: #000000; background-color: #ffff00\">moeilijke</span> <span style=\"color: #000000; text-decoration-color: #000000; background-color: #ffff00\">opstart</span>\n",
       "</pre>\n"
      ],
      "text/plain": [
       "\u001b[30;48;2;255;255;0mZie\u001b[0m \u001b[30;48;2;255;255;0mrelatief\u001b[0m \u001b[30;48;2;255;255;0mmoeilijke\u001b[0m \u001b[30;48;2;255;255;0mopstart\u001b[0m\n"
      ]
     },
     "metadata": {},
     "output_type": "display_data"
    },
    {
     "name": "stdout",
     "output_type": "stream",
     "text": [
      "[('opstart', 0.6797), ('moeilijke', 0.6111), ('relatief', 0.4085), ('zie', 0.3648)]\n"
     ]
    },
    {
     "data": {
      "text/html": [
       "<pre style=\"white-space:pre;overflow-x:auto;line-height:normal;font-family:Menlo,'DejaVu Sans Mono',consolas,'Courier New',monospace\">De initiële <span style=\"color: #000000; text-decoration-color: #000000; background-color: #ffff00\">opstart</span> <span style=\"color: #000000; text-decoration-color: #000000; background-color: #ffff00\">was</span> <span style=\"color: #000000; text-decoration-color: #000000; background-color: #ffff00\">moeilijk</span> <span style=\"color: #000000; text-decoration-color: #000000; background-color: #ffff00\">en</span> <span style=\"color: #000000; text-decoration-color: #000000; background-color: #ffff00\">had</span> wat bijsturing nodig. De <span style=\"color: #000000; text-decoration-color: #000000; background-color: #ffff00\">huidige</span> <span style=\"color: #000000; text-decoration-color: #000000; background-color: #ffff00\">situatie</span> is al een \n",
       "<span style=\"color: #000000; text-decoration-color: #000000; background-color: #ffff00\">stuk</span> beter.\n",
       "</pre>\n"
      ],
      "text/plain": [
       "De initiële \u001b[30;48;2;255;255;0mopstart\u001b[0m \u001b[30;48;2;255;255;0mwas\u001b[0m \u001b[30;48;2;255;255;0mmoeilijk\u001b[0m \u001b[30;48;2;255;255;0men\u001b[0m \u001b[30;48;2;255;255;0mhad\u001b[0m wat bijsturing nodig. De \u001b[30;48;2;255;255;0mhuidige\u001b[0m \u001b[30;48;2;255;255;0msituatie\u001b[0m is al een \n",
       "\u001b[30;48;2;255;255;0mstuk\u001b[0m beter.\n"
      ]
     },
     "metadata": {},
     "output_type": "display_data"
    },
    {
     "name": "stdout",
     "output_type": "stream",
     "text": [
      "[('moeilijk', 0.4817), ('beter', 0.4121), ('opstart', 0.3573), ('nodig', 0.3304), ('situatie', 0.2826), ('had', 0.2801), ('huidige', 0.2599), ('stuk', 0.2448), ('was', 0.1731), ('en', 0.1723)]\n"
     ]
    },
    {
     "data": {
      "text/html": [
       "<pre style=\"white-space:pre;overflow-x:auto;line-height:normal;font-family:Menlo,'DejaVu Sans Mono',consolas,'Courier New',monospace\">Sur le fond, intégrer aux réflexions/conseils les dimensions mises en avant par la <span style=\"color: #000000; text-decoration-color: #000000; background-color: #ffff00\">crise</span> \n",
       "covid (importance de l'anticipation, développer la résilience, rôle de l'état, <span style=\"color: #000000; text-decoration-color: #000000; background-color: #ffff00\">nécessité</span> \n",
       "d'accompagner le changement, indispensable harmonie homme-nature, question climatique au \n",
       "centre des préoccupations,...). Sur la forme, fixer les règles de <span style=\"color: #000000; text-decoration-color: #000000; background-color: #ffff00\">participation</span> au séance \n",
       "collaborative, avec l'activation des caméra pour éviter que des participants restent dans \n",
       "l'ombre. recourir aux outils de co-construction à la pointe et exploiter pleinement leur \n",
       "possibilités. privilégier les séances en petits groupes (3-4) avec mise en commun. permettre \n",
       "de changer d'air : consacrer quelques minutes de chaque séance à des sujets non liés au \n",
       "projet, aux hobbies de chacun, aux expériences personnelles, aux aspirations,... Faire \n",
       "<span style=\"color: #000000; text-decoration-color: #000000; background-color: #ffff00\">intervenir</span> des invités inspirants. Montrer à chaque instant que le changement n'est pas une \n",
       "contrainte mais une <span style=\"color: #000000; text-decoration-color: #000000; background-color: #ffff00\">opportunité</span> et une source inépuisable d'enthousiasme. Créer l'appétit du \n",
       "changement :-)\n",
       "</pre>\n"
      ],
      "text/plain": [
       "Sur le fond, intégrer aux réflexions/conseils les dimensions mises en avant par la \u001b[30;48;2;255;255;0mcrise\u001b[0m \n",
       "covid (importance de l'anticipation, développer la résilience, rôle de l'état, \u001b[30;48;2;255;255;0mnécessité\u001b[0m \n",
       "d'accompagner le changement, indispensable harmonie homme-nature, question climatique au \n",
       "centre des préoccupations,...). Sur la forme, fixer les règles de \u001b[30;48;2;255;255;0mparticipation\u001b[0m au séance \n",
       "collaborative, avec l'activation des caméra pour éviter que des participants restent dans \n",
       "l'ombre. recourir aux outils de co-construction à la pointe et exploiter pleinement leur \n",
       "possibilités. privilégier les séances en petits groupes (3-4) avec mise en commun. permettre \n",
       "de changer d'air : consacrer quelques minutes de chaque séance à des sujets non liés au \n",
       "projet, aux hobbies de chacun, aux expériences personnelles, aux aspirations,... Faire \n",
       "\u001b[30;48;2;255;255;0mintervenir\u001b[0m des invités inspirants. Montrer à chaque instant que le changement n'est pas une \n",
       "contrainte mais une \u001b[30;48;2;255;255;0mopportunité\u001b[0m et une source inépuisable d'enthousiasme. Créer l'appétit du \n",
       "changement :-)\n"
      ]
     },
     "metadata": {},
     "output_type": "display_data"
    },
    {
     "name": "stdout",
     "output_type": "stream",
     "text": [
      "[('crise', 0.5879), ('résilience', 0.5062), ('projet', 0.5023), ('préoccupations', 0.501), ('nécessité', 0.487), ('participation', 0.4613), ('possibilités', 0.4539), ('intervenir', 0.4508), ('importance', 0.4443), ('opportunité', 0.4387)]\n"
     ]
    },
    {
     "data": {
      "text/html": [
       "<pre style=\"white-space:pre;overflow-x:auto;line-height:normal;font-family:Menlo,'DejaVu Sans Mono',consolas,'Courier New',monospace\">Petites <span style=\"color: #000000; text-decoration-color: #000000; background-color: #ffff00\">difficultés</span> <span style=\"color: #000000; text-decoration-color: #000000; background-color: #ffff00\">rencontrées</span> avec des <span style=\"color: #000000; text-decoration-color: #000000; background-color: #ffff00\">outils</span> de co-construction <span style=\"color: #000000; text-decoration-color: #000000; background-color: #ffff00\">en</span> ligne (Miro,...) <span style=\"color: #000000; text-decoration-color: #000000; background-color: #ffff00\">et</span> \n",
       "avec l'enregistrement de <span style=\"color: #000000; text-decoration-color: #000000; background-color: #ffff00\">séances</span>\n",
       "</pre>\n"
      ],
      "text/plain": [
       "Petites \u001b[30;48;2;255;255;0mdifficultés\u001b[0m \u001b[30;48;2;255;255;0mrencontrées\u001b[0m avec des \u001b[30;48;2;255;255;0moutils\u001b[0m de co-construction \u001b[30;48;2;255;255;0men\u001b[0m ligne (Miro,...) \u001b[30;48;2;255;255;0met\u001b[0m \n",
       "avec l'enregistrement de \u001b[30;48;2;255;255;0mséances\u001b[0m\n"
      ]
     },
     "metadata": {},
     "output_type": "display_data"
    },
    {
     "name": "stdout",
     "output_type": "stream",
     "text": [
      "[('séances', 0.4555), ('outils', 0.4515), ('enregistrement', 0.3851), ('difficultés', 0.3694), ('miro', 0.3607), ('rencontrées', 0.3496), ('construction', 0.3115), ('co', 0.2953), ('en', 0.286), ('et', 0.2855)]\n"
     ]
    },
    {
     "data": {
      "text/html": [
       "<pre style=\"white-space:pre;overflow-x:auto;line-height:normal;font-family:Menlo,'DejaVu Sans Mono',consolas,'Courier New',monospace\"><span style=\"color: #000000; text-decoration-color: #000000; background-color: #ffff00\">Difficile</span> à <span style=\"color: #000000; text-decoration-color: #000000; background-color: #ffff00\">évaluer</span> ici car <span style=\"color: #000000; text-decoration-color: #000000; background-color: #ffff00\">il</span> s'agit d'un <span style=\"color: #000000; text-decoration-color: #000000; background-color: #ffff00\">financement</span> européen. <span style=\"color: #000000; text-decoration-color: #000000; background-color: #ffff00\">la</span> <span style=\"color: #000000; text-decoration-color: #000000; background-color: #ffff00\">gestion</span> <span style=\"color: #000000; text-decoration-color: #000000; background-color: #ffff00\">budgétaire</span> est \n",
       "<span style=\"color: #000000; text-decoration-color: #000000; background-color: #ffff00\">effectuée</span> <span style=\"color: #000000; text-decoration-color: #000000; background-color: #ffff00\">par</span> <span style=\"color: #000000; text-decoration-color: #000000; background-color: #ffff00\">la</span> CE\n",
       "</pre>\n"
      ],
      "text/plain": [
       "\u001b[30;48;2;255;255;0mDifficile\u001b[0m à \u001b[30;48;2;255;255;0mévaluer\u001b[0m ici car \u001b[30;48;2;255;255;0mil\u001b[0m s'agit d'un \u001b[30;48;2;255;255;0mfinancement\u001b[0m européen. \u001b[30;48;2;255;255;0mla\u001b[0m \u001b[30;48;2;255;255;0mgestion\u001b[0m \u001b[30;48;2;255;255;0mbudgétaire\u001b[0m est \n",
       "\u001b[30;48;2;255;255;0meffectuée\u001b[0m \u001b[30;48;2;255;255;0mpar\u001b[0m \u001b[30;48;2;255;255;0mla\u001b[0m CE\n"
      ]
     },
     "metadata": {},
     "output_type": "display_data"
    },
    {
     "name": "stdout",
     "output_type": "stream",
     "text": [
      "[('budgétaire', 0.5436), ('financement', 0.511), ('européen', 0.4932), ('évaluer', 0.201), ('gestion', 0.1957), ('difficile', 0.1952), ('par', 0.1291), ('effectuée', 0.1217), ('la', 0.1025), ('il', 0.0923)]\n"
     ]
    },
    {
     "data": {
      "text/html": [
       "<pre style=\"white-space:pre;overflow-x:auto;line-height:normal;font-family:Menlo,'DejaVu Sans Mono',consolas,'Courier New',monospace\"><span style=\"color: #000000; text-decoration-color: #000000; background-color: #ffff00\">Le</span> <span style=\"color: #000000; text-decoration-color: #000000; background-color: #ffff00\">projet</span> <span style=\"color: #000000; text-decoration-color: #000000; background-color: #ffff00\">est</span> <span style=\"color: #000000; text-decoration-color: #000000; background-color: #ffff00\">en</span> cours. <span style=\"color: #000000; text-decoration-color: #000000; background-color: #ffff00\">les</span> <span style=\"color: #000000; text-decoration-color: #000000; background-color: #ffff00\">livrables</span> ne <span style=\"color: #000000; text-decoration-color: #000000; background-color: #ffff00\">sont</span> <span style=\"color: #000000; text-decoration-color: #000000; background-color: #ffff00\">pas</span> <span style=\"color: #000000; text-decoration-color: #000000; background-color: #ffff00\">finalisés</span>\n",
       "</pre>\n"
      ],
      "text/plain": [
       "\u001b[30;48;2;255;255;0mLe\u001b[0m \u001b[30;48;2;255;255;0mprojet\u001b[0m \u001b[30;48;2;255;255;0mest\u001b[0m \u001b[30;48;2;255;255;0men\u001b[0m cours. \u001b[30;48;2;255;255;0mles\u001b[0m \u001b[30;48;2;255;255;0mlivrables\u001b[0m ne \u001b[30;48;2;255;255;0msont\u001b[0m \u001b[30;48;2;255;255;0mpas\u001b[0m \u001b[30;48;2;255;255;0mfinalisés\u001b[0m\n"
      ]
     },
     "metadata": {},
     "output_type": "display_data"
    },
    {
     "name": "stdout",
     "output_type": "stream",
     "text": [
      "[('projet', 0.6439), ('finalisés', 0.4629), ('livrables', 0.3779), ('pas', 0.3464), ('en', 0.3403), ('est', 0.3198), ('cours', 0.3158), ('sont', 0.3147), ('les', 0.2979), ('le', 0.283)]\n"
     ]
    },
    {
     "data": {
      "text/html": [
       "<pre style=\"white-space:pre;overflow-x:auto;line-height:normal;font-family:Menlo,'DejaVu Sans Mono',consolas,'Courier New',monospace\">toujours <span style=\"color: #000000; text-decoration-color: #000000; background-color: #ffff00\">pas</span> mal de <span style=\"color: #000000; text-decoration-color: #000000; background-color: #ffff00\">discussions</span> <span style=\"color: #000000; text-decoration-color: #000000; background-color: #ffff00\">en</span> cours, <span style=\"color: #000000; text-decoration-color: #000000; background-color: #ffff00\">difficile</span> d'évaluer à <span style=\"color: #000000; text-decoration-color: #000000; background-color: #ffff00\">ce</span> stade tant <span style=\"color: #000000; text-decoration-color: #000000; background-color: #ffff00\">que</span> la <span style=\"color: #000000; text-decoration-color: #000000; background-color: #ffff00\">mission</span> \n",
       "n'est <span style=\"color: #000000; text-decoration-color: #000000; background-color: #ffff00\">pas</span> <span style=\"color: #000000; text-decoration-color: #000000; background-color: #ffff00\">finalisée</span>\n",
       "</pre>\n"
      ],
      "text/plain": [
       "toujours \u001b[30;48;2;255;255;0mpas\u001b[0m mal de \u001b[30;48;2;255;255;0mdiscussions\u001b[0m \u001b[30;48;2;255;255;0men\u001b[0m cours, \u001b[30;48;2;255;255;0mdifficile\u001b[0m d'évaluer à \u001b[30;48;2;255;255;0mce\u001b[0m stade tant \u001b[30;48;2;255;255;0mque\u001b[0m la \u001b[30;48;2;255;255;0mmission\u001b[0m \n",
       "n'est \u001b[30;48;2;255;255;0mpas\u001b[0m \u001b[30;48;2;255;255;0mfinalisée\u001b[0m\n"
      ]
     },
     "metadata": {},
     "output_type": "display_data"
    },
    {
     "name": "stdout",
     "output_type": "stream",
     "text": [
      "[('discussions', 0.5203), ('mission', 0.5007), ('difficile', 0.451), ('finalisée', 0.3698), ('cours', 0.3358), ('évaluer', 0.3346), ('pas', 0.3335), ('en', 0.302), ('que', 0.2978), ('ce', 0.2941)]\n"
     ]
    },
    {
     "data": {
      "text/html": [
       "<pre style=\"white-space:pre;overflow-x:auto;line-height:normal;font-family:Menlo,'DejaVu Sans Mono',consolas,'Courier New',monospace\"><span style=\"color: #000000; text-decoration-color: #000000; background-color: #ffff00\">We</span> worked on several matters. For one of the <span style=\"color: #000000; text-decoration-color: #000000; background-color: #ffff00\">projects</span> <span style=\"color: #000000; text-decoration-color: #000000; background-color: #ffff00\">we</span> have already <span style=\"color: #000000; text-decoration-color: #000000; background-color: #ffff00\">discussed</span> that <span style=\"color: #000000; text-decoration-color: #000000; background-color: #ffff00\">better</span> \n",
       "<span style=\"color: #000000; text-decoration-color: #000000; background-color: #ffff00\">project</span> <span style=\"color: #000000; text-decoration-color: #000000; background-color: #ffff00\">management</span> was needed to <span style=\"color: #000000; text-decoration-color: #000000; background-color: #ffff00\">ensure</span> that as <span style=\"color: #000000; text-decoration-color: #000000; background-color: #ffff00\">we</span> went out of scope, the <span style=\"color: #000000; text-decoration-color: #000000; background-color: #ffff00\">sponsors</span> of the \n",
       "<span style=\"color: #000000; text-decoration-color: #000000; background-color: #ffff00\">project</span> had notice of that.\n",
       "</pre>\n"
      ],
      "text/plain": [
       "\u001b[30;48;2;255;255;0mWe\u001b[0m worked on several matters. For one of the \u001b[30;48;2;255;255;0mprojects\u001b[0m \u001b[30;48;2;255;255;0mwe\u001b[0m have already \u001b[30;48;2;255;255;0mdiscussed\u001b[0m that \u001b[30;48;2;255;255;0mbetter\u001b[0m \n",
       "\u001b[30;48;2;255;255;0mproject\u001b[0m \u001b[30;48;2;255;255;0mmanagement\u001b[0m was needed to \u001b[30;48;2;255;255;0mensure\u001b[0m that as \u001b[30;48;2;255;255;0mwe\u001b[0m went out of scope, the \u001b[30;48;2;255;255;0msponsors\u001b[0m of the \n",
       "\u001b[30;48;2;255;255;0mproject\u001b[0m had notice of that.\n"
      ]
     },
     "metadata": {},
     "output_type": "display_data"
    },
    {
     "name": "stdout",
     "output_type": "stream",
     "text": [
      "[('projects', 0.5003), ('project', 0.4867), ('sponsors', 0.4145), ('management', 0.3723), ('discussed', 0.3498), ('better', 0.2649), ('matters', 0.2615), ('we', 0.2496), ('ensure', 0.2367), ('scope', 0.2296)]\n"
     ]
    },
    {
     "data": {
      "text/html": [
       "<pre style=\"white-space:pre;overflow-x:auto;line-height:normal;font-family:Menlo,'DejaVu Sans Mono',consolas,'Courier New',monospace\"><span style=\"color: #000000; text-decoration-color: #000000; background-color: #ffff00\">Very</span> <span style=\"color: #000000; text-decoration-color: #000000; background-color: #ffff00\">flexible</span> <span style=\"color: #000000; text-decoration-color: #000000; background-color: #ffff00\">given</span> <span style=\"color: #000000; text-decoration-color: #000000; background-color: #ffff00\">the</span> <span style=\"color: #000000; text-decoration-color: #000000; background-color: #ffff00\">pandemic</span> <span style=\"color: #000000; text-decoration-color: #000000; background-color: #ffff00\">issues</span>\n",
       "</pre>\n"
      ],
      "text/plain": [
       "\u001b[30;48;2;255;255;0mVery\u001b[0m \u001b[30;48;2;255;255;0mflexible\u001b[0m \u001b[30;48;2;255;255;0mgiven\u001b[0m \u001b[30;48;2;255;255;0mthe\u001b[0m \u001b[30;48;2;255;255;0mpandemic\u001b[0m \u001b[30;48;2;255;255;0missues\u001b[0m\n"
      ]
     },
     "metadata": {},
     "output_type": "display_data"
    },
    {
     "name": "stdout",
     "output_type": "stream",
     "text": [
      "[('pandemic', 0.6832), ('flexible', 0.4585), ('issues', 0.3388), ('very', 0.2848), ('the', 0.2743), ('given', 0.1898)]\n"
     ]
    },
    {
     "data": {
      "text/html": [
       "<pre style=\"white-space:pre;overflow-x:auto;line-height:normal;font-family:Menlo,'DejaVu Sans Mono',consolas,'Courier New',monospace\">Strength: Great <span style=\"color: #000000; text-decoration-color: #000000; background-color: #ffff00\">organizing</span> <span style=\"color: #000000; text-decoration-color: #000000; background-color: #ffff00\">skills</span> Improvement needed: Ensure good <span style=\"color: #000000; text-decoration-color: #000000; background-color: #ffff00\">work</span> life balance also for \n",
       "their associates: long hours are not sustainable and set unrealistic standards Improvement \n",
       "needed: In the technology area, they seem to have <span style=\"color: #000000; text-decoration-color: #000000; background-color: #ffff00\">difficulty</span> in allocating the appropriate \n",
       "internal resources - it takes time to select them. One thing that could be <span style=\"color: #000000; text-decoration-color: #000000; background-color: #ffff00\">improved</span> is their \n",
       "cross-region <span style=\"color: #000000; text-decoration-color: #000000; background-color: #ffff00\">collaboration</span> within Deloitte. One of the key reasons for selecting Deloitte was\n",
       "the fact that they were also <span style=\"color: #000000; text-decoration-color: #000000; background-color: #ffff00\">partnering</span> with the US Janssen team on the same topic. However, \n",
       "we have seen limited <span style=\"color: #000000; text-decoration-color: #000000; background-color: #ffff00\">collaboration</span> and leverage on a global scale. There was limited \n",
       "<span style=\"color: #000000; text-decoration-color: #000000; background-color: #ffff00\">proactive</span> sharing from the US approach, even though they were a few months ahead of us, and \n",
       "going through the same phases as we had in EMEA.\n",
       "</pre>\n"
      ],
      "text/plain": [
       "Strength: Great \u001b[30;48;2;255;255;0morganizing\u001b[0m \u001b[30;48;2;255;255;0mskills\u001b[0m Improvement needed: Ensure good \u001b[30;48;2;255;255;0mwork\u001b[0m life balance also for \n",
       "their associates: long hours are not sustainable and set unrealistic standards Improvement \n",
       "needed: In the technology area, they seem to have \u001b[30;48;2;255;255;0mdifficulty\u001b[0m in allocating the appropriate \n",
       "internal resources - it takes time to select them. One thing that could be \u001b[30;48;2;255;255;0mimproved\u001b[0m is their \n",
       "cross-region \u001b[30;48;2;255;255;0mcollaboration\u001b[0m within Deloitte. One of the key reasons for selecting Deloitte was\n",
       "the fact that they were also \u001b[30;48;2;255;255;0mpartnering\u001b[0m with the US Janssen team on the same topic. However, \n",
       "we have seen limited \u001b[30;48;2;255;255;0mcollaboration\u001b[0m and leverage on a global scale. There was limited \n",
       "\u001b[30;48;2;255;255;0mproactive\u001b[0m sharing from the US approach, even though they were a few months ahead of us, and \n",
       "going through the same phases as we had in EMEA.\n"
      ]
     },
     "metadata": {},
     "output_type": "display_data"
    },
    {
     "name": "stdout",
     "output_type": "stream",
     "text": [
      "[('skills', 0.4618), ('collaboration', 0.46), ('strength', 0.4421), ('partnering', 0.417), ('associates', 0.3919), ('proactive', 0.3561), ('work', 0.3518), ('organizing', 0.3387), ('improved', 0.3159), ('difficulty', 0.3156)]\n"
     ]
    },
    {
     "data": {
      "text/html": [
       "<pre style=\"white-space:pre;overflow-x:auto;line-height:normal;font-family:Menlo,'DejaVu Sans Mono',consolas,'Courier New',monospace\">Strength: Open <span style=\"color: #000000; text-decoration-color: #000000; background-color: #ffff00\">dialogue</span> at all levels; <span style=\"color: #000000; text-decoration-color: #000000; background-color: #ffff00\">ability</span> to raise sensitive <span style=\"color: #000000; text-decoration-color: #000000; background-color: #ffff00\">topics</span> Strength: Great \n",
       "relationship building Improvement needed: Cross-region <span style=\"color: #000000; text-decoration-color: #000000; background-color: #ffff00\">collaboration</span> (EMEA-US), and <span style=\"color: #000000; text-decoration-color: #000000; background-color: #ffff00\">potential</span>\n",
       "to leverage approach from other Janssen <span style=\"color: #000000; text-decoration-color: #000000; background-color: #ffff00\">projects</span> where Deloitte is partnering. Lack of <span style=\"color: #000000; text-decoration-color: #000000; background-color: #ffff00\">global</span>\n",
       "coordination.\n",
       "</pre>\n"
      ],
      "text/plain": [
       "Strength: Open \u001b[30;48;2;255;255;0mdialogue\u001b[0m at all levels; \u001b[30;48;2;255;255;0mability\u001b[0m to raise sensitive \u001b[30;48;2;255;255;0mtopics\u001b[0m Strength: Great \n",
       "relationship building Improvement needed: Cross-region \u001b[30;48;2;255;255;0mcollaboration\u001b[0m (EMEA-US), and \u001b[30;48;2;255;255;0mpotential\u001b[0m\n",
       "to leverage approach from other Janssen \u001b[30;48;2;255;255;0mprojects\u001b[0m where Deloitte is partnering. Lack of \u001b[30;48;2;255;255;0mglobal\u001b[0m\n",
       "coordination.\n"
      ]
     },
     "metadata": {},
     "output_type": "display_data"
    },
    {
     "name": "stdout",
     "output_type": "stream",
     "text": [
      "[('collaboration', 0.5361), ('partnering', 0.4865), ('dialogue', 0.4286), ('strength', 0.4001), ('coordination', 0.363), ('topics', 0.3347), ('projects', 0.324), ('potential', 0.3091), ('ability', 0.2898), ('global', 0.2871)]\n"
     ]
    },
    {
     "data": {
      "text/html": [
       "<pre style=\"white-space:pre;overflow-x:auto;line-height:normal;font-family:Menlo,'DejaVu Sans Mono',consolas,'Courier New',monospace\"><span style=\"color: #000000; text-decoration-color: #000000; background-color: #ffff00\">Improvement</span> needed: <span style=\"color: #000000; text-decoration-color: #000000; background-color: #ffff00\">We</span> <span style=\"color: #000000; text-decoration-color: #000000; background-color: #ffff00\">need</span> <span style=\"color: #000000; text-decoration-color: #000000; background-color: #ffff00\">better</span> <span style=\"color: #000000; text-decoration-color: #000000; background-color: #ffff00\">connections</span> <span style=\"color: #000000; text-decoration-color: #000000; background-color: #ffff00\">across</span> the Deloitte Teams <span style=\"color: #000000; text-decoration-color: #000000; background-color: #ffff00\">supporting</span> <span style=\"color: #000000; text-decoration-color: #000000; background-color: #ffff00\">us</span> - in \n",
       "particular to ensure <span style=\"color: #000000; text-decoration-color: #000000; background-color: #ffff00\">learnings</span> from the <span style=\"color: #000000; text-decoration-color: #000000; background-color: #ffff00\">US</span> flow both through Janssen and <span style=\"color: #000000; text-decoration-color: #000000; background-color: #ffff00\">us</span>\n",
       "</pre>\n"
      ],
      "text/plain": [
       "\u001b[30;48;2;255;255;0mImprovement\u001b[0m needed: \u001b[30;48;2;255;255;0mWe\u001b[0m \u001b[30;48;2;255;255;0mneed\u001b[0m \u001b[30;48;2;255;255;0mbetter\u001b[0m \u001b[30;48;2;255;255;0mconnections\u001b[0m \u001b[30;48;2;255;255;0macross\u001b[0m the Deloitte Teams \u001b[30;48;2;255;255;0msupporting\u001b[0m \u001b[30;48;2;255;255;0mus\u001b[0m - in \n",
       "particular to ensure \u001b[30;48;2;255;255;0mlearnings\u001b[0m from the \u001b[30;48;2;255;255;0mUS\u001b[0m flow both through Janssen and \u001b[30;48;2;255;255;0mus\u001b[0m\n"
      ]
     },
     "metadata": {},
     "output_type": "display_data"
    },
    {
     "name": "stdout",
     "output_type": "stream",
     "text": [
      "[('us', 0.416), ('we', 0.3691), ('learnings', 0.3335), ('supporting', 0.3089), ('needed', 0.2986), ('improvement', 0.2947), ('need', 0.2837), ('better', 0.2795), ('connections', 0.266), ('across', 0.2479)]\n"
     ]
    },
    {
     "data": {
      "text/html": [
       "<pre style=\"white-space:pre;overflow-x:auto;line-height:normal;font-family:Menlo,'DejaVu Sans Mono',consolas,'Courier New',monospace\">Strength: <span style=\"color: #000000; text-decoration-color: #000000; background-color: #ffff00\">Methodology</span> <span style=\"color: #000000; text-decoration-color: #000000; background-color: #ffff00\">and</span> <span style=\"color: #000000; text-decoration-color: #000000; background-color: #ffff00\">subject</span> <span style=\"color: #000000; text-decoration-color: #000000; background-color: #ffff00\">matter</span> <span style=\"color: #000000; text-decoration-color: #000000; background-color: #ffff00\">expertise</span>\n",
       "</pre>\n"
      ],
      "text/plain": [
       "Strength: \u001b[30;48;2;255;255;0mMethodology\u001b[0m \u001b[30;48;2;255;255;0mand\u001b[0m \u001b[30;48;2;255;255;0msubject\u001b[0m \u001b[30;48;2;255;255;0mmatter\u001b[0m \u001b[30;48;2;255;255;0mexpertise\u001b[0m\n"
      ]
     },
     "metadata": {},
     "output_type": "display_data"
    },
    {
     "name": "stdout",
     "output_type": "stream",
     "text": [
      "[('expertise', 0.6859), ('strength', 0.6325), ('subject', 0.5934), ('methodology', 0.4982), ('matter', 0.4426), ('and', 0.3069)]\n"
     ]
    },
    {
     "data": {
      "text/html": [
       "<pre style=\"white-space:pre;overflow-x:auto;line-height:normal;font-family:Menlo,'DejaVu Sans Mono',consolas,'Courier New',monospace\">Strength: <span style=\"color: #000000; text-decoration-color: #000000; background-color: #ffff00\">Skillful</span> resources, <span style=\"color: #000000; text-decoration-color: #000000; background-color: #ffff00\">commitment</span> to deliver quality, <span style=\"color: #000000; text-decoration-color: #000000; background-color: #ffff00\">budget</span> follow-up, <span style=\"color: #000000; text-decoration-color: #000000; background-color: #ffff00\">flexibility</span> \n",
       "and agility, <span style=\"color: #000000; text-decoration-color: #000000; background-color: #ffff00\">proactive</span> attitude.\n",
       "</pre>\n"
      ],
      "text/plain": [
       "Strength: \u001b[30;48;2;255;255;0mSkillful\u001b[0m resources, \u001b[30;48;2;255;255;0mcommitment\u001b[0m to deliver quality, \u001b[30;48;2;255;255;0mbudget\u001b[0m follow-up, \u001b[30;48;2;255;255;0mflexibility\u001b[0m \n",
       "and agility, \u001b[30;48;2;255;255;0mproactive\u001b[0m attitude.\n"
      ]
     },
     "metadata": {},
     "output_type": "display_data"
    },
    {
     "name": "stdout",
     "output_type": "stream",
     "text": [
      "[('strength', 0.663), ('agility', 0.5614), ('skillful', 0.5395), ('flexibility', 0.482), ('commitment', 0.4494), ('resources', 0.4456), ('proactive', 0.4432), ('quality', 0.4084), ('attitude', 0.3375), ('budget', 0.2992)]\n"
     ]
    },
    {
     "data": {
      "text/html": [
       "<pre style=\"white-space:pre;overflow-x:auto;line-height:normal;font-family:Menlo,'DejaVu Sans Mono',consolas,'Courier New',monospace\">This <span style=\"color: #000000; text-decoration-color: #000000; background-color: #ffff00\">can</span> <span style=\"color: #000000; text-decoration-color: #000000; background-color: #ffff00\">always</span> be improved. <span style=\"color: #000000; text-decoration-color: #000000; background-color: #ffff00\">Maybe</span> <span style=\"color: #000000; text-decoration-color: #000000; background-color: #ffff00\">more</span> <span style=\"color: #000000; text-decoration-color: #000000; background-color: #ffff00\">related</span> to my <span style=\"color: #000000; text-decoration-color: #000000; background-color: #ffff00\">team</span> to be <span style=\"color: #000000; text-decoration-color: #000000; background-color: #ffff00\">able</span> to <span style=\"color: #000000; text-decoration-color: #000000; background-color: #ffff00\">look</span> outside of the \n",
       "box.\n",
       "</pre>\n"
      ],
      "text/plain": [
       "This \u001b[30;48;2;255;255;0mcan\u001b[0m \u001b[30;48;2;255;255;0malways\u001b[0m be improved. \u001b[30;48;2;255;255;0mMaybe\u001b[0m \u001b[30;48;2;255;255;0mmore\u001b[0m \u001b[30;48;2;255;255;0mrelated\u001b[0m to my \u001b[30;48;2;255;255;0mteam\u001b[0m to be \u001b[30;48;2;255;255;0mable\u001b[0m to \u001b[30;48;2;255;255;0mlook\u001b[0m outside of the \n",
       "box.\n"
      ]
     },
     "metadata": {},
     "output_type": "display_data"
    },
    {
     "name": "stdout",
     "output_type": "stream",
     "text": [
      "[('improved', 0.4375), ('team', 0.4224), ('box', 0.3188), ('more', 0.2701), ('look', 0.2491), ('able', 0.2419), ('can', 0.2408), ('maybe', 0.2086), ('related', 0.1976), ('always', 0.1966)]\n"
     ]
    },
    {
     "data": {
      "text/html": [
       "<pre style=\"white-space:pre;overflow-x:auto;line-height:normal;font-family:Menlo,'DejaVu Sans Mono',consolas,'Courier New',monospace\"><span style=\"color: #000000; text-decoration-color: #000000; background-color: #ffff00\">F2F</span> <span style=\"color: #000000; text-decoration-color: #000000; background-color: #ffff00\">would</span> <span style=\"color: #000000; text-decoration-color: #000000; background-color: #ffff00\">have</span> <span style=\"color: #000000; text-decoration-color: #000000; background-color: #ffff00\">been</span> <span style=\"color: #000000; text-decoration-color: #000000; background-color: #ffff00\">easier</span> <span style=\"color: #000000; text-decoration-color: #000000; background-color: #ffff00\">but</span> the <span style=\"color: #000000; text-decoration-color: #000000; background-color: #ffff00\">offered</span> <span style=\"color: #000000; text-decoration-color: #000000; background-color: #ffff00\">solutions</span> <span style=\"color: #000000; text-decoration-color: #000000; background-color: #ffff00\">were</span> good.\n",
       "</pre>\n"
      ],
      "text/plain": [
       "\u001b[30;48;2;255;255;0mF2F\u001b[0m \u001b[30;48;2;255;255;0mwould\u001b[0m \u001b[30;48;2;255;255;0mhave\u001b[0m \u001b[30;48;2;255;255;0mbeen\u001b[0m \u001b[30;48;2;255;255;0measier\u001b[0m \u001b[30;48;2;255;255;0mbut\u001b[0m the \u001b[30;48;2;255;255;0moffered\u001b[0m \u001b[30;48;2;255;255;0msolutions\u001b[0m \u001b[30;48;2;255;255;0mwere\u001b[0m good.\n"
      ]
     },
     "metadata": {},
     "output_type": "display_data"
    },
    {
     "name": "stdout",
     "output_type": "stream",
     "text": [
      "[('f2f', 0.4818), ('solutions', 0.364), ('easier', 0.3512), ('good', 0.2772), ('offered', 0.2036), ('would', 0.1697), ('been', 0.1587), ('but', 0.1456), ('were', 0.1396), ('have', 0.1174)]\n"
     ]
    },
    {
     "data": {
      "text/html": [
       "<pre style=\"white-space:pre;overflow-x:auto;line-height:normal;font-family:Menlo,'DejaVu Sans Mono',consolas,'Courier New',monospace\"><span style=\"color: #000000; text-decoration-color: #000000; background-color: #ffff00\">good</span> <span style=\"color: #000000; text-decoration-color: #000000; background-color: #ffff00\">balance</span> <span style=\"color: #000000; text-decoration-color: #000000; background-color: #ffff00\">between</span> <span style=\"color: #000000; text-decoration-color: #000000; background-color: #ffff00\">virtual</span> <span style=\"color: #000000; text-decoration-color: #000000; background-color: #ffff00\">and</span> <span style=\"color: #000000; text-decoration-color: #000000; background-color: #ffff00\">F2F</span>\n",
       "</pre>\n"
      ],
      "text/plain": [
       "\u001b[30;48;2;255;255;0mgood\u001b[0m \u001b[30;48;2;255;255;0mbalance\u001b[0m \u001b[30;48;2;255;255;0mbetween\u001b[0m \u001b[30;48;2;255;255;0mvirtual\u001b[0m \u001b[30;48;2;255;255;0mand\u001b[0m \u001b[30;48;2;255;255;0mF2F\u001b[0m\n"
      ]
     },
     "metadata": {},
     "output_type": "display_data"
    },
    {
     "name": "stdout",
     "output_type": "stream",
     "text": [
      "[('f2f', 0.6779), ('virtual', 0.5998), ('balance', 0.3581), ('between', 0.2803), ('and', 0.1814), ('good', 0.1802)]\n"
     ]
    },
    {
     "data": {
      "text/html": [
       "<pre style=\"white-space:pre;overflow-x:auto;line-height:normal;font-family:Menlo,'DejaVu Sans Mono',consolas,'Courier New',monospace\">We worked with <span style=\"color: #000000; text-decoration-color: #000000; background-color: #ffff00\">Deloitte</span> to do a quick <span style=\"color: #000000; text-decoration-color: #000000; background-color: #ffff00\">scan</span> on our <span style=\"color: #000000; text-decoration-color: #000000; background-color: #ffff00\">global</span> <span style=\"color: #000000; text-decoration-color: #000000; background-color: #ffff00\">spend</span> and we <span style=\"color: #000000; text-decoration-color: #000000; background-color: #ffff00\">identified</span> areas <span style=\"color: #000000; text-decoration-color: #000000; background-color: #ffff00\">for</span> \n",
       "opportunity. Deloitte's role was to <span style=\"color: #000000; text-decoration-color: #000000; background-color: #ffff00\">collect</span> the various <span style=\"color: #000000; text-decoration-color: #000000; background-color: #ffff00\">data</span> sources and <span style=\"color: #000000; text-decoration-color: #000000; background-color: #ffff00\">summarize</span> in a \n",
       "single view.\n",
       "</pre>\n"
      ],
      "text/plain": [
       "We worked with \u001b[30;48;2;255;255;0mDeloitte\u001b[0m to do a quick \u001b[30;48;2;255;255;0mscan\u001b[0m on our \u001b[30;48;2;255;255;0mglobal\u001b[0m \u001b[30;48;2;255;255;0mspend\u001b[0m and we \u001b[30;48;2;255;255;0midentified\u001b[0m areas \u001b[30;48;2;255;255;0mfor\u001b[0m \n",
       "opportunity. Deloitte's role was to \u001b[30;48;2;255;255;0mcollect\u001b[0m the various \u001b[30;48;2;255;255;0mdata\u001b[0m sources and \u001b[30;48;2;255;255;0msummarize\u001b[0m in a \n",
       "single view.\n"
      ]
     },
     "metadata": {},
     "output_type": "display_data"
    },
    {
     "name": "stdout",
     "output_type": "stream",
     "text": [
      "[('spend', 0.3078), ('deloitte', 0.283), ('data', 0.283), ('scan', 0.2601), ('summarize', 0.2573), ('collect', 0.2509), ('opportunity', 0.247), ('global', 0.2463), ('identified', 0.2129), ('for', 0.1896)]\n"
     ]
    },
    {
     "data": {
      "text/html": [
       "<pre style=\"white-space:pre;overflow-x:auto;line-height:normal;font-family:Menlo,'DejaVu Sans Mono',consolas,'Courier New',monospace\">-Very <span style=\"color: #000000; text-decoration-color: #000000; background-color: #ffff00\">good</span> <span style=\"color: #000000; text-decoration-color: #000000; background-color: #ffff00\">design</span> of playbook, <span style=\"color: #000000; text-decoration-color: #000000; background-color: #ffff00\">excellent</span> thinking with us in shaping the <span style=\"color: #000000; text-decoration-color: #000000; background-color: #ffff00\">C19</span> <span style=\"color: #000000; text-decoration-color: #000000; background-color: #ffff00\">vaccine</span> <span style=\"color: #000000; text-decoration-color: #000000; background-color: #ffff00\">order</span> \n",
       "and contract process -Deloitte provided <span style=\"color: #000000; text-decoration-color: #000000; background-color: #ffff00\">excellent</span> support <span style=\"color: #000000; text-decoration-color: #000000; background-color: #ffff00\">for</span> this key <span style=\"color: #000000; text-decoration-color: #000000; background-color: #ffff00\">initiative</span> as they \n",
       "have in the past <span style=\"color: #000000; text-decoration-color: #000000; background-color: #ffff00\">for</span> our GPH business.\n",
       "</pre>\n"
      ],
      "text/plain": [
       "-Very \u001b[30;48;2;255;255;0mgood\u001b[0m \u001b[30;48;2;255;255;0mdesign\u001b[0m of playbook, \u001b[30;48;2;255;255;0mexcellent\u001b[0m thinking with us in shaping the \u001b[30;48;2;255;255;0mC19\u001b[0m \u001b[30;48;2;255;255;0mvaccine\u001b[0m \u001b[30;48;2;255;255;0morder\u001b[0m \n",
       "and contract process -Deloitte provided \u001b[30;48;2;255;255;0mexcellent\u001b[0m support \u001b[30;48;2;255;255;0mfor\u001b[0m this key \u001b[30;48;2;255;255;0minitiative\u001b[0m as they \n",
       "have in the past \u001b[30;48;2;255;255;0mfor\u001b[0m our GPH business.\n"
      ]
     },
     "metadata": {},
     "output_type": "display_data"
    },
    {
     "name": "stdout",
     "output_type": "stream",
     "text": [
      "[('playbook', 0.4404), ('vaccine', 0.4356), ('c19', 0.3783), ('deloitte', 0.3751), ('initiative', 0.3429), ('good', 0.3063), ('design', 0.288), ('excellent', 0.2874), ('for', 0.2705), ('order', 0.2661)]\n"
     ]
    },
    {
     "data": {
      "text/html": [
       "<pre style=\"white-space:pre;overflow-x:auto;line-height:normal;font-family:Menlo,'DejaVu Sans Mono',consolas,'Courier New',monospace\">Zeker <span style=\"color: #000000; text-decoration-color: #000000; background-color: #ffff00\">blijven</span> <span style=\"color: #000000; text-decoration-color: #000000; background-color: #ffff00\">regelmatige</span> touchpoint-vergaderingen <span style=\"color: #000000; text-decoration-color: #000000; background-color: #ffff00\">doen</span> <span style=\"color: #000000; text-decoration-color: #000000; background-color: #ffff00\">nu</span> <span style=\"color: #000000; text-decoration-color: #000000; background-color: #ffff00\">wel</span> <span style=\"color: #000000; text-decoration-color: #000000; background-color: #ffff00\">elkaar</span> <span style=\"color: #000000; text-decoration-color: #000000; background-color: #ffff00\">minder</span> fysiek \n",
       "<span style=\"color: #000000; text-decoration-color: #000000; background-color: #ffff00\">tegenkomen</span>\n",
       "</pre>\n"
      ],
      "text/plain": [
       "Zeker \u001b[30;48;2;255;255;0mblijven\u001b[0m \u001b[30;48;2;255;255;0mregelmatige\u001b[0m touchpoint-vergaderingen \u001b[30;48;2;255;255;0mdoen\u001b[0m \u001b[30;48;2;255;255;0mnu\u001b[0m \u001b[30;48;2;255;255;0mwel\u001b[0m \u001b[30;48;2;255;255;0melkaar\u001b[0m \u001b[30;48;2;255;255;0mminder\u001b[0m fysiek \n",
       "\u001b[30;48;2;255;255;0mtegenkomen\u001b[0m\n"
      ]
     },
     "metadata": {},
     "output_type": "display_data"
    },
    {
     "name": "stdout",
     "output_type": "stream",
     "text": [
      "[('vergaderingen', 0.5153), ('touchpoint', 0.4708), ('elkaar', 0.2592), ('regelmatige', 0.2587), ('minder', 0.2486), ('blijven', 0.2361), ('nu', 0.1873), ('tegenkomen', 0.1735), ('doen', 0.1691), ('wel', 0.151)]\n"
     ]
    },
    {
     "data": {
      "text/html": [
       "<pre style=\"white-space:pre;overflow-x:auto;line-height:normal;font-family:Menlo,'DejaVu Sans Mono',consolas,'Courier New',monospace\">Het blijft af en toe een evenwichtsoefening: <span style=\"color: #000000; text-decoration-color: #000000; background-color: #ffff00\">wij</span> die proberen eerder <span style=\"color: #000000; text-decoration-color: #000000; background-color: #ffff00\">pragmatisch</span> bepaalde \n",
       "<span style=\"color: #000000; text-decoration-color: #000000; background-color: #ffff00\">regels</span> en <span style=\"color: #000000; text-decoration-color: #000000; background-color: #ffff00\">rapporteringsverplichtingen</span> te bekijken en jullie die <span style=\"color: #000000; text-decoration-color: #000000; background-color: #ffff00\">ons</span> het 'eerder <span style=\"color: #000000; text-decoration-color: #000000; background-color: #ffff00\">stricte</span> \n",
       "IFRS-advies' aanbieden. Ik zie dat we de afgelopen maanden elkaar al iets <span style=\"color: #000000; text-decoration-color: #000000; background-color: #ffff00\">beter</span> aanvoelen op \n",
       "dat vlak, maar er moet begrip zijn <span style=\"color: #000000; text-decoration-color: #000000; background-color: #ffff00\">voor</span> het feit dat <span style=\"color: #000000; text-decoration-color: #000000; background-color: #ffff00\">wij</span> de 'gulden middenweg' <span style=\"color: #000000; text-decoration-color: #000000; background-color: #ffff00\">tussen</span> beide \n",
       "oplossingen zoeken\n",
       "</pre>\n"
      ],
      "text/plain": [
       "Het blijft af en toe een evenwichtsoefening: \u001b[30;48;2;255;255;0mwij\u001b[0m die proberen eerder \u001b[30;48;2;255;255;0mpragmatisch\u001b[0m bepaalde \n",
       "\u001b[30;48;2;255;255;0mregels\u001b[0m en \u001b[30;48;2;255;255;0mrapporteringsverplichtingen\u001b[0m te bekijken en jullie die \u001b[30;48;2;255;255;0mons\u001b[0m het 'eerder \u001b[30;48;2;255;255;0mstricte\u001b[0m \n",
       "IFRS-advies' aanbieden. Ik zie dat we de afgelopen maanden elkaar al iets \u001b[30;48;2;255;255;0mbeter\u001b[0m aanvoelen op \n",
       "dat vlak, maar er moet begrip zijn \u001b[30;48;2;255;255;0mvoor\u001b[0m het feit dat \u001b[30;48;2;255;255;0mwij\u001b[0m de 'gulden middenweg' \u001b[30;48;2;255;255;0mtussen\u001b[0m beide \n",
       "oplossingen zoeken\n"
      ]
     },
     "metadata": {},
     "output_type": "display_data"
    },
    {
     "name": "stdout",
     "output_type": "stream",
     "text": [
      "[('pragmatisch', 0.5177), ('rapporteringsverplichtingen', 0.4767), ('evenwichtsoefening', 0.4487), ('regels', 0.4288), ('beter', 0.4224), ('stricte', 0.419), ('tussen', 0.4062), ('wij', 0.3982), ('ons', 0.3941), ('voor', 0.3855)]\n"
     ]
    },
    {
     "data": {
      "text/html": [
       "<pre style=\"white-space:pre;overflow-x:auto;line-height:normal;font-family:Menlo,'DejaVu Sans Mono',consolas,'Courier New',monospace\">Ik <span style=\"color: #000000; text-decoration-color: #000000; background-color: #ffff00\">apprecieer</span> het <span style=\"color: #000000; text-decoration-color: #000000; background-color: #ffff00\">mee</span> <span style=\"color: #000000; text-decoration-color: #000000; background-color: #ffff00\">vooruit</span> denken ivm <span style=\"color: #000000; text-decoration-color: #000000; background-color: #ffff00\">onze</span> <span style=\"color: #000000; text-decoration-color: #000000; background-color: #ffff00\">toekomstige</span> noden, het team(Joris/Jef) <span style=\"color: #000000; text-decoration-color: #000000; background-color: #ffff00\">doet</span> dat\n",
       "heel <span style=\"color: #000000; text-decoration-color: #000000; background-color: #ffff00\">goed</span>\n",
       "</pre>\n"
      ],
      "text/plain": [
       "Ik \u001b[30;48;2;255;255;0mapprecieer\u001b[0m het \u001b[30;48;2;255;255;0mmee\u001b[0m \u001b[30;48;2;255;255;0mvooruit\u001b[0m denken ivm \u001b[30;48;2;255;255;0monze\u001b[0m \u001b[30;48;2;255;255;0mtoekomstige\u001b[0m noden, het team(Joris/Jef) \u001b[30;48;2;255;255;0mdoet\u001b[0m dat\n",
       "heel \u001b[30;48;2;255;255;0mgoed\u001b[0m\n"
      ]
     },
     "metadata": {},
     "output_type": "display_data"
    },
    {
     "name": "stdout",
     "output_type": "stream",
     "text": [
      "[('team', 0.5201), ('goed', 0.4345), ('toekomstige', 0.4184), ('vooruit', 0.4148), ('onze', 0.3912), ('mee', 0.3625), ('doet', 0.3602), ('apprecieer', 0.3512), ('jef', 0.2947), ('joris', 0.2946)]\n"
     ]
    },
    {
     "data": {
      "text/html": [
       "<pre style=\"white-space:pre;overflow-x:auto;line-height:normal;font-family:Menlo,'DejaVu Sans Mono',consolas,'Courier New',monospace\">De <span style=\"color: #000000; text-decoration-color: #000000; background-color: #ffff00\">permanente</span> <span style=\"color: #000000; text-decoration-color: #000000; background-color: #ffff00\">externe</span> IFRS-ondersteuning <span style=\"color: #000000; text-decoration-color: #000000; background-color: #ffff00\">blijft</span> <span style=\"color: #000000; text-decoration-color: #000000; background-color: #ffff00\">voor</span> <span style=\"color: #000000; text-decoration-color: #000000; background-color: #ffff00\">ons</span> <span style=\"color: #000000; text-decoration-color: #000000; background-color: #ffff00\">natuurlijk</span> een behoorlijke kost. Net\n",
       "<span style=\"color: #000000; text-decoration-color: #000000; background-color: #ffff00\">nog</span> een <span style=\"color: #000000; text-decoration-color: #000000; background-color: #ffff00\">prijsverhoging</span> gekregen\n",
       "</pre>\n"
      ],
      "text/plain": [
       "De \u001b[30;48;2;255;255;0mpermanente\u001b[0m \u001b[30;48;2;255;255;0mexterne\u001b[0m IFRS-ondersteuning \u001b[30;48;2;255;255;0mblijft\u001b[0m \u001b[30;48;2;255;255;0mvoor\u001b[0m \u001b[30;48;2;255;255;0mons\u001b[0m \u001b[30;48;2;255;255;0mnatuurlijk\u001b[0m een behoorlijke kost. Net\n",
       "\u001b[30;48;2;255;255;0mnog\u001b[0m een \u001b[30;48;2;255;255;0mprijsverhoging\u001b[0m gekregen\n"
      ]
     },
     "metadata": {},
     "output_type": "display_data"
    },
    {
     "name": "stdout",
     "output_type": "stream",
     "text": [
      "[('prijsverhoging', 0.332), ('ifrs', 0.3279), ('permanente', 0.3271), ('ondersteuning', 0.2995), ('blijft', 0.2813), ('externe', 0.2745), ('nog', 0.1868), ('natuurlijk', 0.1844), ('voor', 0.1838), ('ons', 0.1713)]\n"
     ]
    },
    {
     "data": {
      "text/html": [
       "<pre style=\"white-space:pre;overflow-x:auto;line-height:normal;font-family:Menlo,'DejaVu Sans Mono',consolas,'Courier New',monospace\"><span style=\"color: #000000; text-decoration-color: #000000; background-color: #ffff00\">Regelmatig</span> <span style=\"color: #000000; text-decoration-color: #000000; background-color: #ffff00\">blijven</span> <span style=\"color: #000000; text-decoration-color: #000000; background-color: #ffff00\">werkoverleg</span> en <span style=\"color: #000000; text-decoration-color: #000000; background-color: #ffff00\">accountvergaderingen</span> doen. Zodra <span style=\"color: #000000; text-decoration-color: #000000; background-color: #ffff00\">toegelaten</span> <span style=\"color: #000000; text-decoration-color: #000000; background-color: #ffff00\">zeker</span> af en toe\n",
       "<span style=\"color: #000000; text-decoration-color: #000000; background-color: #ffff00\">ook</span> eens naar <span style=\"color: #000000; text-decoration-color: #000000; background-color: #ffff00\">kantoor</span> <span style=\"color: #000000; text-decoration-color: #000000; background-color: #ffff00\">komen</span>\n",
       "</pre>\n"
      ],
      "text/plain": [
       "\u001b[30;48;2;255;255;0mRegelmatig\u001b[0m \u001b[30;48;2;255;255;0mblijven\u001b[0m \u001b[30;48;2;255;255;0mwerkoverleg\u001b[0m en \u001b[30;48;2;255;255;0maccountvergaderingen\u001b[0m doen. Zodra \u001b[30;48;2;255;255;0mtoegelaten\u001b[0m \u001b[30;48;2;255;255;0mzeker\u001b[0m af en toe\n",
       "\u001b[30;48;2;255;255;0mook\u001b[0m eens naar \u001b[30;48;2;255;255;0mkantoor\u001b[0m \u001b[30;48;2;255;255;0mkomen\u001b[0m\n"
      ]
     },
     "metadata": {},
     "output_type": "display_data"
    },
    {
     "name": "stdout",
     "output_type": "stream",
     "text": [
      "[('accountvergaderingen', 0.599), ('kantoor', 0.5367), ('werkoverleg', 0.4669), ('regelmatig', 0.399), ('blijven', 0.3854), ('doen', 0.271), ('ook', 0.2373), ('toegelaten', 0.2337), ('zeker', 0.2181), ('komen', 0.1957)]\n"
     ]
    },
    {
     "data": {
      "text/html": [
       "<pre style=\"white-space:pre;overflow-x:auto;line-height:normal;font-family:Menlo,'DejaVu Sans Mono',consolas,'Courier New',monospace\"><span style=\"color: #000000; text-decoration-color: #000000; background-color: #ffff00\">Technologiën</span> <span style=\"color: #000000; text-decoration-color: #000000; background-color: #ffff00\">minder</span> <span style=\"color: #000000; text-decoration-color: #000000; background-color: #ffff00\">van</span> <span style=\"color: #000000; text-decoration-color: #000000; background-color: #ffff00\">toepassing</span> <span style=\"color: #000000; text-decoration-color: #000000; background-color: #ffff00\">voor</span> <span style=\"color: #000000; text-decoration-color: #000000; background-color: #ffff00\">dit</span> <span style=\"color: #000000; text-decoration-color: #000000; background-color: #ffff00\">topic</span>\n",
       "</pre>\n"
      ],
      "text/plain": [
       "\u001b[30;48;2;255;255;0mTechnologiën\u001b[0m \u001b[30;48;2;255;255;0mminder\u001b[0m \u001b[30;48;2;255;255;0mvan\u001b[0m \u001b[30;48;2;255;255;0mtoepassing\u001b[0m \u001b[30;48;2;255;255;0mvoor\u001b[0m \u001b[30;48;2;255;255;0mdit\u001b[0m \u001b[30;48;2;255;255;0mtopic\u001b[0m\n"
      ]
     },
     "metadata": {},
     "output_type": "display_data"
    },
    {
     "name": "stdout",
     "output_type": "stream",
     "text": [
      "[('technologiën', 0.6935), ('minder', 0.358), ('topic', 0.358), ('toepassing', 0.2823), ('van', 0.1714), ('voor', 0.1683), ('dit', 0.1566)]\n"
     ]
    },
    {
     "data": {
      "text/html": [
       "<pre style=\"white-space:pre;overflow-x:auto;line-height:normal;font-family:Menlo,'DejaVu Sans Mono',consolas,'Courier New',monospace\"><span style=\"color: #000000; text-decoration-color: #000000; background-color: #ffff00\">Strong</span> <span style=\"color: #000000; text-decoration-color: #000000; background-color: #ffff00\">collaborative</span> culture.\n",
       "</pre>\n"
      ],
      "text/plain": [
       "\u001b[30;48;2;255;255;0mStrong\u001b[0m \u001b[30;48;2;255;255;0mcollaborative\u001b[0m culture.\n"
      ]
     },
     "metadata": {},
     "output_type": "display_data"
    },
    {
     "name": "stdout",
     "output_type": "stream",
     "text": [
      "[('collaborative', 0.7807), ('culture', 0.6166), ('strong', 0.2736)]\n"
     ]
    },
    {
     "data": {
      "text/html": [
       "<pre style=\"white-space:pre;overflow-x:auto;line-height:normal;font-family:Menlo,'DejaVu Sans Mono',consolas,'Courier New',monospace\">Agree, however, <span style=\"color: #000000; text-decoration-color: #000000; background-color: #ffff00\">our</span> <span style=\"color: #000000; text-decoration-color: #000000; background-color: #ffff00\">first</span> <span style=\"color: #000000; text-decoration-color: #000000; background-color: #ffff00\">impression</span> was not reflecting what <span style=\"color: #000000; text-decoration-color: #000000; background-color: #ffff00\">we</span> <span style=\"color: #000000; text-decoration-color: #000000; background-color: #ffff00\">experience</span> afterwards. <span style=\"color: #000000; text-decoration-color: #000000; background-color: #ffff00\">First</span> \n",
       "impression: not <span style=\"color: #000000; text-decoration-color: #000000; background-color: #ffff00\">well</span> prepared, 2nd <span style=\"color: #000000; text-decoration-color: #000000; background-color: #ffff00\">meeting</span> and on: <span style=\"color: #000000; text-decoration-color: #000000; background-color: #ffff00\">well</span> prepared, good understanding of the \n",
       "<span style=\"color: #000000; text-decoration-color: #000000; background-color: #ffff00\">company</span>\n",
       "</pre>\n"
      ],
      "text/plain": [
       "Agree, however, \u001b[30;48;2;255;255;0mour\u001b[0m \u001b[30;48;2;255;255;0mfirst\u001b[0m \u001b[30;48;2;255;255;0mimpression\u001b[0m was not reflecting what \u001b[30;48;2;255;255;0mwe\u001b[0m \u001b[30;48;2;255;255;0mexperience\u001b[0m afterwards. \u001b[30;48;2;255;255;0mFirst\u001b[0m \n",
       "impression: not \u001b[30;48;2;255;255;0mwell\u001b[0m prepared, 2nd \u001b[30;48;2;255;255;0mmeeting\u001b[0m and on: \u001b[30;48;2;255;255;0mwell\u001b[0m prepared, good understanding of the \n",
       "\u001b[30;48;2;255;255;0mcompany\u001b[0m\n"
      ]
     },
     "metadata": {},
     "output_type": "display_data"
    },
    {
     "name": "stdout",
     "output_type": "stream",
     "text": [
      "[('impression', 0.4383), ('first', 0.3982), ('experience', 0.3848), ('meeting', 0.3642), ('afterwards', 0.3535), ('company', 0.3487), ('we', 0.3159), ('our', 0.3109), ('well', 0.2809), ('however', 0.2719)]\n"
     ]
    },
    {
     "data": {
      "text/html": [
       "<pre style=\"white-space:pre;overflow-x:auto;line-height:normal;font-family:Menlo,'DejaVu Sans Mono',consolas,'Courier New',monospace\"><span style=\"color: #000000; text-decoration-color: #000000; background-color: #ffff00\">support</span> <span style=\"color: #000000; text-decoration-color: #000000; background-color: #ffff00\">contract</span> <span style=\"color: #000000; text-decoration-color: #000000; background-color: #ffff00\">zat</span> <span style=\"color: #000000; text-decoration-color: #000000; background-color: #ffff00\">er</span> <span style=\"color: #000000; text-decoration-color: #000000; background-color: #ffff00\">snel</span> door.\n",
       "</pre>\n"
      ],
      "text/plain": [
       "\u001b[30;48;2;255;255;0msupport\u001b[0m \u001b[30;48;2;255;255;0mcontract\u001b[0m \u001b[30;48;2;255;255;0mzat\u001b[0m \u001b[30;48;2;255;255;0mer\u001b[0m \u001b[30;48;2;255;255;0msnel\u001b[0m door.\n"
      ]
     },
     "metadata": {},
     "output_type": "display_data"
    },
    {
     "name": "stdout",
     "output_type": "stream",
     "text": [
      "[('contract', 0.5054), ('support', 0.3749), ('snel', 0.3408), ('door', 0.102), ('er', 0.0985), ('zat', 0.0732)]\n"
     ]
    },
    {
     "data": {
      "text/html": [
       "<pre style=\"white-space:pre;overflow-x:auto;line-height:normal;font-family:Menlo,'DejaVu Sans Mono',consolas,'Courier New',monospace\"><span style=\"color: #000000; text-decoration-color: #000000; background-color: #ffff00\">seamless</span>\n",
       "</pre>\n"
      ],
      "text/plain": [
       "\u001b[30;48;2;255;255;0mseamless\u001b[0m\n"
      ]
     },
     "metadata": {},
     "output_type": "display_data"
    },
    {
     "name": "stdout",
     "output_type": "stream",
     "text": [
      "[('seamless', 1.0)]\n"
     ]
    },
    {
     "data": {
      "text/html": [
       "<pre style=\"white-space:pre;overflow-x:auto;line-height:normal;font-family:Menlo,'DejaVu Sans Mono',consolas,'Courier New',monospace\"><span style=\"color: #000000; text-decoration-color: #000000; background-color: #ffff00\">Very</span> <span style=\"color: #000000; text-decoration-color: #000000; background-color: #ffff00\">pleasant</span> <span style=\"color: #000000; text-decoration-color: #000000; background-color: #ffff00\">to</span> <span style=\"color: #000000; text-decoration-color: #000000; background-color: #ffff00\">work</span> with, <span style=\"color: #000000; text-decoration-color: #000000; background-color: #ffff00\">able</span> <span style=\"color: #000000; text-decoration-color: #000000; background-color: #ffff00\">to</span> <span style=\"color: #000000; text-decoration-color: #000000; background-color: #ffff00\">have</span> <span style=\"color: #000000; text-decoration-color: #000000; background-color: #ffff00\">fun</span> and \"socialize\" while remaining extremely \n",
       "<span style=\"color: #000000; text-decoration-color: #000000; background-color: #ffff00\">professional</span>\n",
       "</pre>\n"
      ],
      "text/plain": [
       "\u001b[30;48;2;255;255;0mVery\u001b[0m \u001b[30;48;2;255;255;0mpleasant\u001b[0m \u001b[30;48;2;255;255;0mto\u001b[0m \u001b[30;48;2;255;255;0mwork\u001b[0m with, \u001b[30;48;2;255;255;0mable\u001b[0m \u001b[30;48;2;255;255;0mto\u001b[0m \u001b[30;48;2;255;255;0mhave\u001b[0m \u001b[30;48;2;255;255;0mfun\u001b[0m and \"socialize\" while remaining extremely \n",
       "\u001b[30;48;2;255;255;0mprofessional\u001b[0m\n"
      ]
     },
     "metadata": {},
     "output_type": "display_data"
    },
    {
     "name": "stdout",
     "output_type": "stream",
     "text": [
      "[('pleasant', 0.5154), ('professional', 0.4667), ('socialize', 0.4223), ('fun', 0.3979), ('work', 0.3335), ('with', 0.2086), ('very', 0.1868), ('have', 0.1749), ('able', 0.1712), ('to', 0.1491)]\n"
     ]
    },
    {
     "data": {
      "text/html": [
       "<pre style=\"white-space:pre;overflow-x:auto;line-height:normal;font-family:Menlo,'DejaVu Sans Mono',consolas,'Courier New',monospace\"><span style=\"color: #000000; text-decoration-color: #000000; background-color: #ffff00\">Smooth</span> <span style=\"color: #000000; text-decoration-color: #000000; background-color: #ffff00\">operations</span> <span style=\"color: #000000; text-decoration-color: #000000; background-color: #ffff00\">with</span> <span style=\"color: #000000; text-decoration-color: #000000; background-color: #ffff00\">all</span> <span style=\"color: #000000; text-decoration-color: #000000; background-color: #ffff00\">stakeholders</span>\n",
       "</pre>\n"
      ],
      "text/plain": [
       "\u001b[30;48;2;255;255;0mSmooth\u001b[0m \u001b[30;48;2;255;255;0moperations\u001b[0m \u001b[30;48;2;255;255;0mwith\u001b[0m \u001b[30;48;2;255;255;0mall\u001b[0m \u001b[30;48;2;255;255;0mstakeholders\u001b[0m\n"
      ]
     },
     "metadata": {},
     "output_type": "display_data"
    },
    {
     "name": "stdout",
     "output_type": "stream",
     "text": [
      "[('smooth', 0.5769), ('operations', 0.5291), ('stakeholders', 0.4769), ('all', 0.3366), ('with', 0.3008)]\n"
     ]
    },
    {
     "data": {
      "text/html": [
       "<pre style=\"white-space:pre;overflow-x:auto;line-height:normal;font-family:Menlo,'DejaVu Sans Mono',consolas,'Courier New',monospace\"><span style=\"color: #000000; text-decoration-color: #000000; background-color: #ffff00\">Not</span> <span style=\"color: #000000; text-decoration-color: #000000; background-color: #ffff00\">applicable</span>\n",
       "</pre>\n"
      ],
      "text/plain": [
       "\u001b[30;48;2;255;255;0mNot\u001b[0m \u001b[30;48;2;255;255;0mapplicable\u001b[0m\n"
      ]
     },
     "metadata": {},
     "output_type": "display_data"
    },
    {
     "name": "stdout",
     "output_type": "stream",
     "text": [
      "[('not', 0.7543), ('applicable', 0.7161)]\n"
     ]
    },
    {
     "data": {
      "text/html": [
       "<pre style=\"white-space:pre;overflow-x:auto;line-height:normal;font-family:Menlo,'DejaVu Sans Mono',consolas,'Courier New',monospace\"><span style=\"color: #000000; text-decoration-color: #000000; background-color: #ffff00\">Not</span> <span style=\"color: #000000; text-decoration-color: #000000; background-color: #ffff00\">cheap</span> <span style=\"color: #000000; text-decoration-color: #000000; background-color: #ffff00\">but</span> <span style=\"color: #000000; text-decoration-color: #000000; background-color: #ffff00\">good</span> value!\n",
       "</pre>\n"
      ],
      "text/plain": [
       "\u001b[30;48;2;255;255;0mNot\u001b[0m \u001b[30;48;2;255;255;0mcheap\u001b[0m \u001b[30;48;2;255;255;0mbut\u001b[0m \u001b[30;48;2;255;255;0mgood\u001b[0m value!\n"
      ]
     },
     "metadata": {},
     "output_type": "display_data"
    },
    {
     "name": "stdout",
     "output_type": "stream",
     "text": [
      "[('cheap', 0.6349), ('good', 0.6235), ('value', 0.4977), ('not', 0.2387), ('but', 0.2238)]\n"
     ]
    },
    {
     "data": {
      "text/html": [
       "<pre style=\"white-space:pre;overflow-x:auto;line-height:normal;font-family:Menlo,'DejaVu Sans Mono',consolas,'Courier New',monospace\"><span style=\"color: #000000; text-decoration-color: #000000; background-color: #ffff00\">always</span> very <span style=\"color: #000000; text-decoration-color: #000000; background-color: #ffff00\">flexible</span> and <span style=\"color: #000000; text-decoration-color: #000000; background-color: #ffff00\">willing</span> to <span style=\"color: #000000; text-decoration-color: #000000; background-color: #ffff00\">move</span> or <span style=\"color: #000000; text-decoration-color: #000000; background-color: #ffff00\">amend</span> the <span style=\"color: #000000; text-decoration-color: #000000; background-color: #ffff00\">plans</span> to <span style=\"color: #000000; text-decoration-color: #000000; background-color: #ffff00\">adapt</span> to my <span style=\"color: #000000; text-decoration-color: #000000; background-color: #ffff00\">requests</span> in an \n",
       "impressive <span style=\"color: #000000; text-decoration-color: #000000; background-color: #ffff00\">way</span> and <span style=\"color: #000000; text-decoration-color: #000000; background-color: #ffff00\">always</span> with a smile.\n",
       "</pre>\n"
      ],
      "text/plain": [
       "\u001b[30;48;2;255;255;0malways\u001b[0m very \u001b[30;48;2;255;255;0mflexible\u001b[0m and \u001b[30;48;2;255;255;0mwilling\u001b[0m to \u001b[30;48;2;255;255;0mmove\u001b[0m or \u001b[30;48;2;255;255;0mamend\u001b[0m the \u001b[30;48;2;255;255;0mplans\u001b[0m to \u001b[30;48;2;255;255;0madapt\u001b[0m to my \u001b[30;48;2;255;255;0mrequests\u001b[0m in an \n",
       "impressive \u001b[30;48;2;255;255;0mway\u001b[0m and \u001b[30;48;2;255;255;0malways\u001b[0m with a smile.\n"
      ]
     },
     "metadata": {},
     "output_type": "display_data"
    },
    {
     "name": "stdout",
     "output_type": "stream",
     "text": [
      "[('adapt', 0.4348), ('willing', 0.3922), ('requests', 0.3922), ('move', 0.3853), ('flexible', 0.3572), ('plans', 0.3508), ('smile', 0.2996), ('amend', 0.2809), ('always', 0.2333), ('way', 0.2238)]\n"
     ]
    },
    {
     "data": {
      "text/html": [
       "<pre style=\"white-space:pre;overflow-x:auto;line-height:normal;font-family:Menlo,'DejaVu Sans Mono',consolas,'Courier New',monospace\">Althought <span style=\"color: #000000; text-decoration-color: #000000; background-color: #ffff00\">the</span> <span style=\"color: #000000; text-decoration-color: #000000; background-color: #ffff00\">project</span> is not 100% done, i trust that given where <span style=\"color: #000000; text-decoration-color: #000000; background-color: #ffff00\">we</span> are today, I <span style=\"color: #000000; text-decoration-color: #000000; background-color: #ffff00\">will</span> be \n",
       "<span style=\"color: #000000; text-decoration-color: #000000; background-color: #ffff00\">satisfied</span> with <span style=\"color: #000000; text-decoration-color: #000000; background-color: #ffff00\">the</span> <span style=\"color: #000000; text-decoration-color: #000000; background-color: #ffff00\">final</span> <span style=\"color: #000000; text-decoration-color: #000000; background-color: #ffff00\">outcome</span> that <span style=\"color: #000000; text-decoration-color: #000000; background-color: #ffff00\">will</span> be <span style=\"color: #000000; text-decoration-color: #000000; background-color: #ffff00\">delivered</span> in a couple weeks\n",
       "</pre>\n"
      ],
      "text/plain": [
       "Althought \u001b[30;48;2;255;255;0mthe\u001b[0m \u001b[30;48;2;255;255;0mproject\u001b[0m is not 100% done, i trust that given where \u001b[30;48;2;255;255;0mwe\u001b[0m are today, I \u001b[30;48;2;255;255;0mwill\u001b[0m be \n",
       "\u001b[30;48;2;255;255;0msatisfied\u001b[0m with \u001b[30;48;2;255;255;0mthe\u001b[0m \u001b[30;48;2;255;255;0mfinal\u001b[0m \u001b[30;48;2;255;255;0moutcome\u001b[0m that \u001b[30;48;2;255;255;0mwill\u001b[0m be \u001b[30;48;2;255;255;0mdelivered\u001b[0m in a couple weeks\n"
      ]
     },
     "metadata": {},
     "output_type": "display_data"
    },
    {
     "name": "stdout",
     "output_type": "stream",
     "text": [
      "[('project', 0.4819), ('outcome', 0.4467), ('satisfied', 0.4349), ('final', 0.4316), ('done', 0.3902), ('will', 0.3224), ('delivered', 0.2934), ('we', 0.267), ('the', 0.2273), ('today', 0.2199)]\n"
     ]
    },
    {
     "data": {
      "text/html": [
       "<pre style=\"white-space:pre;overflow-x:auto;line-height:normal;font-family:Menlo,'DejaVu Sans Mono',consolas,'Courier New',monospace\"><span style=\"color: #000000; text-decoration-color: #000000; background-color: #ffff00\">When</span> <span style=\"color: #000000; text-decoration-color: #000000; background-color: #ffff00\">working</span> <span style=\"color: #000000; text-decoration-color: #000000; background-color: #ffff00\">with</span> a Deloitte team they are <span style=\"color: #000000; text-decoration-color: #000000; background-color: #ffff00\">always</span> <span style=\"color: #000000; text-decoration-color: #000000; background-color: #ffff00\">prepared</span> <span style=\"color: #000000; text-decoration-color: #000000; background-color: #ffff00\">before</span> the <span style=\"color: #000000; text-decoration-color: #000000; background-color: #ffff00\">meeting</span> on the <span style=\"color: #000000; text-decoration-color: #000000; background-color: #ffff00\">company</span> \n",
       "<span style=\"color: #000000; text-decoration-color: #000000; background-color: #ffff00\">environment</span> <span style=\"color: #000000; text-decoration-color: #000000; background-color: #ffff00\">and</span> current challenges.\n",
       "</pre>\n"
      ],
      "text/plain": [
       "\u001b[30;48;2;255;255;0mWhen\u001b[0m \u001b[30;48;2;255;255;0mworking\u001b[0m \u001b[30;48;2;255;255;0mwith\u001b[0m a Deloitte team they are \u001b[30;48;2;255;255;0malways\u001b[0m \u001b[30;48;2;255;255;0mprepared\u001b[0m \u001b[30;48;2;255;255;0mbefore\u001b[0m the \u001b[30;48;2;255;255;0mmeeting\u001b[0m on the \u001b[30;48;2;255;255;0mcompany\u001b[0m \n",
       "\u001b[30;48;2;255;255;0menvironment\u001b[0m \u001b[30;48;2;255;255;0mand\u001b[0m current challenges.\n"
      ]
     },
     "metadata": {},
     "output_type": "display_data"
    },
    {
     "name": "stdout",
     "output_type": "stream",
     "text": [
      "[('prepared', 0.3252), ('meeting', 0.2398), ('company', 0.2295), ('before', 0.2241), ('always', 0.1595), ('with', 0.1356), ('when', 0.1334), ('working', 0.1169), ('and', 0.1117), ('environment', 0.1111)]\n"
     ]
    },
    {
     "data": {
      "text/html": [
       "<pre style=\"white-space:pre;overflow-x:auto;line-height:normal;font-family:Menlo,'DejaVu Sans Mono',consolas,'Courier New',monospace\"><span style=\"color: #000000; text-decoration-color: #000000; background-color: #ffff00\">communication</span> <span style=\"color: #000000; text-decoration-color: #000000; background-color: #ffff00\">is</span> <span style=\"color: #000000; text-decoration-color: #000000; background-color: #ffff00\">usually</span> <span style=\"color: #000000; text-decoration-color: #000000; background-color: #ffff00\">clear</span> <span style=\"color: #000000; text-decoration-color: #000000; background-color: #ffff00\">and</span> <span style=\"color: #000000; text-decoration-color: #000000; background-color: #ffff00\">there</span> <span style=\"color: #000000; text-decoration-color: #000000; background-color: #ffff00\">is</span> <span style=\"color: #000000; text-decoration-color: #000000; background-color: #ffff00\">always</span> a <span style=\"color: #000000; text-decoration-color: #000000; background-color: #ffff00\">loop</span> back initiated by Deloitte to \n",
       "<span style=\"color: #000000; text-decoration-color: #000000; background-color: #ffff00\">confirm</span> that <span style=\"color: #000000; text-decoration-color: #000000; background-color: #ffff00\">understanding</span>\n",
       "</pre>\n"
      ],
      "text/plain": [
       "\u001b[30;48;2;255;255;0mcommunication\u001b[0m \u001b[30;48;2;255;255;0mis\u001b[0m \u001b[30;48;2;255;255;0musually\u001b[0m \u001b[30;48;2;255;255;0mclear\u001b[0m \u001b[30;48;2;255;255;0mand\u001b[0m \u001b[30;48;2;255;255;0mthere\u001b[0m \u001b[30;48;2;255;255;0mis\u001b[0m \u001b[30;48;2;255;255;0malways\u001b[0m a \u001b[30;48;2;255;255;0mloop\u001b[0m back initiated by Deloitte to \n",
       "\u001b[30;48;2;255;255;0mconfirm\u001b[0m that \u001b[30;48;2;255;255;0munderstanding\u001b[0m\n"
      ]
     },
     "metadata": {},
     "output_type": "display_data"
    },
    {
     "name": "stdout",
     "output_type": "stream",
     "text": [
      "[('clear', 0.3592), ('understanding', 0.3567), ('communication', 0.32), ('always', 0.3099), ('usually', 0.2892), ('loop', 0.2822), ('confirm', 0.2734), ('is', 0.2497), ('and', 0.233), ('there', 0.219)]\n"
     ]
    },
    {
     "data": {
      "text/html": [
       "<pre style=\"white-space:pre;overflow-x:auto;line-height:normal;font-family:Menlo,'DejaVu Sans Mono',consolas,'Courier New',monospace\"><span style=\"color: #000000; text-decoration-color: #000000; background-color: #ffff00\">This</span> <span style=\"color: #000000; text-decoration-color: #000000; background-color: #ffff00\">was</span> <span style=\"color: #000000; text-decoration-color: #000000; background-color: #ffff00\">not</span> <span style=\"color: #000000; text-decoration-color: #000000; background-color: #ffff00\">applicable</span>\n",
       "</pre>\n"
      ],
      "text/plain": [
       "\u001b[30;48;2;255;255;0mThis\u001b[0m \u001b[30;48;2;255;255;0mwas\u001b[0m \u001b[30;48;2;255;255;0mnot\u001b[0m \u001b[30;48;2;255;255;0mapplicable\u001b[0m\n"
      ]
     },
     "metadata": {},
     "output_type": "display_data"
    },
    {
     "name": "stdout",
     "output_type": "stream",
     "text": [
      "[('not', 0.5629), ('applicable', 0.4617), ('was', 0.3623), ('this', 0.2828)]\n"
     ]
    },
    {
     "data": {
      "text/html": [
       "<pre style=\"white-space:pre;overflow-x:auto;line-height:normal;font-family:Menlo,'DejaVu Sans Mono',consolas,'Courier New',monospace\"><span style=\"color: #000000; text-decoration-color: #000000; background-color: #ffff00\">Other</span> <span style=\"color: #000000; text-decoration-color: #000000; background-color: #ffff00\">than</span> a <span style=\"color: #000000; text-decoration-color: #000000; background-color: #ffff00\">bit</span> <span style=\"color: #000000; text-decoration-color: #000000; background-color: #ffff00\">more</span> <span style=\"color: #000000; text-decoration-color: #000000; background-color: #ffff00\">face</span> <span style=\"color: #000000; text-decoration-color: #000000; background-color: #ffff00\">to</span> <span style=\"color: #000000; text-decoration-color: #000000; background-color: #ffff00\">face</span> time, <span style=\"color: #000000; text-decoration-color: #000000; background-color: #ffff00\">no</span> <span style=\"color: #000000; text-decoration-color: #000000; background-color: #ffff00\">need</span> <span style=\"color: #000000; text-decoration-color: #000000; background-color: #ffff00\">to</span> change.\n",
       "</pre>\n"
      ],
      "text/plain": [
       "\u001b[30;48;2;255;255;0mOther\u001b[0m \u001b[30;48;2;255;255;0mthan\u001b[0m a \u001b[30;48;2;255;255;0mbit\u001b[0m \u001b[30;48;2;255;255;0mmore\u001b[0m \u001b[30;48;2;255;255;0mface\u001b[0m \u001b[30;48;2;255;255;0mto\u001b[0m \u001b[30;48;2;255;255;0mface\u001b[0m time, \u001b[30;48;2;255;255;0mno\u001b[0m \u001b[30;48;2;255;255;0mneed\u001b[0m \u001b[30;48;2;255;255;0mto\u001b[0m change.\n"
      ]
     },
     "metadata": {},
     "output_type": "display_data"
    },
    {
     "name": "stdout",
     "output_type": "stream",
     "text": [
      "[('time', 0.3635), ('change', 0.3368), ('face', 0.3065), ('more', 0.2765), ('no', 0.2532), ('than', 0.2127), ('to', 0.2079), ('other', 0.1773), ('need', 0.1145), ('bit', -0.0365)]\n"
     ]
    },
    {
     "data": {
      "text/html": [
       "<pre style=\"white-space:pre;overflow-x:auto;line-height:normal;font-family:Menlo,'DejaVu Sans Mono',consolas,'Courier New',monospace\"><span style=\"color: #000000; text-decoration-color: #000000; background-color: #ffff00\">Bonne</span> <span style=\"color: #000000; text-decoration-color: #000000; background-color: #ffff00\">gestion</span> <span style=\"color: #000000; text-decoration-color: #000000; background-color: #ffff00\">du</span> <span style=\"color: #000000; text-decoration-color: #000000; background-color: #ffff00\">projet</span> <span style=\"color: #000000; text-decoration-color: #000000; background-color: #ffff00\">par</span> la <span style=\"color: #000000; text-decoration-color: #000000; background-color: #ffff00\">Senior</span> <span style=\"color: #000000; text-decoration-color: #000000; background-color: #ffff00\">Team</span> <span style=\"color: #000000; text-decoration-color: #000000; background-color: #ffff00\">Manager</span> / <span style=\"color: #000000; text-decoration-color: #000000; background-color: #ffff00\">Analyst</span> <span style=\"color: #000000; text-decoration-color: #000000; background-color: #ffff00\">en</span> charge.\n",
       "</pre>\n"
      ],
      "text/plain": [
       "\u001b[30;48;2;255;255;0mBonne\u001b[0m \u001b[30;48;2;255;255;0mgestion\u001b[0m \u001b[30;48;2;255;255;0mdu\u001b[0m \u001b[30;48;2;255;255;0mprojet\u001b[0m \u001b[30;48;2;255;255;0mpar\u001b[0m la \u001b[30;48;2;255;255;0mSenior\u001b[0m \u001b[30;48;2;255;255;0mTeam\u001b[0m \u001b[30;48;2;255;255;0mManager\u001b[0m / \u001b[30;48;2;255;255;0mAnalyst\u001b[0m \u001b[30;48;2;255;255;0men\u001b[0m charge.\n"
      ]
     },
     "metadata": {},
     "output_type": "display_data"
    },
    {
     "name": "stdout",
     "output_type": "stream",
     "text": [
      "[('manager', 0.5565), ('gestion', 0.5306), ('projet', 0.4864), ('senior', 0.4862), ('analyst', 0.4232), ('team', 0.3863), ('bonne', 0.2991), ('en', 0.2646), ('par', 0.2456), ('du', 0.2446)]\n"
     ]
    },
    {
     "data": {
      "text/html": [
       "<pre style=\"white-space:pre;overflow-x:auto;line-height:normal;font-family:Menlo,'DejaVu Sans Mono',consolas,'Courier New',monospace\"><span style=\"color: #000000; text-decoration-color: #000000; background-color: #ffff00\">Bonne</span> <span style=\"color: #000000; text-decoration-color: #000000; background-color: #ffff00\">intégration</span> <span style=\"color: #000000; text-decoration-color: #000000; background-color: #ffff00\">de</span> <span style=\"color: #000000; text-decoration-color: #000000; background-color: #ffff00\">Deloitte</span> <span style=\"color: #000000; text-decoration-color: #000000; background-color: #ffff00\">dans</span> <span style=\"color: #000000; text-decoration-color: #000000; background-color: #ffff00\">la</span> société.\n",
       "</pre>\n"
      ],
      "text/plain": [
       "\u001b[30;48;2;255;255;0mBonne\u001b[0m \u001b[30;48;2;255;255;0mintégration\u001b[0m \u001b[30;48;2;255;255;0mde\u001b[0m \u001b[30;48;2;255;255;0mDeloitte\u001b[0m \u001b[30;48;2;255;255;0mdans\u001b[0m \u001b[30;48;2;255;255;0mla\u001b[0m société.\n"
      ]
     },
     "metadata": {},
     "output_type": "display_data"
    },
    {
     "name": "stdout",
     "output_type": "stream",
     "text": [
      "[('intégration', 0.3356), ('deloitte', 0.3095), ('société', 0.2442), ('de', 0.2058), ('la', 0.1783), ('bonne', 0.1759), ('dans', 0.0938)]\n"
     ]
    },
    {
     "data": {
      "text/html": [
       "<pre style=\"white-space:pre;overflow-x:auto;line-height:normal;font-family:Menlo,'DejaVu Sans Mono',consolas,'Courier New',monospace\">Les multiples <span style=\"color: #000000; text-decoration-color: #000000; background-color: #ffff00\">changements</span> <span style=\"color: #000000; text-decoration-color: #000000; background-color: #ffff00\">de</span> <span style=\"color: #000000; text-decoration-color: #000000; background-color: #ffff00\">personnel</span> <span style=\"color: #000000; text-decoration-color: #000000; background-color: #ffff00\">en</span> <span style=\"color: #000000; text-decoration-color: #000000; background-color: #ffff00\">cours</span> <span style=\"color: #000000; text-decoration-color: #000000; background-color: #ffff00\">de</span> <span style=\"color: #000000; text-decoration-color: #000000; background-color: #ffff00\">projet</span> <span style=\"color: #000000; text-decoration-color: #000000; background-color: #ffff00\">ont</span> <span style=\"color: #000000; text-decoration-color: #000000; background-color: #ffff00\">significativement</span> <span style=\"color: #000000; text-decoration-color: #000000; background-color: #ffff00\">impacté</span> sa \n",
       "bonne marche.\n",
       "</pre>\n"
      ],
      "text/plain": [
       "Les multiples \u001b[30;48;2;255;255;0mchangements\u001b[0m \u001b[30;48;2;255;255;0mde\u001b[0m \u001b[30;48;2;255;255;0mpersonnel\u001b[0m \u001b[30;48;2;255;255;0men\u001b[0m \u001b[30;48;2;255;255;0mcours\u001b[0m \u001b[30;48;2;255;255;0mde\u001b[0m \u001b[30;48;2;255;255;0mprojet\u001b[0m \u001b[30;48;2;255;255;0mont\u001b[0m \u001b[30;48;2;255;255;0msignificativement\u001b[0m \u001b[30;48;2;255;255;0mimpacté\u001b[0m sa \n",
       "bonne marche.\n"
      ]
     },
     "metadata": {},
     "output_type": "display_data"
    },
    {
     "name": "stdout",
     "output_type": "stream",
     "text": [
      "[('changements', 0.494), ('projet', 0.3109), ('impacté', 0.2715), ('personnel', 0.2566), ('significativement', 0.2213), ('marche', 0.1548), ('cours', 0.1041), ('de', 0.0988), ('en', 0.0892), ('ont', 0.0738)]\n"
     ]
    },
    {
     "data": {
      "text/html": [
       "<pre style=\"white-space:pre;overflow-x:auto;line-height:normal;font-family:Menlo,'DejaVu Sans Mono',consolas,'Courier New',monospace\"><span style=\"color: #000000; text-decoration-color: #000000; background-color: #ffff00\">Privacy</span> <span style=\"color: #000000; text-decoration-color: #000000; background-color: #ffff00\">support</span>\n",
       "</pre>\n"
      ],
      "text/plain": [
       "\u001b[30;48;2;255;255;0mPrivacy\u001b[0m \u001b[30;48;2;255;255;0msupport\u001b[0m\n"
      ]
     },
     "metadata": {},
     "output_type": "display_data"
    },
    {
     "name": "stdout",
     "output_type": "stream",
     "text": [
      "[('privacy', 0.9272), ('support', 0.3567)]\n"
     ]
    },
    {
     "data": {
      "text/html": [
       "<pre style=\"white-space:pre;overflow-x:auto;line-height:normal;font-family:Menlo,'DejaVu Sans Mono',consolas,'Courier New',monospace\">L'apport de <span style=\"color: #000000; text-decoration-color: #000000; background-color: #ffff00\">Charlotte</span> Boulanger justiferait à nos yeux <span style=\"color: #000000; text-decoration-color: #000000; background-color: #ffff00\">une</span> <span style=\"color: #000000; text-decoration-color: #000000; background-color: #ffff00\">note</span> de 8 voire 8.5 <span style=\"color: #000000; text-decoration-color: #000000; background-color: #ffff00\">Mais</span> comme \n",
       "<span style=\"color: #000000; text-decoration-color: #000000; background-color: #ffff00\">mentionné</span> précédemment, <span style=\"color: #000000; text-decoration-color: #000000; background-color: #ffff00\">beaucoup</span> de <span style=\"color: #000000; text-decoration-color: #000000; background-color: #ffff00\">temps</span> et de ressources ont été <span style=\"color: #000000; text-decoration-color: #000000; background-color: #ffff00\">perdues</span> avant cela.\n",
       "</pre>\n"
      ],
      "text/plain": [
       "L'apport de \u001b[30;48;2;255;255;0mCharlotte\u001b[0m Boulanger justiferait à nos yeux \u001b[30;48;2;255;255;0mune\u001b[0m \u001b[30;48;2;255;255;0mnote\u001b[0m de 8 voire 8.5 \u001b[30;48;2;255;255;0mMais\u001b[0m comme \n",
       "\u001b[30;48;2;255;255;0mmentionné\u001b[0m précédemment, \u001b[30;48;2;255;255;0mbeaucoup\u001b[0m de \u001b[30;48;2;255;255;0mtemps\u001b[0m et de ressources ont été \u001b[30;48;2;255;255;0mperdues\u001b[0m avant cela.\n"
      ]
     },
     "metadata": {},
     "output_type": "display_data"
    },
    {
     "name": "stdout",
     "output_type": "stream",
     "text": [
      "[('perdues', 0.4226), ('charlotte', 0.3681), ('précédemment', 0.3543), ('mentionné', 0.3173), ('beaucoup', 0.3157), ('temps', 0.3146), ('apport', 0.2968), ('mais', 0.2967), ('note', 0.2851), ('une', 0.278)]\n"
     ]
    },
    {
     "data": {
      "text/html": [
       "<pre style=\"white-space:pre;overflow-x:auto;line-height:normal;font-family:Menlo,'DejaVu Sans Mono',consolas,'Courier New',monospace\">flexible, responsive, available, supportive, <span style=\"color: #000000; text-decoration-color: #000000; background-color: #ffff00\">willing</span> to speak up, <span style=\"color: #000000; text-decoration-color: #000000; background-color: #ffff00\">challenging</span> Chemours, ... I\n",
       "could add even <span style=\"color: #000000; text-decoration-color: #000000; background-color: #ffff00\">more</span> to this list. <span style=\"color: #000000; text-decoration-color: #000000; background-color: #ffff00\">Deloitte</span> is very <span style=\"color: #000000; text-decoration-color: #000000; background-color: #ffff00\">pleasant</span> to <span style=\"color: #000000; text-decoration-color: #000000; background-color: #ffff00\">work</span> with\n",
       "</pre>\n"
      ],
      "text/plain": [
       "flexible, responsive, available, supportive, \u001b[30;48;2;255;255;0mwilling\u001b[0m to speak up, \u001b[30;48;2;255;255;0mchallenging\u001b[0m Chemours, ... I\n",
       "could add even \u001b[30;48;2;255;255;0mmore\u001b[0m to this list. \u001b[30;48;2;255;255;0mDeloitte\u001b[0m is very \u001b[30;48;2;255;255;0mpleasant\u001b[0m to \u001b[30;48;2;255;255;0mwork\u001b[0m with\n"
      ]
     },
     "metadata": {},
     "output_type": "display_data"
    },
    {
     "name": "stdout",
     "output_type": "stream",
     "text": [
      "[('supportive', 0.3663), ('chemours', 0.3132), ('deloitte', 0.2611), ('list', 0.2547), ('willing', 0.2536), ('responsive', 0.2229), ('challenging', 0.2147), ('work', 0.1895), ('more', 0.1846), ('pleasant', 0.1813)]\n"
     ]
    },
    {
     "data": {
      "text/html": [
       "<pre style=\"white-space:pre;overflow-x:auto;line-height:normal;font-family:Menlo,'DejaVu Sans Mono',consolas,'Courier New',monospace\">when <span style=\"color: #000000; text-decoration-color: #000000; background-color: #ffff00\">you</span> <span style=\"color: #000000; text-decoration-color: #000000; background-color: #ffff00\">ask</span> someone <span style=\"color: #000000; text-decoration-color: #000000; background-color: #ffff00\">whether</span> <span style=\"color: #000000; text-decoration-color: #000000; background-color: #ffff00\">price</span> <span style=\"color: #000000; text-decoration-color: #000000; background-color: #ffff00\">is</span> ok, <span style=\"color: #000000; text-decoration-color: #000000; background-color: #ffff00\">you</span> will <span style=\"color: #000000; text-decoration-color: #000000; background-color: #ffff00\">always</span> <span style=\"color: #000000; text-decoration-color: #000000; background-color: #ffff00\">receive</span> <span style=\"color: #000000; text-decoration-color: #000000; background-color: #ffff00\">feedback</span> it <span style=\"color: #000000; text-decoration-color: #000000; background-color: #ffff00\">is</span> <span style=\"color: #000000; text-decoration-color: #000000; background-color: #ffff00\">too</span> \n",
       "expensive.)\n",
       "</pre>\n"
      ],
      "text/plain": [
       "when \u001b[30;48;2;255;255;0myou\u001b[0m \u001b[30;48;2;255;255;0mask\u001b[0m someone \u001b[30;48;2;255;255;0mwhether\u001b[0m \u001b[30;48;2;255;255;0mprice\u001b[0m \u001b[30;48;2;255;255;0mis\u001b[0m ok, \u001b[30;48;2;255;255;0myou\u001b[0m will \u001b[30;48;2;255;255;0malways\u001b[0m \u001b[30;48;2;255;255;0mreceive\u001b[0m \u001b[30;48;2;255;255;0mfeedback\u001b[0m it \u001b[30;48;2;255;255;0mis\u001b[0m \u001b[30;48;2;255;255;0mtoo\u001b[0m \n",
       "expensive.)\n"
      ]
     },
     "metadata": {},
     "output_type": "display_data"
    },
    {
     "name": "stdout",
     "output_type": "stream",
     "text": [
      "[('expensive', 0.4367), ('feedback', 0.3379), ('price', 0.3306), ('too', 0.2009), ('always', 0.193), ('you', 0.1712), ('ask', 0.1491), ('whether', 0.1172), ('receive', 0.1172), ('is', 0.11)]\n"
     ]
    },
    {
     "data": {
      "text/html": [
       "<pre style=\"white-space:pre;overflow-x:auto;line-height:normal;font-family:Menlo,'DejaVu Sans Mono',consolas,'Courier New',monospace\">very <span style=\"color: #000000; text-decoration-color: #000000; background-color: #ffff00\">good</span> <span style=\"color: #000000; text-decoration-color: #000000; background-color: #ffff00\">relationships</span> <span style=\"color: #000000; text-decoration-color: #000000; background-color: #ffff00\">with</span> BU and <span style=\"color: #000000; text-decoration-color: #000000; background-color: #ffff00\">other</span> <span style=\"color: #000000; text-decoration-color: #000000; background-color: #ffff00\">project</span> members, even when <span style=\"color: #000000; text-decoration-color: #000000; background-color: #ffff00\">Deloitte</span> <span style=\"color: #000000; text-decoration-color: #000000; background-color: #ffff00\">team</span> <span style=\"color: #000000; text-decoration-color: #000000; background-color: #ffff00\">members</span> \n",
       "<span style=\"color: #000000; text-decoration-color: #000000; background-color: #ffff00\">were</span> rolled off and <span style=\"color: #000000; text-decoration-color: #000000; background-color: #ffff00\">other</span> <span style=\"color: #000000; text-decoration-color: #000000; background-color: #ffff00\">joined</span> the <span style=\"color: #000000; text-decoration-color: #000000; background-color: #ffff00\">team</span>\n",
       "</pre>\n"
      ],
      "text/plain": [
       "very \u001b[30;48;2;255;255;0mgood\u001b[0m \u001b[30;48;2;255;255;0mrelationships\u001b[0m \u001b[30;48;2;255;255;0mwith\u001b[0m BU and \u001b[30;48;2;255;255;0mother\u001b[0m \u001b[30;48;2;255;255;0mproject\u001b[0m members, even when \u001b[30;48;2;255;255;0mDeloitte\u001b[0m \u001b[30;48;2;255;255;0mteam\u001b[0m \u001b[30;48;2;255;255;0mmembers\u001b[0m \n",
       "\u001b[30;48;2;255;255;0mwere\u001b[0m rolled off and \u001b[30;48;2;255;255;0mother\u001b[0m \u001b[30;48;2;255;255;0mjoined\u001b[0m the \u001b[30;48;2;255;255;0mteam\u001b[0m\n"
      ]
     },
     "metadata": {},
     "output_type": "display_data"
    },
    {
     "name": "stdout",
     "output_type": "stream",
     "text": [
      "[('joined', 0.4331), ('members', 0.4266), ('team', 0.347), ('good', 0.2356), ('project', 0.2295), ('relationships', 0.2124), ('were', 0.1952), ('with', 0.1862), ('deloitte', 0.183), ('other', 0.1664)]\n"
     ]
    },
    {
     "data": {
      "text/html": [
       "<pre style=\"white-space:pre;overflow-x:auto;line-height:normal;font-family:Menlo,'DejaVu Sans Mono',consolas,'Courier New',monospace\"><span style=\"color: #000000; text-decoration-color: #000000; background-color: #ffff00\">We</span> are very <span style=\"color: #000000; text-decoration-color: #000000; background-color: #ffff00\">satisfied</span> <span style=\"color: #000000; text-decoration-color: #000000; background-color: #ffff00\">with</span> what <span style=\"color: #000000; text-decoration-color: #000000; background-color: #ffff00\">Deloitte</span> <span style=\"color: #000000; text-decoration-color: #000000; background-color: #ffff00\">delivered</span> so far. If I may mention a bit of a \n",
       "downside, was the surprise <span style=\"color: #000000; text-decoration-color: #000000; background-color: #ffff00\">we</span> <span style=\"color: #000000; text-decoration-color: #000000; background-color: #ffff00\">had</span> <span style=\"color: #000000; text-decoration-color: #000000; background-color: #ffff00\">with</span> TT in OPR. But not sure whether <span style=\"color: #000000; text-decoration-color: #000000; background-color: #ffff00\">we</span> would <span style=\"color: #000000; text-decoration-color: #000000; background-color: #ffff00\">have</span> <span style=\"color: #000000; text-decoration-color: #000000; background-color: #ffff00\">been</span> \n",
       "able to avoid this?\n",
       "</pre>\n"
      ],
      "text/plain": [
       "\u001b[30;48;2;255;255;0mWe\u001b[0m are very \u001b[30;48;2;255;255;0msatisfied\u001b[0m \u001b[30;48;2;255;255;0mwith\u001b[0m what \u001b[30;48;2;255;255;0mDeloitte\u001b[0m \u001b[30;48;2;255;255;0mdelivered\u001b[0m so far. If I may mention a bit of a \n",
       "downside, was the surprise \u001b[30;48;2;255;255;0mwe\u001b[0m \u001b[30;48;2;255;255;0mhad\u001b[0m \u001b[30;48;2;255;255;0mwith\u001b[0m TT in OPR. But not sure whether \u001b[30;48;2;255;255;0mwe\u001b[0m would \u001b[30;48;2;255;255;0mhave\u001b[0m \u001b[30;48;2;255;255;0mbeen\u001b[0m \n",
       "able to avoid this?\n"
      ]
     },
     "metadata": {},
     "output_type": "display_data"
    },
    {
     "name": "stdout",
     "output_type": "stream",
     "text": [
      "[('opr', 0.3186), ('satisfied', 0.2839), ('had', 0.2716), ('deloitte', 0.2688), ('been', 0.2445), ('downside', 0.241), ('have', 0.2358), ('we', 0.2241), ('delivered', 0.2239), ('with', 0.1886)]\n"
     ]
    },
    {
     "data": {
      "text/html": [
       "<pre style=\"white-space:pre;overflow-x:auto;line-height:normal;font-family:Menlo,'DejaVu Sans Mono',consolas,'Courier New',monospace\"><span style=\"color: #000000; text-decoration-color: #000000; background-color: #ffff00\">Deloitte</span> brought <span style=\"color: #000000; text-decoration-color: #000000; background-color: #ffff00\">OMP</span> <span style=\"color: #000000; text-decoration-color: #000000; background-color: #ffff00\">knowledge</span> to Chemours. If we <span style=\"color: #000000; text-decoration-color: #000000; background-color: #ffff00\">would</span> <span style=\"color: #000000; text-decoration-color: #000000; background-color: #ffff00\">have</span> <span style=\"color: #000000; text-decoration-color: #000000; background-color: #ffff00\">had</span> that <span style=\"color: #000000; text-decoration-color: #000000; background-color: #ffff00\">knowledge</span> from <span style=\"color: #000000; text-decoration-color: #000000; background-color: #ffff00\">the</span> \n",
       "start, we might <span style=\"color: #000000; text-decoration-color: #000000; background-color: #ffff00\">have</span> taken other <span style=\"color: #000000; text-decoration-color: #000000; background-color: #ffff00\">decisions</span> for <span style=\"color: #000000; text-decoration-color: #000000; background-color: #ffff00\">the</span> <span style=\"color: #000000; text-decoration-color: #000000; background-color: #ffff00\">first</span> module\n",
       "</pre>\n"
      ],
      "text/plain": [
       "\u001b[30;48;2;255;255;0mDeloitte\u001b[0m brought \u001b[30;48;2;255;255;0mOMP\u001b[0m \u001b[30;48;2;255;255;0mknowledge\u001b[0m to Chemours. If we \u001b[30;48;2;255;255;0mwould\u001b[0m \u001b[30;48;2;255;255;0mhave\u001b[0m \u001b[30;48;2;255;255;0mhad\u001b[0m that \u001b[30;48;2;255;255;0mknowledge\u001b[0m from \u001b[30;48;2;255;255;0mthe\u001b[0m \n",
       "start, we might \u001b[30;48;2;255;255;0mhave\u001b[0m taken other \u001b[30;48;2;255;255;0mdecisions\u001b[0m for \u001b[30;48;2;255;255;0mthe\u001b[0m \u001b[30;48;2;255;255;0mfirst\u001b[0m module\n"
      ]
     },
     "metadata": {},
     "output_type": "display_data"
    },
    {
     "name": "stdout",
     "output_type": "stream",
     "text": [
      "[('first', 0.3126), ('knowledge', 0.2962), ('omp', 0.2959), ('chemours', 0.2798), ('had', 0.2617), ('decisions', 0.2522), ('deloitte', 0.2435), ('would', 0.1895), ('have', 0.1849), ('the', 0.1748)]\n"
     ]
    },
    {
     "data": {
      "text/html": [
       "<pre style=\"white-space:pre;overflow-x:auto;line-height:normal;font-family:Menlo,'DejaVu Sans Mono',consolas,'Courier New',monospace\"><span style=\"color: #000000; text-decoration-color: #000000; background-color: #ffff00\">where</span> <span style=\"color: #000000; text-decoration-color: #000000; background-color: #ffff00\">we</span> <span style=\"color: #000000; text-decoration-color: #000000; background-color: #ffff00\">open</span> <span style=\"color: #000000; text-decoration-color: #000000; background-color: #ffff00\">to</span> <span style=\"color: #000000; text-decoration-color: #000000; background-color: #ffff00\">innovative</span> solutions?\n",
       "</pre>\n"
      ],
      "text/plain": [
       "\u001b[30;48;2;255;255;0mwhere\u001b[0m \u001b[30;48;2;255;255;0mwe\u001b[0m \u001b[30;48;2;255;255;0mopen\u001b[0m \u001b[30;48;2;255;255;0mto\u001b[0m \u001b[30;48;2;255;255;0minnovative\u001b[0m solutions?\n"
      ]
     },
     "metadata": {},
     "output_type": "display_data"
    },
    {
     "name": "stdout",
     "output_type": "stream",
     "text": [
      "[('innovative', 0.6486), ('solutions', 0.5046), ('open', 0.3468), ('where', 0.2927), ('we', 0.2806), ('to', 0.2456)]\n"
     ]
    },
    {
     "data": {
      "text/html": [
       "<pre style=\"white-space:pre;overflow-x:auto;line-height:normal;font-family:Menlo,'DejaVu Sans Mono',consolas,'Courier New',monospace\"><span style=\"color: #000000; text-decoration-color: #000000; background-color: #ffff00\">we</span> all learned to run <span style=\"color: #000000; text-decoration-color: #000000; background-color: #ffff00\">project</span> virtual, which will <span style=\"color: #000000; text-decoration-color: #000000; background-color: #ffff00\">reduce</span> amount of travel. After COVID, <span style=\"color: #000000; text-decoration-color: #000000; background-color: #ffff00\">we</span> \n",
       "might do some <span style=\"color: #000000; text-decoration-color: #000000; background-color: #ffff00\">F2F</span> meetings, as <span style=\"color: #000000; text-decoration-color: #000000; background-color: #ffff00\">we</span> do see value <span style=\"color: #000000; text-decoration-color: #000000; background-color: #ffff00\">for</span> certain <span style=\"color: #000000; text-decoration-color: #000000; background-color: #ffff00\">activities</span>\n",
       "</pre>\n"
      ],
      "text/plain": [
       "\u001b[30;48;2;255;255;0mwe\u001b[0m all learned to run \u001b[30;48;2;255;255;0mproject\u001b[0m virtual, which will \u001b[30;48;2;255;255;0mreduce\u001b[0m amount of travel. After COVID, \u001b[30;48;2;255;255;0mwe\u001b[0m \n",
       "might do some \u001b[30;48;2;255;255;0mF2F\u001b[0m meetings, as \u001b[30;48;2;255;255;0mwe\u001b[0m do see value \u001b[30;48;2;255;255;0mfor\u001b[0m certain \u001b[30;48;2;255;255;0mactivities\u001b[0m\n"
      ]
     },
     "metadata": {},
     "output_type": "display_data"
    },
    {
     "name": "stdout",
     "output_type": "stream",
     "text": [
      "[('virtual', 0.4564), ('project', 0.3663), ('travel', 0.3392), ('meetings', 0.2988), ('f2f', 0.2892), ('covid', 0.2846), ('activities', 0.2789), ('reduce', 0.2684), ('for', 0.2279), ('we', 0.2247)]\n"
     ]
    },
    {
     "data": {
      "text/html": [
       "<pre style=\"white-space:pre;overflow-x:auto;line-height:normal;font-family:Menlo,'DejaVu Sans Mono',consolas,'Courier New',monospace\"><span style=\"color: #000000; text-decoration-color: #000000; background-color: #ffff00\">We</span> <span style=\"color: #000000; text-decoration-color: #000000; background-color: #ffff00\">had</span> not such a <span style=\"color: #000000; text-decoration-color: #000000; background-color: #ffff00\">good</span> <span style=\"color: #000000; text-decoration-color: #000000; background-color: #ffff00\">experience</span> with <span style=\"color: #000000; text-decoration-color: #000000; background-color: #ffff00\">our</span> <span style=\"color: #000000; text-decoration-color: #000000; background-color: #ffff00\">first</span> <span style=\"color: #000000; text-decoration-color: #000000; background-color: #ffff00\">journey</span> partner, but once Deloitte <span style=\"color: #000000; text-decoration-color: #000000; background-color: #ffff00\">stepped</span> \n",
       "in, <span style=\"color: #000000; text-decoration-color: #000000; background-color: #ffff00\">we</span> quickly notice the true value a <span style=\"color: #000000; text-decoration-color: #000000; background-color: #ffff00\">journey</span> <span style=\"color: #000000; text-decoration-color: #000000; background-color: #ffff00\">partner</span> could <span style=\"color: #000000; text-decoration-color: #000000; background-color: #ffff00\">bring</span>\n",
       "</pre>\n"
      ],
      "text/plain": [
       "\u001b[30;48;2;255;255;0mWe\u001b[0m \u001b[30;48;2;255;255;0mhad\u001b[0m not such a \u001b[30;48;2;255;255;0mgood\u001b[0m \u001b[30;48;2;255;255;0mexperience\u001b[0m with \u001b[30;48;2;255;255;0mour\u001b[0m \u001b[30;48;2;255;255;0mfirst\u001b[0m \u001b[30;48;2;255;255;0mjourney\u001b[0m partner, but once Deloitte \u001b[30;48;2;255;255;0mstepped\u001b[0m \n",
       "in, \u001b[30;48;2;255;255;0mwe\u001b[0m quickly notice the true value a \u001b[30;48;2;255;255;0mjourney\u001b[0m \u001b[30;48;2;255;255;0mpartner\u001b[0m could \u001b[30;48;2;255;255;0mbring\u001b[0m\n"
      ]
     },
     "metadata": {},
     "output_type": "display_data"
    },
    {
     "name": "stdout",
     "output_type": "stream",
     "text": [
      "[('experience', 0.3484), ('partner', 0.3465), ('journey', 0.3449), ('bring', 0.1969), ('first', 0.192), ('we', 0.1818), ('our', 0.1778), ('had', 0.1776), ('stepped', 0.1546), ('good', 0.1459)]\n"
     ]
    },
    {
     "data": {
      "text/html": [
       "<pre style=\"white-space:pre;overflow-x:auto;line-height:normal;font-family:Menlo,'DejaVu Sans Mono',consolas,'Courier New',monospace\"><span style=\"color: #000000; text-decoration-color: #000000; background-color: #ffff00\">always</span> <span style=\"color: #000000; text-decoration-color: #000000; background-color: #ffff00\">an</span> <span style=\"color: #000000; text-decoration-color: #000000; background-color: #ffff00\">open</span> <span style=\"color: #000000; text-decoration-color: #000000; background-color: #ffff00\">and</span> <span style=\"color: #000000; text-decoration-color: #000000; background-color: #ffff00\">transparent</span> dialogue, <span style=\"color: #000000; text-decoration-color: #000000; background-color: #ffff00\">not</span> afraid <span style=\"color: #000000; text-decoration-color: #000000; background-color: #ffff00\">to</span> <span style=\"color: #000000; text-decoration-color: #000000; background-color: #ffff00\">speak</span> <span style=\"color: #000000; text-decoration-color: #000000; background-color: #ffff00\">up</span>\n",
       "</pre>\n"
      ],
      "text/plain": [
       "\u001b[30;48;2;255;255;0malways\u001b[0m \u001b[30;48;2;255;255;0man\u001b[0m \u001b[30;48;2;255;255;0mopen\u001b[0m \u001b[30;48;2;255;255;0mand\u001b[0m \u001b[30;48;2;255;255;0mtransparent\u001b[0m dialogue, \u001b[30;48;2;255;255;0mnot\u001b[0m afraid \u001b[30;48;2;255;255;0mto\u001b[0m \u001b[30;48;2;255;255;0mspeak\u001b[0m \u001b[30;48;2;255;255;0mup\u001b[0m\n"
      ]
     },
     "metadata": {},
     "output_type": "display_data"
    },
    {
     "name": "stdout",
     "output_type": "stream",
     "text": [
      "[('dialogue', 0.6684), ('speak', 0.5632), ('open', 0.3628), ('transparent', 0.3199), ('an', 0.2995), ('always', 0.2713), ('to', 0.2654), ('and', 0.2639), ('up', 0.257), ('not', 0.2182)]\n"
     ]
    },
    {
     "data": {
      "text/html": [
       "<pre style=\"white-space:pre;overflow-x:auto;line-height:normal;font-family:Menlo,'DejaVu Sans Mono',consolas,'Courier New',monospace\">I think it was really <span style=\"color: #000000; text-decoration-color: #000000; background-color: #ffff00\">good</span> <span style=\"color: #000000; text-decoration-color: #000000; background-color: #ffff00\">we</span> <span style=\"color: #000000; text-decoration-color: #000000; background-color: #ffff00\">had</span> the <span style=\"color: #000000; text-decoration-color: #000000; background-color: #ffff00\">opportunity</span> to <span style=\"color: #000000; text-decoration-color: #000000; background-color: #ffff00\">meet</span> <span style=\"color: #000000; text-decoration-color: #000000; background-color: #ffff00\">everyone</span> in Wilmington, back in \n",
       "Feb/Mar last year. Due to this, <span style=\"color: #000000; text-decoration-color: #000000; background-color: #ffff00\">we</span> could switch to a <span style=\"color: #000000; text-decoration-color: #000000; background-color: #ffff00\">virtual</span> way of working more easily.\n",
       "</pre>\n"
      ],
      "text/plain": [
       "I think it was really \u001b[30;48;2;255;255;0mgood\u001b[0m \u001b[30;48;2;255;255;0mwe\u001b[0m \u001b[30;48;2;255;255;0mhad\u001b[0m the \u001b[30;48;2;255;255;0mopportunity\u001b[0m to \u001b[30;48;2;255;255;0mmeet\u001b[0m \u001b[30;48;2;255;255;0meveryone\u001b[0m in Wilmington, back in \n",
       "Feb/Mar last year. Due to this, \u001b[30;48;2;255;255;0mwe\u001b[0m could switch to a \u001b[30;48;2;255;255;0mvirtual\u001b[0m way of working more easily.\n"
      ]
     },
     "metadata": {},
     "output_type": "display_data"
    },
    {
     "name": "stdout",
     "output_type": "stream",
     "text": [
      "[('wilmington', 0.3311), ('meet', 0.3257), ('good', 0.2544), ('everyone', 0.2504), ('opportunity', 0.2367), ('virtual', 0.2345), ('feb', 0.2317), ('we', 0.2235), ('easily', 0.1964), ('had', 0.1889)]\n"
     ]
    },
    {
     "data": {
      "text/html": [
       "<pre style=\"white-space:pre;overflow-x:auto;line-height:normal;font-family:Menlo,'DejaVu Sans Mono',consolas,'Courier New',monospace\">It's <span style=\"color: #000000; text-decoration-color: #000000; background-color: #ffff00\">ok</span> <span style=\"color: #000000; text-decoration-color: #000000; background-color: #ffff00\">to</span> <span style=\"color: #000000; text-decoration-color: #000000; background-color: #ffff00\">be</span> <span style=\"color: #000000; text-decoration-color: #000000; background-color: #ffff00\">direct</span>\n",
       "</pre>\n"
      ],
      "text/plain": [
       "It's \u001b[30;48;2;255;255;0mok\u001b[0m \u001b[30;48;2;255;255;0mto\u001b[0m \u001b[30;48;2;255;255;0mbe\u001b[0m \u001b[30;48;2;255;255;0mdirect\u001b[0m\n"
      ]
     },
     "metadata": {},
     "output_type": "display_data"
    },
    {
     "name": "stdout",
     "output_type": "stream",
     "text": [
      "[('direct', 0.6113), ('ok', 0.3963), ('be', 0.3753), ('to', 0.3303), ('it', 0.2515)]\n"
     ]
    },
    {
     "data": {
      "text/html": [
       "<pre style=\"white-space:pre;overflow-x:auto;line-height:normal;font-family:Menlo,'DejaVu Sans Mono',consolas,'Courier New',monospace\">Very good <span style=\"color: #000000; text-decoration-color: #000000; background-color: #ffff00\">understanding</span> of <span style=\"color: #000000; text-decoration-color: #000000; background-color: #ffff00\">Chemical</span> Industry, as well as of <span style=\"color: #000000; text-decoration-color: #000000; background-color: #ffff00\">Supply</span> <span style=\"color: #000000; text-decoration-color: #000000; background-color: #ffff00\">Chain</span> processes. Was \n",
       "impressive to see how <span style=\"color: #000000; text-decoration-color: #000000; background-color: #ffff00\">quick</span> <span style=\"color: #000000; text-decoration-color: #000000; background-color: #ffff00\">Deloitte</span> understood more <span style=\"color: #000000; text-decoration-color: #000000; background-color: #ffff00\">complex</span> <span style=\"color: #000000; text-decoration-color: #000000; background-color: #ffff00\">setups</span> (TT)\n",
       "</pre>\n"
      ],
      "text/plain": [
       "Very good \u001b[30;48;2;255;255;0munderstanding\u001b[0m of \u001b[30;48;2;255;255;0mChemical\u001b[0m Industry, as well as of \u001b[30;48;2;255;255;0mSupply\u001b[0m \u001b[30;48;2;255;255;0mChain\u001b[0m processes. Was \n",
       "impressive to see how \u001b[30;48;2;255;255;0mquick\u001b[0m \u001b[30;48;2;255;255;0mDeloitte\u001b[0m understood more \u001b[30;48;2;255;255;0mcomplex\u001b[0m \u001b[30;48;2;255;255;0msetups\u001b[0m (TT)\n"
      ]
     },
     "metadata": {},
     "output_type": "display_data"
    },
    {
     "name": "stdout",
     "output_type": "stream",
     "text": [
      "[('industry', 0.4305), ('chemical', 0.3666), ('processes', 0.3506), ('deloitte', 0.2442), ('supply', 0.2315), ('chain', 0.2233), ('setups', 0.2171), ('understanding', 0.185), ('complex', 0.1771), ('quick', 0.17)]\n"
     ]
    },
    {
     "data": {
      "text/html": [
       "<pre style=\"white-space:pre;overflow-x:auto;line-height:normal;font-family:Menlo,'DejaVu Sans Mono',consolas,'Courier New',monospace\"><span style=\"color: #000000; text-decoration-color: #000000; background-color: #ffff00\">perfecte</span> <span style=\"color: #000000; text-decoration-color: #000000; background-color: #ffff00\">ervaring</span> <span style=\"color: #000000; text-decoration-color: #000000; background-color: #ffff00\">van</span> <span style=\"color: #000000; text-decoration-color: #000000; background-color: #ffff00\">het</span> <span style=\"color: #000000; text-decoration-color: #000000; background-color: #ffff00\">traject</span> <span style=\"color: #000000; text-decoration-color: #000000; background-color: #ffff00\">aan</span> <span style=\"color: #000000; text-decoration-color: #000000; background-color: #ffff00\">onze</span> kant.\n",
       "</pre>\n"
      ],
      "text/plain": [
       "\u001b[30;48;2;255;255;0mperfecte\u001b[0m \u001b[30;48;2;255;255;0mervaring\u001b[0m \u001b[30;48;2;255;255;0mvan\u001b[0m \u001b[30;48;2;255;255;0mhet\u001b[0m \u001b[30;48;2;255;255;0mtraject\u001b[0m \u001b[30;48;2;255;255;0maan\u001b[0m \u001b[30;48;2;255;255;0monze\u001b[0m kant.\n"
      ]
     },
     "metadata": {},
     "output_type": "display_data"
    },
    {
     "name": "stdout",
     "output_type": "stream",
     "text": [
      "[('perfecte', 0.6319), ('ervaring', 0.4912), ('traject', 0.4876), ('onze', 0.464), ('kant', 0.4174), ('aan', 0.3777), ('het', 0.3525), ('van', 0.3437)]\n"
     ]
    },
    {
     "data": {
      "text/html": [
       "<pre style=\"white-space:pre;overflow-x:auto;line-height:normal;font-family:Menlo,'DejaVu Sans Mono',consolas,'Courier New',monospace\"><span style=\"color: #000000; text-decoration-color: #000000; background-color: #ffff00\">niks</span> <span style=\"color: #000000; text-decoration-color: #000000; background-color: #ffff00\">op</span> <span style=\"color: #000000; text-decoration-color: #000000; background-color: #ffff00\">aan</span> <span style=\"color: #000000; text-decoration-color: #000000; background-color: #ffff00\">te</span> <span style=\"color: #000000; text-decoration-color: #000000; background-color: #ffff00\">merken</span>\n",
       "</pre>\n"
      ],
      "text/plain": [
       "\u001b[30;48;2;255;255;0mniks\u001b[0m \u001b[30;48;2;255;255;0mop\u001b[0m \u001b[30;48;2;255;255;0maan\u001b[0m \u001b[30;48;2;255;255;0mte\u001b[0m \u001b[30;48;2;255;255;0mmerken\u001b[0m\n"
      ]
     },
     "metadata": {},
     "output_type": "display_data"
    },
    {
     "name": "stdout",
     "output_type": "stream",
     "text": [
      "[('niks', 0.826), ('op', 0.6532), ('te', 0.6484), ('aan', 0.6118), ('merken', 0.3503)]\n"
     ]
    },
    {
     "data": {
      "text/html": [
       "<pre style=\"white-space:pre;overflow-x:auto;line-height:normal;font-family:Menlo,'DejaVu Sans Mono',consolas,'Courier New',monospace\"><span style=\"color: #000000; text-decoration-color: #000000; background-color: #ffff00\">Innovatieve</span> <span style=\"color: #000000; text-decoration-color: #000000; background-color: #ffff00\">oplossingen</span> <span style=\"color: #000000; text-decoration-color: #000000; background-color: #ffff00\">kwamen</span> <span style=\"color: #000000; text-decoration-color: #000000; background-color: #ffff00\">niet</span> <span style=\"color: #000000; text-decoration-color: #000000; background-color: #ffff00\">echt</span> <span style=\"color: #000000; text-decoration-color: #000000; background-color: #ffff00\">aan</span> bod.\n",
       "</pre>\n"
      ],
      "text/plain": [
       "\u001b[30;48;2;255;255;0mInnovatieve\u001b[0m \u001b[30;48;2;255;255;0moplossingen\u001b[0m \u001b[30;48;2;255;255;0mkwamen\u001b[0m \u001b[30;48;2;255;255;0mniet\u001b[0m \u001b[30;48;2;255;255;0mecht\u001b[0m \u001b[30;48;2;255;255;0maan\u001b[0m bod.\n"
      ]
     },
     "metadata": {},
     "output_type": "display_data"
    },
    {
     "name": "stdout",
     "output_type": "stream",
     "text": [
      "[('innovatieve', 0.4543), ('oplossingen', 0.4084), ('niet', 0.2677), ('echt', 0.1549), ('kwamen', 0.1422), ('aan', 0.1397), ('bod', 0.0916)]\n"
     ]
    },
    {
     "data": {
      "text/html": [
       "<pre style=\"white-space:pre;overflow-x:auto;line-height:normal;font-family:Menlo,'DejaVu Sans Mono',consolas,'Courier New',monospace\">zie vraag 7, <span style=\"color: #000000; text-decoration-color: #000000; background-color: #ffff00\">maar</span> al bij al werd alles <span style=\"color: #000000; text-decoration-color: #000000; background-color: #ffff00\">goed</span> opgevangen <span style=\"color: #000000; text-decoration-color: #000000; background-color: #ffff00\">via</span> de <span style=\"color: #000000; text-decoration-color: #000000; background-color: #ffff00\">online</span> sessies en konden <span style=\"color: #000000; text-decoration-color: #000000; background-color: #ffff00\">we</span> de \n",
       "<span style=\"color: #000000; text-decoration-color: #000000; background-color: #ffff00\">soms</span> <span style=\"color: #000000; text-decoration-color: #000000; background-color: #ffff00\">minder</span> <span style=\"color: #000000; text-decoration-color: #000000; background-color: #ffff00\">evidente</span> <span style=\"color: #000000; text-decoration-color: #000000; background-color: #ffff00\">verplaatsingen</span> al vermijden.\n",
       "</pre>\n"
      ],
      "text/plain": [
       "zie vraag 7, \u001b[30;48;2;255;255;0mmaar\u001b[0m al bij al werd alles \u001b[30;48;2;255;255;0mgoed\u001b[0m opgevangen \u001b[30;48;2;255;255;0mvia\u001b[0m de \u001b[30;48;2;255;255;0monline\u001b[0m sessies en konden \u001b[30;48;2;255;255;0mwe\u001b[0m de \n",
       "\u001b[30;48;2;255;255;0msoms\u001b[0m \u001b[30;48;2;255;255;0mminder\u001b[0m \u001b[30;48;2;255;255;0mevidente\u001b[0m \u001b[30;48;2;255;255;0mverplaatsingen\u001b[0m al vermijden.\n"
      ]
     },
     "metadata": {},
     "output_type": "display_data"
    },
    {
     "name": "stdout",
     "output_type": "stream",
     "text": [
      "[('online', 0.3794), ('vermijden', 0.3185), ('soms', 0.267), ('goed', 0.2573), ('verplaatsingen', 0.2422), ('maar', 0.2411), ('via', 0.2407), ('evidente', 0.2395), ('minder', 0.2363), ('we', 0.2362)]\n"
     ]
    },
    {
     "data": {
      "text/html": [
       "<pre style=\"white-space:pre;overflow-x:auto;line-height:normal;font-family:Menlo,'DejaVu Sans Mono',consolas,'Courier New',monospace\"><span style=\"color: #000000; text-decoration-color: #000000; background-color: #ffff00\">Terbeschikkingstelling</span> <span style=\"color: #000000; text-decoration-color: #000000; background-color: #ffff00\">van</span> <span style=\"color: #000000; text-decoration-color: #000000; background-color: #ffff00\">verslag</span> <span style=\"color: #000000; text-decoration-color: #000000; background-color: #ffff00\">heeft</span> <span style=\"color: #000000; text-decoration-color: #000000; background-color: #ffff00\">lang</span> geduurd.\n",
       "</pre>\n"
      ],
      "text/plain": [
       "\u001b[30;48;2;255;255;0mTerbeschikkingstelling\u001b[0m \u001b[30;48;2;255;255;0mvan\u001b[0m \u001b[30;48;2;255;255;0mverslag\u001b[0m \u001b[30;48;2;255;255;0mheeft\u001b[0m \u001b[30;48;2;255;255;0mlang\u001b[0m geduurd.\n"
      ]
     },
     "metadata": {},
     "output_type": "display_data"
    },
    {
     "name": "stdout",
     "output_type": "stream",
     "text": [
      "[('verslag', 0.5048), ('lang', 0.3241), ('heeft', 0.2191), ('terbeschikkingstelling', 0.2109), ('geduurd', 0.1641), ('van', 0.1446)]\n"
     ]
    },
    {
     "data": {
      "text/html": [
       "<pre style=\"white-space:pre;overflow-x:auto;line-height:normal;font-family:Menlo,'DejaVu Sans Mono',consolas,'Courier New',monospace\">Er was <span style=\"color: #000000; text-decoration-color: #000000; background-color: #ffff00\">al</span> <span style=\"color: #000000; text-decoration-color: #000000; background-color: #ffff00\">ervaring</span> met dit <span style=\"color: #000000; text-decoration-color: #000000; background-color: #ffff00\">type</span> <span style=\"color: #000000; text-decoration-color: #000000; background-color: #ffff00\">audit</span> <span style=\"color: #000000; text-decoration-color: #000000; background-color: #ffff00\">bij</span> <span style=\"color: #000000; text-decoration-color: #000000; background-color: #ffff00\">andere</span> <span style=\"color: #000000; text-decoration-color: #000000; background-color: #ffff00\">openbare</span> besturen, dus <span style=\"color: #000000; text-decoration-color: #000000; background-color: #ffff00\">zeker</span> <span style=\"color: #000000; text-decoration-color: #000000; background-color: #ffff00\">relevante</span> \n",
       "voorkennis.\n",
       "</pre>\n"
      ],
      "text/plain": [
       "Er was \u001b[30;48;2;255;255;0mal\u001b[0m \u001b[30;48;2;255;255;0mervaring\u001b[0m met dit \u001b[30;48;2;255;255;0mtype\u001b[0m \u001b[30;48;2;255;255;0maudit\u001b[0m \u001b[30;48;2;255;255;0mbij\u001b[0m \u001b[30;48;2;255;255;0mandere\u001b[0m \u001b[30;48;2;255;255;0mopenbare\u001b[0m besturen, dus \u001b[30;48;2;255;255;0mzeker\u001b[0m \u001b[30;48;2;255;255;0mrelevante\u001b[0m \n",
       "voorkennis.\n"
      ]
     },
     "metadata": {},
     "output_type": "display_data"
    },
    {
     "name": "stdout",
     "output_type": "stream",
     "text": [
      "[('audit', 0.614), ('openbare', 0.2962), ('ervaring', 0.2261), ('relevante', 0.1974), ('voorkennis', 0.1839), ('type', 0.1203), ('andere', 0.1022), ('bij', 0.0815), ('al', 0.0632), ('zeker', 0.0536)]\n"
     ]
    },
    {
     "data": {
      "text/html": [
       "<pre style=\"white-space:pre;overflow-x:auto;line-height:normal;font-family:Menlo,'DejaVu Sans Mono',consolas,'Courier New',monospace\"><span style=\"color: #000000; text-decoration-color: #000000; background-color: #ffff00\">Afstand</span> tot bij <span style=\"color: #000000; text-decoration-color: #000000; background-color: #ffff00\">ons</span> en Corona-veiligheidsmaatregelen <span style=\"color: #000000; text-decoration-color: #000000; background-color: #ffff00\">zorgden</span> <span style=\"color: #000000; text-decoration-color: #000000; background-color: #ffff00\">voor</span> wat <span style=\"color: #000000; text-decoration-color: #000000; background-color: #ffff00\">verstoring</span> <span style=\"color: #000000; text-decoration-color: #000000; background-color: #ffff00\">op</span> dat vlak,\n",
       "dus <span style=\"color: #000000; text-decoration-color: #000000; background-color: #ffff00\">niet</span> persoonsgebonden.\n",
       "</pre>\n"
      ],
      "text/plain": [
       "\u001b[30;48;2;255;255;0mAfstand\u001b[0m tot bij \u001b[30;48;2;255;255;0mons\u001b[0m en Corona-veiligheidsmaatregelen \u001b[30;48;2;255;255;0mzorgden\u001b[0m \u001b[30;48;2;255;255;0mvoor\u001b[0m wat \u001b[30;48;2;255;255;0mverstoring\u001b[0m \u001b[30;48;2;255;255;0mop\u001b[0m dat vlak,\n",
       "dus \u001b[30;48;2;255;255;0mniet\u001b[0m persoonsgebonden.\n"
      ]
     },
     "metadata": {},
     "output_type": "display_data"
    },
    {
     "name": "stdout",
     "output_type": "stream",
     "text": [
      "[('veiligheidsmaatregelen', 0.4324), ('persoonsgebonden', 0.2788), ('niet', 0.2332), ('ons', 0.2299), ('verstoring', 0.2195), ('afstand', 0.2058), ('zorgden', 0.1836), ('voor', 0.1642), ('op', 0.1379), ('corona', 0.1305)]\n"
     ]
    },
    {
     "data": {
      "text/html": [
       "<pre style=\"white-space:pre;overflow-x:auto;line-height:normal;font-family:Menlo,'DejaVu Sans Mono',consolas,'Courier New',monospace\"><span style=\"color: #000000; text-decoration-color: #000000; background-color: #ffff00\">Volledig</span> <span style=\"color: #000000; text-decoration-color: #000000; background-color: #ffff00\">naar</span> verwachtingen,\n",
       "</pre>\n"
      ],
      "text/plain": [
       "\u001b[30;48;2;255;255;0mVolledig\u001b[0m \u001b[30;48;2;255;255;0mnaar\u001b[0m verwachtingen,\n"
      ]
     },
     "metadata": {},
     "output_type": "display_data"
    },
    {
     "name": "stdout",
     "output_type": "stream",
     "text": [
      "[('verwachtingen', 0.7797), ('volledig', 0.5808), ('naar', 0.4941)]\n"
     ]
    },
    {
     "data": {
      "text/html": [
       "<pre style=\"white-space:pre;overflow-x:auto;line-height:normal;font-family:Menlo,'DejaVu Sans Mono',consolas,'Courier New',monospace\">We zijn dit ondertussen al even gewoon. Het was merkbaar dat uw <span style=\"color: #000000; text-decoration-color: #000000; background-color: #ffff00\">bedrijf</span> zo veel <span style=\"color: #000000; text-decoration-color: #000000; background-color: #ffff00\">mogelijk</span> \n",
       "omschakelde naar afstandswerk. Iets wat volledig in lijn ligt met onze huidige aanpak, dus \n",
       "dit is wel hoe <span style=\"color: #000000; text-decoration-color: #000000; background-color: #ffff00\">samenwerken</span> in het nieuwe normaal kan en mag wat ons betreft. Zeker voor \n",
       "dergelijke puur <span style=\"color: #000000; text-decoration-color: #000000; background-color: #ffff00\">informatieve</span> analyses en evaluaties is dit perfect. Q&amp;A lukt perfect indien \n",
       "gewenst, maar de <span style=\"color: #000000; text-decoration-color: #000000; background-color: #ffff00\">meetings</span> zijn niet van die aard dat er een creatief proces met veel \n",
       "heen-en-weer-interactie nodig is. Eigenlijk is online werken zelfs <span style=\"color: #000000; text-decoration-color: #000000; background-color: #ffff00\">efficiënter</span> voor een \n",
       "dergelijk traject, lijkt het ons. Dus ook wat dat betreft een positieve ervaring.\n",
       "</pre>\n"
      ],
      "text/plain": [
       "We zijn dit ondertussen al even gewoon. Het was merkbaar dat uw \u001b[30;48;2;255;255;0mbedrijf\u001b[0m zo veel \u001b[30;48;2;255;255;0mmogelijk\u001b[0m \n",
       "omschakelde naar afstandswerk. Iets wat volledig in lijn ligt met onze huidige aanpak, dus \n",
       "dit is wel hoe \u001b[30;48;2;255;255;0msamenwerken\u001b[0m in het nieuwe normaal kan en mag wat ons betreft. Zeker voor \n",
       "dergelijke puur \u001b[30;48;2;255;255;0minformatieve\u001b[0m analyses en evaluaties is dit perfect. Q&A lukt perfect indien \n",
       "gewenst, maar de \u001b[30;48;2;255;255;0mmeetings\u001b[0m zijn niet van die aard dat er een creatief proces met veel \n",
       "heen-en-weer-interactie nodig is. Eigenlijk is online werken zelfs \u001b[30;48;2;255;255;0mefficiënter\u001b[0m voor een \n",
       "dergelijk traject, lijkt het ons. Dus ook wat dat betreft een positieve ervaring.\n"
      ]
     },
     "metadata": {},
     "output_type": "display_data"
    },
    {
     "name": "stdout",
     "output_type": "stream",
     "text": [
      "[('efficiënter', 0.453), ('samenwerken', 0.4183), ('aanpak', 0.4141), ('interactie', 0.3971), ('afstandswerk', 0.3967), ('bedrijf', 0.3608), ('informatieve', 0.3594), ('ervaring', 0.346), ('meetings', 0.3374), ('mogelijk', 0.3229)]\n"
     ]
    },
    {
     "data": {
      "text/html": [
       "<pre style=\"white-space:pre;overflow-x:auto;line-height:normal;font-family:Menlo,'DejaVu Sans Mono',consolas,'Courier New',monospace\"><span style=\"color: #000000; text-decoration-color: #000000; background-color: #ffff00\">niks</span> <span style=\"color: #000000; text-decoration-color: #000000; background-color: #ffff00\">op</span> <span style=\"color: #000000; text-decoration-color: #000000; background-color: #ffff00\">aan</span> <span style=\"color: #000000; text-decoration-color: #000000; background-color: #ffff00\">te</span> <span style=\"color: #000000; text-decoration-color: #000000; background-color: #ffff00\">merken</span>\n",
       "</pre>\n"
      ],
      "text/plain": [
       "\u001b[30;48;2;255;255;0mniks\u001b[0m \u001b[30;48;2;255;255;0mop\u001b[0m \u001b[30;48;2;255;255;0maan\u001b[0m \u001b[30;48;2;255;255;0mte\u001b[0m \u001b[30;48;2;255;255;0mmerken\u001b[0m\n"
      ]
     },
     "metadata": {},
     "output_type": "display_data"
    },
    {
     "name": "stdout",
     "output_type": "stream",
     "text": [
      "[('niks', 0.826), ('op', 0.6532), ('te', 0.6484), ('aan', 0.6118), ('merken', 0.3503)]\n"
     ]
    },
    {
     "data": {
      "text/html": [
       "<pre style=\"white-space:pre;overflow-x:auto;line-height:normal;font-family:Menlo,'DejaVu Sans Mono',consolas,'Courier New',monospace\"><span style=\"color: #000000; text-decoration-color: #000000; background-color: #ffff00\">niks</span> <span style=\"color: #000000; text-decoration-color: #000000; background-color: #ffff00\">op</span> <span style=\"color: #000000; text-decoration-color: #000000; background-color: #ffff00\">aan</span> <span style=\"color: #000000; text-decoration-color: #000000; background-color: #ffff00\">te</span> <span style=\"color: #000000; text-decoration-color: #000000; background-color: #ffff00\">merken</span>\n",
       "</pre>\n"
      ],
      "text/plain": [
       "\u001b[30;48;2;255;255;0mniks\u001b[0m \u001b[30;48;2;255;255;0mop\u001b[0m \u001b[30;48;2;255;255;0maan\u001b[0m \u001b[30;48;2;255;255;0mte\u001b[0m \u001b[30;48;2;255;255;0mmerken\u001b[0m\n"
      ]
     },
     "metadata": {},
     "output_type": "display_data"
    },
    {
     "name": "stdout",
     "output_type": "stream",
     "text": [
      "[('niks', 0.826), ('op', 0.6532), ('te', 0.6484), ('aan', 0.6118), ('merken', 0.3503)]\n"
     ]
    },
    {
     "data": {
      "text/html": [
       "<pre style=\"white-space:pre;overflow-x:auto;line-height:normal;font-family:Menlo,'DejaVu Sans Mono',consolas,'Courier New',monospace\">Voldoende <span style=\"color: #000000; text-decoration-color: #000000; background-color: #ffff00\">tijd</span> <span style=\"color: #000000; text-decoration-color: #000000; background-color: #ffff00\">en</span> <span style=\"color: #000000; text-decoration-color: #000000; background-color: #ffff00\">ruimte</span> om <span style=\"color: #000000; text-decoration-color: #000000; background-color: #ffff00\">tijdens</span> <span style=\"color: #000000; text-decoration-color: #000000; background-color: #ffff00\">evaluaties</span> hierop in te gaan. Ook <span style=\"color: #000000; text-decoration-color: #000000; background-color: #ffff00\">tijdens</span> de <span style=\"color: #000000; text-decoration-color: #000000; background-color: #ffff00\">tijds</span> on \n",
       "<span style=\"color: #000000; text-decoration-color: #000000; background-color: #ffff00\">site</span> was er wel <span style=\"color: #000000; text-decoration-color: #000000; background-color: #ffff00\">ruimte</span> <span style=\"color: #000000; text-decoration-color: #000000; background-color: #ffff00\">voor</span> dergelijke <span style=\"color: #000000; text-decoration-color: #000000; background-color: #ffff00\">informelere</span> uitwisseling.\n",
       "</pre>\n"
      ],
      "text/plain": [
       "Voldoende \u001b[30;48;2;255;255;0mtijd\u001b[0m \u001b[30;48;2;255;255;0men\u001b[0m \u001b[30;48;2;255;255;0mruimte\u001b[0m om \u001b[30;48;2;255;255;0mtijdens\u001b[0m \u001b[30;48;2;255;255;0mevaluaties\u001b[0m hierop in te gaan. Ook \u001b[30;48;2;255;255;0mtijdens\u001b[0m de \u001b[30;48;2;255;255;0mtijds\u001b[0m on \n",
       "\u001b[30;48;2;255;255;0msite\u001b[0m was er wel \u001b[30;48;2;255;255;0mruimte\u001b[0m \u001b[30;48;2;255;255;0mvoor\u001b[0m dergelijke \u001b[30;48;2;255;255;0minformelere\u001b[0m uitwisseling.\n"
      ]
     },
     "metadata": {},
     "output_type": "display_data"
    },
    {
     "name": "stdout",
     "output_type": "stream",
     "text": [
      "[('tijds', 0.4062), ('tijd', 0.3663), ('evaluaties', 0.3633), ('uitwisseling', 0.3623), ('informelere', 0.3498), ('tijdens', 0.3284), ('ruimte', 0.2527), ('site', 0.2501), ('voor', 0.2387), ('en', 0.1989)]\n"
     ]
    },
    {
     "data": {
      "text/html": [
       "<pre style=\"white-space:pre;overflow-x:auto;line-height:normal;font-family:Menlo,'DejaVu Sans Mono',consolas,'Courier New',monospace\"><span style=\"color: #000000; text-decoration-color: #000000; background-color: #ffff00\">Niets</span> <span style=\"color: #000000; text-decoration-color: #000000; background-color: #ffff00\">op</span> <span style=\"color: #000000; text-decoration-color: #000000; background-color: #ffff00\">aan</span> <span style=\"color: #000000; text-decoration-color: #000000; background-color: #ffff00\">te</span> merken, <span style=\"color: #000000; text-decoration-color: #000000; background-color: #ffff00\">heel</span> <span style=\"color: #000000; text-decoration-color: #000000; background-color: #ffff00\">vlot</span> <span style=\"color: #000000; text-decoration-color: #000000; background-color: #ffff00\">en</span> flexibel.\n",
       "</pre>\n"
      ],
      "text/plain": [
       "\u001b[30;48;2;255;255;0mNiets\u001b[0m \u001b[30;48;2;255;255;0mop\u001b[0m \u001b[30;48;2;255;255;0maan\u001b[0m \u001b[30;48;2;255;255;0mte\u001b[0m merken, \u001b[30;48;2;255;255;0mheel\u001b[0m \u001b[30;48;2;255;255;0mvlot\u001b[0m \u001b[30;48;2;255;255;0men\u001b[0m flexibel.\n"
      ]
     },
     "metadata": {},
     "output_type": "display_data"
    },
    {
     "name": "stdout",
     "output_type": "stream",
     "text": [
      "[('flexibel', 0.6991), ('niets', 0.4401), ('vlot', 0.4211), ('heel', 0.3357), ('op', 0.269), ('te', 0.2579), ('en', 0.2387), ('aan', 0.1911), ('merken', 0.1313)]\n"
     ]
    },
    {
     "data": {
      "text/html": [
       "<pre style=\"white-space:pre;overflow-x:auto;line-height:normal;font-family:Menlo,'DejaVu Sans Mono',consolas,'Courier New',monospace\">C'est le <span style=\"color: #000000; text-decoration-color: #000000; background-color: #ffff00\">second</span> <span style=\"color: #000000; text-decoration-color: #000000; background-color: #ffff00\">projet</span> avec <span style=\"color: #000000; text-decoration-color: #000000; background-color: #ffff00\">Deloitte</span> mais ce sont <span style=\"color: #000000; text-decoration-color: #000000; background-color: #ffff00\">principalement</span> <span style=\"color: #000000; text-decoration-color: #000000; background-color: #ffff00\">des</span> <span style=\"color: #000000; text-decoration-color: #000000; background-color: #ffff00\">analyses</span> que nous \n",
       "n'avons pas encore pu <span style=\"color: #000000; text-decoration-color: #000000; background-color: #ffff00\">concrétiser</span> dans nos systèmes. La vraie <span style=\"color: #000000; text-decoration-color: #000000; background-color: #ffff00\">évaluation</span> se fera à ce moment \n",
       "là :-)\n",
       "</pre>\n"
      ],
      "text/plain": [
       "C'est le \u001b[30;48;2;255;255;0msecond\u001b[0m \u001b[30;48;2;255;255;0mprojet\u001b[0m avec \u001b[30;48;2;255;255;0mDeloitte\u001b[0m mais ce sont \u001b[30;48;2;255;255;0mprincipalement\u001b[0m \u001b[30;48;2;255;255;0mdes\u001b[0m \u001b[30;48;2;255;255;0manalyses\u001b[0m que nous \n",
       "n'avons pas encore pu \u001b[30;48;2;255;255;0mconcrétiser\u001b[0m dans nos systèmes. La vraie \u001b[30;48;2;255;255;0mévaluation\u001b[0m se fera à ce moment \n",
       "là :-)\n"
      ]
     },
     "metadata": {},
     "output_type": "display_data"
    },
    {
     "name": "stdout",
     "output_type": "stream",
     "text": [
      "[('analyses', 0.4796), ('évaluation', 0.4463), ('projet', 0.372), ('second', 0.3386), ('concrétiser', 0.2851), ('deloitte', 0.2813), ('principalement', 0.2592), ('avons', 0.2467), ('des', 0.2392), ('systèmes', 0.2352)]\n"
     ]
    },
    {
     "data": {
      "text/html": [
       "<pre style=\"white-space:pre;overflow-x:auto;line-height:normal;font-family:Menlo,'DejaVu Sans Mono',consolas,'Courier New',monospace\"><span style=\"color: #000000; text-decoration-color: #000000; background-color: #ffff00\">De</span> <span style=\"color: #000000; text-decoration-color: #000000; background-color: #ffff00\">samenwerking</span> <span style=\"color: #000000; text-decoration-color: #000000; background-color: #ffff00\">verliep</span> <span style=\"color: #000000; text-decoration-color: #000000; background-color: #ffff00\">normaal</span> <span style=\"color: #000000; text-decoration-color: #000000; background-color: #ffff00\">in</span> <span style=\"color: #000000; text-decoration-color: #000000; background-color: #ffff00\">het</span> \"new normal\".\n",
       "</pre>\n"
      ],
      "text/plain": [
       "\u001b[30;48;2;255;255;0mDe\u001b[0m \u001b[30;48;2;255;255;0msamenwerking\u001b[0m \u001b[30;48;2;255;255;0mverliep\u001b[0m \u001b[30;48;2;255;255;0mnormaal\u001b[0m \u001b[30;48;2;255;255;0min\u001b[0m \u001b[30;48;2;255;255;0mhet\u001b[0m \"new normal\".\n"
      ]
     },
     "metadata": {},
     "output_type": "display_data"
    },
    {
     "name": "stdout",
     "output_type": "stream",
     "text": [
      "[('samenwerking', 0.4906), ('normaal', 0.4372), ('normal', 0.4277), ('new', 0.342), ('de', 0.1671), ('in', 0.1627), ('het', 0.1393), ('verliep', 0.1392)]\n"
     ]
    },
    {
     "data": {
      "text/html": [
       "<pre style=\"white-space:pre;overflow-x:auto;line-height:normal;font-family:Menlo,'DejaVu Sans Mono',consolas,'Courier New',monospace\"><span style=\"color: #000000; text-decoration-color: #000000; background-color: #ffff00\">Bij</span> <span style=\"color: #000000; text-decoration-color: #000000; background-color: #ffff00\">beleggen</span> <span style=\"color: #000000; text-decoration-color: #000000; background-color: #ffff00\">minder</span> <span style=\"color: #000000; text-decoration-color: #000000; background-color: #ffff00\">op</span> <span style=\"color: #000000; text-decoration-color: #000000; background-color: #ffff00\">maat</span> <span style=\"color: #000000; text-decoration-color: #000000; background-color: #ffff00\">van</span> <span style=\"color: #000000; text-decoration-color: #000000; background-color: #ffff00\">aanpak</span> Argenta: <span style=\"color: #000000; text-decoration-color: #000000; background-color: #ffff00\">bv</span> <span style=\"color: #000000; text-decoration-color: #000000; background-color: #ffff00\">robotics</span>\n",
       "</pre>\n"
      ],
      "text/plain": [
       "\u001b[30;48;2;255;255;0mBij\u001b[0m \u001b[30;48;2;255;255;0mbeleggen\u001b[0m \u001b[30;48;2;255;255;0mminder\u001b[0m \u001b[30;48;2;255;255;0mop\u001b[0m \u001b[30;48;2;255;255;0mmaat\u001b[0m \u001b[30;48;2;255;255;0mvan\u001b[0m \u001b[30;48;2;255;255;0maanpak\u001b[0m Argenta: \u001b[30;48;2;255;255;0mbv\u001b[0m \u001b[30;48;2;255;255;0mrobotics\u001b[0m\n"
      ]
     },
     "metadata": {},
     "output_type": "display_data"
    },
    {
     "name": "stdout",
     "output_type": "stream",
     "text": [
      "[('robotics', 0.6872), ('aanpak', 0.3962), ('maat', 0.3428), ('van', 0.3248), ('op', 0.2993), ('minder', 0.2645), ('bv', 0.2626), ('beleggen', 0.2592), ('bij', 0.2421), ('argenta', 0.2399)]\n"
     ]
    },
    {
     "data": {
      "text/html": [
       "<pre style=\"white-space:pre;overflow-x:auto;line-height:normal;font-family:Menlo,'DejaVu Sans Mono',consolas,'Courier New',monospace\"><span style=\"color: #000000; text-decoration-color: #000000; background-color: #ffff00\">Stond</span> <span style=\"color: #000000; text-decoration-color: #000000; background-color: #ffff00\">ook</span> <span style=\"color: #000000; text-decoration-color: #000000; background-color: #ffff00\">erg</span> <span style=\"color: #000000; text-decoration-color: #000000; background-color: #ffff00\">open</span> <span style=\"color: #000000; text-decoration-color: #000000; background-color: #ffff00\">voor</span> <span style=\"color: #000000; text-decoration-color: #000000; background-color: #ffff00\">feedback</span> <span style=\"color: #000000; text-decoration-color: #000000; background-color: #ffff00\">wat</span> <span style=\"color: #000000; text-decoration-color: #000000; background-color: #ffff00\">gewaardeerd</span> <span style=\"color: #000000; text-decoration-color: #000000; background-color: #ffff00\">wordt</span>\n",
       "</pre>\n"
      ],
      "text/plain": [
       "\u001b[30;48;2;255;255;0mStond\u001b[0m \u001b[30;48;2;255;255;0mook\u001b[0m \u001b[30;48;2;255;255;0merg\u001b[0m \u001b[30;48;2;255;255;0mopen\u001b[0m \u001b[30;48;2;255;255;0mvoor\u001b[0m \u001b[30;48;2;255;255;0mfeedback\u001b[0m \u001b[30;48;2;255;255;0mwat\u001b[0m \u001b[30;48;2;255;255;0mgewaardeerd\u001b[0m \u001b[30;48;2;255;255;0mwordt\u001b[0m\n"
      ]
     },
     "metadata": {},
     "output_type": "display_data"
    },
    {
     "name": "stdout",
     "output_type": "stream",
     "text": [
      "[('feedback', 0.6758), ('gewaardeerd', 0.4104), ('voor', 0.3832), ('open', 0.3645), ('ook', 0.327), ('wordt', 0.3012), ('wat', 0.2588), ('stond', 0.2515), ('erg', 0.1482)]\n"
     ]
    },
    {
     "data": {
      "text/html": [
       "<pre style=\"white-space:pre;overflow-x:auto;line-height:normal;font-family:Menlo,'DejaVu Sans Mono',consolas,'Courier New',monospace\"><span style=\"color: #000000; text-decoration-color: #000000; background-color: #ffff00\">Prima</span> <span style=\"color: #000000; text-decoration-color: #000000; background-color: #ffff00\">digital</span> setup!\n",
       "</pre>\n"
      ],
      "text/plain": [
       "\u001b[30;48;2;255;255;0mPrima\u001b[0m \u001b[30;48;2;255;255;0mdigital\u001b[0m setup!\n"
      ]
     },
     "metadata": {},
     "output_type": "display_data"
    },
    {
     "name": "stdout",
     "output_type": "stream",
     "text": [
      "[('digital', 0.7548), ('setup', 0.5898), ('prima', 0.27)]\n"
     ]
    },
    {
     "data": {
      "text/html": [
       "<pre style=\"white-space:pre;overflow-x:auto;line-height:normal;font-family:Menlo,'DejaVu Sans Mono',consolas,'Courier New',monospace\"><span style=\"color: #000000; text-decoration-color: #000000; background-color: #ffff00\">Next</span> <span style=\"color: #000000; text-decoration-color: #000000; background-color: #ffff00\">normal</span> <span style=\"color: #000000; text-decoration-color: #000000; background-color: #ffff00\">will</span> <span style=\"color: #000000; text-decoration-color: #000000; background-color: #ffff00\">remain</span> more <span style=\"color: #000000; text-decoration-color: #000000; background-color: #ffff00\">virtual</span> than before. <span style=\"color: #000000; text-decoration-color: #000000; background-color: #ffff00\">Proper</span> <span style=\"color: #000000; text-decoration-color: #000000; background-color: #ffff00\">planning</span> <span style=\"color: #000000; text-decoration-color: #000000; background-color: #ffff00\">remains</span> critical.\n",
       "</pre>\n"
      ],
      "text/plain": [
       "\u001b[30;48;2;255;255;0mNext\u001b[0m \u001b[30;48;2;255;255;0mnormal\u001b[0m \u001b[30;48;2;255;255;0mwill\u001b[0m \u001b[30;48;2;255;255;0mremain\u001b[0m more \u001b[30;48;2;255;255;0mvirtual\u001b[0m than before. \u001b[30;48;2;255;255;0mProper\u001b[0m \u001b[30;48;2;255;255;0mplanning\u001b[0m \u001b[30;48;2;255;255;0mremains\u001b[0m critical.\n"
      ]
     },
     "metadata": {},
     "output_type": "display_data"
    },
    {
     "name": "stdout",
     "output_type": "stream",
     "text": [
      "[('planning', 0.4729), ('virtual', 0.4568), ('next', 0.4106), ('remain', 0.3781), ('remains', 0.3545), ('critical', 0.3378), ('will', 0.334), ('proper', 0.2952), ('before', 0.2465), ('normal', 0.2343)]\n"
     ]
    },
    {
     "data": {
      "text/html": [
       "<pre style=\"white-space:pre;overflow-x:auto;line-height:normal;font-family:Menlo,'DejaVu Sans Mono',consolas,'Courier New',monospace\"><span style=\"color: #000000; text-decoration-color: #000000; background-color: #ffff00\">For</span> Bio.be we received a clear <span style=\"color: #000000; text-decoration-color: #000000; background-color: #ffff00\">maturity</span> <span style=\"color: #000000; text-decoration-color: #000000; background-color: #ffff00\">assessment</span> and <span style=\"color: #000000; text-decoration-color: #000000; background-color: #ffff00\">for</span> <span style=\"color: #000000; text-decoration-color: #000000; background-color: #ffff00\">Lestipare</span> we received a <span style=\"color: #000000; text-decoration-color: #000000; background-color: #ffff00\">report</span> as \n",
       "to why the <span style=\"color: #000000; text-decoration-color: #000000; background-color: #ffff00\">company</span> should <span style=\"color: #000000; text-decoration-color: #000000; background-color: #ffff00\">invest</span> in Belgium, as well as the different paths to asks <span style=\"color: #000000; text-decoration-color: #000000; background-color: #ffff00\">for</span> \n",
       "<span style=\"color: #000000; text-decoration-color: #000000; background-color: #ffff00\">incentives</span>\n",
       "</pre>\n"
      ],
      "text/plain": [
       "\u001b[30;48;2;255;255;0mFor\u001b[0m Bio.be we received a clear \u001b[30;48;2;255;255;0mmaturity\u001b[0m \u001b[30;48;2;255;255;0massessment\u001b[0m and \u001b[30;48;2;255;255;0mfor\u001b[0m \u001b[30;48;2;255;255;0mLestipare\u001b[0m we received a \u001b[30;48;2;255;255;0mreport\u001b[0m as \n",
       "to why the \u001b[30;48;2;255;255;0mcompany\u001b[0m should \u001b[30;48;2;255;255;0minvest\u001b[0m in Belgium, as well as the different paths to asks \u001b[30;48;2;255;255;0mfor\u001b[0m \n",
       "\u001b[30;48;2;255;255;0mincentives\u001b[0m\n"
      ]
     },
     "metadata": {},
     "output_type": "display_data"
    },
    {
     "name": "stdout",
     "output_type": "stream",
     "text": [
      "[('belgium', 0.3452), ('company', 0.3186), ('assessment', 0.3183), ('maturity', 0.2951), ('invest', 0.2843), ('bio', 0.2681), ('incentives', 0.222), ('lestipare', 0.2132), ('for', 0.1652), ('report', 0.1534)]\n"
     ]
    },
    {
     "data": {
      "text/html": [
       "<pre style=\"white-space:pre;overflow-x:auto;line-height:normal;font-family:Menlo,'DejaVu Sans Mono',consolas,'Courier New',monospace\"><span style=\"color: #000000; text-decoration-color: #000000; background-color: #ffff00\">Communication</span> <span style=\"color: #000000; text-decoration-color: #000000; background-color: #ffff00\">always</span> <span style=\"color: #000000; text-decoration-color: #000000; background-color: #ffff00\">happened</span> <span style=\"color: #000000; text-decoration-color: #000000; background-color: #ffff00\">as</span> <span style=\"color: #000000; text-decoration-color: #000000; background-color: #ffff00\">appropriate</span> <span style=\"color: #000000; text-decoration-color: #000000; background-color: #ffff00\">and</span> a <span style=\"color: #000000; text-decoration-color: #000000; background-color: #ffff00\">very</span> <span style=\"color: #000000; text-decoration-color: #000000; background-color: #ffff00\">good</span> follow-up\n",
       "</pre>\n"
      ],
      "text/plain": [
       "\u001b[30;48;2;255;255;0mCommunication\u001b[0m \u001b[30;48;2;255;255;0malways\u001b[0m \u001b[30;48;2;255;255;0mhappened\u001b[0m \u001b[30;48;2;255;255;0mas\u001b[0m \u001b[30;48;2;255;255;0mappropriate\u001b[0m \u001b[30;48;2;255;255;0mand\u001b[0m a \u001b[30;48;2;255;255;0mvery\u001b[0m \u001b[30;48;2;255;255;0mgood\u001b[0m follow-up\n"
      ]
     },
     "metadata": {},
     "output_type": "display_data"
    },
    {
     "name": "stdout",
     "output_type": "stream",
     "text": [
      "[('communication', 0.3979), ('always', 0.32), ('follow', 0.3176), ('appropriate', 0.2927), ('happened', 0.2901), ('good', 0.2893), ('and', 0.2302), ('very', 0.1968), ('up', 0.1543), ('as', 0.1242)]\n"
     ]
    },
    {
     "data": {
      "text/html": [
       "<pre style=\"white-space:pre;overflow-x:auto;line-height:normal;font-family:Menlo,'DejaVu Sans Mono',consolas,'Courier New',monospace\"><span style=\"color: #000000; text-decoration-color: #000000; background-color: #ffff00\">They</span> <span style=\"color: #000000; text-decoration-color: #000000; background-color: #ffff00\">are</span> my <span style=\"color: #000000; text-decoration-color: #000000; background-color: #ffff00\">sounding</span> <span style=\"color: #000000; text-decoration-color: #000000; background-color: #ffff00\">board</span> and <span style=\"color: #000000; text-decoration-color: #000000; background-color: #ffff00\">we</span> gained over the months a great level of <span style=\"color: #000000; text-decoration-color: #000000; background-color: #ffff00\">confidence</span> that <span style=\"color: #000000; text-decoration-color: #000000; background-color: #ffff00\">we</span> \n",
       "can <span style=\"color: #000000; text-decoration-color: #000000; background-color: #ffff00\">openly</span> <span style=\"color: #000000; text-decoration-color: #000000; background-color: #ffff00\">say</span> what <span style=\"color: #000000; text-decoration-color: #000000; background-color: #ffff00\">we</span> dont like/want - two ways\n",
       "</pre>\n"
      ],
      "text/plain": [
       "\u001b[30;48;2;255;255;0mThey\u001b[0m \u001b[30;48;2;255;255;0mare\u001b[0m my \u001b[30;48;2;255;255;0msounding\u001b[0m \u001b[30;48;2;255;255;0mboard\u001b[0m and \u001b[30;48;2;255;255;0mwe\u001b[0m gained over the months a great level of \u001b[30;48;2;255;255;0mconfidence\u001b[0m that \u001b[30;48;2;255;255;0mwe\u001b[0m \n",
       "can \u001b[30;48;2;255;255;0mopenly\u001b[0m \u001b[30;48;2;255;255;0msay\u001b[0m what \u001b[30;48;2;255;255;0mwe\u001b[0m dont like/want - two ways\n"
      ]
     },
     "metadata": {},
     "output_type": "display_data"
    },
    {
     "name": "stdout",
     "output_type": "stream",
     "text": [
      "[('confidence', 0.4747), ('we', 0.387), ('sounding', 0.3634), ('openly', 0.3478), ('board', 0.2987), ('say', 0.2947), ('are', 0.2554), ('want', 0.2543), ('like', 0.2534), ('they', 0.2533)]\n"
     ]
    },
    {
     "data": {
      "text/html": [
       "<pre style=\"white-space:pre;overflow-x:auto;line-height:normal;font-family:Menlo,'DejaVu Sans Mono',consolas,'Courier New',monospace\"><span style=\"color: #000000; text-decoration-color: #000000; background-color: #ffff00\">Great</span> <span style=\"color: #000000; text-decoration-color: #000000; background-color: #ffff00\">digital</span> <span style=\"color: #000000; text-decoration-color: #000000; background-color: #ffff00\">support</span> <span style=\"color: #000000; text-decoration-color: #000000; background-color: #ffff00\">on</span> TEAMS, <span style=\"color: #000000; text-decoration-color: #000000; background-color: #ffff00\">MIRO</span> ect.\n",
       "</pre>\n"
      ],
      "text/plain": [
       "\u001b[30;48;2;255;255;0mGreat\u001b[0m \u001b[30;48;2;255;255;0mdigital\u001b[0m \u001b[30;48;2;255;255;0msupport\u001b[0m \u001b[30;48;2;255;255;0mon\u001b[0m TEAMS, \u001b[30;48;2;255;255;0mMIRO\u001b[0m ect.\n"
      ]
     },
     "metadata": {},
     "output_type": "display_data"
    },
    {
     "name": "stdout",
     "output_type": "stream",
     "text": [
      "[('digital', 0.4928), ('support', 0.3826), ('teams', 0.3644), ('miro', 0.3368), ('great', 0.2512), ('on', 0.2447), ('ect', 0.1984)]\n"
     ]
    },
    {
     "data": {
      "text/html": [
       "<pre style=\"white-space:pre;overflow-x:auto;line-height:normal;font-family:Menlo,'DejaVu Sans Mono',consolas,'Courier New',monospace\"><span style=\"color: #000000; text-decoration-color: #000000; background-color: #ffff00\">Sometime</span> is not so easy <span style=\"color: #000000; text-decoration-color: #000000; background-color: #ffff00\">to</span> <span style=\"color: #000000; text-decoration-color: #000000; background-color: #ffff00\">quantity</span> a <span style=\"color: #000000; text-decoration-color: #000000; background-color: #ffff00\">new</span> <span style=\"color: #000000; text-decoration-color: #000000; background-color: #ffff00\">project</span> <span style=\"color: #000000; text-decoration-color: #000000; background-color: #ffff00\">but</span> they always come with <span style=\"color: #000000; text-decoration-color: #000000; background-color: #ffff00\">alternative</span> <span style=\"color: #000000; text-decoration-color: #000000; background-color: #ffff00\">to</span> \n",
       "<span style=\"color: #000000; text-decoration-color: #000000; background-color: #ffff00\">save</span> <span style=\"color: #000000; text-decoration-color: #000000; background-color: #ffff00\">budget</span> or/and time\n",
       "</pre>\n"
      ],
      "text/plain": [
       "\u001b[30;48;2;255;255;0mSometime\u001b[0m is not so easy \u001b[30;48;2;255;255;0mto\u001b[0m \u001b[30;48;2;255;255;0mquantity\u001b[0m a \u001b[30;48;2;255;255;0mnew\u001b[0m \u001b[30;48;2;255;255;0mproject\u001b[0m \u001b[30;48;2;255;255;0mbut\u001b[0m they always come with \u001b[30;48;2;255;255;0malternative\u001b[0m \u001b[30;48;2;255;255;0mto\u001b[0m \n",
       "\u001b[30;48;2;255;255;0msave\u001b[0m \u001b[30;48;2;255;255;0mbudget\u001b[0m or/and time\n"
      ]
     },
     "metadata": {},
     "output_type": "display_data"
    },
    {
     "name": "stdout",
     "output_type": "stream",
     "text": [
      "[('budget', 0.4755), ('project', 0.4456), ('save', 0.361), ('alternative', 0.2967), ('new', 0.2817), ('but', 0.2192), ('quantity', 0.2102), ('sometime', 0.1785), ('and', 0.1766), ('to', 0.1741)]\n"
     ]
    },
    {
     "data": {
      "text/html": [
       "<pre style=\"white-space:pre;overflow-x:auto;line-height:normal;font-family:Menlo,'DejaVu Sans Mono',consolas,'Courier New',monospace\"><span style=\"color: #000000; text-decoration-color: #000000; background-color: #ffff00\">Nathan</span> and <span style=\"color: #000000; text-decoration-color: #000000; background-color: #ffff00\">Mathieu</span> provide a strong <span style=\"color: #000000; text-decoration-color: #000000; background-color: #ffff00\">support</span> in way of <span style=\"color: #000000; text-decoration-color: #000000; background-color: #ffff00\">working</span> and <span style=\"color: #000000; text-decoration-color: #000000; background-color: #ffff00\">frameworks</span> to use. <span style=\"color: #000000; text-decoration-color: #000000; background-color: #ffff00\">Nathan</span> \n",
       "has a <span style=\"color: #000000; text-decoration-color: #000000; background-color: #ffff00\">wider</span> <span style=\"color: #000000; text-decoration-color: #000000; background-color: #ffff00\">helicopter</span> view of <span style=\"color: #000000; text-decoration-color: #000000; background-color: #ffff00\">different</span> areas while <span style=\"color: #000000; text-decoration-color: #000000; background-color: #ffff00\">Mathieu</span> has a <span style=\"color: #000000; text-decoration-color: #000000; background-color: #ffff00\">more</span> specific experience \n",
       "in <span style=\"color: #000000; text-decoration-color: #000000; background-color: #ffff00\">automotive</span>\n",
       "</pre>\n"
      ],
      "text/plain": [
       "\u001b[30;48;2;255;255;0mNathan\u001b[0m and \u001b[30;48;2;255;255;0mMathieu\u001b[0m provide a strong \u001b[30;48;2;255;255;0msupport\u001b[0m in way of \u001b[30;48;2;255;255;0mworking\u001b[0m and \u001b[30;48;2;255;255;0mframeworks\u001b[0m to use. \u001b[30;48;2;255;255;0mNathan\u001b[0m \n",
       "has a \u001b[30;48;2;255;255;0mwider\u001b[0m \u001b[30;48;2;255;255;0mhelicopter\u001b[0m view of \u001b[30;48;2;255;255;0mdifferent\u001b[0m areas while \u001b[30;48;2;255;255;0mMathieu\u001b[0m has a \u001b[30;48;2;255;255;0mmore\u001b[0m specific experience \n",
       "in \u001b[30;48;2;255;255;0mautomotive\u001b[0m\n"
      ]
     },
     "metadata": {},
     "output_type": "display_data"
    },
    {
     "name": "stdout",
     "output_type": "stream",
     "text": [
      "[('nathan', 0.4797), ('mathieu', 0.3409), ('support', 0.3285), ('frameworks', 0.3119), ('helicopter', 0.3007), ('wider', 0.2827), ('more', 0.2652), ('working', 0.2389), ('automotive', 0.2387), ('different', 0.2338)]\n"
     ]
    },
    {
     "data": {
      "text/html": [
       "<pre style=\"white-space:pre;overflow-x:auto;line-height:normal;font-family:Menlo,'DejaVu Sans Mono',consolas,'Courier New',monospace\"><span style=\"color: #000000; text-decoration-color: #000000; background-color: #ffff00\">Perfect</span>\n",
       "</pre>\n"
      ],
      "text/plain": [
       "\u001b[30;48;2;255;255;0mPerfect\u001b[0m\n"
      ]
     },
     "metadata": {},
     "output_type": "display_data"
    },
    {
     "name": "stdout",
     "output_type": "stream",
     "text": [
      "[('perfect', 0.9954)]\n"
     ]
    },
    {
     "data": {
      "text/html": [
       "<pre style=\"white-space:pre;overflow-x:auto;line-height:normal;font-family:Menlo,'DejaVu Sans Mono',consolas,'Courier New',monospace\"><span style=\"color: #000000; text-decoration-color: #000000; background-color: #ffff00\">We</span> <span style=\"color: #000000; text-decoration-color: #000000; background-color: #ffff00\">work</span> in close collaboration, as <span style=\"color: #000000; text-decoration-color: #000000; background-color: #ffff00\">we</span> were <span style=\"color: #000000; text-decoration-color: #000000; background-color: #ffff00\">colleagues</span> and <span style=\"color: #000000; text-decoration-color: #000000; background-color: #ffff00\">they</span> <span style=\"color: #000000; text-decoration-color: #000000; background-color: #ffff00\">are</span> <span style=\"color: #000000; text-decoration-color: #000000; background-color: #ffff00\">always</span> super <span style=\"color: #000000; text-decoration-color: #000000; background-color: #ffff00\">punctual</span> in \n",
       "<span style=\"color: #000000; text-decoration-color: #000000; background-color: #ffff00\">delivering</span> even anticipating my <span style=\"color: #000000; text-decoration-color: #000000; background-color: #ffff00\">requests</span>\n",
       "</pre>\n"
      ],
      "text/plain": [
       "\u001b[30;48;2;255;255;0mWe\u001b[0m \u001b[30;48;2;255;255;0mwork\u001b[0m in close collaboration, as \u001b[30;48;2;255;255;0mwe\u001b[0m were \u001b[30;48;2;255;255;0mcolleagues\u001b[0m and \u001b[30;48;2;255;255;0mthey\u001b[0m \u001b[30;48;2;255;255;0mare\u001b[0m \u001b[30;48;2;255;255;0malways\u001b[0m super \u001b[30;48;2;255;255;0mpunctual\u001b[0m in \n",
       "\u001b[30;48;2;255;255;0mdelivering\u001b[0m even anticipating my \u001b[30;48;2;255;255;0mrequests\u001b[0m\n"
      ]
     },
     "metadata": {},
     "output_type": "display_data"
    },
    {
     "name": "stdout",
     "output_type": "stream",
     "text": [
      "[('collaboration', 0.5182), ('colleagues', 0.487), ('punctual', 0.3767), ('we', 0.3174), ('requests', 0.2586), ('they', 0.2546), ('are', 0.2515), ('delivering', 0.25), ('work', 0.2351), ('always', 0.2004)]\n"
     ]
    },
    {
     "data": {
      "text/html": [
       "<pre style=\"white-space:pre;overflow-x:auto;line-height:normal;font-family:Menlo,'DejaVu Sans Mono',consolas,'Courier New',monospace\">After almost 2 years of collaboration, <span style=\"color: #000000; text-decoration-color: #000000; background-color: #ffff00\">Nathan</span> and Mathieu know many <span style=\"color: #000000; text-decoration-color: #000000; background-color: #ffff00\">TME</span> <span style=\"color: #000000; text-decoration-color: #000000; background-color: #ffff00\">colleagues</span> by <span style=\"color: #000000; text-decoration-color: #000000; background-color: #ffff00\">name</span> \n",
       "and functions but as I took over this job, I prefer to always be present when <span style=\"color: #000000; text-decoration-color: #000000; background-color: #ffff00\">they</span> <span style=\"color: #000000; text-decoration-color: #000000; background-color: #ffff00\">interact</span> \n",
       "<span style=\"color: #000000; text-decoration-color: #000000; background-color: #ffff00\">with</span> <span style=\"color: #000000; text-decoration-color: #000000; background-color: #ffff00\">TME</span> or <span style=\"color: #000000; text-decoration-color: #000000; background-color: #ffff00\">NMSC</span> <span style=\"color: #000000; text-decoration-color: #000000; background-color: #ffff00\">colleagues</span>\n",
       "</pre>\n"
      ],
      "text/plain": [
       "After almost 2 years of collaboration, \u001b[30;48;2;255;255;0mNathan\u001b[0m and Mathieu know many \u001b[30;48;2;255;255;0mTME\u001b[0m \u001b[30;48;2;255;255;0mcolleagues\u001b[0m by \u001b[30;48;2;255;255;0mname\u001b[0m \n",
       "and functions but as I took over this job, I prefer to always be present when \u001b[30;48;2;255;255;0mthey\u001b[0m \u001b[30;48;2;255;255;0minteract\u001b[0m \n",
       "\u001b[30;48;2;255;255;0mwith\u001b[0m \u001b[30;48;2;255;255;0mTME\u001b[0m or \u001b[30;48;2;255;255;0mNMSC\u001b[0m \u001b[30;48;2;255;255;0mcolleagues\u001b[0m\n"
      ]
     },
     "metadata": {},
     "output_type": "display_data"
    },
    {
     "name": "stdout",
     "output_type": "stream",
     "text": [
      "[('colleagues', 0.4759), ('collaboration', 0.3664), ('interact', 0.3546), ('tme', 0.3194), ('nathan', 0.3168), ('job', 0.2703), ('nmsc', 0.256), ('they', 0.2375), ('with', 0.22), ('name', 0.2191)]\n"
     ]
    },
    {
     "data": {
      "text/html": [
       "<pre style=\"white-space:pre;overflow-x:auto;line-height:normal;font-family:Menlo,'DejaVu Sans Mono',consolas,'Courier New',monospace\"><span style=\"color: #000000; text-decoration-color: #000000; background-color: #ffff00\">Perfect</span> <span style=\"color: #000000; text-decoration-color: #000000; background-color: #ffff00\">transition</span> <span style=\"color: #000000; text-decoration-color: #000000; background-color: #ffff00\">to</span> <span style=\"color: #000000; text-decoration-color: #000000; background-color: #ffff00\">virtual</span>\n",
       "</pre>\n"
      ],
      "text/plain": [
       "\u001b[30;48;2;255;255;0mPerfect\u001b[0m \u001b[30;48;2;255;255;0mtransition\u001b[0m \u001b[30;48;2;255;255;0mto\u001b[0m \u001b[30;48;2;255;255;0mvirtual\u001b[0m\n"
      ]
     },
     "metadata": {},
     "output_type": "display_data"
    },
    {
     "name": "stdout",
     "output_type": "stream",
     "text": [
      "[('virtual', 0.7994), ('transition', 0.4788), ('perfect', 0.3785), ('to', 0.3192)]\n"
     ]
    },
    {
     "data": {
      "text/html": [
       "<pre style=\"white-space:pre;overflow-x:auto;line-height:normal;font-family:Menlo,'DejaVu Sans Mono',consolas,'Courier New',monospace\">I <span style=\"color: #000000; text-decoration-color: #000000; background-color: #ffff00\">could</span> <span style=\"color: #000000; text-decoration-color: #000000; background-color: #ffff00\">not</span> <span style=\"color: #000000; text-decoration-color: #000000; background-color: #ffff00\">have</span> <span style=\"color: #000000; text-decoration-color: #000000; background-color: #ffff00\">better</span> \"colleagues\"\n",
       "</pre>\n"
      ],
      "text/plain": [
       "I \u001b[30;48;2;255;255;0mcould\u001b[0m \u001b[30;48;2;255;255;0mnot\u001b[0m \u001b[30;48;2;255;255;0mhave\u001b[0m \u001b[30;48;2;255;255;0mbetter\u001b[0m \"colleagues\"\n"
      ]
     },
     "metadata": {},
     "output_type": "display_data"
    },
    {
     "name": "stdout",
     "output_type": "stream",
     "text": [
      "[('better', 0.5148), ('colleagues', 0.3608), ('not', 0.2562), ('could', 0.2481), ('have', 0.2249)]\n"
     ]
    },
    {
     "data": {
      "text/html": [
       "<pre style=\"white-space:pre;overflow-x:auto;line-height:normal;font-family:Menlo,'DejaVu Sans Mono',consolas,'Courier New',monospace\">The <span style=\"color: #000000; text-decoration-color: #000000; background-color: #ffff00\">customer</span> <span style=\"color: #000000; text-decoration-color: #000000; background-color: #ffff00\">journey</span> is a <span style=\"color: #000000; text-decoration-color: #000000; background-color: #ffff00\">challenging</span> <span style=\"color: #000000; text-decoration-color: #000000; background-color: #ffff00\">project</span> and <span style=\"color: #000000; text-decoration-color: #000000; background-color: #ffff00\">collaborating</span> <span style=\"color: #000000; text-decoration-color: #000000; background-color: #ffff00\">with</span> them <span style=\"color: #000000; text-decoration-color: #000000; background-color: #ffff00\">makes</span> <span style=\"color: #000000; text-decoration-color: #000000; background-color: #ffff00\">us</span> <span style=\"color: #000000; text-decoration-color: #000000; background-color: #ffff00\">go</span> faster!\n",
       "</pre>\n"
      ],
      "text/plain": [
       "The \u001b[30;48;2;255;255;0mcustomer\u001b[0m \u001b[30;48;2;255;255;0mjourney\u001b[0m is a \u001b[30;48;2;255;255;0mchallenging\u001b[0m \u001b[30;48;2;255;255;0mproject\u001b[0m and \u001b[30;48;2;255;255;0mcollaborating\u001b[0m \u001b[30;48;2;255;255;0mwith\u001b[0m them \u001b[30;48;2;255;255;0mmakes\u001b[0m \u001b[30;48;2;255;255;0mus\u001b[0m \u001b[30;48;2;255;255;0mgo\u001b[0m faster!\n"
      ]
     },
     "metadata": {},
     "output_type": "display_data"
    },
    {
     "name": "stdout",
     "output_type": "stream",
     "text": [
      "[('collaborating', 0.466), ('customer', 0.4528), ('faster', 0.4374), ('challenging', 0.4184), ('journey', 0.4068), ('project', 0.3432), ('go', 0.28), ('us', 0.2217), ('makes', 0.1965), ('with', 0.1951)]\n"
     ]
    },
    {
     "data": {
      "text/html": [
       "<pre style=\"white-space:pre;overflow-x:auto;line-height:normal;font-family:Menlo,'DejaVu Sans Mono',consolas,'Courier New',monospace\"><span style=\"color: #000000; text-decoration-color: #000000; background-color: #ffff00\">Virtual</span> <span style=\"color: #000000; text-decoration-color: #000000; background-color: #ffff00\">working</span> <span style=\"color: #000000; text-decoration-color: #000000; background-color: #ffff00\">could</span> <span style=\"color: #000000; text-decoration-color: #000000; background-color: #ffff00\">continue</span> <span style=\"color: #000000; text-decoration-color: #000000; background-color: #ffff00\">even</span> <span style=\"color: #000000; text-decoration-color: #000000; background-color: #ffff00\">after</span> <span style=\"color: #000000; text-decoration-color: #000000; background-color: #ffff00\">pandemic</span>\n",
       "</pre>\n"
      ],
      "text/plain": [
       "\u001b[30;48;2;255;255;0mVirtual\u001b[0m \u001b[30;48;2;255;255;0mworking\u001b[0m \u001b[30;48;2;255;255;0mcould\u001b[0m \u001b[30;48;2;255;255;0mcontinue\u001b[0m \u001b[30;48;2;255;255;0meven\u001b[0m \u001b[30;48;2;255;255;0mafter\u001b[0m \u001b[30;48;2;255;255;0mpandemic\u001b[0m\n"
      ]
     },
     "metadata": {},
     "output_type": "display_data"
    },
    {
     "name": "stdout",
     "output_type": "stream",
     "text": [
      "[('virtual', 0.5498), ('pandemic', 0.4212), ('continue', 0.3943), ('working', 0.378), ('could', 0.2412), ('even', 0.185), ('after', 0.1731)]\n"
     ]
    },
    {
     "data": {
      "text/html": [
       "<pre style=\"white-space:pre;overflow-x:auto;line-height:normal;font-family:Menlo,'DejaVu Sans Mono',consolas,'Courier New',monospace\">Lijkt <span style=\"color: #000000; text-decoration-color: #000000; background-color: #ffff00\">tegenstrijdig</span> met het 'new normal', <span style=\"color: #000000; text-decoration-color: #000000; background-color: #ffff00\">maar</span> de <span style=\"color: #000000; text-decoration-color: #000000; background-color: #ffff00\">opstart</span> van een opdracht <span style=\"color: #000000; text-decoration-color: #000000; background-color: #ffff00\">gebeurt</span> mijns \n",
       "inziens toch nog steeds 'in person'. <span style=\"color: #000000; text-decoration-color: #000000; background-color: #ffff00\">Anders</span> gesteld: de beperking van het 'new normal'. \n",
       "<span style=\"color: #000000; text-decoration-color: #000000; background-color: #ffff00\">Natuurlijk</span> was dit hier niet mogelijk, en het heeft ook geen echt negatief <span style=\"color: #000000; text-decoration-color: #000000; background-color: #ffff00\">effect</span> gehad op \n",
       "het project.\n",
       "</pre>\n"
      ],
      "text/plain": [
       "Lijkt \u001b[30;48;2;255;255;0mtegenstrijdig\u001b[0m met het 'new normal', \u001b[30;48;2;255;255;0mmaar\u001b[0m de \u001b[30;48;2;255;255;0mopstart\u001b[0m van een opdracht \u001b[30;48;2;255;255;0mgebeurt\u001b[0m mijns \n",
       "inziens toch nog steeds 'in person'. \u001b[30;48;2;255;255;0mAnders\u001b[0m gesteld: de beperking van het 'new normal'. \n",
       "\u001b[30;48;2;255;255;0mNatuurlijk\u001b[0m was dit hier niet mogelijk, en het heeft ook geen echt negatief \u001b[30;48;2;255;255;0meffect\u001b[0m gehad op \n",
       "het project.\n"
      ]
     },
     "metadata": {},
     "output_type": "display_data"
    },
    {
     "name": "stdout",
     "output_type": "stream",
     "text": [
      "[('normal', 0.3835), ('tegenstrijdig', 0.3737), ('anders', 0.3593), ('new', 0.3471), ('maar', 0.304), ('project', 0.3033), ('gebeurt', 0.2907), ('opstart', 0.2868), ('natuurlijk', 0.2842), ('effect', 0.2841)]\n"
     ]
    },
    {
     "data": {
      "text/html": [
       "<pre style=\"white-space:pre;overflow-x:auto;line-height:normal;font-family:Menlo,'DejaVu Sans Mono',consolas,'Courier New',monospace\"><span style=\"color: #000000; text-decoration-color: #000000; background-color: #ffff00\">Voor</span> het grootste <span style=\"color: #000000; text-decoration-color: #000000; background-color: #ffff00\">deel</span> zeker wel. <span style=\"color: #000000; text-decoration-color: #000000; background-color: #ffff00\">Echter</span> in onze specifieke case zijn er mensen die zich \n",
       "vragen stellen bij de evaluatie. <span style=\"color: #000000; text-decoration-color: #000000; background-color: #ffff00\">Stemmen</span> gaan op dat de <span style=\"color: #000000; text-decoration-color: #000000; background-color: #ffff00\">vergelijking</span> toch licht gekleurd was \n",
       "richting Totara. Deze mensen geven aan dat <span style=\"color: #000000; text-decoration-color: #000000; background-color: #ffff00\">Deloitte</span> <span style=\"color: #000000; text-decoration-color: #000000; background-color: #ffff00\">sommige</span> functionaliteiten van CSOD niet \n",
       "correct inschatte. Dit <span style=\"color: #000000; text-decoration-color: #000000; background-color: #ffff00\">doet</span> de vraag rijzen of de <span style=\"color: #000000; text-decoration-color: #000000; background-color: #ffff00\">vergelijking</span> Totara - CSOD wel volledig \n",
       "objectief is gebeurd.\n",
       "</pre>\n"
      ],
      "text/plain": [
       "\u001b[30;48;2;255;255;0mVoor\u001b[0m het grootste \u001b[30;48;2;255;255;0mdeel\u001b[0m zeker wel. \u001b[30;48;2;255;255;0mEchter\u001b[0m in onze specifieke case zijn er mensen die zich \n",
       "vragen stellen bij de evaluatie. \u001b[30;48;2;255;255;0mStemmen\u001b[0m gaan op dat de \u001b[30;48;2;255;255;0mvergelijking\u001b[0m toch licht gekleurd was \n",
       "richting Totara. Deze mensen geven aan dat \u001b[30;48;2;255;255;0mDeloitte\u001b[0m \u001b[30;48;2;255;255;0msommige\u001b[0m functionaliteiten van CSOD niet \n",
       "correct inschatte. Dit \u001b[30;48;2;255;255;0mdoet\u001b[0m de vraag rijzen of de \u001b[30;48;2;255;255;0mvergelijking\u001b[0m Totara - CSOD wel volledig \n",
       "objectief is gebeurd.\n"
      ]
     },
     "metadata": {},
     "output_type": "display_data"
    },
    {
     "name": "stdout",
     "output_type": "stream",
     "text": [
      "[('evaluatie', 0.3892), ('stemmen', 0.3524), ('vergelijking', 0.3331), ('echter', 0.3283), ('sommige', 0.2762), ('deel', 0.2466), ('doet', 0.2389), ('deloitte', 0.2377), ('voor', 0.2291), ('inschatte', 0.2245)]\n"
     ]
    },
    {
     "data": {
      "text/html": [
       "<pre style=\"white-space:pre;overflow-x:auto;line-height:normal;font-family:Menlo,'DejaVu Sans Mono',consolas,'Courier New',monospace\">Hangt <span style=\"color: #000000; text-decoration-color: #000000; background-color: #ffff00\">samen</span> <span style=\"color: #000000; text-decoration-color: #000000; background-color: #ffff00\">met</span> communicatie, maar het was zeker <span style=\"color: #000000; text-decoration-color: #000000; background-color: #ffff00\">makkelijk</span> om <span style=\"color: #000000; text-decoration-color: #000000; background-color: #ffff00\">samen</span> te werken. <span style=\"color: #000000; text-decoration-color: #000000; background-color: #ffff00\">Alle</span> leden \n",
       "<span style=\"color: #000000; text-decoration-color: #000000; background-color: #ffff00\">waren</span> zeer <span style=\"color: #000000; text-decoration-color: #000000; background-color: #ffff00\">toegankelijk</span> en <span style=\"color: #000000; text-decoration-color: #000000; background-color: #ffff00\">reageerden</span> <span style=\"color: #000000; text-decoration-color: #000000; background-color: #ffff00\">snel</span> op mails.\n",
       "</pre>\n"
      ],
      "text/plain": [
       "Hangt \u001b[30;48;2;255;255;0msamen\u001b[0m \u001b[30;48;2;255;255;0mmet\u001b[0m communicatie, maar het was zeker \u001b[30;48;2;255;255;0mmakkelijk\u001b[0m om \u001b[30;48;2;255;255;0msamen\u001b[0m te werken. \u001b[30;48;2;255;255;0mAlle\u001b[0m leden \n",
       "\u001b[30;48;2;255;255;0mwaren\u001b[0m zeer \u001b[30;48;2;255;255;0mtoegankelijk\u001b[0m en \u001b[30;48;2;255;255;0mreageerden\u001b[0m \u001b[30;48;2;255;255;0msnel\u001b[0m op mails.\n"
      ]
     },
     "metadata": {},
     "output_type": "display_data"
    },
    {
     "name": "stdout",
     "output_type": "stream",
     "text": [
      "[('communicatie', 0.3874), ('mails', 0.3699), ('makkelijk', 0.33), ('toegankelijk', 0.2701), ('alle', 0.2535), ('samen', 0.2329), ('waren', 0.2152), ('reageerden', 0.1831), ('snel', 0.172), ('met', 0.1684)]\n"
     ]
    },
    {
     "data": {
      "text/html": [
       "<pre style=\"white-space:pre;overflow-x:auto;line-height:normal;font-family:Menlo,'DejaVu Sans Mono',consolas,'Courier New',monospace\">Ik kreeg de <span style=\"color: #000000; text-decoration-color: #000000; background-color: #ffff00\">indruk</span> dat het <span style=\"color: #000000; text-decoration-color: #000000; background-color: #ffff00\">team</span> <span style=\"color: #000000; text-decoration-color: #000000; background-color: #ffff00\">echt</span> <span style=\"color: #000000; text-decoration-color: #000000; background-color: #ffff00\">als</span> een geheel functioneerde. Qua <span style=\"color: #000000; text-decoration-color: #000000; background-color: #ffff00\">samenwerking</span> tussen \n",
       "<span style=\"color: #000000; text-decoration-color: #000000; background-color: #ffff00\">teams</span> van Deloitte en <span style=\"color: #000000; text-decoration-color: #000000; background-color: #ffff00\">bpost</span> <span style=\"color: #000000; text-decoration-color: #000000; background-color: #ffff00\">ben</span> ik algemeen positief.\n",
       "</pre>\n"
      ],
      "text/plain": [
       "Ik kreeg de \u001b[30;48;2;255;255;0mindruk\u001b[0m dat het \u001b[30;48;2;255;255;0mteam\u001b[0m \u001b[30;48;2;255;255;0mecht\u001b[0m \u001b[30;48;2;255;255;0mals\u001b[0m een geheel functioneerde. Qua \u001b[30;48;2;255;255;0msamenwerking\u001b[0m tussen \n",
       "\u001b[30;48;2;255;255;0mteams\u001b[0m van Deloitte en \u001b[30;48;2;255;255;0mbpost\u001b[0m \u001b[30;48;2;255;255;0mben\u001b[0m ik algemeen positief.\n"
      ]
     },
     "metadata": {},
     "output_type": "display_data"
    },
    {
     "name": "stdout",
     "output_type": "stream",
     "text": [
      "[('team', 0.4431), ('samenwerking', 0.4359), ('teams', 0.4104), ('functioneerde', 0.2937), ('positief', 0.27), ('indruk', 0.2109), ('echt', 0.21), ('bpost', 0.1746), ('als', 0.1694), ('ben', 0.1643)]\n"
     ]
    },
    {
     "data": {
      "text/html": [
       "<pre style=\"white-space:pre;overflow-x:auto;line-height:normal;font-family:Menlo,'DejaVu Sans Mono',consolas,'Courier New',monospace\"><span style=\"color: #000000; text-decoration-color: #000000; background-color: #ffff00\">Verloopt</span> <span style=\"color: #000000; text-decoration-color: #000000; background-color: #ffff00\">prima</span> <span style=\"color: #000000; text-decoration-color: #000000; background-color: #ffff00\">zoals</span> <span style=\"color: #000000; text-decoration-color: #000000; background-color: #ffff00\">het</span> <span style=\"color: #000000; text-decoration-color: #000000; background-color: #ffff00\">is</span>\n",
       "</pre>\n"
      ],
      "text/plain": [
       "\u001b[30;48;2;255;255;0mVerloopt\u001b[0m \u001b[30;48;2;255;255;0mprima\u001b[0m \u001b[30;48;2;255;255;0mzoals\u001b[0m \u001b[30;48;2;255;255;0mhet\u001b[0m \u001b[30;48;2;255;255;0mis\u001b[0m\n"
      ]
     },
     "metadata": {},
     "output_type": "display_data"
    },
    {
     "name": "stdout",
     "output_type": "stream",
     "text": [
      "[('prima', 0.7413), ('verloopt', 0.6955), ('het', 0.6203), ('zoals', 0.6072), ('is', 0.5262)]\n"
     ]
    },
    {
     "data": {
      "text/html": [
       "<pre style=\"white-space:pre;overflow-x:auto;line-height:normal;font-family:Menlo,'DejaVu Sans Mono',consolas,'Courier New',monospace\"><span style=\"color: #000000; text-decoration-color: #000000; background-color: #ffff00\">Geen</span> <span style=\"color: #000000; text-decoration-color: #000000; background-color: #ffff00\">hinder</span> <span style=\"color: #000000; text-decoration-color: #000000; background-color: #ffff00\">ondervonden</span>\n",
       "</pre>\n"
      ],
      "text/plain": [
       "\u001b[30;48;2;255;255;0mGeen\u001b[0m \u001b[30;48;2;255;255;0mhinder\u001b[0m \u001b[30;48;2;255;255;0mondervonden\u001b[0m\n"
      ]
     },
     "metadata": {},
     "output_type": "display_data"
    },
    {
     "name": "stdout",
     "output_type": "stream",
     "text": [
      "[('hinder', 0.702), ('geen', 0.6111), ('ondervonden', 0.5831)]\n"
     ]
    },
    {
     "data": {
      "text/html": [
       "<pre style=\"white-space:pre;overflow-x:auto;line-height:normal;font-family:Menlo,'DejaVu Sans Mono',consolas,'Courier New',monospace\">Het <span style=\"color: #000000; text-decoration-color: #000000; background-color: #ffff00\">had</span> toch wel een <span style=\"color: #000000; text-decoration-color: #000000; background-color: #ffff00\">zeer</span> <span style=\"color: #000000; text-decoration-color: #000000; background-color: #ffff00\">hoge</span> <span style=\"color: #000000; text-decoration-color: #000000; background-color: #ffff00\">kostprijs</span> om een <span style=\"color: #000000; text-decoration-color: #000000; background-color: #ffff00\">vergelijking</span> <span style=\"color: #000000; text-decoration-color: #000000; background-color: #ffff00\">te</span> laten uitvoeren <span style=\"color: #000000; text-decoration-color: #000000; background-color: #ffff00\">tussen</span> <span style=\"color: #000000; text-decoration-color: #000000; background-color: #ffff00\">twee</span> \n",
       "LMS'en.\n",
       "</pre>\n"
      ],
      "text/plain": [
       "Het \u001b[30;48;2;255;255;0mhad\u001b[0m toch wel een \u001b[30;48;2;255;255;0mzeer\u001b[0m \u001b[30;48;2;255;255;0mhoge\u001b[0m \u001b[30;48;2;255;255;0mkostprijs\u001b[0m om een \u001b[30;48;2;255;255;0mvergelijking\u001b[0m \u001b[30;48;2;255;255;0mte\u001b[0m laten uitvoeren \u001b[30;48;2;255;255;0mtussen\u001b[0m \u001b[30;48;2;255;255;0mtwee\u001b[0m \n",
       "LMS'en.\n"
      ]
     },
     "metadata": {},
     "output_type": "display_data"
    },
    {
     "name": "stdout",
     "output_type": "stream",
     "text": [
      "[('kostprijs', 0.4884), ('lms', 0.429), ('vergelijking', 0.2484), ('hoge', 0.2206), ('twee', 0.1564), ('zeer', 0.0967), ('had', 0.0931), ('tussen', 0.0903), ('te', 0.0384), ('en', 0.0268)]\n"
     ]
    },
    {
     "data": {
      "text/html": [
       "<pre style=\"white-space:pre;overflow-x:auto;line-height:normal;font-family:Menlo,'DejaVu Sans Mono',consolas,'Courier New',monospace\">Rond meer <span style=\"color: #000000; text-decoration-color: #000000; background-color: #ffff00\">didactische</span> punten kregen we goed <span style=\"color: #000000; text-decoration-color: #000000; background-color: #ffff00\">advies</span> en kwamen de <span style=\"color: #000000; text-decoration-color: #000000; background-color: #ffff00\">Deloitte</span> <span style=\"color: #000000; text-decoration-color: #000000; background-color: #ffff00\">experts</span> zeker met \n",
       "hun mening op een <span style=\"color: #000000; text-decoration-color: #000000; background-color: #ffff00\">respectvolle</span> <span style=\"color: #000000; text-decoration-color: #000000; background-color: #ffff00\">manier</span> naar voor. Het <span style=\"color: #000000; text-decoration-color: #000000; background-color: #ffff00\">advies</span> rond Totara - CSOD is <span style=\"color: #000000; text-decoration-color: #000000; background-color: #ffff00\">volgens</span> \n",
       "sommigen wat gekleurd (zoals bovenstaand beschreven)\n",
       "</pre>\n"
      ],
      "text/plain": [
       "Rond meer \u001b[30;48;2;255;255;0mdidactische\u001b[0m punten kregen we goed \u001b[30;48;2;255;255;0madvies\u001b[0m en kwamen de \u001b[30;48;2;255;255;0mDeloitte\u001b[0m \u001b[30;48;2;255;255;0mexperts\u001b[0m zeker met \n",
       "hun mening op een \u001b[30;48;2;255;255;0mrespectvolle\u001b[0m \u001b[30;48;2;255;255;0mmanier\u001b[0m naar voor. Het \u001b[30;48;2;255;255;0madvies\u001b[0m rond Totara - CSOD is \u001b[30;48;2;255;255;0mvolgens\u001b[0m \n",
       "sommigen wat gekleurd (zoals bovenstaand beschreven)\n"
      ]
     },
     "metadata": {},
     "output_type": "display_data"
    },
    {
     "name": "stdout",
     "output_type": "stream",
     "text": [
      "[('respectvolle', 0.3689), ('experts', 0.324), ('advies', 0.315), ('didactische', 0.2659), ('voor', 0.2574), ('deloitte', 0.2517), ('volgens', 0.2513), ('zoals', 0.2488), ('manier', 0.2223), ('beschreven', 0.2191)]\n"
     ]
    },
    {
     "data": {
      "text/html": [
       "<pre style=\"white-space:pre;overflow-x:auto;line-height:normal;font-family:Menlo,'DejaVu Sans Mono',consolas,'Courier New',monospace\">Ik vind het <span style=\"color: #000000; text-decoration-color: #000000; background-color: #ffff00\">aangenaam</span> (samen)werken <span style=\"color: #000000; text-decoration-color: #000000; background-color: #ffff00\">met</span> Deloitte. Er <span style=\"color: #000000; text-decoration-color: #000000; background-color: #ffff00\">wordt</span> steeds <span style=\"color: #000000; text-decoration-color: #000000; background-color: #ffff00\">goed</span> <span style=\"color: #000000; text-decoration-color: #000000; background-color: #ffff00\">geluisterd</span> en <span style=\"color: #000000; text-decoration-color: #000000; background-color: #ffff00\">de</span> vraag\n",
       "<span style=\"color: #000000; text-decoration-color: #000000; background-color: #ffff00\">wordt</span> snel <span style=\"color: #000000; text-decoration-color: #000000; background-color: #ffff00\">begrepen</span> en correct geherformuleerd.\n",
       "</pre>\n"
      ],
      "text/plain": [
       "Ik vind het \u001b[30;48;2;255;255;0maangenaam\u001b[0m (samen)werken \u001b[30;48;2;255;255;0mmet\u001b[0m Deloitte. Er \u001b[30;48;2;255;255;0mwordt\u001b[0m steeds \u001b[30;48;2;255;255;0mgoed\u001b[0m \u001b[30;48;2;255;255;0mgeluisterd\u001b[0m en \u001b[30;48;2;255;255;0mde\u001b[0m vraag\n",
       "\u001b[30;48;2;255;255;0mwordt\u001b[0m snel \u001b[30;48;2;255;255;0mbegrepen\u001b[0m en correct geherformuleerd.\n"
      ]
     },
     "metadata": {},
     "output_type": "display_data"
    },
    {
     "name": "stdout",
     "output_type": "stream",
     "text": [
      "[('begrepen', 0.2991), ('goed', 0.27), ('aangenaam', 0.2488), ('deloitte', 0.2479), ('geluisterd', 0.2455), ('werken', 0.2237), ('met', 0.2087), ('geherformuleerd', 0.2086), ('de', 0.2069), ('wordt', 0.1943)]\n"
     ]
    },
    {
     "data": {
      "text/html": [
       "<pre style=\"white-space:pre;overflow-x:auto;line-height:normal;font-family:Menlo,'DejaVu Sans Mono',consolas,'Courier New',monospace\">considering <span style=\"color: #000000; text-decoration-color: #000000; background-color: #ffff00\">we</span> <span style=\"color: #000000; text-decoration-color: #000000; background-color: #ffff00\">were</span> an <span style=\"color: #000000; text-decoration-color: #000000; background-color: #ffff00\">international</span> <span style=\"color: #000000; text-decoration-color: #000000; background-color: #ffff00\">team</span> with people located in multiple locations/countries\n",
       "(both for Cargill and Deloitte) dont think <span style=\"color: #000000; text-decoration-color: #000000; background-color: #ffff00\">we</span> <span style=\"color: #000000; text-decoration-color: #000000; background-color: #ffff00\">would</span> <span style=\"color: #000000; text-decoration-color: #000000; background-color: #ffff00\">have</span> done anything <span style=\"color: #000000; text-decoration-color: #000000; background-color: #ffff00\">differently</span> even if \n",
       "there <span style=\"color: #000000; text-decoration-color: #000000; background-color: #ffff00\">was</span> nio <span style=\"color: #000000; text-decoration-color: #000000; background-color: #ffff00\">pandemic</span>\n",
       "</pre>\n"
      ],
      "text/plain": [
       "considering \u001b[30;48;2;255;255;0mwe\u001b[0m \u001b[30;48;2;255;255;0mwere\u001b[0m an \u001b[30;48;2;255;255;0minternational\u001b[0m \u001b[30;48;2;255;255;0mteam\u001b[0m with people located in multiple locations/countries\n",
       "(both for Cargill and Deloitte) dont think \u001b[30;48;2;255;255;0mwe\u001b[0m \u001b[30;48;2;255;255;0mwould\u001b[0m \u001b[30;48;2;255;255;0mhave\u001b[0m done anything \u001b[30;48;2;255;255;0mdifferently\u001b[0m even if \n",
       "there \u001b[30;48;2;255;255;0mwas\u001b[0m nio \u001b[30;48;2;255;255;0mpandemic\u001b[0m\n"
      ]
     },
     "metadata": {},
     "output_type": "display_data"
    },
    {
     "name": "stdout",
     "output_type": "stream",
     "text": [
      "[('pandemic', 0.4), ('countries', 0.3291), ('we', 0.2917), ('international', 0.2336), ('team', 0.2123), ('would', 0.1985), ('were', 0.1915), ('differently', 0.1402), ('was', 0.1344), ('have', 0.1198)]\n"
     ]
    },
    {
     "data": {
      "text/html": [
       "<pre style=\"white-space:pre;overflow-x:auto;line-height:normal;font-family:Menlo,'DejaVu Sans Mono',consolas,'Courier New',monospace\">yes. i'd <span style=\"color: #000000; text-decoration-color: #000000; background-color: #ffff00\">like</span> <span style=\"color: #000000; text-decoration-color: #000000; background-color: #ffff00\">to</span> <span style=\"color: #000000; text-decoration-color: #000000; background-color: #ffff00\">emphasize</span> <span style=\"color: #000000; text-decoration-color: #000000; background-color: #ffff00\">that</span> <span style=\"color: #000000; text-decoration-color: #000000; background-color: #ffff00\">this</span> <span style=\"color: #000000; text-decoration-color: #000000; background-color: #ffff00\">comes</span> down <span style=\"color: #000000; text-decoration-color: #000000; background-color: #ffff00\">to</span> <span style=\"color: #000000; text-decoration-color: #000000; background-color: #ffff00\">people</span> (ie Catherine, Mary)\n",
       "</pre>\n"
      ],
      "text/plain": [
       "yes. i'd \u001b[30;48;2;255;255;0mlike\u001b[0m \u001b[30;48;2;255;255;0mto\u001b[0m \u001b[30;48;2;255;255;0memphasize\u001b[0m \u001b[30;48;2;255;255;0mthat\u001b[0m \u001b[30;48;2;255;255;0mthis\u001b[0m \u001b[30;48;2;255;255;0mcomes\u001b[0m down \u001b[30;48;2;255;255;0mto\u001b[0m \u001b[30;48;2;255;255;0mpeople\u001b[0m (ie Catherine, Mary)\n"
      ]
     },
     "metadata": {},
     "output_type": "display_data"
    },
    {
     "name": "stdout",
     "output_type": "stream",
     "text": [
      "[('mary', 0.6023), ('catherine', 0.377), ('people', 0.2666), ('yes', 0.2617), ('to', 0.2519), ('emphasize', 0.2298), ('this', 0.224), ('comes', 0.206), ('like', 0.1992), ('that', 0.1958)]\n"
     ]
    },
    {
     "data": {
      "text/html": [
       "<pre style=\"white-space:pre;overflow-x:auto;line-height:normal;font-family:Menlo,'DejaVu Sans Mono',consolas,'Courier New',monospace\">i woulkd say yes with regards to what was visible from <span style=\"color: #000000; text-decoration-color: #000000; background-color: #ffff00\">our</span> side. how the <span style=\"color: #000000; text-decoration-color: #000000; background-color: #ffff00\">Deloitte</span> team \n",
       "retrieved/prepared data for <span style=\"color: #000000; text-decoration-color: #000000; background-color: #ffff00\">analtysis</span> in the background was not clear to us. <span style=\"color: #000000; text-decoration-color: #000000; background-color: #ffff00\">we</span> do know thart\n",
       "the target <span style=\"color: #000000; text-decoration-color: #000000; background-color: #ffff00\">company</span> <span style=\"color: #000000; text-decoration-color: #000000; background-color: #ffff00\">did</span> not provide user friendly data in <span style=\"color: #000000; text-decoration-color: #000000; background-color: #ffff00\">rtheir</span> <span style=\"color: #000000; text-decoration-color: #000000; background-color: #ffff00\">VDR</span> (sometimes to the extent \n",
       "<span style=\"color: #000000; text-decoration-color: #000000; background-color: #ffff00\">we</span> could not even download).\n",
       "</pre>\n"
      ],
      "text/plain": [
       "i woulkd say yes with regards to what was visible from \u001b[30;48;2;255;255;0mour\u001b[0m side. how the \u001b[30;48;2;255;255;0mDeloitte\u001b[0m team \n",
       "retrieved/prepared data for \u001b[30;48;2;255;255;0manaltysis\u001b[0m in the background was not clear to us. \u001b[30;48;2;255;255;0mwe\u001b[0m do know thart\n",
       "the target \u001b[30;48;2;255;255;0mcompany\u001b[0m \u001b[30;48;2;255;255;0mdid\u001b[0m not provide user friendly data in \u001b[30;48;2;255;255;0mrtheir\u001b[0m \u001b[30;48;2;255;255;0mVDR\u001b[0m (sometimes to the extent \n",
       "\u001b[30;48;2;255;255;0mwe\u001b[0m could not even download).\n"
      ]
     },
     "metadata": {},
     "output_type": "display_data"
    },
    {
     "name": "stdout",
     "output_type": "stream",
     "text": [
      "[('vdr', 0.3078), ('deloitte', 0.2765), ('retrieved', 0.2572), ('analtysis', 0.2213), ('rtheir', 0.2174), ('did', 0.2077), ('company', 0.2031), ('our', 0.2012), ('we', 0.1999), ('us', 0.1909)]\n"
     ]
    },
    {
     "data": {
      "text/html": [
       "<pre style=\"white-space:pre;overflow-x:auto;line-height:normal;font-family:Menlo,'DejaVu Sans Mono',consolas,'Courier New',monospace\"><span style=\"color: #000000; text-decoration-color: #000000; background-color: #ffff00\">seamless</span>\n",
       "</pre>\n"
      ],
      "text/plain": [
       "\u001b[30;48;2;255;255;0mseamless\u001b[0m\n"
      ]
     },
     "metadata": {},
     "output_type": "display_data"
    },
    {
     "name": "stdout",
     "output_type": "stream",
     "text": [
      "[('seamless', 1.0)]\n"
     ]
    },
    {
     "data": {
      "text/html": [
       "<pre style=\"white-space:pre;overflow-x:auto;line-height:normal;font-family:Menlo,'DejaVu Sans Mono',consolas,'Courier New',monospace\">Having worked with <span style=\"color: #000000; text-decoration-color: #000000; background-color: #ffff00\">Catherine</span> and <span style=\"color: #000000; text-decoration-color: #000000; background-color: #ffff00\">her</span> team in previous <span style=\"color: #000000; text-decoration-color: #000000; background-color: #ffff00\">projects</span> provides a cleaer and sound \n",
       "<span style=\"color: #000000; text-decoration-color: #000000; background-color: #ffff00\">understanding</span> of the <span style=\"color: #000000; text-decoration-color: #000000; background-color: #ffff00\">Cargill</span> needs/wants in these types of projects. Their general <span style=\"color: #000000; text-decoration-color: #000000; background-color: #ffff00\">industry</span> \n",
       "and <span style=\"color: #000000; text-decoration-color: #000000; background-color: #ffff00\">local</span> (ie NL) <span style=\"color: #000000; text-decoration-color: #000000; background-color: #ffff00\">knowledge</span> was also within <span style=\"color: #000000; text-decoration-color: #000000; background-color: #ffff00\">expectations</span>\n",
       "</pre>\n"
      ],
      "text/plain": [
       "Having worked with \u001b[30;48;2;255;255;0mCatherine\u001b[0m and \u001b[30;48;2;255;255;0mher\u001b[0m team in previous \u001b[30;48;2;255;255;0mprojects\u001b[0m provides a cleaer and sound \n",
       "\u001b[30;48;2;255;255;0munderstanding\u001b[0m of the \u001b[30;48;2;255;255;0mCargill\u001b[0m needs/wants in these types of projects. Their general \u001b[30;48;2;255;255;0mindustry\u001b[0m \n",
       "and \u001b[30;48;2;255;255;0mlocal\u001b[0m (ie NL) \u001b[30;48;2;255;255;0mknowledge\u001b[0m was also within \u001b[30;48;2;255;255;0mexpectations\u001b[0m\n"
      ]
     },
     "metadata": {},
     "output_type": "display_data"
    },
    {
     "name": "stdout",
     "output_type": "stream",
     "text": [
      "[('projects', 0.4148), ('cargill', 0.4051), ('industry', 0.3285), ('catherine', 0.3217), ('knowledge', 0.3204), ('expectations', 0.2956), ('understanding', 0.2783), ('needs', 0.2763), ('local', 0.2619), ('her', 0.2483)]\n"
     ]
    },
    {
     "data": {
      "text/html": [
       "<pre style=\"white-space:pre;overflow-x:auto;line-height:normal;font-family:Menlo,'DejaVu Sans Mono',consolas,'Courier New',monospace\">eventhough <span style=\"color: #000000; text-decoration-color: #000000; background-color: #ffff00\">Cargill</span> was nit <span style=\"color: #000000; text-decoration-color: #000000; background-color: #ffff00\">succesful</span> in the <span style=\"color: #000000; text-decoration-color: #000000; background-color: #ffff00\">acquisituion</span> <span style=\"color: #000000; text-decoration-color: #000000; background-color: #ffff00\">of</span> the target company, believe <span style=\"color: #000000; text-decoration-color: #000000; background-color: #ffff00\">work</span> \n",
       "performed by <span style=\"color: #000000; text-decoration-color: #000000; background-color: #ffff00\">Deloitte</span> was <span style=\"color: #000000; text-decoration-color: #000000; background-color: #ffff00\">worth</span> <span style=\"color: #000000; text-decoration-color: #000000; background-color: #ffff00\">every</span> cent.\n",
       "</pre>\n"
      ],
      "text/plain": [
       "eventhough \u001b[30;48;2;255;255;0mCargill\u001b[0m was nit \u001b[30;48;2;255;255;0msuccesful\u001b[0m in the \u001b[30;48;2;255;255;0macquisituion\u001b[0m \u001b[30;48;2;255;255;0mof\u001b[0m the target company, believe \u001b[30;48;2;255;255;0mwork\u001b[0m \n",
       "performed by \u001b[30;48;2;255;255;0mDeloitte\u001b[0m was \u001b[30;48;2;255;255;0mworth\u001b[0m \u001b[30;48;2;255;255;0mevery\u001b[0m cent.\n"
      ]
     },
     "metadata": {},
     "output_type": "display_data"
    },
    {
     "name": "stdout",
     "output_type": "stream",
     "text": [
      "[('worth', 0.341), ('cargill', 0.3054), ('succesful', 0.2542), ('cent', 0.2453), ('company', 0.2441), ('every', 0.2437), ('deloitte', 0.2144), ('work', 0.1473), ('acquisituion', 0.1288), ('of', 0.1025)]\n"
     ]
    },
    {
     "data": {
      "text/html": [
       "<pre style=\"white-space:pre;overflow-x:auto;line-height:normal;font-family:Menlo,'DejaVu Sans Mono',consolas,'Courier New',monospace\">very much! <span style=\"color: #000000; text-decoration-color: #000000; background-color: #ffff00\">Catherine</span> and <span style=\"color: #000000; text-decoration-color: #000000; background-color: #ffff00\">Mary</span> (the <span style=\"color: #000000; text-decoration-color: #000000; background-color: #ffff00\">two</span> <span style=\"color: #000000; text-decoration-color: #000000; background-color: #ffff00\">people</span> i <span style=\"color: #000000; text-decoration-color: #000000; background-color: #ffff00\">interacted</span> with the most, <span style=\"color: #000000; text-decoration-color: #000000; background-color: #ffff00\">were</span> always \n",
       "willing, <span style=\"color: #000000; text-decoration-color: #000000; background-color: #ffff00\">proactive</span> and <span style=\"color: #000000; text-decoration-color: #000000; background-color: #ffff00\">highly</span> dedicated!\n",
       "</pre>\n"
      ],
      "text/plain": [
       "very much! \u001b[30;48;2;255;255;0mCatherine\u001b[0m and \u001b[30;48;2;255;255;0mMary\u001b[0m (the \u001b[30;48;2;255;255;0mtwo\u001b[0m \u001b[30;48;2;255;255;0mpeople\u001b[0m i \u001b[30;48;2;255;255;0minteracted\u001b[0m with the most, \u001b[30;48;2;255;255;0mwere\u001b[0m always \n",
       "willing, \u001b[30;48;2;255;255;0mproactive\u001b[0m and \u001b[30;48;2;255;255;0mhighly\u001b[0m dedicated!\n"
      ]
     },
     "metadata": {},
     "output_type": "display_data"
    },
    {
     "name": "stdout",
     "output_type": "stream",
     "text": [
      "[('mary', 0.4463), ('catherine', 0.3583), ('dedicated', 0.2663), ('willing', 0.2611), ('two', 0.2536), ('proactive', 0.252), ('interacted', 0.2382), ('were', 0.2105), ('highly', 0.1835), ('people', 0.1741)]\n"
     ]
    },
    {
     "data": {
      "text/html": [
       "<pre style=\"white-space:pre;overflow-x:auto;line-height:normal;font-family:Menlo,'DejaVu Sans Mono',consolas,'Courier New',monospace\"><span style=\"color: #000000; text-decoration-color: #000000; background-color: #ffff00\">in</span> <span style=\"color: #000000; text-decoration-color: #000000; background-color: #ffff00\">full</span> <span style=\"color: #000000; text-decoration-color: #000000; background-color: #ffff00\">and</span> <span style=\"color: #000000; text-decoration-color: #000000; background-color: #ffff00\">on</span> <span style=\"color: #000000; text-decoration-color: #000000; background-color: #ffff00\">time</span>\n",
       "</pre>\n"
      ],
      "text/plain": [
       "\u001b[30;48;2;255;255;0min\u001b[0m \u001b[30;48;2;255;255;0mfull\u001b[0m \u001b[30;48;2;255;255;0mand\u001b[0m \u001b[30;48;2;255;255;0mon\u001b[0m \u001b[30;48;2;255;255;0mtime\u001b[0m\n"
      ]
     },
     "metadata": {},
     "output_type": "display_data"
    },
    {
     "name": "stdout",
     "output_type": "stream",
     "text": [
      "[('time', 0.6737), ('on', 0.468), ('and', 0.4409), ('in', 0.427), ('full', 0.4236)]\n"
     ]
    },
    {
     "data": {
      "text/html": [
       "<pre style=\"white-space:pre;overflow-x:auto;line-height:normal;font-family:Menlo,'DejaVu Sans Mono',consolas,'Courier New',monospace\">Great question. I think a new normal will be less travel/on-site than pre-pandemic. It will \n",
       "be <span style=\"color: #000000; text-decoration-color: #000000; background-color: #ffff00\">important</span> to look at the <span style=\"color: #000000; text-decoration-color: #000000; background-color: #ffff00\">project</span> <span style=\"color: #000000; text-decoration-color: #000000; background-color: #ffff00\">methodology</span> and consider what are the key <span style=\"color: #000000; text-decoration-color: #000000; background-color: #ffff00\">milestones</span> \n",
       "where on-site <span style=\"color: #000000; text-decoration-color: #000000; background-color: #ffff00\">collaboration</span> is a value-add and would enhance the <span style=\"color: #000000; text-decoration-color: #000000; background-color: #ffff00\">project</span> outcome? UAT would \n",
       "be obvious as well as that <span style=\"color: #000000; text-decoration-color: #000000; background-color: #ffff00\">initial</span> production validation / go-live. Could <span style=\"color: #000000; text-decoration-color: #000000; background-color: #ffff00\">sprints</span> be done \n",
       "still remote or in a more hybrid mode <span style=\"color: #000000; text-decoration-color: #000000; background-color: #ffff00\">for</span> example?\n",
       "</pre>\n"
      ],
      "text/plain": [
       "Great question. I think a new normal will be less travel/on-site than pre-pandemic. It will \n",
       "be \u001b[30;48;2;255;255;0mimportant\u001b[0m to look at the \u001b[30;48;2;255;255;0mproject\u001b[0m \u001b[30;48;2;255;255;0mmethodology\u001b[0m and consider what are the key \u001b[30;48;2;255;255;0mmilestones\u001b[0m \n",
       "where on-site \u001b[30;48;2;255;255;0mcollaboration\u001b[0m is a value-add and would enhance the \u001b[30;48;2;255;255;0mproject\u001b[0m outcome? UAT would \n",
       "be obvious as well as that \u001b[30;48;2;255;255;0minitial\u001b[0m production validation / go-live. Could \u001b[30;48;2;255;255;0msprints\u001b[0m be done \n",
       "still remote or in a more hybrid mode \u001b[30;48;2;255;255;0mfor\u001b[0m example?\n"
      ]
     },
     "metadata": {},
     "output_type": "display_data"
    },
    {
     "name": "stdout",
     "output_type": "stream",
     "text": [
      "[('project', 0.4191), ('milestones', 0.3695), ('collaboration', 0.3363), ('pandemic', 0.317), ('travel', 0.2855), ('methodology', 0.271), ('important', 0.2007), ('initial', 0.1948), ('sprints', 0.1868), ('for', 0.1815)]\n"
     ]
    },
    {
     "data": {
      "text/html": [
       "<pre style=\"white-space:pre;overflow-x:auto;line-height:normal;font-family:Menlo,'DejaVu Sans Mono',consolas,'Courier New',monospace\">The <span style=\"color: #000000; text-decoration-color: #000000; background-color: #ffff00\">next</span> normal <span style=\"color: #000000; text-decoration-color: #000000; background-color: #ffff00\">provides</span> greater <span style=\"color: #000000; text-decoration-color: #000000; background-color: #ffff00\">opportunity</span> <span style=\"color: #000000; text-decoration-color: #000000; background-color: #ffff00\">for</span> <span style=\"color: #000000; text-decoration-color: #000000; background-color: #ffff00\">us</span> <span style=\"color: #000000; text-decoration-color: #000000; background-color: #ffff00\">to</span> co-create <span style=\"color: #000000; text-decoration-color: #000000; background-color: #ffff00\">proprietary</span> <span style=\"color: #000000; text-decoration-color: #000000; background-color: #ffff00\">technology</span> and \n",
       "know-how together.\n",
       "</pre>\n"
      ],
      "text/plain": [
       "The \u001b[30;48;2;255;255;0mnext\u001b[0m normal \u001b[30;48;2;255;255;0mprovides\u001b[0m greater \u001b[30;48;2;255;255;0mopportunity\u001b[0m \u001b[30;48;2;255;255;0mfor\u001b[0m \u001b[30;48;2;255;255;0mus\u001b[0m \u001b[30;48;2;255;255;0mto\u001b[0m co-create \u001b[30;48;2;255;255;0mproprietary\u001b[0m \u001b[30;48;2;255;255;0mtechnology\u001b[0m and \n",
       "know-how together.\n"
      ]
     },
     "metadata": {},
     "output_type": "display_data"
    },
    {
     "name": "stdout",
     "output_type": "stream",
     "text": [
      "[('technology', 0.4857), ('proprietary', 0.4564), ('next', 0.429), ('opportunity', 0.3785), ('us', 0.2765), ('create', 0.2458), ('provides', 0.2361), ('know', 0.2301), ('to', 0.2255), ('for', 0.2234)]\n"
     ]
    },
    {
     "data": {
      "text/html": [
       "<pre style=\"white-space:pre;overflow-x:auto;line-height:normal;font-family:Menlo,'DejaVu Sans Mono',consolas,'Courier New',monospace\"><span style=\"color: #000000; text-decoration-color: #000000; background-color: #ffff00\">It</span> was <span style=\"color: #000000; text-decoration-color: #000000; background-color: #ffff00\">smooth</span> <span style=\"color: #000000; text-decoration-color: #000000; background-color: #ffff00\">even</span> <span style=\"color: #000000; text-decoration-color: #000000; background-color: #ffff00\">through</span> <span style=\"color: #000000; text-decoration-color: #000000; background-color: #ffff00\">remote</span> <span style=\"color: #000000; text-decoration-color: #000000; background-color: #ffff00\">communication</span> <span style=\"color: #000000; text-decoration-color: #000000; background-color: #ffff00\">and</span> <span style=\"color: #000000; text-decoration-color: #000000; background-color: #ffff00\">time</span> <span style=\"color: #000000; text-decoration-color: #000000; background-color: #ffff00\">zone</span> differences.\n",
       "</pre>\n"
      ],
      "text/plain": [
       "\u001b[30;48;2;255;255;0mIt\u001b[0m was \u001b[30;48;2;255;255;0msmooth\u001b[0m \u001b[30;48;2;255;255;0meven\u001b[0m \u001b[30;48;2;255;255;0mthrough\u001b[0m \u001b[30;48;2;255;255;0mremote\u001b[0m \u001b[30;48;2;255;255;0mcommunication\u001b[0m \u001b[30;48;2;255;255;0mand\u001b[0m \u001b[30;48;2;255;255;0mtime\u001b[0m \u001b[30;48;2;255;255;0mzone\u001b[0m differences.\n"
      ]
     },
     "metadata": {},
     "output_type": "display_data"
    },
    {
     "name": "stdout",
     "output_type": "stream",
     "text": [
      "[('smooth', 0.3624), ('remote', 0.3084), ('time', 0.277), ('communication', 0.237), ('differences', 0.2012), ('zone', 0.1801), ('it', 0.037), ('even', 0.0342), ('and', 0.0258), ('through', 0.0093)]\n"
     ]
    },
    {
     "data": {
      "text/html": [
       "<pre style=\"white-space:pre;overflow-x:auto;line-height:normal;font-family:Menlo,'DejaVu Sans Mono',consolas,'Courier New',monospace\"><span style=\"color: #000000; text-decoration-color: #000000; background-color: #ffff00\">It</span> <span style=\"color: #000000; text-decoration-color: #000000; background-color: #ffff00\">has</span> <span style=\"color: #000000; text-decoration-color: #000000; background-color: #ffff00\">been</span> a <span style=\"color: #000000; text-decoration-color: #000000; background-color: #ffff00\">pleasure</span> <span style=\"color: #000000; text-decoration-color: #000000; background-color: #ffff00\">to</span> <span style=\"color: #000000; text-decoration-color: #000000; background-color: #ffff00\">work</span> <span style=\"color: #000000; text-decoration-color: #000000; background-color: #ffff00\">with</span> <span style=\"color: #000000; text-decoration-color: #000000; background-color: #ffff00\">Borge</span> &amp; Simon.\n",
       "</pre>\n"
      ],
      "text/plain": [
       "\u001b[30;48;2;255;255;0mIt\u001b[0m \u001b[30;48;2;255;255;0mhas\u001b[0m \u001b[30;48;2;255;255;0mbeen\u001b[0m a \u001b[30;48;2;255;255;0mpleasure\u001b[0m \u001b[30;48;2;255;255;0mto\u001b[0m \u001b[30;48;2;255;255;0mwork\u001b[0m \u001b[30;48;2;255;255;0mwith\u001b[0m \u001b[30;48;2;255;255;0mBorge\u001b[0m & Simon.\n"
      ]
     },
     "metadata": {},
     "output_type": "display_data"
    },
    {
     "name": "stdout",
     "output_type": "stream",
     "text": [
      "[('simon', 0.2841), ('pleasure', 0.2606), ('with', 0.176), ('been', 0.1473), ('work', 0.143), ('borge', 0.1403), ('has', 0.1303), ('to', 0.0933), ('it', 0.0639)]\n"
     ]
    },
    {
     "data": {
      "text/html": [
       "<pre style=\"white-space:pre;overflow-x:auto;line-height:normal;font-family:Menlo,'DejaVu Sans Mono',consolas,'Courier New',monospace\">I <span style=\"color: #000000; text-decoration-color: #000000; background-color: #ffff00\">do</span> not <span style=\"color: #000000; text-decoration-color: #000000; background-color: #ffff00\">understand</span> <span style=\"color: #000000; text-decoration-color: #000000; background-color: #ffff00\">how</span> <span style=\"color: #000000; text-decoration-color: #000000; background-color: #ffff00\">to</span> <span style=\"color: #000000; text-decoration-color: #000000; background-color: #ffff00\">answer</span> <span style=\"color: #000000; text-decoration-color: #000000; background-color: #ffff00\">this</span> <span style=\"color: #000000; text-decoration-color: #000000; background-color: #ffff00\">question</span> on a <span style=\"color: #000000; text-decoration-color: #000000; background-color: #ffff00\">10</span> <span style=\"color: #000000; text-decoration-color: #000000; background-color: #ffff00\">point</span> <span style=\"color: #000000; text-decoration-color: #000000; background-color: #ffff00\">scale</span> :-)\n",
       "</pre>\n"
      ],
      "text/plain": [
       "I \u001b[30;48;2;255;255;0mdo\u001b[0m not \u001b[30;48;2;255;255;0munderstand\u001b[0m \u001b[30;48;2;255;255;0mhow\u001b[0m \u001b[30;48;2;255;255;0mto\u001b[0m \u001b[30;48;2;255;255;0manswer\u001b[0m \u001b[30;48;2;255;255;0mthis\u001b[0m \u001b[30;48;2;255;255;0mquestion\u001b[0m on a \u001b[30;48;2;255;255;0m10\u001b[0m \u001b[30;48;2;255;255;0mpoint\u001b[0m \u001b[30;48;2;255;255;0mscale\u001b[0m :-)\n"
      ]
     },
     "metadata": {},
     "output_type": "display_data"
    },
    {
     "name": "stdout",
     "output_type": "stream",
     "text": [
      "[('scale', 0.4494), ('answer', 0.4341), ('10', 0.4126), ('question', 0.3814), ('point', 0.3434), ('how', 0.3239), ('to', 0.3112), ('understand', 0.2647), ('this', 0.243), ('do', 0.209)]\n"
     ]
    },
    {
     "data": {
      "text/html": [
       "<pre style=\"white-space:pre;overflow-x:auto;line-height:normal;font-family:Menlo,'DejaVu Sans Mono',consolas,'Courier New',monospace\"><span style=\"color: #000000; text-decoration-color: #000000; background-color: #ffff00\">Collectively</span> <span style=\"color: #000000; text-decoration-color: #000000; background-color: #ffff00\">we</span> <span style=\"color: #000000; text-decoration-color: #000000; background-color: #ffff00\">had</span> <span style=\"color: #000000; text-decoration-color: #000000; background-color: #ffff00\">not</span> <span style=\"color: #000000; text-decoration-color: #000000; background-color: #ffff00\">defined</span> or <span style=\"color: #000000; text-decoration-color: #000000; background-color: #ffff00\">established</span> <span style=\"color: #000000; text-decoration-color: #000000; background-color: #ffff00\">our</span> <span style=\"color: #000000; text-decoration-color: #000000; background-color: #ffff00\">need</span> <span style=\"color: #000000; text-decoration-color: #000000; background-color: #ffff00\">well</span> <span style=\"color: #000000; text-decoration-color: #000000; background-color: #ffff00\">enough</span>\n",
       "</pre>\n"
      ],
      "text/plain": [
       "\u001b[30;48;2;255;255;0mCollectively\u001b[0m \u001b[30;48;2;255;255;0mwe\u001b[0m \u001b[30;48;2;255;255;0mhad\u001b[0m \u001b[30;48;2;255;255;0mnot\u001b[0m \u001b[30;48;2;255;255;0mdefined\u001b[0m or \u001b[30;48;2;255;255;0mestablished\u001b[0m \u001b[30;48;2;255;255;0mour\u001b[0m \u001b[30;48;2;255;255;0mneed\u001b[0m \u001b[30;48;2;255;255;0mwell\u001b[0m \u001b[30;48;2;255;255;0menough\u001b[0m\n"
      ]
     },
     "metadata": {},
     "output_type": "display_data"
    },
    {
     "name": "stdout",
     "output_type": "stream",
     "text": [
      "[('collectively', 0.4338), ('we', 0.4336), ('our', 0.3731), ('had', 0.3463), ('need', 0.329), ('established', 0.3193), ('not', 0.253), ('enough', 0.2399), ('well', 0.2296), ('defined', 0.2107)]\n"
     ]
    },
    {
     "data": {
      "text/html": [
       "<pre style=\"white-space:pre;overflow-x:auto;line-height:normal;font-family:Menlo,'DejaVu Sans Mono',consolas,'Courier New',monospace\">Today's <span style=\"color: #000000; text-decoration-color: #000000; background-color: #ffff00\">collaboration</span> <span style=\"color: #000000; text-decoration-color: #000000; background-color: #ffff00\">is</span> perfect. <span style=\"color: #000000; text-decoration-color: #000000; background-color: #ffff00\">Very</span> <span style=\"color: #000000; text-decoration-color: #000000; background-color: #ffff00\">efficient</span> <span style=\"color: #000000; text-decoration-color: #000000; background-color: #ffff00\">and</span> qualitative. No <span style=\"color: #000000; text-decoration-color: #000000; background-color: #ffff00\">need</span> <span style=\"color: #000000; text-decoration-color: #000000; background-color: #ffff00\">for</span> change.\n",
       "</pre>\n"
      ],
      "text/plain": [
       "Today's \u001b[30;48;2;255;255;0mcollaboration\u001b[0m \u001b[30;48;2;255;255;0mis\u001b[0m perfect. \u001b[30;48;2;255;255;0mVery\u001b[0m \u001b[30;48;2;255;255;0mefficient\u001b[0m \u001b[30;48;2;255;255;0mand\u001b[0m qualitative. No \u001b[30;48;2;255;255;0mneed\u001b[0m \u001b[30;48;2;255;255;0mfor\u001b[0m change.\n"
      ]
     },
     "metadata": {},
     "output_type": "display_data"
    },
    {
     "name": "stdout",
     "output_type": "stream",
     "text": [
      "[('collaboration', 0.5813), ('perfect', 0.4988), ('today', 0.3365), ('efficient', 0.3126), ('qualitative', 0.2915), ('for', 0.2204), ('need', 0.1996), ('is', 0.1872), ('very', 0.1519), ('and', 0.1466)]\n"
     ]
    },
    {
     "data": {
      "text/html": [
       "<pre style=\"white-space:pre;overflow-x:auto;line-height:normal;font-family:Menlo,'DejaVu Sans Mono',consolas,'Courier New',monospace\"><span style=\"color: #000000; text-decoration-color: #000000; background-color: #ffff00\">continue</span> as-is\n",
       "</pre>\n"
      ],
      "text/plain": [
       "\u001b[30;48;2;255;255;0mcontinue\u001b[0m as-is\n"
      ]
     },
     "metadata": {},
     "output_type": "display_data"
    },
    {
     "name": "stdout",
     "output_type": "stream",
     "text": [
      "[('continue', 0.7915), ('as', 0.6732), ('is', 0.585)]\n"
     ]
    },
    {
     "data": {
      "text/html": [
       "<pre style=\"white-space:pre;overflow-x:auto;line-height:normal;font-family:Menlo,'DejaVu Sans Mono',consolas,'Courier New',monospace\">Strength: <span style=\"color: #000000; text-decoration-color: #000000; background-color: #ffff00\">Good</span> <span style=\"color: #000000; text-decoration-color: #000000; background-color: #ffff00\">presentation</span> &amp; <span style=\"color: #000000; text-decoration-color: #000000; background-color: #ffff00\">communication</span> <span style=\"color: #000000; text-decoration-color: #000000; background-color: #ffff00\">skills</span>\n",
       "</pre>\n"
      ],
      "text/plain": [
       "Strength: \u001b[30;48;2;255;255;0mGood\u001b[0m \u001b[30;48;2;255;255;0mpresentation\u001b[0m & \u001b[30;48;2;255;255;0mcommunication\u001b[0m \u001b[30;48;2;255;255;0mskills\u001b[0m\n"
      ]
     },
     "metadata": {},
     "output_type": "display_data"
    },
    {
     "name": "stdout",
     "output_type": "stream",
     "text": [
      "[('skills', 0.6558), ('strength', 0.6348), ('communication', 0.5068), ('presentation', 0.4779), ('good', 0.3622)]\n"
     ]
    },
    {
     "data": {
      "text/html": [
       "<pre style=\"white-space:pre;overflow-x:auto;line-height:normal;font-family:Menlo,'DejaVu Sans Mono',consolas,'Courier New',monospace\">Strength: <span style=\"color: #000000; text-decoration-color: #000000; background-color: #ffff00\">Breadth</span> <span style=\"color: #000000; text-decoration-color: #000000; background-color: #ffff00\">of</span> <span style=\"color: #000000; text-decoration-color: #000000; background-color: #ffff00\">experience</span> <span style=\"color: #000000; text-decoration-color: #000000; background-color: #ffff00\">within</span> <span style=\"color: #000000; text-decoration-color: #000000; background-color: #ffff00\">industry</span>\n",
       "</pre>\n"
      ],
      "text/plain": [
       "Strength: \u001b[30;48;2;255;255;0mBreadth\u001b[0m \u001b[30;48;2;255;255;0mof\u001b[0m \u001b[30;48;2;255;255;0mexperience\u001b[0m \u001b[30;48;2;255;255;0mwithin\u001b[0m \u001b[30;48;2;255;255;0mindustry\u001b[0m\n"
      ]
     },
     "metadata": {},
     "output_type": "display_data"
    },
    {
     "name": "stdout",
     "output_type": "stream",
     "text": [
      "[('strength', 0.5948), ('industry', 0.5643), ('experience', 0.453), ('within', 0.3186), ('of', 0.2664), ('breadth', 0.2641)]\n"
     ]
    },
    {
     "data": {
      "text/html": [
       "<pre style=\"white-space:pre;overflow-x:auto;line-height:normal;font-family:Menlo,'DejaVu Sans Mono',consolas,'Courier New',monospace\">Strength: support, commitment, <span style=\"color: #000000; text-decoration-color: #000000; background-color: #ffff00\">reliable</span>\n",
       "</pre>\n"
      ],
      "text/plain": [
       "Strength: support, commitment, \u001b[30;48;2;255;255;0mreliable\u001b[0m\n"
      ]
     },
     "metadata": {},
     "output_type": "display_data"
    },
    {
     "name": "stdout",
     "output_type": "stream",
     "text": [
      "[('strength', 0.7471), ('support', 0.6095), ('commitment', 0.5933), ('reliable', 0.4902)]\n"
     ]
    },
    {
     "data": {
      "text/html": [
       "<pre style=\"white-space:pre;overflow-x:auto;line-height:normal;font-family:Menlo,'DejaVu Sans Mono',consolas,'Courier New',monospace\"><span style=\"color: #000000; text-decoration-color: #000000; background-color: #ffff00\">Improvement</span> needed: <span style=\"color: #000000; text-decoration-color: #000000; background-color: #ffff00\">better</span> <span style=\"color: #000000; text-decoration-color: #000000; background-color: #ffff00\">coordination</span> <span style=\"color: #000000; text-decoration-color: #000000; background-color: #ffff00\">among</span> <span style=\"color: #000000; text-decoration-color: #000000; background-color: #ffff00\">resources</span> <span style=\"color: #000000; text-decoration-color: #000000; background-color: #ffff00\">of</span> <span style=\"color: #000000; text-decoration-color: #000000; background-color: #ffff00\">the</span> <span style=\"color: #000000; text-decoration-color: #000000; background-color: #ffff00\">same</span> provider.\n",
       "</pre>\n"
      ],
      "text/plain": [
       "\u001b[30;48;2;255;255;0mImprovement\u001b[0m needed: \u001b[30;48;2;255;255;0mbetter\u001b[0m \u001b[30;48;2;255;255;0mcoordination\u001b[0m \u001b[30;48;2;255;255;0mamong\u001b[0m \u001b[30;48;2;255;255;0mresources\u001b[0m \u001b[30;48;2;255;255;0mof\u001b[0m \u001b[30;48;2;255;255;0mthe\u001b[0m \u001b[30;48;2;255;255;0msame\u001b[0m provider.\n"
      ]
     },
     "metadata": {},
     "output_type": "display_data"
    },
    {
     "name": "stdout",
     "output_type": "stream",
     "text": [
      "[('provider', 0.6119), ('coordination', 0.4761), ('resources', 0.3843), ('improvement', 0.3803), ('needed', 0.3491), ('better', 0.3247), ('among', 0.318), ('same', 0.2168), ('the', 0.1948), ('of', 0.1629)]\n"
     ]
    },
    {
     "data": {
      "text/html": [
       "<pre style=\"white-space:pre;overflow-x:auto;line-height:normal;font-family:Menlo,'DejaVu Sans Mono',consolas,'Courier New',monospace\"><span style=\"color: #000000; text-decoration-color: #000000; background-color: #ffff00\">Improvement</span> needed: Follow-through on <span style=\"color: #000000; text-decoration-color: #000000; background-color: #ffff00\">consistency</span> of <span style=\"color: #000000; text-decoration-color: #000000; background-color: #ffff00\">quality</span> and <span style=\"color: #000000; text-decoration-color: #000000; background-color: #ffff00\">delivery</span> with <span style=\"color: #000000; text-decoration-color: #000000; background-color: #ffff00\">senior</span> \n",
       "(managers). <span style=\"color: #000000; text-decoration-color: #000000; background-color: #ffff00\">Improvement</span> needed: Some <span style=\"color: #000000; text-decoration-color: #000000; background-color: #ffff00\">deliverables</span> due <span style=\"color: #000000; text-decoration-color: #000000; background-color: #ffff00\">dates</span> were slipping.\n",
       "</pre>\n"
      ],
      "text/plain": [
       "\u001b[30;48;2;255;255;0mImprovement\u001b[0m needed: Follow-through on \u001b[30;48;2;255;255;0mconsistency\u001b[0m of \u001b[30;48;2;255;255;0mquality\u001b[0m and \u001b[30;48;2;255;255;0mdelivery\u001b[0m with \u001b[30;48;2;255;255;0msenior\u001b[0m \n",
       "(managers). \u001b[30;48;2;255;255;0mImprovement\u001b[0m needed: Some \u001b[30;48;2;255;255;0mdeliverables\u001b[0m due \u001b[30;48;2;255;255;0mdates\u001b[0m were slipping.\n"
      ]
     },
     "metadata": {},
     "output_type": "display_data"
    },
    {
     "name": "stdout",
     "output_type": "stream",
     "text": [
      "[('managers', 0.476), ('senior', 0.4637), ('improvement', 0.4238), ('delivery', 0.3652), ('deliverables', 0.3556), ('quality', 0.33), ('consistency', 0.2914), ('dates', 0.2666), ('follow', 0.2253), ('needed', 0.2232)]\n"
     ]
    },
    {
     "data": {
      "text/html": [
       "<pre style=\"white-space:pre;overflow-x:auto;line-height:normal;font-family:Menlo,'DejaVu Sans Mono',consolas,'Courier New',monospace\">I hope the <span style=\"color: #000000; text-decoration-color: #000000; background-color: #ffff00\">next</span> normal will happen, as for some activities I feel that the physical <span style=\"color: #000000; text-decoration-color: #000000; background-color: #ffff00\">meetings</span> \n",
       "would have been preferred, if possible at all (i.e. initial <span style=\"color: #000000; text-decoration-color: #000000; background-color: #ffff00\">workshops</span> and <span style=\"color: #000000; text-decoration-color: #000000; background-color: #ffff00\">design</span> sprint). I \n",
       "would encourage the team to use any <span style=\"color: #000000; text-decoration-color: #000000; background-color: #ffff00\">time</span> gain that <span style=\"color: #000000; text-decoration-color: #000000; background-color: #ffff00\">digitalisation</span> brings for the literature \n",
       "review and benchmarking: our systems do not exist in a vacuum and we rely on <span style=\"color: #000000; text-decoration-color: #000000; background-color: #ffff00\">consultants</span> to \n",
       "know what is going on in the world around it. Also, even now <span style=\"color: #000000; text-decoration-color: #000000; background-color: #ffff00\">written</span> copy is very important, \n",
       "so it would be good to invest more in editors/writers.\n",
       "</pre>\n"
      ],
      "text/plain": [
       "I hope the \u001b[30;48;2;255;255;0mnext\u001b[0m normal will happen, as for some activities I feel that the physical \u001b[30;48;2;255;255;0mmeetings\u001b[0m \n",
       "would have been preferred, if possible at all (i.e. initial \u001b[30;48;2;255;255;0mworkshops\u001b[0m and \u001b[30;48;2;255;255;0mdesign\u001b[0m sprint). I \n",
       "would encourage the team to use any \u001b[30;48;2;255;255;0mtime\u001b[0m gain that \u001b[30;48;2;255;255;0mdigitalisation\u001b[0m brings for the literature \n",
       "review and benchmarking: our systems do not exist in a vacuum and we rely on \u001b[30;48;2;255;255;0mconsultants\u001b[0m to \n",
       "know what is going on in the world around it. Also, even now \u001b[30;48;2;255;255;0mwritten\u001b[0m copy is very important, \n",
       "so it would be good to invest more in editors/writers.\n"
      ]
     },
     "metadata": {},
     "output_type": "display_data"
    },
    {
     "name": "stdout",
     "output_type": "stream",
     "text": [
      "[('meetings', 0.4239), ('digitalisation', 0.4018), ('editors', 0.3571), ('next', 0.3505), ('workshops', 0.3412), ('writers', 0.3268), ('consultants', 0.2852), ('time', 0.2702), ('design', 0.239), ('written', 0.2373)]\n"
     ]
    },
    {
     "data": {
      "text/html": [
       "<pre style=\"white-space:pre;overflow-x:auto;line-height:normal;font-family:Menlo,'DejaVu Sans Mono',consolas,'Courier New',monospace\"><span style=\"color: #000000; text-decoration-color: #000000; background-color: #ffff00\">We</span> <span style=\"color: #000000; text-decoration-color: #000000; background-color: #ffff00\">never</span> <span style=\"color: #000000; text-decoration-color: #000000; background-color: #ffff00\">felt</span> that <span style=\"color: #000000; text-decoration-color: #000000; background-color: #ffff00\">anything</span> <span style=\"color: #000000; text-decoration-color: #000000; background-color: #ffff00\">important</span> <span style=\"color: #000000; text-decoration-color: #000000; background-color: #ffff00\">was</span> <span style=\"color: #000000; text-decoration-color: #000000; background-color: #ffff00\">left</span> unsaid, or that <span style=\"color: #000000; text-decoration-color: #000000; background-color: #ffff00\">we</span> <span style=\"color: #000000; text-decoration-color: #000000; background-color: #ffff00\">would</span> have to skirt around \n",
       "<span style=\"color: #000000; text-decoration-color: #000000; background-color: #ffff00\">important</span> subjects.\n",
       "</pre>\n"
      ],
      "text/plain": [
       "\u001b[30;48;2;255;255;0mWe\u001b[0m \u001b[30;48;2;255;255;0mnever\u001b[0m \u001b[30;48;2;255;255;0mfelt\u001b[0m that \u001b[30;48;2;255;255;0manything\u001b[0m \u001b[30;48;2;255;255;0mimportant\u001b[0m \u001b[30;48;2;255;255;0mwas\u001b[0m \u001b[30;48;2;255;255;0mleft\u001b[0m unsaid, or that \u001b[30;48;2;255;255;0mwe\u001b[0m \u001b[30;48;2;255;255;0mwould\u001b[0m have to skirt around \n",
       "\u001b[30;48;2;255;255;0mimportant\u001b[0m subjects.\n"
      ]
     },
     "metadata": {},
     "output_type": "display_data"
    },
    {
     "name": "stdout",
     "output_type": "stream",
     "text": [
      "[('we', 0.236), ('unsaid', 0.2021), ('subjects', 0.1322), ('never', 0.1237), ('important', 0.105), ('felt', 0.0793), ('anything', 0.0712), ('was', 0.0562), ('would', 0.053), ('left', 0.0249)]\n"
     ]
    },
    {
     "data": {
      "text/html": [
       "<pre style=\"white-space:pre;overflow-x:auto;line-height:normal;font-family:Menlo,'DejaVu Sans Mono',consolas,'Courier New',monospace\"><span style=\"color: #000000; text-decoration-color: #000000; background-color: #ffff00\">On</span> <span style=\"color: #000000; text-decoration-color: #000000; background-color: #ffff00\">top</span> <span style=\"color: #000000; text-decoration-color: #000000; background-color: #ffff00\">of</span> <span style=\"color: #000000; text-decoration-color: #000000; background-color: #ffff00\">the</span> broad range <span style=\"color: #000000; text-decoration-color: #000000; background-color: #ffff00\">of</span> skills, <span style=\"color: #000000; text-decoration-color: #000000; background-color: #ffff00\">the</span> <span style=\"color: #000000; text-decoration-color: #000000; background-color: #ffff00\">team</span> has <span style=\"color: #000000; text-decoration-color: #000000; background-color: #ffff00\">excellent</span> manners. I hope <span style=\"color: #000000; text-decoration-color: #000000; background-color: #ffff00\">we</span> will stay in \n",
       "touch.\n",
       "</pre>\n"
      ],
      "text/plain": [
       "\u001b[30;48;2;255;255;0mOn\u001b[0m \u001b[30;48;2;255;255;0mtop\u001b[0m \u001b[30;48;2;255;255;0mof\u001b[0m \u001b[30;48;2;255;255;0mthe\u001b[0m broad range \u001b[30;48;2;255;255;0mof\u001b[0m skills, \u001b[30;48;2;255;255;0mthe\u001b[0m \u001b[30;48;2;255;255;0mteam\u001b[0m has \u001b[30;48;2;255;255;0mexcellent\u001b[0m manners. I hope \u001b[30;48;2;255;255;0mwe\u001b[0m will stay in \n",
       "touch.\n"
      ]
     },
     "metadata": {},
     "output_type": "display_data"
    },
    {
     "name": "stdout",
     "output_type": "stream",
     "text": [
      "[('team', 0.56), ('manners', 0.4192), ('we', 0.3001), ('skills', 0.281), ('excellent', 0.2622), ('touch', 0.1928), ('top', 0.1625), ('on', 0.1471), ('of', 0.1407), ('the', 0.1229)]\n"
     ]
    },
    {
     "data": {
      "text/html": [
       "<pre style=\"white-space:pre;overflow-x:auto;line-height:normal;font-family:Menlo,'DejaVu Sans Mono',consolas,'Courier New',monospace\"><span style=\"color: #000000; text-decoration-color: #000000; background-color: #ffff00\">Excellent</span> communication, <span style=\"color: #000000; text-decoration-color: #000000; background-color: #ffff00\">very</span> <span style=\"color: #000000; text-decoration-color: #000000; background-color: #ffff00\">honest</span> <span style=\"color: #000000; text-decoration-color: #000000; background-color: #ffff00\">and</span> <span style=\"color: #000000; text-decoration-color: #000000; background-color: #ffff00\">open</span> <span style=\"color: #000000; text-decoration-color: #000000; background-color: #ffff00\">to</span> feedback.\n",
       "</pre>\n"
      ],
      "text/plain": [
       "\u001b[30;48;2;255;255;0mExcellent\u001b[0m communication, \u001b[30;48;2;255;255;0mvery\u001b[0m \u001b[30;48;2;255;255;0mhonest\u001b[0m \u001b[30;48;2;255;255;0mand\u001b[0m \u001b[30;48;2;255;255;0mopen\u001b[0m \u001b[30;48;2;255;255;0mto\u001b[0m feedback.\n"
      ]
     },
     "metadata": {},
     "output_type": "display_data"
    },
    {
     "name": "stdout",
     "output_type": "stream",
     "text": [
      "[('feedback', 0.5404), ('honest', 0.4988), ('communication', 0.4955), ('excellent', 0.4806), ('very', 0.2752), ('open', 0.2371), ('and', 0.2078), ('to', 0.206)]\n"
     ]
    },
    {
     "data": {
      "text/html": [
       "<pre style=\"white-space:pre;overflow-x:auto;line-height:normal;font-family:Menlo,'DejaVu Sans Mono',consolas,'Courier New',monospace\">Deloitte's <span style=\"color: #000000; text-decoration-color: #000000; background-color: #ffff00\">ability</span> to <span style=\"color: #000000; text-decoration-color: #000000; background-color: #ffff00\">analyse</span> and <span style=\"color: #000000; text-decoration-color: #000000; background-color: #ffff00\">interpret</span> is beyond impressive. We would never be able to \n",
       "convert user <span style=\"color: #000000; text-decoration-color: #000000; background-color: #ffff00\">feedback</span> into the <span style=\"color: #000000; text-decoration-color: #000000; background-color: #ffff00\">product</span> on our own. The <span style=\"color: #000000; text-decoration-color: #000000; background-color: #ffff00\">project</span> was very intense, so perhaps \n",
       "with more time (or a smaller task) we would be able to find solutions for a few outstanding \n",
       "questions (i.e. traders' registration, <span style=\"color: #000000; text-decoration-color: #000000; background-color: #ffff00\">consumer</span> empowerment at the certain stages of the \n",
       "procedure, automated provision of information), but the team has indeed done an excellent job\n",
       "in covering 90% of what came out of <span style=\"color: #000000; text-decoration-color: #000000; background-color: #ffff00\">research</span> with actionable solutions\n",
       "</pre>\n"
      ],
      "text/plain": [
       "Deloitte's \u001b[30;48;2;255;255;0mability\u001b[0m to \u001b[30;48;2;255;255;0manalyse\u001b[0m and \u001b[30;48;2;255;255;0minterpret\u001b[0m is beyond impressive. We would never be able to \n",
       "convert user \u001b[30;48;2;255;255;0mfeedback\u001b[0m into the \u001b[30;48;2;255;255;0mproduct\u001b[0m on our own. The \u001b[30;48;2;255;255;0mproject\u001b[0m was very intense, so perhaps \n",
       "with more time (or a smaller task) we would be able to find solutions for a few outstanding \n",
       "questions (i.e. traders' registration, \u001b[30;48;2;255;255;0mconsumer\u001b[0m empowerment at the certain stages of the \n",
       "procedure, automated provision of information), but the team has indeed done an excellent job\n",
       "in covering 90% of what came out of \u001b[30;48;2;255;255;0mresearch\u001b[0m with actionable solutions\n"
      ]
     },
     "metadata": {},
     "output_type": "display_data"
    },
    {
     "name": "stdout",
     "output_type": "stream",
     "text": [
      "[('analyse', 0.3704), ('feedback', 0.3382), ('research', 0.3178), ('interpret', 0.2962), ('consumer', 0.2936), ('product', 0.2905), ('project', 0.2771), ('deloitte', 0.275), ('ability', 0.2677), ('task', 0.2385)]\n"
     ]
    },
    {
     "data": {
      "text/html": [
       "<pre style=\"white-space:pre;overflow-x:auto;line-height:normal;font-family:Menlo,'DejaVu Sans Mono',consolas,'Courier New',monospace\">There is no doubt about the <span style=\"color: #000000; text-decoration-color: #000000; background-color: #ffff00\">expertise</span> in <span style=\"color: #000000; text-decoration-color: #000000; background-color: #ffff00\">design</span> and <span style=\"color: #000000; text-decoration-color: #000000; background-color: #ffff00\">collaboration</span> (which was especially \n",
       "<span style=\"color: #000000; text-decoration-color: #000000; background-color: #ffff00\">important</span> in COVID-19 times and the team deserves a special round of applaus of <span style=\"color: #000000; text-decoration-color: #000000; background-color: #ffff00\">adapting</span> to \n",
       "work,ing in the circumstances, i.e. first ever fully online <span style=\"color: #000000; text-decoration-color: #000000; background-color: #ffff00\">Design</span> Sprint). For future \n",
       "projects, the team could also benefit from continuing to incorporate behaviour economics: for\n",
       "systems like ours, you do not <span style=\"color: #000000; text-decoration-color: #000000; background-color: #ffff00\">rely</span> on legislation to enforce the outcome, and you cannot <span style=\"color: #000000; text-decoration-color: #000000; background-color: #ffff00\">rely</span>\n",
       "100% on user <span style=\"color: #000000; text-decoration-color: #000000; background-color: #ffff00\">needs</span> either (as we need certain types of <span style=\"color: #000000; text-decoration-color: #000000; background-color: #ffff00\">users</span> to do not not just what is \n",
       "optimal for them, but what is optimal for all user groups).\n",
       "</pre>\n"
      ],
      "text/plain": [
       "There is no doubt about the \u001b[30;48;2;255;255;0mexpertise\u001b[0m in \u001b[30;48;2;255;255;0mdesign\u001b[0m and \u001b[30;48;2;255;255;0mcollaboration\u001b[0m (which was especially \n",
       "\u001b[30;48;2;255;255;0mimportant\u001b[0m in COVID-19 times and the team deserves a special round of applaus of \u001b[30;48;2;255;255;0madapting\u001b[0m to \n",
       "work,ing in the circumstances, i.e. first ever fully online \u001b[30;48;2;255;255;0mDesign\u001b[0m Sprint). For future \n",
       "projects, the team could also benefit from continuing to incorporate behaviour economics: for\n",
       "systems like ours, you do not \u001b[30;48;2;255;255;0mrely\u001b[0m on legislation to enforce the outcome, and you cannot \u001b[30;48;2;255;255;0mrely\u001b[0m\n",
       "100% on user \u001b[30;48;2;255;255;0mneeds\u001b[0m either (as we need certain types of \u001b[30;48;2;255;255;0musers\u001b[0m to do not not just what is \n",
       "optimal for them, but what is optimal for all user groups).\n"
      ]
     },
     "metadata": {},
     "output_type": "display_data"
    },
    {
     "name": "stdout",
     "output_type": "stream",
     "text": [
      "[('collaboration', 0.4432), ('projects', 0.4294), ('design', 0.4145), ('adapting', 0.4099), ('rely', 0.3575), ('expertise', 0.3512), ('covid', 0.3432), ('needs', 0.3211), ('important', 0.3051), ('users', 0.2967)]\n"
     ]
    },
    {
     "data": {
      "text/html": [
       "<pre style=\"white-space:pre;overflow-x:auto;line-height:normal;font-family:Menlo,'DejaVu Sans Mono',consolas,'Courier New',monospace\"><span style=\"color: #000000; text-decoration-color: #000000; background-color: #ffff00\">We</span> are <span style=\"color: #000000; text-decoration-color: #000000; background-color: #ffff00\">happy</span> with the <span style=\"color: #000000; text-decoration-color: #000000; background-color: #ffff00\">deliverables</span> and <span style=\"color: #000000; text-decoration-color: #000000; background-color: #ffff00\">we</span> are looking <span style=\"color: #000000; text-decoration-color: #000000; background-color: #ffff00\">forward</span> to seeing them in production. \n",
       "In the future, similar <span style=\"color: #000000; text-decoration-color: #000000; background-color: #ffff00\">project</span> could <span style=\"color: #000000; text-decoration-color: #000000; background-color: #ffff00\">have</span> <span style=\"color: #000000; text-decoration-color: #000000; background-color: #ffff00\">benefiited</span> from involving a <span style=\"color: #000000; text-decoration-color: #000000; background-color: #ffff00\">copyrighter</span> earlier in \n",
       "the process.\n",
       "</pre>\n"
      ],
      "text/plain": [
       "\u001b[30;48;2;255;255;0mWe\u001b[0m are \u001b[30;48;2;255;255;0mhappy\u001b[0m with the \u001b[30;48;2;255;255;0mdeliverables\u001b[0m and \u001b[30;48;2;255;255;0mwe\u001b[0m are looking \u001b[30;48;2;255;255;0mforward\u001b[0m to seeing them in production. \n",
       "In the future, similar \u001b[30;48;2;255;255;0mproject\u001b[0m could \u001b[30;48;2;255;255;0mhave\u001b[0m \u001b[30;48;2;255;255;0mbenefiited\u001b[0m from involving a \u001b[30;48;2;255;255;0mcopyrighter\u001b[0m earlier in \n",
       "the process.\n"
      ]
     },
     "metadata": {},
     "output_type": "display_data"
    },
    {
     "name": "stdout",
     "output_type": "stream",
     "text": [
      "[('copyrighter', 0.5176), ('deliverables', 0.4405), ('project', 0.3967), ('future', 0.3742), ('benefiited', 0.3038), ('happy', 0.2772), ('production', 0.2668), ('we', 0.2424), ('forward', 0.2081), ('have', 0.1877)]\n"
     ]
    },
    {
     "data": {
      "text/html": [
       "<pre style=\"white-space:pre;overflow-x:auto;line-height:normal;font-family:Menlo,'DejaVu Sans Mono',consolas,'Courier New',monospace\"><span style=\"color: #000000; text-decoration-color: #000000; background-color: #ffff00\">Very</span> <span style=\"color: #000000; text-decoration-color: #000000; background-color: #ffff00\">pleasant</span> <span style=\"color: #000000; text-decoration-color: #000000; background-color: #ffff00\">team</span> and <span style=\"color: #000000; text-decoration-color: #000000; background-color: #ffff00\">very</span> <span style=\"color: #000000; text-decoration-color: #000000; background-color: #ffff00\">attentive</span> to the <span style=\"color: #000000; text-decoration-color: #000000; background-color: #ffff00\">interpersonal</span> <span style=\"color: #000000; text-decoration-color: #000000; background-color: #ffff00\">chemistry</span> <span style=\"color: #000000; text-decoration-color: #000000; background-color: #ffff00\">with</span> the stakeholders. \n",
       "Extremely <span style=\"color: #000000; text-decoration-color: #000000; background-color: #ffff00\">patient</span> <span style=\"color: #000000; text-decoration-color: #000000; background-color: #ffff00\">with</span> the users.\n",
       "</pre>\n"
      ],
      "text/plain": [
       "\u001b[30;48;2;255;255;0mVery\u001b[0m \u001b[30;48;2;255;255;0mpleasant\u001b[0m \u001b[30;48;2;255;255;0mteam\u001b[0m and \u001b[30;48;2;255;255;0mvery\u001b[0m \u001b[30;48;2;255;255;0mattentive\u001b[0m to the \u001b[30;48;2;255;255;0minterpersonal\u001b[0m \u001b[30;48;2;255;255;0mchemistry\u001b[0m \u001b[30;48;2;255;255;0mwith\u001b[0m the stakeholders. \n",
       "Extremely \u001b[30;48;2;255;255;0mpatient\u001b[0m \u001b[30;48;2;255;255;0mwith\u001b[0m the users.\n"
      ]
     },
     "metadata": {},
     "output_type": "display_data"
    },
    {
     "name": "stdout",
     "output_type": "stream",
     "text": [
      "[('chemistry', 0.4077), ('interpersonal', 0.4005), ('stakeholders', 0.3949), ('pleasant', 0.388), ('attentive', 0.3277), ('team', 0.3242), ('users', 0.2791), ('with', 0.2657), ('patient', 0.236), ('very', 0.2193)]\n"
     ]
    },
    {
     "data": {
      "text/html": [
       "<pre style=\"white-space:pre;overflow-x:auto;line-height:normal;font-family:Menlo,'DejaVu Sans Mono',consolas,'Courier New',monospace\">For us, this was a high value <span style=\"color: #000000; text-decoration-color: #000000; background-color: #ffff00\">project</span> (also financially). In this context it would always be \n",
       "a very sensitive <span style=\"color: #000000; text-decoration-color: #000000; background-color: #ffff00\">discussion</span> if the client feels that shortcuts are taken. In the end <span style=\"color: #000000; text-decoration-color: #000000; background-color: #ffff00\">we</span> feel \n",
       "that it was a completely <span style=\"color: #000000; text-decoration-color: #000000; background-color: #ffff00\">fair</span> <span style=\"color: #000000; text-decoration-color: #000000; background-color: #ffff00\">proposition</span> - at some point there was a <span style=\"color: #000000; text-decoration-color: #000000; background-color: #ffff00\">discussion</span> about \n",
       "getting enough <span style=\"color: #000000; text-decoration-color: #000000; background-color: #ffff00\">testers</span> where <span style=\"color: #000000; text-decoration-color: #000000; background-color: #ffff00\">we</span> felt that the value of the <span style=\"color: #000000; text-decoration-color: #000000; background-color: #ffff00\">project</span> was <span style=\"color: #000000; text-decoration-color: #000000; background-color: #ffff00\">sufficient</span> to cover \n",
       "the eventual <span style=\"color: #000000; text-decoration-color: #000000; background-color: #ffff00\">recruitement</span> costs without <span style=\"color: #000000; text-decoration-color: #000000; background-color: #ffff00\">relying</span> on us, but finally it was resolved and a very\n",
       "good range of <span style=\"color: #000000; text-decoration-color: #000000; background-color: #ffff00\">testers</span> was recruited.\n",
       "</pre>\n"
      ],
      "text/plain": [
       "For us, this was a high value \u001b[30;48;2;255;255;0mproject\u001b[0m (also financially). In this context it would always be \n",
       "a very sensitive \u001b[30;48;2;255;255;0mdiscussion\u001b[0m if the client feels that shortcuts are taken. In the end \u001b[30;48;2;255;255;0mwe\u001b[0m feel \n",
       "that it was a completely \u001b[30;48;2;255;255;0mfair\u001b[0m \u001b[30;48;2;255;255;0mproposition\u001b[0m - at some point there was a \u001b[30;48;2;255;255;0mdiscussion\u001b[0m about \n",
       "getting enough \u001b[30;48;2;255;255;0mtesters\u001b[0m where \u001b[30;48;2;255;255;0mwe\u001b[0m felt that the value of the \u001b[30;48;2;255;255;0mproject\u001b[0m was \u001b[30;48;2;255;255;0msufficient\u001b[0m to cover \n",
       "the eventual \u001b[30;48;2;255;255;0mrecruitement\u001b[0m costs without \u001b[30;48;2;255;255;0mrelying\u001b[0m on us, but finally it was resolved and a very\n",
       "good range of \u001b[30;48;2;255;255;0mtesters\u001b[0m was recruited.\n"
      ]
     },
     "metadata": {},
     "output_type": "display_data"
    },
    {
     "name": "stdout",
     "output_type": "stream",
     "text": [
      "[('testers', 0.4378), ('recruitement', 0.3978), ('recruited', 0.3575), ('project', 0.2754), ('discussion', 0.2657), ('proposition', 0.2614), ('fair', 0.2434), ('sufficient', 0.2226), ('relying', 0.2041), ('we', 0.2023)]\n"
     ]
    },
    {
     "data": {
      "text/html": [
       "<pre style=\"white-space:pre;overflow-x:auto;line-height:normal;font-family:Menlo,'DejaVu Sans Mono',consolas,'Courier New',monospace\">From <span style=\"color: #000000; text-decoration-color: #000000; background-color: #ffff00\">our</span> vantage point, <span style=\"color: #000000; text-decoration-color: #000000; background-color: #ffff00\">Deloitte</span> <span style=\"color: #000000; text-decoration-color: #000000; background-color: #ffff00\">team</span> <span style=\"color: #000000; text-decoration-color: #000000; background-color: #ffff00\">worked</span> very <span style=\"color: #000000; text-decoration-color: #000000; background-color: #ffff00\">well</span> <span style=\"color: #000000; text-decoration-color: #000000; background-color: #ffff00\">together</span> and was <span style=\"color: #000000; text-decoration-color: #000000; background-color: #ffff00\">able</span> to <span style=\"color: #000000; text-decoration-color: #000000; background-color: #ffff00\">integrate</span> \n",
       "<span style=\"color: #000000; text-decoration-color: #000000; background-color: #ffff00\">everyone</span> from <span style=\"color: #000000; text-decoration-color: #000000; background-color: #ffff00\">our</span> <span style=\"color: #000000; text-decoration-color: #000000; background-color: #ffff00\">team</span> who was open to the method.\n",
       "</pre>\n"
      ],
      "text/plain": [
       "From \u001b[30;48;2;255;255;0mour\u001b[0m vantage point, \u001b[30;48;2;255;255;0mDeloitte\u001b[0m \u001b[30;48;2;255;255;0mteam\u001b[0m \u001b[30;48;2;255;255;0mworked\u001b[0m very \u001b[30;48;2;255;255;0mwell\u001b[0m \u001b[30;48;2;255;255;0mtogether\u001b[0m and was \u001b[30;48;2;255;255;0mable\u001b[0m to \u001b[30;48;2;255;255;0mintegrate\u001b[0m \n",
       "\u001b[30;48;2;255;255;0meveryone\u001b[0m from \u001b[30;48;2;255;255;0mour\u001b[0m \u001b[30;48;2;255;255;0mteam\u001b[0m who was open to the method.\n"
      ]
     },
     "metadata": {},
     "output_type": "display_data"
    },
    {
     "name": "stdout",
     "output_type": "stream",
     "text": [
      "[('integrate', 0.2387), ('together', 0.2116), ('team', 0.2105), ('deloitte', 0.2026), ('everyone', 0.1858), ('worked', 0.1715), ('method', 0.1449), ('well', 0.133), ('our', 0.1115), ('able', 0.1069)]\n"
     ]
    },
    {
     "data": {
      "text/html": [
       "<pre style=\"white-space:pre;overflow-x:auto;line-height:normal;font-family:Menlo,'DejaVu Sans Mono',consolas,'Courier New',monospace\">Nothing could have <span style=\"color: #000000; text-decoration-color: #000000; background-color: #ffff00\">been</span> done better. In the beginning of <span style=\"color: #000000; text-decoration-color: #000000; background-color: #ffff00\">pandemic</span> there was a small \n",
       "<span style=\"color: #000000; text-decoration-color: #000000; background-color: #ffff00\">discussion</span> whether the <span style=\"color: #000000; text-decoration-color: #000000; background-color: #ffff00\">scope</span> of the <span style=\"color: #000000; text-decoration-color: #000000; background-color: #ffff00\">project</span> should have <span style=\"color: #000000; text-decoration-color: #000000; background-color: #ffff00\">been</span> shifted, but as <span style=\"color: #000000; text-decoration-color: #000000; background-color: #ffff00\">we</span> confirmed \n",
       "that the original <span style=\"color: #000000; text-decoration-color: #000000; background-color: #ffff00\">scope</span> of the <span style=\"color: #000000; text-decoration-color: #000000; background-color: #ffff00\">project</span> was what <span style=\"color: #000000; text-decoration-color: #000000; background-color: #ffff00\">we</span> <span style=\"color: #000000; text-decoration-color: #000000; background-color: #ffff00\">were</span> interested in, the team has <span style=\"color: #000000; text-decoration-color: #000000; background-color: #ffff00\">adapted</span> \n",
       "brilliantly (see also question 5)\n",
       "</pre>\n"
      ],
      "text/plain": [
       "Nothing could have \u001b[30;48;2;255;255;0mbeen\u001b[0m done better. In the beginning of \u001b[30;48;2;255;255;0mpandemic\u001b[0m there was a small \n",
       "\u001b[30;48;2;255;255;0mdiscussion\u001b[0m whether the \u001b[30;48;2;255;255;0mscope\u001b[0m of the \u001b[30;48;2;255;255;0mproject\u001b[0m should have \u001b[30;48;2;255;255;0mbeen\u001b[0m shifted, but as \u001b[30;48;2;255;255;0mwe\u001b[0m confirmed \n",
       "that the original \u001b[30;48;2;255;255;0mscope\u001b[0m of the \u001b[30;48;2;255;255;0mproject\u001b[0m was what \u001b[30;48;2;255;255;0mwe\u001b[0m \u001b[30;48;2;255;255;0mwere\u001b[0m interested in, the team has \u001b[30;48;2;255;255;0madapted\u001b[0m \n",
       "brilliantly (see also question 5)\n"
      ]
     },
     "metadata": {},
     "output_type": "display_data"
    },
    {
     "name": "stdout",
     "output_type": "stream",
     "text": [
      "[('project', 0.4273), ('pandemic', 0.4263), ('discussion', 0.2817), ('we', 0.2803), ('adapted', 0.2786), ('shifted', 0.2648), ('been', 0.2609), ('were', 0.2569), ('better', 0.2428), ('scope', 0.242)]\n"
     ]
    },
    {
     "data": {
      "text/html": [
       "<pre style=\"white-space:pre;overflow-x:auto;line-height:normal;font-family:Menlo,'DejaVu Sans Mono',consolas,'Courier New',monospace\">The <span style=\"color: #000000; text-decoration-color: #000000; background-color: #ffff00\">team</span> has <span style=\"color: #000000; text-decoration-color: #000000; background-color: #ffff00\">demonstrated</span> an excellent ability to learn about the <span style=\"color: #000000; text-decoration-color: #000000; background-color: #ffff00\">consumer</span> dispute \n",
       "resolution, and was prepared to <span style=\"color: #000000; text-decoration-color: #000000; background-color: #ffff00\">engage</span> (and actively listen) to all relevant stakeholders. \n",
       "The only thing that could have pushed this <span style=\"color: #000000; text-decoration-color: #000000; background-color: #ffff00\">rating</span> to ten would be the <span style=\"color: #000000; text-decoration-color: #000000; background-color: #ffff00\">preliminary</span> work (prior\n",
       "to the kick-off meeting) and independent background research/benchmarkingk\n",
       "</pre>\n"
      ],
      "text/plain": [
       "The \u001b[30;48;2;255;255;0mteam\u001b[0m has \u001b[30;48;2;255;255;0mdemonstrated\u001b[0m an excellent ability to learn about the \u001b[30;48;2;255;255;0mconsumer\u001b[0m dispute \n",
       "resolution, and was prepared to \u001b[30;48;2;255;255;0mengage\u001b[0m (and actively listen) to all relevant stakeholders. \n",
       "The only thing that could have pushed this \u001b[30;48;2;255;255;0mrating\u001b[0m to ten would be the \u001b[30;48;2;255;255;0mpreliminary\u001b[0m work (prior\n",
       "to the kick-off meeting) and independent background research/benchmarkingk\n"
      ]
     },
     "metadata": {},
     "output_type": "display_data"
    },
    {
     "name": "stdout",
     "output_type": "stream",
     "text": [
      "[('rating', 0.4269), ('stakeholders', 0.3818), ('team', 0.3642), ('preliminary', 0.3218), ('demonstrated', 0.3131), ('research', 0.3019), ('consumer', 0.2988), ('benchmarkingk', 0.2963), ('meeting', 0.2788), ('engage', 0.2603)]\n"
     ]
    },
    {
     "data": {
      "text/html": [
       "<pre style=\"white-space:pre;overflow-x:auto;line-height:normal;font-family:Menlo,'DejaVu Sans Mono',consolas,'Courier New',monospace\">Oui, <span style=\"color: #000000; text-decoration-color: #000000; background-color: #ffff00\">le</span> <span style=\"color: #000000; text-decoration-color: #000000; background-color: #ffff00\">feedback</span> <span style=\"color: #000000; text-decoration-color: #000000; background-color: #ffff00\">est</span> <span style=\"color: #000000; text-decoration-color: #000000; background-color: #ffff00\">reçu</span> <span style=\"color: #000000; text-decoration-color: #000000; background-color: #ffff00\">et</span> <span style=\"color: #000000; text-decoration-color: #000000; background-color: #ffff00\">mis</span> <span style=\"color: #000000; text-decoration-color: #000000; background-color: #ffff00\">en</span> oeuvre.\n",
       "</pre>\n"
      ],
      "text/plain": [
       "Oui, \u001b[30;48;2;255;255;0mle\u001b[0m \u001b[30;48;2;255;255;0mfeedback\u001b[0m \u001b[30;48;2;255;255;0mest\u001b[0m \u001b[30;48;2;255;255;0mreçu\u001b[0m \u001b[30;48;2;255;255;0met\u001b[0m \u001b[30;48;2;255;255;0mmis\u001b[0m \u001b[30;48;2;255;255;0men\u001b[0m oeuvre.\n"
      ]
     },
     "metadata": {},
     "output_type": "display_data"
    },
    {
     "name": "stdout",
     "output_type": "stream",
     "text": [
      "[('feedback', 0.6958), ('reçu', 0.4293), ('oui', 0.4208), ('en', 0.2833), ('et', 0.2765), ('est', 0.2661), ('mis', 0.1871), ('oeuvre', 0.1808), ('le', 0.1454)]\n"
     ]
    },
    {
     "data": {
      "text/html": [
       "<pre style=\"white-space:pre;overflow-x:auto;line-height:normal;font-family:Menlo,'DejaVu Sans Mono',consolas,'Courier New',monospace\">Les <span style=\"color: #000000; text-decoration-color: #000000; background-color: #ffff00\">changements</span> de <span style=\"color: #000000; text-decoration-color: #000000; background-color: #ffff00\">staff</span> chez <span style=\"color: #000000; text-decoration-color: #000000; background-color: #ffff00\">Deloitte</span> ont causé quelques soucis et l'équipe de <span style=\"color: #000000; text-decoration-color: #000000; background-color: #ffff00\">remplacement</span> \n",
       "est un peu jeune et <span style=\"color: #000000; text-decoration-color: #000000; background-color: #ffff00\">manque</span> parfois de vision. Mais ils <span style=\"color: #000000; text-decoration-color: #000000; background-color: #ffff00\">travaillent</span> dur et sont d'une grande \n",
       "<span style=\"color: #000000; text-decoration-color: #000000; background-color: #ffff00\">sincérité</span> donc le <span style=\"color: #000000; text-decoration-color: #000000; background-color: #ffff00\">bilan</span> est très positif.\n",
       "</pre>\n"
      ],
      "text/plain": [
       "Les \u001b[30;48;2;255;255;0mchangements\u001b[0m de \u001b[30;48;2;255;255;0mstaff\u001b[0m chez \u001b[30;48;2;255;255;0mDeloitte\u001b[0m ont causé quelques soucis et l'équipe de \u001b[30;48;2;255;255;0mremplacement\u001b[0m \n",
       "est un peu jeune et \u001b[30;48;2;255;255;0mmanque\u001b[0m parfois de vision. Mais ils \u001b[30;48;2;255;255;0mtravaillent\u001b[0m dur et sont d'une grande \n",
       "\u001b[30;48;2;255;255;0msincérité\u001b[0m donc le \u001b[30;48;2;255;255;0mbilan\u001b[0m est très positif.\n"
      ]
     },
     "metadata": {},
     "output_type": "display_data"
    },
    {
     "name": "stdout",
     "output_type": "stream",
     "text": [
      "[('staff', 0.3503), ('changements', 0.314), ('remplacement', 0.2636), ('travaillent', 0.2616), ('sincérité', 0.2431), ('positif', 0.2395), ('manque', 0.2094), ('équipe', 0.2069), ('bilan', 0.2041), ('deloitte', 0.1966)]\n"
     ]
    },
    {
     "data": {
      "text/html": [
       "<pre style=\"white-space:pre;overflow-x:auto;line-height:normal;font-family:Menlo,'DejaVu Sans Mono',consolas,'Courier New',monospace\">D'abord, il ne faut pas sous-estimer le <span style=\"color: #000000; text-decoration-color: #000000; background-color: #ffff00\">rôle</span> des <span style=\"color: #000000; text-decoration-color: #000000; background-color: #ffff00\">contacts</span> humains. Tellement de problèes se \n",
       "<span style=\"color: #000000; text-decoration-color: #000000; background-color: #ffff00\">résolvaient</span> autour d'une tasse de <span style=\"color: #000000; text-decoration-color: #000000; background-color: #ffff00\">café</span> le matin avec le <span style=\"color: #000000; text-decoration-color: #000000; background-color: #ffff00\">chef</span> d'équipe! Ne croyez pas une \n",
       "seconde que les rappotrts vont se numériser complètement. La différence se fera entre ceux \n",
       "qui <span style=\"color: #000000; text-decoration-color: #000000; background-color: #ffff00\">intégreront</span> harmonieusement le <span style=\"color: #000000; text-decoration-color: #000000; background-color: #ffff00\">numérique</span> mais seront présents sur le terrain en informel \n",
       "pour <span style=\"color: #000000; text-decoration-color: #000000; background-color: #ffff00\">parler</span> avec les clients.\n",
       "</pre>\n"
      ],
      "text/plain": [
       "D'abord, il ne faut pas sous-estimer le \u001b[30;48;2;255;255;0mrôle\u001b[0m des \u001b[30;48;2;255;255;0mcontacts\u001b[0m humains. Tellement de problèes se \n",
       "\u001b[30;48;2;255;255;0mrésolvaient\u001b[0m autour d'une tasse de \u001b[30;48;2;255;255;0mcafé\u001b[0m le matin avec le \u001b[30;48;2;255;255;0mchef\u001b[0m d'équipe! Ne croyez pas une \n",
       "seconde que les rappotrts vont se numériser complètement. La différence se fera entre ceux \n",
       "qui \u001b[30;48;2;255;255;0mintégreront\u001b[0m harmonieusement le \u001b[30;48;2;255;255;0mnumérique\u001b[0m mais seront présents sur le terrain en informel \n",
       "pour \u001b[30;48;2;255;255;0mparler\u001b[0m avec les clients.\n"
      ]
     },
     "metadata": {},
     "output_type": "display_data"
    },
    {
     "name": "stdout",
     "output_type": "stream",
     "text": [
      "[('contacts', 0.4583), ('numérique', 0.4507), ('café', 0.447), ('parler', 0.4021), ('humains', 0.3744), ('intégreront', 0.3707), ('rôle', 0.3469), ('résolvaient', 0.3463), ('chef', 0.3446), ('clients', 0.3363)]\n"
     ]
    },
    {
     "data": {
      "text/html": [
       "<pre style=\"white-space:pre;overflow-x:auto;line-height:normal;font-family:Menlo,'DejaVu Sans Mono',consolas,'Courier New',monospace\">Les <span style=\"color: #000000; text-decoration-color: #000000; background-color: #ffff00\">chefs</span> d'équipe avec <span style=\"color: #000000; text-decoration-color: #000000; background-color: #ffff00\">lesquels</span> je <span style=\"color: #000000; text-decoration-color: #000000; background-color: #ffff00\">travaille</span> depuis 5 ans sont <span style=\"color: #000000; text-decoration-color: #000000; background-color: #ffff00\">excellents</span> et <span style=\"color: #000000; text-decoration-color: #000000; background-color: #ffff00\">comprennent</span> \n",
       "très <span style=\"color: #000000; text-decoration-color: #000000; background-color: #ffff00\">ben</span> les <span style=\"color: #000000; text-decoration-color: #000000; background-color: #ffff00\">besoins</span> <span style=\"color: #000000; text-decoration-color: #000000; background-color: #ffff00\">du</span> client.\n",
       "</pre>\n"
      ],
      "text/plain": [
       "Les \u001b[30;48;2;255;255;0mchefs\u001b[0m d'équipe avec \u001b[30;48;2;255;255;0mlesquels\u001b[0m je \u001b[30;48;2;255;255;0mtravaille\u001b[0m depuis 5 ans sont \u001b[30;48;2;255;255;0mexcellents\u001b[0m et \u001b[30;48;2;255;255;0mcomprennent\u001b[0m \n",
       "très \u001b[30;48;2;255;255;0mben\u001b[0m les \u001b[30;48;2;255;255;0mbesoins\u001b[0m \u001b[30;48;2;255;255;0mdu\u001b[0m client.\n"
      ]
     },
     "metadata": {},
     "output_type": "display_data"
    },
    {
     "name": "stdout",
     "output_type": "stream",
     "text": [
      "[('chefs', 0.4612), ('équipe', 0.3154), ('excellents', 0.3081), ('client', 0.251), ('travaille', 0.2153), ('besoins', 0.1689), ('lesquels', 0.1207), ('du', 0.1087), ('ben', 0.1034), ('comprennent', 0.1001)]\n"
     ]
    },
    {
     "data": {
      "text/html": [
       "<pre style=\"white-space:pre;overflow-x:auto;line-height:normal;font-family:Menlo,'DejaVu Sans Mono',consolas,'Courier New',monospace\">Les <span style=\"color: #000000; text-decoration-color: #000000; background-color: #ffff00\">consultatns</span> <span style=\"color: #000000; text-decoration-color: #000000; background-color: #ffff00\">ont</span> <span style=\"color: #000000; text-decoration-color: #000000; background-color: #ffff00\">fait</span> de <span style=\"color: #000000; text-decoration-color: #000000; background-color: #ffff00\">leur</span> <span style=\"color: #000000; text-decoration-color: #000000; background-color: #ffff00\">mieux</span> dans le contexte, très disponibles. Honnêtement, il \n",
       "<span style=\"color: #000000; text-decoration-color: #000000; background-color: #ffff00\">aurait</span> été <span style=\"color: #000000; text-decoration-color: #000000; background-color: #ffff00\">difficile</span> de fair mieux.\n",
       "</pre>\n"
      ],
      "text/plain": [
       "Les \u001b[30;48;2;255;255;0mconsultatns\u001b[0m \u001b[30;48;2;255;255;0mont\u001b[0m \u001b[30;48;2;255;255;0mfait\u001b[0m de \u001b[30;48;2;255;255;0mleur\u001b[0m \u001b[30;48;2;255;255;0mmieux\u001b[0m dans le contexte, très disponibles. Honnêtement, il \n",
       "\u001b[30;48;2;255;255;0maurait\u001b[0m été \u001b[30;48;2;255;255;0mdifficile\u001b[0m de fair mieux.\n"
      ]
     },
     "metadata": {},
     "output_type": "display_data"
    },
    {
     "name": "stdout",
     "output_type": "stream",
     "text": [
      "[('consultatns', 0.4261), ('mieux', 0.3039), ('aurait', 0.2932), ('difficile', 0.26), ('contexte', 0.2566), ('fait', 0.1916), ('honnêtement', 0.1762), ('disponibles', 0.1647), ('ont', 0.1576), ('leur', 0.1247)]\n"
     ]
    },
    {
     "data": {
      "text/html": [
       "<pre style=\"white-space:pre;overflow-x:auto;line-height:normal;font-family:Menlo,'DejaVu Sans Mono',consolas,'Courier New',monospace\">Là encore, les <span style=\"color: #000000; text-decoration-color: #000000; background-color: #ffff00\">meilleures</span> <span style=\"color: #000000; text-decoration-color: #000000; background-color: #ffff00\">compétences</span> en <span style=\"color: #000000; text-decoration-color: #000000; background-color: #ffff00\">technologie</span> <span style=\"color: #000000; text-decoration-color: #000000; background-color: #ffff00\">clik</span> n'ont pas toujours été <span style=\"color: #000000; text-decoration-color: #000000; background-color: #ffff00\">remplacées</span> \n",
       "par des <span style=\"color: #000000; text-decoration-color: #000000; background-color: #ffff00\">consultants</span> de <span style=\"color: #000000; text-decoration-color: #000000; background-color: #ffff00\">même</span> niveau, masi <span style=\"color: #000000; text-decoration-color: #000000; background-color: #ffff00\">nous</span> <span style=\"color: #000000; text-decoration-color: #000000; background-color: #ffff00\">comprenons</span> le problème.\n",
       "</pre>\n"
      ],
      "text/plain": [
       "Là encore, les \u001b[30;48;2;255;255;0mmeilleures\u001b[0m \u001b[30;48;2;255;255;0mcompétences\u001b[0m en \u001b[30;48;2;255;255;0mtechnologie\u001b[0m \u001b[30;48;2;255;255;0mclik\u001b[0m n'ont pas toujours été \u001b[30;48;2;255;255;0mremplacées\u001b[0m \n",
       "par des \u001b[30;48;2;255;255;0mconsultants\u001b[0m de \u001b[30;48;2;255;255;0mmême\u001b[0m niveau, masi \u001b[30;48;2;255;255;0mnous\u001b[0m \u001b[30;48;2;255;255;0mcomprenons\u001b[0m le problème.\n"
      ]
     },
     "metadata": {},
     "output_type": "display_data"
    },
    {
     "name": "stdout",
     "output_type": "stream",
     "text": [
      "[('consultants', 0.4869), ('compétences', 0.4541), ('technologie', 0.3508), ('comprenons', 0.2997), ('meilleures', 0.2642), ('clik', 0.2577), ('problème', 0.2389), ('nous', 0.2136), ('remplacées', 0.1981), ('même', 0.1979)]\n"
     ]
    },
    {
     "data": {
      "text/html": [
       "<pre style=\"white-space:pre;overflow-x:auto;line-height:normal;font-family:Menlo,'DejaVu Sans Mono',consolas,'Courier New',monospace\"><span style=\"color: #000000; text-decoration-color: #000000; background-color: #ffff00\">Very</span> <span style=\"color: #000000; text-decoration-color: #000000; background-color: #ffff00\">much</span> <span style=\"color: #000000; text-decoration-color: #000000; background-color: #ffff00\">enjoyed</span> <span style=\"color: #000000; text-decoration-color: #000000; background-color: #ffff00\">working</span> <span style=\"color: #000000; text-decoration-color: #000000; background-color: #ffff00\">with</span> <span style=\"color: #000000; text-decoration-color: #000000; background-color: #ffff00\">our</span> <span style=\"color: #000000; text-decoration-color: #000000; background-color: #ffff00\">colleagues</span> <span style=\"color: #000000; text-decoration-color: #000000; background-color: #ffff00\">in</span> Belgium.\n",
       "</pre>\n"
      ],
      "text/plain": [
       "\u001b[30;48;2;255;255;0mVery\u001b[0m \u001b[30;48;2;255;255;0mmuch\u001b[0m \u001b[30;48;2;255;255;0menjoyed\u001b[0m \u001b[30;48;2;255;255;0mworking\u001b[0m \u001b[30;48;2;255;255;0mwith\u001b[0m \u001b[30;48;2;255;255;0mour\u001b[0m \u001b[30;48;2;255;255;0mcolleagues\u001b[0m \u001b[30;48;2;255;255;0min\u001b[0m Belgium.\n"
      ]
     },
     "metadata": {},
     "output_type": "display_data"
    },
    {
     "name": "stdout",
     "output_type": "stream",
     "text": [
      "[('belgium', 0.3925), ('colleagues', 0.383), ('enjoyed', 0.3271), ('our', 0.1782), ('working', 0.1601), ('with', 0.1309), ('in', 0.0657), ('very', 0.0472), ('much', 0.0443)]\n"
     ]
    },
    {
     "data": {
      "text/html": [
       "<pre style=\"white-space:pre;overflow-x:auto;line-height:normal;font-family:Menlo,'DejaVu Sans Mono',consolas,'Courier New',monospace\">Yes, although the <span style=\"color: #000000; text-decoration-color: #000000; background-color: #ffff00\">work</span> related to the <span style=\"color: #000000; text-decoration-color: #000000; background-color: #ffff00\">UK</span> <span style=\"color: #000000; text-decoration-color: #000000; background-color: #ffff00\">rail</span> <span style=\"color: #000000; text-decoration-color: #000000; background-color: #ffff00\">sector</span> the <span style=\"color: #000000; text-decoration-color: #000000; background-color: #ffff00\">team</span> <span style=\"color: #000000; text-decoration-color: #000000; background-color: #ffff00\">were</span> <span style=\"color: #000000; text-decoration-color: #000000; background-color: #ffff00\">able</span> to <span style=\"color: #000000; text-decoration-color: #000000; background-color: #ffff00\">establish</span> the \n",
       "<span style=\"color: #000000; text-decoration-color: #000000; background-color: #ffff00\">right</span> level of <span style=\"color: #000000; text-decoration-color: #000000; background-color: #ffff00\">context</span> to deliver the work.\n",
       "</pre>\n"
      ],
      "text/plain": [
       "Yes, although the \u001b[30;48;2;255;255;0mwork\u001b[0m related to the \u001b[30;48;2;255;255;0mUK\u001b[0m \u001b[30;48;2;255;255;0mrail\u001b[0m \u001b[30;48;2;255;255;0msector\u001b[0m the \u001b[30;48;2;255;255;0mteam\u001b[0m \u001b[30;48;2;255;255;0mwere\u001b[0m \u001b[30;48;2;255;255;0mable\u001b[0m to \u001b[30;48;2;255;255;0mestablish\u001b[0m the \n",
       "\u001b[30;48;2;255;255;0mright\u001b[0m level of \u001b[30;48;2;255;255;0mcontext\u001b[0m to deliver the work.\n"
      ]
     },
     "metadata": {},
     "output_type": "display_data"
    },
    {
     "name": "stdout",
     "output_type": "stream",
     "text": [
      "[('work', 0.3709), ('context', 0.3594), ('rail', 0.352), ('uk', 0.3371), ('sector', 0.2912), ('establish', 0.2808), ('team', 0.2799), ('able', 0.2337), ('right', 0.2306), ('were', 0.2125)]\n"
     ]
    },
    {
     "data": {
      "text/html": [
       "<pre style=\"white-space:pre;overflow-x:auto;line-height:normal;font-family:Menlo,'DejaVu Sans Mono',consolas,'Courier New',monospace\"><span style=\"color: #000000; text-decoration-color: #000000; background-color: #ffff00\">Team</span> <span style=\"color: #000000; text-decoration-color: #000000; background-color: #ffff00\">were</span> <span style=\"color: #000000; text-decoration-color: #000000; background-color: #ffff00\">already</span> working to a <span style=\"color: #000000; text-decoration-color: #000000; background-color: #ffff00\">remote</span> <span style=\"color: #000000; text-decoration-color: #000000; background-color: #ffff00\">model</span> pre-Covid so the <span style=\"color: #000000; text-decoration-color: #000000; background-color: #ffff00\">transition</span> was <span style=\"color: #000000; text-decoration-color: #000000; background-color: #ffff00\">not</span> as large as \n",
       "it <span style=\"color: #000000; text-decoration-color: #000000; background-color: #ffff00\">might</span> have been.\n",
       "</pre>\n"
      ],
      "text/plain": [
       "\u001b[30;48;2;255;255;0mTeam\u001b[0m \u001b[30;48;2;255;255;0mwere\u001b[0m \u001b[30;48;2;255;255;0malready\u001b[0m working to a \u001b[30;48;2;255;255;0mremote\u001b[0m \u001b[30;48;2;255;255;0mmodel\u001b[0m pre-Covid so the \u001b[30;48;2;255;255;0mtransition\u001b[0m was \u001b[30;48;2;255;255;0mnot\u001b[0m as large as \n",
       "it \u001b[30;48;2;255;255;0mmight\u001b[0m have been.\n"
      ]
     },
     "metadata": {},
     "output_type": "display_data"
    },
    {
     "name": "stdout",
     "output_type": "stream",
     "text": [
      "[('model', 0.318), ('covid', 0.3014), ('transition', 0.2848), ('remote', 0.2585), ('team', 0.2109), ('might', 0.186), ('already', 0.1244), ('were', 0.1239), ('been', 0.1189), ('not', 0.1184)]\n"
     ]
    },
    {
     "data": {
      "text/html": [
       "<pre style=\"white-space:pre;overflow-x:auto;line-height:normal;font-family:Menlo,'DejaVu Sans Mono',consolas,'Courier New',monospace\"><span style=\"color: #000000; text-decoration-color: #000000; background-color: #ffff00\">Similar</span>\n",
       "</pre>\n"
      ],
      "text/plain": [
       "\u001b[30;48;2;255;255;0mSimilar\u001b[0m\n"
      ]
     },
     "metadata": {},
     "output_type": "display_data"
    },
    {
     "name": "stdout",
     "output_type": "stream",
     "text": [
      "[('similar', 0.9933)]\n"
     ]
    },
    {
     "data": {
      "text/html": [
       "<pre style=\"white-space:pre;overflow-x:auto;line-height:normal;font-family:Menlo,'DejaVu Sans Mono',consolas,'Courier New',monospace\">The only aspect bringing this <span style=\"color: #000000; text-decoration-color: #000000; background-color: #ffff00\">rating</span> <span style=\"color: #000000; text-decoration-color: #000000; background-color: #ffff00\">down</span> is that the <span style=\"color: #000000; text-decoration-color: #000000; background-color: #ffff00\">contract</span> <span style=\"color: #000000; text-decoration-color: #000000; background-color: #ffff00\">finalization</span> took very long. \n",
       "<span style=\"color: #000000; text-decoration-color: #000000; background-color: #ffff00\">Escalation</span> in <span style=\"color: #000000; text-decoration-color: #000000; background-color: #ffff00\">Q2</span> 2020, <span style=\"color: #000000; text-decoration-color: #000000; background-color: #ffff00\">signed</span> in 2021.\n",
       "</pre>\n"
      ],
      "text/plain": [
       "The only aspect bringing this \u001b[30;48;2;255;255;0mrating\u001b[0m \u001b[30;48;2;255;255;0mdown\u001b[0m is that the \u001b[30;48;2;255;255;0mcontract\u001b[0m \u001b[30;48;2;255;255;0mfinalization\u001b[0m took very long. \n",
       "\u001b[30;48;2;255;255;0mEscalation\u001b[0m in \u001b[30;48;2;255;255;0mQ2\u001b[0m 2020, \u001b[30;48;2;255;255;0msigned\u001b[0m in 2021.\n"
      ]
     },
     "metadata": {},
     "output_type": "display_data"
    },
    {
     "name": "stdout",
     "output_type": "stream",
     "text": [
      "[('escalation', 0.4049), ('2021', 0.4047), ('finalization', 0.3995), ('2020', 0.3717), ('q2', 0.3066), ('contract', 0.3027), ('rating', 0.2148), ('long', 0.1955), ('signed', 0.1906), ('down', 0.1669)]\n"
     ]
    },
    {
     "data": {
      "text/html": [
       "<pre style=\"white-space:pre;overflow-x:auto;line-height:normal;font-family:Menlo,'DejaVu Sans Mono',consolas,'Courier New',monospace\"><span style=\"color: #000000; text-decoration-color: #000000; background-color: #ffff00\">Very</span> <span style=\"color: #000000; text-decoration-color: #000000; background-color: #ffff00\">well</span> <span style=\"color: #000000; text-decoration-color: #000000; background-color: #ffff00\">supported</span> <span style=\"color: #000000; text-decoration-color: #000000; background-color: #ffff00\">and</span> <span style=\"color: #000000; text-decoration-color: #000000; background-color: #ffff00\">managed</span> <span style=\"color: #000000; text-decoration-color: #000000; background-color: #ffff00\">the</span> <span style=\"color: #000000; text-decoration-color: #000000; background-color: #ffff00\">partial</span> <span style=\"color: #000000; text-decoration-color: #000000; background-color: #ffff00\">VAT</span> <span style=\"color: #000000; text-decoration-color: #000000; background-color: #ffff00\">insourcing</span>\n",
       "</pre>\n"
      ],
      "text/plain": [
       "\u001b[30;48;2;255;255;0mVery\u001b[0m \u001b[30;48;2;255;255;0mwell\u001b[0m \u001b[30;48;2;255;255;0msupported\u001b[0m \u001b[30;48;2;255;255;0mand\u001b[0m \u001b[30;48;2;255;255;0mmanaged\u001b[0m \u001b[30;48;2;255;255;0mthe\u001b[0m \u001b[30;48;2;255;255;0mpartial\u001b[0m \u001b[30;48;2;255;255;0mVAT\u001b[0m \u001b[30;48;2;255;255;0minsourcing\u001b[0m\n"
      ]
     },
     "metadata": {},
     "output_type": "display_data"
    },
    {
     "name": "stdout",
     "output_type": "stream",
     "text": [
      "[('insourcing', 0.5033), ('vat', 0.4544), ('managed', 0.3862), ('supported', 0.3296), ('partial', 0.2192), ('very', 0.1253), ('the', 0.0914), ('and', 0.0861), ('well', 0.0797)]\n"
     ]
    },
    {
     "data": {
      "text/html": [
       "<pre style=\"white-space:pre;overflow-x:auto;line-height:normal;font-family:Menlo,'DejaVu Sans Mono',consolas,'Courier New',monospace\">I <span style=\"color: #000000; text-decoration-color: #000000; background-color: #ffff00\">enjoy</span> very much working <span style=\"color: #000000; text-decoration-color: #000000; background-color: #ffff00\">with</span> Deloitte. Always new <span style=\"color: #000000; text-decoration-color: #000000; background-color: #ffff00\">insights</span> and helping to <span style=\"color: #000000; text-decoration-color: #000000; background-color: #ffff00\">define</span> the <span style=\"color: #000000; text-decoration-color: #000000; background-color: #ffff00\">next</span> \n",
       "<span style=\"color: #000000; text-decoration-color: #000000; background-color: #ffff00\">strategic</span> <span style=\"color: #000000; text-decoration-color: #000000; background-color: #ffff00\">level</span> <span style=\"color: #000000; text-decoration-color: #000000; background-color: #ffff00\">for</span> the <span style=\"color: #000000; text-decoration-color: #000000; background-color: #ffff00\">company</span>\n",
       "</pre>\n"
      ],
      "text/plain": [
       "I \u001b[30;48;2;255;255;0menjoy\u001b[0m very much working \u001b[30;48;2;255;255;0mwith\u001b[0m Deloitte. Always new \u001b[30;48;2;255;255;0minsights\u001b[0m and helping to \u001b[30;48;2;255;255;0mdefine\u001b[0m the \u001b[30;48;2;255;255;0mnext\u001b[0m \n",
       "\u001b[30;48;2;255;255;0mstrategic\u001b[0m \u001b[30;48;2;255;255;0mlevel\u001b[0m \u001b[30;48;2;255;255;0mfor\u001b[0m the \u001b[30;48;2;255;255;0mcompany\u001b[0m\n"
      ]
     },
     "metadata": {},
     "output_type": "display_data"
    },
    {
     "name": "stdout",
     "output_type": "stream",
     "text": [
      "[('company', 0.4165), ('strategic', 0.4106), ('deloitte', 0.2596), ('next', 0.1885), ('insights', 0.1802), ('define', 0.1699), ('for', 0.1636), ('level', 0.1486), ('enjoy', 0.144), ('with', 0.1404)]\n"
     ]
    },
    {
     "data": {
      "text/html": [
       "<pre style=\"white-space:pre;overflow-x:auto;line-height:normal;font-family:Menlo,'DejaVu Sans Mono',consolas,'Courier New',monospace\"><span style=\"color: #000000; text-decoration-color: #000000; background-color: #ffff00\">Very</span> <span style=\"color: #000000; text-decoration-color: #000000; background-color: #ffff00\">independent</span> <span style=\"color: #000000; text-decoration-color: #000000; background-color: #ffff00\">opinions</span> <span style=\"color: #000000; text-decoration-color: #000000; background-color: #ffff00\">were</span> provided, <span style=\"color: #000000; text-decoration-color: #000000; background-color: #ffff00\">but</span> <span style=\"color: #000000; text-decoration-color: #000000; background-color: #ffff00\">also</span> <span style=\"color: #000000; text-decoration-color: #000000; background-color: #ffff00\">very</span> <span style=\"color: #000000; text-decoration-color: #000000; background-color: #ffff00\">good</span> <span style=\"color: #000000; text-decoration-color: #000000; background-color: #ffff00\">active</span> <span style=\"color: #000000; text-decoration-color: #000000; background-color: #ffff00\">listeners</span>\n",
       "</pre>\n"
      ],
      "text/plain": [
       "\u001b[30;48;2;255;255;0mVery\u001b[0m \u001b[30;48;2;255;255;0mindependent\u001b[0m \u001b[30;48;2;255;255;0mopinions\u001b[0m \u001b[30;48;2;255;255;0mwere\u001b[0m provided, \u001b[30;48;2;255;255;0mbut\u001b[0m \u001b[30;48;2;255;255;0malso\u001b[0m \u001b[30;48;2;255;255;0mvery\u001b[0m \u001b[30;48;2;255;255;0mgood\u001b[0m \u001b[30;48;2;255;255;0mactive\u001b[0m \u001b[30;48;2;255;255;0mlisteners\u001b[0m\n"
      ]
     },
     "metadata": {},
     "output_type": "display_data"
    },
    {
     "name": "stdout",
     "output_type": "stream",
     "text": [
      "[('listeners', 0.4895), ('opinions', 0.4562), ('independent', 0.3599), ('active', 0.2552), ('good', 0.209), ('also', 0.1663), ('very', 0.1579), ('were', 0.1565), ('provided', 0.148), ('but', 0.1164)]\n"
     ]
    },
    {
     "data": {
      "text/html": [
       "<pre style=\"white-space:pre;overflow-x:auto;line-height:normal;font-family:Menlo,'DejaVu Sans Mono',consolas,'Courier New',monospace\">Always <span style=\"color: #000000; text-decoration-color: #000000; background-color: #ffff00\">nice</span> to have physical interactions... At least it will help to further build <span style=\"color: #000000; text-decoration-color: #000000; background-color: #ffff00\">our</span> \n",
       "relations. if this would have <span style=\"color: #000000; text-decoration-color: #000000; background-color: #ffff00\">been</span> the first time I would have <span style=\"color: #000000; text-decoration-color: #000000; background-color: #ffff00\">worked</span> <span style=\"color: #000000; text-decoration-color: #000000; background-color: #ffff00\">with</span> Deloitte, and not \n",
       "knowing Lieven and the others, I wouldn't have <span style=\"color: #000000; text-decoration-color: #000000; background-color: #ffff00\">had</span> as much <span style=\"color: #000000; text-decoration-color: #000000; background-color: #ffff00\">trust</span> as I have today\n",
       "</pre>\n"
      ],
      "text/plain": [
       "Always \u001b[30;48;2;255;255;0mnice\u001b[0m to have physical interactions... At least it will help to further build \u001b[30;48;2;255;255;0mour\u001b[0m \n",
       "relations. if this would have \u001b[30;48;2;255;255;0mbeen\u001b[0m the first time I would have \u001b[30;48;2;255;255;0mworked\u001b[0m \u001b[30;48;2;255;255;0mwith\u001b[0m Deloitte, and not \n",
       "knowing Lieven and the others, I wouldn't have \u001b[30;48;2;255;255;0mhad\u001b[0m as much \u001b[30;48;2;255;255;0mtrust\u001b[0m as I have today\n"
      ]
     },
     "metadata": {},
     "output_type": "display_data"
    },
    {
     "name": "stdout",
     "output_type": "stream",
     "text": [
      "[('trust', 0.3917), ('interactions', 0.3455), ('relations', 0.3038), ('our', 0.1989), ('nice', 0.1952), ('with', 0.1699), ('worked', 0.166), ('had', 0.1587), ('deloitte', 0.149), ('been', 0.1459)]\n"
     ]
    },
    {
     "data": {
      "text/html": [
       "<pre style=\"white-space:pre;overflow-x:auto;line-height:normal;font-family:Menlo,'DejaVu Sans Mono',consolas,'Courier New',monospace\">Very <span style=\"color: #000000; text-decoration-color: #000000; background-color: #ffff00\">pleased</span> with the outcome, and the flexibility, both in time and content, displayed by \n",
       "the <span style=\"color: #000000; text-decoration-color: #000000; background-color: #ffff00\">team</span> Very <span style=\"color: #000000; text-decoration-color: #000000; background-color: #ffff00\">reactive</span> when a some point in the <span style=\"color: #000000; text-decoration-color: #000000; background-color: #ffff00\">process</span> <span style=\"color: #000000; text-decoration-color: #000000; background-color: #ffff00\">we</span> <span style=\"color: #000000; text-decoration-color: #000000; background-color: #ffff00\">had</span> a \"weaker\" <span style=\"color: #000000; text-decoration-color: #000000; background-color: #ffff00\">workshop</span>\n",
       "</pre>\n"
      ],
      "text/plain": [
       "Very \u001b[30;48;2;255;255;0mpleased\u001b[0m with the outcome, and the flexibility, both in time and content, displayed by \n",
       "the \u001b[30;48;2;255;255;0mteam\u001b[0m Very \u001b[30;48;2;255;255;0mreactive\u001b[0m when a some point in the \u001b[30;48;2;255;255;0mprocess\u001b[0m \u001b[30;48;2;255;255;0mwe\u001b[0m \u001b[30;48;2;255;255;0mhad\u001b[0m a \"weaker\" \u001b[30;48;2;255;255;0mworkshop\u001b[0m\n"
      ]
     },
     "metadata": {},
     "output_type": "display_data"
    },
    {
     "name": "stdout",
     "output_type": "stream",
     "text": [
      "[('outcome', 0.395), ('team', 0.3742), ('reactive', 0.3611), ('flexibility', 0.3395), ('pleased', 0.3391), ('weaker', 0.2897), ('workshop', 0.276), ('we', 0.2758), ('had', 0.2609), ('process', 0.2344)]\n"
     ]
    },
    {
     "data": {
      "text/html": [
       "<pre style=\"white-space:pre;overflow-x:auto;line-height:normal;font-family:Menlo,'DejaVu Sans Mono',consolas,'Courier New',monospace\"><span style=\"color: #000000; text-decoration-color: #000000; background-color: #ffff00\">For</span> <span style=\"color: #000000; text-decoration-color: #000000; background-color: #ffff00\">sure</span>\n",
       "</pre>\n"
      ],
      "text/plain": [
       "\u001b[30;48;2;255;255;0mFor\u001b[0m \u001b[30;48;2;255;255;0msure\u001b[0m\n"
      ]
     },
     "metadata": {},
     "output_type": "display_data"
    },
    {
     "name": "stdout",
     "output_type": "stream",
     "text": [
      "[('sure', 0.9287), ('for', 0.5506)]\n"
     ]
    },
    {
     "data": {
      "text/html": [
       "<pre style=\"white-space:pre;overflow-x:auto;line-height:normal;font-family:Menlo,'DejaVu Sans Mono',consolas,'Courier New',monospace\">Yes, <span style=\"color: #000000; text-decoration-color: #000000; background-color: #ffff00\">open</span> <span style=\"color: #000000; text-decoration-color: #000000; background-color: #ffff00\">and</span> <span style=\"color: #000000; text-decoration-color: #000000; background-color: #ffff00\">efficient</span> <span style=\"color: #000000; text-decoration-color: #000000; background-color: #ffff00\">collaboration</span> <span style=\"color: #000000; text-decoration-color: #000000; background-color: #ffff00\">between</span> <span style=\"color: #000000; text-decoration-color: #000000; background-color: #ffff00\">Deloitte</span> <span style=\"color: #000000; text-decoration-color: #000000; background-color: #ffff00\">and</span> <span style=\"color: #000000; text-decoration-color: #000000; background-color: #ffff00\">UCB</span> teams. <span style=\"color: #000000; text-decoration-color: #000000; background-color: #ffff00\">Efficient</span> but not <span style=\"color: #000000; text-decoration-color: #000000; background-color: #ffff00\">too</span> \n",
       "pushy\n",
       "</pre>\n"
      ],
      "text/plain": [
       "Yes, \u001b[30;48;2;255;255;0mopen\u001b[0m \u001b[30;48;2;255;255;0mand\u001b[0m \u001b[30;48;2;255;255;0mefficient\u001b[0m \u001b[30;48;2;255;255;0mcollaboration\u001b[0m \u001b[30;48;2;255;255;0mbetween\u001b[0m \u001b[30;48;2;255;255;0mDeloitte\u001b[0m \u001b[30;48;2;255;255;0mand\u001b[0m \u001b[30;48;2;255;255;0mUCB\u001b[0m teams. \u001b[30;48;2;255;255;0mEfficient\u001b[0m but not \u001b[30;48;2;255;255;0mtoo\u001b[0m \n",
       "pushy\n"
      ]
     },
     "metadata": {},
     "output_type": "display_data"
    },
    {
     "name": "stdout",
     "output_type": "stream",
     "text": [
      "[('collaboration', 0.5514), ('ucb', 0.3968), ('teams', 0.3416), ('efficient', 0.2835), ('deloitte', 0.2651), ('yes', 0.2279), ('between', 0.2077), ('and', 0.1792), ('open', 0.1603), ('too', 0.1445)]\n"
     ]
    },
    {
     "data": {
      "text/html": [
       "<pre style=\"white-space:pre;overflow-x:auto;line-height:normal;font-family:Menlo,'DejaVu Sans Mono',consolas,'Courier New',monospace\">Yes, see above. Co-creation <span style=\"color: #000000; text-decoration-color: #000000; background-color: #ffff00\">process</span> for the <span style=\"color: #000000; text-decoration-color: #000000; background-color: #ffff00\">final</span> <span style=\"color: #000000; text-decoration-color: #000000; background-color: #ffff00\">slide</span> deck and \"one pager\". Multiple <span style=\"color: #000000; text-decoration-color: #000000; background-color: #ffff00\">review</span>\n",
       "<span style=\"color: #000000; text-decoration-color: #000000; background-color: #ffff00\">sessions</span> <span style=\"color: #000000; text-decoration-color: #000000; background-color: #ffff00\">organized</span> with <span style=\"color: #000000; text-decoration-color: #000000; background-color: #ffff00\">steerco</span> and main <span style=\"color: #000000; text-decoration-color: #000000; background-color: #ffff00\">stakeholders</span>\n",
       "</pre>\n"
      ],
      "text/plain": [
       "Yes, see above. Co-creation \u001b[30;48;2;255;255;0mprocess\u001b[0m for the \u001b[30;48;2;255;255;0mfinal\u001b[0m \u001b[30;48;2;255;255;0mslide\u001b[0m deck and \"one pager\". Multiple \u001b[30;48;2;255;255;0mreview\u001b[0m\n",
       "\u001b[30;48;2;255;255;0msessions\u001b[0m \u001b[30;48;2;255;255;0morganized\u001b[0m with \u001b[30;48;2;255;255;0msteerco\u001b[0m and main \u001b[30;48;2;255;255;0mstakeholders\u001b[0m\n"
      ]
     },
     "metadata": {},
     "output_type": "display_data"
    },
    {
     "name": "stdout",
     "output_type": "stream",
     "text": [
      "[('pager', 0.4525), ('stakeholders', 0.4386), ('review', 0.4154), ('slide', 0.3988), ('final', 0.3913), ('organized', 0.3811), ('process', 0.378), ('steerco', 0.373), ('co', 0.3672), ('sessions', 0.3392)]\n"
     ]
    },
    {
     "data": {
      "text/html": [
       "<pre style=\"white-space:pre;overflow-x:auto;line-height:normal;font-family:Menlo,'DejaVu Sans Mono',consolas,'Courier New',monospace\">Face-to-face <span style=\"color: #000000; text-decoration-color: #000000; background-color: #ffff00\">meetigns</span> <span style=\"color: #000000; text-decoration-color: #000000; background-color: #ffff00\">at</span> key <span style=\"color: #000000; text-decoration-color: #000000; background-color: #ffff00\">spets</span> in the <span style=\"color: #000000; text-decoration-color: #000000; background-color: #ffff00\">project</span> (kick-off, major milestones, major \n",
       "workshops, steercos...) while most of the <span style=\"color: #000000; text-decoration-color: #000000; background-color: #ffff00\">work</span> (routine meetings...) should remain <span style=\"color: #000000; text-decoration-color: #000000; background-color: #ffff00\">virtual</span>\n",
       "</pre>\n"
      ],
      "text/plain": [
       "Face-to-face \u001b[30;48;2;255;255;0mmeetigns\u001b[0m \u001b[30;48;2;255;255;0mat\u001b[0m key \u001b[30;48;2;255;255;0mspets\u001b[0m in the \u001b[30;48;2;255;255;0mproject\u001b[0m (kick-off, major milestones, major \n",
       "workshops, steercos...) while most of the \u001b[30;48;2;255;255;0mwork\u001b[0m (routine meetings...) should remain \u001b[30;48;2;255;255;0mvirtual\u001b[0m\n"
      ]
     },
     "metadata": {},
     "output_type": "display_data"
    },
    {
     "name": "stdout",
     "output_type": "stream",
     "text": [
      "[('meetings', 0.5298), ('workshops', 0.5245), ('meetigns', 0.5222), ('virtual', 0.4009), ('milestones', 0.4008), ('project', 0.3954), ('work', 0.3913), ('routine', 0.276), ('at', 0.2708), ('spets', 0.2671)]\n"
     ]
    },
    {
     "data": {
      "text/html": [
       "<pre style=\"white-space:pre;overflow-x:auto;line-height:normal;font-family:Menlo,'DejaVu Sans Mono',consolas,'Courier New',monospace\">The <span style=\"color: #000000; text-decoration-color: #000000; background-color: #ffff00\">project</span> was <span style=\"color: #000000; text-decoration-color: #000000; background-color: #ffff00\">executed</span> 100% remotely, which was for sure <span style=\"color: #000000; text-decoration-color: #000000; background-color: #ffff00\">not</span> easy, but <span style=\"color: #000000; text-decoration-color: #000000; background-color: #ffff00\">did</span> <span style=\"color: #000000; text-decoration-color: #000000; background-color: #ffff00\">not</span> <span style=\"color: #000000; text-decoration-color: #000000; background-color: #ffff00\">impact</span> the \n",
       "<span style=\"color: #000000; text-decoration-color: #000000; background-color: #ffff00\">project</span> neither. <span style=\"color: #000000; text-decoration-color: #000000; background-color: #ffff00\">Efficient</span> set-up in place\n",
       "</pre>\n"
      ],
      "text/plain": [
       "The \u001b[30;48;2;255;255;0mproject\u001b[0m was \u001b[30;48;2;255;255;0mexecuted\u001b[0m 100% remotely, which was for sure \u001b[30;48;2;255;255;0mnot\u001b[0m easy, but \u001b[30;48;2;255;255;0mdid\u001b[0m \u001b[30;48;2;255;255;0mnot\u001b[0m \u001b[30;48;2;255;255;0mimpact\u001b[0m the \n",
       "\u001b[30;48;2;255;255;0mproject\u001b[0m neither. \u001b[30;48;2;255;255;0mEfficient\u001b[0m set-up in place\n"
      ]
     },
     "metadata": {},
     "output_type": "display_data"
    },
    {
     "name": "stdout",
     "output_type": "stream",
     "text": [
      "[('remotely', 0.3929), ('project', 0.3153), ('efficient', 0.2169), ('executed', 0.1816), ('not', 0.1281), ('neither', 0.1164), ('easy', 0.105), ('100', 0.1008), ('did', 0.0928), ('impact', 0.0824)]\n"
     ]
    },
    {
     "data": {
      "text/html": [
       "<pre style=\"white-space:pre;overflow-x:auto;line-height:normal;font-family:Menlo,'DejaVu Sans Mono',consolas,'Courier New',monospace\"><span style=\"color: #000000; text-decoration-color: #000000; background-color: #ffff00\">Great</span> <span style=\"color: #000000; text-decoration-color: #000000; background-color: #ffff00\">collaboration</span>\n",
       "</pre>\n"
      ],
      "text/plain": [
       "\u001b[30;48;2;255;255;0mGreat\u001b[0m \u001b[30;48;2;255;255;0mcollaboration\u001b[0m\n"
      ]
     },
     "metadata": {},
     "output_type": "display_data"
    },
    {
     "name": "stdout",
     "output_type": "stream",
     "text": [
      "[('collaboration', 0.8941), ('great', 0.6388)]\n"
     ]
    },
    {
     "data": {
      "text/html": [
       "<pre style=\"white-space:pre;overflow-x:auto;line-height:normal;font-family:Menlo,'DejaVu Sans Mono',consolas,'Courier New',monospace\">Very good alignment between our <span style=\"color: #000000; text-decoration-color: #000000; background-color: #ffff00\">initial</span> <span style=\"color: #000000; text-decoration-color: #000000; background-color: #ffff00\">request</span> (RFI/RFQ), and the content of Deloitte's \n",
       "proposal. Quick <span style=\"color: #000000; text-decoration-color: #000000; background-color: #ffff00\">onboarding</span> of the <span style=\"color: #000000; text-decoration-color: #000000; background-color: #ffff00\">team</span> as <span style=\"color: #000000; text-decoration-color: #000000; background-color: #ffff00\">supported</span> by relevant <span style=\"color: #000000; text-decoration-color: #000000; background-color: #ffff00\">competences</span> and <span style=\"color: #000000; text-decoration-color: #000000; background-color: #ffff00\">experience</span>\n",
       "</pre>\n"
      ],
      "text/plain": [
       "Very good alignment between our \u001b[30;48;2;255;255;0minitial\u001b[0m \u001b[30;48;2;255;255;0mrequest\u001b[0m (RFI/RFQ), and the content of Deloitte's \n",
       "proposal. Quick \u001b[30;48;2;255;255;0monboarding\u001b[0m of the \u001b[30;48;2;255;255;0mteam\u001b[0m as \u001b[30;48;2;255;255;0msupported\u001b[0m by relevant \u001b[30;48;2;255;255;0mcompetences\u001b[0m and \u001b[30;48;2;255;255;0mexperience\u001b[0m\n"
      ]
     },
     "metadata": {},
     "output_type": "display_data"
    },
    {
     "name": "stdout",
     "output_type": "stream",
     "text": [
      "[('proposal', 0.3659), ('competences', 0.351), ('rfi', 0.319), ('team', 0.2833), ('initial', 0.2764), ('experience', 0.2668), ('request', 0.2655), ('supported', 0.2573), ('deloitte', 0.2461), ('onboarding', 0.2419)]\n"
     ]
    },
    {
     "data": {
      "text/html": [
       "<pre style=\"white-space:pre;overflow-x:auto;line-height:normal;font-family:Menlo,'DejaVu Sans Mono',consolas,'Courier New',monospace\"><span style=\"color: #000000; text-decoration-color: #000000; background-color: #ffff00\">Not</span> a <span style=\"color: #000000; text-decoration-color: #000000; background-color: #ffff00\">key</span> <span style=\"color: #000000; text-decoration-color: #000000; background-color: #ffff00\">topic</span> <span style=\"color: #000000; text-decoration-color: #000000; background-color: #ffff00\">for</span> <span style=\"color: #000000; text-decoration-color: #000000; background-color: #ffff00\">this</span> <span style=\"color: #000000; text-decoration-color: #000000; background-color: #ffff00\">project</span>\n",
       "</pre>\n"
      ],
      "text/plain": [
       "\u001b[30;48;2;255;255;0mNot\u001b[0m a \u001b[30;48;2;255;255;0mkey\u001b[0m \u001b[30;48;2;255;255;0mtopic\u001b[0m \u001b[30;48;2;255;255;0mfor\u001b[0m \u001b[30;48;2;255;255;0mthis\u001b[0m \u001b[30;48;2;255;255;0mproject\u001b[0m\n"
      ]
     },
     "metadata": {},
     "output_type": "display_data"
    },
    {
     "name": "stdout",
     "output_type": "stream",
     "text": [
      "[('topic', 0.6491), ('project', 0.5954), ('not', 0.424), ('for', 0.3624), ('this', 0.2834), ('key', 0.1296)]\n"
     ]
    },
    {
     "data": {
      "text/html": [
       "<pre style=\"white-space:pre;overflow-x:auto;line-height:normal;font-family:Menlo,'DejaVu Sans Mono',consolas,'Courier New',monospace\"><span style=\"color: #000000; text-decoration-color: #000000; background-color: #ffff00\">As</span> <span style=\"color: #000000; text-decoration-color: #000000; background-color: #ffff00\">expected</span>\n",
       "</pre>\n"
      ],
      "text/plain": [
       "\u001b[30;48;2;255;255;0mAs\u001b[0m \u001b[30;48;2;255;255;0mexpected\u001b[0m\n"
      ]
     },
     "metadata": {},
     "output_type": "display_data"
    },
    {
     "name": "stdout",
     "output_type": "stream",
     "text": [
      "[('expected', 0.8708), ('as', 0.6027)]\n"
     ]
    },
    {
     "data": {
      "text/html": [
       "<pre style=\"white-space:pre;overflow-x:auto;line-height:normal;font-family:Menlo,'DejaVu Sans Mono',consolas,'Courier New',monospace\">Yes, see question 2 Very <span style=\"color: #000000; text-decoration-color: #000000; background-color: #ffff00\">please</span> <span style=\"color: #000000; text-decoration-color: #000000; background-color: #ffff00\">with</span> <span style=\"color: #000000; text-decoration-color: #000000; background-color: #ffff00\">the</span> content <span style=\"color: #000000; text-decoration-color: #000000; background-color: #ffff00\">and</span> frequence of <span style=\"color: #000000; text-decoration-color: #000000; background-color: #ffff00\">the</span> <span style=\"color: #000000; text-decoration-color: #000000; background-color: #ffff00\">touchpoints</span> <span style=\"color: #000000; text-decoration-color: #000000; background-color: #ffff00\">with</span> \n",
       "Deloitte. <span style=\"color: #000000; text-decoration-color: #000000; background-color: #ffff00\">Frequent</span> <span style=\"color: #000000; text-decoration-color: #000000; background-color: #ffff00\">and</span> <span style=\"color: #000000; text-decoration-color: #000000; background-color: #ffff00\">efficient</span> <span style=\"color: #000000; text-decoration-color: #000000; background-color: #ffff00\">witout</span> being too <span style=\"color: #000000; text-decoration-color: #000000; background-color: #ffff00\">pushy</span>\n",
       "</pre>\n"
      ],
      "text/plain": [
       "Yes, see question 2 Very \u001b[30;48;2;255;255;0mplease\u001b[0m \u001b[30;48;2;255;255;0mwith\u001b[0m \u001b[30;48;2;255;255;0mthe\u001b[0m content \u001b[30;48;2;255;255;0mand\u001b[0m frequence of \u001b[30;48;2;255;255;0mthe\u001b[0m \u001b[30;48;2;255;255;0mtouchpoints\u001b[0m \u001b[30;48;2;255;255;0mwith\u001b[0m \n",
       "Deloitte. \u001b[30;48;2;255;255;0mFrequent\u001b[0m \u001b[30;48;2;255;255;0mand\u001b[0m \u001b[30;48;2;255;255;0mefficient\u001b[0m \u001b[30;48;2;255;255;0mwitout\u001b[0m being too \u001b[30;48;2;255;255;0mpushy\u001b[0m\n"
      ]
     },
     "metadata": {},
     "output_type": "display_data"
    },
    {
     "name": "stdout",
     "output_type": "stream",
     "text": [
      "[('pushy', 0.3448), ('touchpoints', 0.3293), ('efficient', 0.3195), ('deloitte', 0.3008), ('frequent', 0.2595), ('and', 0.2119), ('with', 0.2087), ('witout', 0.1998), ('the', 0.1884), ('please', 0.1836)]\n"
     ]
    },
    {
     "data": {
      "text/html": [
       "<pre style=\"white-space:pre;overflow-x:auto;line-height:normal;font-family:Menlo,'DejaVu Sans Mono',consolas,'Courier New',monospace\"><span style=\"color: #000000; text-decoration-color: #000000; background-color: #ffff00\">Good</span> <span style=\"color: #000000; text-decoration-color: #000000; background-color: #ffff00\">support</span> <span style=\"color: #000000; text-decoration-color: #000000; background-color: #ffff00\">across</span> <span style=\"color: #000000; text-decoration-color: #000000; background-color: #ffff00\">the</span> board, <span style=\"color: #000000; text-decoration-color: #000000; background-color: #ffff00\">from</span> <span style=\"color: #000000; text-decoration-color: #000000; background-color: #ffff00\">strategic</span> <span style=\"color: #000000; text-decoration-color: #000000; background-color: #ffff00\">topics</span> <span style=\"color: #000000; text-decoration-color: #000000; background-color: #ffff00\">to</span> broad <span style=\"color: #000000; text-decoration-color: #000000; background-color: #ffff00\">suggestions</span> on <span style=\"color: #000000; text-decoration-color: #000000; background-color: #ffff00\">the</span> <span style=\"color: #000000; text-decoration-color: #000000; background-color: #ffff00\">technology</span>\n",
       "</pre>\n"
      ],
      "text/plain": [
       "\u001b[30;48;2;255;255;0mGood\u001b[0m \u001b[30;48;2;255;255;0msupport\u001b[0m \u001b[30;48;2;255;255;0macross\u001b[0m \u001b[30;48;2;255;255;0mthe\u001b[0m board, \u001b[30;48;2;255;255;0mfrom\u001b[0m \u001b[30;48;2;255;255;0mstrategic\u001b[0m \u001b[30;48;2;255;255;0mtopics\u001b[0m \u001b[30;48;2;255;255;0mto\u001b[0m broad \u001b[30;48;2;255;255;0msuggestions\u001b[0m on \u001b[30;48;2;255;255;0mthe\u001b[0m \u001b[30;48;2;255;255;0mtechnology\u001b[0m\n"
      ]
     },
     "metadata": {},
     "output_type": "display_data"
    },
    {
     "name": "stdout",
     "output_type": "stream",
     "text": [
      "[('technology', 0.5096), ('strategic', 0.4881), ('support', 0.4852), ('suggestions', 0.4605), ('topics', 0.417), ('good', 0.3728), ('the', 0.2481), ('from', 0.2363), ('to', 0.228), ('across', 0.2278)]\n"
     ]
    },
    {
     "data": {
      "text/html": [
       "<pre style=\"white-space:pre;overflow-x:auto;line-height:normal;font-family:Menlo,'DejaVu Sans Mono',consolas,'Courier New',monospace\"><span style=\"color: #000000; text-decoration-color: #000000; background-color: #ffff00\">multiple</span> <span style=\"color: #000000; text-decoration-color: #000000; background-color: #ffff00\">iterations</span> <span style=\"color: #000000; text-decoration-color: #000000; background-color: #ffff00\">for</span> <span style=\"color: #000000; text-decoration-color: #000000; background-color: #ffff00\">adapting</span> the <span style=\"color: #000000; text-decoration-color: #000000; background-color: #ffff00\">approach</span> to <span style=\"color: #000000; text-decoration-color: #000000; background-color: #ffff00\">deliver</span> <span style=\"color: #000000; text-decoration-color: #000000; background-color: #ffff00\">results</span> - requiring significant <span style=\"color: #000000; text-decoration-color: #000000; background-color: #ffff00\">UCB</span> \n",
       "time/coaching/involvement\n",
       "</pre>\n"
      ],
      "text/plain": [
       "\u001b[30;48;2;255;255;0mmultiple\u001b[0m \u001b[30;48;2;255;255;0miterations\u001b[0m \u001b[30;48;2;255;255;0mfor\u001b[0m \u001b[30;48;2;255;255;0madapting\u001b[0m the \u001b[30;48;2;255;255;0mapproach\u001b[0m to \u001b[30;48;2;255;255;0mdeliver\u001b[0m \u001b[30;48;2;255;255;0mresults\u001b[0m - requiring significant \u001b[30;48;2;255;255;0mUCB\u001b[0m \n",
       "time/coaching/involvement\n"
      ]
     },
     "metadata": {},
     "output_type": "display_data"
    },
    {
     "name": "stdout",
     "output_type": "stream",
     "text": [
      "[('ucb', 0.4584), ('approach', 0.4279), ('results', 0.4073), ('adapting', 0.396), ('coaching', 0.3796), ('iterations', 0.3762), ('involvement', 0.345), ('deliver', 0.3179), ('multiple', 0.2611), ('for', 0.2401)]\n"
     ]
    },
    {
     "data": {
      "text/html": [
       "<pre style=\"white-space:pre;overflow-x:auto;line-height:normal;font-family:Menlo,'DejaVu Sans Mono',consolas,'Courier New',monospace\"><span style=\"color: #000000; text-decoration-color: #000000; background-color: #ffff00\">was</span> <span style=\"color: #000000; text-decoration-color: #000000; background-color: #ffff00\">challenging</span> <span style=\"color: #000000; text-decoration-color: #000000; background-color: #ffff00\">for</span> <span style=\"color: #000000; text-decoration-color: #000000; background-color: #ffff00\">change</span> <span style=\"color: #000000; text-decoration-color: #000000; background-color: #ffff00\">management</span> <span style=\"color: #000000; text-decoration-color: #000000; background-color: #ffff00\">workshops</span> - <span style=\"color: #000000; text-decoration-color: #000000; background-color: #ffff00\">interactive</span> <span style=\"color: #000000; text-decoration-color: #000000; background-color: #ffff00\">session</span> <span style=\"color: #000000; text-decoration-color: #000000; background-color: #ffff00\">at</span> <span style=\"color: #000000; text-decoration-color: #000000; background-color: #ffff00\">risk</span>\n",
       "</pre>\n"
      ],
      "text/plain": [
       "\u001b[30;48;2;255;255;0mwas\u001b[0m \u001b[30;48;2;255;255;0mchallenging\u001b[0m \u001b[30;48;2;255;255;0mfor\u001b[0m \u001b[30;48;2;255;255;0mchange\u001b[0m \u001b[30;48;2;255;255;0mmanagement\u001b[0m \u001b[30;48;2;255;255;0mworkshops\u001b[0m - \u001b[30;48;2;255;255;0minteractive\u001b[0m \u001b[30;48;2;255;255;0msession\u001b[0m \u001b[30;48;2;255;255;0mat\u001b[0m \u001b[30;48;2;255;255;0mrisk\u001b[0m\n"
      ]
     },
     "metadata": {},
     "output_type": "display_data"
    },
    {
     "name": "stdout",
     "output_type": "stream",
     "text": [
      "[('workshops', 0.52), ('management', 0.4593), ('session', 0.4468), ('change', 0.4074), ('challenging', 0.3925), ('interactive', 0.3778), ('risk', 0.3262), ('for', 0.2599), ('at', 0.2186), ('was', 0.1064)]\n"
     ]
    },
    {
     "data": {
      "text/html": [
       "<pre style=\"white-space:pre;overflow-x:auto;line-height:normal;font-family:Menlo,'DejaVu Sans Mono',consolas,'Courier New',monospace\"><span style=\"color: #000000; text-decoration-color: #000000; background-color: #ffff00\">Integration</span> <span style=\"color: #000000; text-decoration-color: #000000; background-color: #ffff00\">very</span> <span style=\"color: #000000; text-decoration-color: #000000; background-color: #ffff00\">good</span> <span style=\"color: #000000; text-decoration-color: #000000; background-color: #ffff00\">while</span> <span style=\"color: #000000; text-decoration-color: #000000; background-color: #ffff00\">productive</span> <span style=\"color: #000000; text-decoration-color: #000000; background-color: #ffff00\">way</span> <span style=\"color: #000000; text-decoration-color: #000000; background-color: #ffff00\">to</span> <span style=\"color: #000000; text-decoration-color: #000000; background-color: #ffff00\">improve</span> (ref <span style=\"color: #000000; text-decoration-color: #000000; background-color: #ffff00\">question</span> #2)\n",
       "</pre>\n"
      ],
      "text/plain": [
       "\u001b[30;48;2;255;255;0mIntegration\u001b[0m \u001b[30;48;2;255;255;0mvery\u001b[0m \u001b[30;48;2;255;255;0mgood\u001b[0m \u001b[30;48;2;255;255;0mwhile\u001b[0m \u001b[30;48;2;255;255;0mproductive\u001b[0m \u001b[30;48;2;255;255;0mway\u001b[0m \u001b[30;48;2;255;255;0mto\u001b[0m \u001b[30;48;2;255;255;0mimprove\u001b[0m (ref \u001b[30;48;2;255;255;0mquestion\u001b[0m #2)\n"
      ]
     },
     "metadata": {},
     "output_type": "display_data"
    },
    {
     "name": "stdout",
     "output_type": "stream",
     "text": [
      "[('integration', 0.6737), ('improve', 0.5959), ('productive', 0.5155), ('good', 0.3385), ('ref', 0.2441), ('way', 0.2085), ('very', 0.1804), ('to', 0.1796), ('while', 0.1591), ('question', 0.0895)]\n"
     ]
    },
    {
     "data": {
      "text/html": [
       "<pre style=\"white-space:pre;overflow-x:auto;line-height:normal;font-family:Menlo,'DejaVu Sans Mono',consolas,'Courier New',monospace\">could have been <span style=\"color: #000000; text-decoration-color: #000000; background-color: #ffff00\">more</span> proactive/directive in the <span style=\"color: #000000; text-decoration-color: #000000; background-color: #ffff00\">approach</span> to keep <span style=\"color: #000000; text-decoration-color: #000000; background-color: #ffff00\">us</span> focused. In particular, \n",
       "<span style=\"color: #000000; text-decoration-color: #000000; background-color: #ffff00\">we</span> <span style=\"color: #000000; text-decoration-color: #000000; background-color: #ffff00\">struggled</span> with <span style=\"color: #000000; text-decoration-color: #000000; background-color: #ffff00\">facilitation</span> of <span style=\"color: #000000; text-decoration-color: #000000; background-color: #ffff00\">change</span> labs sessions.\n",
       "</pre>\n"
      ],
      "text/plain": [
       "could have been \u001b[30;48;2;255;255;0mmore\u001b[0m proactive/directive in the \u001b[30;48;2;255;255;0mapproach\u001b[0m to keep \u001b[30;48;2;255;255;0mus\u001b[0m focused. In particular, \n",
       "\u001b[30;48;2;255;255;0mwe\u001b[0m \u001b[30;48;2;255;255;0mstruggled\u001b[0m with \u001b[30;48;2;255;255;0mfacilitation\u001b[0m of \u001b[30;48;2;255;255;0mchange\u001b[0m labs sessions.\n"
      ]
     },
     "metadata": {},
     "output_type": "display_data"
    },
    {
     "name": "stdout",
     "output_type": "stream",
     "text": [
      "[('proactive', 0.4067), ('focused', 0.3705), ('sessions', 0.3483), ('change', 0.3048), ('facilitation', 0.2473), ('we', 0.2379), ('approach', 0.2335), ('struggled', 0.2045), ('more', 0.1545), ('us', 0.1507)]\n"
     ]
    },
    {
     "data": {
      "text/html": [
       "<pre style=\"white-space:pre;overflow-x:auto;line-height:normal;font-family:Menlo,'DejaVu Sans Mono',consolas,'Courier New',monospace\"><span style=\"color: #000000; text-decoration-color: #000000; background-color: #ffff00\">did</span> <span style=\"color: #000000; text-decoration-color: #000000; background-color: #ffff00\">not</span> <span style=\"color: #000000; text-decoration-color: #000000; background-color: #ffff00\">anticipate</span> <span style=\"color: #000000; text-decoration-color: #000000; background-color: #ffff00\">the</span> <span style=\"color: #000000; text-decoration-color: #000000; background-color: #ffff00\">issue</span> of <span style=\"color: #000000; text-decoration-color: #000000; background-color: #ffff00\">workshops</span> <span style=\"color: #000000; text-decoration-color: #000000; background-color: #ffff00\">attendance</span> and <span style=\"color: #000000; text-decoration-color: #000000; background-color: #ffff00\">proposal</span> to spread out / <span style=\"color: #000000; text-decoration-color: #000000; background-color: #ffff00\">prioritize</span> \n",
       "<span style=\"color: #000000; text-decoration-color: #000000; background-color: #ffff00\">the</span> <span style=\"color: #000000; text-decoration-color: #000000; background-color: #ffff00\">effort</span>\n",
       "</pre>\n"
      ],
      "text/plain": [
       "\u001b[30;48;2;255;255;0mdid\u001b[0m \u001b[30;48;2;255;255;0mnot\u001b[0m \u001b[30;48;2;255;255;0manticipate\u001b[0m \u001b[30;48;2;255;255;0mthe\u001b[0m \u001b[30;48;2;255;255;0missue\u001b[0m of \u001b[30;48;2;255;255;0mworkshops\u001b[0m \u001b[30;48;2;255;255;0mattendance\u001b[0m and \u001b[30;48;2;255;255;0mproposal\u001b[0m to spread out / \u001b[30;48;2;255;255;0mprioritize\u001b[0m \n",
       "\u001b[30;48;2;255;255;0mthe\u001b[0m \u001b[30;48;2;255;255;0meffort\u001b[0m\n"
      ]
     },
     "metadata": {},
     "output_type": "display_data"
    },
    {
     "name": "stdout",
     "output_type": "stream",
     "text": [
      "[('prioritize', 0.3925), ('workshops', 0.387), ('attendance', 0.3447), ('proposal', 0.3065), ('effort', 0.2711), ('anticipate', 0.2167), ('not', 0.1933), ('issue', 0.1604), ('the', 0.1318), ('did', 0.1221)]\n"
     ]
    },
    {
     "data": {
      "text/html": [
       "<pre style=\"white-space:pre;overflow-x:auto;line-height:normal;font-family:Menlo,'DejaVu Sans Mono',consolas,'Courier New',monospace\"><span style=\"color: #000000; text-decoration-color: #000000; background-color: #ffff00\">difficult</span> <span style=\"color: #000000; text-decoration-color: #000000; background-color: #ffff00\">time</span> <span style=\"color: #000000; text-decoration-color: #000000; background-color: #ffff00\">when</span> <span style=\"color: #000000; text-decoration-color: #000000; background-color: #ffff00\">reviewing</span> <span style=\"color: #000000; text-decoration-color: #000000; background-color: #ffff00\">plan</span> <span style=\"color: #000000; text-decoration-color: #000000; background-color: #ffff00\">for</span> <span style=\"color: #000000; text-decoration-color: #000000; background-color: #ffff00\">extension</span>\n",
       "</pre>\n"
      ],
      "text/plain": [
       "\u001b[30;48;2;255;255;0mdifficult\u001b[0m \u001b[30;48;2;255;255;0mtime\u001b[0m \u001b[30;48;2;255;255;0mwhen\u001b[0m \u001b[30;48;2;255;255;0mreviewing\u001b[0m \u001b[30;48;2;255;255;0mplan\u001b[0m \u001b[30;48;2;255;255;0mfor\u001b[0m \u001b[30;48;2;255;255;0mextension\u001b[0m\n"
      ]
     },
     "metadata": {},
     "output_type": "display_data"
    },
    {
     "name": "stdout",
     "output_type": "stream",
     "text": [
      "[('reviewing', 0.4417), ('extension', 0.4395), ('plan', 0.3817), ('difficult', 0.2744), ('for', 0.1895), ('time', 0.1537), ('when', 0.1273)]\n"
     ]
    },
    {
     "data": {
      "text/html": [
       "<pre style=\"white-space:pre;overflow-x:auto;line-height:normal;font-family:Menlo,'DejaVu Sans Mono',consolas,'Courier New',monospace\">The <span style=\"color: #000000; text-decoration-color: #000000; background-color: #ffff00\">next</span> normal will be still <span style=\"color: #000000; text-decoration-color: #000000; background-color: #ffff00\">hybrid</span> <span style=\"color: #000000; text-decoration-color: #000000; background-color: #ffff00\">working</span> <span style=\"color: #000000; text-decoration-color: #000000; background-color: #ffff00\">model</span> - need to <span style=\"color: #000000; text-decoration-color: #000000; background-color: #ffff00\">prepare</span> for <span style=\"color: #000000; text-decoration-color: #000000; background-color: #ffff00\">effective</span> 2h \n",
       "<span style=\"color: #000000; text-decoration-color: #000000; background-color: #ffff00\">workshops</span> with <span style=\"color: #000000; text-decoration-color: #000000; background-color: #ffff00\">new</span> <span style=\"color: #000000; text-decoration-color: #000000; background-color: #ffff00\">digital</span> <span style=\"color: #000000; text-decoration-color: #000000; background-color: #ffff00\">tools</span>\n",
       "</pre>\n"
      ],
      "text/plain": [
       "The \u001b[30;48;2;255;255;0mnext\u001b[0m normal will be still \u001b[30;48;2;255;255;0mhybrid\u001b[0m \u001b[30;48;2;255;255;0mworking\u001b[0m \u001b[30;48;2;255;255;0mmodel\u001b[0m - need to \u001b[30;48;2;255;255;0mprepare\u001b[0m for \u001b[30;48;2;255;255;0meffective\u001b[0m 2h \n",
       "\u001b[30;48;2;255;255;0mworkshops\u001b[0m with \u001b[30;48;2;255;255;0mnew\u001b[0m \u001b[30;48;2;255;255;0mdigital\u001b[0m \u001b[30;48;2;255;255;0mtools\u001b[0m\n"
      ]
     },
     "metadata": {},
     "output_type": "display_data"
    },
    {
     "name": "stdout",
     "output_type": "stream",
     "text": [
      "[('workshops', 0.4715), ('tools', 0.3652), ('model', 0.3536), ('digital', 0.3259), ('hybrid', 0.3219), ('working', 0.3198), ('next', 0.2927), ('prepare', 0.2468), ('new', 0.2439), ('effective', 0.2287)]\n"
     ]
    },
    {
     "data": {
      "text/html": [
       "<pre style=\"white-space:pre;overflow-x:auto;line-height:normal;font-family:Menlo,'DejaVu Sans Mono',consolas,'Courier New',monospace\"><span style=\"color: #000000; text-decoration-color: #000000; background-color: #ffff00\">Ann</span> <span style=\"color: #000000; text-decoration-color: #000000; background-color: #ffff00\">provided</span> right <span style=\"color: #000000; text-decoration-color: #000000; background-color: #ffff00\">expertise</span> on <span style=\"color: #000000; text-decoration-color: #000000; background-color: #ffff00\">technical</span> <span style=\"color: #000000; text-decoration-color: #000000; background-color: #ffff00\">content</span> combined to conceptual/visual right \n",
       "<span style=\"color: #000000; text-decoration-color: #000000; background-color: #ffff00\">framework</span> and <span style=\"color: #000000; text-decoration-color: #000000; background-color: #ffff00\">communication</span> to steerco <span style=\"color: #000000; text-decoration-color: #000000; background-color: #ffff00\">by</span> Philippe\n",
       "</pre>\n"
      ],
      "text/plain": [
       "\u001b[30;48;2;255;255;0mAnn\u001b[0m \u001b[30;48;2;255;255;0mprovided\u001b[0m right \u001b[30;48;2;255;255;0mexpertise\u001b[0m on \u001b[30;48;2;255;255;0mtechnical\u001b[0m \u001b[30;48;2;255;255;0mcontent\u001b[0m combined to conceptual/visual right \n",
       "\u001b[30;48;2;255;255;0mframework\u001b[0m and \u001b[30;48;2;255;255;0mcommunication\u001b[0m to steerco \u001b[30;48;2;255;255;0mby\u001b[0m Philippe\n"
      ]
     },
     "metadata": {},
     "output_type": "display_data"
    },
    {
     "name": "stdout",
     "output_type": "stream",
     "text": [
      "[('expertise', 0.5699), ('ann', 0.3994), ('conceptual', 0.3837), ('technical', 0.3793), ('provided', 0.3739), ('visual', 0.339), ('by', 0.3216), ('communication', 0.3146), ('content', 0.3071), ('framework', 0.2991)]\n"
     ]
    },
    {
     "data": {
      "text/html": [
       "<pre style=\"white-space:pre;overflow-x:auto;line-height:normal;font-family:Menlo,'DejaVu Sans Mono',consolas,'Courier New',monospace\">A <span style=\"color: #000000; text-decoration-color: #000000; background-color: #ffff00\">face</span> <span style=\"color: #000000; text-decoration-color: #000000; background-color: #ffff00\">to</span> <span style=\"color: #000000; text-decoration-color: #000000; background-color: #ffff00\">face</span> <span style=\"color: #000000; text-decoration-color: #000000; background-color: #ffff00\">every</span> <span style=\"color: #000000; text-decoration-color: #000000; background-color: #ffff00\">now</span> <span style=\"color: #000000; text-decoration-color: #000000; background-color: #ffff00\">and</span> <span style=\"color: #000000; text-decoration-color: #000000; background-color: #ffff00\">then</span> <span style=\"color: #000000; text-decoration-color: #000000; background-color: #ffff00\">would</span> <span style=\"color: #000000; text-decoration-color: #000000; background-color: #ffff00\">be</span> great.\n",
       "</pre>\n"
      ],
      "text/plain": [
       "A \u001b[30;48;2;255;255;0mface\u001b[0m \u001b[30;48;2;255;255;0mto\u001b[0m \u001b[30;48;2;255;255;0mface\u001b[0m \u001b[30;48;2;255;255;0mevery\u001b[0m \u001b[30;48;2;255;255;0mnow\u001b[0m \u001b[30;48;2;255;255;0mand\u001b[0m \u001b[30;48;2;255;255;0mthen\u001b[0m \u001b[30;48;2;255;255;0mwould\u001b[0m \u001b[30;48;2;255;255;0mbe\u001b[0m great.\n"
      ]
     },
     "metadata": {},
     "output_type": "display_data"
    },
    {
     "name": "stdout",
     "output_type": "stream",
     "text": [
      "[('face', 0.689), ('would', 0.4012), ('great', 0.3607), ('now', 0.3351), ('be', 0.3004), ('every', 0.2832), ('to', 0.2547), ('then', 0.2406), ('and', 0.2329)]\n"
     ]
    },
    {
     "data": {
      "text/html": [
       "<pre style=\"white-space:pre;overflow-x:auto;line-height:normal;font-family:Menlo,'DejaVu Sans Mono',consolas,'Courier New',monospace\">Nog <span style=\"color: #000000; text-decoration-color: #000000; background-color: #ffff00\">meer</span> inspelen <span style=\"color: #000000; text-decoration-color: #000000; background-color: #ffff00\">op</span> <span style=\"color: #000000; text-decoration-color: #000000; background-color: #ffff00\">de</span> <span style=\"color: #000000; text-decoration-color: #000000; background-color: #ffff00\">behoeften</span> <span style=\"color: #000000; text-decoration-color: #000000; background-color: #ffff00\">van</span> het <span style=\"color: #000000; text-decoration-color: #000000; background-color: #ffff00\">bedrijf</span> (in dit <span style=\"color: #000000; text-decoration-color: #000000; background-color: #ffff00\">geval</span> KMO, <span style=\"color: #000000; text-decoration-color: #000000; background-color: #ffff00\">familiale</span> omgeving) .\n",
       "</pre>\n"
      ],
      "text/plain": [
       "Nog \u001b[30;48;2;255;255;0mmeer\u001b[0m inspelen \u001b[30;48;2;255;255;0mop\u001b[0m \u001b[30;48;2;255;255;0mde\u001b[0m \u001b[30;48;2;255;255;0mbehoeften\u001b[0m \u001b[30;48;2;255;255;0mvan\u001b[0m het \u001b[30;48;2;255;255;0mbedrijf\u001b[0m (in dit \u001b[30;48;2;255;255;0mgeval\u001b[0m KMO, \u001b[30;48;2;255;255;0mfamiliale\u001b[0m omgeving) .\n"
      ]
     },
     "metadata": {},
     "output_type": "display_data"
    },
    {
     "name": "stdout",
     "output_type": "stream",
     "text": [
      "[('bedrijf', 0.4759), ('behoeften', 0.4152), ('omgeving', 0.2739), ('familiale', 0.1916), ('geval', 0.1904), ('van', 0.1902), ('meer', 0.1743), ('de', 0.1651), ('op', 0.1617), ('in', 0.1601)]\n"
     ]
    },
    {
     "data": {
      "text/html": [
       "<pre style=\"white-space:pre;overflow-x:auto;line-height:normal;font-family:Menlo,'DejaVu Sans Mono',consolas,'Courier New',monospace\"><span style=\"color: #000000; text-decoration-color: #000000; background-color: #ffff00\">We</span> <span style=\"color: #000000; text-decoration-color: #000000; background-color: #ffff00\">never</span> <span style=\"color: #000000; text-decoration-color: #000000; background-color: #ffff00\">did</span> <span style=\"color: #000000; text-decoration-color: #000000; background-color: #ffff00\">meet</span> in person, <span style=\"color: #000000; text-decoration-color: #000000; background-color: #ffff00\">however</span> that <span style=\"color: #000000; text-decoration-color: #000000; background-color: #ffff00\">was</span> <span style=\"color: #000000; text-decoration-color: #000000; background-color: #ffff00\">du</span> to the <span style=\"color: #000000; text-decoration-color: #000000; background-color: #ffff00\">COVID</span> restrictions.\n",
       "</pre>\n"
      ],
      "text/plain": [
       "\u001b[30;48;2;255;255;0mWe\u001b[0m \u001b[30;48;2;255;255;0mnever\u001b[0m \u001b[30;48;2;255;255;0mdid\u001b[0m \u001b[30;48;2;255;255;0mmeet\u001b[0m in person, \u001b[30;48;2;255;255;0mhowever\u001b[0m that \u001b[30;48;2;255;255;0mwas\u001b[0m \u001b[30;48;2;255;255;0mdu\u001b[0m to the \u001b[30;48;2;255;255;0mCOVID\u001b[0m restrictions.\n"
      ]
     },
     "metadata": {},
     "output_type": "display_data"
    },
    {
     "name": "stdout",
     "output_type": "stream",
     "text": [
      "[('never', 0.2093), ('meet', 0.199), ('covid', 0.1276), ('restrictions', 0.109), ('we', 0.1057), ('did', 0.0516), ('was', 0.0089), ('however', -0.034), ('person', -0.0757), ('du', -0.0842)]\n"
     ]
    },
    {
     "data": {
      "text/html": [
       "<pre style=\"white-space:pre;overflow-x:auto;line-height:normal;font-family:Menlo,'DejaVu Sans Mono',consolas,'Courier New',monospace\"><span style=\"color: #000000; text-decoration-color: #000000; background-color: #ffff00\">more</span> <span style=\"color: #000000; text-decoration-color: #000000; background-color: #ffff00\">face</span> <span style=\"color: #000000; text-decoration-color: #000000; background-color: #ffff00\">to</span> <span style=\"color: #000000; text-decoration-color: #000000; background-color: #ffff00\">face</span> <span style=\"color: #000000; text-decoration-color: #000000; background-color: #ffff00\">effectivenes</span> &amp; <span style=\"color: #000000; text-decoration-color: #000000; background-color: #ffff00\">efficiency</span>\n",
       "</pre>\n"
      ],
      "text/plain": [
       "\u001b[30;48;2;255;255;0mmore\u001b[0m \u001b[30;48;2;255;255;0mface\u001b[0m \u001b[30;48;2;255;255;0mto\u001b[0m \u001b[30;48;2;255;255;0mface\u001b[0m \u001b[30;48;2;255;255;0meffectivenes\u001b[0m & \u001b[30;48;2;255;255;0mefficiency\u001b[0m\n"
      ]
     },
     "metadata": {},
     "output_type": "display_data"
    },
    {
     "name": "stdout",
     "output_type": "stream",
     "text": [
      "[('efficiency', 0.6038), ('effectivenes', 0.5588), ('more', 0.3833), ('face', 0.2449), ('to', 0.2349)]\n"
     ]
    },
    {
     "data": {
      "text/html": [
       "<pre style=\"white-space:pre;overflow-x:auto;line-height:normal;font-family:Menlo,'DejaVu Sans Mono',consolas,'Courier New',monospace\">The <span style=\"color: #000000; text-decoration-color: #000000; background-color: #ffff00\">project</span> has been exposed to a <span style=\"color: #000000; text-decoration-color: #000000; background-color: #ffff00\">change</span> in <span style=\"color: #000000; text-decoration-color: #000000; background-color: #ffff00\">planning</span> every 6 months as well as further \n",
       "<span style=\"color: #000000; text-decoration-color: #000000; background-color: #ffff00\">changes</span> in detailed scope. <span style=\"color: #000000; text-decoration-color: #000000; background-color: #ffff00\">Deloitte</span> has been very flexible to adapt, while keeping the scope.\n",
       "In some area's some more <span style=\"color: #000000; text-decoration-color: #000000; background-color: #ffff00\">impact</span> <span style=\"color: #000000; text-decoration-color: #000000; background-color: #ffff00\">analysis</span> could have been done and helped to manage the <span style=\"color: #000000; text-decoration-color: #000000; background-color: #ffff00\">impact</span>\n",
       "of the <span style=\"color: #000000; text-decoration-color: #000000; background-color: #ffff00\">project</span> changes. Overall the <span style=\"color: #000000; text-decoration-color: #000000; background-color: #ffff00\">project</span> is slightly behind, however there is still \n",
       "confidence on the delivery of <span style=\"color: #000000; text-decoration-color: #000000; background-color: #ffff00\">wave</span> 1.\n",
       "</pre>\n"
      ],
      "text/plain": [
       "The \u001b[30;48;2;255;255;0mproject\u001b[0m has been exposed to a \u001b[30;48;2;255;255;0mchange\u001b[0m in \u001b[30;48;2;255;255;0mplanning\u001b[0m every 6 months as well as further \n",
       "\u001b[30;48;2;255;255;0mchanges\u001b[0m in detailed scope. \u001b[30;48;2;255;255;0mDeloitte\u001b[0m has been very flexible to adapt, while keeping the scope.\n",
       "In some area's some more \u001b[30;48;2;255;255;0mimpact\u001b[0m \u001b[30;48;2;255;255;0manalysis\u001b[0m could have been done and helped to manage the \u001b[30;48;2;255;255;0mimpact\u001b[0m\n",
       "of the \u001b[30;48;2;255;255;0mproject\u001b[0m changes. Overall the \u001b[30;48;2;255;255;0mproject\u001b[0m is slightly behind, however there is still \n",
       "confidence on the delivery of \u001b[30;48;2;255;255;0mwave\u001b[0m 1.\n"
      ]
     },
     "metadata": {},
     "output_type": "display_data"
    },
    {
     "name": "stdout",
     "output_type": "stream",
     "text": [
      "[('project', 0.3605), ('adapt', 0.3593), ('changes', 0.3562), ('impact', 0.325), ('planning', 0.3181), ('change', 0.299), ('wave', 0.2314), ('deloitte', 0.2165), ('scope', 0.2122), ('analysis', 0.2094)]\n"
     ]
    },
    {
     "data": {
      "text/html": [
       "<pre style=\"white-space:pre;overflow-x:auto;line-height:normal;font-family:Menlo,'DejaVu Sans Mono',consolas,'Courier New',monospace\">I <span style=\"color: #000000; text-decoration-color: #000000; background-color: #ffff00\">agree</span> on general <span style=\"color: #000000; text-decoration-color: #000000; background-color: #ffff00\">business</span> trends, however when it <span style=\"color: #000000; text-decoration-color: #000000; background-color: #ffff00\">is</span> pertaining <span style=\"color: #000000; text-decoration-color: #000000; background-color: #ffff00\">implementation</span> of <span style=\"color: #000000; text-decoration-color: #000000; background-color: #ffff00\">specific</span> \n",
       "<span style=\"color: #000000; text-decoration-color: #000000; background-color: #ffff00\">capabilities</span> as: <span style=\"color: #000000; text-decoration-color: #000000; background-color: #ffff00\">Managing</span> Dangerous goods, <span style=\"color: #000000; text-decoration-color: #000000; background-color: #ffff00\">MDR</span> compliance.\n",
       "</pre>\n"
      ],
      "text/plain": [
       "I \u001b[30;48;2;255;255;0magree\u001b[0m on general \u001b[30;48;2;255;255;0mbusiness\u001b[0m trends, however when it \u001b[30;48;2;255;255;0mis\u001b[0m pertaining \u001b[30;48;2;255;255;0mimplementation\u001b[0m of \u001b[30;48;2;255;255;0mspecific\u001b[0m \n",
       "\u001b[30;48;2;255;255;0mcapabilities\u001b[0m as: \u001b[30;48;2;255;255;0mManaging\u001b[0m Dangerous goods, \u001b[30;48;2;255;255;0mMDR\u001b[0m compliance.\n"
      ]
     },
     "metadata": {},
     "output_type": "display_data"
    },
    {
     "name": "stdout",
     "output_type": "stream",
     "text": [
      "[('trends', 0.4585), ('business', 0.3869), ('compliance', 0.3652), ('managing', 0.3474), ('implementation', 0.3124), ('agree', 0.2901), ('capabilities', 0.2899), ('mdr', 0.2373), ('is', 0.1984), ('specific', 0.1982)]\n"
     ]
    },
    {
     "data": {
      "text/html": [
       "<pre style=\"white-space:pre;overflow-x:auto;line-height:normal;font-family:Menlo,'DejaVu Sans Mono',consolas,'Courier New',monospace\">As long it is in well know area's, <span style=\"color: #000000; text-decoration-color: #000000; background-color: #ffff00\">Deloitte</span> is great. However there is not a strong \n",
       "capability to <span style=\"color: #000000; text-decoration-color: #000000; background-color: #ffff00\">manage</span> new territory or resolve complex problems for which there is no known \n",
       "solution. In general we <span style=\"color: #000000; text-decoration-color: #000000; background-color: #ffff00\">find</span> that the <span style=\"color: #000000; text-decoration-color: #000000; background-color: #ffff00\">working</span> relationship between <span style=\"color: #000000; text-decoration-color: #000000; background-color: #ffff00\">Deloitte</span> and <span style=\"color: #000000; text-decoration-color: #000000; background-color: #ffff00\">SAP</span> <span style=\"color: #000000; text-decoration-color: #000000; background-color: #ffff00\">business</span> \n",
       "<span style=\"color: #000000; text-decoration-color: #000000; background-color: #ffff00\">solutions</span> is difficult.\n",
       "</pre>\n"
      ],
      "text/plain": [
       "As long it is in well know area's, \u001b[30;48;2;255;255;0mDeloitte\u001b[0m is great. However there is not a strong \n",
       "capability to \u001b[30;48;2;255;255;0mmanage\u001b[0m new territory or resolve complex problems for which there is no known \n",
       "solution. In general we \u001b[30;48;2;255;255;0mfind\u001b[0m that the \u001b[30;48;2;255;255;0mworking\u001b[0m relationship between \u001b[30;48;2;255;255;0mDeloitte\u001b[0m and \u001b[30;48;2;255;255;0mSAP\u001b[0m \u001b[30;48;2;255;255;0mbusiness\u001b[0m \n",
       "\u001b[30;48;2;255;255;0msolutions\u001b[0m is difficult.\n"
      ]
     },
     "metadata": {},
     "output_type": "display_data"
    },
    {
     "name": "stdout",
     "output_type": "stream",
     "text": [
      "[('sap', 0.261), ('business', 0.2478), ('deloitte', 0.2316), ('solutions', 0.213), ('difficult', 0.2083), ('manage', 0.1984), ('solution', 0.1884), ('area', 0.1814), ('working', 0.1666), ('find', 0.1595)]\n"
     ]
    },
    {
     "data": {
      "text/html": [
       "<pre style=\"white-space:pre;overflow-x:auto;line-height:normal;font-family:Menlo,'DejaVu Sans Mono',consolas,'Courier New',monospace\"><span style=\"color: #000000; text-decoration-color: #000000; background-color: #ffff00\">Working</span> from <span style=\"color: #000000; text-decoration-color: #000000; background-color: #ffff00\">home</span> / <span style=\"color: #000000; text-decoration-color: #000000; background-color: #ffff00\">virtual</span> is effective, and <span style=\"color: #000000; text-decoration-color: #000000; background-color: #ffff00\">improves</span> work-life balance. However for \n",
       "workshops, solutioning difficult integration topics and celebrations, a face-to-face \n",
       "<span style=\"color: #000000; text-decoration-color: #000000; background-color: #ffff00\">gathering</span> should be possible.\n",
       "</pre>\n"
      ],
      "text/plain": [
       "\u001b[30;48;2;255;255;0mWorking\u001b[0m from \u001b[30;48;2;255;255;0mhome\u001b[0m / \u001b[30;48;2;255;255;0mvirtual\u001b[0m is effective, and \u001b[30;48;2;255;255;0mimproves\u001b[0m work-life balance. However for \n",
       "workshops, solutioning difficult integration topics and celebrations, a face-to-face \n",
       "\u001b[30;48;2;255;255;0mgathering\u001b[0m should be possible.\n"
      ]
     },
     "metadata": {},
     "output_type": "display_data"
    },
    {
     "name": "stdout",
     "output_type": "stream",
     "text": [
      "[('virtual', 0.4988), ('work', 0.4421), ('workshops', 0.4178), ('working', 0.3888), ('home', 0.368), ('gathering', 0.3485), ('improves', 0.2889), ('effective', 0.2841), ('possible', 0.2777), ('celebrations', 0.2662)]\n"
     ]
    },
    {
     "data": {
      "text/html": [
       "<pre style=\"white-space:pre;overflow-x:auto;line-height:normal;font-family:Menlo,'DejaVu Sans Mono',consolas,'Courier New',monospace\">See comment 4. On Manhattan, <span style=\"color: #000000; text-decoration-color: #000000; background-color: #ffff00\">Deloitte</span> <span style=\"color: #000000; text-decoration-color: #000000; background-color: #ffff00\">Europe</span> has <span style=\"color: #000000; text-decoration-color: #000000; background-color: #ffff00\">resource</span> gap. This is compensated through <span style=\"color: #000000; text-decoration-color: #000000; background-color: #ffff00\">US</span>\n",
       "resources, but it is not the preferred way. BD's <span style=\"color: #000000; text-decoration-color: #000000; background-color: #ffff00\">requirement</span> was specific on using <span style=\"color: #000000; text-decoration-color: #000000; background-color: #ffff00\">resources</span> \n",
       "based in Europe, which was a <span style=\"color: #000000; text-decoration-color: #000000; background-color: #ffff00\">differentiating</span> factor.\n",
       "</pre>\n"
      ],
      "text/plain": [
       "See comment 4. On Manhattan, \u001b[30;48;2;255;255;0mDeloitte\u001b[0m \u001b[30;48;2;255;255;0mEurope\u001b[0m has \u001b[30;48;2;255;255;0mresource\u001b[0m gap. This is compensated through \u001b[30;48;2;255;255;0mUS\u001b[0m\n",
       "resources, but it is not the preferred way. BD's \u001b[30;48;2;255;255;0mrequirement\u001b[0m was specific on using \u001b[30;48;2;255;255;0mresources\u001b[0m \n",
       "based in Europe, which was a \u001b[30;48;2;255;255;0mdifferentiating\u001b[0m factor.\n"
      ]
     },
     "metadata": {},
     "output_type": "display_data"
    },
    {
     "name": "stdout",
     "output_type": "stream",
     "text": [
      "[('europe', 0.4174), ('gap', 0.3674), ('resources', 0.3228), ('manhattan', 0.3031), ('resource', 0.2743), ('requirement', 0.2342), ('us', 0.2316), ('bd', 0.2145), ('deloitte', 0.2141), ('differentiating', 0.1925)]\n"
     ]
    },
    {
     "data": {
      "text/html": [
       "<pre style=\"white-space:pre;overflow-x:auto;line-height:normal;font-family:Menlo,'DejaVu Sans Mono',consolas,'Courier New',monospace\">I <span style=\"color: #000000; text-decoration-color: #000000; background-color: #ffff00\">appreciate</span> <span style=\"color: #000000; text-decoration-color: #000000; background-color: #ffff00\">the</span> <span style=\"color: #000000; text-decoration-color: #000000; background-color: #ffff00\">level</span> <span style=\"color: #000000; text-decoration-color: #000000; background-color: #ffff00\">of</span> <span style=\"color: #000000; text-decoration-color: #000000; background-color: #ffff00\">expertise</span>\n",
       "</pre>\n"
      ],
      "text/plain": [
       "I \u001b[30;48;2;255;255;0mappreciate\u001b[0m \u001b[30;48;2;255;255;0mthe\u001b[0m \u001b[30;48;2;255;255;0mlevel\u001b[0m \u001b[30;48;2;255;255;0mof\u001b[0m \u001b[30;48;2;255;255;0mexpertise\u001b[0m\n"
      ]
     },
     "metadata": {},
     "output_type": "display_data"
    },
    {
     "name": "stdout",
     "output_type": "stream",
     "text": [
      "[('expertise', 0.7797), ('appreciate', 0.5125), ('of', 0.3972), ('level', 0.3717), ('the', 0.3218)]\n"
     ]
    },
    {
     "data": {
      "text/html": [
       "<pre style=\"white-space:pre;overflow-x:auto;line-height:normal;font-family:Menlo,'DejaVu Sans Mono',consolas,'Courier New',monospace\"><span style=\"color: #000000; text-decoration-color: #000000; background-color: #ffff00\">Deloitte</span> <span style=\"color: #000000; text-decoration-color: #000000; background-color: #ffff00\">always</span> <span style=\"color: #000000; text-decoration-color: #000000; background-color: #ffff00\">charges</span> by performed hr. They <span style=\"color: #000000; text-decoration-color: #000000; background-color: #ffff00\">are</span> fir when it comes to onboarding new people.\n",
       "<span style=\"color: #000000; text-decoration-color: #000000; background-color: #ffff00\">However</span> when it comes down to <span style=\"color: #000000; text-decoration-color: #000000; background-color: #ffff00\">correcting</span> errors that <span style=\"color: #000000; text-decoration-color: #000000; background-color: #ffff00\">are</span> made by Deloitte, <span style=\"color: #000000; text-decoration-color: #000000; background-color: #ffff00\">their</span> <span style=\"color: #000000; text-decoration-color: #000000; background-color: #ffff00\">is</span> a <span style=\"color: #000000; text-decoration-color: #000000; background-color: #ffff00\">charge</span> \n",
       "as well.\n",
       "</pre>\n"
      ],
      "text/plain": [
       "\u001b[30;48;2;255;255;0mDeloitte\u001b[0m \u001b[30;48;2;255;255;0malways\u001b[0m \u001b[30;48;2;255;255;0mcharges\u001b[0m by performed hr. They \u001b[30;48;2;255;255;0mare\u001b[0m fir when it comes to onboarding new people.\n",
       "\u001b[30;48;2;255;255;0mHowever\u001b[0m when it comes down to \u001b[30;48;2;255;255;0mcorrecting\u001b[0m errors that \u001b[30;48;2;255;255;0mare\u001b[0m made by Deloitte, \u001b[30;48;2;255;255;0mtheir\u001b[0m \u001b[30;48;2;255;255;0mis\u001b[0m a \u001b[30;48;2;255;255;0mcharge\u001b[0m \n",
       "as well.\n"
      ]
     },
     "metadata": {},
     "output_type": "display_data"
    },
    {
     "name": "stdout",
     "output_type": "stream",
     "text": [
      "[('charges', 0.4784), ('charge', 0.4752), ('always', 0.2211), ('deloitte', 0.1949), ('are', 0.1809), ('is', 0.1766), ('their', 0.1733), ('correcting', 0.1732), ('however', 0.1672), ('hr', 0.1585)]\n"
     ]
    },
    {
     "data": {
      "text/html": [
       "<pre style=\"white-space:pre;overflow-x:auto;line-height:normal;font-family:Menlo,'DejaVu Sans Mono',consolas,'Courier New',monospace\"><span style=\"color: #000000; text-decoration-color: #000000; background-color: #ffff00\">see</span> <span style=\"color: #000000; text-decoration-color: #000000; background-color: #ffff00\">point</span> 2\n",
       "</pre>\n"
      ],
      "text/plain": [
       "\u001b[30;48;2;255;255;0msee\u001b[0m \u001b[30;48;2;255;255;0mpoint\u001b[0m 2\n"
      ]
     },
     "metadata": {},
     "output_type": "display_data"
    },
    {
     "name": "stdout",
     "output_type": "stream",
     "text": [
      "[('point', 0.7315), ('see', 0.7162)]\n"
     ]
    },
    {
     "data": {
      "text/html": [
       "<pre style=\"white-space:pre;overflow-x:auto;line-height:normal;font-family:Menlo,'DejaVu Sans Mono',consolas,'Courier New',monospace\"><span style=\"color: #000000; text-decoration-color: #000000; background-color: #ffff00\">Deloitte</span> is not very strong in <span style=\"color: #000000; text-decoration-color: #000000; background-color: #ffff00\">open</span> communication. Many things happen <span style=\"color: #000000; text-decoration-color: #000000; background-color: #ffff00\">behind</span> the scene, \n",
       "<span style=\"color: #000000; text-decoration-color: #000000; background-color: #ffff00\">feedback</span> is asked through power-point., only at the <span style=\"color: #000000; text-decoration-color: #000000; background-color: #ffff00\">result</span> of a <span style=\"color: #000000; text-decoration-color: #000000; background-color: #ffff00\">quality</span> <span style=\"color: #000000; text-decoration-color: #000000; background-color: #ffff00\">audit</span> or strong \n",
       "escalation, listen and <span style=\"color: #000000; text-decoration-color: #000000; background-color: #ffff00\">feedback</span> happens. Informal listing and <span style=\"color: #000000; text-decoration-color: #000000; background-color: #ffff00\">feedback</span> is an exception.\n",
       "</pre>\n"
      ],
      "text/plain": [
       "\u001b[30;48;2;255;255;0mDeloitte\u001b[0m is not very strong in \u001b[30;48;2;255;255;0mopen\u001b[0m communication. Many things happen \u001b[30;48;2;255;255;0mbehind\u001b[0m the scene, \n",
       "\u001b[30;48;2;255;255;0mfeedback\u001b[0m is asked through power-point., only at the \u001b[30;48;2;255;255;0mresult\u001b[0m of a \u001b[30;48;2;255;255;0mquality\u001b[0m \u001b[30;48;2;255;255;0maudit\u001b[0m or strong \n",
       "escalation, listen and \u001b[30;48;2;255;255;0mfeedback\u001b[0m happens. Informal listing and \u001b[30;48;2;255;255;0mfeedback\u001b[0m is an exception.\n"
      ]
     },
     "metadata": {},
     "output_type": "display_data"
    },
    {
     "name": "stdout",
     "output_type": "stream",
     "text": [
      "[('audit', 0.348), ('feedback', 0.332), ('communication', 0.296), ('behind', 0.2647), ('quality', 0.22), ('open', 0.2155), ('happens', 0.2006), ('deloitte', 0.1961), ('escalation', 0.1912), ('result', 0.1896)]\n"
     ]
    },
    {
     "data": {
      "text/html": [
       "<pre style=\"white-space:pre;overflow-x:auto;line-height:normal;font-family:Menlo,'DejaVu Sans Mono',consolas,'Courier New',monospace\"><span style=\"color: #000000; text-decoration-color: #000000; background-color: #ffff00\">Deloitte</span> <span style=\"color: #000000; text-decoration-color: #000000; background-color: #ffff00\">provides</span> <span style=\"color: #000000; text-decoration-color: #000000; background-color: #ffff00\">viable</span> <span style=\"color: #000000; text-decoration-color: #000000; background-color: #ffff00\">opinion</span> <span style=\"color: #000000; text-decoration-color: #000000; background-color: #ffff00\">and</span> feedback.\n",
       "</pre>\n"
      ],
      "text/plain": [
       "\u001b[30;48;2;255;255;0mDeloitte\u001b[0m \u001b[30;48;2;255;255;0mprovides\u001b[0m \u001b[30;48;2;255;255;0mviable\u001b[0m \u001b[30;48;2;255;255;0mopinion\u001b[0m \u001b[30;48;2;255;255;0mand\u001b[0m feedback.\n"
      ]
     },
     "metadata": {},
     "output_type": "display_data"
    },
    {
     "name": "stdout",
     "output_type": "stream",
     "text": [
      "[('feedback', 0.3674), ('opinion', 0.3394), ('deloitte', 0.2445), ('viable', 0.2315), ('provides', 0.2076), ('and', 0.083)]\n"
     ]
    },
    {
     "data": {
      "text/html": [
       "<pre style=\"white-space:pre;overflow-x:auto;line-height:normal;font-family:Menlo,'DejaVu Sans Mono',consolas,'Courier New',monospace\"><span style=\"color: #000000; text-decoration-color: #000000; background-color: #ffff00\">Deloitte</span> <span style=\"color: #000000; text-decoration-color: #000000; background-color: #ffff00\">shows</span> <span style=\"color: #000000; text-decoration-color: #000000; background-color: #ffff00\">commitment</span> <span style=\"color: #000000; text-decoration-color: #000000; background-color: #ffff00\">and</span> <span style=\"color: #000000; text-decoration-color: #000000; background-color: #ffff00\">perseverance</span> <span style=\"color: #000000; text-decoration-color: #000000; background-color: #ffff00\">and</span> <span style=\"color: #000000; text-decoration-color: #000000; background-color: #ffff00\">builds</span> <span style=\"color: #000000; text-decoration-color: #000000; background-color: #ffff00\">long</span> <span style=\"color: #000000; text-decoration-color: #000000; background-color: #ffff00\">term</span> partnership.\n",
       "</pre>\n"
      ],
      "text/plain": [
       "\u001b[30;48;2;255;255;0mDeloitte\u001b[0m \u001b[30;48;2;255;255;0mshows\u001b[0m \u001b[30;48;2;255;255;0mcommitment\u001b[0m \u001b[30;48;2;255;255;0mand\u001b[0m \u001b[30;48;2;255;255;0mperseverance\u001b[0m \u001b[30;48;2;255;255;0mand\u001b[0m \u001b[30;48;2;255;255;0mbuilds\u001b[0m \u001b[30;48;2;255;255;0mlong\u001b[0m \u001b[30;48;2;255;255;0mterm\u001b[0m partnership.\n"
      ]
     },
     "metadata": {},
     "output_type": "display_data"
    },
    {
     "name": "stdout",
     "output_type": "stream",
     "text": [
      "[('perseverance', 0.3835), ('partnership', 0.3606), ('commitment', 0.2848), ('deloitte', 0.2026), ('long', 0.1579), ('builds', 0.1341), ('term', 0.0944), ('and', 0.0618), ('shows', -0.0278)]\n"
     ]
    },
    {
     "data": {
      "text/html": [
       "<pre style=\"white-space:pre;overflow-x:auto;line-height:normal;font-family:Menlo,'DejaVu Sans Mono',consolas,'Courier New',monospace\"><span style=\"color: #000000; text-decoration-color: #000000; background-color: #ffff00\">Every</span> <span style=\"color: #000000; text-decoration-color: #000000; background-color: #ffff00\">effort</span> was made to adapt, <span style=\"color: #000000; text-decoration-color: #000000; background-color: #ffff00\">make</span> the correct technology available. <span style=\"color: #000000; text-decoration-color: #000000; background-color: #ffff00\">Members</span> <span style=\"color: #000000; text-decoration-color: #000000; background-color: #ffff00\">commit</span> to the \n",
       "appointments, have flexible <span style=\"color: #000000; text-decoration-color: #000000; background-color: #ffff00\">working</span> times and have <span style=\"color: #000000; text-decoration-color: #000000; background-color: #ffff00\">disciplined</span> <span style=\"color: #000000; text-decoration-color: #000000; background-color: #ffff00\">work</span> ethics.\n",
       "</pre>\n"
      ],
      "text/plain": [
       "\u001b[30;48;2;255;255;0mEvery\u001b[0m \u001b[30;48;2;255;255;0meffort\u001b[0m was made to adapt, \u001b[30;48;2;255;255;0mmake\u001b[0m the correct technology available. \u001b[30;48;2;255;255;0mMembers\u001b[0m \u001b[30;48;2;255;255;0mcommit\u001b[0m to the \n",
       "appointments, have flexible \u001b[30;48;2;255;255;0mworking\u001b[0m times and have \u001b[30;48;2;255;255;0mdisciplined\u001b[0m \u001b[30;48;2;255;255;0mwork\u001b[0m ethics.\n"
      ]
     },
     "metadata": {},
     "output_type": "display_data"
    },
    {
     "name": "stdout",
     "output_type": "stream",
     "text": [
      "[('adapt', 0.3905), ('members', 0.375), ('work', 0.3713), ('effort', 0.3657), ('working', 0.3241), ('appointments', 0.315), ('every', 0.3001), ('make', 0.2938), ('disciplined', 0.2703), ('commit', 0.2517)]\n"
     ]
    },
    {
     "data": {
      "text/html": [
       "<pre style=\"white-space:pre;overflow-x:auto;line-height:normal;font-family:Menlo,'DejaVu Sans Mono',consolas,'Courier New',monospace\">sometimes, it seemed, <span style=\"color: #000000; text-decoration-color: #000000; background-color: #ffff00\">the</span> <span style=\"color: #000000; text-decoration-color: #000000; background-color: #ffff00\">required</span> <span style=\"color: #000000; text-decoration-color: #000000; background-color: #ffff00\">expertise</span> <span style=\"color: #000000; text-decoration-color: #000000; background-color: #ffff00\">was</span> a bit <span style=\"color: #000000; text-decoration-color: #000000; background-color: #ffff00\">difficult</span> to <span style=\"color: #000000; text-decoration-color: #000000; background-color: #ffff00\">organise</span> (changing staff)\n",
       "</pre>\n"
      ],
      "text/plain": [
       "sometimes, it seemed, \u001b[30;48;2;255;255;0mthe\u001b[0m \u001b[30;48;2;255;255;0mrequired\u001b[0m \u001b[30;48;2;255;255;0mexpertise\u001b[0m \u001b[30;48;2;255;255;0mwas\u001b[0m a bit \u001b[30;48;2;255;255;0mdifficult\u001b[0m to \u001b[30;48;2;255;255;0morganise\u001b[0m (changing staff)\n"
      ]
     },
     "metadata": {},
     "output_type": "display_data"
    },
    {
     "name": "stdout",
     "output_type": "stream",
     "text": [
      "[('staff', 0.5585), ('expertise', 0.448), ('difficult', 0.3305), ('organise', 0.3276), ('changing', 0.2766), ('required', 0.2264), ('sometimes', 0.1859), ('seemed', 0.1686), ('the', 0.164), ('was', 0.132)]\n"
     ]
    },
    {
     "data": {
      "text/html": [
       "<pre style=\"white-space:pre;overflow-x:auto;line-height:normal;font-family:Menlo,'DejaVu Sans Mono',consolas,'Courier New',monospace\"><span style=\"color: #000000; text-decoration-color: #000000; background-color: #ffff00\">difficult</span> to <span style=\"color: #000000; text-decoration-color: #000000; background-color: #ffff00\">give</span> an <span style=\"color: #000000; text-decoration-color: #000000; background-color: #ffff00\">assessment</span> <span style=\"color: #000000; text-decoration-color: #000000; background-color: #ffff00\">of</span> 'value <span style=\"color: #000000; text-decoration-color: #000000; background-color: #ffff00\">of</span> service' <span style=\"color: #000000; text-decoration-color: #000000; background-color: #ffff00\">related</span> to 'cost-effective service' \n",
       "without more in-depth <span style=\"color: #000000; text-decoration-color: #000000; background-color: #ffff00\">analysis</span>\n",
       "</pre>\n"
      ],
      "text/plain": [
       "\u001b[30;48;2;255;255;0mdifficult\u001b[0m to \u001b[30;48;2;255;255;0mgive\u001b[0m an \u001b[30;48;2;255;255;0massessment\u001b[0m \u001b[30;48;2;255;255;0mof\u001b[0m 'value \u001b[30;48;2;255;255;0mof\u001b[0m service' \u001b[30;48;2;255;255;0mrelated\u001b[0m to 'cost-effective service' \n",
       "without more in-depth \u001b[30;48;2;255;255;0manalysis\u001b[0m\n"
      ]
     },
     "metadata": {},
     "output_type": "display_data"
    },
    {
     "name": "stdout",
     "output_type": "stream",
     "text": [
      "[('service', 0.5116), ('assessment', 0.4415), ('analysis', 0.3588), ('effective', 0.3293), ('cost', 0.2917), ('value', 0.2749), ('difficult', 0.1959), ('of', 0.1728), ('give', 0.166), ('related', 0.15)]\n"
     ]
    },
    {
     "data": {
      "text/html": [
       "<pre style=\"white-space:pre;overflow-x:auto;line-height:normal;font-family:Menlo,'DejaVu Sans Mono',consolas,'Courier New',monospace\"><span style=\"color: #000000; text-decoration-color: #000000; background-color: #ffff00\">friendly</span> staff, respectful; <span style=\"color: #000000; text-decoration-color: #000000; background-color: #ffff00\">understanding</span> clients' <span style=\"color: #000000; text-decoration-color: #000000; background-color: #ffff00\">difficulties</span>\n",
       "</pre>\n"
      ],
      "text/plain": [
       "\u001b[30;48;2;255;255;0mfriendly\u001b[0m staff, respectful; \u001b[30;48;2;255;255;0munderstanding\u001b[0m clients' \u001b[30;48;2;255;255;0mdifficulties\u001b[0m\n"
      ]
     },
     "metadata": {},
     "output_type": "display_data"
    },
    {
     "name": "stdout",
     "output_type": "stream",
     "text": [
      "[('staff', 0.6639), ('clients', 0.6258), ('respectful', 0.5348), ('friendly', 0.4696), ('difficulties', 0.2936), ('understanding', 0.2839)]\n"
     ]
    },
    {
     "data": {
      "text/html": [
       "<pre style=\"white-space:pre;overflow-x:auto;line-height:normal;font-family:Menlo,'DejaVu Sans Mono',consolas,'Courier New',monospace\">overall yes, <span style=\"color: #000000; text-decoration-color: #000000; background-color: #ffff00\">the</span> <span style=\"color: #000000; text-decoration-color: #000000; background-color: #ffff00\">divergences</span> <span style=\"color: #000000; text-decoration-color: #000000; background-color: #ffff00\">to</span> <span style=\"color: #000000; text-decoration-color: #000000; background-color: #ffff00\">the</span> <span style=\"color: #000000; text-decoration-color: #000000; background-color: #ffff00\">planned</span> <span style=\"color: #000000; text-decoration-color: #000000; background-color: #ffff00\">outcome</span> <span style=\"color: #000000; text-decoration-color: #000000; background-color: #ffff00\">were</span> <span style=\"color: #000000; text-decoration-color: #000000; background-color: #ffff00\">due</span> <span style=\"color: #000000; text-decoration-color: #000000; background-color: #ffff00\">to</span> <span style=\"color: #000000; text-decoration-color: #000000; background-color: #ffff00\">changes</span> outside <span style=\"color: #000000; text-decoration-color: #000000; background-color: #ffff00\">their</span> \n",
       "<span style=\"color: #000000; text-decoration-color: #000000; background-color: #ffff00\">influence</span>\n",
       "</pre>\n"
      ],
      "text/plain": [
       "overall yes, \u001b[30;48;2;255;255;0mthe\u001b[0m \u001b[30;48;2;255;255;0mdivergences\u001b[0m \u001b[30;48;2;255;255;0mto\u001b[0m \u001b[30;48;2;255;255;0mthe\u001b[0m \u001b[30;48;2;255;255;0mplanned\u001b[0m \u001b[30;48;2;255;255;0moutcome\u001b[0m \u001b[30;48;2;255;255;0mwere\u001b[0m \u001b[30;48;2;255;255;0mdue\u001b[0m \u001b[30;48;2;255;255;0mto\u001b[0m \u001b[30;48;2;255;255;0mchanges\u001b[0m outside \u001b[30;48;2;255;255;0mtheir\u001b[0m \n",
       "\u001b[30;48;2;255;255;0minfluence\u001b[0m\n"
      ]
     },
     "metadata": {},
     "output_type": "display_data"
    },
    {
     "name": "stdout",
     "output_type": "stream",
     "text": [
      "[('divergences', 0.5215), ('changes', 0.4548), ('outcome', 0.3768), ('influence', 0.3759), ('due', 0.1637), ('were', 0.1491), ('planned', 0.1323), ('the', 0.1063), ('to', 0.1049), ('their', 0.0931)]\n"
     ]
    },
    {
     "data": {
      "text/html": [
       "<pre style=\"white-space:pre;overflow-x:auto;line-height:normal;font-family:Menlo,'DejaVu Sans Mono',consolas,'Courier New',monospace\"><span style=\"color: #000000; text-decoration-color: #000000; background-color: #ffff00\">always</span> <span style=\"color: #000000; text-decoration-color: #000000; background-color: #ffff00\">polite</span> <span style=\"color: #000000; text-decoration-color: #000000; background-color: #ffff00\">and</span> respectful; <span style=\"color: #000000; text-decoration-color: #000000; background-color: #ffff00\">so</span> <span style=\"color: #000000; text-decoration-color: #000000; background-color: #ffff00\">speaking</span> <span style=\"color: #000000; text-decoration-color: #000000; background-color: #ffff00\">their</span> <span style=\"color: #000000; text-decoration-color: #000000; background-color: #ffff00\">mind</span> <span style=\"color: #000000; text-decoration-color: #000000; background-color: #ffff00\">is</span> not <span style=\"color: #000000; text-decoration-color: #000000; background-color: #ffff00\">always</span> <span style=\"color: #000000; text-decoration-color: #000000; background-color: #ffff00\">discernible</span>\n",
       "</pre>\n"
      ],
      "text/plain": [
       "\u001b[30;48;2;255;255;0malways\u001b[0m \u001b[30;48;2;255;255;0mpolite\u001b[0m \u001b[30;48;2;255;255;0mand\u001b[0m respectful; \u001b[30;48;2;255;255;0mso\u001b[0m \u001b[30;48;2;255;255;0mspeaking\u001b[0m \u001b[30;48;2;255;255;0mtheir\u001b[0m \u001b[30;48;2;255;255;0mmind\u001b[0m \u001b[30;48;2;255;255;0mis\u001b[0m not \u001b[30;48;2;255;255;0malways\u001b[0m \u001b[30;48;2;255;255;0mdiscernible\u001b[0m\n"
      ]
     },
     "metadata": {},
     "output_type": "display_data"
    },
    {
     "name": "stdout",
     "output_type": "stream",
     "text": [
      "[('respectful', 0.5467), ('polite', 0.5017), ('speaking', 0.3767), ('discernible', 0.3761), ('mind', 0.3633), ('their', 0.3081), ('always', 0.2926), ('is', 0.2306), ('and', 0.1863), ('so', 0.1714)]\n"
     ]
    },
    {
     "data": {
      "text/html": [
       "<pre style=\"white-space:pre;overflow-x:auto;line-height:normal;font-family:Menlo,'DejaVu Sans Mono',consolas,'Courier New',monospace\"><span style=\"color: #000000; text-decoration-color: #000000; background-color: #ffff00\">regular</span> <span style=\"color: #000000; text-decoration-color: #000000; background-color: #ffff00\">sessions</span> <span style=\"color: #000000; text-decoration-color: #000000; background-color: #ffff00\">for</span> <span style=\"color: #000000; text-decoration-color: #000000; background-color: #ffff00\">exchanging</span> <span style=\"color: #000000; text-decoration-color: #000000; background-color: #ffff00\">information</span> <span style=\"color: #000000; text-decoration-color: #000000; background-color: #ffff00\">and</span> <span style=\"color: #000000; text-decoration-color: #000000; background-color: #ffff00\">views</span>\n",
       "</pre>\n"
      ],
      "text/plain": [
       "\u001b[30;48;2;255;255;0mregular\u001b[0m \u001b[30;48;2;255;255;0msessions\u001b[0m \u001b[30;48;2;255;255;0mfor\u001b[0m \u001b[30;48;2;255;255;0mexchanging\u001b[0m \u001b[30;48;2;255;255;0minformation\u001b[0m \u001b[30;48;2;255;255;0mand\u001b[0m \u001b[30;48;2;255;255;0mviews\u001b[0m\n"
      ]
     },
     "metadata": {},
     "output_type": "display_data"
    },
    {
     "name": "stdout",
     "output_type": "stream",
     "text": [
      "[('sessions', 0.5964), ('views', 0.4439), ('exchanging', 0.3627), ('information', 0.3067), ('for', 0.2953), ('regular', 0.2588), ('and', 0.1838)]\n"
     ]
    },
    {
     "data": {
      "text/html": [
       "<pre style=\"white-space:pre;overflow-x:auto;line-height:normal;font-family:Menlo,'DejaVu Sans Mono',consolas,'Courier New',monospace\"><span style=\"color: #000000; text-decoration-color: #000000; background-color: #ffff00\">changes</span> <span style=\"color: #000000; text-decoration-color: #000000; background-color: #ffff00\">had</span> <span style=\"color: #000000; text-decoration-color: #000000; background-color: #ffff00\">to</span> <span style=\"color: #000000; text-decoration-color: #000000; background-color: #ffff00\">made</span> <span style=\"color: #000000; text-decoration-color: #000000; background-color: #ffff00\">to</span> <span style=\"color: #000000; text-decoration-color: #000000; background-color: #ffff00\">adapt</span> <span style=\"color: #000000; text-decoration-color: #000000; background-color: #ffff00\">to</span> <span style=\"color: #000000; text-decoration-color: #000000; background-color: #ffff00\">unforeseen</span> <span style=\"color: #000000; text-decoration-color: #000000; background-color: #ffff00\">circumstances</span>\n",
       "</pre>\n"
      ],
      "text/plain": [
       "\u001b[30;48;2;255;255;0mchanges\u001b[0m \u001b[30;48;2;255;255;0mhad\u001b[0m \u001b[30;48;2;255;255;0mto\u001b[0m \u001b[30;48;2;255;255;0mmade\u001b[0m \u001b[30;48;2;255;255;0mto\u001b[0m \u001b[30;48;2;255;255;0madapt\u001b[0m \u001b[30;48;2;255;255;0mto\u001b[0m \u001b[30;48;2;255;255;0munforeseen\u001b[0m \u001b[30;48;2;255;255;0mcircumstances\u001b[0m\n"
      ]
     },
     "metadata": {},
     "output_type": "display_data"
    },
    {
     "name": "stdout",
     "output_type": "stream",
     "text": [
      "[('changes', 0.5849), ('adapt', 0.5647), ('circumstances', 0.5231), ('unforeseen', 0.5137), ('had', 0.3063), ('to', 0.2231), ('made', 0.1394)]\n"
     ]
    },
    {
     "data": {
      "text/html": [
       "<pre style=\"white-space:pre;overflow-x:auto;line-height:normal;font-family:Menlo,'DejaVu Sans Mono',consolas,'Courier New',monospace\"><span style=\"color: #000000; text-decoration-color: #000000; background-color: #ffff00\">to</span> <span style=\"color: #000000; text-decoration-color: #000000; background-color: #ffff00\">the</span> <span style=\"color: #000000; text-decoration-color: #000000; background-color: #ffff00\">extent</span> <span style=\"color: #000000; text-decoration-color: #000000; background-color: #ffff00\">this</span> <span style=\"color: #000000; text-decoration-color: #000000; background-color: #ffff00\">can</span> <span style=\"color: #000000; text-decoration-color: #000000; background-color: #ffff00\">be</span> <span style=\"color: #000000; text-decoration-color: #000000; background-color: #ffff00\">compared</span> from a non-IT expert's <span style=\"color: #000000; text-decoration-color: #000000; background-color: #ffff00\">view</span>\n",
       "</pre>\n"
      ],
      "text/plain": [
       "\u001b[30;48;2;255;255;0mto\u001b[0m \u001b[30;48;2;255;255;0mthe\u001b[0m \u001b[30;48;2;255;255;0mextent\u001b[0m \u001b[30;48;2;255;255;0mthis\u001b[0m \u001b[30;48;2;255;255;0mcan\u001b[0m \u001b[30;48;2;255;255;0mbe\u001b[0m \u001b[30;48;2;255;255;0mcompared\u001b[0m from a non-IT expert's \u001b[30;48;2;255;255;0mview\u001b[0m\n"
      ]
     },
     "metadata": {},
     "output_type": "display_data"
    },
    {
     "name": "stdout",
     "output_type": "stream",
     "text": [
      "[('expert', 0.4287), ('compared', 0.3585), ('it', 0.2817), ('extent', 0.2702), ('to', 0.2661), ('view', 0.2379), ('the', 0.2357), ('this', 0.2254), ('can', 0.2224), ('be', 0.2095)]\n"
     ]
    },
    {
     "data": {
      "text/html": [
       "<pre style=\"white-space:pre;overflow-x:auto;line-height:normal;font-family:Menlo,'DejaVu Sans Mono',consolas,'Courier New',monospace\"><span style=\"color: #000000; text-decoration-color: #000000; background-color: #ffff00\">best</span> <span style=\"color: #000000; text-decoration-color: #000000; background-color: #ffff00\">efforts</span> were made to <span style=\"color: #000000; text-decoration-color: #000000; background-color: #ffff00\">immediately</span> <span style=\"color: #000000; text-decoration-color: #000000; background-color: #ffff00\">switch</span> to <span style=\"color: #000000; text-decoration-color: #000000; background-color: #ffff00\">remote</span> working, <span style=\"color: #000000; text-decoration-color: #000000; background-color: #ffff00\">technologies</span> are not always \n",
       "<span style=\"color: #000000; text-decoration-color: #000000; background-color: #ffff00\">reliable</span> and <span style=\"color: #000000; text-decoration-color: #000000; background-color: #ffff00\">cause</span> <span style=\"color: #000000; text-decoration-color: #000000; background-color: #ffff00\">disruption</span>\n",
       "</pre>\n"
      ],
      "text/plain": [
       "\u001b[30;48;2;255;255;0mbest\u001b[0m \u001b[30;48;2;255;255;0mefforts\u001b[0m were made to \u001b[30;48;2;255;255;0mimmediately\u001b[0m \u001b[30;48;2;255;255;0mswitch\u001b[0m to \u001b[30;48;2;255;255;0mremote\u001b[0m working, \u001b[30;48;2;255;255;0mtechnologies\u001b[0m are not always \n",
       "\u001b[30;48;2;255;255;0mreliable\u001b[0m and \u001b[30;48;2;255;255;0mcause\u001b[0m \u001b[30;48;2;255;255;0mdisruption\u001b[0m\n"
      ]
     },
     "metadata": {},
     "output_type": "display_data"
    },
    {
     "name": "stdout",
     "output_type": "stream",
     "text": [
      "[('remote', 0.3949), ('disruption', 0.3947), ('technologies', 0.3655), ('efforts', 0.325), ('working', 0.2904), ('reliable', 0.2564), ('switch', 0.2516), ('immediately', 0.1771), ('cause', 0.1104), ('best', 0.1095)]\n"
     ]
    },
    {
     "data": {
      "text/html": [
       "<pre style=\"white-space:pre;overflow-x:auto;line-height:normal;font-family:Menlo,'DejaVu Sans Mono',consolas,'Courier New',monospace\"><span style=\"color: #000000; text-decoration-color: #000000; background-color: #ffff00\">having</span> <span style=\"color: #000000; text-decoration-color: #000000; background-color: #ffff00\">experience</span> <span style=\"color: #000000; text-decoration-color: #000000; background-color: #ffff00\">in</span> <span style=\"color: #000000; text-decoration-color: #000000; background-color: #ffff00\">working</span> <span style=\"color: #000000; text-decoration-color: #000000; background-color: #ffff00\">with</span> <span style=\"color: #000000; text-decoration-color: #000000; background-color: #ffff00\">EU</span> <span style=\"color: #000000; text-decoration-color: #000000; background-color: #ffff00\">institutions</span> <span style=\"color: #000000; text-decoration-color: #000000; background-color: #ffff00\">was</span> <span style=\"color: #000000; text-decoration-color: #000000; background-color: #ffff00\">very</span> <span style=\"color: #000000; text-decoration-color: #000000; background-color: #ffff00\">helpful</span>\n",
       "</pre>\n"
      ],
      "text/plain": [
       "\u001b[30;48;2;255;255;0mhaving\u001b[0m \u001b[30;48;2;255;255;0mexperience\u001b[0m \u001b[30;48;2;255;255;0min\u001b[0m \u001b[30;48;2;255;255;0mworking\u001b[0m \u001b[30;48;2;255;255;0mwith\u001b[0m \u001b[30;48;2;255;255;0mEU\u001b[0m \u001b[30;48;2;255;255;0minstitutions\u001b[0m \u001b[30;48;2;255;255;0mwas\u001b[0m \u001b[30;48;2;255;255;0mvery\u001b[0m \u001b[30;48;2;255;255;0mhelpful\u001b[0m\n"
      ]
     },
     "metadata": {},
     "output_type": "display_data"
    },
    {
     "name": "stdout",
     "output_type": "stream",
     "text": [
      "[('institutions', 0.3806), ('experience', 0.3055), ('helpful', 0.1919), ('working', 0.1393), ('having', 0.0822), ('with', 0.0729), ('in', 0.0632), ('was', 0.0353), ('very', 0.0165), ('eu', -0.0618)]\n"
     ]
    },
    {
     "data": {
      "text/html": [
       "<pre style=\"white-space:pre;overflow-x:auto;line-height:normal;font-family:Menlo,'DejaVu Sans Mono',consolas,'Courier New',monospace\"><span style=\"color: #000000; text-decoration-color: #000000; background-color: #ffff00\">fluctuation</span> in <span style=\"color: #000000; text-decoration-color: #000000; background-color: #ffff00\">teams</span> <span style=\"color: #000000; text-decoration-color: #000000; background-color: #ffff00\">are</span> to a certain extent unavoidable, <span style=\"color: #000000; text-decoration-color: #000000; background-color: #ffff00\">but</span> have an <span style=\"color: #000000; text-decoration-color: #000000; background-color: #ffff00\">impact</span> on <span style=\"color: #000000; text-decoration-color: #000000; background-color: #ffff00\">smooth</span> \n",
       "<span style=\"color: #000000; text-decoration-color: #000000; background-color: #ffff00\">running</span> of projects/activities\n",
       "</pre>\n"
      ],
      "text/plain": [
       "\u001b[30;48;2;255;255;0mfluctuation\u001b[0m in \u001b[30;48;2;255;255;0mteams\u001b[0m \u001b[30;48;2;255;255;0mare\u001b[0m to a certain extent unavoidable, \u001b[30;48;2;255;255;0mbut\u001b[0m have an \u001b[30;48;2;255;255;0mimpact\u001b[0m on \u001b[30;48;2;255;255;0msmooth\u001b[0m \n",
       "\u001b[30;48;2;255;255;0mrunning\u001b[0m of projects/activities\n"
      ]
     },
     "metadata": {},
     "output_type": "display_data"
    },
    {
     "name": "stdout",
     "output_type": "stream",
     "text": [
      "[('teams', 0.4708), ('fluctuation', 0.4358), ('projects', 0.3613), ('unavoidable', 0.3354), ('activities', 0.3234), ('impact', 0.2939), ('smooth', 0.272), ('running', 0.2634), ('but', 0.2406), ('are', 0.2132)]\n"
     ]
    },
    {
     "data": {
      "text/html": [
       "<pre style=\"white-space:pre;overflow-x:auto;line-height:normal;font-family:Menlo,'DejaVu Sans Mono',consolas,'Courier New',monospace\">taking the <span style=\"color: #000000; text-decoration-color: #000000; background-color: #ffff00\">positive</span> <span style=\"color: #000000; text-decoration-color: #000000; background-color: #ffff00\">experience</span> of <span style=\"color: #000000; text-decoration-color: #000000; background-color: #ffff00\">connecting</span> <span style=\"color: #000000; text-decoration-color: #000000; background-color: #ffff00\">people</span> from different <span style=\"color: #000000; text-decoration-color: #000000; background-color: #ffff00\">countries</span> to bring \n",
       "together the <span style=\"color: #000000; text-decoration-color: #000000; background-color: #ffff00\">best</span> <span style=\"color: #000000; text-decoration-color: #000000; background-color: #ffff00\">resources</span> and <span style=\"color: #000000; text-decoration-color: #000000; background-color: #ffff00\">experts</span> on a specific question/project component, while \n",
       "resuming <span style=\"color: #000000; text-decoration-color: #000000; background-color: #ffff00\">meeting</span> in person when it brings added value.\n",
       "</pre>\n"
      ],
      "text/plain": [
       "taking the \u001b[30;48;2;255;255;0mpositive\u001b[0m \u001b[30;48;2;255;255;0mexperience\u001b[0m of \u001b[30;48;2;255;255;0mconnecting\u001b[0m \u001b[30;48;2;255;255;0mpeople\u001b[0m from different \u001b[30;48;2;255;255;0mcountries\u001b[0m to bring \n",
       "together the \u001b[30;48;2;255;255;0mbest\u001b[0m \u001b[30;48;2;255;255;0mresources\u001b[0m and \u001b[30;48;2;255;255;0mexperts\u001b[0m on a specific question/project component, while \n",
       "resuming \u001b[30;48;2;255;255;0mmeeting\u001b[0m in person when it brings added value.\n"
      ]
     },
     "metadata": {},
     "output_type": "display_data"
    },
    {
     "name": "stdout",
     "output_type": "stream",
     "text": [
      "[('meeting', 0.4136), ('experience', 0.3456), ('project', 0.3432), ('countries', 0.3332), ('resources', 0.3033), ('connecting', 0.3031), ('positive', 0.2878), ('people', 0.274), ('experts', 0.2438), ('best', 0.2274)]\n"
     ]
    },
    {
     "data": {
      "text/html": [
       "<pre style=\"white-space:pre;overflow-x:auto;line-height:normal;font-family:Menlo,'DejaVu Sans Mono',consolas,'Courier New',monospace\"><span style=\"color: #000000; text-decoration-color: #000000; background-color: #ffff00\">Deloitte</span> aura l'opportunité de se <span style=\"color: #000000; text-decoration-color: #000000; background-color: #ffff00\">familiariser</span> plus sur le <span style=\"color: #000000; text-decoration-color: #000000; background-color: #ffff00\">domaine</span> <span style=\"color: #000000; text-decoration-color: #000000; background-color: #ffff00\">audiovisuel</span> et de \n",
       "<span style=\"color: #000000; text-decoration-color: #000000; background-color: #ffff00\">conférences</span> ainsi que sur les <span style=\"color: #000000; text-decoration-color: #000000; background-color: #ffff00\">systèmes</span> d'automatisation <span style=\"color: #000000; text-decoration-color: #000000; background-color: #ffff00\">des</span> salles.\n",
       "</pre>\n"
      ],
      "text/plain": [
       "\u001b[30;48;2;255;255;0mDeloitte\u001b[0m aura l'opportunité de se \u001b[30;48;2;255;255;0mfamiliariser\u001b[0m plus sur le \u001b[30;48;2;255;255;0mdomaine\u001b[0m \u001b[30;48;2;255;255;0maudiovisuel\u001b[0m et de \n",
       "\u001b[30;48;2;255;255;0mconférences\u001b[0m ainsi que sur les \u001b[30;48;2;255;255;0msystèmes\u001b[0m d'automatisation \u001b[30;48;2;255;255;0mdes\u001b[0m salles.\n"
      ]
     },
     "metadata": {},
     "output_type": "display_data"
    },
    {
     "name": "stdout",
     "output_type": "stream",
     "text": [
      "[('audiovisuel', 0.474), ('conférences', 0.3804), ('automatisation', 0.2482), ('opportunité', 0.2475), ('familiariser', 0.2101), ('deloitte', 0.1924), ('salles', 0.1772), ('domaine', 0.1498), ('des', 0.1393), ('systèmes', 0.1382)]\n"
     ]
    },
    {
     "data": {
      "text/html": [
       "<pre style=\"white-space:pre;overflow-x:auto;line-height:normal;font-family:Menlo,'DejaVu Sans Mono',consolas,'Courier New',monospace\"><span style=\"color: #000000; text-decoration-color: #000000; background-color: #ffff00\">Not</span> <span style=\"color: #000000; text-decoration-color: #000000; background-color: #ffff00\">experienced</span> yet.\n",
       "</pre>\n"
      ],
      "text/plain": [
       "\u001b[30;48;2;255;255;0mNot\u001b[0m \u001b[30;48;2;255;255;0mexperienced\u001b[0m yet.\n"
      ]
     },
     "metadata": {},
     "output_type": "display_data"
    },
    {
     "name": "stdout",
     "output_type": "stream",
     "text": [
      "[('yet', 0.6037), ('not', 0.5625), ('experienced', 0.4197)]\n"
     ]
    },
    {
     "data": {
      "text/html": [
       "<pre style=\"white-space:pre;overflow-x:auto;line-height:normal;font-family:Menlo,'DejaVu Sans Mono',consolas,'Courier New',monospace\"><span style=\"color: #000000; text-decoration-color: #000000; background-color: #ffff00\">Please</span> <span style=\"color: #000000; text-decoration-color: #000000; background-color: #ffff00\">continue</span> <span style=\"color: #000000; text-decoration-color: #000000; background-color: #ffff00\">the</span> <span style=\"color: #000000; text-decoration-color: #000000; background-color: #ffff00\">excellent</span> <span style=\"color: #000000; text-decoration-color: #000000; background-color: #ffff00\">service</span> <span style=\"color: #000000; text-decoration-color: #000000; background-color: #ffff00\">delivered</span> <span style=\"color: #000000; text-decoration-color: #000000; background-color: #ffff00\">up</span> <span style=\"color: #000000; text-decoration-color: #000000; background-color: #ffff00\">to</span> <span style=\"color: #000000; text-decoration-color: #000000; background-color: #ffff00\">now</span> .\n",
       "</pre>\n"
      ],
      "text/plain": [
       "\u001b[30;48;2;255;255;0mPlease\u001b[0m \u001b[30;48;2;255;255;0mcontinue\u001b[0m \u001b[30;48;2;255;255;0mthe\u001b[0m \u001b[30;48;2;255;255;0mexcellent\u001b[0m \u001b[30;48;2;255;255;0mservice\u001b[0m \u001b[30;48;2;255;255;0mdelivered\u001b[0m \u001b[30;48;2;255;255;0mup\u001b[0m \u001b[30;48;2;255;255;0mto\u001b[0m \u001b[30;48;2;255;255;0mnow\u001b[0m .\n"
      ]
     },
     "metadata": {},
     "output_type": "display_data"
    },
    {
     "name": "stdout",
     "output_type": "stream",
     "text": [
      "[('service', 0.636), ('excellent', 0.463), ('delivered', 0.4305), ('continue', 0.4017), ('please', 0.3755), ('now', 0.3562), ('to', 0.2742), ('the', 0.2509), ('up', 0.2267)]\n"
     ]
    },
    {
     "data": {
      "text/html": [
       "<pre style=\"white-space:pre;overflow-x:auto;line-height:normal;font-family:Menlo,'DejaVu Sans Mono',consolas,'Courier New',monospace\"><span style=\"color: #000000; text-decoration-color: #000000; background-color: #ffff00\">So</span> far yes, but <span style=\"color: #000000; text-decoration-color: #000000; background-color: #ffff00\">we</span> <span style=\"color: #000000; text-decoration-color: #000000; background-color: #ffff00\">have</span> <span style=\"color: #000000; text-decoration-color: #000000; background-color: #ffff00\">to</span> <span style=\"color: #000000; text-decoration-color: #000000; background-color: #ffff00\">see</span> the <span style=\"color: #000000; text-decoration-color: #000000; background-color: #ffff00\">feedback</span> from the <span style=\"color: #000000; text-decoration-color: #000000; background-color: #ffff00\">Archer</span> <span style=\"color: #000000; text-decoration-color: #000000; background-color: #ffff00\">Totara</span> users.\n",
       "</pre>\n"
      ],
      "text/plain": [
       "\u001b[30;48;2;255;255;0mSo\u001b[0m far yes, but \u001b[30;48;2;255;255;0mwe\u001b[0m \u001b[30;48;2;255;255;0mhave\u001b[0m \u001b[30;48;2;255;255;0mto\u001b[0m \u001b[30;48;2;255;255;0msee\u001b[0m the \u001b[30;48;2;255;255;0mfeedback\u001b[0m from the \u001b[30;48;2;255;255;0mArcher\u001b[0m \u001b[30;48;2;255;255;0mTotara\u001b[0m users.\n"
      ]
     },
     "metadata": {},
     "output_type": "display_data"
    },
    {
     "name": "stdout",
     "output_type": "stream",
     "text": [
      "[('feedback', 0.5218), ('so', 0.3706), ('totara', 0.369), ('yes', 0.3636), ('archer', 0.3358), ('to', 0.3325), ('see', 0.2614), ('users', 0.2604), ('we', 0.2596), ('have', 0.256)]\n"
     ]
    },
    {
     "data": {
      "text/html": [
       "<pre style=\"white-space:pre;overflow-x:auto;line-height:normal;font-family:Menlo,'DejaVu Sans Mono',consolas,'Courier New',monospace\">A bit of \"misunderstandings\" <span style=\"color: #000000; text-decoration-color: #000000; background-color: #ffff00\">related</span> <span style=\"color: #000000; text-decoration-color: #000000; background-color: #ffff00\">to</span> Archer <span style=\"color: #000000; text-decoration-color: #000000; background-color: #ffff00\">Totara</span> main <span style=\"color: #000000; text-decoration-color: #000000; background-color: #ffff00\">platform</span> start <span style=\"color: #000000; text-decoration-color: #000000; background-color: #ffff00\">page</span> and <span style=\"color: #000000; text-decoration-color: #000000; background-color: #ffff00\">Slot</span> \n",
       "Recovery course <span style=\"color: #000000; text-decoration-color: #000000; background-color: #ffff00\">font</span> page. We can both become <span style=\"color: #000000; text-decoration-color: #000000; background-color: #ffff00\">better</span> in asking each other \"questions\", <span style=\"color: #000000; text-decoration-color: #000000; background-color: #ffff00\">to</span> \n",
       "avoid this kind of misunderstandings.\n",
       "</pre>\n"
      ],
      "text/plain": [
       "A bit of \"misunderstandings\" \u001b[30;48;2;255;255;0mrelated\u001b[0m \u001b[30;48;2;255;255;0mto\u001b[0m Archer \u001b[30;48;2;255;255;0mTotara\u001b[0m main \u001b[30;48;2;255;255;0mplatform\u001b[0m start \u001b[30;48;2;255;255;0mpage\u001b[0m and \u001b[30;48;2;255;255;0mSlot\u001b[0m \n",
       "Recovery course \u001b[30;48;2;255;255;0mfont\u001b[0m page. We can both become \u001b[30;48;2;255;255;0mbetter\u001b[0m in asking each other \"questions\", \u001b[30;48;2;255;255;0mto\u001b[0m \n",
       "avoid this kind of misunderstandings.\n"
      ]
     },
     "metadata": {},
     "output_type": "display_data"
    },
    {
     "name": "stdout",
     "output_type": "stream",
     "text": [
      "[('misunderstandings', 0.3993), ('questions', 0.3538), ('platform', 0.3355), ('page', 0.3329), ('font', 0.3259), ('slot', 0.3048), ('totara', 0.2891), ('better', 0.2861), ('to', 0.2765), ('related', 0.2756)]\n"
     ]
    },
    {
     "data": {
      "text/html": [
       "<pre style=\"white-space:pre;overflow-x:auto;line-height:normal;font-family:Menlo,'DejaVu Sans Mono',consolas,'Courier New',monospace\">What <span style=\"color: #000000; text-decoration-color: #000000; background-color: #ffff00\">Archer</span> <span style=\"color: #000000; text-decoration-color: #000000; background-color: #ffff00\">need</span> going <span style=\"color: #000000; text-decoration-color: #000000; background-color: #ffff00\">forward</span> is to have 1-2 persons with the same <span style=\"color: #000000; text-decoration-color: #000000; background-color: #ffff00\">competence</span> and <span style=\"color: #000000; text-decoration-color: #000000; background-color: #ffff00\">experience</span>\n",
       "as Hanne and Andreas. Like, <span style=\"color: #000000; text-decoration-color: #000000; background-color: #ffff00\">how</span> to bring <span style=\"color: #000000; text-decoration-color: #000000; background-color: #ffff00\">relevant</span> information/knowledge across the table in \n",
       "best possible <span style=\"color: #000000; text-decoration-color: #000000; background-color: #ffff00\">pedagogical</span> way.\n",
       "</pre>\n"
      ],
      "text/plain": [
       "What \u001b[30;48;2;255;255;0mArcher\u001b[0m \u001b[30;48;2;255;255;0mneed\u001b[0m going \u001b[30;48;2;255;255;0mforward\u001b[0m is to have 1-2 persons with the same \u001b[30;48;2;255;255;0mcompetence\u001b[0m and \u001b[30;48;2;255;255;0mexperience\u001b[0m\n",
       "as Hanne and Andreas. Like, \u001b[30;48;2;255;255;0mhow\u001b[0m to bring \u001b[30;48;2;255;255;0mrelevant\u001b[0m information/knowledge across the table in \n",
       "best possible \u001b[30;48;2;255;255;0mpedagogical\u001b[0m way.\n"
      ]
     },
     "metadata": {},
     "output_type": "display_data"
    },
    {
     "name": "stdout",
     "output_type": "stream",
     "text": [
      "[('archer', 0.5617), ('competence', 0.3955), ('experience', 0.3281), ('forward', 0.3063), ('pedagogical', 0.2942), ('knowledge', 0.2877), ('need', 0.2857), ('relevant', 0.261), ('how', 0.253), ('information', 0.2508)]\n"
     ]
    },
    {
     "data": {
      "text/html": [
       "<pre style=\"white-space:pre;overflow-x:auto;line-height:normal;font-family:Menlo,'DejaVu Sans Mono',consolas,'Courier New',monospace\"><span style=\"color: #000000; text-decoration-color: #000000; background-color: #ffff00\">Same</span> <span style=\"color: #000000; text-decoration-color: #000000; background-color: #ffff00\">as</span> <span style=\"color: #000000; text-decoration-color: #000000; background-color: #ffff00\">last</span> <span style=\"color: #000000; text-decoration-color: #000000; background-color: #ffff00\">time</span>\n",
       "</pre>\n"
      ],
      "text/plain": [
       "\u001b[30;48;2;255;255;0mSame\u001b[0m \u001b[30;48;2;255;255;0mas\u001b[0m \u001b[30;48;2;255;255;0mlast\u001b[0m \u001b[30;48;2;255;255;0mtime\u001b[0m\n"
      ]
     },
     "metadata": {},
     "output_type": "display_data"
    },
    {
     "name": "stdout",
     "output_type": "stream",
     "text": [
      "[('last', 0.7716), ('same', 0.5743), ('time', 0.4042), ('as', 0.3699)]\n"
     ]
    },
    {
     "data": {
      "text/html": [
       "<pre style=\"white-space:pre;overflow-x:auto;line-height:normal;font-family:Menlo,'DejaVu Sans Mono',consolas,'Courier New',monospace\"><span style=\"color: #000000; text-decoration-color: #000000; background-color: #ffff00\">ondertussen</span> <span style=\"color: #000000; text-decoration-color: #000000; background-color: #ffff00\">al</span> <span style=\"color: #000000; text-decoration-color: #000000; background-color: #ffff00\">10</span> <span style=\"color: #000000; text-decoration-color: #000000; background-color: #ffff00\">jaar</span> <span style=\"color: #000000; text-decoration-color: #000000; background-color: #ffff00\">samenwerking</span> <span style=\"color: #000000; text-decoration-color: #000000; background-color: #ffff00\">waarvan</span> <span style=\"color: #000000; text-decoration-color: #000000; background-color: #ffff00\">we</span> <span style=\"color: #000000; text-decoration-color: #000000; background-color: #ffff00\">heel</span> <span style=\"color: #000000; text-decoration-color: #000000; background-color: #ffff00\">tevreden</span> <span style=\"color: #000000; text-decoration-color: #000000; background-color: #ffff00\">zijn</span>\n",
       "</pre>\n"
      ],
      "text/plain": [
       "\u001b[30;48;2;255;255;0mondertussen\u001b[0m \u001b[30;48;2;255;255;0mal\u001b[0m \u001b[30;48;2;255;255;0m10\u001b[0m \u001b[30;48;2;255;255;0mjaar\u001b[0m \u001b[30;48;2;255;255;0msamenwerking\u001b[0m \u001b[30;48;2;255;255;0mwaarvan\u001b[0m \u001b[30;48;2;255;255;0mwe\u001b[0m \u001b[30;48;2;255;255;0mheel\u001b[0m \u001b[30;48;2;255;255;0mtevreden\u001b[0m \u001b[30;48;2;255;255;0mzijn\u001b[0m\n"
      ]
     },
     "metadata": {},
     "output_type": "display_data"
    },
    {
     "name": "stdout",
     "output_type": "stream",
     "text": [
      "[('samenwerking', 0.5118), ('tevreden', 0.4205), ('we', 0.3544), ('10', 0.2814), ('zijn', 0.2369), ('jaar', 0.2341), ('ondertussen', 0.2123), ('waarvan', 0.2009), ('al', 0.1597), ('heel', -0.0197)]\n"
     ]
    },
    {
     "data": {
      "text/html": [
       "<pre style=\"white-space:pre;overflow-x:auto;line-height:normal;font-family:Menlo,'DejaVu Sans Mono',consolas,'Courier New',monospace\"><span style=\"color: #000000; text-decoration-color: #000000; background-color: #ffff00\">slechts</span> <span style=\"color: #000000; text-decoration-color: #000000; background-color: #ffff00\">enkele</span> <span style=\"color: #000000; text-decoration-color: #000000; background-color: #ffff00\">afstemmingen</span> <span style=\"color: #000000; text-decoration-color: #000000; background-color: #ffff00\">zijn</span> <span style=\"color: #000000; text-decoration-color: #000000; background-color: #ffff00\">doorgegaan</span> in 2020, via <span style=\"color: #000000; text-decoration-color: #000000; background-color: #ffff00\">Teams</span> of Zoom, en dat <span style=\"color: #000000; text-decoration-color: #000000; background-color: #ffff00\">bleek</span> heel \n",
       "<span style=\"color: #000000; text-decoration-color: #000000; background-color: #ffff00\">goed</span> te werken\n",
       "</pre>\n"
      ],
      "text/plain": [
       "\u001b[30;48;2;255;255;0mslechts\u001b[0m \u001b[30;48;2;255;255;0menkele\u001b[0m \u001b[30;48;2;255;255;0mafstemmingen\u001b[0m \u001b[30;48;2;255;255;0mzijn\u001b[0m \u001b[30;48;2;255;255;0mdoorgegaan\u001b[0m in 2020, via \u001b[30;48;2;255;255;0mTeams\u001b[0m of Zoom, en dat \u001b[30;48;2;255;255;0mbleek\u001b[0m heel \n",
       "\u001b[30;48;2;255;255;0mgoed\u001b[0m te werken\n"
      ]
     },
     "metadata": {},
     "output_type": "display_data"
    },
    {
     "name": "stdout",
     "output_type": "stream",
     "text": [
      "[('2020', 0.3916), ('teams', 0.3119), ('zoom', 0.2333), ('enkele', 0.2108), ('goed', 0.1969), ('afstemmingen', 0.1947), ('slechts', 0.1754), ('doorgegaan', 0.1421), ('bleek', 0.0986), ('zijn', 0.079)]\n"
     ]
    },
    {
     "data": {
      "text/html": [
       "<pre style=\"white-space:pre;overflow-x:auto;line-height:normal;font-family:Menlo,'DejaVu Sans Mono',consolas,'Courier New',monospace\"><span style=\"color: #000000; text-decoration-color: #000000; background-color: #ffff00\">zonder</span> <span style=\"color: #000000; text-decoration-color: #000000; background-color: #ffff00\">twijfel</span>\n",
       "</pre>\n"
      ],
      "text/plain": [
       "\u001b[30;48;2;255;255;0mzonder\u001b[0m \u001b[30;48;2;255;255;0mtwijfel\u001b[0m\n"
      ]
     },
     "metadata": {},
     "output_type": "display_data"
    },
    {
     "name": "stdout",
     "output_type": "stream",
     "text": [
      "[('zonder', 0.66), ('twijfel', 0.6169)]\n"
     ]
    },
    {
     "data": {
      "text/html": [
       "<pre style=\"white-space:pre;overflow-x:auto;line-height:normal;font-family:Menlo,'DejaVu Sans Mono',consolas,'Courier New',monospace\"><span style=\"color: #000000; text-decoration-color: #000000; background-color: #ffff00\">dit</span> <span style=\"color: #000000; text-decoration-color: #000000; background-color: #ffff00\">verloopt</span> <span style=\"color: #000000; text-decoration-color: #000000; background-color: #ffff00\">steeds</span> <span style=\"color: #000000; text-decoration-color: #000000; background-color: #ffff00\">heel</span> <span style=\"color: #000000; text-decoration-color: #000000; background-color: #ffff00\">vlot</span>\n",
       "</pre>\n"
      ],
      "text/plain": [
       "\u001b[30;48;2;255;255;0mdit\u001b[0m \u001b[30;48;2;255;255;0mverloopt\u001b[0m \u001b[30;48;2;255;255;0msteeds\u001b[0m \u001b[30;48;2;255;255;0mheel\u001b[0m \u001b[30;48;2;255;255;0mvlot\u001b[0m\n"
      ]
     },
     "metadata": {},
     "output_type": "display_data"
    },
    {
     "name": "stdout",
     "output_type": "stream",
     "text": [
      "[('steeds', 0.5191), ('verloopt', 0.5139), ('vlot', 0.4664), ('dit', 0.3627), ('heel', 0.2107)]\n"
     ]
    },
    {
     "data": {
      "text/html": [
       "<pre style=\"white-space:pre;overflow-x:auto;line-height:normal;font-family:Menlo,'DejaVu Sans Mono',consolas,'Courier New',monospace\"><span style=\"color: #000000; text-decoration-color: #000000; background-color: #ffff00\">goed</span> <span style=\"color: #000000; text-decoration-color: #000000; background-color: #ffff00\">zoals</span> <span style=\"color: #000000; text-decoration-color: #000000; background-color: #ffff00\">het</span> <span style=\"color: #000000; text-decoration-color: #000000; background-color: #ffff00\">nu</span> is, <span style=\"color: #000000; text-decoration-color: #000000; background-color: #ffff00\">geen</span> <span style=\"color: #000000; text-decoration-color: #000000; background-color: #ffff00\">extra</span> <span style=\"color: #000000; text-decoration-color: #000000; background-color: #ffff00\">aanbevelingen</span>\n",
       "</pre>\n"
      ],
      "text/plain": [
       "\u001b[30;48;2;255;255;0mgoed\u001b[0m \u001b[30;48;2;255;255;0mzoals\u001b[0m \u001b[30;48;2;255;255;0mhet\u001b[0m \u001b[30;48;2;255;255;0mnu\u001b[0m is, \u001b[30;48;2;255;255;0mgeen\u001b[0m \u001b[30;48;2;255;255;0mextra\u001b[0m \u001b[30;48;2;255;255;0maanbevelingen\u001b[0m\n"
      ]
     },
     "metadata": {},
     "output_type": "display_data"
    },
    {
     "name": "stdout",
     "output_type": "stream",
     "text": [
      "[('goed', 0.6245), ('nu', 0.5615), ('aanbevelingen', 0.5346), ('geen', 0.4224), ('het', 0.399), ('zoals', 0.3957), ('extra', 0.3374), ('is', 0.3009)]\n"
     ]
    },
    {
     "data": {
      "text/html": [
       "<pre style=\"white-space:pre;overflow-x:auto;line-height:normal;font-family:Menlo,'DejaVu Sans Mono',consolas,'Courier New',monospace\"><span style=\"color: #000000; text-decoration-color: #000000; background-color: #ffff00\">verloopt</span> <span style=\"color: #000000; text-decoration-color: #000000; background-color: #ffff00\">heel</span> <span style=\"color: #000000; text-decoration-color: #000000; background-color: #ffff00\">vlot</span>\n",
       "</pre>\n"
      ],
      "text/plain": [
       "\u001b[30;48;2;255;255;0mverloopt\u001b[0m \u001b[30;48;2;255;255;0mheel\u001b[0m \u001b[30;48;2;255;255;0mvlot\u001b[0m\n"
      ]
     },
     "metadata": {},
     "output_type": "display_data"
    },
    {
     "name": "stdout",
     "output_type": "stream",
     "text": [
      "[('verloopt', 0.77), ('vlot', 0.738), ('heel', 0.3697)]\n"
     ]
    },
    {
     "data": {
      "text/html": [
       "<pre style=\"white-space:pre;overflow-x:auto;line-height:normal;font-family:Menlo,'DejaVu Sans Mono',consolas,'Courier New',monospace\"><span style=\"color: #000000; text-decoration-color: #000000; background-color: #ffff00\">wat</span> er <span style=\"color: #000000; text-decoration-color: #000000; background-color: #ffff00\">gevraagd</span> wordt, <span style=\"color: #000000; text-decoration-color: #000000; background-color: #ffff00\">wordt</span> <span style=\"color: #000000; text-decoration-color: #000000; background-color: #ffff00\">steeds</span> opgeleverd, <span style=\"color: #000000; text-decoration-color: #000000; background-color: #ffff00\">soms</span> <span style=\"color: #000000; text-decoration-color: #000000; background-color: #ffff00\">eens</span> <span style=\"color: #000000; text-decoration-color: #000000; background-color: #ffff00\">met</span> <span style=\"color: #000000; text-decoration-color: #000000; background-color: #ffff00\">beetje</span> <span style=\"color: #000000; text-decoration-color: #000000; background-color: #ffff00\">vertraging</span>\n",
       "</pre>\n"
      ],
      "text/plain": [
       "\u001b[30;48;2;255;255;0mwat\u001b[0m er \u001b[30;48;2;255;255;0mgevraagd\u001b[0m wordt, \u001b[30;48;2;255;255;0mwordt\u001b[0m \u001b[30;48;2;255;255;0msteeds\u001b[0m opgeleverd, \u001b[30;48;2;255;255;0msoms\u001b[0m \u001b[30;48;2;255;255;0meens\u001b[0m \u001b[30;48;2;255;255;0mmet\u001b[0m \u001b[30;48;2;255;255;0mbeetje\u001b[0m \u001b[30;48;2;255;255;0mvertraging\u001b[0m\n"
      ]
     },
     "metadata": {},
     "output_type": "display_data"
    },
    {
     "name": "stdout",
     "output_type": "stream",
     "text": [
      "[('vertraging', 0.4794), ('gevraagd', 0.3792), ('beetje', 0.3481), ('steeds', 0.3478), ('wordt', 0.2873), ('opgeleverd', 0.284), ('eens', 0.2704), ('met', 0.2512), ('wat', 0.2462), ('soms', 0.2241)]\n"
     ]
    },
    {
     "data": {
      "text/html": [
       "<pre style=\"white-space:pre;overflow-x:auto;line-height:normal;font-family:Menlo,'DejaVu Sans Mono',consolas,'Courier New',monospace\">Strength: <span style=\"color: #000000; text-decoration-color: #000000; background-color: #ffff00\">Proactive</span> <span style=\"color: #000000; text-decoration-color: #000000; background-color: #ffff00\">and</span> <span style=\"color: #000000; text-decoration-color: #000000; background-color: #ffff00\">competent</span> <span style=\"color: #000000; text-decoration-color: #000000; background-color: #ffff00\">and</span> collaborative.\n",
       "</pre>\n"
      ],
      "text/plain": [
       "Strength: \u001b[30;48;2;255;255;0mProactive\u001b[0m \u001b[30;48;2;255;255;0mand\u001b[0m \u001b[30;48;2;255;255;0mcompetent\u001b[0m \u001b[30;48;2;255;255;0mand\u001b[0m collaborative.\n"
      ]
     },
     "metadata": {},
     "output_type": "display_data"
    },
    {
     "name": "stdout",
     "output_type": "stream",
     "text": [
      "[('strength', 0.7132), ('collaborative', 0.5817), ('proactive', 0.5529), ('competent', 0.5496), ('and', 0.2735)]\n"
     ]
    },
    {
     "data": {
      "text/html": [
       "<pre style=\"white-space:pre;overflow-x:auto;line-height:normal;font-family:Menlo,'DejaVu Sans Mono',consolas,'Courier New',monospace\"><span style=\"color: #000000; text-decoration-color: #000000; background-color: #ffff00\">Improvement</span> needed: <span style=\"color: #000000; text-decoration-color: #000000; background-color: #ffff00\">Resource</span> <span style=\"color: #000000; text-decoration-color: #000000; background-color: #ffff00\">profile</span> <span style=\"color: #000000; text-decoration-color: #000000; background-color: #ffff00\">fit</span> / <span style=\"color: #000000; text-decoration-color: #000000; background-color: #ffff00\">continuity</span> <span style=\"color: #000000; text-decoration-color: #000000; background-color: #ffff00\">for</span> engagement.\n",
       "</pre>\n"
      ],
      "text/plain": [
       "\u001b[30;48;2;255;255;0mImprovement\u001b[0m needed: \u001b[30;48;2;255;255;0mResource\u001b[0m \u001b[30;48;2;255;255;0mprofile\u001b[0m \u001b[30;48;2;255;255;0mfit\u001b[0m / \u001b[30;48;2;255;255;0mcontinuity\u001b[0m \u001b[30;48;2;255;255;0mfor\u001b[0m engagement.\n"
      ]
     },
     "metadata": {},
     "output_type": "display_data"
    },
    {
     "name": "stdout",
     "output_type": "stream",
     "text": [
      "[('engagement', 0.4922), ('resource', 0.4381), ('improvement', 0.4085), ('continuity', 0.3743), ('profile', 0.3396), ('needed', 0.3066), ('fit', 0.2794), ('for', 0.2655)]\n"
     ]
    },
    {
     "data": {
      "text/html": [
       "<pre style=\"white-space:pre;overflow-x:auto;line-height:normal;font-family:Menlo,'DejaVu Sans Mono',consolas,'Courier New',monospace\">Strength: <span style=\"color: #000000; text-decoration-color: #000000; background-color: #ffff00\">Very</span> <span style=\"color: #000000; text-decoration-color: #000000; background-color: #ffff00\">good</span> resource, <span style=\"color: #000000; text-decoration-color: #000000; background-color: #ffff00\">great</span> <span style=\"color: #000000; text-decoration-color: #000000; background-color: #ffff00\">to</span> <span style=\"color: #000000; text-decoration-color: #000000; background-color: #ffff00\">work</span> with.\n",
       "</pre>\n"
      ],
      "text/plain": [
       "Strength: \u001b[30;48;2;255;255;0mVery\u001b[0m \u001b[30;48;2;255;255;0mgood\u001b[0m resource, \u001b[30;48;2;255;255;0mgreat\u001b[0m \u001b[30;48;2;255;255;0mto\u001b[0m \u001b[30;48;2;255;255;0mwork\u001b[0m with.\n"
      ]
     },
     "metadata": {},
     "output_type": "display_data"
    },
    {
     "name": "stdout",
     "output_type": "stream",
     "text": [
      "[('strength', 0.7922), ('resource', 0.4797), ('good', 0.4392), ('work', 0.4253), ('great', 0.3549), ('very', 0.2862), ('to', 0.2591), ('with', 0.18)]\n"
     ]
    },
    {
     "data": {
      "text/html": [
       "<pre style=\"white-space:pre;overflow-x:auto;line-height:normal;font-family:Menlo,'DejaVu Sans Mono',consolas,'Courier New',monospace\">Francisco has been <span style=\"color: #000000; text-decoration-color: #000000; background-color: #ffff00\">great</span> to <span style=\"color: #000000; text-decoration-color: #000000; background-color: #ffff00\">work</span> with. Picked up very fast, very <span style=\"color: #000000; text-decoration-color: #000000; background-color: #ffff00\">proactive</span> and performed \n",
       "<span style=\"color: #000000; text-decoration-color: #000000; background-color: #ffff00\">deliverables</span> as expected. He is constantly trying to look for ways to <span style=\"color: #000000; text-decoration-color: #000000; background-color: #ffff00\">improve</span> <span style=\"color: #000000; text-decoration-color: #000000; background-color: #ffff00\">process</span> / make \n",
       "things <span style=\"color: #000000; text-decoration-color: #000000; background-color: #ffff00\">work</span> more efficiently. I have good feedback from business team he has <span style=\"color: #000000; text-decoration-color: #000000; background-color: #ffff00\">worked</span> with in \n",
       "the <span style=\"color: #000000; text-decoration-color: #000000; background-color: #ffff00\">project</span> as well.\n",
       "</pre>\n"
      ],
      "text/plain": [
       "Francisco has been \u001b[30;48;2;255;255;0mgreat\u001b[0m to \u001b[30;48;2;255;255;0mwork\u001b[0m with. Picked up very fast, very \u001b[30;48;2;255;255;0mproactive\u001b[0m and performed \n",
       "\u001b[30;48;2;255;255;0mdeliverables\u001b[0m as expected. He is constantly trying to look for ways to \u001b[30;48;2;255;255;0mimprove\u001b[0m \u001b[30;48;2;255;255;0mprocess\u001b[0m / make \n",
       "things \u001b[30;48;2;255;255;0mwork\u001b[0m more efficiently. I have good feedback from business team he has \u001b[30;48;2;255;255;0mworked\u001b[0m with in \n",
       "the \u001b[30;48;2;255;255;0mproject\u001b[0m as well.\n"
      ]
     },
     "metadata": {},
     "output_type": "display_data"
    },
    {
     "name": "stdout",
     "output_type": "stream",
     "text": [
      "[('efficiently', 0.4284), ('proactive', 0.3979), ('improve', 0.3595), ('worked', 0.3324), ('work', 0.2942), ('deliverables', 0.2798), ('great', 0.2713), ('process', 0.2689), ('fast', 0.2525), ('project', 0.2401)]\n"
     ]
    },
    {
     "data": {
      "text/html": [
       "<pre style=\"white-space:pre;overflow-x:auto;line-height:normal;font-family:Menlo,'DejaVu Sans Mono',consolas,'Courier New',monospace\"><span style=\"color: #000000; text-decoration-color: #000000; background-color: #ffff00\">good</span> <span style=\"color: #000000; text-decoration-color: #000000; background-color: #ffff00\">adapatbility</span> &amp; <span style=\"color: #000000; text-decoration-color: #000000; background-color: #ffff00\">capacity</span> <span style=\"color: #000000; text-decoration-color: #000000; background-color: #ffff00\">to</span> <span style=\"color: #000000; text-decoration-color: #000000; background-color: #ffff00\">handle</span> <span style=\"color: #000000; text-decoration-color: #000000; background-color: #ffff00\">online</span> <span style=\"color: #000000; text-decoration-color: #000000; background-color: #ffff00\">workshops</span>\n",
       "</pre>\n"
      ],
      "text/plain": [
       "\u001b[30;48;2;255;255;0mgood\u001b[0m \u001b[30;48;2;255;255;0madapatbility\u001b[0m & \u001b[30;48;2;255;255;0mcapacity\u001b[0m \u001b[30;48;2;255;255;0mto\u001b[0m \u001b[30;48;2;255;255;0mhandle\u001b[0m \u001b[30;48;2;255;255;0monline\u001b[0m \u001b[30;48;2;255;255;0mworkshops\u001b[0m\n"
      ]
     },
     "metadata": {},
     "output_type": "display_data"
    },
    {
     "name": "stdout",
     "output_type": "stream",
     "text": [
      "[('workshops', 0.6973), ('online', 0.5524), ('adapatbility', 0.3329), ('capacity', 0.3206), ('good', 0.2179), ('handle', 0.1784), ('to', 0.1352)]\n"
     ]
    },
    {
     "data": {
      "text/html": [
       "<pre style=\"white-space:pre;overflow-x:auto;line-height:normal;font-family:Menlo,'DejaVu Sans Mono',consolas,'Courier New',monospace\">The <span style=\"color: #000000; text-decoration-color: #000000; background-color: #ffff00\">tool</span> <span style=\"color: #000000; text-decoration-color: #000000; background-color: #ffff00\">works</span> as expected - clearer <span style=\"color: #000000; text-decoration-color: #000000; background-color: #ffff00\">indication</span> of a need <span style=\"color: #000000; text-decoration-color: #000000; background-color: #ffff00\">for</span> an <span style=\"color: #000000; text-decoration-color: #000000; background-color: #ffff00\">hypercare</span> or a follow-up \n",
       "<span style=\"color: #000000; text-decoration-color: #000000; background-color: #ffff00\">sprint</span> during the commercial <span style=\"color: #000000; text-decoration-color: #000000; background-color: #ffff00\">discussions</span> <span style=\"color: #000000; text-decoration-color: #000000; background-color: #ffff00\">could</span> have <span style=\"color: #000000; text-decoration-color: #000000; background-color: #ffff00\">helped</span> but nothing <span style=\"color: #000000; text-decoration-color: #000000; background-color: #ffff00\">unsolvable</span>\n",
       "</pre>\n"
      ],
      "text/plain": [
       "The \u001b[30;48;2;255;255;0mtool\u001b[0m \u001b[30;48;2;255;255;0mworks\u001b[0m as expected - clearer \u001b[30;48;2;255;255;0mindication\u001b[0m of a need \u001b[30;48;2;255;255;0mfor\u001b[0m an \u001b[30;48;2;255;255;0mhypercare\u001b[0m or a follow-up \n",
       "\u001b[30;48;2;255;255;0msprint\u001b[0m during the commercial \u001b[30;48;2;255;255;0mdiscussions\u001b[0m \u001b[30;48;2;255;255;0mcould\u001b[0m have \u001b[30;48;2;255;255;0mhelped\u001b[0m but nothing \u001b[30;48;2;255;255;0munsolvable\u001b[0m\n"
      ]
     },
     "metadata": {},
     "output_type": "display_data"
    },
    {
     "name": "stdout",
     "output_type": "stream",
     "text": [
      "[('hypercare', 0.4171), ('tool', 0.3707), ('helped', 0.3322), ('works', 0.3268), ('discussions', 0.3205), ('could', 0.3031), ('indication', 0.2959), ('sprint', 0.2854), ('for', 0.2714), ('unsolvable', 0.2602)]\n"
     ]
    },
    {
     "data": {
      "text/html": [
       "<pre style=\"white-space:pre;overflow-x:auto;line-height:normal;font-family:Menlo,'DejaVu Sans Mono',consolas,'Courier New',monospace\"><span style=\"color: #000000; text-decoration-color: #000000; background-color: #ffff00\">Overall</span> <span style=\"color: #000000; text-decoration-color: #000000; background-color: #ffff00\">good</span> <span style=\"color: #000000; text-decoration-color: #000000; background-color: #ffff00\">collaboration</span> <span style=\"color: #000000; text-decoration-color: #000000; background-color: #ffff00\">and</span> <span style=\"color: #000000; text-decoration-color: #000000; background-color: #ffff00\">integration</span> <span style=\"color: #000000; text-decoration-color: #000000; background-color: #ffff00\">with</span> <span style=\"color: #000000; text-decoration-color: #000000; background-color: #ffff00\">the</span> <span style=\"color: #000000; text-decoration-color: #000000; background-color: #ffff00\">team</span>\n",
       "</pre>\n"
      ],
      "text/plain": [
       "\u001b[30;48;2;255;255;0mOverall\u001b[0m \u001b[30;48;2;255;255;0mgood\u001b[0m \u001b[30;48;2;255;255;0mcollaboration\u001b[0m \u001b[30;48;2;255;255;0mand\u001b[0m \u001b[30;48;2;255;255;0mintegration\u001b[0m \u001b[30;48;2;255;255;0mwith\u001b[0m \u001b[30;48;2;255;255;0mthe\u001b[0m \u001b[30;48;2;255;255;0mteam\u001b[0m\n"
      ]
     },
     "metadata": {},
     "output_type": "display_data"
    },
    {
     "name": "stdout",
     "output_type": "stream",
     "text": [
      "[('collaboration', 0.7064), ('team', 0.6683), ('integration', 0.4157), ('good', 0.347), ('with', 0.2917), ('overall', 0.2326), ('the', 0.2133), ('and', 0.1948)]\n"
     ]
    },
    {
     "data": {
      "text/html": [
       "<pre style=\"white-space:pre;overflow-x:auto;line-height:normal;font-family:Menlo,'DejaVu Sans Mono',consolas,'Courier New',monospace\">I would <span style=\"color: #000000; text-decoration-color: #000000; background-color: #ffff00\">recommend</span> keeping some <span style=\"color: #000000; text-decoration-color: #000000; background-color: #ffff00\">online</span> <span style=\"color: #000000; text-decoration-color: #000000; background-color: #ffff00\">workshops</span> s this <span style=\"color: #000000; text-decoration-color: #000000; background-color: #ffff00\">allows</span> to <span style=\"color: #000000; text-decoration-color: #000000; background-color: #ffff00\">reachout</span> to <span style=\"color: #000000; text-decoration-color: #000000; background-color: #ffff00\">people</span> from \n",
       "<span style=\"color: #000000; text-decoration-color: #000000; background-color: #ffff00\">around</span> the <span style=\"color: #000000; text-decoration-color: #000000; background-color: #ffff00\">globe</span> <span style=\"color: #000000; text-decoration-color: #000000; background-color: #ffff00\">easier</span> and opens up the <span style=\"color: #000000; text-decoration-color: #000000; background-color: #ffff00\">perspectives</span>\n",
       "</pre>\n"
      ],
      "text/plain": [
       "I would \u001b[30;48;2;255;255;0mrecommend\u001b[0m keeping some \u001b[30;48;2;255;255;0monline\u001b[0m \u001b[30;48;2;255;255;0mworkshops\u001b[0m s this \u001b[30;48;2;255;255;0mallows\u001b[0m to \u001b[30;48;2;255;255;0mreachout\u001b[0m to \u001b[30;48;2;255;255;0mpeople\u001b[0m from \n",
       "\u001b[30;48;2;255;255;0maround\u001b[0m the \u001b[30;48;2;255;255;0mglobe\u001b[0m \u001b[30;48;2;255;255;0measier\u001b[0m and opens up the \u001b[30;48;2;255;255;0mperspectives\u001b[0m\n"
      ]
     },
     "metadata": {},
     "output_type": "display_data"
    },
    {
     "name": "stdout",
     "output_type": "stream",
     "text": [
      "[('workshops', 0.6013), ('online', 0.4462), ('recommend', 0.3373), ('perspectives', 0.2732), ('reachout', 0.2719), ('globe', 0.264), ('easier', 0.2336), ('around', 0.1867), ('allows', 0.1444), ('people', 0.1124)]\n"
     ]
    },
    {
     "data": {
      "text/html": [
       "<pre style=\"white-space:pre;overflow-x:auto;line-height:normal;font-family:Menlo,'DejaVu Sans Mono',consolas,'Courier New',monospace\"><span style=\"color: #000000; text-decoration-color: #000000; background-color: #ffff00\">very</span> <span style=\"color: #000000; text-decoration-color: #000000; background-color: #ffff00\">good</span> <span style=\"color: #000000; text-decoration-color: #000000; background-color: #ffff00\">communication</span> <span style=\"color: #000000; text-decoration-color: #000000; background-color: #ffff00\">both</span> <span style=\"color: #000000; text-decoration-color: #000000; background-color: #ffff00\">from</span> <span style=\"color: #000000; text-decoration-color: #000000; background-color: #ffff00\">the</span> <span style=\"color: #000000; text-decoration-color: #000000; background-color: #ffff00\">seniors</span> &amp; <span style=\"color: #000000; text-decoration-color: #000000; background-color: #ffff00\">the</span> <span style=\"color: #000000; text-decoration-color: #000000; background-color: #ffff00\">team</span>\n",
       "</pre>\n"
      ],
      "text/plain": [
       "\u001b[30;48;2;255;255;0mvery\u001b[0m \u001b[30;48;2;255;255;0mgood\u001b[0m \u001b[30;48;2;255;255;0mcommunication\u001b[0m \u001b[30;48;2;255;255;0mboth\u001b[0m \u001b[30;48;2;255;255;0mfrom\u001b[0m \u001b[30;48;2;255;255;0mthe\u001b[0m \u001b[30;48;2;255;255;0mseniors\u001b[0m & \u001b[30;48;2;255;255;0mthe\u001b[0m \u001b[30;48;2;255;255;0mteam\u001b[0m\n"
      ]
     },
     "metadata": {},
     "output_type": "display_data"
    },
    {
     "name": "stdout",
     "output_type": "stream",
     "text": [
      "[('seniors', 0.5507), ('communication', 0.4664), ('team', 0.4592), ('good', 0.2657), ('very', 0.2435), ('from', 0.2301), ('both', 0.2078), ('the', 0.2016)]\n"
     ]
    },
    {
     "data": {
      "text/html": [
       "<pre style=\"white-space:pre;overflow-x:auto;line-height:normal;font-family:Menlo,'DejaVu Sans Mono',consolas,'Courier New',monospace\">think the <span style=\"color: #000000; text-decoration-color: #000000; background-color: #ffff00\">credit</span> thing was the <span style=\"color: #000000; text-decoration-color: #000000; background-color: #ffff00\">more</span> <span style=\"color: #000000; text-decoration-color: #000000; background-color: #ffff00\">difficult</span> part, <span style=\"color: #000000; text-decoration-color: #000000; background-color: #ffff00\">but</span> was not related to <span style=\"color: #000000; text-decoration-color: #000000; background-color: #ffff00\">deloitte</span> only, <span style=\"color: #000000; text-decoration-color: #000000; background-color: #ffff00\">we</span> \n",
       "<span style=\"color: #000000; text-decoration-color: #000000; background-color: #ffff00\">also</span> were <span style=\"color: #000000; text-decoration-color: #000000; background-color: #ffff00\">still</span> <span style=\"color: #000000; text-decoration-color: #000000; background-color: #ffff00\">exploring</span> the future.\n",
       "</pre>\n"
      ],
      "text/plain": [
       "think the \u001b[30;48;2;255;255;0mcredit\u001b[0m thing was the \u001b[30;48;2;255;255;0mmore\u001b[0m \u001b[30;48;2;255;255;0mdifficult\u001b[0m part, \u001b[30;48;2;255;255;0mbut\u001b[0m was not related to \u001b[30;48;2;255;255;0mdeloitte\u001b[0m only, \u001b[30;48;2;255;255;0mwe\u001b[0m \n",
       "\u001b[30;48;2;255;255;0malso\u001b[0m were \u001b[30;48;2;255;255;0mstill\u001b[0m \u001b[30;48;2;255;255;0mexploring\u001b[0m the future.\n"
      ]
     },
     "metadata": {},
     "output_type": "display_data"
    },
    {
     "name": "stdout",
     "output_type": "stream",
     "text": [
      "[('future', 0.4072), ('credit', 0.3702), ('still', 0.2292), ('deloitte', 0.1811), ('exploring', 0.1758), ('but', 0.1665), ('more', 0.165), ('also', 0.1606), ('difficult', 0.1588), ('we', 0.1579)]\n"
     ]
    },
    {
     "data": {
      "text/html": [
       "<pre style=\"white-space:pre;overflow-x:auto;line-height:normal;font-family:Menlo,'DejaVu Sans Mono',consolas,'Courier New',monospace\">yes, but at <span style=\"color: #000000; text-decoration-color: #000000; background-color: #ffff00\">times</span> where things are packed too <span style=\"color: #000000; text-decoration-color: #000000; background-color: #ffff00\">often</span> <span style=\"color: #000000; text-decoration-color: #000000; background-color: #ffff00\">promises</span> were made in terms of due <span style=\"color: #000000; text-decoration-color: #000000; background-color: #ffff00\">date</span> \n",
       "which were not achieved/achievable. Better to <span style=\"color: #000000; text-decoration-color: #000000; background-color: #ffff00\">promise</span> <span style=\"color: #000000; text-decoration-color: #000000; background-color: #ffff00\">later</span> <span style=\"color: #000000; text-decoration-color: #000000; background-color: #ffff00\">dates</span> in the <span style=\"color: #000000; text-decoration-color: #000000; background-color: #ffff00\">future</span> then to \n",
       "create <span style=\"color: #000000; text-decoration-color: #000000; background-color: #ffff00\">frustration</span> of <span style=\"color: #000000; text-decoration-color: #000000; background-color: #ffff00\">dates</span> which are not achieved.\n",
       "</pre>\n"
      ],
      "text/plain": [
       "yes, but at \u001b[30;48;2;255;255;0mtimes\u001b[0m where things are packed too \u001b[30;48;2;255;255;0moften\u001b[0m \u001b[30;48;2;255;255;0mpromises\u001b[0m were made in terms of due \u001b[30;48;2;255;255;0mdate\u001b[0m \n",
       "which were not achieved/achievable. Better to \u001b[30;48;2;255;255;0mpromise\u001b[0m \u001b[30;48;2;255;255;0mlater\u001b[0m \u001b[30;48;2;255;255;0mdates\u001b[0m in the \u001b[30;48;2;255;255;0mfuture\u001b[0m then to \n",
       "create \u001b[30;48;2;255;255;0mfrustration\u001b[0m of \u001b[30;48;2;255;255;0mdates\u001b[0m which are not achieved.\n"
      ]
     },
     "metadata": {},
     "output_type": "display_data"
    },
    {
     "name": "stdout",
     "output_type": "stream",
     "text": [
      "[('promises', 0.4658), ('dates', 0.3848), ('promise', 0.3786), ('later', 0.3671), ('date', 0.346), ('future', 0.3437), ('times', 0.3234), ('achievable', 0.2999), ('frustration', 0.2351), ('often', 0.2283)]\n"
     ]
    },
    {
     "data": {
      "text/html": [
       "<pre style=\"white-space:pre;overflow-x:auto;line-height:normal;font-family:Menlo,'DejaVu Sans Mono',consolas,'Courier New',monospace\"><span style=\"color: #000000; text-decoration-color: #000000; background-color: #ffff00\">nice</span> <span style=\"color: #000000; text-decoration-color: #000000; background-color: #ffff00\">atmosphere</span>\n",
       "</pre>\n"
      ],
      "text/plain": [
       "\u001b[30;48;2;255;255;0mnice\u001b[0m \u001b[30;48;2;255;255;0matmosphere\u001b[0m\n"
      ]
     },
     "metadata": {},
     "output_type": "display_data"
    },
    {
     "name": "stdout",
     "output_type": "stream",
     "text": [
      "[('atmosphere', 0.7861), ('nice', 0.5637)]\n"
     ]
    },
    {
     "data": {
      "text/html": [
       "<pre style=\"white-space:pre;overflow-x:auto;line-height:normal;font-family:Menlo,'DejaVu Sans Mono',consolas,'Courier New',monospace\"><span style=\"color: #000000; text-decoration-color: #000000; background-color: #ffff00\">think</span> <span style=\"color: #000000; text-decoration-color: #000000; background-color: #ffff00\">the</span> <span style=\"color: #000000; text-decoration-color: #000000; background-color: #ffff00\">final</span> <span style=\"color: #000000; text-decoration-color: #000000; background-color: #ffff00\">solution</span> <span style=\"color: #000000; text-decoration-color: #000000; background-color: #ffff00\">is</span> <span style=\"color: #000000; text-decoration-color: #000000; background-color: #ffff00\">really</span> <span style=\"color: #000000; text-decoration-color: #000000; background-color: #ffff00\">working</span> <span style=\"color: #000000; text-decoration-color: #000000; background-color: #ffff00\">ok</span>\n",
       "</pre>\n"
      ],
      "text/plain": [
       "\u001b[30;48;2;255;255;0mthink\u001b[0m \u001b[30;48;2;255;255;0mthe\u001b[0m \u001b[30;48;2;255;255;0mfinal\u001b[0m \u001b[30;48;2;255;255;0msolution\u001b[0m \u001b[30;48;2;255;255;0mis\u001b[0m \u001b[30;48;2;255;255;0mreally\u001b[0m \u001b[30;48;2;255;255;0mworking\u001b[0m \u001b[30;48;2;255;255;0mok\u001b[0m\n"
      ]
     },
     "metadata": {},
     "output_type": "display_data"
    },
    {
     "name": "stdout",
     "output_type": "stream",
     "text": [
      "[('solution', 0.5426), ('final', 0.5385), ('think', 0.372), ('ok', 0.3716), ('working', 0.3688), ('really', 0.2974), ('the', 0.2353), ('is', 0.2024)]\n"
     ]
    },
    {
     "data": {
      "text/html": [
       "<pre style=\"white-space:pre;overflow-x:auto;line-height:normal;font-family:Menlo,'DejaVu Sans Mono',consolas,'Courier New',monospace\">in the <span style=\"color: #000000; text-decoration-color: #000000; background-color: #ffff00\">end</span> yes, <span style=\"color: #000000; text-decoration-color: #000000; background-color: #ffff00\">but</span> I <span style=\"color: #000000; text-decoration-color: #000000; background-color: #ffff00\">think</span> <span style=\"color: #000000; text-decoration-color: #000000; background-color: #ffff00\">with</span> a lot of <span style=\"color: #000000; text-decoration-color: #000000; background-color: #ffff00\">compromises</span> to <span style=\"color: #000000; text-decoration-color: #000000; background-color: #ffff00\">personal</span> <span style=\"color: #000000; text-decoration-color: #000000; background-color: #ffff00\">time</span> of <span style=\"color: #000000; text-decoration-color: #000000; background-color: #ffff00\">both</span> <span style=\"color: #000000; text-decoration-color: #000000; background-color: #ffff00\">deloitte</span> &amp; \n",
       "<span style=\"color: #000000; text-decoration-color: #000000; background-color: #ffff00\">bluecrux</span>\n",
       "</pre>\n"
      ],
      "text/plain": [
       "in the \u001b[30;48;2;255;255;0mend\u001b[0m yes, \u001b[30;48;2;255;255;0mbut\u001b[0m I \u001b[30;48;2;255;255;0mthink\u001b[0m \u001b[30;48;2;255;255;0mwith\u001b[0m a lot of \u001b[30;48;2;255;255;0mcompromises\u001b[0m to \u001b[30;48;2;255;255;0mpersonal\u001b[0m \u001b[30;48;2;255;255;0mtime\u001b[0m of \u001b[30;48;2;255;255;0mboth\u001b[0m \u001b[30;48;2;255;255;0mdeloitte\u001b[0m & \n",
       "\u001b[30;48;2;255;255;0mbluecrux\u001b[0m\n"
      ]
     },
     "metadata": {},
     "output_type": "display_data"
    },
    {
     "name": "stdout",
     "output_type": "stream",
     "text": [
      "[('bluecrux', 0.5177), ('time', 0.4223), ('deloitte', 0.4131), ('compromises', 0.37), ('both', 0.3617), ('end', 0.332), ('but', 0.301), ('personal', 0.2975), ('with', 0.286), ('think', 0.284)]\n"
     ]
    },
    {
     "data": {
      "text/html": [
       "<pre style=\"white-space:pre;overflow-x:auto;line-height:normal;font-family:Menlo,'DejaVu Sans Mono',consolas,'Courier New',monospace\"><span style=\"color: #000000; text-decoration-color: #000000; background-color: #ffff00\">great</span> <span style=\"color: #000000; text-decoration-color: #000000; background-color: #ffff00\">platform</span> <span style=\"color: #000000; text-decoration-color: #000000; background-color: #ffff00\">which</span> <span style=\"color: #000000; text-decoration-color: #000000; background-color: #ffff00\">was</span> <span style=\"color: #000000; text-decoration-color: #000000; background-color: #ffff00\">key</span> <span style=\"color: #000000; text-decoration-color: #000000; background-color: #ffff00\">to</span> <span style=\"color: #000000; text-decoration-color: #000000; background-color: #ffff00\">sustain</span> <span style=\"color: #000000; text-decoration-color: #000000; background-color: #ffff00\">our</span> <span style=\"color: #000000; text-decoration-color: #000000; background-color: #ffff00\">growth</span>\n",
       "</pre>\n"
      ],
      "text/plain": [
       "\u001b[30;48;2;255;255;0mgreat\u001b[0m \u001b[30;48;2;255;255;0mplatform\u001b[0m \u001b[30;48;2;255;255;0mwhich\u001b[0m \u001b[30;48;2;255;255;0mwas\u001b[0m \u001b[30;48;2;255;255;0mkey\u001b[0m \u001b[30;48;2;255;255;0mto\u001b[0m \u001b[30;48;2;255;255;0msustain\u001b[0m \u001b[30;48;2;255;255;0mour\u001b[0m \u001b[30;48;2;255;255;0mgrowth\u001b[0m\n"
      ]
     },
     "metadata": {},
     "output_type": "display_data"
    },
    {
     "name": "stdout",
     "output_type": "stream",
     "text": [
      "[('platform', 0.5035), ('growth', 0.4606), ('sustain', 0.4197), ('great', 0.3398), ('which', 0.2604), ('our', 0.2526), ('to', 0.2139), ('key', 0.1957), ('was', 0.1364)]\n"
     ]
    },
    {
     "data": {
      "text/html": [
       "<pre style=\"white-space:pre;overflow-x:auto;line-height:normal;font-family:Menlo,'DejaVu Sans Mono',consolas,'Courier New',monospace\"><span style=\"color: #000000; text-decoration-color: #000000; background-color: #ffff00\">No</span> <span style=\"color: #000000; text-decoration-color: #000000; background-color: #ffff00\">problem</span> <span style=\"color: #000000; text-decoration-color: #000000; background-color: #ffff00\">at</span> all.\n",
       "</pre>\n"
      ],
      "text/plain": [
       "\u001b[30;48;2;255;255;0mNo\u001b[0m \u001b[30;48;2;255;255;0mproblem\u001b[0m \u001b[30;48;2;255;255;0mat\u001b[0m all.\n"
      ]
     },
     "metadata": {},
     "output_type": "display_data"
    },
    {
     "name": "stdout",
     "output_type": "stream",
     "text": [
      "[('all', 0.4015), ('at', 0.3049), ('no', 0.2847), ('problem', 0.1652)]\n"
     ]
    },
    {
     "data": {
      "text/html": [
       "<pre style=\"white-space:pre;overflow-x:auto;line-height:normal;font-family:Menlo,'DejaVu Sans Mono',consolas,'Courier New',monospace\"><span style=\"color: #000000; text-decoration-color: #000000; background-color: #ffff00\">Jan</span> Eric, <span style=\"color: #000000; text-decoration-color: #000000; background-color: #ffff00\">he</span> knows <span style=\"color: #000000; text-decoration-color: #000000; background-color: #ffff00\">Archer</span> very well and that's a advantage. <span style=\"color: #000000; text-decoration-color: #000000; background-color: #ffff00\">Andreas</span> and Hanne, very <span style=\"color: #000000; text-decoration-color: #000000; background-color: #ffff00\">competent</span>\n",
       "persons and easy to work with, I miss <span style=\"color: #000000; text-decoration-color: #000000; background-color: #ffff00\">them</span> already. Mike, same kind of person, <span style=\"color: #000000; text-decoration-color: #000000; background-color: #ffff00\">competent</span> in a\n",
       "different area and very easy to work with.\n",
       "</pre>\n"
      ],
      "text/plain": [
       "\u001b[30;48;2;255;255;0mJan\u001b[0m Eric, \u001b[30;48;2;255;255;0mhe\u001b[0m knows \u001b[30;48;2;255;255;0mArcher\u001b[0m very well and that's a advantage. \u001b[30;48;2;255;255;0mAndreas\u001b[0m and Hanne, very \u001b[30;48;2;255;255;0mcompetent\u001b[0m\n",
       "persons and easy to work with, I miss \u001b[30;48;2;255;255;0mthem\u001b[0m already. Mike, same kind of person, \u001b[30;48;2;255;255;0mcompetent\u001b[0m in a\n",
       "different area and very easy to work with.\n"
      ]
     },
     "metadata": {},
     "output_type": "display_data"
    },
    {
     "name": "stdout",
     "output_type": "stream",
     "text": [
      "[('archer', 0.4308), ('eric', 0.3736), ('mike', 0.3591), ('competent', 0.3232), ('he', 0.3109), ('them', 0.306), ('andreas', 0.2844), ('jan', 0.2662), ('hanne', 0.2616), ('advantage', 0.2479)]\n"
     ]
    },
    {
     "data": {
      "text/html": [
       "<pre style=\"white-space:pre;overflow-x:auto;line-height:normal;font-family:Menlo,'DejaVu Sans Mono',consolas,'Courier New',monospace\"><span style=\"color: #000000; text-decoration-color: #000000; background-color: #ffff00\">come</span> <span style=\"color: #000000; text-decoration-color: #000000; background-color: #ffff00\">better</span> <span style=\"color: #000000; text-decoration-color: #000000; background-color: #ffff00\">prepare</span> to <span style=\"color: #000000; text-decoration-color: #000000; background-color: #ffff00\">first</span> <span style=\"color: #000000; text-decoration-color: #000000; background-color: #ffff00\">meeting</span> as <span style=\"color: #000000; text-decoration-color: #000000; background-color: #ffff00\">we</span> could <span style=\"color: #000000; text-decoration-color: #000000; background-color: #ffff00\">have</span> miss the excellent <span style=\"color: #000000; text-decoration-color: #000000; background-color: #ffff00\">collaboration</span> \n",
       "because of not so <span style=\"color: #000000; text-decoration-color: #000000; background-color: #ffff00\">good</span> <span style=\"color: #000000; text-decoration-color: #000000; background-color: #ffff00\">first</span> <span style=\"color: #000000; text-decoration-color: #000000; background-color: #ffff00\">impression</span>\n",
       "</pre>\n"
      ],
      "text/plain": [
       "\u001b[30;48;2;255;255;0mcome\u001b[0m \u001b[30;48;2;255;255;0mbetter\u001b[0m \u001b[30;48;2;255;255;0mprepare\u001b[0m to \u001b[30;48;2;255;255;0mfirst\u001b[0m \u001b[30;48;2;255;255;0mmeeting\u001b[0m as \u001b[30;48;2;255;255;0mwe\u001b[0m could \u001b[30;48;2;255;255;0mhave\u001b[0m miss the excellent \u001b[30;48;2;255;255;0mcollaboration\u001b[0m \n",
       "because of not so \u001b[30;48;2;255;255;0mgood\u001b[0m \u001b[30;48;2;255;255;0mfirst\u001b[0m \u001b[30;48;2;255;255;0mimpression\u001b[0m\n"
      ]
     },
     "metadata": {},
     "output_type": "display_data"
    },
    {
     "name": "stdout",
     "output_type": "stream",
     "text": [
      "[('meeting', 0.5725), ('collaboration', 0.5035), ('first', 0.4117), ('better', 0.3564), ('we', 0.3539), ('prepare', 0.3115), ('impression', 0.2936), ('come', 0.2819), ('have', 0.2576), ('good', 0.2481)]\n"
     ]
    },
    {
     "data": {
      "text/html": [
       "<pre style=\"white-space:pre;overflow-x:auto;line-height:normal;font-family:Menlo,'DejaVu Sans Mono',consolas,'Courier New',monospace\">Yes, <span style=\"color: #000000; text-decoration-color: #000000; background-color: #ffff00\">good</span> <span style=\"color: #000000; text-decoration-color: #000000; background-color: #ffff00\">quality</span> <span style=\"color: #000000; text-decoration-color: #000000; background-color: #ffff00\">outputs</span> <span style=\"color: #000000; text-decoration-color: #000000; background-color: #ffff00\">that</span> <span style=\"color: #000000; text-decoration-color: #000000; background-color: #ffff00\">were</span> then <span style=\"color: #000000; text-decoration-color: #000000; background-color: #ffff00\">well</span> <span style=\"color: #000000; text-decoration-color: #000000; background-color: #ffff00\">received</span> by <span style=\"color: #000000; text-decoration-color: #000000; background-color: #ffff00\">our</span> client.\n",
       "</pre>\n"
      ],
      "text/plain": [
       "Yes, \u001b[30;48;2;255;255;0mgood\u001b[0m \u001b[30;48;2;255;255;0mquality\u001b[0m \u001b[30;48;2;255;255;0moutputs\u001b[0m \u001b[30;48;2;255;255;0mthat\u001b[0m \u001b[30;48;2;255;255;0mwere\u001b[0m then \u001b[30;48;2;255;255;0mwell\u001b[0m \u001b[30;48;2;255;255;0mreceived\u001b[0m by \u001b[30;48;2;255;255;0mour\u001b[0m client.\n"
      ]
     },
     "metadata": {},
     "output_type": "display_data"
    },
    {
     "name": "stdout",
     "output_type": "stream",
     "text": [
      "[('quality', 0.6052), ('good', 0.5203), ('outputs', 0.3766), ('received', 0.3427), ('client', 0.3231), ('well', 0.3223), ('our', 0.2444), ('yes', 0.2203), ('were', 0.1704), ('that', 0.148)]\n"
     ]
    },
    {
     "data": {
      "text/html": [
       "<pre style=\"white-space:pre;overflow-x:auto;line-height:normal;font-family:Menlo,'DejaVu Sans Mono',consolas,'Courier New',monospace\"><span style=\"color: #000000; text-decoration-color: #000000; background-color: #ffff00\">Strong</span> <span style=\"color: #000000; text-decoration-color: #000000; background-color: #ffff00\">levels</span> of <span style=\"color: #000000; text-decoration-color: #000000; background-color: #ffff00\">collaboration</span> and <span style=\"color: #000000; text-decoration-color: #000000; background-color: #ffff00\">communication</span> <span style=\"color: #000000; text-decoration-color: #000000; background-color: #ffff00\">across</span> the <span style=\"color: #000000; text-decoration-color: #000000; background-color: #ffff00\">teams</span> with access to <span style=\"color: #000000; text-decoration-color: #000000; background-color: #ffff00\">senior</span> <span style=\"color: #000000; text-decoration-color: #000000; background-color: #ffff00\">level</span>\n",
       "<span style=\"color: #000000; text-decoration-color: #000000; background-color: #ffff00\">input</span> as required.\n",
       "</pre>\n"
      ],
      "text/plain": [
       "\u001b[30;48;2;255;255;0mStrong\u001b[0m \u001b[30;48;2;255;255;0mlevels\u001b[0m of \u001b[30;48;2;255;255;0mcollaboration\u001b[0m and \u001b[30;48;2;255;255;0mcommunication\u001b[0m \u001b[30;48;2;255;255;0macross\u001b[0m the \u001b[30;48;2;255;255;0mteams\u001b[0m with access to \u001b[30;48;2;255;255;0msenior\u001b[0m \u001b[30;48;2;255;255;0mlevel\u001b[0m\n",
       "\u001b[30;48;2;255;255;0minput\u001b[0m as required.\n"
      ]
     },
     "metadata": {},
     "output_type": "display_data"
    },
    {
     "name": "stdout",
     "output_type": "stream",
     "text": [
      "[('collaboration', 0.5546), ('teams', 0.5423), ('communication', 0.3702), ('senior', 0.3503), ('level', 0.2738), ('input', 0.2505), ('levels', 0.2486), ('across', 0.2281), ('required', 0.2052), ('strong', 0.2046)]\n"
     ]
    },
    {
     "data": {
      "text/html": [
       "<pre style=\"white-space:pre;overflow-x:auto;line-height:normal;font-family:Menlo,'DejaVu Sans Mono',consolas,'Courier New',monospace\">The <span style=\"color: #000000; text-decoration-color: #000000; background-color: #ffff00\">rates</span> through our IFA allowed us to <span style=\"color: #000000; text-decoration-color: #000000; background-color: #ffff00\">work</span> within our <span style=\"color: #000000; text-decoration-color: #000000; background-color: #ffff00\">predicted</span> <span style=\"color: #000000; text-decoration-color: #000000; background-color: #ffff00\">commercial</span> <span style=\"color: #000000; text-decoration-color: #000000; background-color: #ffff00\">model</span> and \n",
       "<span style=\"color: #000000; text-decoration-color: #000000; background-color: #ffff00\">deliver</span> high <span style=\"color: #000000; text-decoration-color: #000000; background-color: #ffff00\">quality</span> <span style=\"color: #000000; text-decoration-color: #000000; background-color: #ffff00\">outputs</span> to the <span style=\"color: #000000; text-decoration-color: #000000; background-color: #ffff00\">client</span> within budget.\n",
       "</pre>\n"
      ],
      "text/plain": [
       "The \u001b[30;48;2;255;255;0mrates\u001b[0m through our IFA allowed us to \u001b[30;48;2;255;255;0mwork\u001b[0m within our \u001b[30;48;2;255;255;0mpredicted\u001b[0m \u001b[30;48;2;255;255;0mcommercial\u001b[0m \u001b[30;48;2;255;255;0mmodel\u001b[0m and \n",
       "\u001b[30;48;2;255;255;0mdeliver\u001b[0m high \u001b[30;48;2;255;255;0mquality\u001b[0m \u001b[30;48;2;255;255;0moutputs\u001b[0m to the \u001b[30;48;2;255;255;0mclient\u001b[0m within budget.\n"
      ]
     },
     "metadata": {},
     "output_type": "display_data"
    },
    {
     "name": "stdout",
     "output_type": "stream",
     "text": [
      "[('predicted', 0.3935), ('outputs', 0.3493), ('model', 0.3488), ('quality', 0.3367), ('rates', 0.3352), ('budget', 0.306), ('client', 0.2455), ('work', 0.1714), ('commercial', 0.1615), ('deliver', 0.1541)]\n"
     ]
    },
    {
     "data": {
      "text/html": [
       "<pre style=\"white-space:pre;overflow-x:auto;line-height:normal;font-family:Menlo,'DejaVu Sans Mono',consolas,'Courier New',monospace\">Very <span style=\"color: #000000; text-decoration-color: #000000; background-color: #ffff00\">positive</span> <span style=\"color: #000000; text-decoration-color: #000000; background-color: #ffff00\">feedback</span> from the <span style=\"color: #000000; text-decoration-color: #000000; background-color: #ffff00\">client</span> <span style=\"color: #000000; text-decoration-color: #000000; background-color: #ffff00\">on</span> the <span style=\"color: #000000; text-decoration-color: #000000; background-color: #ffff00\">quality</span> of the <span style=\"color: #000000; text-decoration-color: #000000; background-color: #ffff00\">digital</span> <span style=\"color: #000000; text-decoration-color: #000000; background-color: #ffff00\">twin</span> <span style=\"color: #000000; text-decoration-color: #000000; background-color: #ffff00\">pilots</span> that <span style=\"color: #000000; text-decoration-color: #000000; background-color: #ffff00\">were</span> \n",
       "created.\n",
       "</pre>\n"
      ],
      "text/plain": [
       "Very \u001b[30;48;2;255;255;0mpositive\u001b[0m \u001b[30;48;2;255;255;0mfeedback\u001b[0m from the \u001b[30;48;2;255;255;0mclient\u001b[0m \u001b[30;48;2;255;255;0mon\u001b[0m the \u001b[30;48;2;255;255;0mquality\u001b[0m of the \u001b[30;48;2;255;255;0mdigital\u001b[0m \u001b[30;48;2;255;255;0mtwin\u001b[0m \u001b[30;48;2;255;255;0mpilots\u001b[0m that \u001b[30;48;2;255;255;0mwere\u001b[0m \n",
       "created.\n"
      ]
     },
     "metadata": {},
     "output_type": "display_data"
    },
    {
     "name": "stdout",
     "output_type": "stream",
     "text": [
      "[('pilots', 0.4391), ('feedback', 0.4196), ('quality', 0.3518), ('positive', 0.3402), ('twin', 0.2747), ('digital', 0.2689), ('client', 0.1963), ('on', 0.143), ('were', 0.1342), ('created', 0.1296)]\n"
     ]
    },
    {
     "data": {
      "text/html": [
       "<pre style=\"white-space:pre;overflow-x:auto;line-height:normal;font-family:Menlo,'DejaVu Sans Mono',consolas,'Courier New',monospace\">Very successful, in a <span style=\"color: #000000; text-decoration-color: #000000; background-color: #ffff00\">way</span> <span style=\"color: #000000; text-decoration-color: #000000; background-color: #ffff00\">we</span> <span style=\"color: #000000; text-decoration-color: #000000; background-color: #ffff00\">both</span> <span style=\"color: #000000; text-decoration-color: #000000; background-color: #ffff00\">learned</span> that <span style=\"color: #000000; text-decoration-color: #000000; background-color: #ffff00\">supporting</span> the <span style=\"color: #000000; text-decoration-color: #000000; background-color: #ffff00\">transition</span> virtually was \n",
       "probably <span style=\"color: #000000; text-decoration-color: #000000; background-color: #ffff00\">more</span> <span style=\"color: #000000; text-decoration-color: #000000; background-color: #ffff00\">successful</span> <span style=\"color: #000000; text-decoration-color: #000000; background-color: #ffff00\">then</span> face-to-face.\n",
       "</pre>\n"
      ],
      "text/plain": [
       "Very successful, in a \u001b[30;48;2;255;255;0mway\u001b[0m \u001b[30;48;2;255;255;0mwe\u001b[0m \u001b[30;48;2;255;255;0mboth\u001b[0m \u001b[30;48;2;255;255;0mlearned\u001b[0m that \u001b[30;48;2;255;255;0msupporting\u001b[0m the \u001b[30;48;2;255;255;0mtransition\u001b[0m virtually was \n",
       "probably \u001b[30;48;2;255;255;0mmore\u001b[0m \u001b[30;48;2;255;255;0msuccessful\u001b[0m \u001b[30;48;2;255;255;0mthen\u001b[0m face-to-face.\n"
      ]
     },
     "metadata": {},
     "output_type": "display_data"
    },
    {
     "name": "stdout",
     "output_type": "stream",
     "text": [
      "[('successful', 0.4585), ('transition', 0.3842), ('both', 0.2986), ('more', 0.2544), ('learned', 0.25), ('we', 0.2029), ('supporting', 0.2016), ('then', 0.1484), ('to', 0.1345), ('way', 0.1315)]\n"
     ]
    },
    {
     "data": {
      "text/html": [
       "<pre style=\"white-space:pre;overflow-x:auto;line-height:normal;font-family:Menlo,'DejaVu Sans Mono',consolas,'Courier New',monospace\"><span style=\"color: #000000; text-decoration-color: #000000; background-color: #ffff00\">Yes</span> <span style=\"color: #000000; text-decoration-color: #000000; background-color: #ffff00\">absolutely</span> - <span style=\"color: #000000; text-decoration-color: #000000; background-color: #ffff00\">we</span> <span style=\"color: #000000; text-decoration-color: #000000; background-color: #ffff00\">had</span> a <span style=\"color: #000000; text-decoration-color: #000000; background-color: #ffff00\">clear</span> <span style=\"color: #000000; text-decoration-color: #000000; background-color: #ffff00\">maturity</span> <span style=\"color: #000000; text-decoration-color: #000000; background-color: #ffff00\">assessment</span> protocol!\n",
       "</pre>\n"
      ],
      "text/plain": [
       "\u001b[30;48;2;255;255;0mYes\u001b[0m \u001b[30;48;2;255;255;0mabsolutely\u001b[0m - \u001b[30;48;2;255;255;0mwe\u001b[0m \u001b[30;48;2;255;255;0mhad\u001b[0m a \u001b[30;48;2;255;255;0mclear\u001b[0m \u001b[30;48;2;255;255;0mmaturity\u001b[0m \u001b[30;48;2;255;255;0massessment\u001b[0m protocol!\n"
      ]
     },
     "metadata": {},
     "output_type": "display_data"
    },
    {
     "name": "stdout",
     "output_type": "stream",
     "text": [
      "[('maturity', 0.502), ('assessment', 0.4134), ('protocol', 0.3581), ('absolutely', 0.3367), ('yes', 0.3033), ('clear', 0.2506), ('we', 0.2232), ('had', 0.1745)]\n"
     ]
    },
    {
     "data": {
      "text/html": [
       "<pre style=\"white-space:pre;overflow-x:auto;line-height:normal;font-family:Menlo,'DejaVu Sans Mono',consolas,'Courier New',monospace\"><span style=\"color: #000000; text-decoration-color: #000000; background-color: #ffff00\">Nothing</span> <span style=\"color: #000000; text-decoration-color: #000000; background-color: #ffff00\">in</span> <span style=\"color: #000000; text-decoration-color: #000000; background-color: #ffff00\">particular</span> to <span style=\"color: #000000; text-decoration-color: #000000; background-color: #ffff00\">say</span> on this topic. But <span style=\"color: #000000; text-decoration-color: #000000; background-color: #ffff00\">also</span> <span style=\"color: #000000; text-decoration-color: #000000; background-color: #ffff00\">no</span> <span style=\"color: #000000; text-decoration-color: #000000; background-color: #ffff00\">breakthrough</span> <span style=\"color: #000000; text-decoration-color: #000000; background-color: #ffff00\">innovation</span> that I hadn't\n",
       "seen so far\n",
       "</pre>\n"
      ],
      "text/plain": [
       "\u001b[30;48;2;255;255;0mNothing\u001b[0m \u001b[30;48;2;255;255;0min\u001b[0m \u001b[30;48;2;255;255;0mparticular\u001b[0m to \u001b[30;48;2;255;255;0msay\u001b[0m on this topic. But \u001b[30;48;2;255;255;0malso\u001b[0m \u001b[30;48;2;255;255;0mno\u001b[0m \u001b[30;48;2;255;255;0mbreakthrough\u001b[0m \u001b[30;48;2;255;255;0minnovation\u001b[0m that I hadn't\n",
       "seen so far\n"
      ]
     },
     "metadata": {},
     "output_type": "display_data"
    },
    {
     "name": "stdout",
     "output_type": "stream",
     "text": [
      "[('innovation', 0.5739), ('breakthrough', 0.4766), ('topic', 0.2938), ('nothing', 0.2024), ('also', 0.1398), ('particular', 0.1188), ('say', 0.1169), ('hadn', 0.1152), ('no', 0.106), ('in', 0.09)]\n"
     ]
    },
    {
     "data": {
      "text/html": [
       "<pre style=\"white-space:pre;overflow-x:auto;line-height:normal;font-family:Menlo,'DejaVu Sans Mono',consolas,'Courier New',monospace\">Absolutely - there <span style=\"color: #000000; text-decoration-color: #000000; background-color: #ffff00\">was</span> a short <span style=\"color: #000000; text-decoration-color: #000000; background-color: #ffff00\">debrief</span> with Lieven, <span style=\"color: #000000; text-decoration-color: #000000; background-color: #ffff00\">and</span> <span style=\"color: #000000; text-decoration-color: #000000; background-color: #ffff00\">he</span> <span style=\"color: #000000; text-decoration-color: #000000; background-color: #ffff00\">started</span> <span style=\"color: #000000; text-decoration-color: #000000; background-color: #ffff00\">immediately</span> to engage a \n",
       "team on the topic. This as <span style=\"color: #000000; text-decoration-color: #000000; background-color: #ffff00\">well</span> for Bio.be as for <span style=\"color: #000000; text-decoration-color: #000000; background-color: #ffff00\">Takeda</span>\n",
       "</pre>\n"
      ],
      "text/plain": [
       "Absolutely - there \u001b[30;48;2;255;255;0mwas\u001b[0m a short \u001b[30;48;2;255;255;0mdebrief\u001b[0m with Lieven, \u001b[30;48;2;255;255;0mand\u001b[0m \u001b[30;48;2;255;255;0mhe\u001b[0m \u001b[30;48;2;255;255;0mstarted\u001b[0m \u001b[30;48;2;255;255;0mimmediately\u001b[0m to engage a \n",
       "team on the topic. This as \u001b[30;48;2;255;255;0mwell\u001b[0m for Bio.be as for \u001b[30;48;2;255;255;0mTakeda\u001b[0m\n"
      ]
     },
     "metadata": {},
     "output_type": "display_data"
    },
    {
     "name": "stdout",
     "output_type": "stream",
     "text": [
      "[('bio', 0.3623), ('takeda', 0.3273), ('debrief', 0.2984), ('was', 0.2837), ('started', 0.2722), ('topic', 0.2634), ('he', 0.2487), ('well', 0.2343), ('immediately', 0.2268), ('and', 0.2196)]\n"
     ]
    },
    {
     "data": {
      "text/html": [
       "<pre style=\"white-space:pre;overflow-x:auto;line-height:normal;font-family:Menlo,'DejaVu Sans Mono',consolas,'Courier New',monospace\"><span style=\"color: #000000; text-decoration-color: #000000; background-color: #ffff00\">They</span> <span style=\"color: #000000; text-decoration-color: #000000; background-color: #ffff00\">are</span> <span style=\"color: #000000; text-decoration-color: #000000; background-color: #ffff00\">reading</span> <span style=\"color: #000000; text-decoration-color: #000000; background-color: #ffff00\">my</span> <span style=\"color: #000000; text-decoration-color: #000000; background-color: #ffff00\">mind</span> :-)\n",
       "</pre>\n"
      ],
      "text/plain": [
       "\u001b[30;48;2;255;255;0mThey\u001b[0m \u001b[30;48;2;255;255;0mare\u001b[0m \u001b[30;48;2;255;255;0mreading\u001b[0m \u001b[30;48;2;255;255;0mmy\u001b[0m \u001b[30;48;2;255;255;0mmind\u001b[0m :-)\n"
      ]
     },
     "metadata": {},
     "output_type": "display_data"
    },
    {
     "name": "stdout",
     "output_type": "stream",
     "text": [
      "[('mind', 0.4465), ('they', 0.4147), ('my', 0.3435), ('reading', 0.336), ('are', 0.2937)]\n"
     ]
    },
    {
     "data": {
      "text/html": [
       "<pre style=\"white-space:pre;overflow-x:auto;line-height:normal;font-family:Menlo,'DejaVu Sans Mono',consolas,'Courier New',monospace\"><span style=\"color: #000000; text-decoration-color: #000000; background-color: #ffff00\">We</span> <span style=\"color: #000000; text-decoration-color: #000000; background-color: #ffff00\">are</span> <span style=\"color: #000000; text-decoration-color: #000000; background-color: #ffff00\">well</span> <span style=\"color: #000000; text-decoration-color: #000000; background-color: #ffff00\">used</span> <span style=\"color: #000000; text-decoration-color: #000000; background-color: #ffff00\">to</span> <span style=\"color: #000000; text-decoration-color: #000000; background-color: #ffff00\">remote</span> <span style=\"color: #000000; text-decoration-color: #000000; background-color: #ffff00\">working</span> - <span style=\"color: #000000; text-decoration-color: #000000; background-color: #ffff00\">so</span> <span style=\"color: #000000; text-decoration-color: #000000; background-color: #ffff00\">all</span> <span style=\"color: #000000; text-decoration-color: #000000; background-color: #ffff00\">well</span> <span style=\"color: #000000; text-decoration-color: #000000; background-color: #ffff00\">set</span>\n",
       "</pre>\n"
      ],
      "text/plain": [
       "\u001b[30;48;2;255;255;0mWe\u001b[0m \u001b[30;48;2;255;255;0mare\u001b[0m \u001b[30;48;2;255;255;0mwell\u001b[0m \u001b[30;48;2;255;255;0mused\u001b[0m \u001b[30;48;2;255;255;0mto\u001b[0m \u001b[30;48;2;255;255;0mremote\u001b[0m \u001b[30;48;2;255;255;0mworking\u001b[0m - \u001b[30;48;2;255;255;0mso\u001b[0m \u001b[30;48;2;255;255;0mall\u001b[0m \u001b[30;48;2;255;255;0mwell\u001b[0m \u001b[30;48;2;255;255;0mset\u001b[0m\n"
      ]
     },
     "metadata": {},
     "output_type": "display_data"
    },
    {
     "name": "stdout",
     "output_type": "stream",
     "text": [
      "[('remote', 0.5861), ('we', 0.3471), ('working', 0.3456), ('used', 0.3302), ('well', 0.2957), ('so', 0.2521), ('all', 0.2137), ('set', 0.21), ('to', 0.1993), ('are', 0.1986)]\n"
     ]
    },
    {
     "data": {
      "text/html": [
       "<pre style=\"white-space:pre;overflow-x:auto;line-height:normal;font-family:Menlo,'DejaVu Sans Mono',consolas,'Courier New',monospace\">Zorg <span style=\"color: #000000; text-decoration-color: #000000; background-color: #ffff00\">ervoor</span> dat <span style=\"color: #000000; text-decoration-color: #000000; background-color: #ffff00\">jullie</span> <span style=\"color: #000000; text-decoration-color: #000000; background-color: #ffff00\">upfront</span> <span style=\"color: #000000; text-decoration-color: #000000; background-color: #ffff00\">eerlijk</span> <span style=\"color: #000000; text-decoration-color: #000000; background-color: #ffff00\">zijn</span> over <span style=\"color: #000000; text-decoration-color: #000000; background-color: #ffff00\">wie</span> beschikbaar is. Laat <span style=\"color: #000000; text-decoration-color: #000000; background-color: #ffff00\">een</span> <span style=\"color: #000000; text-decoration-color: #000000; background-color: #ffff00\">junior</span> <span style=\"color: #000000; text-decoration-color: #000000; background-color: #ffff00\">zoals</span> \n",
       "Maurice geen complexe <span style=\"color: #000000; text-decoration-color: #000000; background-color: #ffff00\">projecten</span> leiden.\n",
       "</pre>\n"
      ],
      "text/plain": [
       "Zorg \u001b[30;48;2;255;255;0mervoor\u001b[0m dat \u001b[30;48;2;255;255;0mjullie\u001b[0m \u001b[30;48;2;255;255;0mupfront\u001b[0m \u001b[30;48;2;255;255;0meerlijk\u001b[0m \u001b[30;48;2;255;255;0mzijn\u001b[0m over \u001b[30;48;2;255;255;0mwie\u001b[0m beschikbaar is. Laat \u001b[30;48;2;255;255;0meen\u001b[0m \u001b[30;48;2;255;255;0mjunior\u001b[0m \u001b[30;48;2;255;255;0mzoals\u001b[0m \n",
       "Maurice geen complexe \u001b[30;48;2;255;255;0mprojecten\u001b[0m leiden.\n"
      ]
     },
     "metadata": {},
     "output_type": "display_data"
    },
    {
     "name": "stdout",
     "output_type": "stream",
     "text": [
      "[('eerlijk', 0.4541), ('upfront', 0.4221), ('junior', 0.3892), ('ervoor', 0.3613), ('projecten', 0.3542), ('jullie', 0.3507), ('zoals', 0.3473), ('een', 0.3396), ('wie', 0.2946), ('zijn', 0.2934)]\n"
     ]
    },
    {
     "data": {
      "text/html": [
       "<pre style=\"white-space:pre;overflow-x:auto;line-height:normal;font-family:Menlo,'DejaVu Sans Mono',consolas,'Courier New',monospace\"><span style=\"color: #000000; text-decoration-color: #000000; background-color: #ffff00\">zie</span> <span style=\"color: #000000; text-decoration-color: #000000; background-color: #ffff00\">vorig</span> <span style=\"color: #000000; text-decoration-color: #000000; background-color: #ffff00\">punt</span>\n",
       "</pre>\n"
      ],
      "text/plain": [
       "\u001b[30;48;2;255;255;0mzie\u001b[0m \u001b[30;48;2;255;255;0mvorig\u001b[0m \u001b[30;48;2;255;255;0mpunt\u001b[0m\n"
      ]
     },
     "metadata": {},
     "output_type": "display_data"
    },
    {
     "name": "stdout",
     "output_type": "stream",
     "text": [
      "[('vorig', 0.7615), ('punt', 0.7145), ('zie', 0.689)]\n"
     ]
    },
    {
     "data": {
      "text/html": [
       "<pre style=\"white-space:pre;overflow-x:auto;line-height:normal;font-family:Menlo,'DejaVu Sans Mono',consolas,'Courier New',monospace\">Initieel niet, <span style=\"color: #000000; text-decoration-color: #000000; background-color: #ffff00\">maar</span> vanaf januari, <span style=\"color: #000000; text-decoration-color: #000000; background-color: #ffff00\">eenmaal</span> Toon <span style=\"color: #000000; text-decoration-color: #000000; background-color: #ffff00\">Peeters</span> <span style=\"color: #000000; text-decoration-color: #000000; background-color: #ffff00\">echt</span> <span style=\"color: #000000; text-decoration-color: #000000; background-color: #ffff00\">betrokken</span> was, <span style=\"color: #000000; text-decoration-color: #000000; background-color: #ffff00\">zeker</span> wel.\n",
       "</pre>\n"
      ],
      "text/plain": [
       "Initieel niet, \u001b[30;48;2;255;255;0mmaar\u001b[0m vanaf januari, \u001b[30;48;2;255;255;0meenmaal\u001b[0m Toon \u001b[30;48;2;255;255;0mPeeters\u001b[0m \u001b[30;48;2;255;255;0mecht\u001b[0m \u001b[30;48;2;255;255;0mbetrokken\u001b[0m was, \u001b[30;48;2;255;255;0mzeker\u001b[0m wel.\n"
      ]
     },
     "metadata": {},
     "output_type": "display_data"
    },
    {
     "name": "stdout",
     "output_type": "stream",
     "text": [
      "[('peeters', 0.4373), ('echt', 0.3916), ('januari', 0.3887), ('maar', 0.3869), ('eenmaal', 0.3393), ('niet', 0.3365), ('was', 0.3229), ('wel', 0.2999), ('betrokken', 0.2548), ('zeker', 0.2526)]\n"
     ]
    },
    {
     "data": {
      "text/html": [
       "<pre style=\"white-space:pre;overflow-x:auto;line-height:normal;font-family:Menlo,'DejaVu Sans Mono',consolas,'Courier New',monospace\"><span style=\"color: #000000; text-decoration-color: #000000; background-color: #ffff00\">Score</span> <span style=\"color: #000000; text-decoration-color: #000000; background-color: #ffff00\">obv</span> <span style=\"color: #000000; text-decoration-color: #000000; background-color: #ffff00\">samenwerking</span> <span style=\"color: #000000; text-decoration-color: #000000; background-color: #ffff00\">in</span> <span style=\"color: #000000; text-decoration-color: #000000; background-color: #ffff00\">2de</span> fase; <span style=\"color: #000000; text-decoration-color: #000000; background-color: #ffff00\">eerste</span> fase: <span style=\"color: #000000; text-decoration-color: #000000; background-color: #ffff00\">score</span> 1\n",
       "</pre>\n"
      ],
      "text/plain": [
       "\u001b[30;48;2;255;255;0mScore\u001b[0m \u001b[30;48;2;255;255;0mobv\u001b[0m \u001b[30;48;2;255;255;0msamenwerking\u001b[0m \u001b[30;48;2;255;255;0min\u001b[0m \u001b[30;48;2;255;255;0m2de\u001b[0m fase; \u001b[30;48;2;255;255;0meerste\u001b[0m fase: \u001b[30;48;2;255;255;0mscore\u001b[0m 1\n"
      ]
     },
     "metadata": {},
     "output_type": "display_data"
    },
    {
     "name": "stdout",
     "output_type": "stream",
     "text": [
      "[('score', 0.5484), ('obv', 0.4665), ('samenwerking', 0.4538), ('2de', 0.3714), ('fase', 0.3452), ('in', 0.2948), ('eerste', 0.2903)]\n"
     ]
    },
    {
     "data": {
      "text/html": [
       "<pre style=\"white-space:pre;overflow-x:auto;line-height:normal;font-family:Menlo,'DejaVu Sans Mono',consolas,'Courier New',monospace\"><span style=\"color: #000000; text-decoration-color: #000000; background-color: #ffff00\">Het</span> <span style=\"color: #000000; text-decoration-color: #000000; background-color: #ffff00\">heeft</span> <span style=\"color: #000000; text-decoration-color: #000000; background-color: #ffff00\">lang</span> geduurd <span style=\"color: #000000; text-decoration-color: #000000; background-color: #ffff00\">tegen</span> <span style=\"color: #000000; text-decoration-color: #000000; background-color: #ffff00\">dat</span> <span style=\"color: #000000; text-decoration-color: #000000; background-color: #ffff00\">het</span> nodige <span style=\"color: #000000; text-decoration-color: #000000; background-color: #ffff00\">begrip</span> er was. Na de <span style=\"color: #000000; text-decoration-color: #000000; background-color: #ffff00\">team</span> <span style=\"color: #000000; text-decoration-color: #000000; background-color: #ffff00\">switch</span> <span style=\"color: #000000; text-decoration-color: #000000; background-color: #ffff00\">was</span> <span style=\"color: #000000; text-decoration-color: #000000; background-color: #ffff00\">het</span> \n",
       "merkelijk beter.\n",
       "</pre>\n"
      ],
      "text/plain": [
       "\u001b[30;48;2;255;255;0mHet\u001b[0m \u001b[30;48;2;255;255;0mheeft\u001b[0m \u001b[30;48;2;255;255;0mlang\u001b[0m geduurd \u001b[30;48;2;255;255;0mtegen\u001b[0m \u001b[30;48;2;255;255;0mdat\u001b[0m \u001b[30;48;2;255;255;0mhet\u001b[0m nodige \u001b[30;48;2;255;255;0mbegrip\u001b[0m er was. Na de \u001b[30;48;2;255;255;0mteam\u001b[0m \u001b[30;48;2;255;255;0mswitch\u001b[0m \u001b[30;48;2;255;255;0mwas\u001b[0m \u001b[30;48;2;255;255;0mhet\u001b[0m \n",
       "merkelijk beter.\n"
      ]
     },
     "metadata": {},
     "output_type": "display_data"
    },
    {
     "name": "stdout",
     "output_type": "stream",
     "text": [
      "[('team', 0.35), ('beter', 0.3123), ('switch', 0.3004), ('heeft', 0.1932), ('was', 0.1687), ('begrip', 0.1586), ('lang', 0.1579), ('tegen', 0.1146), ('dat', 0.0895), ('het', 0.0809)]\n"
     ]
    },
    {
     "data": {
      "text/html": [
       "<pre style=\"white-space:pre;overflow-x:auto;line-height:normal;font-family:Menlo,'DejaVu Sans Mono',consolas,'Courier New',monospace\">It was our <span style=\"color: #000000; text-decoration-color: #000000; background-color: #ffff00\">first</span> year of intensive co-operation and both Deloitte and <span style=\"color: #000000; text-decoration-color: #000000; background-color: #ffff00\">PSS</span> had to learn each \n",
       "other <span style=\"color: #000000; text-decoration-color: #000000; background-color: #ffff00\">business</span> and way of working. Recognize as very <span style=\"color: #000000; text-decoration-color: #000000; background-color: #ffff00\">fast</span> bringing <span style=\"color: #000000; text-decoration-color: #000000; background-color: #ffff00\">first</span> data and draft \n",
       "delivery. Turning it into final outcomes <span style=\"color: #000000; text-decoration-color: #000000; background-color: #ffff00\">takes</span> to long. when <span style=\"color: #000000; text-decoration-color: #000000; background-color: #ffff00\">we</span> have a <span style=\"color: #000000; text-decoration-color: #000000; background-color: #ffff00\">effective</span> <span style=\"color: #000000; text-decoration-color: #000000; background-color: #ffff00\">work</span> session\n",
       "I see <span style=\"color: #000000; text-decoration-color: #000000; background-color: #ffff00\">we</span> pick up the <span style=\"color: #000000; text-decoration-color: #000000; background-color: #ffff00\">speed</span> <span style=\"color: #000000; text-decoration-color: #000000; background-color: #ffff00\">we</span> need.\n",
       "</pre>\n"
      ],
      "text/plain": [
       "It was our \u001b[30;48;2;255;255;0mfirst\u001b[0m year of intensive co-operation and both Deloitte and \u001b[30;48;2;255;255;0mPSS\u001b[0m had to learn each \n",
       "other \u001b[30;48;2;255;255;0mbusiness\u001b[0m and way of working. Recognize as very \u001b[30;48;2;255;255;0mfast\u001b[0m bringing \u001b[30;48;2;255;255;0mfirst\u001b[0m data and draft \n",
       "delivery. Turning it into final outcomes \u001b[30;48;2;255;255;0mtakes\u001b[0m to long. when \u001b[30;48;2;255;255;0mwe\u001b[0m have a \u001b[30;48;2;255;255;0meffective\u001b[0m \u001b[30;48;2;255;255;0mwork\u001b[0m session\n",
       "I see \u001b[30;48;2;255;255;0mwe\u001b[0m pick up the \u001b[30;48;2;255;255;0mspeed\u001b[0m \u001b[30;48;2;255;255;0mwe\u001b[0m need.\n"
      ]
     },
     "metadata": {},
     "output_type": "display_data"
    },
    {
     "name": "stdout",
     "output_type": "stream",
     "text": [
      "[('work', 0.3123), ('pss', 0.3121), ('effective', 0.2875), ('takes', 0.2757), ('working', 0.274), ('business', 0.2695), ('first', 0.2446), ('fast', 0.2434), ('we', 0.2412), ('speed', 0.2349)]\n"
     ]
    },
    {
     "data": {
      "text/html": [
       "<pre style=\"white-space:pre;overflow-x:auto;line-height:normal;font-family:Menlo,'DejaVu Sans Mono',consolas,'Courier New',monospace\">it's <span style=\"color: #000000; text-decoration-color: #000000; background-color: #ffff00\">good</span> <span style=\"color: #000000; text-decoration-color: #000000; background-color: #ffff00\">working</span> with the team, flexibility, <span style=\"color: #000000; text-decoration-color: #000000; background-color: #ffff00\">easy</span> <span style=\"color: #000000; text-decoration-color: #000000; background-color: #ffff00\">goto</span> and <span style=\"color: #000000; text-decoration-color: #000000; background-color: #ffff00\">open</span> and <span style=\"color: #000000; text-decoration-color: #000000; background-color: #ffff00\">direct</span> communication.\n",
       "</pre>\n"
      ],
      "text/plain": [
       "it's \u001b[30;48;2;255;255;0mgood\u001b[0m \u001b[30;48;2;255;255;0mworking\u001b[0m with the team, flexibility, \u001b[30;48;2;255;255;0measy\u001b[0m \u001b[30;48;2;255;255;0mgoto\u001b[0m and \u001b[30;48;2;255;255;0mopen\u001b[0m and \u001b[30;48;2;255;255;0mdirect\u001b[0m communication.\n"
      ]
     },
     "metadata": {},
     "output_type": "display_data"
    },
    {
     "name": "stdout",
     "output_type": "stream",
     "text": [
      "[('team', 0.4983), ('good', 0.3945), ('easy', 0.3525), ('goto', 0.3326), ('flexibility', 0.3187), ('communication', 0.3132), ('working', 0.2827), ('it', 0.2495), ('open', 0.2297), ('direct', 0.2042)]\n"
     ]
    },
    {
     "data": {
      "text/html": [
       "<pre style=\"white-space:pre;overflow-x:auto;line-height:normal;font-family:Menlo,'DejaVu Sans Mono',consolas,'Courier New',monospace\">a bit <span style=\"color: #000000; text-decoration-color: #000000; background-color: #ffff00\">mixed</span> experience., <span style=\"color: #000000; text-decoration-color: #000000; background-color: #ffff00\">expect</span> this <span style=\"color: #000000; text-decoration-color: #000000; background-color: #ffff00\">will</span> <span style=\"color: #000000; text-decoration-color: #000000; background-color: #ffff00\">improve</span> as <span style=\"color: #000000; text-decoration-color: #000000; background-color: #ffff00\">we</span> <span style=\"color: #000000; text-decoration-color: #000000; background-color: #ffff00\">go</span> to <span style=\"color: #000000; text-decoration-color: #000000; background-color: #ffff00\">our</span> <span style=\"color: #000000; text-decoration-color: #000000; background-color: #ffff00\">2nd</span> <span style=\"color: #000000; text-decoration-color: #000000; background-color: #ffff00\">year</span>\n",
       "</pre>\n"
      ],
      "text/plain": [
       "a bit \u001b[30;48;2;255;255;0mmixed\u001b[0m experience., \u001b[30;48;2;255;255;0mexpect\u001b[0m this \u001b[30;48;2;255;255;0mwill\u001b[0m \u001b[30;48;2;255;255;0mimprove\u001b[0m as \u001b[30;48;2;255;255;0mwe\u001b[0m \u001b[30;48;2;255;255;0mgo\u001b[0m to \u001b[30;48;2;255;255;0mour\u001b[0m \u001b[30;48;2;255;255;0m2nd\u001b[0m \u001b[30;48;2;255;255;0myear\u001b[0m\n"
      ]
     },
     "metadata": {},
     "output_type": "display_data"
    },
    {
     "name": "stdout",
     "output_type": "stream",
     "text": [
      "[('improve', 0.5479), ('we', 0.3429), ('experience', 0.3227), ('our', 0.291), ('2nd', 0.2861), ('expect', 0.2698), ('year', 0.2481), ('mixed', 0.192), ('will', 0.168), ('go', 0.1472)]\n"
     ]
    },
    {
     "data": {
      "text/html": [
       "<pre style=\"white-space:pre;overflow-x:auto;line-height:normal;font-family:Menlo,'DejaVu Sans Mono',consolas,'Courier New',monospace\">I indeed <span style=\"color: #000000; text-decoration-color: #000000; background-color: #ffff00\">receive</span> clear information, <span style=\"color: #000000; text-decoration-color: #000000; background-color: #ffff00\">including</span> also answers that I might not like. For me it's\n",
       "<span style=\"color: #000000; text-decoration-color: #000000; background-color: #ffff00\">important</span> that the <span style=\"color: #000000; text-decoration-color: #000000; background-color: #ffff00\">tax</span> <span style=\"color: #000000; text-decoration-color: #000000; background-color: #ffff00\">advisor</span> <span style=\"color: #000000; text-decoration-color: #000000; background-color: #ffff00\">tell</span> me the <span style=\"color: #000000; text-decoration-color: #000000; background-color: #ffff00\">facts</span> on hand <span style=\"color: #000000; text-decoration-color: #000000; background-color: #ffff00\">including</span> the potential <span style=\"color: #000000; text-decoration-color: #000000; background-color: #ffff00\">limitation</span> \n",
       "of my options.\n",
       "</pre>\n"
      ],
      "text/plain": [
       "I indeed \u001b[30;48;2;255;255;0mreceive\u001b[0m clear information, \u001b[30;48;2;255;255;0mincluding\u001b[0m also answers that I might not like. For me it's\n",
       "\u001b[30;48;2;255;255;0mimportant\u001b[0m that the \u001b[30;48;2;255;255;0mtax\u001b[0m \u001b[30;48;2;255;255;0madvisor\u001b[0m \u001b[30;48;2;255;255;0mtell\u001b[0m me the \u001b[30;48;2;255;255;0mfacts\u001b[0m on hand \u001b[30;48;2;255;255;0mincluding\u001b[0m the potential \u001b[30;48;2;255;255;0mlimitation\u001b[0m \n",
       "of my options.\n"
      ]
     },
     "metadata": {},
     "output_type": "display_data"
    },
    {
     "name": "stdout",
     "output_type": "stream",
     "text": [
      "[('tax', 0.3776), ('advisor', 0.3262), ('information', 0.3042), ('facts', 0.2961), ('tell', 0.2782), ('important', 0.2497), ('receive', 0.248), ('limitation', 0.2187), ('options', 0.2183), ('including', 0.206)]\n"
     ]
    },
    {
     "data": {
      "text/html": [
       "<pre style=\"white-space:pre;overflow-x:auto;line-height:normal;font-family:Menlo,'DejaVu Sans Mono',consolas,'Courier New',monospace\"><span style=\"color: #000000; text-decoration-color: #000000; background-color: #ffff00\">F2F</span> <span style=\"color: #000000; text-decoration-color: #000000; background-color: #ffff00\">meetings</span> <span style=\"color: #000000; text-decoration-color: #000000; background-color: #ffff00\">are</span> <span style=\"color: #000000; text-decoration-color: #000000; background-color: #ffff00\">still</span> <span style=\"color: #000000; text-decoration-color: #000000; background-color: #ffff00\">the</span> <span style=\"color: #000000; text-decoration-color: #000000; background-color: #ffff00\">most</span> effective, <span style=\"color: #000000; text-decoration-color: #000000; background-color: #ffff00\">followed</span> by <span style=\"color: #000000; text-decoration-color: #000000; background-color: #ffff00\">teams</span> call's.\n",
       "</pre>\n"
      ],
      "text/plain": [
       "\u001b[30;48;2;255;255;0mF2F\u001b[0m \u001b[30;48;2;255;255;0mmeetings\u001b[0m \u001b[30;48;2;255;255;0mare\u001b[0m \u001b[30;48;2;255;255;0mstill\u001b[0m \u001b[30;48;2;255;255;0mthe\u001b[0m \u001b[30;48;2;255;255;0mmost\u001b[0m effective, \u001b[30;48;2;255;255;0mfollowed\u001b[0m by \u001b[30;48;2;255;255;0mteams\u001b[0m call's.\n"
      ]
     },
     "metadata": {},
     "output_type": "display_data"
    },
    {
     "name": "stdout",
     "output_type": "stream",
     "text": [
      "[('f2f', 0.4692), ('meetings', 0.4229), ('teams', 0.3107), ('effective', 0.2686), ('call', 0.2594), ('most', 0.2), ('are', 0.1867), ('still', 0.1736), ('followed', 0.1604), ('the', 0.0643)]\n"
     ]
    },
    {
     "data": {
      "text/html": [
       "<pre style=\"white-space:pre;overflow-x:auto;line-height:normal;font-family:Menlo,'DejaVu Sans Mono',consolas,'Courier New',monospace\">it has <span style=\"color: #000000; text-decoration-color: #000000; background-color: #ffff00\">limited</span> <span style=\"color: #000000; text-decoration-color: #000000; background-color: #ffff00\">our</span> co-operation especially as <span style=\"color: #000000; text-decoration-color: #000000; background-color: #ffff00\">our</span> first year some extra <span style=\"color: #000000; text-decoration-color: #000000; background-color: #ffff00\">F2F</span> <span style=\"color: #000000; text-decoration-color: #000000; background-color: #ffff00\">meetings</span> would \n",
       "have been more efficient. <span style=\"color: #000000; text-decoration-color: #000000; background-color: #ffff00\">Both</span> <span style=\"color: #000000; text-decoration-color: #000000; background-color: #ffff00\">sides</span> sometimes stepped in the <span style=\"color: #000000; text-decoration-color: #000000; background-color: #ffff00\">trap</span> of <span style=\"color: #000000; text-decoration-color: #000000; background-color: #ffff00\">mail</span> \"ping pong\"\n",
       "</pre>\n"
      ],
      "text/plain": [
       "it has \u001b[30;48;2;255;255;0mlimited\u001b[0m \u001b[30;48;2;255;255;0mour\u001b[0m co-operation especially as \u001b[30;48;2;255;255;0mour\u001b[0m first year some extra \u001b[30;48;2;255;255;0mF2F\u001b[0m \u001b[30;48;2;255;255;0mmeetings\u001b[0m would \n",
       "have been more efficient. \u001b[30;48;2;255;255;0mBoth\u001b[0m \u001b[30;48;2;255;255;0msides\u001b[0m sometimes stepped in the \u001b[30;48;2;255;255;0mtrap\u001b[0m of \u001b[30;48;2;255;255;0mmail\u001b[0m \"ping pong\"\n"
      ]
     },
     "metadata": {},
     "output_type": "display_data"
    },
    {
     "name": "stdout",
     "output_type": "stream",
     "text": [
      "[('meetings', 0.387), ('f2f', 0.3097), ('mail', 0.2803), ('our', 0.279), ('limited', 0.2378), ('pong', 0.2066), ('trap', 0.1878), ('co', 0.1876), ('both', 0.1873), ('sides', 0.1808)]\n"
     ]
    },
    {
     "data": {
      "text/html": [
       "<pre style=\"white-space:pre;overflow-x:auto;line-height:normal;font-family:Menlo,'DejaVu Sans Mono',consolas,'Courier New',monospace\"><span style=\"color: #000000; text-decoration-color: #000000; background-color: #ffff00\">the</span> co-operation <span style=\"color: #000000; text-decoration-color: #000000; background-color: #ffff00\">was</span> good.\n",
       "</pre>\n"
      ],
      "text/plain": [
       "\u001b[30;48;2;255;255;0mthe\u001b[0m co-operation \u001b[30;48;2;255;255;0mwas\u001b[0m good.\n"
      ]
     },
     "metadata": {},
     "output_type": "display_data"
    },
    {
     "name": "stdout",
     "output_type": "stream",
     "text": [
      "[('good', 0.5054), ('operation', 0.323), ('was', 0.2482), ('co', 0.2442), ('the', 0.2256)]\n"
     ]
    },
    {
     "data": {
      "text/html": [
       "<pre style=\"white-space:pre;overflow-x:auto;line-height:normal;font-family:Menlo,'DejaVu Sans Mono',consolas,'Courier New',monospace\">I have <span style=\"color: #000000; text-decoration-color: #000000; background-color: #ffff00\">seen</span> <span style=\"color: #000000; text-decoration-color: #000000; background-color: #ffff00\">vision</span> and <span style=\"color: #000000; text-decoration-color: #000000; background-color: #ffff00\">received</span> the explanation, but do to <span style=\"color: #000000; text-decoration-color: #000000; background-color: #ffff00\">late</span> getting it to the <span style=\"color: #000000; text-decoration-color: #000000; background-color: #ffff00\">finish</span> \n",
       "(transfer pricing) I <span style=\"color: #000000; text-decoration-color: #000000; background-color: #ffff00\">had</span> not yet the <span style=\"color: #000000; text-decoration-color: #000000; background-color: #ffff00\">opportunity</span> to actually <span style=\"color: #000000; text-decoration-color: #000000; background-color: #ffff00\">experience</span> it.\n",
       "</pre>\n"
      ],
      "text/plain": [
       "I have \u001b[30;48;2;255;255;0mseen\u001b[0m \u001b[30;48;2;255;255;0mvision\u001b[0m and \u001b[30;48;2;255;255;0mreceived\u001b[0m the explanation, but do to \u001b[30;48;2;255;255;0mlate\u001b[0m getting it to the \u001b[30;48;2;255;255;0mfinish\u001b[0m \n",
       "(transfer pricing) I \u001b[30;48;2;255;255;0mhad\u001b[0m not yet the \u001b[30;48;2;255;255;0mopportunity\u001b[0m to actually \u001b[30;48;2;255;255;0mexperience\u001b[0m it.\n"
      ]
     },
     "metadata": {},
     "output_type": "display_data"
    },
    {
     "name": "stdout",
     "output_type": "stream",
     "text": [
      "[('vision', 0.416), ('received', 0.3221), ('pricing', 0.3177), ('transfer', 0.3043), ('seen', 0.2661), ('experience', 0.2573), ('late', 0.2514), ('opportunity', 0.2455), ('finish', 0.2276), ('had', 0.2046)]\n"
     ]
    },
    {
     "data": {
      "text/html": [
       "<pre style=\"white-space:pre;overflow-x:auto;line-height:normal;font-family:Menlo,'DejaVu Sans Mono',consolas,'Courier New',monospace\"><span style=\"color: #000000; text-decoration-color: #000000; background-color: #ffff00\">Core</span> strength: <span style=\"color: #000000; text-decoration-color: #000000; background-color: #ffff00\">subject</span> <span style=\"color: #000000; text-decoration-color: #000000; background-color: #ffff00\">matter</span> <span style=\"color: #000000; text-decoration-color: #000000; background-color: #ffff00\">expertise</span> <span style=\"color: #000000; text-decoration-color: #000000; background-color: #ffff00\">on</span> <span style=\"color: #000000; text-decoration-color: #000000; background-color: #ffff00\">process</span> <span style=\"color: #000000; text-decoration-color: #000000; background-color: #ffff00\">and</span> <span style=\"color: #000000; text-decoration-color: #000000; background-color: #ffff00\">technology</span>\n",
       "</pre>\n"
      ],
      "text/plain": [
       "\u001b[30;48;2;255;255;0mCore\u001b[0m strength: \u001b[30;48;2;255;255;0msubject\u001b[0m \u001b[30;48;2;255;255;0mmatter\u001b[0m \u001b[30;48;2;255;255;0mexpertise\u001b[0m \u001b[30;48;2;255;255;0mon\u001b[0m \u001b[30;48;2;255;255;0mprocess\u001b[0m \u001b[30;48;2;255;255;0mand\u001b[0m \u001b[30;48;2;255;255;0mtechnology\u001b[0m\n"
      ]
     },
     "metadata": {},
     "output_type": "display_data"
    },
    {
     "name": "stdout",
     "output_type": "stream",
     "text": [
      "[('expertise', 0.6575), ('core', 0.5285), ('technology', 0.5059), ('subject', 0.4849), ('strength', 0.4737), ('process', 0.4183), ('matter', 0.4038), ('on', 0.2867), ('and', 0.2832)]\n"
     ]
    },
    {
     "data": {
      "text/html": [
       "<pre style=\"white-space:pre;overflow-x:auto;line-height:normal;font-family:Menlo,'DejaVu Sans Mono',consolas,'Courier New',monospace\">Strength: <span style=\"color: #000000; text-decoration-color: #000000; background-color: #ffff00\">On</span> time/on budget. <span style=\"color: #000000; text-decoration-color: #000000; background-color: #ffff00\">Delivered</span> <span style=\"color: #000000; text-decoration-color: #000000; background-color: #ffff00\">within</span> <span style=\"color: #000000; text-decoration-color: #000000; background-color: #ffff00\">teamlines</span> requested.\n",
       "</pre>\n"
      ],
      "text/plain": [
       "Strength: \u001b[30;48;2;255;255;0mOn\u001b[0m time/on budget. \u001b[30;48;2;255;255;0mDelivered\u001b[0m \u001b[30;48;2;255;255;0mwithin\u001b[0m \u001b[30;48;2;255;255;0mteamlines\u001b[0m requested.\n"
      ]
     },
     "metadata": {},
     "output_type": "display_data"
    },
    {
     "name": "stdout",
     "output_type": "stream",
     "text": [
      "[('strength', 0.6603), ('teamlines', 0.5482), ('budget', 0.412), ('requested', 0.2862), ('on', 0.2583), ('time', 0.2243), ('within', 0.2202), ('delivered', 0.1904)]\n"
     ]
    },
    {
     "data": {
      "text/html": [
       "<pre style=\"white-space:pre;overflow-x:auto;line-height:normal;font-family:Menlo,'DejaVu Sans Mono',consolas,'Courier New',monospace\"><span style=\"color: #000000; text-decoration-color: #000000; background-color: #ffff00\">Improvement</span> needed: innovation.\n",
       "</pre>\n"
      ],
      "text/plain": [
       "\u001b[30;48;2;255;255;0mImprovement\u001b[0m needed: innovation.\n"
      ]
     },
     "metadata": {},
     "output_type": "display_data"
    },
    {
     "name": "stdout",
     "output_type": "stream",
     "text": [
      "[('innovation', 0.7815), ('improvement', 0.6005), ('needed', 0.4065)]\n"
     ]
    },
    {
     "data": {
      "text/html": [
       "<pre style=\"white-space:pre;overflow-x:auto;line-height:normal;font-family:Menlo,'DejaVu Sans Mono',consolas,'Courier New',monospace\"><span style=\"color: #000000; text-decoration-color: #000000; background-color: #ffff00\">Improvement</span> needed: <span style=\"color: #000000; text-decoration-color: #000000; background-color: #ffff00\">Communication</span> / <span style=\"color: #000000; text-decoration-color: #000000; background-color: #ffff00\">alignment</span> <span style=\"color: #000000; text-decoration-color: #000000; background-color: #ffff00\">within</span> <span style=\"color: #000000; text-decoration-color: #000000; background-color: #ffff00\">Deloitte</span> team.\n",
       "</pre>\n"
      ],
      "text/plain": [
       "\u001b[30;48;2;255;255;0mImprovement\u001b[0m needed: \u001b[30;48;2;255;255;0mCommunication\u001b[0m / \u001b[30;48;2;255;255;0malignment\u001b[0m \u001b[30;48;2;255;255;0mwithin\u001b[0m \u001b[30;48;2;255;255;0mDeloitte\u001b[0m team.\n"
      ]
     },
     "metadata": {},
     "output_type": "display_data"
    },
    {
     "name": "stdout",
     "output_type": "stream",
     "text": [
      "[('communication', 0.3353), ('improvement', 0.2868), ('deloitte', 0.2792), ('within', 0.2641), ('needed', 0.2295), ('alignment', 0.2274), ('team', 0.1737)]\n"
     ]
    },
    {
     "data": {
      "text/html": [
       "<pre style=\"white-space:pre;overflow-x:auto;line-height:normal;font-family:Menlo,'DejaVu Sans Mono',consolas,'Courier New',monospace\">Strength: <span style=\"color: #000000; text-decoration-color: #000000; background-color: #ffff00\">Good</span> interaction, course corrected where needed. <span style=\"color: #000000; text-decoration-color: #000000; background-color: #ffff00\">Good</span> <span style=\"color: #000000; text-decoration-color: #000000; background-color: #ffff00\">stakeholder</span> management. \n",
       "<span style=\"color: #000000; text-decoration-color: #000000; background-color: #ffff00\">Improvement</span> needed: <span style=\"color: #000000; text-decoration-color: #000000; background-color: #ffff00\">Team</span> was very <span style=\"color: #000000; text-decoration-color: #000000; background-color: #ffff00\">good</span> for EMEA, less engaged in US.\n",
       "</pre>\n"
      ],
      "text/plain": [
       "Strength: \u001b[30;48;2;255;255;0mGood\u001b[0m interaction, course corrected where needed. \u001b[30;48;2;255;255;0mGood\u001b[0m \u001b[30;48;2;255;255;0mstakeholder\u001b[0m management. \n",
       "\u001b[30;48;2;255;255;0mImprovement\u001b[0m needed: \u001b[30;48;2;255;255;0mTeam\u001b[0m was very \u001b[30;48;2;255;255;0mgood\u001b[0m for EMEA, less engaged in US.\n"
      ]
     },
     "metadata": {},
     "output_type": "display_data"
    },
    {
     "name": "stdout",
     "output_type": "stream",
     "text": [
      "[('strength', 0.4878), ('stakeholder', 0.4484), ('team', 0.3912), ('improvement', 0.3462), ('emea', 0.3446), ('good', 0.3082), ('interaction', 0.2982), ('management', 0.2907), ('needed', 0.2745), ('us', 0.2362)]\n"
     ]
    },
    {
     "data": {
      "text/html": [
       "<pre style=\"white-space:pre;overflow-x:auto;line-height:normal;font-family:Menlo,'DejaVu Sans Mono',consolas,'Courier New',monospace\"><span style=\"color: #000000; text-decoration-color: #000000; background-color: #ffff00\">Always</span> <span style=\"color: #000000; text-decoration-color: #000000; background-color: #ffff00\">room</span> <span style=\"color: #000000; text-decoration-color: #000000; background-color: #ffff00\">for</span> a <span style=\"color: #000000; text-decoration-color: #000000; background-color: #ffff00\">joke</span> <span style=\"color: #000000; text-decoration-color: #000000; background-color: #ffff00\">during</span> <span style=\"color: #000000; text-decoration-color: #000000; background-color: #ffff00\">the</span> <span style=\"color: #000000; text-decoration-color: #000000; background-color: #ffff00\">project</span> <span style=\"color: #000000; text-decoration-color: #000000; background-color: #ffff00\">which</span> <span style=\"color: #000000; text-decoration-color: #000000; background-color: #ffff00\">was</span> fun.\n",
       "</pre>\n"
      ],
      "text/plain": [
       "\u001b[30;48;2;255;255;0mAlways\u001b[0m \u001b[30;48;2;255;255;0mroom\u001b[0m \u001b[30;48;2;255;255;0mfor\u001b[0m a \u001b[30;48;2;255;255;0mjoke\u001b[0m \u001b[30;48;2;255;255;0mduring\u001b[0m \u001b[30;48;2;255;255;0mthe\u001b[0m \u001b[30;48;2;255;255;0mproject\u001b[0m \u001b[30;48;2;255;255;0mwhich\u001b[0m \u001b[30;48;2;255;255;0mwas\u001b[0m fun.\n"
      ]
     },
     "metadata": {},
     "output_type": "display_data"
    },
    {
     "name": "stdout",
     "output_type": "stream",
     "text": [
      "[('joke', 0.598), ('fun', 0.5539), ('project', 0.439), ('room', 0.348), ('was', 0.215), ('the', 0.2115), ('for', 0.2106), ('always', 0.1966), ('during', 0.1853), ('which', 0.1849)]\n"
     ]
    },
    {
     "data": {
      "text/html": [
       "<pre style=\"white-space:pre;overflow-x:auto;line-height:normal;font-family:Menlo,'DejaVu Sans Mono',consolas,'Courier New',monospace\"><span style=\"color: #000000; text-decoration-color: #000000; background-color: #ffff00\">Digital</span> <span style=\"color: #000000; text-decoration-color: #000000; background-color: #ffff00\">tools</span> were <span style=\"color: #000000; text-decoration-color: #000000; background-color: #ffff00\">effective</span> (Teams), However not beeing able to <span style=\"color: #000000; text-decoration-color: #000000; background-color: #ffff00\">meet</span> in a rooms allows \n",
       "<span style=\"color: #000000; text-decoration-color: #000000; background-color: #ffff00\">participants</span> to switch more easily to their operational duties. Would have been more \n",
       "<span style=\"color: #000000; text-decoration-color: #000000; background-color: #ffff00\">efficient</span> in face to face <span style=\"color: #000000; text-decoration-color: #000000; background-color: #ffff00\">meeting</span> and <span style=\"color: #000000; text-decoration-color: #000000; background-color: #ffff00\">working</span> sessions.\n",
       "</pre>\n"
      ],
      "text/plain": [
       "\u001b[30;48;2;255;255;0mDigital\u001b[0m \u001b[30;48;2;255;255;0mtools\u001b[0m were \u001b[30;48;2;255;255;0meffective\u001b[0m (Teams), However not beeing able to \u001b[30;48;2;255;255;0mmeet\u001b[0m in a rooms allows \n",
       "\u001b[30;48;2;255;255;0mparticipants\u001b[0m to switch more easily to their operational duties. Would have been more \n",
       "\u001b[30;48;2;255;255;0mefficient\u001b[0m in face to face \u001b[30;48;2;255;255;0mmeeting\u001b[0m and \u001b[30;48;2;255;255;0mworking\u001b[0m sessions.\n"
      ]
     },
     "metadata": {},
     "output_type": "display_data"
    },
    {
     "name": "stdout",
     "output_type": "stream",
     "text": [
      "[('meeting', 0.3766), ('meet', 0.3428), ('sessions', 0.3421), ('efficient', 0.335), ('effective', 0.3229), ('digital', 0.3152), ('tools', 0.3043), ('working', 0.3017), ('participants', 0.2872), ('duties', 0.2672)]\n"
     ]
    },
    {
     "data": {
      "text/html": [
       "<pre style=\"white-space:pre;overflow-x:auto;line-height:normal;font-family:Menlo,'DejaVu Sans Mono',consolas,'Courier New',monospace\">Nothing noted that <span style=\"color: #000000; text-decoration-color: #000000; background-color: #ffff00\">would</span> <span style=\"color: #000000; text-decoration-color: #000000; background-color: #ffff00\">prove</span> the contrary. I <span style=\"color: #000000; text-decoration-color: #000000; background-color: #ffff00\">felt</span> the <span style=\"color: #000000; text-decoration-color: #000000; background-color: #ffff00\">DLT</span> <span style=\"color: #000000; text-decoration-color: #000000; background-color: #ffff00\">team</span> part of <span style=\"color: #000000; text-decoration-color: #000000; background-color: #ffff00\">our</span> <span style=\"color: #000000; text-decoration-color: #000000; background-color: #ffff00\">team</span> and \n",
       "<span style=\"color: #000000; text-decoration-color: #000000; background-color: #ffff00\">committed</span> to <span style=\"color: #000000; text-decoration-color: #000000; background-color: #ffff00\">our</span> business/project.\n",
       "</pre>\n"
      ],
      "text/plain": [
       "Nothing noted that \u001b[30;48;2;255;255;0mwould\u001b[0m \u001b[30;48;2;255;255;0mprove\u001b[0m the contrary. I \u001b[30;48;2;255;255;0mfelt\u001b[0m the \u001b[30;48;2;255;255;0mDLT\u001b[0m \u001b[30;48;2;255;255;0mteam\u001b[0m part of \u001b[30;48;2;255;255;0mour\u001b[0m \u001b[30;48;2;255;255;0mteam\u001b[0m and \n",
       "\u001b[30;48;2;255;255;0mcommitted\u001b[0m to \u001b[30;48;2;255;255;0mour\u001b[0m business/project.\n"
      ]
     },
     "metadata": {},
     "output_type": "display_data"
    },
    {
     "name": "stdout",
     "output_type": "stream",
     "text": [
      "[('team', 0.3934), ('contrary', 0.2546), ('our', 0.2394), ('prove', 0.1906), ('dlt', 0.1612), ('felt', 0.1599), ('committed', 0.1457), ('project', 0.1371), ('business', 0.1355), ('would', 0.1294)]\n"
     ]
    },
    {
     "data": {
      "text/html": [
       "<pre style=\"white-space:pre;overflow-x:auto;line-height:normal;font-family:Menlo,'DejaVu Sans Mono',consolas,'Courier New',monospace\"><span style=\"color: #000000; text-decoration-color: #000000; background-color: #ffff00\">Very</span> <span style=\"color: #000000; text-decoration-color: #000000; background-color: #ffff00\">nice</span> <span style=\"color: #000000; text-decoration-color: #000000; background-color: #ffff00\">and</span> <span style=\"color: #000000; text-decoration-color: #000000; background-color: #ffff00\">effective</span> <span style=\"color: #000000; text-decoration-color: #000000; background-color: #ffff00\">people</span>\n",
       "</pre>\n"
      ],
      "text/plain": [
       "\u001b[30;48;2;255;255;0mVery\u001b[0m \u001b[30;48;2;255;255;0mnice\u001b[0m \u001b[30;48;2;255;255;0mand\u001b[0m \u001b[30;48;2;255;255;0meffective\u001b[0m \u001b[30;48;2;255;255;0mpeople\u001b[0m\n"
      ]
     },
     "metadata": {},
     "output_type": "display_data"
    },
    {
     "name": "stdout",
     "output_type": "stream",
     "text": [
      "[('nice', 0.5574), ('effective', 0.4389), ('people', 0.4343), ('very', 0.3514), ('and', 0.2628)]\n"
     ]
    },
    {
     "data": {
      "text/html": [
       "<pre style=\"white-space:pre;overflow-x:auto;line-height:normal;font-family:Menlo,'DejaVu Sans Mono',consolas,'Courier New',monospace\"><span style=\"color: #000000; text-decoration-color: #000000; background-color: #ffff00\">the</span> <span style=\"color: #000000; text-decoration-color: #000000; background-color: #ffff00\">whole</span> <span style=\"color: #000000; text-decoration-color: #000000; background-color: #ffff00\">excercise</span> <span style=\"color: #000000; text-decoration-color: #000000; background-color: #ffff00\">was</span> <span style=\"color: #000000; text-decoration-color: #000000; background-color: #ffff00\">done</span> <span style=\"color: #000000; text-decoration-color: #000000; background-color: #ffff00\">through</span> <span style=\"color: #000000; text-decoration-color: #000000; background-color: #ffff00\">Teams</span>\n",
       "</pre>\n"
      ],
      "text/plain": [
       "\u001b[30;48;2;255;255;0mthe\u001b[0m \u001b[30;48;2;255;255;0mwhole\u001b[0m \u001b[30;48;2;255;255;0mexcercise\u001b[0m \u001b[30;48;2;255;255;0mwas\u001b[0m \u001b[30;48;2;255;255;0mdone\u001b[0m \u001b[30;48;2;255;255;0mthrough\u001b[0m \u001b[30;48;2;255;255;0mTeams\u001b[0m\n"
      ]
     },
     "metadata": {},
     "output_type": "display_data"
    },
    {
     "name": "stdout",
     "output_type": "stream",
     "text": [
      "[('teams', 0.5638), ('excercise', 0.5495), ('whole', 0.3202), ('done', 0.2843), ('was', 0.226), ('through', 0.2171), ('the', 0.1771)]\n"
     ]
    },
    {
     "data": {
      "text/html": [
       "<pre style=\"white-space:pre;overflow-x:auto;line-height:normal;font-family:Menlo,'DejaVu Sans Mono',consolas,'Courier New',monospace\"><span style=\"color: #000000; text-decoration-color: #000000; background-color: #ffff00\">Very</span> <span style=\"color: #000000; text-decoration-color: #000000; background-color: #ffff00\">nice</span> <span style=\"color: #000000; text-decoration-color: #000000; background-color: #ffff00\">and</span> <span style=\"color: #000000; text-decoration-color: #000000; background-color: #ffff00\">effective</span> people, <span style=\"color: #000000; text-decoration-color: #000000; background-color: #ffff00\">to</span> <span style=\"color: #000000; text-decoration-color: #000000; background-color: #ffff00\">the</span> <span style=\"color: #000000; text-decoration-color: #000000; background-color: #ffff00\">point</span>\n",
       "</pre>\n"
      ],
      "text/plain": [
       "\u001b[30;48;2;255;255;0mVery\u001b[0m \u001b[30;48;2;255;255;0mnice\u001b[0m \u001b[30;48;2;255;255;0mand\u001b[0m \u001b[30;48;2;255;255;0meffective\u001b[0m people, \u001b[30;48;2;255;255;0mto\u001b[0m \u001b[30;48;2;255;255;0mthe\u001b[0m \u001b[30;48;2;255;255;0mpoint\u001b[0m\n"
      ]
     },
     "metadata": {},
     "output_type": "display_data"
    },
    {
     "name": "stdout",
     "output_type": "stream",
     "text": [
      "[('nice', 0.5155), ('effective', 0.3941), ('people', 0.3493), ('very', 0.2986), ('point', 0.2532), ('to', 0.2239), ('and', 0.2137), ('the', 0.1926)]\n"
     ]
    },
    {
     "data": {
      "text/html": [
       "<pre style=\"white-space:pre;overflow-x:auto;line-height:normal;font-family:Menlo,'DejaVu Sans Mono',consolas,'Courier New',monospace\"><span style=\"color: #000000; text-decoration-color: #000000; background-color: #ffff00\">strong</span> <span style=\"color: #000000; text-decoration-color: #000000; background-color: #ffff00\">performance</span> and <span style=\"color: #000000; text-decoration-color: #000000; background-color: #ffff00\">challenging</span> of <span style=\"color: #000000; text-decoration-color: #000000; background-color: #ffff00\">exco</span> <span style=\"color: #000000; text-decoration-color: #000000; background-color: #ffff00\">by</span> <span style=\"color: #000000; text-decoration-color: #000000; background-color: #ffff00\">Thomas</span> - good <span style=\"color: #000000; text-decoration-color: #000000; background-color: #ffff00\">support</span> from <span style=\"color: #000000; text-decoration-color: #000000; background-color: #ffff00\">Laura</span> <span style=\"color: #000000; text-decoration-color: #000000; background-color: #ffff00\">en</span> <span style=\"color: #000000; text-decoration-color: #000000; background-color: #ffff00\">Niels</span>\n",
       "</pre>\n"
      ],
      "text/plain": [
       "\u001b[30;48;2;255;255;0mstrong\u001b[0m \u001b[30;48;2;255;255;0mperformance\u001b[0m and \u001b[30;48;2;255;255;0mchallenging\u001b[0m of \u001b[30;48;2;255;255;0mexco\u001b[0m \u001b[30;48;2;255;255;0mby\u001b[0m \u001b[30;48;2;255;255;0mThomas\u001b[0m - good \u001b[30;48;2;255;255;0msupport\u001b[0m from \u001b[30;48;2;255;255;0mLaura\u001b[0m \u001b[30;48;2;255;255;0men\u001b[0m \u001b[30;48;2;255;255;0mNiels\u001b[0m\n"
      ]
     },
     "metadata": {},
     "output_type": "display_data"
    },
    {
     "name": "stdout",
     "output_type": "stream",
     "text": [
      "[('exco', 0.561), ('thomas', 0.4608), ('performance', 0.4485), ('niels', 0.3774), ('strong', 0.3634), ('challenging', 0.3615), ('en', 0.3288), ('laura', 0.3263), ('support', 0.3221), ('by', 0.3098)]\n"
     ]
    },
    {
     "data": {
      "text/html": [
       "<pre style=\"white-space:pre;overflow-x:auto;line-height:normal;font-family:Menlo,'DejaVu Sans Mono',consolas,'Courier New',monospace\">very <span style=\"color: #000000; text-decoration-color: #000000; background-color: #ffff00\">hands</span> on, good <span style=\"color: #000000; text-decoration-color: #000000; background-color: #ffff00\">contact</span> <span style=\"color: #000000; text-decoration-color: #000000; background-color: #ffff00\">with</span> <span style=\"color: #000000; text-decoration-color: #000000; background-color: #ffff00\">senior</span> <span style=\"color: #000000; text-decoration-color: #000000; background-color: #ffff00\">leadership</span> - due to <span style=\"color: #000000; text-decoration-color: #000000; background-color: #ffff00\">covid</span> it was not possible to have\n",
       "in <span style=\"color: #000000; text-decoration-color: #000000; background-color: #ffff00\">house</span> <span style=\"color: #000000; text-decoration-color: #000000; background-color: #ffff00\">participation</span> in <span style=\"color: #000000; text-decoration-color: #000000; background-color: #ffff00\">our</span> <span style=\"color: #000000; text-decoration-color: #000000; background-color: #ffff00\">offices</span>\n",
       "</pre>\n"
      ],
      "text/plain": [
       "very \u001b[30;48;2;255;255;0mhands\u001b[0m on, good \u001b[30;48;2;255;255;0mcontact\u001b[0m \u001b[30;48;2;255;255;0mwith\u001b[0m \u001b[30;48;2;255;255;0msenior\u001b[0m \u001b[30;48;2;255;255;0mleadership\u001b[0m - due to \u001b[30;48;2;255;255;0mcovid\u001b[0m it was not possible to have\n",
       "in \u001b[30;48;2;255;255;0mhouse\u001b[0m \u001b[30;48;2;255;255;0mparticipation\u001b[0m in \u001b[30;48;2;255;255;0mour\u001b[0m \u001b[30;48;2;255;255;0moffices\u001b[0m\n"
      ]
     },
     "metadata": {},
     "output_type": "display_data"
    },
    {
     "name": "stdout",
     "output_type": "stream",
     "text": [
      "[('leadership', 0.6041), ('offices', 0.3999), ('senior', 0.38), ('participation', 0.3158), ('house', 0.2707), ('contact', 0.218), ('our', 0.1804), ('hands', 0.1741), ('with', 0.1564), ('covid', 0.1437)]\n"
     ]
    },
    {
     "data": {
      "text/html": [
       "<pre style=\"white-space:pre;overflow-x:auto;line-height:normal;font-family:Menlo,'DejaVu Sans Mono',consolas,'Courier New',monospace\"><span style=\"color: #000000; text-decoration-color: #000000; background-color: #ffff00\">Lot</span> <span style=\"color: #000000; text-decoration-color: #000000; background-color: #ffff00\">comes</span> of <span style=\"color: #000000; text-decoration-color: #000000; background-color: #ffff00\">course</span> <span style=\"color: #000000; text-decoration-color: #000000; background-color: #ffff00\">from</span> <span style=\"color: #000000; text-decoration-color: #000000; background-color: #ffff00\">our</span> <span style=\"color: #000000; text-decoration-color: #000000; background-color: #ffff00\">guidance</span> <span style=\"color: #000000; text-decoration-color: #000000; background-color: #ffff00\">and</span> explanation of <span style=\"color: #000000; text-decoration-color: #000000; background-color: #ffff00\">the</span> <span style=\"color: #000000; text-decoration-color: #000000; background-color: #ffff00\">business</span> <span style=\"color: #000000; text-decoration-color: #000000; background-color: #ffff00\">trends</span>\n",
       "</pre>\n"
      ],
      "text/plain": [
       "\u001b[30;48;2;255;255;0mLot\u001b[0m \u001b[30;48;2;255;255;0mcomes\u001b[0m of \u001b[30;48;2;255;255;0mcourse\u001b[0m \u001b[30;48;2;255;255;0mfrom\u001b[0m \u001b[30;48;2;255;255;0mour\u001b[0m \u001b[30;48;2;255;255;0mguidance\u001b[0m \u001b[30;48;2;255;255;0mand\u001b[0m explanation of \u001b[30;48;2;255;255;0mthe\u001b[0m \u001b[30;48;2;255;255;0mbusiness\u001b[0m \u001b[30;48;2;255;255;0mtrends\u001b[0m\n"
      ]
     },
     "metadata": {},
     "output_type": "display_data"
    },
    {
     "name": "stdout",
     "output_type": "stream",
     "text": [
      "[('business', 0.514), ('trends', 0.4944), ('lot', 0.3394), ('our', 0.3088), ('guidance', 0.3063), ('course', 0.237), ('the', 0.2244), ('comes', 0.2203), ('and', 0.2123), ('from', 0.2045)]\n"
     ]
    },
    {
     "data": {
      "text/html": [
       "<pre style=\"white-space:pre;overflow-x:auto;line-height:normal;font-family:Menlo,'DejaVu Sans Mono',consolas,'Courier New',monospace\">I <span style=\"color: #000000; text-decoration-color: #000000; background-color: #ffff00\">appreciated</span> the <span style=\"color: #000000; text-decoration-color: #000000; background-color: #ffff00\">flexibility</span> and extra mile in all circumstance without giving us the \n",
       "impression to have the constant look at the counter. Also didn't hear request <span style=\"color: #000000; text-decoration-color: #000000; background-color: #ffff00\">for</span> more money \n",
       "in the course of the <span style=\"color: #000000; text-decoration-color: #000000; background-color: #ffff00\">project</span> which is key to built trust. As a result of it we also imagine \n",
       "to <span style=\"color: #000000; text-decoration-color: #000000; background-color: #ffff00\">pursue</span> with <span style=\"color: #000000; text-decoration-color: #000000; background-color: #ffff00\">DLT</span> so all <span style=\"color: #000000; text-decoration-color: #000000; background-color: #ffff00\">parties</span> apparently felt comfortable.\n",
       "</pre>\n"
      ],
      "text/plain": [
       "I \u001b[30;48;2;255;255;0mappreciated\u001b[0m the \u001b[30;48;2;255;255;0mflexibility\u001b[0m and extra mile in all circumstance without giving us the \n",
       "impression to have the constant look at the counter. Also didn't hear request \u001b[30;48;2;255;255;0mfor\u001b[0m more money \n",
       "in the course of the \u001b[30;48;2;255;255;0mproject\u001b[0m which is key to built trust. As a result of it we also imagine \n",
       "to \u001b[30;48;2;255;255;0mpursue\u001b[0m with \u001b[30;48;2;255;255;0mDLT\u001b[0m so all \u001b[30;48;2;255;255;0mparties\u001b[0m apparently felt comfortable.\n"
      ]
     },
     "metadata": {},
     "output_type": "display_data"
    },
    {
     "name": "stdout",
     "output_type": "stream",
     "text": [
      "[('trust', 0.3482), ('project', 0.3031), ('pursue', 0.2655), ('comfortable', 0.2599), ('counter', 0.2447), ('flexibility', 0.2354), ('parties', 0.2274), ('for', 0.2232), ('dlt', 0.218), ('appreciated', 0.2172)]\n"
     ]
    },
    {
     "data": {
      "text/html": [
       "<pre style=\"white-space:pre;overflow-x:auto;line-height:normal;font-family:Menlo,'DejaVu Sans Mono',consolas,'Courier New',monospace\"><span style=\"color: #000000; text-decoration-color: #000000; background-color: #ffff00\">Back</span> <span style=\"color: #000000; text-decoration-color: #000000; background-color: #ffff00\">to</span> <span style=\"color: #000000; text-decoration-color: #000000; background-color: #ffff00\">face</span> <span style=\"color: #000000; text-decoration-color: #000000; background-color: #ffff00\">to</span> <span style=\"color: #000000; text-decoration-color: #000000; background-color: #ffff00\">face</span> <span style=\"color: #000000; text-decoration-color: #000000; background-color: #ffff00\">working</span> sessions.\n",
       "</pre>\n"
      ],
      "text/plain": [
       "\u001b[30;48;2;255;255;0mBack\u001b[0m \u001b[30;48;2;255;255;0mto\u001b[0m \u001b[30;48;2;255;255;0mface\u001b[0m \u001b[30;48;2;255;255;0mto\u001b[0m \u001b[30;48;2;255;255;0mface\u001b[0m \u001b[30;48;2;255;255;0mworking\u001b[0m sessions.\n"
      ]
     },
     "metadata": {},
     "output_type": "display_data"
    },
    {
     "name": "stdout",
     "output_type": "stream",
     "text": [
      "[('working', 0.4961), ('sessions', 0.477), ('back', 0.4642), ('to', 0.2577), ('face', 0.2224)]\n"
     ]
    },
    {
     "data": {
      "text/html": [
       "<pre style=\"white-space:pre;overflow-x:auto;line-height:normal;font-family:Menlo,'DejaVu Sans Mono',consolas,'Courier New',monospace\">find the right <span style=\"color: #000000; text-decoration-color: #000000; background-color: #ffff00\">balance</span> <span style=\"color: #000000; text-decoration-color: #000000; background-color: #ffff00\">working</span> through <span style=\"color: #000000; text-decoration-color: #000000; background-color: #ffff00\">Teams</span> and <span style=\"color: #000000; text-decoration-color: #000000; background-color: #ffff00\">physical</span> <span style=\"color: #000000; text-decoration-color: #000000; background-color: #ffff00\">meetings</span> - a lot of <span style=\"color: #000000; text-decoration-color: #000000; background-color: #ffff00\">things</span> <span style=\"color: #000000; text-decoration-color: #000000; background-color: #ffff00\">can</span> be \n",
       "done <span style=\"color: #000000; text-decoration-color: #000000; background-color: #ffff00\">easily</span> via <span style=\"color: #000000; text-decoration-color: #000000; background-color: #ffff00\">Teams</span> which <span style=\"color: #000000; text-decoration-color: #000000; background-color: #ffff00\">makes</span> <span style=\"color: #000000; text-decoration-color: #000000; background-color: #ffff00\">meetings</span> very <span style=\"color: #000000; text-decoration-color: #000000; background-color: #ffff00\">effective</span>\n",
       "</pre>\n"
      ],
      "text/plain": [
       "find the right \u001b[30;48;2;255;255;0mbalance\u001b[0m \u001b[30;48;2;255;255;0mworking\u001b[0m through \u001b[30;48;2;255;255;0mTeams\u001b[0m and \u001b[30;48;2;255;255;0mphysical\u001b[0m \u001b[30;48;2;255;255;0mmeetings\u001b[0m - a lot of \u001b[30;48;2;255;255;0mthings\u001b[0m \u001b[30;48;2;255;255;0mcan\u001b[0m be \n",
       "done \u001b[30;48;2;255;255;0measily\u001b[0m via \u001b[30;48;2;255;255;0mTeams\u001b[0m which \u001b[30;48;2;255;255;0mmakes\u001b[0m \u001b[30;48;2;255;255;0mmeetings\u001b[0m very \u001b[30;48;2;255;255;0meffective\u001b[0m\n"
      ]
     },
     "metadata": {},
     "output_type": "display_data"
    },
    {
     "name": "stdout",
     "output_type": "stream",
     "text": [
      "[('meetings', 0.5762), ('teams', 0.5035), ('balance', 0.3925), ('working', 0.3729), ('effective', 0.3382), ('easily', 0.2234), ('physical', 0.2177), ('makes', 0.214), ('can', 0.2086), ('things', 0.1984)]\n"
     ]
    },
    {
     "data": {
      "text/html": [
       "<pre style=\"white-space:pre;overflow-x:auto;line-height:normal;font-family:Menlo,'DejaVu Sans Mono',consolas,'Courier New',monospace\">No surprise in <span style=\"color: #000000; text-decoration-color: #000000; background-color: #ffff00\">the</span> <span style=\"color: #000000; text-decoration-color: #000000; background-color: #ffff00\">conclusion</span> but <span style=\"color: #000000; text-decoration-color: #000000; background-color: #ffff00\">DLT</span> strongly <span style=\"color: #000000; text-decoration-color: #000000; background-color: #ffff00\">facilitated</span> <span style=\"color: #000000; text-decoration-color: #000000; background-color: #ffff00\">the</span> <span style=\"color: #000000; text-decoration-color: #000000; background-color: #ffff00\">landing</span> on a <span style=\"color: #000000; text-decoration-color: #000000; background-color: #ffff00\">clear</span> <span style=\"color: #000000; text-decoration-color: #000000; background-color: #ffff00\">conclusion</span> \n",
       "between <span style=\"color: #000000; text-decoration-color: #000000; background-color: #ffff00\">all</span> individual ideas, thanks <span style=\"color: #000000; text-decoration-color: #000000; background-color: #ffff00\">to</span> <span style=\"color: #000000; text-decoration-color: #000000; background-color: #ffff00\">the</span> <span style=\"color: #000000; text-decoration-color: #000000; background-color: #ffff00\">process</span>\n",
       "</pre>\n"
      ],
      "text/plain": [
       "No surprise in \u001b[30;48;2;255;255;0mthe\u001b[0m \u001b[30;48;2;255;255;0mconclusion\u001b[0m but \u001b[30;48;2;255;255;0mDLT\u001b[0m strongly \u001b[30;48;2;255;255;0mfacilitated\u001b[0m \u001b[30;48;2;255;255;0mthe\u001b[0m \u001b[30;48;2;255;255;0mlanding\u001b[0m on a \u001b[30;48;2;255;255;0mclear\u001b[0m \u001b[30;48;2;255;255;0mconclusion\u001b[0m \n",
       "between \u001b[30;48;2;255;255;0mall\u001b[0m individual ideas, thanks \u001b[30;48;2;255;255;0mto\u001b[0m \u001b[30;48;2;255;255;0mthe\u001b[0m \u001b[30;48;2;255;255;0mprocess\u001b[0m\n"
      ]
     },
     "metadata": {},
     "output_type": "display_data"
    },
    {
     "name": "stdout",
     "output_type": "stream",
     "text": [
      "[('conclusion', 0.4981), ('clear', 0.3452), ('landing', 0.3424), ('facilitated', 0.3041), ('process', 0.3031), ('dlt', 0.2703), ('ideas', 0.2469), ('all', 0.2385), ('the', 0.2371), ('to', 0.228)]\n"
     ]
    },
    {
     "data": {
      "text/html": [
       "<pre style=\"white-space:pre;overflow-x:auto;line-height:normal;font-family:Menlo,'DejaVu Sans Mono',consolas,'Courier New',monospace\">I <span style=\"color: #000000; text-decoration-color: #000000; background-color: #ffff00\">liked</span> very much the <span style=\"color: #000000; text-decoration-color: #000000; background-color: #ffff00\">representations</span> of <span style=\"color: #000000; text-decoration-color: #000000; background-color: #ffff00\">facts</span> and figures to support fact findings, <span style=\"color: #000000; text-decoration-color: #000000; background-color: #ffff00\">analysis</span>\n",
       "and <span style=\"color: #000000; text-decoration-color: #000000; background-color: #ffff00\">discussion</span> to a conclusion. I <span style=\"color: #000000; text-decoration-color: #000000; background-color: #ffff00\">liked</span> the <span style=\"color: #000000; text-decoration-color: #000000; background-color: #ffff00\">pragmatic</span> <span style=\"color: #000000; text-decoration-color: #000000; background-color: #ffff00\">ideas</span> in the <span style=\"color: #000000; text-decoration-color: #000000; background-color: #ffff00\">implementation</span> phase.\n",
       "</pre>\n"
      ],
      "text/plain": [
       "I \u001b[30;48;2;255;255;0mliked\u001b[0m very much the \u001b[30;48;2;255;255;0mrepresentations\u001b[0m of \u001b[30;48;2;255;255;0mfacts\u001b[0m and figures to support fact findings, \u001b[30;48;2;255;255;0manalysis\u001b[0m\n",
       "and \u001b[30;48;2;255;255;0mdiscussion\u001b[0m to a conclusion. I \u001b[30;48;2;255;255;0mliked\u001b[0m the \u001b[30;48;2;255;255;0mpragmatic\u001b[0m \u001b[30;48;2;255;255;0mideas\u001b[0m in the \u001b[30;48;2;255;255;0mimplementation\u001b[0m phase.\n"
      ]
     },
     "metadata": {},
     "output_type": "display_data"
    },
    {
     "name": "stdout",
     "output_type": "stream",
     "text": [
      "[('pragmatic', 0.3934), ('facts', 0.316), ('conclusion', 0.2906), ('ideas', 0.2852), ('findings', 0.2835), ('implementation', 0.2784), ('representations', 0.2712), ('analysis', 0.2675), ('discussion', 0.2466), ('liked', 0.2432)]\n"
     ]
    },
    {
     "data": {
      "text/html": [
       "<pre style=\"white-space:pre;overflow-x:auto;line-height:normal;font-family:Menlo,'DejaVu Sans Mono',consolas,'Courier New',monospace\">I <span style=\"color: #000000; text-decoration-color: #000000; background-color: #ffff00\">can</span> see that it is <span style=\"color: #000000; text-decoration-color: #000000; background-color: #ffff00\">functioning</span> very well the <span style=\"color: #000000; text-decoration-color: #000000; background-color: #ffff00\">remote</span> <span style=\"color: #000000; text-decoration-color: #000000; background-color: #ffff00\">working</span> across the full <span style=\"color: #000000; text-decoration-color: #000000; background-color: #ffff00\">project</span> \n",
       "therefore I would advice con <span style=\"color: #000000; text-decoration-color: #000000; background-color: #ffff00\">continue</span> this format <span style=\"color: #000000; text-decoration-color: #000000; background-color: #ffff00\">also</span> in the <span style=\"color: #000000; text-decoration-color: #000000; background-color: #ffff00\">next</span> normal <span style=\"color: #000000; text-decoration-color: #000000; background-color: #ffff00\">for</span> most of the \n",
       "tasks.\n",
       "</pre>\n"
      ],
      "text/plain": [
       "I \u001b[30;48;2;255;255;0mcan\u001b[0m see that it is \u001b[30;48;2;255;255;0mfunctioning\u001b[0m very well the \u001b[30;48;2;255;255;0mremote\u001b[0m \u001b[30;48;2;255;255;0mworking\u001b[0m across the full \u001b[30;48;2;255;255;0mproject\u001b[0m \n",
       "therefore I would advice con \u001b[30;48;2;255;255;0mcontinue\u001b[0m this format \u001b[30;48;2;255;255;0malso\u001b[0m in the \u001b[30;48;2;255;255;0mnext\u001b[0m normal \u001b[30;48;2;255;255;0mfor\u001b[0m most of the \n",
       "tasks.\n"
      ]
     },
     "metadata": {},
     "output_type": "display_data"
    },
    {
     "name": "stdout",
     "output_type": "stream",
     "text": [
      "[('remote', 0.4137), ('functioning', 0.333), ('project', 0.3297), ('tasks', 0.3144), ('continue', 0.3066), ('working', 0.2517), ('next', 0.2505), ('also', 0.1921), ('can', 0.19), ('for', 0.1674)]\n"
     ]
    },
    {
     "data": {
      "text/html": [
       "<pre style=\"white-space:pre;overflow-x:auto;line-height:normal;font-family:Menlo,'DejaVu Sans Mono',consolas,'Courier New',monospace\">Graag start ik een <span style=\"color: #000000; text-decoration-color: #000000; background-color: #ffff00\">vervolgtraject</span> op <span style=\"color: #000000; text-decoration-color: #000000; background-color: #ffff00\">in</span> <span style=\"color: #000000; text-decoration-color: #000000; background-color: #ffff00\">samenwerking</span> met Deloitte. Hier zal ook <span style=\"color: #000000; text-decoration-color: #000000; background-color: #ffff00\">regelmatig</span> \n",
       "<span style=\"color: #000000; text-decoration-color: #000000; background-color: #ffff00\">digitaal</span> <span style=\"color: #000000; text-decoration-color: #000000; background-color: #ffff00\">overleg</span> <span style=\"color: #000000; text-decoration-color: #000000; background-color: #ffff00\">plaatsvinden</span> maar <span style=\"color: #000000; text-decoration-color: #000000; background-color: #ffff00\">voor</span> sommige items is fysiek <span style=\"color: #000000; text-decoration-color: #000000; background-color: #ffff00\">overleg</span> toch handiger.\n",
       "</pre>\n"
      ],
      "text/plain": [
       "Graag start ik een \u001b[30;48;2;255;255;0mvervolgtraject\u001b[0m op \u001b[30;48;2;255;255;0min\u001b[0m \u001b[30;48;2;255;255;0msamenwerking\u001b[0m met Deloitte. Hier zal ook \u001b[30;48;2;255;255;0mregelmatig\u001b[0m \n",
       "\u001b[30;48;2;255;255;0mdigitaal\u001b[0m \u001b[30;48;2;255;255;0moverleg\u001b[0m \u001b[30;48;2;255;255;0mplaatsvinden\u001b[0m maar \u001b[30;48;2;255;255;0mvoor\u001b[0m sommige items is fysiek \u001b[30;48;2;255;255;0moverleg\u001b[0m toch handiger.\n"
      ]
     },
     "metadata": {},
     "output_type": "display_data"
    },
    {
     "name": "stdout",
     "output_type": "stream",
     "text": [
      "[('overleg', 0.4598), ('vervolgtraject', 0.3399), ('samenwerking', 0.3274), ('digitaal', 0.3003), ('handiger', 0.2739), ('voor', 0.263), ('deloitte', 0.2533), ('plaatsvinden', 0.1968), ('regelmatig', 0.1967), ('in', 0.1752)]\n"
     ]
    },
    {
     "data": {
      "text/html": [
       "<pre style=\"white-space:pre;overflow-x:auto;line-height:normal;font-family:Menlo,'DejaVu Sans Mono',consolas,'Courier New',monospace\"><span style=\"color: #000000; text-decoration-color: #000000; background-color: #ffff00\">Positively</span> <span style=\"color: #000000; text-decoration-color: #000000; background-color: #ffff00\">surprised</span> of the <span style=\"color: #000000; text-decoration-color: #000000; background-color: #ffff00\">effectiveness</span> <span style=\"color: #000000; text-decoration-color: #000000; background-color: #ffff00\">in</span> <span style=\"color: #000000; text-decoration-color: #000000; background-color: #ffff00\">transforming</span> from on-site <span style=\"color: #000000; text-decoration-color: #000000; background-color: #ffff00\">to</span> <span style=\"color: #000000; text-decoration-color: #000000; background-color: #ffff00\">remote</span> <span style=\"color: #000000; text-decoration-color: #000000; background-color: #ffff00\">inspections</span>\n",
       "</pre>\n"
      ],
      "text/plain": [
       "\u001b[30;48;2;255;255;0mPositively\u001b[0m \u001b[30;48;2;255;255;0msurprised\u001b[0m of the \u001b[30;48;2;255;255;0meffectiveness\u001b[0m \u001b[30;48;2;255;255;0min\u001b[0m \u001b[30;48;2;255;255;0mtransforming\u001b[0m from on-site \u001b[30;48;2;255;255;0mto\u001b[0m \u001b[30;48;2;255;255;0mremote\u001b[0m \u001b[30;48;2;255;255;0minspections\u001b[0m\n"
      ]
     },
     "metadata": {},
     "output_type": "display_data"
    },
    {
     "name": "stdout",
     "output_type": "stream",
     "text": [
      "[('inspections', 0.515), ('effectiveness', 0.4468), ('surprised', 0.2791), ('transforming', 0.2628), ('remote', 0.2608), ('site', 0.2499), ('on', 0.2341), ('positively', 0.205), ('to', 0.1689), ('in', 0.1622)]\n"
     ]
    },
    {
     "data": {
      "text/html": [
       "<pre style=\"white-space:pre;overflow-x:auto;line-height:normal;font-family:Menlo,'DejaVu Sans Mono',consolas,'Courier New',monospace\"><span style=\"color: #000000; text-decoration-color: #000000; background-color: #ffff00\">More</span> <span style=\"color: #000000; text-decoration-color: #000000; background-color: #ffff00\">deep</span> <span style=\"color: #000000; text-decoration-color: #000000; background-color: #ffff00\">dive</span> &amp; <span style=\"color: #000000; text-decoration-color: #000000; background-color: #ffff00\">involvement</span> <span style=\"color: #000000; text-decoration-color: #000000; background-color: #ffff00\">in</span> the exécution, <span style=\"color: #000000; text-decoration-color: #000000; background-color: #ffff00\">efficiency</span> <span style=\"color: #000000; text-decoration-color: #000000; background-color: #ffff00\">and</span> <span style=\"color: #000000; text-decoration-color: #000000; background-color: #ffff00\">effectivenes</span> <span style=\"color: #000000; text-decoration-color: #000000; background-color: #ffff00\">measurement</span>\n",
       "</pre>\n"
      ],
      "text/plain": [
       "\u001b[30;48;2;255;255;0mMore\u001b[0m \u001b[30;48;2;255;255;0mdeep\u001b[0m \u001b[30;48;2;255;255;0mdive\u001b[0m & \u001b[30;48;2;255;255;0minvolvement\u001b[0m \u001b[30;48;2;255;255;0min\u001b[0m the exécution, \u001b[30;48;2;255;255;0mefficiency\u001b[0m \u001b[30;48;2;255;255;0mand\u001b[0m \u001b[30;48;2;255;255;0meffectivenes\u001b[0m \u001b[30;48;2;255;255;0mmeasurement\u001b[0m\n"
      ]
     },
     "metadata": {},
     "output_type": "display_data"
    },
    {
     "name": "stdout",
     "output_type": "stream",
     "text": [
      "[('dive', 0.5417), ('measurement', 0.5364), ('deep', 0.463), ('efficiency', 0.4579), ('effectivenes', 0.3849), ('exécution', 0.3606), ('more', 0.2995), ('involvement', 0.2705), ('in', 0.2388), ('and', 0.2183)]\n"
     ]
    },
    {
     "data": {
      "text/html": [
       "<pre style=\"white-space:pre;overflow-x:auto;line-height:normal;font-family:Menlo,'DejaVu Sans Mono',consolas,'Courier New',monospace\"><span style=\"color: #000000; text-decoration-color: #000000; background-color: #ffff00\">We</span> <span style=\"color: #000000; text-decoration-color: #000000; background-color: #ffff00\">did</span> <span style=\"color: #000000; text-decoration-color: #000000; background-color: #ffff00\">not</span> <span style=\"color: #000000; text-decoration-color: #000000; background-color: #ffff00\">implement</span> <span style=\"color: #000000; text-decoration-color: #000000; background-color: #ffff00\">sophisticated</span> <span style=\"color: #000000; text-decoration-color: #000000; background-color: #ffff00\">new</span> <span style=\"color: #000000; text-decoration-color: #000000; background-color: #ffff00\">pricing</span> <span style=\"color: #000000; text-decoration-color: #000000; background-color: #ffff00\">technology</span> aside from <span style=\"color: #000000; text-decoration-color: #000000; background-color: #ffff00\">Salesforce</span> <span style=\"color: #000000; text-decoration-color: #000000; background-color: #ffff00\">CPQ</span>\n",
       "</pre>\n"
      ],
      "text/plain": [
       "\u001b[30;48;2;255;255;0mWe\u001b[0m \u001b[30;48;2;255;255;0mdid\u001b[0m \u001b[30;48;2;255;255;0mnot\u001b[0m \u001b[30;48;2;255;255;0mimplement\u001b[0m \u001b[30;48;2;255;255;0msophisticated\u001b[0m \u001b[30;48;2;255;255;0mnew\u001b[0m \u001b[30;48;2;255;255;0mpricing\u001b[0m \u001b[30;48;2;255;255;0mtechnology\u001b[0m aside from \u001b[30;48;2;255;255;0mSalesforce\u001b[0m \u001b[30;48;2;255;255;0mCPQ\u001b[0m\n"
      ]
     },
     "metadata": {},
     "output_type": "display_data"
    },
    {
     "name": "stdout",
     "output_type": "stream",
     "text": [
      "[('pricing', 0.3538), ('salesforce', 0.2793), ('technology', 0.1847), ('new', 0.1318), ('not', 0.1176), ('we', 0.1117), ('implement', 0.0977), ('sophisticated', 0.0853), ('cpq', 0.0641), ('did', 0.0027)]\n"
     ]
    },
    {
     "data": {
      "text/html": [
       "<pre style=\"white-space:pre;overflow-x:auto;line-height:normal;font-family:Menlo,'DejaVu Sans Mono',consolas,'Courier New',monospace\">I think <span style=\"color: #000000; text-decoration-color: #000000; background-color: #ffff00\">Deloitte</span> <span style=\"color: #000000; text-decoration-color: #000000; background-color: #ffff00\">understood</span> our <span style=\"color: #000000; text-decoration-color: #000000; background-color: #ffff00\">business</span> to expectation. <span style=\"color: #000000; text-decoration-color: #000000; background-color: #ffff00\">Olivier</span> Dallemagne was particularly \n",
       "knowledgeable, but <span style=\"color: #000000; text-decoration-color: #000000; background-color: #ffff00\">departed</span> in the middle of the project. His <span style=\"color: #000000; text-decoration-color: #000000; background-color: #ffff00\">expertise</span> was missed.\n",
       "</pre>\n"
      ],
      "text/plain": [
       "I think \u001b[30;48;2;255;255;0mDeloitte\u001b[0m \u001b[30;48;2;255;255;0munderstood\u001b[0m our \u001b[30;48;2;255;255;0mbusiness\u001b[0m to expectation. \u001b[30;48;2;255;255;0mOlivier\u001b[0m Dallemagne was particularly \n",
       "knowledgeable, but \u001b[30;48;2;255;255;0mdeparted\u001b[0m in the middle of the project. His \u001b[30;48;2;255;255;0mexpertise\u001b[0m was missed.\n"
      ]
     },
     "metadata": {},
     "output_type": "display_data"
    },
    {
     "name": "stdout",
     "output_type": "stream",
     "text": [
      "[('deloitte', 0.3217), ('expertise', 0.3122), ('olivier', 0.2679), ('expectation', 0.2656), ('knowledgeable', 0.2513), ('business', 0.2431), ('missed', 0.2346), ('departed', 0.1998), ('project', 0.185), ('understood', 0.1742)]\n"
     ]
    },
    {
     "data": {
      "text/html": [
       "<pre style=\"white-space:pre;overflow-x:auto;line-height:normal;font-family:Menlo,'DejaVu Sans Mono',consolas,'Courier New',monospace\"><span style=\"color: #000000; text-decoration-color: #000000; background-color: #ffff00\">more</span> <span style=\"color: #000000; text-decoration-color: #000000; background-color: #ffff00\">deep</span> <span style=\"color: #000000; text-decoration-color: #000000; background-color: #ffff00\">dive</span> <span style=\"color: #000000; text-decoration-color: #000000; background-color: #ffff00\">into</span> <span style=\"color: #000000; text-decoration-color: #000000; background-color: #ffff00\">the</span> execution, <span style=\"color: #000000; text-decoration-color: #000000; background-color: #ffff00\">measurement</span> <span style=\"color: #000000; text-decoration-color: #000000; background-color: #ffff00\">and</span> <span style=\"color: #000000; text-decoration-color: #000000; background-color: #ffff00\">effectivness</span>\n",
       "</pre>\n"
      ],
      "text/plain": [
       "\u001b[30;48;2;255;255;0mmore\u001b[0m \u001b[30;48;2;255;255;0mdeep\u001b[0m \u001b[30;48;2;255;255;0mdive\u001b[0m \u001b[30;48;2;255;255;0minto\u001b[0m \u001b[30;48;2;255;255;0mthe\u001b[0m execution, \u001b[30;48;2;255;255;0mmeasurement\u001b[0m \u001b[30;48;2;255;255;0mand\u001b[0m \u001b[30;48;2;255;255;0meffectivness\u001b[0m\n"
      ]
     },
     "metadata": {},
     "output_type": "display_data"
    },
    {
     "name": "stdout",
     "output_type": "stream",
     "text": [
      "[('effectivness', 0.6425), ('measurement', 0.5046), ('execution', 0.5025), ('deep', 0.4543), ('more', 0.4209), ('dive', 0.3846), ('and', 0.3353), ('into', 0.3291), ('the', 0.3074)]\n"
     ]
    },
    {
     "data": {
      "text/html": [
       "<pre style=\"white-space:pre;overflow-x:auto;line-height:normal;font-family:Menlo,'DejaVu Sans Mono',consolas,'Courier New',monospace\">Overall, <span style=\"color: #000000; text-decoration-color: #000000; background-color: #ffff00\">happy</span> with <span style=\"color: #000000; text-decoration-color: #000000; background-color: #ffff00\">Sarah</span> and the <span style=\"color: #000000; text-decoration-color: #000000; background-color: #ffff00\">team</span> - professional, responsive and <span style=\"color: #000000; text-decoration-color: #000000; background-color: #ffff00\">nice</span> to work with. <span style=\"color: #000000; text-decoration-color: #000000; background-color: #ffff00\">Fees</span>\n",
       "in Belgium, particularly OOS, are <span style=\"color: #000000; text-decoration-color: #000000; background-color: #ffff00\">exceptionally</span> <span style=\"color: #000000; text-decoration-color: #000000; background-color: #ffff00\">high</span> though.\n",
       "</pre>\n"
      ],
      "text/plain": [
       "Overall, \u001b[30;48;2;255;255;0mhappy\u001b[0m with \u001b[30;48;2;255;255;0mSarah\u001b[0m and the \u001b[30;48;2;255;255;0mteam\u001b[0m - professional, responsive and \u001b[30;48;2;255;255;0mnice\u001b[0m to work with. \u001b[30;48;2;255;255;0mFees\u001b[0m\n",
       "in Belgium, particularly OOS, are \u001b[30;48;2;255;255;0mexceptionally\u001b[0m \u001b[30;48;2;255;255;0mhigh\u001b[0m though.\n"
      ]
     },
     "metadata": {},
     "output_type": "display_data"
    },
    {
     "name": "stdout",
     "output_type": "stream",
     "text": [
      "[('happy', 0.3202), ('fees', 0.2963), ('exceptionally', 0.2487), ('professional', 0.2475), ('nice', 0.2434), ('belgium', 0.2427), ('team', 0.2407), ('high', 0.2403), ('sarah', 0.2052), ('oos', 0.1957)]\n"
     ]
    },
    {
     "data": {
      "text/html": [
       "<pre style=\"white-space:pre;overflow-x:auto;line-height:normal;font-family:Menlo,'DejaVu Sans Mono',consolas,'Courier New',monospace\"><span style=\"color: #000000; text-decoration-color: #000000; background-color: #ffff00\">No</span> <span style=\"color: #000000; text-decoration-color: #000000; background-color: #ffff00\">doubt</span> <span style=\"color: #000000; text-decoration-color: #000000; background-color: #ffff00\">about</span> this.\n",
       "</pre>\n"
      ],
      "text/plain": [
       "\u001b[30;48;2;255;255;0mNo\u001b[0m \u001b[30;48;2;255;255;0mdoubt\u001b[0m \u001b[30;48;2;255;255;0mabout\u001b[0m this.\n"
      ]
     },
     "metadata": {},
     "output_type": "display_data"
    },
    {
     "name": "stdout",
     "output_type": "stream",
     "text": [
      "[('this', 0.4212), ('doubt', 0.3925), ('about', 0.3158), ('no', 0.2658)]\n"
     ]
    },
    {
     "data": {
      "text/html": [
       "<pre style=\"white-space:pre;overflow-x:auto;line-height:normal;font-family:Menlo,'DejaVu Sans Mono',consolas,'Courier New',monospace\">Obviously <span style=\"color: #000000; text-decoration-color: #000000; background-color: #ffff00\">we</span> couldn't <span style=\"color: #000000; text-decoration-color: #000000; background-color: #ffff00\">have</span> all <span style=\"color: #000000; text-decoration-color: #000000; background-color: #ffff00\">sessions</span> live, but with the <span style=\"color: #000000; text-decoration-color: #000000; background-color: #ffff00\">support</span> of <span style=\"color: #000000; text-decoration-color: #000000; background-color: #ffff00\">technology</span> the <span style=\"color: #000000; text-decoration-color: #000000; background-color: #ffff00\">project</span> \n",
       "was <span style=\"color: #000000; text-decoration-color: #000000; background-color: #ffff00\">run</span> very efficiently.\n",
       "</pre>\n"
      ],
      "text/plain": [
       "Obviously \u001b[30;48;2;255;255;0mwe\u001b[0m couldn't \u001b[30;48;2;255;255;0mhave\u001b[0m all \u001b[30;48;2;255;255;0msessions\u001b[0m live, but with the \u001b[30;48;2;255;255;0msupport\u001b[0m of \u001b[30;48;2;255;255;0mtechnology\u001b[0m the \u001b[30;48;2;255;255;0mproject\u001b[0m \n",
       "was \u001b[30;48;2;255;255;0mrun\u001b[0m very efficiently.\n"
      ]
     },
     "metadata": {},
     "output_type": "display_data"
    },
    {
     "name": "stdout",
     "output_type": "stream",
     "text": [
      "[('sessions', 0.346), ('technology', 0.2781), ('efficiently', 0.2733), ('project', 0.2487), ('couldn', 0.2155), ('support', 0.1691), ('run', 0.1457), ('live', 0.1384), ('have', 0.1288), ('we', 0.1111)]\n"
     ]
    },
    {
     "data": {
      "text/html": [
       "<pre style=\"white-space:pre;overflow-x:auto;line-height:normal;font-family:Menlo,'DejaVu Sans Mono',consolas,'Courier New',monospace\"><span style=\"color: #000000; text-decoration-color: #000000; background-color: #ffff00\">Expertise</span> <span style=\"color: #000000; text-decoration-color: #000000; background-color: #ffff00\">in</span> the <span style=\"color: #000000; text-decoration-color: #000000; background-color: #ffff00\">area</span> <span style=\"color: #000000; text-decoration-color: #000000; background-color: #ffff00\">we</span> had to deal with, open, transparent, <span style=\"color: #000000; text-decoration-color: #000000; background-color: #ffff00\">agile</span> and <span style=\"color: #000000; text-decoration-color: #000000; background-color: #ffff00\">focused</span> on <span style=\"color: #000000; text-decoration-color: #000000; background-color: #ffff00\">pragmatic</span> \n",
       "solutions.\n",
       "</pre>\n"
      ],
      "text/plain": [
       "\u001b[30;48;2;255;255;0mExpertise\u001b[0m \u001b[30;48;2;255;255;0min\u001b[0m the \u001b[30;48;2;255;255;0marea\u001b[0m \u001b[30;48;2;255;255;0mwe\u001b[0m had to deal with, open, transparent, \u001b[30;48;2;255;255;0magile\u001b[0m and \u001b[30;48;2;255;255;0mfocused\u001b[0m on \u001b[30;48;2;255;255;0mpragmatic\u001b[0m \n",
       "solutions.\n"
      ]
     },
     "metadata": {},
     "output_type": "display_data"
    },
    {
     "name": "stdout",
     "output_type": "stream",
     "text": [
      "[('pragmatic', 0.5494), ('expertise', 0.5411), ('agile', 0.448), ('solutions', 0.3461), ('focused', 0.3007), ('open', 0.247), ('with', 0.2303), ('area', 0.2257), ('in', 0.2237), ('we', 0.2189)]\n"
     ]
    },
    {
     "data": {
      "text/html": [
       "<pre style=\"white-space:pre;overflow-x:auto;line-height:normal;font-family:Menlo,'DejaVu Sans Mono',consolas,'Courier New',monospace\">The <span style=\"color: #000000; text-decoration-color: #000000; background-color: #ffff00\">communication</span> <span style=\"color: #000000; text-decoration-color: #000000; background-color: #ffff00\">with</span> one of our <span style=\"color: #000000; text-decoration-color: #000000; background-color: #ffff00\">Directors</span> was <span style=\"color: #000000; text-decoration-color: #000000; background-color: #ffff00\">very</span> <span style=\"color: #000000; text-decoration-color: #000000; background-color: #ffff00\">smooth</span> and efficient. This allowed <span style=\"color: #000000; text-decoration-color: #000000; background-color: #ffff00\">very</span> \n",
       "<span style=\"color: #000000; text-decoration-color: #000000; background-color: #ffff00\">good</span> preparation, strong <span style=\"color: #000000; text-decoration-color: #000000; background-color: #ffff00\">execution</span> and solid conclusions.\n",
       "</pre>\n"
      ],
      "text/plain": [
       "The \u001b[30;48;2;255;255;0mcommunication\u001b[0m \u001b[30;48;2;255;255;0mwith\u001b[0m one of our \u001b[30;48;2;255;255;0mDirectors\u001b[0m was \u001b[30;48;2;255;255;0mvery\u001b[0m \u001b[30;48;2;255;255;0msmooth\u001b[0m and efficient. This allowed \u001b[30;48;2;255;255;0mvery\u001b[0m \n",
       "\u001b[30;48;2;255;255;0mgood\u001b[0m preparation, strong \u001b[30;48;2;255;255;0mexecution\u001b[0m and solid conclusions.\n"
      ]
     },
     "metadata": {},
     "output_type": "display_data"
    },
    {
     "name": "stdout",
     "output_type": "stream",
     "text": [
      "[('efficient', 0.4523), ('directors', 0.3574), ('smooth', 0.3441), ('good', 0.2969), ('execution', 0.2791), ('conclusions', 0.2399), ('preparation', 0.2371), ('communication', 0.2028), ('with', 0.1871), ('very', 0.1508)]\n"
     ]
    },
    {
     "data": {
      "text/html": [
       "<pre style=\"white-space:pre;overflow-x:auto;line-height:normal;font-family:Menlo,'DejaVu Sans Mono',consolas,'Courier New',monospace\">It was not the <span style=\"color: #000000; text-decoration-color: #000000; background-color: #ffff00\">first</span> time we were using <span style=\"color: #000000; text-decoration-color: #000000; background-color: #ffff00\">Deloitte</span> and therefore the team new our <span style=\"color: #000000; text-decoration-color: #000000; background-color: #ffff00\">company</span> and \n",
       "Industry. The <span style=\"color: #000000; text-decoration-color: #000000; background-color: #ffff00\">interviews</span> <span style=\"color: #000000; text-decoration-color: #000000; background-color: #ffff00\">conducted</span> to prepare the <span style=\"color: #000000; text-decoration-color: #000000; background-color: #ffff00\">workshops</span> have also <span style=\"color: #000000; text-decoration-color: #000000; background-color: #ffff00\">participated</span> to \n",
       "increase the level of <span style=\"color: #000000; text-decoration-color: #000000; background-color: #ffff00\">knowledge</span> about our business.\n",
       "</pre>\n"
      ],
      "text/plain": [
       "It was not the \u001b[30;48;2;255;255;0mfirst\u001b[0m time we were using \u001b[30;48;2;255;255;0mDeloitte\u001b[0m and therefore the team new our \u001b[30;48;2;255;255;0mcompany\u001b[0m and \n",
       "Industry. The \u001b[30;48;2;255;255;0minterviews\u001b[0m \u001b[30;48;2;255;255;0mconducted\u001b[0m to prepare the \u001b[30;48;2;255;255;0mworkshops\u001b[0m have also \u001b[30;48;2;255;255;0mparticipated\u001b[0m to \n",
       "increase the level of \u001b[30;48;2;255;255;0mknowledge\u001b[0m about our business.\n"
      ]
     },
     "metadata": {},
     "output_type": "display_data"
    },
    {
     "name": "stdout",
     "output_type": "stream",
     "text": [
      "[('interviews', 0.4283), ('workshops', 0.4098), ('company', 0.305), ('industry', 0.2911), ('business', 0.2511), ('conducted', 0.245), ('knowledge', 0.1987), ('participated', 0.1644), ('first', 0.1416), ('deloitte', 0.1407)]\n"
     ]
    },
    {
     "data": {
      "text/html": [
       "<pre style=\"white-space:pre;overflow-x:auto;line-height:normal;font-family:Menlo,'DejaVu Sans Mono',consolas,'Courier New',monospace\">I think the <span style=\"color: #000000; text-decoration-color: #000000; background-color: #ffff00\">new</span> normal will mix physical presence for <span style=\"color: #000000; text-decoration-color: #000000; background-color: #ffff00\">critical</span> meetings and remote work for \n",
       "preparation, assessment, etc. <span style=\"color: #000000; text-decoration-color: #000000; background-color: #ffff00\">Technology</span> will <span style=\"color: #000000; text-decoration-color: #000000; background-color: #ffff00\">continue</span> to <span style=\"color: #000000; text-decoration-color: #000000; background-color: #ffff00\">evolve</span> and we need to keep a close \n",
       "high on it, to ensure we <span style=\"color: #000000; text-decoration-color: #000000; background-color: #ffff00\">continue</span> to <span style=\"color: #000000; text-decoration-color: #000000; background-color: #ffff00\">improve</span> our productivity, efficiency, <span style=\"color: #000000; text-decoration-color: #000000; background-color: #ffff00\">fast</span> reactions in \n",
       "a <span style=\"color: #000000; text-decoration-color: #000000; background-color: #ffff00\">permanently</span> <span style=\"color: #000000; text-decoration-color: #000000; background-color: #ffff00\">moving</span> environment.\n",
       "</pre>\n"
      ],
      "text/plain": [
       "I think the \u001b[30;48;2;255;255;0mnew\u001b[0m normal will mix physical presence for \u001b[30;48;2;255;255;0mcritical\u001b[0m meetings and remote work for \n",
       "preparation, assessment, etc. \u001b[30;48;2;255;255;0mTechnology\u001b[0m will \u001b[30;48;2;255;255;0mcontinue\u001b[0m to \u001b[30;48;2;255;255;0mevolve\u001b[0m and we need to keep a close \n",
       "high on it, to ensure we \u001b[30;48;2;255;255;0mcontinue\u001b[0m to \u001b[30;48;2;255;255;0mimprove\u001b[0m our productivity, efficiency, \u001b[30;48;2;255;255;0mfast\u001b[0m reactions in \n",
       "a \u001b[30;48;2;255;255;0mpermanently\u001b[0m \u001b[30;48;2;255;255;0mmoving\u001b[0m environment.\n"
      ]
     },
     "metadata": {},
     "output_type": "display_data"
    },
    {
     "name": "stdout",
     "output_type": "stream",
     "text": [
      "[('technology', 0.4221), ('evolve', 0.4134), ('improve', 0.3453), ('critical', 0.3359), ('continue', 0.3263), ('productivity', 0.2994), ('new', 0.2921), ('moving', 0.2913), ('permanently', 0.2831), ('fast', 0.2804)]\n"
     ]
    },
    {
     "data": {
      "text/html": [
       "<pre style=\"white-space:pre;overflow-x:auto;line-height:normal;font-family:Menlo,'DejaVu Sans Mono',consolas,'Courier New',monospace\">The <span style=\"color: #000000; text-decoration-color: #000000; background-color: #ffff00\">outcome</span> was delivered within the <span style=\"color: #000000; text-decoration-color: #000000; background-color: #ffff00\">agreed</span> <span style=\"color: #000000; text-decoration-color: #000000; background-color: #ffff00\">timeline</span> and the <span style=\"color: #000000; text-decoration-color: #000000; background-color: #ffff00\">team</span> has been very <span style=\"color: #000000; text-decoration-color: #000000; background-color: #ffff00\">agile</span> to \n",
       "adapt, so all <span style=\"color: #000000; text-decoration-color: #000000; background-color: #ffff00\">interviews</span> and <span style=\"color: #000000; text-decoration-color: #000000; background-color: #ffff00\">workshops</span> could be <span style=\"color: #000000; text-decoration-color: #000000; background-color: #ffff00\">conducted</span> with the relevant people and in an \n",
       "<span style=\"color: #000000; text-decoration-color: #000000; background-color: #ffff00\">efficient</span> manner.\n",
       "</pre>\n"
      ],
      "text/plain": [
       "The \u001b[30;48;2;255;255;0moutcome\u001b[0m was delivered within the \u001b[30;48;2;255;255;0magreed\u001b[0m \u001b[30;48;2;255;255;0mtimeline\u001b[0m and the \u001b[30;48;2;255;255;0mteam\u001b[0m has been very \u001b[30;48;2;255;255;0magile\u001b[0m to \n",
       "adapt, so all \u001b[30;48;2;255;255;0minterviews\u001b[0m and \u001b[30;48;2;255;255;0mworkshops\u001b[0m could be \u001b[30;48;2;255;255;0mconducted\u001b[0m with the relevant people and in an \n",
       "\u001b[30;48;2;255;255;0mefficient\u001b[0m manner.\n"
      ]
     },
     "metadata": {},
     "output_type": "display_data"
    },
    {
     "name": "stdout",
     "output_type": "stream",
     "text": [
      "[('agile', 0.481), ('timeline', 0.3214), ('conducted', 0.316), ('efficient', 0.3136), ('adapt', 0.3058), ('workshops', 0.2905), ('interviews', 0.2766), ('outcome', 0.2404), ('agreed', 0.2298), ('team', 0.1931)]\n"
     ]
    },
    {
     "data": {
      "text/html": [
       "<pre style=\"white-space:pre;overflow-x:auto;line-height:normal;font-family:Menlo,'DejaVu Sans Mono',consolas,'Courier New',monospace\">The <span style=\"color: #000000; text-decoration-color: #000000; background-color: #ffff00\">team</span> <span style=\"color: #000000; text-decoration-color: #000000; background-color: #ffff00\">was</span> very <span style=\"color: #000000; text-decoration-color: #000000; background-color: #ffff00\">competent</span> and <span style=\"color: #000000; text-decoration-color: #000000; background-color: #ffff00\">managed</span> to <span style=\"color: #000000; text-decoration-color: #000000; background-color: #ffff00\">come</span> to the <span style=\"color: #000000; text-decoration-color: #000000; background-color: #ffff00\">right</span> <span style=\"color: #000000; text-decoration-color: #000000; background-color: #ffff00\">conclusions</span> <span style=\"color: #000000; text-decoration-color: #000000; background-color: #ffff00\">in</span> a very <span style=\"color: #000000; text-decoration-color: #000000; background-color: #ffff00\">short</span> \n",
       "period of time.\n",
       "</pre>\n"
      ],
      "text/plain": [
       "The \u001b[30;48;2;255;255;0mteam\u001b[0m \u001b[30;48;2;255;255;0mwas\u001b[0m very \u001b[30;48;2;255;255;0mcompetent\u001b[0m and \u001b[30;48;2;255;255;0mmanaged\u001b[0m to \u001b[30;48;2;255;255;0mcome\u001b[0m to the \u001b[30;48;2;255;255;0mright\u001b[0m \u001b[30;48;2;255;255;0mconclusions\u001b[0m \u001b[30;48;2;255;255;0min\u001b[0m a very \u001b[30;48;2;255;255;0mshort\u001b[0m \n",
       "period of time.\n"
      ]
     },
     "metadata": {},
     "output_type": "display_data"
    },
    {
     "name": "stdout",
     "output_type": "stream",
     "text": [
      "[('competent', 0.3565), ('team', 0.3219), ('conclusions', 0.1991), ('come', 0.1034), ('short', 0.0894), ('right', 0.088), ('was', 0.0632), ('managed', 0.0095), ('time', 0.0016), ('in', 0.0)]\n"
     ]
    },
    {
     "data": {
      "text/html": [
       "<pre style=\"white-space:pre;overflow-x:auto;line-height:normal;font-family:Menlo,'DejaVu Sans Mono',consolas,'Courier New',monospace\">Even if the <span style=\"color: #000000; text-decoration-color: #000000; background-color: #ffff00\">scope</span> was more on <span style=\"color: #000000; text-decoration-color: #000000; background-color: #ffff00\">assessing</span> <span style=\"color: #000000; text-decoration-color: #000000; background-color: #ffff00\">our</span> current processes, the <span style=\"color: #000000; text-decoration-color: #000000; background-color: #ffff00\">team</span> shared with <span style=\"color: #000000; text-decoration-color: #000000; background-color: #ffff00\">us</span> about \n",
       "<span style=\"color: #000000; text-decoration-color: #000000; background-color: #ffff00\">digital</span> <span style=\"color: #000000; text-decoration-color: #000000; background-color: #ffff00\">capabilities</span> and <span style=\"color: #000000; text-decoration-color: #000000; background-color: #ffff00\">innovative</span> solutions?\n",
       "</pre>\n"
      ],
      "text/plain": [
       "Even if the \u001b[30;48;2;255;255;0mscope\u001b[0m was more on \u001b[30;48;2;255;255;0massessing\u001b[0m \u001b[30;48;2;255;255;0mour\u001b[0m current processes, the \u001b[30;48;2;255;255;0mteam\u001b[0m shared with \u001b[30;48;2;255;255;0mus\u001b[0m about \n",
       "\u001b[30;48;2;255;255;0mdigital\u001b[0m \u001b[30;48;2;255;255;0mcapabilities\u001b[0m and \u001b[30;48;2;255;255;0minnovative\u001b[0m solutions?\n"
      ]
     },
     "metadata": {},
     "output_type": "display_data"
    },
    {
     "name": "stdout",
     "output_type": "stream",
     "text": [
      "[('innovative', 0.3866), ('digital', 0.3573), ('capabilities', 0.3549), ('processes', 0.3131), ('our', 0.2857), ('assessing', 0.2817), ('us', 0.2553), ('solutions', 0.2456), ('scope', 0.2297), ('team', 0.2103)]\n"
     ]
    },
    {
     "data": {
      "text/html": [
       "<pre style=\"white-space:pre;overflow-x:auto;line-height:normal;font-family:Menlo,'DejaVu Sans Mono',consolas,'Courier New',monospace\">The <span style=\"color: #000000; text-decoration-color: #000000; background-color: #ffff00\">team</span> <span style=\"color: #000000; text-decoration-color: #000000; background-color: #ffff00\">has</span> <span style=\"color: #000000; text-decoration-color: #000000; background-color: #ffff00\">been</span> <span style=\"color: #000000; text-decoration-color: #000000; background-color: #ffff00\">very</span> flexible, <span style=\"color: #000000; text-decoration-color: #000000; background-color: #ffff00\">agile</span> <span style=\"color: #000000; text-decoration-color: #000000; background-color: #ffff00\">and</span> <span style=\"color: #000000; text-decoration-color: #000000; background-color: #ffff00\">efficient</span> <span style=\"color: #000000; text-decoration-color: #000000; background-color: #ffff00\">in</span> the end.\n",
       "</pre>\n"
      ],
      "text/plain": [
       "The \u001b[30;48;2;255;255;0mteam\u001b[0m \u001b[30;48;2;255;255;0mhas\u001b[0m \u001b[30;48;2;255;255;0mbeen\u001b[0m \u001b[30;48;2;255;255;0mvery\u001b[0m flexible, \u001b[30;48;2;255;255;0magile\u001b[0m \u001b[30;48;2;255;255;0mand\u001b[0m \u001b[30;48;2;255;255;0mefficient\u001b[0m \u001b[30;48;2;255;255;0min\u001b[0m the end.\n"
      ]
     },
     "metadata": {},
     "output_type": "display_data"
    },
    {
     "name": "stdout",
     "output_type": "stream",
     "text": [
      "[('agile', 0.5025), ('efficient', 0.4197), ('flexible', 0.4144), ('team', 0.3667), ('end', 0.0944), ('been', 0.0455), ('and', 0.0296), ('has', 0.0291), ('very', 0.0173), ('in', 0.0087)]\n"
     ]
    },
    {
     "data": {
      "text/html": [
       "<pre style=\"white-space:pre;overflow-x:auto;line-height:normal;font-family:Menlo,'DejaVu Sans Mono',consolas,'Courier New',monospace\"><span style=\"color: #000000; text-decoration-color: #000000; background-color: #ffff00\">Very</span> <span style=\"color: #000000; text-decoration-color: #000000; background-color: #ffff00\">strong</span> <span style=\"color: #000000; text-decoration-color: #000000; background-color: #ffff00\">and</span> efficient.\n",
       "</pre>\n"
      ],
      "text/plain": [
       "\u001b[30;48;2;255;255;0mVery\u001b[0m \u001b[30;48;2;255;255;0mstrong\u001b[0m \u001b[30;48;2;255;255;0mand\u001b[0m efficient.\n"
      ]
     },
     "metadata": {},
     "output_type": "display_data"
    },
    {
     "name": "stdout",
     "output_type": "stream",
     "text": [
      "[('strong', 0.6581), ('efficient', 0.648), ('very', 0.3891), ('and', 0.264)]\n"
     ]
    },
    {
     "data": {
      "text/html": [
       "<pre style=\"white-space:pre;overflow-x:auto;line-height:normal;font-family:Menlo,'DejaVu Sans Mono',consolas,'Courier New',monospace\"><span style=\"color: #000000; text-decoration-color: #000000; background-color: #ffff00\">We</span> <span style=\"color: #000000; text-decoration-color: #000000; background-color: #ffff00\">agreed</span> <span style=\"color: #000000; text-decoration-color: #000000; background-color: #ffff00\">on</span> a <span style=\"color: #000000; text-decoration-color: #000000; background-color: #ffff00\">short</span> <span style=\"color: #000000; text-decoration-color: #000000; background-color: #ffff00\">and</span> <span style=\"color: #000000; text-decoration-color: #000000; background-color: #ffff00\">financially</span> <span style=\"color: #000000; text-decoration-color: #000000; background-color: #ffff00\">efficient</span> mission, which <span style=\"color: #000000; text-decoration-color: #000000; background-color: #ffff00\">was</span> the case in the end.\n",
       "</pre>\n"
      ],
      "text/plain": [
       "\u001b[30;48;2;255;255;0mWe\u001b[0m \u001b[30;48;2;255;255;0magreed\u001b[0m \u001b[30;48;2;255;255;0mon\u001b[0m a \u001b[30;48;2;255;255;0mshort\u001b[0m \u001b[30;48;2;255;255;0mand\u001b[0m \u001b[30;48;2;255;255;0mfinancially\u001b[0m \u001b[30;48;2;255;255;0mefficient\u001b[0m mission, which \u001b[30;48;2;255;255;0mwas\u001b[0m the case in the end.\n"
      ]
     },
     "metadata": {},
     "output_type": "display_data"
    },
    {
     "name": "stdout",
     "output_type": "stream",
     "text": [
      "[('mission', 0.4009), ('agreed', 0.3332), ('short', 0.2812), ('efficient', 0.267), ('we', 0.1993), ('financially', 0.1972), ('was', 0.1848), ('end', 0.1815), ('and', 0.1374), ('on', 0.1217)]\n"
     ]
    },
    {
     "data": {
      "text/html": [
       "<pre style=\"white-space:pre;overflow-x:auto;line-height:normal;font-family:Menlo,'DejaVu Sans Mono',consolas,'Courier New',monospace\"><span style=\"color: #000000; text-decoration-color: #000000; background-color: #ffff00\">Dit</span> <span style=\"color: #000000; text-decoration-color: #000000; background-color: #ffff00\">vind</span> <span style=\"color: #000000; text-decoration-color: #000000; background-color: #ffff00\">ik</span> <span style=\"color: #000000; text-decoration-color: #000000; background-color: #ffff00\">niet</span> <span style=\"color: #000000; text-decoration-color: #000000; background-color: #ffff00\">van</span> <span style=\"color: #000000; text-decoration-color: #000000; background-color: #ffff00\">toepassing</span> <span style=\"color: #000000; text-decoration-color: #000000; background-color: #ffff00\">in</span> <span style=\"color: #000000; text-decoration-color: #000000; background-color: #ffff00\">deze</span> <span style=\"color: #000000; text-decoration-color: #000000; background-color: #ffff00\">context</span>\n",
       "</pre>\n"
      ],
      "text/plain": [
       "\u001b[30;48;2;255;255;0mDit\u001b[0m \u001b[30;48;2;255;255;0mvind\u001b[0m \u001b[30;48;2;255;255;0mik\u001b[0m \u001b[30;48;2;255;255;0mniet\u001b[0m \u001b[30;48;2;255;255;0mvan\u001b[0m \u001b[30;48;2;255;255;0mtoepassing\u001b[0m \u001b[30;48;2;255;255;0min\u001b[0m \u001b[30;48;2;255;255;0mdeze\u001b[0m \u001b[30;48;2;255;255;0mcontext\u001b[0m\n"
      ]
     },
     "metadata": {},
     "output_type": "display_data"
    },
    {
     "name": "stdout",
     "output_type": "stream",
     "text": [
      "[('niet', 0.5286), ('context', 0.4086), ('dit', 0.3366), ('deze', 0.309), ('ik', 0.2943), ('in', 0.2611), ('vind', 0.199), ('toepassing', 0.1891), ('van', 0.1839)]\n"
     ]
    },
    {
     "data": {
      "text/html": [
       "<pre style=\"white-space:pre;overflow-x:auto;line-height:normal;font-family:Menlo,'DejaVu Sans Mono',consolas,'Courier New',monospace\">*er <span style=\"color: #000000; text-decoration-color: #000000; background-color: #ffff00\">staat</span> een schrijffout <span style=\"color: #000000; text-decoration-color: #000000; background-color: #ffff00\">in</span> de vraag* Dat vind ik moeilijk om over <span style=\"color: #000000; text-decoration-color: #000000; background-color: #ffff00\">te</span> oordelen omdat ik geen\n",
       "zicht heb <span style=\"color: #000000; text-decoration-color: #000000; background-color: #ffff00\">op</span> de gangbare <span style=\"color: #000000; text-decoration-color: #000000; background-color: #ffff00\">tarieven</span> <span style=\"color: #000000; text-decoration-color: #000000; background-color: #ffff00\">op</span> de <span style=\"color: #000000; text-decoration-color: #000000; background-color: #ffff00\">markt</span> <span style=\"color: #000000; text-decoration-color: #000000; background-color: #ffff00\">voor</span> <span style=\"color: #000000; text-decoration-color: #000000; background-color: #ffff00\">AMS</span> support.\n",
       "</pre>\n"
      ],
      "text/plain": [
       "*er \u001b[30;48;2;255;255;0mstaat\u001b[0m een schrijffout \u001b[30;48;2;255;255;0min\u001b[0m de vraag* Dat vind ik moeilijk om over \u001b[30;48;2;255;255;0mte\u001b[0m oordelen omdat ik geen\n",
       "zicht heb \u001b[30;48;2;255;255;0mop\u001b[0m de gangbare \u001b[30;48;2;255;255;0mtarieven\u001b[0m \u001b[30;48;2;255;255;0mop\u001b[0m de \u001b[30;48;2;255;255;0mmarkt\u001b[0m \u001b[30;48;2;255;255;0mvoor\u001b[0m \u001b[30;48;2;255;255;0mAMS\u001b[0m support.\n"
      ]
     },
     "metadata": {},
     "output_type": "display_data"
    },
    {
     "name": "stdout",
     "output_type": "stream",
     "text": [
      "[('tarieven', 0.4742), ('markt', 0.4331), ('ams', 0.4304), ('support', 0.2877), ('voor', 0.2688), ('staat', 0.239), ('vraag', 0.2315), ('in', 0.2041), ('te', 0.1974), ('op', 0.1954)]\n"
     ]
    },
    {
     "data": {
      "text/html": [
       "<pre style=\"white-space:pre;overflow-x:auto;line-height:normal;font-family:Menlo,'DejaVu Sans Mono',consolas,'Courier New',monospace\"><span style=\"color: #000000; text-decoration-color: #000000; background-color: #ffff00\">Voldoende</span> bereikbaar. <span style=\"color: #000000; text-decoration-color: #000000; background-color: #ffff00\">Zie</span> <span style=\"color: #000000; text-decoration-color: #000000; background-color: #ffff00\">ook</span> <span style=\"color: #000000; text-decoration-color: #000000; background-color: #ffff00\">eerdere</span> vragen.\n",
       "</pre>\n"
      ],
      "text/plain": [
       "\u001b[30;48;2;255;255;0mVoldoende\u001b[0m bereikbaar. \u001b[30;48;2;255;255;0mZie\u001b[0m \u001b[30;48;2;255;255;0mook\u001b[0m \u001b[30;48;2;255;255;0meerdere\u001b[0m vragen.\n"
      ]
     },
     "metadata": {},
     "output_type": "display_data"
    },
    {
     "name": "stdout",
     "output_type": "stream",
     "text": [
      "[('vragen', 0.6034), ('eerdere', 0.523), ('bereikbaar', 0.5055), ('ook', 0.4948), ('zie', 0.4251), ('voldoende', 0.4182)]\n"
     ]
    },
    {
     "data": {
      "text/html": [
       "<pre style=\"white-space:pre;overflow-x:auto;line-height:normal;font-family:Menlo,'DejaVu Sans Mono',consolas,'Courier New',monospace\"><span style=\"color: #000000; text-decoration-color: #000000; background-color: #ffff00\">Mits</span> <span style=\"color: #000000; text-decoration-color: #000000; background-color: #ffff00\">het</span> <span style=\"color: #000000; text-decoration-color: #000000; background-color: #ffff00\">regelmatig</span> <span style=\"color: #000000; text-decoration-color: #000000; background-color: #ffff00\">bijsturen</span> van de SOP, <span style=\"color: #000000; text-decoration-color: #000000; background-color: #ffff00\">werkt</span> <span style=\"color: #000000; text-decoration-color: #000000; background-color: #ffff00\">dit</span> <span style=\"color: #000000; text-decoration-color: #000000; background-color: #ffff00\">nu</span> goed. <span style=\"color: #000000; text-decoration-color: #000000; background-color: #ffff00\">Tevreden</span> van!\n",
       "</pre>\n"
      ],
      "text/plain": [
       "\u001b[30;48;2;255;255;0mMits\u001b[0m \u001b[30;48;2;255;255;0mhet\u001b[0m \u001b[30;48;2;255;255;0mregelmatig\u001b[0m \u001b[30;48;2;255;255;0mbijsturen\u001b[0m van de SOP, \u001b[30;48;2;255;255;0mwerkt\u001b[0m \u001b[30;48;2;255;255;0mdit\u001b[0m \u001b[30;48;2;255;255;0mnu\u001b[0m goed. \u001b[30;48;2;255;255;0mTevreden\u001b[0m van!\n"
      ]
     },
     "metadata": {},
     "output_type": "display_data"
    },
    {
     "name": "stdout",
     "output_type": "stream",
     "text": [
      "[('werkt', 0.614), ('regelmatig', 0.5301), ('sop', 0.5062), ('goed', 0.5028), ('nu', 0.4933), ('tevreden', 0.4148), ('het', 0.3951), ('mits', 0.3647), ('dit', 0.3483), ('bijsturen', 0.3465)]\n"
     ]
    },
    {
     "data": {
      "text/html": [
       "<pre style=\"white-space:pre;overflow-x:auto;line-height:normal;font-family:Menlo,'DejaVu Sans Mono',consolas,'Courier New',monospace\">Vaak goede ondersteuning, al <span style=\"color: #000000; text-decoration-color: #000000; background-color: #ffff00\">werkt</span> het in complexe issues het best wanneer we een <span style=\"color: #000000; text-decoration-color: #000000; background-color: #ffff00\">call</span> \n",
       "opzetten <span style=\"color: #000000; text-decoration-color: #000000; background-color: #ffff00\">ipv</span> enkel <span style=\"color: #000000; text-decoration-color: #000000; background-color: #ffff00\">via</span> het <span style=\"color: #000000; text-decoration-color: #000000; background-color: #ffff00\">ticketing</span> systeem te communiceren. Wat mij <span style=\"color: #000000; text-decoration-color: #000000; background-color: #ffff00\">betreft</span> mag die vraag \n",
       "ook van Deloitte uit komen <span style=\"color: #000000; text-decoration-color: #000000; background-color: #ffff00\">ipv</span> enkel van de klant. We kunnen weigeren als we het niet <span style=\"color: #000000; text-decoration-color: #000000; background-color: #ffff00\">nuttig</span> \n",
       "zouden vinden.\n",
       "</pre>\n"
      ],
      "text/plain": [
       "Vaak goede ondersteuning, al \u001b[30;48;2;255;255;0mwerkt\u001b[0m het in complexe issues het best wanneer we een \u001b[30;48;2;255;255;0mcall\u001b[0m \n",
       "opzetten \u001b[30;48;2;255;255;0mipv\u001b[0m enkel \u001b[30;48;2;255;255;0mvia\u001b[0m het \u001b[30;48;2;255;255;0mticketing\u001b[0m systeem te communiceren. Wat mij \u001b[30;48;2;255;255;0mbetreft\u001b[0m mag die vraag \n",
       "ook van Deloitte uit komen \u001b[30;48;2;255;255;0mipv\u001b[0m enkel van de klant. We kunnen weigeren als we het niet \u001b[30;48;2;255;255;0mnuttig\u001b[0m \n",
       "zouden vinden.\n"
      ]
     },
     "metadata": {},
     "output_type": "display_data"
    },
    {
     "name": "stdout",
     "output_type": "stream",
     "text": [
      "[('call', 0.3833), ('communiceren', 0.3676), ('ipv', 0.3534), ('ticketing', 0.3355), ('klant', 0.3132), ('ondersteuning', 0.2979), ('nuttig', 0.2857), ('betreft', 0.2717), ('via', 0.2588), ('werkt', 0.2565)]\n"
     ]
    },
    {
     "data": {
      "text/html": [
       "<pre style=\"white-space:pre;overflow-x:auto;line-height:normal;font-family:Menlo,'DejaVu Sans Mono',consolas,'Courier New',monospace\"><span style=\"color: #000000; text-decoration-color: #000000; background-color: #ffff00\">Er</span> <span style=\"color: #000000; text-decoration-color: #000000; background-color: #ffff00\">is</span> <span style=\"color: #000000; text-decoration-color: #000000; background-color: #ffff00\">weinig</span> sector-specifiek <span style=\"color: #000000; text-decoration-color: #000000; background-color: #ffff00\">in</span> <span style=\"color: #000000; text-decoration-color: #000000; background-color: #ffff00\">deze</span> <span style=\"color: #000000; text-decoration-color: #000000; background-color: #ffff00\">context</span>\n",
       "</pre>\n"
      ],
      "text/plain": [
       "\u001b[30;48;2;255;255;0mEr\u001b[0m \u001b[30;48;2;255;255;0mis\u001b[0m \u001b[30;48;2;255;255;0mweinig\u001b[0m sector-specifiek \u001b[30;48;2;255;255;0min\u001b[0m \u001b[30;48;2;255;255;0mdeze\u001b[0m \u001b[30;48;2;255;255;0mcontext\u001b[0m\n"
      ]
     },
     "metadata": {},
     "output_type": "display_data"
    },
    {
     "name": "stdout",
     "output_type": "stream",
     "text": [
      "[('sector', 0.6314), ('weinig', 0.4215), ('context', 0.2369), ('specifiek', 0.1737), ('is', 0.1437), ('in', 0.1157), ('er', 0.075), ('deze', 0.0677)]\n"
     ]
    },
    {
     "data": {
      "text/html": [
       "<pre style=\"white-space:pre;overflow-x:auto;line-height:normal;font-family:Menlo,'DejaVu Sans Mono',consolas,'Courier New',monospace\">Sommige <span style=\"color: #000000; text-decoration-color: #000000; background-color: #ffff00\">tickets</span> <span style=\"color: #000000; text-decoration-color: #000000; background-color: #ffff00\">blijven</span> erg <span style=\"color: #000000; text-decoration-color: #000000; background-color: #ffff00\">lang</span> liggen, <span style=\"color: #000000; text-decoration-color: #000000; background-color: #ffff00\">maar</span> dat komt <span style=\"color: #000000; text-decoration-color: #000000; background-color: #ffff00\">vooral</span> door <span style=\"color: #000000; text-decoration-color: #000000; background-color: #ffff00\">3rd</span> <span style=\"color: #000000; text-decoration-color: #000000; background-color: #ffff00\">party</span> (denk ik, <span style=\"color: #000000; text-decoration-color: #000000; background-color: #ffff00\">hoewel</span>\n",
       "niet <span style=\"color: #000000; text-decoration-color: #000000; background-color: #ffff00\">altijd</span> zo aangegeven met de status van het ticket)\n",
       "</pre>\n"
      ],
      "text/plain": [
       "Sommige \u001b[30;48;2;255;255;0mtickets\u001b[0m \u001b[30;48;2;255;255;0mblijven\u001b[0m erg \u001b[30;48;2;255;255;0mlang\u001b[0m liggen, \u001b[30;48;2;255;255;0mmaar\u001b[0m dat komt \u001b[30;48;2;255;255;0mvooral\u001b[0m door \u001b[30;48;2;255;255;0m3rd\u001b[0m \u001b[30;48;2;255;255;0mparty\u001b[0m (denk ik, \u001b[30;48;2;255;255;0mhoewel\u001b[0m\n",
       "niet \u001b[30;48;2;255;255;0maltijd\u001b[0m zo aangegeven met de status van het ticket)\n"
      ]
     },
     "metadata": {},
     "output_type": "display_data"
    },
    {
     "name": "stdout",
     "output_type": "stream",
     "text": [
      "[('tickets', 0.6643), ('ticket', 0.611), ('party', 0.353), ('3rd', 0.3166), ('blijven', 0.28), ('hoewel', 0.2501), ('lang', 0.2258), ('vooral', 0.2079), ('maar', 0.2031), ('altijd', 0.2027)]\n"
     ]
    },
    {
     "data": {
      "text/html": [
       "<pre style=\"white-space:pre;overflow-x:auto;line-height:normal;font-family:Menlo,'DejaVu Sans Mono',consolas,'Courier New',monospace\"><span style=\"color: #000000; text-decoration-color: #000000; background-color: #ffff00\">Dit</span> <span style=\"color: #000000; text-decoration-color: #000000; background-color: #ffff00\">vind</span> <span style=\"color: #000000; text-decoration-color: #000000; background-color: #ffff00\">ik</span> <span style=\"color: #000000; text-decoration-color: #000000; background-color: #ffff00\">niet</span> <span style=\"color: #000000; text-decoration-color: #000000; background-color: #ffff00\">van</span> <span style=\"color: #000000; text-decoration-color: #000000; background-color: #ffff00\">toepassing</span> <span style=\"color: #000000; text-decoration-color: #000000; background-color: #ffff00\">in</span> <span style=\"color: #000000; text-decoration-color: #000000; background-color: #ffff00\">deze</span> <span style=\"color: #000000; text-decoration-color: #000000; background-color: #ffff00\">context</span>\n",
       "</pre>\n"
      ],
      "text/plain": [
       "\u001b[30;48;2;255;255;0mDit\u001b[0m \u001b[30;48;2;255;255;0mvind\u001b[0m \u001b[30;48;2;255;255;0mik\u001b[0m \u001b[30;48;2;255;255;0mniet\u001b[0m \u001b[30;48;2;255;255;0mvan\u001b[0m \u001b[30;48;2;255;255;0mtoepassing\u001b[0m \u001b[30;48;2;255;255;0min\u001b[0m \u001b[30;48;2;255;255;0mdeze\u001b[0m \u001b[30;48;2;255;255;0mcontext\u001b[0m\n"
      ]
     },
     "metadata": {},
     "output_type": "display_data"
    },
    {
     "name": "stdout",
     "output_type": "stream",
     "text": [
      "[('niet', 0.5286), ('context', 0.4086), ('dit', 0.3366), ('deze', 0.309), ('ik', 0.2943), ('in', 0.2611), ('vind', 0.199), ('toepassing', 0.1891), ('van', 0.1839)]\n"
     ]
    },
    {
     "data": {
      "text/html": [
       "<pre style=\"white-space:pre;overflow-x:auto;line-height:normal;font-family:Menlo,'DejaVu Sans Mono',consolas,'Courier New',monospace\">Er <span style=\"color: #000000; text-decoration-color: #000000; background-color: #ffff00\">wordt</span> <span style=\"color: #000000; text-decoration-color: #000000; background-color: #ffff00\">zeker</span> rekening <span style=\"color: #000000; text-decoration-color: #000000; background-color: #ffff00\">gehouden</span> <span style=\"color: #000000; text-decoration-color: #000000; background-color: #ffff00\">met</span> <span style=\"color: #000000; text-decoration-color: #000000; background-color: #ffff00\">feedback</span> op <span style=\"color: #000000; text-decoration-color: #000000; background-color: #ffff00\">service</span> meetings, heel <span style=\"color: #000000; text-decoration-color: #000000; background-color: #ffff00\">tevreden</span> van. Zie \n",
       "volgende vraag <span style=\"color: #000000; text-decoration-color: #000000; background-color: #ffff00\">waarom</span> geen 10/10.\n",
       "</pre>\n"
      ],
      "text/plain": [
       "Er \u001b[30;48;2;255;255;0mwordt\u001b[0m \u001b[30;48;2;255;255;0mzeker\u001b[0m rekening \u001b[30;48;2;255;255;0mgehouden\u001b[0m \u001b[30;48;2;255;255;0mmet\u001b[0m \u001b[30;48;2;255;255;0mfeedback\u001b[0m op \u001b[30;48;2;255;255;0mservice\u001b[0m meetings, heel \u001b[30;48;2;255;255;0mtevreden\u001b[0m van. Zie \n",
       "volgende vraag \u001b[30;48;2;255;255;0mwaarom\u001b[0m geen 10/10.\n"
      ]
     },
     "metadata": {},
     "output_type": "display_data"
    },
    {
     "name": "stdout",
     "output_type": "stream",
     "text": [
      "[('feedback', 0.6025), ('service', 0.422), ('meetings', 0.4162), ('tevreden', 0.3814), ('10', 0.263), ('gehouden', 0.2542), ('met', 0.2363), ('zeker', 0.2348), ('wordt', 0.2213), ('waarom', 0.2189)]\n"
     ]
    },
    {
     "data": {
      "text/html": [
       "<pre style=\"white-space:pre;overflow-x:auto;line-height:normal;font-family:Menlo,'DejaVu Sans Mono',consolas,'Courier New',monospace\"><span style=\"color: #000000; text-decoration-color: #000000; background-color: #ffff00\">Geen</span> <span style=\"color: #000000; text-decoration-color: #000000; background-color: #ffff00\">klachten</span> over!\n",
       "</pre>\n"
      ],
      "text/plain": [
       "\u001b[30;48;2;255;255;0mGeen\u001b[0m \u001b[30;48;2;255;255;0mklachten\u001b[0m over!\n"
      ]
     },
     "metadata": {},
     "output_type": "display_data"
    },
    {
     "name": "stdout",
     "output_type": "stream",
     "text": [
      "[('geen', 0.5816), ('klachten', 0.4293), ('over', 0.4072)]\n"
     ]
    },
    {
     "data": {
      "text/html": [
       "<pre style=\"white-space:pre;overflow-x:auto;line-height:normal;font-family:Menlo,'DejaVu Sans Mono',consolas,'Courier New',monospace\">In deze <span style=\"color: #000000; text-decoration-color: #000000; background-color: #ffff00\">context</span> <span style=\"color: #000000; text-decoration-color: #000000; background-color: #ffff00\">had</span> dat <span style=\"color: #000000; text-decoration-color: #000000; background-color: #ffff00\">geen</span> invloed op de werking eigenlijk. Zeer goed dus dat <span style=\"color: #000000; text-decoration-color: #000000; background-color: #ffff00\">we</span> reeds \n",
       "<span style=\"color: #000000; text-decoration-color: #000000; background-color: #ffff00\">vroeger</span> <span style=\"color: #000000; text-decoration-color: #000000; background-color: #ffff00\">via</span> <span style=\"color: #000000; text-decoration-color: #000000; background-color: #ffff00\">digitale</span> <span style=\"color: #000000; text-decoration-color: #000000; background-color: #ffff00\">kanalen</span> samenwerkten.\n",
       "</pre>\n"
      ],
      "text/plain": [
       "In deze \u001b[30;48;2;255;255;0mcontext\u001b[0m \u001b[30;48;2;255;255;0mhad\u001b[0m dat \u001b[30;48;2;255;255;0mgeen\u001b[0m invloed op de werking eigenlijk. Zeer goed dus dat \u001b[30;48;2;255;255;0mwe\u001b[0m reeds \n",
       "\u001b[30;48;2;255;255;0mvroeger\u001b[0m \u001b[30;48;2;255;255;0mvia\u001b[0m \u001b[30;48;2;255;255;0mdigitale\u001b[0m \u001b[30;48;2;255;255;0mkanalen\u001b[0m samenwerkten.\n"
      ]
     },
     "metadata": {},
     "output_type": "display_data"
    },
    {
     "name": "stdout",
     "output_type": "stream",
     "text": [
      "[('digitale', 0.4219), ('vroeger', 0.2307), ('we', 0.2), ('kanalen', 0.1889), ('had', 0.1695), ('samenwerkten', 0.1659), ('eigenlijk', 0.1589), ('geen', 0.1529), ('via', 0.1289), ('context', 0.1271)]\n"
     ]
    },
    {
     "data": {
      "text/html": [
       "<pre style=\"white-space:pre;overflow-x:auto;line-height:normal;font-family:Menlo,'DejaVu Sans Mono',consolas,'Courier New',monospace\"><span style=\"color: #000000; text-decoration-color: #000000; background-color: #ffff00\">Misschien</span> <span style=\"color: #000000; text-decoration-color: #000000; background-color: #ffff00\">nog</span> een <span style=\"color: #000000; text-decoration-color: #000000; background-color: #ffff00\">laatste</span> finetuning aan het <span style=\"color: #000000; text-decoration-color: #000000; background-color: #ffff00\">ticketing</span> systeem doen? We <span style=\"color: #000000; text-decoration-color: #000000; background-color: #ffff00\">krijgen</span> bvb toch <span style=\"color: #000000; text-decoration-color: #000000; background-color: #ffff00\">nog</span> \n",
       "dubbele <span style=\"color: #000000; text-decoration-color: #000000; background-color: #ffff00\">mails</span> en weten niet helemaal hoe het <span style=\"color: #000000; text-decoration-color: #000000; background-color: #ffff00\">portaal</span> van onze kant <span style=\"color: #000000; text-decoration-color: #000000; background-color: #ffff00\">werkt</span> (wat doet de \n",
       "'Escalate' knop en wanneer mag die <span style=\"color: #000000; text-decoration-color: #000000; background-color: #ffff00\">gebruikt</span> worden?).\n",
       "</pre>\n"
      ],
      "text/plain": [
       "\u001b[30;48;2;255;255;0mMisschien\u001b[0m \u001b[30;48;2;255;255;0mnog\u001b[0m een \u001b[30;48;2;255;255;0mlaatste\u001b[0m finetuning aan het \u001b[30;48;2;255;255;0mticketing\u001b[0m systeem doen? We \u001b[30;48;2;255;255;0mkrijgen\u001b[0m bvb toch \u001b[30;48;2;255;255;0mnog\u001b[0m \n",
       "dubbele \u001b[30;48;2;255;255;0mmails\u001b[0m en weten niet helemaal hoe het \u001b[30;48;2;255;255;0mportaal\u001b[0m van onze kant \u001b[30;48;2;255;255;0mwerkt\u001b[0m (wat doet de \n",
       "'Escalate' knop en wanneer mag die \u001b[30;48;2;255;255;0mgebruikt\u001b[0m worden?).\n"
      ]
     },
     "metadata": {},
     "output_type": "display_data"
    },
    {
     "name": "stdout",
     "output_type": "stream",
     "text": [
      "[('ticketing', 0.5626), ('mails', 0.4013), ('portaal', 0.3524), ('laatste', 0.2983), ('werkt', 0.2459), ('nog', 0.2305), ('gebruikt', 0.2295), ('misschien', 0.22), ('krijgen', 0.2165), ('escalate', 0.2153)]\n"
     ]
    },
    {
     "data": {
      "text/html": [
       "<pre style=\"white-space:pre;overflow-x:auto;line-height:normal;font-family:Menlo,'DejaVu Sans Mono',consolas,'Courier New',monospace\">Very <span style=\"color: #000000; text-decoration-color: #000000; background-color: #ffff00\">good</span> <span style=\"color: #000000; text-decoration-color: #000000; background-color: #ffff00\">communication</span> <span style=\"color: #000000; text-decoration-color: #000000; background-color: #ffff00\">lines</span> <span style=\"color: #000000; text-decoration-color: #000000; background-color: #ffff00\">both</span> <span style=\"color: #000000; text-decoration-color: #000000; background-color: #ffff00\">with</span> <span style=\"color: #000000; text-decoration-color: #000000; background-color: #ffff00\">direct</span> <span style=\"color: #000000; text-decoration-color: #000000; background-color: #ffff00\">collaborators</span> as management. Clear <span style=\"color: #000000; text-decoration-color: #000000; background-color: #ffff00\">on</span> \n",
       "<span style=\"color: #000000; text-decoration-color: #000000; background-color: #ffff00\">engagements</span>\n",
       "</pre>\n"
      ],
      "text/plain": [
       "Very \u001b[30;48;2;255;255;0mgood\u001b[0m \u001b[30;48;2;255;255;0mcommunication\u001b[0m \u001b[30;48;2;255;255;0mlines\u001b[0m \u001b[30;48;2;255;255;0mboth\u001b[0m \u001b[30;48;2;255;255;0mwith\u001b[0m \u001b[30;48;2;255;255;0mdirect\u001b[0m \u001b[30;48;2;255;255;0mcollaborators\u001b[0m as management. Clear \u001b[30;48;2;255;255;0mon\u001b[0m \n",
       "\u001b[30;48;2;255;255;0mengagements\u001b[0m\n"
      ]
     },
     "metadata": {},
     "output_type": "display_data"
    },
    {
     "name": "stdout",
     "output_type": "stream",
     "text": [
      "[('communication', 0.538), ('collaborators', 0.5039), ('management', 0.4581), ('engagements', 0.4201), ('direct', 0.3873), ('with', 0.3152), ('lines', 0.295), ('both', 0.234), ('good', 0.2338), ('on', 0.2114)]\n"
     ]
    },
    {
     "data": {
      "text/html": [
       "<pre style=\"white-space:pre;overflow-x:auto;line-height:normal;font-family:Menlo,'DejaVu Sans Mono',consolas,'Courier New',monospace\"><span style=\"color: #000000; text-decoration-color: #000000; background-color: #ffff00\">Very</span> <span style=\"color: #000000; text-decoration-color: #000000; background-color: #ffff00\">much</span> <span style=\"color: #000000; text-decoration-color: #000000; background-color: #ffff00\">enjoyed</span> <span style=\"color: #000000; text-decoration-color: #000000; background-color: #ffff00\">working</span> <span style=\"color: #000000; text-decoration-color: #000000; background-color: #ffff00\">with</span> Laurent, Guillaume, Eline, Sarah, ...\n",
       "</pre>\n"
      ],
      "text/plain": [
       "\u001b[30;48;2;255;255;0mVery\u001b[0m \u001b[30;48;2;255;255;0mmuch\u001b[0m \u001b[30;48;2;255;255;0menjoyed\u001b[0m \u001b[30;48;2;255;255;0mworking\u001b[0m \u001b[30;48;2;255;255;0mwith\u001b[0m Laurent, Guillaume, Eline, Sarah, ...\n"
      ]
     },
     "metadata": {},
     "output_type": "display_data"
    },
    {
     "name": "stdout",
     "output_type": "stream",
     "text": [
      "[('laurent', 0.3983), ('enjoyed', 0.3385), ('eline', 0.325), ('sarah', 0.2672), ('guillaume', 0.2491), ('with', 0.2394), ('very', 0.2196), ('working', 0.2155), ('much', 0.1381)]\n"
     ]
    },
    {
     "data": {
      "text/html": [
       "<pre style=\"white-space:pre;overflow-x:auto;line-height:normal;font-family:Menlo,'DejaVu Sans Mono',consolas,'Courier New',monospace\">Very good <span style=\"color: #000000; text-decoration-color: #000000; background-color: #ffff00\">collaboration</span> on <span style=\"color: #000000; text-decoration-color: #000000; background-color: #ffff00\">implementation</span> of new <span style=\"color: #000000; text-decoration-color: #000000; background-color: #ffff00\">FCRM</span> project. Very good <span style=\"color: #000000; text-decoration-color: #000000; background-color: #ffff00\">insights</span> from <span style=\"color: #000000; text-decoration-color: #000000; background-color: #ffff00\">data</span> \n",
       "and <span style=\"color: #000000; text-decoration-color: #000000; background-color: #ffff00\">technical</span> <span style=\"color: #000000; text-decoration-color: #000000; background-color: #ffff00\">perspective</span> with attention <span style=\"color: #000000; text-decoration-color: #000000; background-color: #ffff00\">for</span> <span style=\"color: #000000; text-decoration-color: #000000; background-color: #ffff00\">risk</span>\n",
       "</pre>\n"
      ],
      "text/plain": [
       "Very good \u001b[30;48;2;255;255;0mcollaboration\u001b[0m on \u001b[30;48;2;255;255;0mimplementation\u001b[0m of new \u001b[30;48;2;255;255;0mFCRM\u001b[0m project. Very good \u001b[30;48;2;255;255;0minsights\u001b[0m from \u001b[30;48;2;255;255;0mdata\u001b[0m \n",
       "and \u001b[30;48;2;255;255;0mtechnical\u001b[0m \u001b[30;48;2;255;255;0mperspective\u001b[0m with attention \u001b[30;48;2;255;255;0mfor\u001b[0m \u001b[30;48;2;255;255;0mrisk\u001b[0m\n"
      ]
     },
     "metadata": {},
     "output_type": "display_data"
    },
    {
     "name": "stdout",
     "output_type": "stream",
     "text": [
      "[('risk', 0.4747), ('project', 0.43), ('fcrm', 0.4176), ('data', 0.3606), ('implementation', 0.3355), ('technical', 0.3286), ('insights', 0.3188), ('collaboration', 0.2712), ('for', 0.2638), ('perspective', 0.2384)]\n"
     ]
    },
    {
     "data": {
      "text/html": [
       "<pre style=\"white-space:pre;overflow-x:auto;line-height:normal;font-family:Menlo,'DejaVu Sans Mono',consolas,'Courier New',monospace\"><span style=\"color: #000000; text-decoration-color: #000000; background-color: #ffff00\">No</span> <span style=\"color: #000000; text-decoration-color: #000000; background-color: #ffff00\">issue</span>\n",
       "</pre>\n"
      ],
      "text/plain": [
       "\u001b[30;48;2;255;255;0mNo\u001b[0m \u001b[30;48;2;255;255;0missue\u001b[0m\n"
      ]
     },
     "metadata": {},
     "output_type": "display_data"
    },
    {
     "name": "stdout",
     "output_type": "stream",
     "text": [
      "[('no', 0.6058), ('issue', 0.5406)]\n"
     ]
    },
    {
     "data": {
      "text/html": [
       "<pre style=\"white-space:pre;overflow-x:auto;line-height:normal;font-family:Menlo,'DejaVu Sans Mono',consolas,'Courier New',monospace\"><span style=\"color: #000000; text-decoration-color: #000000; background-color: #ffff00\">Always</span> <span style=\"color: #000000; text-decoration-color: #000000; background-color: #ffff00\">constructive</span> <span style=\"color: #000000; text-decoration-color: #000000; background-color: #ffff00\">criticism</span> <span style=\"color: #000000; text-decoration-color: #000000; background-color: #ffff00\">and</span> <span style=\"color: #000000; text-decoration-color: #000000; background-color: #ffff00\">able</span> <span style=\"color: #000000; text-decoration-color: #000000; background-color: #ffff00\">to</span> <span style=\"color: #000000; text-decoration-color: #000000; background-color: #ffff00\">put</span> <span style=\"color: #000000; text-decoration-color: #000000; background-color: #ffff00\">things</span> <span style=\"color: #000000; text-decoration-color: #000000; background-color: #ffff00\">in</span> <span style=\"color: #000000; text-decoration-color: #000000; background-color: #ffff00\">perspective</span>\n",
       "</pre>\n"
      ],
      "text/plain": [
       "\u001b[30;48;2;255;255;0mAlways\u001b[0m \u001b[30;48;2;255;255;0mconstructive\u001b[0m \u001b[30;48;2;255;255;0mcriticism\u001b[0m \u001b[30;48;2;255;255;0mand\u001b[0m \u001b[30;48;2;255;255;0mable\u001b[0m \u001b[30;48;2;255;255;0mto\u001b[0m \u001b[30;48;2;255;255;0mput\u001b[0m \u001b[30;48;2;255;255;0mthings\u001b[0m \u001b[30;48;2;255;255;0min\u001b[0m \u001b[30;48;2;255;255;0mperspective\u001b[0m\n"
      ]
     },
     "metadata": {},
     "output_type": "display_data"
    },
    {
     "name": "stdout",
     "output_type": "stream",
     "text": [
      "[('criticism', 0.7012), ('constructive', 0.54), ('perspective', 0.5123), ('always', 0.3288), ('to', 0.296), ('put', 0.2816), ('and', 0.2767), ('in', 0.2666), ('things', 0.2466), ('able', 0.1329)]\n"
     ]
    },
    {
     "data": {
      "text/html": [
       "<pre style=\"white-space:pre;overflow-x:auto;line-height:normal;font-family:Menlo,'DejaVu Sans Mono',consolas,'Courier New',monospace\">Very <span style=\"color: #000000; text-decoration-color: #000000; background-color: #ffff00\">good</span> <span style=\"color: #000000; text-decoration-color: #000000; background-color: #ffff00\">insights</span> <span style=\"color: #000000; text-decoration-color: #000000; background-color: #ffff00\">from</span> <span style=\"color: #000000; text-decoration-color: #000000; background-color: #ffff00\">data</span> <span style=\"color: #000000; text-decoration-color: #000000; background-color: #ffff00\">and</span> <span style=\"color: #000000; text-decoration-color: #000000; background-color: #ffff00\">technical</span> <span style=\"color: #000000; text-decoration-color: #000000; background-color: #ffff00\">perspective</span> with <span style=\"color: #000000; text-decoration-color: #000000; background-color: #ffff00\">attention</span> <span style=\"color: #000000; text-decoration-color: #000000; background-color: #ffff00\">for</span> <span style=\"color: #000000; text-decoration-color: #000000; background-color: #ffff00\">risk</span>\n",
       "</pre>\n"
      ],
      "text/plain": [
       "Very \u001b[30;48;2;255;255;0mgood\u001b[0m \u001b[30;48;2;255;255;0minsights\u001b[0m \u001b[30;48;2;255;255;0mfrom\u001b[0m \u001b[30;48;2;255;255;0mdata\u001b[0m \u001b[30;48;2;255;255;0mand\u001b[0m \u001b[30;48;2;255;255;0mtechnical\u001b[0m \u001b[30;48;2;255;255;0mperspective\u001b[0m with \u001b[30;48;2;255;255;0mattention\u001b[0m \u001b[30;48;2;255;255;0mfor\u001b[0m \u001b[30;48;2;255;255;0mrisk\u001b[0m\n"
      ]
     },
     "metadata": {},
     "output_type": "display_data"
    },
    {
     "name": "stdout",
     "output_type": "stream",
     "text": [
      "[('risk', 0.6213), ('data', 0.4485), ('insights', 0.4317), ('perspective', 0.3367), ('technical', 0.3017), ('good', 0.2453), ('attention', 0.2376), ('for', 0.2309), ('from', 0.1703), ('and', 0.1287)]\n"
     ]
    },
    {
     "data": {
      "text/html": [
       "<pre style=\"white-space:pre;overflow-x:auto;line-height:normal;font-family:Menlo,'DejaVu Sans Mono',consolas,'Courier New',monospace\"><span style=\"color: #000000; text-decoration-color: #000000; background-color: #ffff00\">Implemented</span> <span style=\"color: #000000; text-decoration-color: #000000; background-color: #ffff00\">onset</span> <span style=\"color: #000000; text-decoration-color: #000000; background-color: #ffff00\">of</span> automation, <span style=\"color: #000000; text-decoration-color: #000000; background-color: #ffff00\">macro</span> tools, <span style=\"color: #000000; text-decoration-color: #000000; background-color: #ffff00\">etc</span>\n",
       "</pre>\n"
      ],
      "text/plain": [
       "\u001b[30;48;2;255;255;0mImplemented\u001b[0m \u001b[30;48;2;255;255;0monset\u001b[0m \u001b[30;48;2;255;255;0mof\u001b[0m automation, \u001b[30;48;2;255;255;0mmacro\u001b[0m tools, \u001b[30;48;2;255;255;0metc\u001b[0m\n"
      ]
     },
     "metadata": {},
     "output_type": "display_data"
    },
    {
     "name": "stdout",
     "output_type": "stream",
     "text": [
      "[('automation', 0.7288), ('implemented', 0.5048), ('tools', 0.4976), ('macro', 0.4173), ('onset', 0.3911), ('etc', 0.2206), ('of', 0.1322)]\n"
     ]
    },
    {
     "data": {
      "text/html": [
       "<pre style=\"white-space:pre;overflow-x:auto;line-height:normal;font-family:Menlo,'DejaVu Sans Mono',consolas,'Courier New',monospace\"><span style=\"color: #000000; text-decoration-color: #000000; background-color: #ffff00\">Score</span> goes to <span style=\"color: #000000; text-decoration-color: #000000; background-color: #ffff00\">Laurent</span> <span style=\"color: #000000; text-decoration-color: #000000; background-color: #ffff00\">Culot</span> and Guillaume Goubau. <span style=\"color: #000000; text-decoration-color: #000000; background-color: #ffff00\">Perfect</span> collaboration, <span style=\"color: #000000; text-decoration-color: #000000; background-color: #ffff00\">total</span> trust in \n",
       "<span style=\"color: #000000; text-decoration-color: #000000; background-color: #ffff00\">provided</span> result, timely, <span style=\"color: #000000; text-decoration-color: #000000; background-color: #ffff00\">perfect</span> understanding of requests, ...\n",
       "</pre>\n"
      ],
      "text/plain": [
       "\u001b[30;48;2;255;255;0mScore\u001b[0m goes to \u001b[30;48;2;255;255;0mLaurent\u001b[0m \u001b[30;48;2;255;255;0mCulot\u001b[0m and Guillaume Goubau. \u001b[30;48;2;255;255;0mPerfect\u001b[0m collaboration, \u001b[30;48;2;255;255;0mtotal\u001b[0m trust in \n",
       "\u001b[30;48;2;255;255;0mprovided\u001b[0m result, timely, \u001b[30;48;2;255;255;0mperfect\u001b[0m understanding of requests, ...\n"
      ]
     },
     "metadata": {},
     "output_type": "display_data"
    },
    {
     "name": "stdout",
     "output_type": "stream",
     "text": [
      "[('score', 0.4937), ('result', 0.4506), ('perfect', 0.4122), ('total', 0.3873), ('culot', 0.3789), ('goubau', 0.362), ('collaboration', 0.356), ('timely', 0.349), ('laurent', 0.3331), ('provided', 0.3172)]\n"
     ]
    },
    {
     "data": {
      "text/html": [
       "<pre style=\"white-space:pre;overflow-x:auto;line-height:normal;font-family:Menlo,'DejaVu Sans Mono',consolas,'Courier New',monospace\"><span style=\"color: #000000; text-decoration-color: #000000; background-color: #ffff00\">Started</span> <span style=\"color: #000000; text-decoration-color: #000000; background-color: #ffff00\">at</span> <span style=\"color: #000000; text-decoration-color: #000000; background-color: #ffff00\">ING</span> <span style=\"color: #000000; text-decoration-color: #000000; background-color: #ffff00\">almost</span> <span style=\"color: #000000; text-decoration-color: #000000; background-color: #ffff00\">at</span> the <span style=\"color: #000000; text-decoration-color: #000000; background-color: #ffff00\">same</span> time <span style=\"color: #000000; text-decoration-color: #000000; background-color: #ffff00\">and</span> <span style=\"color: #000000; text-decoration-color: #000000; background-color: #ffff00\">worked</span> on the <span style=\"color: #000000; text-decoration-color: #000000; background-color: #ffff00\">same</span> <span style=\"color: #000000; text-decoration-color: #000000; background-color: #ffff00\">projects</span> so felt <span style=\"color: #000000; text-decoration-color: #000000; background-color: #ffff00\">like</span> regular \n",
       "<span style=\"color: #000000; text-decoration-color: #000000; background-color: #ffff00\">colleagues</span>\n",
       "</pre>\n"
      ],
      "text/plain": [
       "\u001b[30;48;2;255;255;0mStarted\u001b[0m \u001b[30;48;2;255;255;0mat\u001b[0m \u001b[30;48;2;255;255;0mING\u001b[0m \u001b[30;48;2;255;255;0malmost\u001b[0m \u001b[30;48;2;255;255;0mat\u001b[0m the \u001b[30;48;2;255;255;0msame\u001b[0m time \u001b[30;48;2;255;255;0mand\u001b[0m \u001b[30;48;2;255;255;0mworked\u001b[0m on the \u001b[30;48;2;255;255;0msame\u001b[0m \u001b[30;48;2;255;255;0mprojects\u001b[0m so felt \u001b[30;48;2;255;255;0mlike\u001b[0m regular \n",
       "\u001b[30;48;2;255;255;0mcolleagues\u001b[0m\n"
      ]
     },
     "metadata": {},
     "output_type": "display_data"
    },
    {
     "name": "stdout",
     "output_type": "stream",
     "text": [
      "[('colleagues', 0.4432), ('worked', 0.3843), ('projects', 0.2945), ('started', 0.2812), ('at', 0.2634), ('same', 0.2545), ('ing', 0.2163), ('like', 0.2036), ('and', 0.1602), ('almost', 0.1595)]\n"
     ]
    },
    {
     "data": {
      "text/html": [
       "<pre style=\"white-space:pre;overflow-x:auto;line-height:normal;font-family:Menlo,'DejaVu Sans Mono',consolas,'Courier New',monospace\"><span style=\"color: #000000; text-decoration-color: #000000; background-color: #ffff00\">Above</span> <span style=\"color: #000000; text-decoration-color: #000000; background-color: #ffff00\">my</span> <span style=\"color: #000000; text-decoration-color: #000000; background-color: #ffff00\">pay</span> <span style=\"color: #000000; text-decoration-color: #000000; background-color: #ffff00\">grade</span> :)\n",
       "</pre>\n"
      ],
      "text/plain": [
       "\u001b[30;48;2;255;255;0mAbove\u001b[0m \u001b[30;48;2;255;255;0mmy\u001b[0m \u001b[30;48;2;255;255;0mpay\u001b[0m \u001b[30;48;2;255;255;0mgrade\u001b[0m :)\n"
      ]
     },
     "metadata": {},
     "output_type": "display_data"
    },
    {
     "name": "stdout",
     "output_type": "stream",
     "text": [
      "[('grade', 0.5864), ('pay', 0.5861), ('above', 0.4071), ('my', 0.2836)]\n"
     ]
    },
    {
     "data": {
      "text/html": [
       "<pre style=\"white-space:pre;overflow-x:auto;line-height:normal;font-family:Menlo,'DejaVu Sans Mono',consolas,'Courier New',monospace\">Again very collaboration, always <span style=\"color: #000000; text-decoration-color: #000000; background-color: #ffff00\">delivered</span> <span style=\"color: #000000; text-decoration-color: #000000; background-color: #ffff00\">on</span> <span style=\"color: #000000; text-decoration-color: #000000; background-color: #ffff00\">time</span> <span style=\"color: #000000; text-decoration-color: #000000; background-color: #ffff00\">with</span> <span style=\"color: #000000; text-decoration-color: #000000; background-color: #ffff00\">attention</span> <span style=\"color: #000000; text-decoration-color: #000000; background-color: #ffff00\">for</span> details and as \n",
       "expected. <span style=\"color: #000000; text-decoration-color: #000000; background-color: #ffff00\">Trust</span> <span style=\"color: #000000; text-decoration-color: #000000; background-color: #ffff00\">in</span> <span style=\"color: #000000; text-decoration-color: #000000; background-color: #ffff00\">quality</span>\n",
       "</pre>\n"
      ],
      "text/plain": [
       "Again very collaboration, always \u001b[30;48;2;255;255;0mdelivered\u001b[0m \u001b[30;48;2;255;255;0mon\u001b[0m \u001b[30;48;2;255;255;0mtime\u001b[0m \u001b[30;48;2;255;255;0mwith\u001b[0m \u001b[30;48;2;255;255;0mattention\u001b[0m \u001b[30;48;2;255;255;0mfor\u001b[0m details and as \n",
       "expected. \u001b[30;48;2;255;255;0mTrust\u001b[0m \u001b[30;48;2;255;255;0min\u001b[0m \u001b[30;48;2;255;255;0mquality\u001b[0m\n"
      ]
     },
     "metadata": {},
     "output_type": "display_data"
    },
    {
     "name": "stdout",
     "output_type": "stream",
     "text": [
      "[('collaboration', 0.6738), ('trust', 0.4169), ('quality', 0.4161), ('with', 0.374), ('attention', 0.356), ('for', 0.3326), ('time', 0.3228), ('in', 0.3223), ('delivered', 0.3182), ('on', 0.3008)]\n"
     ]
    },
    {
     "data": {
      "text/html": [
       "<pre style=\"white-space:pre;overflow-x:auto;line-height:normal;font-family:Menlo,'DejaVu Sans Mono',consolas,'Courier New',monospace\">Once <span style=\"color: #000000; text-decoration-color: #000000; background-color: #ffff00\">knowledge</span> <span style=\"color: #000000; text-decoration-color: #000000; background-color: #ffff00\">was</span> captured they <span style=\"color: #000000; text-decoration-color: #000000; background-color: #ffff00\">were</span> <span style=\"color: #000000; text-decoration-color: #000000; background-color: #ffff00\">able</span> <span style=\"color: #000000; text-decoration-color: #000000; background-color: #ffff00\">to</span> <span style=\"color: #000000; text-decoration-color: #000000; background-color: #ffff00\">propose</span> a way of <span style=\"color: #000000; text-decoration-color: #000000; background-color: #ffff00\">translating</span> it <span style=\"color: #000000; text-decoration-color: #000000; background-color: #ffff00\">into</span> <span style=\"color: #000000; text-decoration-color: #000000; background-color: #ffff00\">meaningful</span>\n",
       "<span style=\"color: #000000; text-decoration-color: #000000; background-color: #ffff00\">content</span>\n",
       "</pre>\n"
      ],
      "text/plain": [
       "Once \u001b[30;48;2;255;255;0mknowledge\u001b[0m \u001b[30;48;2;255;255;0mwas\u001b[0m captured they \u001b[30;48;2;255;255;0mwere\u001b[0m \u001b[30;48;2;255;255;0mable\u001b[0m \u001b[30;48;2;255;255;0mto\u001b[0m \u001b[30;48;2;255;255;0mpropose\u001b[0m a way of \u001b[30;48;2;255;255;0mtranslating\u001b[0m it \u001b[30;48;2;255;255;0minto\u001b[0m \u001b[30;48;2;255;255;0mmeaningful\u001b[0m\n",
       "\u001b[30;48;2;255;255;0mcontent\u001b[0m\n"
      ]
     },
     "metadata": {},
     "output_type": "display_data"
    },
    {
     "name": "stdout",
     "output_type": "stream",
     "text": [
      "[('knowledge', 0.4281), ('meaningful', 0.4115), ('translating', 0.3541), ('content', 0.2915), ('into', 0.2286), ('was', 0.2255), ('to', 0.224), ('were', 0.2181), ('able', 0.2122), ('propose', 0.2018)]\n"
     ]
    },
    {
     "data": {
      "text/html": [
       "<pre style=\"white-space:pre;overflow-x:auto;line-height:normal;font-family:Menlo,'DejaVu Sans Mono',consolas,'Courier New',monospace\"><span style=\"color: #000000; text-decoration-color: #000000; background-color: #ffff00\">They</span> <span style=\"color: #000000; text-decoration-color: #000000; background-color: #ffff00\">usually</span> <span style=\"color: #000000; text-decoration-color: #000000; background-color: #ffff00\">challenge</span> <span style=\"color: #000000; text-decoration-color: #000000; background-color: #ffff00\">ideas</span> <span style=\"color: #000000; text-decoration-color: #000000; background-color: #ffff00\">which</span> <span style=\"color: #000000; text-decoration-color: #000000; background-color: #ffff00\">is</span> <span style=\"color: #000000; text-decoration-color: #000000; background-color: #ffff00\">highly</span> <span style=\"color: #000000; text-decoration-color: #000000; background-color: #ffff00\">appreciated</span>\n",
       "</pre>\n"
      ],
      "text/plain": [
       "\u001b[30;48;2;255;255;0mThey\u001b[0m \u001b[30;48;2;255;255;0musually\u001b[0m \u001b[30;48;2;255;255;0mchallenge\u001b[0m \u001b[30;48;2;255;255;0mideas\u001b[0m \u001b[30;48;2;255;255;0mwhich\u001b[0m \u001b[30;48;2;255;255;0mis\u001b[0m \u001b[30;48;2;255;255;0mhighly\u001b[0m \u001b[30;48;2;255;255;0mappreciated\u001b[0m\n"
      ]
     },
     "metadata": {},
     "output_type": "display_data"
    },
    {
     "name": "stdout",
     "output_type": "stream",
     "text": [
      "[('ideas', 0.4532), ('challenge', 0.3967), ('usually', 0.3124), ('appreciated', 0.2527), ('they', 0.2147), ('highly', 0.2111), ('which', 0.2093), ('is', 0.1664)]\n"
     ]
    },
    {
     "data": {
      "text/html": [
       "<pre style=\"white-space:pre;overflow-x:auto;line-height:normal;font-family:Menlo,'DejaVu Sans Mono',consolas,'Courier New',monospace\"><span style=\"color: #000000; text-decoration-color: #000000; background-color: #ffff00\">Excellent</span> <span style=\"color: #000000; text-decoration-color: #000000; background-color: #ffff00\">quality</span> <span style=\"color: #000000; text-decoration-color: #000000; background-color: #ffff00\">on</span> <span style=\"color: #000000; text-decoration-color: #000000; background-color: #ffff00\">the</span> <span style=\"color: #000000; text-decoration-color: #000000; background-color: #ffff00\">deliverable</span> <span style=\"color: #000000; text-decoration-color: #000000; background-color: #ffff00\">and</span> really <span style=\"color: #000000; text-decoration-color: #000000; background-color: #ffff00\">quick</span> <span style=\"color: #000000; text-decoration-color: #000000; background-color: #ffff00\">response</span> <span style=\"color: #000000; text-decoration-color: #000000; background-color: #ffff00\">to</span> <span style=\"color: #000000; text-decoration-color: #000000; background-color: #ffff00\">changes</span>\n",
       "</pre>\n"
      ],
      "text/plain": [
       "\u001b[30;48;2;255;255;0mExcellent\u001b[0m \u001b[30;48;2;255;255;0mquality\u001b[0m \u001b[30;48;2;255;255;0mon\u001b[0m \u001b[30;48;2;255;255;0mthe\u001b[0m \u001b[30;48;2;255;255;0mdeliverable\u001b[0m \u001b[30;48;2;255;255;0mand\u001b[0m really \u001b[30;48;2;255;255;0mquick\u001b[0m \u001b[30;48;2;255;255;0mresponse\u001b[0m \u001b[30;48;2;255;255;0mto\u001b[0m \u001b[30;48;2;255;255;0mchanges\u001b[0m\n"
      ]
     },
     "metadata": {},
     "output_type": "display_data"
    },
    {
     "name": "stdout",
     "output_type": "stream",
     "text": [
      "[('quality', 0.4867), ('changes', 0.476), ('deliverable', 0.4053), ('response', 0.401), ('excellent', 0.3983), ('quick', 0.3902), ('to', 0.2678), ('on', 0.2364), ('and', 0.2325), ('the', 0.2105)]\n"
     ]
    },
    {
     "data": {
      "text/html": [
       "<pre style=\"white-space:pre;overflow-x:auto;line-height:normal;font-family:Menlo,'DejaVu Sans Mono',consolas,'Courier New',monospace\"><span style=\"color: #000000; text-decoration-color: #000000; background-color: #ffff00\">The</span> <span style=\"color: #000000; text-decoration-color: #000000; background-color: #ffff00\">team</span> <span style=\"color: #000000; text-decoration-color: #000000; background-color: #ffff00\">are</span> <span style=\"color: #000000; text-decoration-color: #000000; background-color: #ffff00\">friendly</span> <span style=\"color: #000000; text-decoration-color: #000000; background-color: #ffff00\">and</span> <span style=\"color: #000000; text-decoration-color: #000000; background-color: #ffff00\">easy</span> <span style=\"color: #000000; text-decoration-color: #000000; background-color: #ffff00\">to</span> <span style=\"color: #000000; text-decoration-color: #000000; background-color: #ffff00\">work</span> <span style=\"color: #000000; text-decoration-color: #000000; background-color: #ffff00\">with</span>\n",
       "</pre>\n"
      ],
      "text/plain": [
       "\u001b[30;48;2;255;255;0mThe\u001b[0m \u001b[30;48;2;255;255;0mteam\u001b[0m \u001b[30;48;2;255;255;0mare\u001b[0m \u001b[30;48;2;255;255;0mfriendly\u001b[0m \u001b[30;48;2;255;255;0mand\u001b[0m \u001b[30;48;2;255;255;0measy\u001b[0m \u001b[30;48;2;255;255;0mto\u001b[0m \u001b[30;48;2;255;255;0mwork\u001b[0m \u001b[30;48;2;255;255;0mwith\u001b[0m\n"
      ]
     },
     "metadata": {},
     "output_type": "display_data"
    },
    {
     "name": "stdout",
     "output_type": "stream",
     "text": [
      "[('team', 0.6057), ('friendly', 0.4298), ('easy', 0.3117), ('are', 0.1838), ('work', 0.1012), ('to', 0.0805), ('with', 0.0632), ('the', 0.0626), ('and', 0.052)]\n"
     ]
    },
    {
     "data": {
      "text/html": [
       "<pre style=\"white-space:pre;overflow-x:auto;line-height:normal;font-family:Menlo,'DejaVu Sans Mono',consolas,'Courier New',monospace\">No issues, <span style=\"color: #000000; text-decoration-color: #000000; background-color: #ffff00\">we</span> <span style=\"color: #000000; text-decoration-color: #000000; background-color: #ffff00\">usually</span> <span style=\"color: #000000; text-decoration-color: #000000; background-color: #ffff00\">work</span> <span style=\"color: #000000; text-decoration-color: #000000; background-color: #ffff00\">mostly</span> <span style=\"color: #000000; text-decoration-color: #000000; background-color: #ffff00\">remotely</span> <span style=\"color: #000000; text-decoration-color: #000000; background-color: #ffff00\">anyway</span> due to <span style=\"color: #000000; text-decoration-color: #000000; background-color: #ffff00\">teams</span> being <span style=\"color: #000000; text-decoration-color: #000000; background-color: #ffff00\">distributed</span> <span style=\"color: #000000; text-decoration-color: #000000; background-color: #ffff00\">across</span> the \n",
       "<span style=\"color: #000000; text-decoration-color: #000000; background-color: #ffff00\">world</span>\n",
       "</pre>\n"
      ],
      "text/plain": [
       "No issues, \u001b[30;48;2;255;255;0mwe\u001b[0m \u001b[30;48;2;255;255;0musually\u001b[0m \u001b[30;48;2;255;255;0mwork\u001b[0m \u001b[30;48;2;255;255;0mmostly\u001b[0m \u001b[30;48;2;255;255;0mremotely\u001b[0m \u001b[30;48;2;255;255;0manyway\u001b[0m due to \u001b[30;48;2;255;255;0mteams\u001b[0m being \u001b[30;48;2;255;255;0mdistributed\u001b[0m \u001b[30;48;2;255;255;0macross\u001b[0m the \n",
       "\u001b[30;48;2;255;255;0mworld\u001b[0m\n"
      ]
     },
     "metadata": {},
     "output_type": "display_data"
    },
    {
     "name": "stdout",
     "output_type": "stream",
     "text": [
      "[('remotely', 0.397), ('teams', 0.393), ('distributed', 0.3299), ('we', 0.2957), ('usually', 0.203), ('work', 0.1971), ('mostly', 0.1822), ('across', 0.1746), ('world', 0.1578), ('anyway', 0.1312)]\n"
     ]
    },
    {
     "data": {
      "text/html": [
       "<pre style=\"white-space:pre;overflow-x:auto;line-height:normal;font-family:Menlo,'DejaVu Sans Mono',consolas,'Courier New',monospace\">I believe that we will <span style=\"color: #000000; text-decoration-color: #000000; background-color: #ffff00\">need</span> to ensure that <span style=\"color: #000000; text-decoration-color: #000000; background-color: #ffff00\">remote</span> <span style=\"color: #000000; text-decoration-color: #000000; background-color: #ffff00\">sessions</span> are as <span style=\"color: #000000; text-decoration-color: #000000; background-color: #ffff00\">effective</span> as possible since\n",
       "they will likely replace some (even many or all) <span style=\"color: #000000; text-decoration-color: #000000; background-color: #ffff00\">F2F</span> sessions. Publishing a clear <span style=\"color: #000000; text-decoration-color: #000000; background-color: #ffff00\">agenda</span> \n",
       "upfront, ensuring technology and tools are suitable/working correctly. Building the right \n",
       "structure into the <span style=\"color: #000000; text-decoration-color: #000000; background-color: #ffff00\">meeting</span> (e.g. start/finish times, breaks, <span style=\"color: #000000; text-decoration-color: #000000; background-color: #ffff00\">interactive</span> etc...)\n",
       "</pre>\n"
      ],
      "text/plain": [
       "I believe that we will \u001b[30;48;2;255;255;0mneed\u001b[0m to ensure that \u001b[30;48;2;255;255;0mremote\u001b[0m \u001b[30;48;2;255;255;0msessions\u001b[0m are as \u001b[30;48;2;255;255;0meffective\u001b[0m as possible since\n",
       "they will likely replace some (even many or all) \u001b[30;48;2;255;255;0mF2F\u001b[0m sessions. Publishing a clear \u001b[30;48;2;255;255;0magenda\u001b[0m \n",
       "upfront, ensuring technology and tools are suitable/working correctly. Building the right \n",
       "structure into the \u001b[30;48;2;255;255;0mmeeting\u001b[0m (e.g. start/finish times, breaks, \u001b[30;48;2;255;255;0minteractive\u001b[0m etc...)\n"
      ]
     },
     "metadata": {},
     "output_type": "display_data"
    },
    {
     "name": "stdout",
     "output_type": "stream",
     "text": [
      "[('sessions', 0.5386), ('remote', 0.4303), ('meeting', 0.4183), ('f2f', 0.3502), ('upfront', 0.2995), ('interactive', 0.2981), ('agenda', 0.2886), ('effective', 0.2749), ('suitable', 0.2744), ('need', 0.2578)]\n"
     ]
    },
    {
     "data": {
      "text/html": [
       "<pre style=\"white-space:pre;overflow-x:auto;line-height:normal;font-family:Menlo,'DejaVu Sans Mono',consolas,'Courier New',monospace\"><span style=\"color: #000000; text-decoration-color: #000000; background-color: #ffff00\">It</span> <span style=\"color: #000000; text-decoration-color: #000000; background-color: #ffff00\">is</span> a <span style=\"color: #000000; text-decoration-color: #000000; background-color: #ffff00\">premium</span> <span style=\"color: #000000; text-decoration-color: #000000; background-color: #ffff00\">service</span> but I believe represents <span style=\"color: #000000; text-decoration-color: #000000; background-color: #ffff00\">good</span> <span style=\"color: #000000; text-decoration-color: #000000; background-color: #ffff00\">value</span> <span style=\"color: #000000; text-decoration-color: #000000; background-color: #ffff00\">as</span> the <span style=\"color: #000000; text-decoration-color: #000000; background-color: #ffff00\">quality</span> <span style=\"color: #000000; text-decoration-color: #000000; background-color: #ffff00\">required</span> was <span style=\"color: #000000; text-decoration-color: #000000; background-color: #ffff00\">high</span>\n",
       "</pre>\n"
      ],
      "text/plain": [
       "\u001b[30;48;2;255;255;0mIt\u001b[0m \u001b[30;48;2;255;255;0mis\u001b[0m a \u001b[30;48;2;255;255;0mpremium\u001b[0m \u001b[30;48;2;255;255;0mservice\u001b[0m but I believe represents \u001b[30;48;2;255;255;0mgood\u001b[0m \u001b[30;48;2;255;255;0mvalue\u001b[0m \u001b[30;48;2;255;255;0mas\u001b[0m the \u001b[30;48;2;255;255;0mquality\u001b[0m \u001b[30;48;2;255;255;0mrequired\u001b[0m was \u001b[30;48;2;255;255;0mhigh\u001b[0m\n"
      ]
     },
     "metadata": {},
     "output_type": "display_data"
    },
    {
     "name": "stdout",
     "output_type": "stream",
     "text": [
      "[('premium', 0.5281), ('quality', 0.5028), ('good', 0.4709), ('service', 0.4676), ('value', 0.2741), ('high', 0.2663), ('it', 0.182), ('required', 0.1805), ('as', 0.1321), ('is', 0.1293)]\n"
     ]
    },
    {
     "data": {
      "text/html": [
       "<pre style=\"white-space:pre;overflow-x:auto;line-height:normal;font-family:Menlo,'DejaVu Sans Mono',consolas,'Courier New',monospace\"><span style=\"color: #000000; text-decoration-color: #000000; background-color: #ffff00\">Good</span> <span style=\"color: #000000; text-decoration-color: #000000; background-color: #ffff00\">understanding</span> of the <span style=\"color: #000000; text-decoration-color: #000000; background-color: #ffff00\">industry</span> and <span style=\"color: #000000; text-decoration-color: #000000; background-color: #ffff00\">sector</span> although always scope for even <span style=\"color: #000000; text-decoration-color: #000000; background-color: #ffff00\">deeper</span> <span style=\"color: #000000; text-decoration-color: #000000; background-color: #ffff00\">knowledge</span>\n",
       "<span style=\"color: #000000; text-decoration-color: #000000; background-color: #ffff00\">in</span> some areas, especially <span style=\"color: #000000; text-decoration-color: #000000; background-color: #ffff00\">in</span> terms of <span style=\"color: #000000; text-decoration-color: #000000; background-color: #ffff00\">how</span> our <span style=\"color: #000000; text-decoration-color: #000000; background-color: #ffff00\">company</span> is executing the <span style=\"color: #000000; text-decoration-color: #000000; background-color: #ffff00\">processes</span>\n",
       "</pre>\n"
      ],
      "text/plain": [
       "\u001b[30;48;2;255;255;0mGood\u001b[0m \u001b[30;48;2;255;255;0munderstanding\u001b[0m of the \u001b[30;48;2;255;255;0mindustry\u001b[0m and \u001b[30;48;2;255;255;0msector\u001b[0m although always scope for even \u001b[30;48;2;255;255;0mdeeper\u001b[0m \u001b[30;48;2;255;255;0mknowledge\u001b[0m\n",
       "\u001b[30;48;2;255;255;0min\u001b[0m some areas, especially \u001b[30;48;2;255;255;0min\u001b[0m terms of \u001b[30;48;2;255;255;0mhow\u001b[0m our \u001b[30;48;2;255;255;0mcompany\u001b[0m is executing the \u001b[30;48;2;255;255;0mprocesses\u001b[0m\n"
      ]
     },
     "metadata": {},
     "output_type": "display_data"
    },
    {
     "name": "stdout",
     "output_type": "stream",
     "text": [
      "[('industry', 0.5522), ('sector', 0.5171), ('knowledge', 0.4647), ('company', 0.4478), ('understanding', 0.37), ('processes', 0.3133), ('deeper', 0.2396), ('how', 0.2211), ('good', 0.2114), ('in', 0.1992)]\n"
     ]
    },
    {
     "data": {
      "text/html": [
       "<pre style=\"white-space:pre;overflow-x:auto;line-height:normal;font-family:Menlo,'DejaVu Sans Mono',consolas,'Courier New',monospace\"><span style=\"color: #000000; text-decoration-color: #000000; background-color: #ffff00\">Not</span> <span style=\"color: #000000; text-decoration-color: #000000; background-color: #ffff00\">so</span> <span style=\"color: #000000; text-decoration-color: #000000; background-color: #ffff00\">much</span> <span style=\"color: #000000; text-decoration-color: #000000; background-color: #ffff00\">relevance</span> <span style=\"color: #000000; text-decoration-color: #000000; background-color: #ffff00\">as</span> <span style=\"color: #000000; text-decoration-color: #000000; background-color: #ffff00\">the</span> <span style=\"color: #000000; text-decoration-color: #000000; background-color: #ffff00\">project</span> <span style=\"color: #000000; text-decoration-color: #000000; background-color: #ffff00\">team</span> <span style=\"color: #000000; text-decoration-color: #000000; background-color: #ffff00\">was</span> small.\n",
       "</pre>\n"
      ],
      "text/plain": [
       "\u001b[30;48;2;255;255;0mNot\u001b[0m \u001b[30;48;2;255;255;0mso\u001b[0m \u001b[30;48;2;255;255;0mmuch\u001b[0m \u001b[30;48;2;255;255;0mrelevance\u001b[0m \u001b[30;48;2;255;255;0mas\u001b[0m \u001b[30;48;2;255;255;0mthe\u001b[0m \u001b[30;48;2;255;255;0mproject\u001b[0m \u001b[30;48;2;255;255;0mteam\u001b[0m \u001b[30;48;2;255;255;0mwas\u001b[0m small.\n"
      ]
     },
     "metadata": {},
     "output_type": "display_data"
    },
    {
     "name": "stdout",
     "output_type": "stream",
     "text": [
      "[('small', 0.4136), ('project', 0.4103), ('relevance', 0.2747), ('team', 0.2408), ('not', 0.2104), ('was', 0.141), ('much', 0.1238), ('the', 0.1229), ('as', 0.107), ('so', 0.0804)]\n"
     ]
    },
    {
     "data": {
      "text/html": [
       "<pre style=\"white-space:pre;overflow-x:auto;line-height:normal;font-family:Menlo,'DejaVu Sans Mono',consolas,'Courier New',monospace\"><span style=\"color: #000000; text-decoration-color: #000000; background-color: #ffff00\">Proactively</span> <span style=\"color: #000000; text-decoration-color: #000000; background-color: #ffff00\">setup</span> <span style=\"color: #000000; text-decoration-color: #000000; background-color: #ffff00\">working</span> <span style=\"color: #000000; text-decoration-color: #000000; background-color: #ffff00\">sessions</span> <span style=\"color: #000000; text-decoration-color: #000000; background-color: #ffff00\">and</span> <span style=\"color: #000000; text-decoration-color: #000000; background-color: #ffff00\">coordinated</span> <span style=\"color: #000000; text-decoration-color: #000000; background-color: #ffff00\">the</span> <span style=\"color: #000000; text-decoration-color: #000000; background-color: #ffff00\">meetings</span>\n",
       "</pre>\n"
      ],
      "text/plain": [
       "\u001b[30;48;2;255;255;0mProactively\u001b[0m \u001b[30;48;2;255;255;0msetup\u001b[0m \u001b[30;48;2;255;255;0mworking\u001b[0m \u001b[30;48;2;255;255;0msessions\u001b[0m \u001b[30;48;2;255;255;0mand\u001b[0m \u001b[30;48;2;255;255;0mcoordinated\u001b[0m \u001b[30;48;2;255;255;0mthe\u001b[0m \u001b[30;48;2;255;255;0mmeetings\u001b[0m\n"
      ]
     },
     "metadata": {},
     "output_type": "display_data"
    },
    {
     "name": "stdout",
     "output_type": "stream",
     "text": [
      "[('meetings', 0.719), ('coordinated', 0.5879), ('sessions', 0.518), ('proactively', 0.4573), ('setup', 0.3979), ('working', 0.3974), ('and', 0.1599), ('the', 0.1481)]\n"
     ]
    },
    {
     "data": {
      "text/html": [
       "<pre style=\"white-space:pre;overflow-x:auto;line-height:normal;font-family:Menlo,'DejaVu Sans Mono',consolas,'Courier New',monospace\">Not so much <span style=\"color: #000000; text-decoration-color: #000000; background-color: #ffff00\">opportunity</span> here since we did not <span style=\"color: #000000; text-decoration-color: #000000; background-color: #ffff00\">deep</span> dive that area, overview <span style=\"color: #000000; text-decoration-color: #000000; background-color: #ffff00\">knowledge</span> of <span style=\"color: #000000; text-decoration-color: #000000; background-color: #ffff00\">data</span>\n",
       "and <span style=\"color: #000000; text-decoration-color: #000000; background-color: #ffff00\">systems</span> was competent, again always <span style=\"color: #000000; text-decoration-color: #000000; background-color: #ffff00\">good</span> to have even more understanding, e.g. <span style=\"color: #000000; text-decoration-color: #000000; background-color: #ffff00\">systems</span> \n",
       "<span style=\"color: #000000; text-decoration-color: #000000; background-color: #ffff00\">architecture</span> and <span style=\"color: #000000; text-decoration-color: #000000; background-color: #ffff00\">data</span> <span style=\"color: #000000; text-decoration-color: #000000; background-color: #ffff00\">models</span>\n",
       "</pre>\n"
      ],
      "text/plain": [
       "Not so much \u001b[30;48;2;255;255;0mopportunity\u001b[0m here since we did not \u001b[30;48;2;255;255;0mdeep\u001b[0m dive that area, overview \u001b[30;48;2;255;255;0mknowledge\u001b[0m of \u001b[30;48;2;255;255;0mdata\u001b[0m\n",
       "and \u001b[30;48;2;255;255;0msystems\u001b[0m was competent, again always \u001b[30;48;2;255;255;0mgood\u001b[0m to have even more understanding, e.g. \u001b[30;48;2;255;255;0msystems\u001b[0m \n",
       "\u001b[30;48;2;255;255;0marchitecture\u001b[0m and \u001b[30;48;2;255;255;0mdata\u001b[0m \u001b[30;48;2;255;255;0mmodels\u001b[0m\n"
      ]
     },
     "metadata": {},
     "output_type": "display_data"
    },
    {
     "name": "stdout",
     "output_type": "stream",
     "text": [
      "[('knowledge', 0.3543), ('data', 0.3055), ('opportunity', 0.2847), ('systems', 0.281), ('understanding', 0.2763), ('competent', 0.2738), ('deep', 0.2418), ('architecture', 0.2347), ('good', 0.2254), ('models', 0.2197)]\n"
     ]
    },
    {
     "data": {
      "text/html": [
       "<pre style=\"white-space:pre;overflow-x:auto;line-height:normal;font-family:Menlo,'DejaVu Sans Mono',consolas,'Courier New',monospace\"><span style=\"color: #000000; text-decoration-color: #000000; background-color: #ffff00\">Highly</span> <span style=\"color: #000000; text-decoration-color: #000000; background-color: #ffff00\">responsive</span> <span style=\"color: #000000; text-decoration-color: #000000; background-color: #ffff00\">and</span> <span style=\"color: #000000; text-decoration-color: #000000; background-color: #ffff00\">adapting</span> <span style=\"color: #000000; text-decoration-color: #000000; background-color: #ffff00\">schedules</span> <span style=\"color: #000000; text-decoration-color: #000000; background-color: #ffff00\">as</span> <span style=\"color: #000000; text-decoration-color: #000000; background-color: #ffff00\">needed</span>\n",
       "</pre>\n"
      ],
      "text/plain": [
       "\u001b[30;48;2;255;255;0mHighly\u001b[0m \u001b[30;48;2;255;255;0mresponsive\u001b[0m \u001b[30;48;2;255;255;0mand\u001b[0m \u001b[30;48;2;255;255;0madapting\u001b[0m \u001b[30;48;2;255;255;0mschedules\u001b[0m \u001b[30;48;2;255;255;0mas\u001b[0m \u001b[30;48;2;255;255;0mneeded\u001b[0m\n"
      ]
     },
     "metadata": {},
     "output_type": "display_data"
    },
    {
     "name": "stdout",
     "output_type": "stream",
     "text": [
      "[('schedules', 0.7394), ('responsive', 0.4496), ('adapting', 0.4376), ('needed', 0.3006), ('and', 0.1585), ('highly', 0.1395), ('as', 0.1393)]\n"
     ]
    },
    {
     "data": {
      "text/html": [
       "<pre style=\"white-space:pre;overflow-x:auto;line-height:normal;font-family:Menlo,'DejaVu Sans Mono',consolas,'Courier New',monospace\">There <span style=\"color: #000000; text-decoration-color: #000000; background-color: #ffff00\">was</span> a <span style=\"color: #000000; text-decoration-color: #000000; background-color: #ffff00\">rocky</span> start/middle of <span style=\"color: #000000; text-decoration-color: #000000; background-color: #ffff00\">the</span> project, <span style=\"color: #000000; text-decoration-color: #000000; background-color: #ffff00\">however</span> ultimately, <span style=\"color: #000000; text-decoration-color: #000000; background-color: #ffff00\">the</span> <span style=\"color: #000000; text-decoration-color: #000000; background-color: #ffff00\">Deloitte</span> delivered on \n",
       "its promises.\n",
       "</pre>\n"
      ],
      "text/plain": [
       "There \u001b[30;48;2;255;255;0mwas\u001b[0m a \u001b[30;48;2;255;255;0mrocky\u001b[0m start/middle of \u001b[30;48;2;255;255;0mthe\u001b[0m project, \u001b[30;48;2;255;255;0mhowever\u001b[0m ultimately, \u001b[30;48;2;255;255;0mthe\u001b[0m \u001b[30;48;2;255;255;0mDeloitte\u001b[0m delivered on \n",
       "its promises.\n"
      ]
     },
     "metadata": {},
     "output_type": "display_data"
    },
    {
     "name": "stdout",
     "output_type": "stream",
     "text": [
      "[('promises', 0.3144), ('deloitte', 0.3095), ('project', 0.2637), ('ultimately', 0.2632), ('middle', 0.2), ('was', 0.1834), ('the', 0.1769), ('start', 0.1691), ('however', 0.1577), ('rocky', 0.147)]\n"
     ]
    },
    {
     "data": {
      "text/html": [
       "<pre style=\"white-space:pre;overflow-x:auto;line-height:normal;font-family:Menlo,'DejaVu Sans Mono',consolas,'Courier New',monospace\"><span style=\"color: #000000; text-decoration-color: #000000; background-color: #ffff00\">Commitment</span> <span style=\"color: #000000; text-decoration-color: #000000; background-color: #ffff00\">of</span> <span style=\"color: #000000; text-decoration-color: #000000; background-color: #ffff00\">the</span> <span style=\"color: #000000; text-decoration-color: #000000; background-color: #ffff00\">team</span> <span style=\"color: #000000; text-decoration-color: #000000; background-color: #ffff00\">was</span> good! <span style=\"color: #000000; text-decoration-color: #000000; background-color: #ffff00\">thank</span> <span style=\"color: #000000; text-decoration-color: #000000; background-color: #ffff00\">you</span>\n",
       "</pre>\n"
      ],
      "text/plain": [
       "\u001b[30;48;2;255;255;0mCommitment\u001b[0m \u001b[30;48;2;255;255;0mof\u001b[0m \u001b[30;48;2;255;255;0mthe\u001b[0m \u001b[30;48;2;255;255;0mteam\u001b[0m \u001b[30;48;2;255;255;0mwas\u001b[0m good! \u001b[30;48;2;255;255;0mthank\u001b[0m \u001b[30;48;2;255;255;0myou\u001b[0m\n"
      ]
     },
     "metadata": {},
     "output_type": "display_data"
    },
    {
     "name": "stdout",
     "output_type": "stream",
     "text": [
      "[('team', 0.6132), ('good', 0.4548), ('commitment', 0.3439), ('thank', 0.3283), ('was', 0.1809), ('you', 0.1782), ('of', 0.1321), ('the', 0.1239)]\n"
     ]
    },
    {
     "data": {
      "text/html": [
       "<pre style=\"white-space:pre;overflow-x:auto;line-height:normal;font-family:Menlo,'DejaVu Sans Mono',consolas,'Courier New',monospace\"><span style=\"color: #000000; text-decoration-color: #000000; background-color: #ffff00\">Deloitte</span> needs to be <span style=\"color: #000000; text-decoration-color: #000000; background-color: #ffff00\">careful</span> to not just present theory. Our <span style=\"color: #000000; text-decoration-color: #000000; background-color: #ffff00\">expectation</span> clear from the \n",
       "beginning] was to receive an application of the <span style=\"color: #000000; text-decoration-color: #000000; background-color: #ffff00\">theory</span> to our specific <span style=\"color: #000000; text-decoration-color: #000000; background-color: #ffff00\">use</span> case. Ultimately, \n",
       "<span style=\"color: #000000; text-decoration-color: #000000; background-color: #ffff00\">Deloitte</span> delivered but it <span style=\"color: #000000; text-decoration-color: #000000; background-color: #ffff00\">took</span> several <span style=\"color: #000000; text-decoration-color: #000000; background-color: #ffff00\">discussions</span> to get there.\n",
       "</pre>\n"
      ],
      "text/plain": [
       "\u001b[30;48;2;255;255;0mDeloitte\u001b[0m needs to be \u001b[30;48;2;255;255;0mcareful\u001b[0m to not just present theory. Our \u001b[30;48;2;255;255;0mexpectation\u001b[0m clear from the \n",
       "beginning] was to receive an application of the \u001b[30;48;2;255;255;0mtheory\u001b[0m to our specific \u001b[30;48;2;255;255;0muse\u001b[0m case. Ultimately, \n",
       "\u001b[30;48;2;255;255;0mDeloitte\u001b[0m delivered but it \u001b[30;48;2;255;255;0mtook\u001b[0m several \u001b[30;48;2;255;255;0mdiscussions\u001b[0m to get there.\n"
      ]
     },
     "metadata": {},
     "output_type": "display_data"
    },
    {
     "name": "stdout",
     "output_type": "stream",
     "text": [
      "[('theory', 0.2929), ('expectation', 0.2737), ('careful', 0.2517), ('discussions', 0.2488), ('case', 0.2327), ('deloitte', 0.2293), ('took', 0.1904), ('use', 0.1838), ('ultimately', 0.1793), ('clear', 0.1569)]\n"
     ]
    },
    {
     "data": {
      "text/html": [
       "<pre style=\"white-space:pre;overflow-x:auto;line-height:normal;font-family:Menlo,'DejaVu Sans Mono',consolas,'Courier New',monospace\"><span style=\"color: #000000; text-decoration-color: #000000; background-color: #ffff00\">Deloitte</span> <span style=\"color: #000000; text-decoration-color: #000000; background-color: #ffff00\">consultant</span> made an <span style=\"color: #000000; text-decoration-color: #000000; background-color: #ffff00\">easy</span> <span style=\"color: #000000; text-decoration-color: #000000; background-color: #ffff00\">connection</span> <span style=\"color: #000000; text-decoration-color: #000000; background-color: #ffff00\">with</span> <span style=\"color: #000000; text-decoration-color: #000000; background-color: #ffff00\">all</span> <span style=\"color: #000000; text-decoration-color: #000000; background-color: #ffff00\">stakeholders</span> <span style=\"color: #000000; text-decoration-color: #000000; background-color: #ffff00\">involved</span> <span style=\"color: #000000; text-decoration-color: #000000; background-color: #ffff00\">in</span> the <span style=\"color: #000000; text-decoration-color: #000000; background-color: #ffff00\">project</span>\n",
       "</pre>\n"
      ],
      "text/plain": [
       "\u001b[30;48;2;255;255;0mDeloitte\u001b[0m \u001b[30;48;2;255;255;0mconsultant\u001b[0m made an \u001b[30;48;2;255;255;0measy\u001b[0m \u001b[30;48;2;255;255;0mconnection\u001b[0m \u001b[30;48;2;255;255;0mwith\u001b[0m \u001b[30;48;2;255;255;0mall\u001b[0m \u001b[30;48;2;255;255;0mstakeholders\u001b[0m \u001b[30;48;2;255;255;0minvolved\u001b[0m \u001b[30;48;2;255;255;0min\u001b[0m the \u001b[30;48;2;255;255;0mproject\u001b[0m\n"
      ]
     },
     "metadata": {},
     "output_type": "display_data"
    },
    {
     "name": "stdout",
     "output_type": "stream",
     "text": [
      "[('consultant', 0.371), ('stakeholders', 0.3305), ('project', 0.1948), ('connection', 0.173), ('easy', 0.1349), ('with', 0.1318), ('deloitte', 0.1285), ('involved', 0.0883), ('all', 0.0685), ('in', 0.0116)]\n"
     ]
    },
    {
     "data": {
      "text/html": [
       "<pre style=\"white-space:pre;overflow-x:auto;line-height:normal;font-family:Menlo,'DejaVu Sans Mono',consolas,'Courier New',monospace\">Overall, <span style=\"color: #000000; text-decoration-color: #000000; background-color: #ffff00\">communication</span> was good, but <span style=\"color: #000000; text-decoration-color: #000000; background-color: #ffff00\">could</span> have <span style=\"color: #000000; text-decoration-color: #000000; background-color: #ffff00\">could</span> have been <span style=\"color: #000000; text-decoration-color: #000000; background-color: #ffff00\">more</span> <span style=\"color: #000000; text-decoration-color: #000000; background-color: #ffff00\">transparent</span> at time. For\n",
       "example, <span style=\"color: #000000; text-decoration-color: #000000; background-color: #ffff00\">more</span> <span style=\"color: #000000; text-decoration-color: #000000; background-color: #ffff00\">transparency</span> in the week leading to the <span style=\"color: #000000; text-decoration-color: #000000; background-color: #ffff00\">steerco</span> <span style=\"color: #000000; text-decoration-color: #000000; background-color: #ffff00\">could</span> have <span style=\"color: #000000; text-decoration-color: #000000; background-color: #ffff00\">minimised</span> <span style=\"color: #000000; text-decoration-color: #000000; background-color: #ffff00\">overtime</span>\n",
       "</pre>\n"
      ],
      "text/plain": [
       "Overall, \u001b[30;48;2;255;255;0mcommunication\u001b[0m was good, but \u001b[30;48;2;255;255;0mcould\u001b[0m have \u001b[30;48;2;255;255;0mcould\u001b[0m have been \u001b[30;48;2;255;255;0mmore\u001b[0m \u001b[30;48;2;255;255;0mtransparent\u001b[0m at time. For\n",
       "example, \u001b[30;48;2;255;255;0mmore\u001b[0m \u001b[30;48;2;255;255;0mtransparency\u001b[0m in the week leading to the \u001b[30;48;2;255;255;0msteerco\u001b[0m \u001b[30;48;2;255;255;0mcould\u001b[0m have \u001b[30;48;2;255;255;0mminimised\u001b[0m \u001b[30;48;2;255;255;0movertime\u001b[0m\n"
      ]
     },
     "metadata": {},
     "output_type": "display_data"
    },
    {
     "name": "stdout",
     "output_type": "stream",
     "text": [
      "[('transparency', 0.4132), ('communication', 0.3399), ('transparent', 0.3006), ('overtime', 0.2957), ('time', 0.2728), ('steerco', 0.2575), ('minimised', 0.2332), ('example', 0.2284), ('more', 0.2161), ('could', 0.2149)]\n"
     ]
    },
    {
     "data": {
      "text/html": [
       "<pre style=\"white-space:pre;overflow-x:auto;line-height:normal;font-family:Menlo,'DejaVu Sans Mono',consolas,'Courier New',monospace\">Deloitte's <span style=\"color: #000000; text-decoration-color: #000000; background-color: #ffff00\">life</span> <span style=\"color: #000000; text-decoration-color: #000000; background-color: #ffff00\">science</span> <span style=\"color: #000000; text-decoration-color: #000000; background-color: #ffff00\">expertise</span> was good; however additional knowledge/experience on the \n",
       "supply side (manufacturing challenges) vs the <span style=\"color: #000000; text-decoration-color: #000000; background-color: #ffff00\">planning</span> side could have been <span style=\"color: #000000; text-decoration-color: #000000; background-color: #ffff00\">beneficial</span>\n",
       "</pre>\n"
      ],
      "text/plain": [
       "Deloitte's \u001b[30;48;2;255;255;0mlife\u001b[0m \u001b[30;48;2;255;255;0mscience\u001b[0m \u001b[30;48;2;255;255;0mexpertise\u001b[0m was good; however additional knowledge/experience on the \n",
       "supply side (manufacturing challenges) vs the \u001b[30;48;2;255;255;0mplanning\u001b[0m side could have been \u001b[30;48;2;255;255;0mbeneficial\u001b[0m\n"
      ]
     },
     "metadata": {},
     "output_type": "display_data"
    },
    {
     "name": "stdout",
     "output_type": "stream",
     "text": [
      "[('expertise', 0.3546), ('experience', 0.3122), ('planning', 0.2663), ('knowledge', 0.2632), ('science', 0.2532), ('beneficial', 0.2495), ('deloitte', 0.2361), ('life', 0.2332), ('manufacturing', 0.2182), ('challenges', 0.2012)]\n"
     ]
    },
    {
     "data": {
      "text/html": [
       "<pre style=\"white-space:pre;overflow-x:auto;line-height:normal;font-family:Menlo,'DejaVu Sans Mono',consolas,'Courier New',monospace\"><span style=\"color: #000000; text-decoration-color: #000000; background-color: #ffff00\">The</span> <span style=\"color: #000000; text-decoration-color: #000000; background-color: #ffff00\">whole</span> <span style=\"color: #000000; text-decoration-color: #000000; background-color: #ffff00\">team</span> <span style=\"color: #000000; text-decoration-color: #000000; background-color: #ffff00\">was</span> <span style=\"color: #000000; text-decoration-color: #000000; background-color: #ffff00\">pleased</span> <span style=\"color: #000000; text-decoration-color: #000000; background-color: #ffff00\">with</span> <span style=\"color: #000000; text-decoration-color: #000000; background-color: #ffff00\">the</span> cooperation.\n",
       "</pre>\n"
      ],
      "text/plain": [
       "\u001b[30;48;2;255;255;0mThe\u001b[0m \u001b[30;48;2;255;255;0mwhole\u001b[0m \u001b[30;48;2;255;255;0mteam\u001b[0m \u001b[30;48;2;255;255;0mwas\u001b[0m \u001b[30;48;2;255;255;0mpleased\u001b[0m \u001b[30;48;2;255;255;0mwith\u001b[0m \u001b[30;48;2;255;255;0mthe\u001b[0m cooperation.\n"
      ]
     },
     "metadata": {},
     "output_type": "display_data"
    },
    {
     "name": "stdout",
     "output_type": "stream",
     "text": [
      "[('team', 0.4485), ('cooperation', 0.4238), ('pleased', 0.3883), ('whole', 0.1528), ('with', 0.1275), ('was', 0.1227), ('the', 0.044)]\n"
     ]
    },
    {
     "data": {
      "text/html": [
       "<pre style=\"white-space:pre;overflow-x:auto;line-height:normal;font-family:Menlo,'DejaVu Sans Mono',consolas,'Courier New',monospace\"><span style=\"color: #000000; text-decoration-color: #000000; background-color: #ffff00\">Excellent</span> communication, anticipation, updates, also <span style=\"color: #000000; text-decoration-color: #000000; background-color: #ffff00\">late</span> in the <span style=\"color: #000000; text-decoration-color: #000000; background-color: #ffff00\">evening</span> and even <span style=\"color: #000000; text-decoration-color: #000000; background-color: #ffff00\">during</span> the \n",
       "<span style=\"color: #000000; text-decoration-color: #000000; background-color: #ffff00\">WE</span> <span style=\"color: #000000; text-decoration-color: #000000; background-color: #ffff00\">when</span> <span style=\"color: #000000; text-decoration-color: #000000; background-color: #ffff00\">deadlines</span> were tight.\n",
       "</pre>\n"
      ],
      "text/plain": [
       "\u001b[30;48;2;255;255;0mExcellent\u001b[0m communication, anticipation, updates, also \u001b[30;48;2;255;255;0mlate\u001b[0m in the \u001b[30;48;2;255;255;0mevening\u001b[0m and even \u001b[30;48;2;255;255;0mduring\u001b[0m the \n",
       "\u001b[30;48;2;255;255;0mWE\u001b[0m \u001b[30;48;2;255;255;0mwhen\u001b[0m \u001b[30;48;2;255;255;0mdeadlines\u001b[0m were tight.\n"
      ]
     },
     "metadata": {},
     "output_type": "display_data"
    },
    {
     "name": "stdout",
     "output_type": "stream",
     "text": [
      "[('deadlines', 0.5494), ('late', 0.5426), ('evening', 0.4912), ('communication', 0.4768), ('anticipation', 0.4194), ('excellent', 0.377), ('we', 0.3291), ('updates', 0.3216), ('during', 0.3208), ('when', 0.3125)]\n"
     ]
    },
    {
     "data": {
      "text/html": [
       "<pre style=\"white-space:pre;overflow-x:auto;line-height:normal;font-family:Menlo,'DejaVu Sans Mono',consolas,'Courier New',monospace\"><span style=\"color: #000000; text-decoration-color: #000000; background-color: #ffff00\">Almost</span> exactly <span style=\"color: #000000; text-decoration-color: #000000; background-color: #ffff00\">in</span> line with budget/proposal <span style=\"color: #000000; text-decoration-color: #000000; background-color: #ffff00\">which</span> <span style=\"color: #000000; text-decoration-color: #000000; background-color: #ffff00\">is</span> something <span style=\"color: #000000; text-decoration-color: #000000; background-color: #ffff00\">which</span> <span style=\"color: #000000; text-decoration-color: #000000; background-color: #ffff00\">rarely</span> <span style=\"color: #000000; text-decoration-color: #000000; background-color: #ffff00\">happens</span> <span style=\"color: #000000; text-decoration-color: #000000; background-color: #ffff00\">in</span> <span style=\"color: #000000; text-decoration-color: #000000; background-color: #ffff00\">DD</span> \n",
       "processes.\n",
       "</pre>\n"
      ],
      "text/plain": [
       "\u001b[30;48;2;255;255;0mAlmost\u001b[0m exactly \u001b[30;48;2;255;255;0min\u001b[0m line with budget/proposal \u001b[30;48;2;255;255;0mwhich\u001b[0m \u001b[30;48;2;255;255;0mis\u001b[0m something \u001b[30;48;2;255;255;0mwhich\u001b[0m \u001b[30;48;2;255;255;0mrarely\u001b[0m \u001b[30;48;2;255;255;0mhappens\u001b[0m \u001b[30;48;2;255;255;0min\u001b[0m \u001b[30;48;2;255;255;0mDD\u001b[0m \n",
       "processes.\n"
      ]
     },
     "metadata": {},
     "output_type": "display_data"
    },
    {
     "name": "stdout",
     "output_type": "stream",
     "text": [
      "[('dd', 0.4528), ('budget', 0.3746), ('processes', 0.3723), ('proposal', 0.3569), ('rarely', 0.338), ('almost', 0.2079), ('happens', 0.1784), ('is', 0.1713), ('in', 0.1694), ('which', 0.1572)]\n"
     ]
    },
    {
     "data": {
      "text/html": [
       "<pre style=\"white-space:pre;overflow-x:auto;line-height:normal;font-family:Menlo,'DejaVu Sans Mono',consolas,'Courier New',monospace\"><span style=\"color: #000000; text-decoration-color: #000000; background-color: #ffff00\">Excellent</span> <span style=\"color: #000000; text-decoration-color: #000000; background-color: #ffff00\">cooperation</span> <span style=\"color: #000000; text-decoration-color: #000000; background-color: #ffff00\">but</span> at <span style=\"color: #000000; text-decoration-color: #000000; background-color: #ffff00\">the</span> <span style=\"color: #000000; text-decoration-color: #000000; background-color: #ffff00\">same</span> time <span style=\"color: #000000; text-decoration-color: #000000; background-color: #ffff00\">very</span> <span style=\"color: #000000; text-decoration-color: #000000; background-color: #ffff00\">independent</span> <span style=\"color: #000000; text-decoration-color: #000000; background-color: #ffff00\">and</span> <span style=\"color: #000000; text-decoration-color: #000000; background-color: #ffff00\">critical</span> mindset.\n",
       "</pre>\n"
      ],
      "text/plain": [
       "\u001b[30;48;2;255;255;0mExcellent\u001b[0m \u001b[30;48;2;255;255;0mcooperation\u001b[0m \u001b[30;48;2;255;255;0mbut\u001b[0m at \u001b[30;48;2;255;255;0mthe\u001b[0m \u001b[30;48;2;255;255;0msame\u001b[0m time \u001b[30;48;2;255;255;0mvery\u001b[0m \u001b[30;48;2;255;255;0mindependent\u001b[0m \u001b[30;48;2;255;255;0mand\u001b[0m \u001b[30;48;2;255;255;0mcritical\u001b[0m mindset.\n"
      ]
     },
     "metadata": {},
     "output_type": "display_data"
    },
    {
     "name": "stdout",
     "output_type": "stream",
     "text": [
      "[('cooperation', 0.6625), ('independent', 0.4428), ('mindset', 0.4059), ('critical', 0.3503), ('excellent', 0.3273), ('same', 0.268), ('very', 0.2345), ('and', 0.2196), ('the', 0.2088), ('but', 0.2062)]\n"
     ]
    },
    {
     "data": {
      "text/html": [
       "<pre style=\"white-space:pre;overflow-x:auto;line-height:normal;font-family:Menlo,'DejaVu Sans Mono',consolas,'Courier New',monospace\">It <span style=\"color: #000000; text-decoration-color: #000000; background-color: #ffff00\">was</span> <span style=\"color: #000000; text-decoration-color: #000000; background-color: #ffff00\">the</span> <span style=\"color: #000000; text-decoration-color: #000000; background-color: #ffff00\">2nd</span> time <span style=\"color: #000000; text-decoration-color: #000000; background-color: #ffff00\">Deloitte</span> did <span style=\"color: #000000; text-decoration-color: #000000; background-color: #ffff00\">the</span> fin <span style=\"color: #000000; text-decoration-color: #000000; background-color: #ffff00\">VDD</span> <span style=\"color: #000000; text-decoration-color: #000000; background-color: #ffff00\">report</span> for us with <span style=\"color: #000000; text-decoration-color: #000000; background-color: #ffff00\">Catherine</span> having <span style=\"color: #000000; text-decoration-color: #000000; background-color: #ffff00\">the</span> lead. \n",
       "This <span style=\"color: #000000; text-decoration-color: #000000; background-color: #ffff00\">was</span> a <span style=\"color: #000000; text-decoration-color: #000000; background-color: #ffff00\">great</span> asset.\n",
       "</pre>\n"
      ],
      "text/plain": [
       "It \u001b[30;48;2;255;255;0mwas\u001b[0m \u001b[30;48;2;255;255;0mthe\u001b[0m \u001b[30;48;2;255;255;0m2nd\u001b[0m time \u001b[30;48;2;255;255;0mDeloitte\u001b[0m did \u001b[30;48;2;255;255;0mthe\u001b[0m fin \u001b[30;48;2;255;255;0mVDD\u001b[0m \u001b[30;48;2;255;255;0mreport\u001b[0m for us with \u001b[30;48;2;255;255;0mCatherine\u001b[0m having \u001b[30;48;2;255;255;0mthe\u001b[0m lead. \n",
       "This \u001b[30;48;2;255;255;0mwas\u001b[0m a \u001b[30;48;2;255;255;0mgreat\u001b[0m asset.\n"
      ]
     },
     "metadata": {},
     "output_type": "display_data"
    },
    {
     "name": "stdout",
     "output_type": "stream",
     "text": [
      "[('vdd', 0.2879), ('2nd', 0.2731), ('report', 0.2528), ('lead', 0.2411), ('catherine', 0.2305), ('asset', 0.2206), ('deloitte', 0.2178), ('was', 0.1752), ('great', 0.1702), ('the', 0.1666)]\n"
     ]
    },
    {
     "data": {
      "text/html": [
       "<pre style=\"white-space:pre;overflow-x:auto;line-height:normal;font-family:Menlo,'DejaVu Sans Mono',consolas,'Courier New',monospace\"><span style=\"color: #000000; text-decoration-color: #000000; background-color: #ffff00\">Exactly</span> <span style=\"color: #000000; text-decoration-color: #000000; background-color: #ffff00\">what</span> <span style=\"color: #000000; text-decoration-color: #000000; background-color: #ffff00\">we</span> needed, <span style=\"color: #000000; text-decoration-color: #000000; background-color: #ffff00\">exactly</span> <span style=\"color: #000000; text-decoration-color: #000000; background-color: #ffff00\">what</span> was <span style=\"color: #000000; text-decoration-color: #000000; background-color: #ffff00\">necessary</span> <span style=\"color: #000000; text-decoration-color: #000000; background-color: #ffff00\">for</span> buy-side/sell-side, <span style=\"color: #000000; text-decoration-color: #000000; background-color: #ffff00\">exactly</span> <span style=\"color: #000000; text-decoration-color: #000000; background-color: #ffff00\">what</span> <span style=\"color: #000000; text-decoration-color: #000000; background-color: #ffff00\">is</span> \n",
       "<span style=\"color: #000000; text-decoration-color: #000000; background-color: #ffff00\">necessary</span> <span style=\"color: #000000; text-decoration-color: #000000; background-color: #ffff00\">for</span> lenders/potential lenders.\n",
       "</pre>\n"
      ],
      "text/plain": [
       "\u001b[30;48;2;255;255;0mExactly\u001b[0m \u001b[30;48;2;255;255;0mwhat\u001b[0m \u001b[30;48;2;255;255;0mwe\u001b[0m needed, \u001b[30;48;2;255;255;0mexactly\u001b[0m \u001b[30;48;2;255;255;0mwhat\u001b[0m was \u001b[30;48;2;255;255;0mnecessary\u001b[0m \u001b[30;48;2;255;255;0mfor\u001b[0m buy-side/sell-side, \u001b[30;48;2;255;255;0mexactly\u001b[0m \u001b[30;48;2;255;255;0mwhat\u001b[0m \u001b[30;48;2;255;255;0mis\u001b[0m \n",
       "\u001b[30;48;2;255;255;0mnecessary\u001b[0m \u001b[30;48;2;255;255;0mfor\u001b[0m lenders/potential lenders.\n"
      ]
     },
     "metadata": {},
     "output_type": "display_data"
    },
    {
     "name": "stdout",
     "output_type": "stream",
     "text": [
      "[('lenders', 0.5055), ('necessary', 0.3995), ('needed', 0.374), ('exactly', 0.3081), ('buy', 0.2949), ('sell', 0.2874), ('we', 0.2855), ('for', 0.2641), ('is', 0.2144), ('what', 0.2093)]\n"
     ]
    },
    {
     "data": {
      "text/html": [
       "<pre style=\"white-space:pre;overflow-x:auto;line-height:normal;font-family:Menlo,'DejaVu Sans Mono',consolas,'Courier New',monospace\">Given the <span style=\"color: #000000; text-decoration-color: #000000; background-color: #ffff00\">pandemic</span> and a lot of homeworking, the <span style=\"color: #000000; text-decoration-color: #000000; background-color: #ffff00\">project</span> went very well. Sometimes it would \n",
       "<span style=\"color: #000000; text-decoration-color: #000000; background-color: #ffff00\">have</span> <span style=\"color: #000000; text-decoration-color: #000000; background-color: #ffff00\">been</span> <span style=\"color: #000000; text-decoration-color: #000000; background-color: #ffff00\">easier</span> to <span style=\"color: #000000; text-decoration-color: #000000; background-color: #ffff00\">have</span> some <span style=\"color: #000000; text-decoration-color: #000000; background-color: #ffff00\">meetings</span> face to face but due to <span style=\"color: #000000; text-decoration-color: #000000; background-color: #ffff00\">government</span> restrictions this \n",
       "was not possible.\n",
       "</pre>\n"
      ],
      "text/plain": [
       "Given the \u001b[30;48;2;255;255;0mpandemic\u001b[0m and a lot of homeworking, the \u001b[30;48;2;255;255;0mproject\u001b[0m went very well. Sometimes it would \n",
       "\u001b[30;48;2;255;255;0mhave\u001b[0m \u001b[30;48;2;255;255;0mbeen\u001b[0m \u001b[30;48;2;255;255;0measier\u001b[0m to \u001b[30;48;2;255;255;0mhave\u001b[0m some \u001b[30;48;2;255;255;0mmeetings\u001b[0m face to face but due to \u001b[30;48;2;255;255;0mgovernment\u001b[0m restrictions this \n",
       "was not possible.\n"
      ]
     },
     "metadata": {},
     "output_type": "display_data"
    },
    {
     "name": "stdout",
     "output_type": "stream",
     "text": [
      "[('meetings', 0.4169), ('pandemic', 0.4115), ('project', 0.3705), ('homeworking', 0.3466), ('government', 0.2978), ('have', 0.2163), ('possible', 0.2129), ('easier', 0.1984), ('well', 0.1829), ('been', 0.1535)]\n"
     ]
    },
    {
     "data": {
      "text/html": [
       "<pre style=\"white-space:pre;overflow-x:auto;line-height:normal;font-family:Menlo,'DejaVu Sans Mono',consolas,'Courier New',monospace\">.E.g. the <span style=\"color: #000000; text-decoration-color: #000000; background-color: #ffff00\">curn</span> <span style=\"color: #000000; text-decoration-color: #000000; background-color: #ffff00\">rate</span> <span style=\"color: #000000; text-decoration-color: #000000; background-color: #ffff00\">analysis</span> was <span style=\"color: #000000; text-decoration-color: #000000; background-color: #ffff00\">shown</span> <span style=\"color: #000000; text-decoration-color: #000000; background-color: #ffff00\">live</span> on <span style=\"color: #000000; text-decoration-color: #000000; background-color: #ffff00\">screen</span> and adaptions/simulations were <span style=\"color: #000000; text-decoration-color: #000000; background-color: #ffff00\">shown</span> \n",
       "live. This was <span style=\"color: #000000; text-decoration-color: #000000; background-color: #ffff00\">impressive</span> to see.\n",
       "</pre>\n"
      ],
      "text/plain": [
       ".E.g. the \u001b[30;48;2;255;255;0mcurn\u001b[0m \u001b[30;48;2;255;255;0mrate\u001b[0m \u001b[30;48;2;255;255;0manalysis\u001b[0m was \u001b[30;48;2;255;255;0mshown\u001b[0m \u001b[30;48;2;255;255;0mlive\u001b[0m on \u001b[30;48;2;255;255;0mscreen\u001b[0m and adaptions/simulations were \u001b[30;48;2;255;255;0mshown\u001b[0m \n",
       "live. This was \u001b[30;48;2;255;255;0mimpressive\u001b[0m to see.\n"
      ]
     },
     "metadata": {},
     "output_type": "display_data"
    },
    {
     "name": "stdout",
     "output_type": "stream",
     "text": [
      "[('rate', 0.3539), ('simulations', 0.3437), ('analysis', 0.2853), ('shown', 0.2248), ('screen', 0.2112), ('live', 0.2032), ('impressive', 0.2004), ('curn', 0.1948), ('adaptions', 0.1874), ('see', 0.1349)]\n"
     ]
    },
    {
     "data": {
      "text/html": [
       "<pre style=\"white-space:pre;overflow-x:auto;line-height:normal;font-family:Menlo,'DejaVu Sans Mono',consolas,'Courier New',monospace\">In <span style=\"color: #000000; text-decoration-color: #000000; background-color: #ffff00\">the</span> <span style=\"color: #000000; text-decoration-color: #000000; background-color: #ffff00\">future</span> it <span style=\"color: #000000; text-decoration-color: #000000; background-color: #ffff00\">would</span> <span style=\"color: #000000; text-decoration-color: #000000; background-color: #ffff00\">be</span> <span style=\"color: #000000; text-decoration-color: #000000; background-color: #ffff00\">good</span> to <span style=\"color: #000000; text-decoration-color: #000000; background-color: #ffff00\">have</span> a <span style=\"color: #000000; text-decoration-color: #000000; background-color: #ffff00\">combination</span> of <span style=\"color: #000000; text-decoration-color: #000000; background-color: #ffff00\">physical</span> and <span style=\"color: #000000; text-decoration-color: #000000; background-color: #ffff00\">virtual</span> meetings.\n",
       "</pre>\n"
      ],
      "text/plain": [
       "In \u001b[30;48;2;255;255;0mthe\u001b[0m \u001b[30;48;2;255;255;0mfuture\u001b[0m it \u001b[30;48;2;255;255;0mwould\u001b[0m \u001b[30;48;2;255;255;0mbe\u001b[0m \u001b[30;48;2;255;255;0mgood\u001b[0m to \u001b[30;48;2;255;255;0mhave\u001b[0m a \u001b[30;48;2;255;255;0mcombination\u001b[0m of \u001b[30;48;2;255;255;0mphysical\u001b[0m and \u001b[30;48;2;255;255;0mvirtual\u001b[0m meetings.\n"
      ]
     },
     "metadata": {},
     "output_type": "display_data"
    },
    {
     "name": "stdout",
     "output_type": "stream",
     "text": [
      "[('meetings', 0.5478), ('virtual', 0.4824), ('future', 0.3504), ('would', 0.1528), ('good', 0.15), ('have', 0.1329), ('be', 0.1088), ('physical', 0.1034), ('combination', 0.09), ('the', 0.0831)]\n"
     ]
    },
    {
     "data": {
      "text/html": [
       "<pre style=\"white-space:pre;overflow-x:auto;line-height:normal;font-family:Menlo,'DejaVu Sans Mono',consolas,'Courier New',monospace\"><span style=\"color: #000000; text-decoration-color: #000000; background-color: #ffff00\">good</span> <span style=\"color: #000000; text-decoration-color: #000000; background-color: #ffff00\">mix</span> <span style=\"color: #000000; text-decoration-color: #000000; background-color: #ffff00\">between</span> <span style=\"color: #000000; text-decoration-color: #000000; background-color: #ffff00\">on</span> &amp; off-site interactions.\n",
       "</pre>\n"
      ],
      "text/plain": [
       "\u001b[30;48;2;255;255;0mgood\u001b[0m \u001b[30;48;2;255;255;0mmix\u001b[0m \u001b[30;48;2;255;255;0mbetween\u001b[0m \u001b[30;48;2;255;255;0mon\u001b[0m & off-site interactions.\n"
      ]
     },
     "metadata": {},
     "output_type": "display_data"
    },
    {
     "name": "stdout",
     "output_type": "stream",
     "text": [
      "[('interactions', 0.5728), ('on', 0.4495), ('site', 0.3975), ('off', 0.3828), ('between', 0.3597), ('mix', 0.2035), ('good', 0.2004)]\n"
     ]
    },
    {
     "data": {
      "text/html": [
       "<pre style=\"white-space:pre;overflow-x:auto;line-height:normal;font-family:Menlo,'DejaVu Sans Mono',consolas,'Courier New',monospace\">I think <span style=\"color: #000000; text-decoration-color: #000000; background-color: #ffff00\">we</span> have <span style=\"color: #000000; text-decoration-color: #000000; background-color: #ffff00\">demonstrated</span> the ability to <span style=\"color: #000000; text-decoration-color: #000000; background-color: #ffff00\">collaborate</span> <span style=\"color: #000000; text-decoration-color: #000000; background-color: #ffff00\">effectively</span> and deliver high <span style=\"color: #000000; text-decoration-color: #000000; background-color: #ffff00\">quality</span> \n",
       "outcomes through a 100% <span style=\"color: #000000; text-decoration-color: #000000; background-color: #ffff00\">remote</span> <span style=\"color: #000000; text-decoration-color: #000000; background-color: #ffff00\">working</span> <span style=\"color: #000000; text-decoration-color: #000000; background-color: #ffff00\">model</span> so in the context of this <span style=\"color: #000000; text-decoration-color: #000000; background-color: #ffff00\">project</span> I would look \n",
       "to continue that approach.\n",
       "</pre>\n"
      ],
      "text/plain": [
       "I think \u001b[30;48;2;255;255;0mwe\u001b[0m have \u001b[30;48;2;255;255;0mdemonstrated\u001b[0m the ability to \u001b[30;48;2;255;255;0mcollaborate\u001b[0m \u001b[30;48;2;255;255;0meffectively\u001b[0m and deliver high \u001b[30;48;2;255;255;0mquality\u001b[0m \n",
       "outcomes through a 100% \u001b[30;48;2;255;255;0mremote\u001b[0m \u001b[30;48;2;255;255;0mworking\u001b[0m \u001b[30;48;2;255;255;0mmodel\u001b[0m so in the context of this \u001b[30;48;2;255;255;0mproject\u001b[0m I would look \n",
       "to continue that approach.\n"
      ]
     },
     "metadata": {},
     "output_type": "display_data"
    },
    {
     "name": "stdout",
     "output_type": "stream",
     "text": [
      "[('collaborate', 0.5018), ('project', 0.3515), ('remote', 0.3175), ('approach', 0.3165), ('working', 0.2844), ('we', 0.2626), ('quality', 0.2482), ('effectively', 0.2441), ('model', 0.2413), ('demonstrated', 0.2309)]\n"
     ]
    },
    {
     "data": {
      "text/html": [
       "<pre style=\"white-space:pre;overflow-x:auto;line-height:normal;font-family:Menlo,'DejaVu Sans Mono',consolas,'Courier New',monospace\"><span style=\"color: #000000; text-decoration-color: #000000; background-color: #ffff00\">The</span> <span style=\"color: #000000; text-decoration-color: #000000; background-color: #ffff00\">experience</span> around <span style=\"color: #000000; text-decoration-color: #000000; background-color: #ffff00\">the</span> <span style=\"color: #000000; text-decoration-color: #000000; background-color: #ffff00\">Unity</span> <span style=\"color: #000000; text-decoration-color: #000000; background-color: #ffff00\">package</span> that <span style=\"color: #000000; text-decoration-color: #000000; background-color: #ffff00\">the</span> <span style=\"color: #000000; text-decoration-color: #000000; background-color: #ffff00\">Belgium</span> <span style=\"color: #000000; text-decoration-color: #000000; background-color: #ffff00\">firm</span> brought was <span style=\"color: #000000; text-decoration-color: #000000; background-color: #ffff00\">essential</span> to <span style=\"color: #000000; text-decoration-color: #000000; background-color: #ffff00\">the</span> \n",
       "<span style=\"color: #000000; text-decoration-color: #000000; background-color: #ffff00\">successful</span> <span style=\"color: #000000; text-decoration-color: #000000; background-color: #ffff00\">delivery</span> of <span style=\"color: #000000; text-decoration-color: #000000; background-color: #ffff00\">the</span> engagement.\n",
       "</pre>\n"
      ],
      "text/plain": [
       "\u001b[30;48;2;255;255;0mThe\u001b[0m \u001b[30;48;2;255;255;0mexperience\u001b[0m around \u001b[30;48;2;255;255;0mthe\u001b[0m \u001b[30;48;2;255;255;0mUnity\u001b[0m \u001b[30;48;2;255;255;0mpackage\u001b[0m that \u001b[30;48;2;255;255;0mthe\u001b[0m \u001b[30;48;2;255;255;0mBelgium\u001b[0m \u001b[30;48;2;255;255;0mfirm\u001b[0m brought was \u001b[30;48;2;255;255;0messential\u001b[0m to \u001b[30;48;2;255;255;0mthe\u001b[0m \n",
       "\u001b[30;48;2;255;255;0msuccessful\u001b[0m \u001b[30;48;2;255;255;0mdelivery\u001b[0m of \u001b[30;48;2;255;255;0mthe\u001b[0m engagement.\n"
      ]
     },
     "metadata": {},
     "output_type": "display_data"
    },
    {
     "name": "stdout",
     "output_type": "stream",
     "text": [
      "[('engagement', 0.405), ('unity', 0.3772), ('belgium', 0.3685), ('delivery', 0.3071), ('experience', 0.3047), ('successful', 0.2903), ('package', 0.2821), ('firm', 0.2428), ('essential', 0.2336), ('the', 0.1528)]\n"
     ]
    },
    {
     "data": {
      "text/html": [
       "<pre style=\"white-space:pre;overflow-x:auto;line-height:normal;font-family:Menlo,'DejaVu Sans Mono',consolas,'Courier New',monospace\">OUI, l'équipe a montré <span style=\"color: #000000; text-decoration-color: #000000; background-color: #ffff00\">une</span> grande <span style=\"color: #000000; text-decoration-color: #000000; background-color: #ffff00\">ouverture</span> d'esprit et a <span style=\"color: #000000; text-decoration-color: #000000; background-color: #ffff00\">su</span> adapter sa <span style=\"color: #000000; text-decoration-color: #000000; background-color: #ffff00\">méthodologie</span> pour \n",
       "satisfaire <span style=\"color: #000000; text-decoration-color: #000000; background-color: #ffff00\">nos</span> <span style=\"color: #000000; text-decoration-color: #000000; background-color: #ffff00\">besoins</span> <span style=\"color: #000000; text-decoration-color: #000000; background-color: #ffff00\">notamment</span> sur le transfert de <span style=\"color: #000000; text-decoration-color: #000000; background-color: #ffff00\">connaissance</span>\n",
       "</pre>\n"
      ],
      "text/plain": [
       "OUI, l'équipe a montré \u001b[30;48;2;255;255;0mune\u001b[0m grande \u001b[30;48;2;255;255;0mouverture\u001b[0m d'esprit et a \u001b[30;48;2;255;255;0msu\u001b[0m adapter sa \u001b[30;48;2;255;255;0mméthodologie\u001b[0m pour \n",
       "satisfaire \u001b[30;48;2;255;255;0mnos\u001b[0m \u001b[30;48;2;255;255;0mbesoins\u001b[0m \u001b[30;48;2;255;255;0mnotamment\u001b[0m sur le transfert de \u001b[30;48;2;255;255;0mconnaissance\u001b[0m\n"
      ]
     },
     "metadata": {},
     "output_type": "display_data"
    },
    {
     "name": "stdout",
     "output_type": "stream",
     "text": [
      "[('équipe', 0.4279), ('connaissance', 0.3516), ('méthodologie', 0.3188), ('notamment', 0.3088), ('ouverture', 0.291), ('esprit', 0.2674), ('besoins', 0.2257), ('une', 0.2198), ('su', 0.2189), ('nos', 0.1999)]\n"
     ]
    },
    {
     "data": {
      "text/html": [
       "<pre style=\"white-space:pre;overflow-x:auto;line-height:normal;font-family:Menlo,'DejaVu Sans Mono',consolas,'Courier New',monospace\">L'utilisation de <span style=\"color: #000000; text-decoration-color: #000000; background-color: #ffff00\">canaux</span> de <span style=\"color: #000000; text-decoration-color: #000000; background-color: #ffff00\">communications</span> plsu <span style=\"color: #000000; text-decoration-color: #000000; background-color: #ffff00\">directs</span> et réactifs type <span style=\"color: #000000; text-decoration-color: #000000; background-color: #ffff00\">chat</span> peut s'avérer \n",
       "plus <span style=\"color: #000000; text-decoration-color: #000000; background-color: #ffff00\">utile</span> que les <span style=\"color: #000000; text-decoration-color: #000000; background-color: #ffff00\">mails</span> ou des <span style=\"color: #000000; text-decoration-color: #000000; background-color: #ffff00\">réunions</span> dans <span style=\"color: #000000; text-decoration-color: #000000; background-color: #ffff00\">certaines</span> circonstances, pour un certain nombre\n",
       "de type de missions.\n",
       "</pre>\n"
      ],
      "text/plain": [
       "L'utilisation de \u001b[30;48;2;255;255;0mcanaux\u001b[0m de \u001b[30;48;2;255;255;0mcommunications\u001b[0m plsu \u001b[30;48;2;255;255;0mdirects\u001b[0m et réactifs type \u001b[30;48;2;255;255;0mchat\u001b[0m peut s'avérer \n",
       "plus \u001b[30;48;2;255;255;0mutile\u001b[0m que les \u001b[30;48;2;255;255;0mmails\u001b[0m ou des \u001b[30;48;2;255;255;0mréunions\u001b[0m dans \u001b[30;48;2;255;255;0mcertaines\u001b[0m circonstances, pour un certain nombre\n",
       "de type de missions.\n"
      ]
     },
     "metadata": {},
     "output_type": "display_data"
    },
    {
     "name": "stdout",
     "output_type": "stream",
     "text": [
      "[('communications', 0.5259), ('mails', 0.3567), ('chat', 0.3469), ('réunions', 0.3123), ('utilisation', 0.265), ('missions', 0.2636), ('utile', 0.2554), ('directs', 0.2351), ('certaines', 0.2221), ('canaux', 0.1854)]\n"
     ]
    },
    {
     "data": {
      "text/html": [
       "<pre style=\"white-space:pre;overflow-x:auto;line-height:normal;font-family:Menlo,'DejaVu Sans Mono',consolas,'Courier New',monospace\">L'équipe a <span style=\"color: #000000; text-decoration-color: #000000; background-color: #ffff00\">toujours</span> été <span style=\"color: #000000; text-decoration-color: #000000; background-color: #ffff00\">très</span> <span style=\"color: #000000; text-decoration-color: #000000; background-color: #ffff00\">réactive</span> <span style=\"color: #000000; text-decoration-color: #000000; background-color: #ffff00\">et</span> a montré <span style=\"color: #000000; text-decoration-color: #000000; background-color: #ffff00\">un</span> <span style=\"color: #000000; text-decoration-color: #000000; background-color: #ffff00\">niveau</span> <span style=\"color: #000000; text-decoration-color: #000000; background-color: #ffff00\">exceptionnel</span> <span style=\"color: #000000; text-decoration-color: #000000; background-color: #ffff00\">de</span> <span style=\"color: #000000; text-decoration-color: #000000; background-color: #ffff00\">flexibilité</span>\n",
       "</pre>\n"
      ],
      "text/plain": [
       "L'équipe a \u001b[30;48;2;255;255;0mtoujours\u001b[0m été \u001b[30;48;2;255;255;0mtrès\u001b[0m \u001b[30;48;2;255;255;0mréactive\u001b[0m \u001b[30;48;2;255;255;0met\u001b[0m a montré \u001b[30;48;2;255;255;0mun\u001b[0m \u001b[30;48;2;255;255;0mniveau\u001b[0m \u001b[30;48;2;255;255;0mexceptionnel\u001b[0m \u001b[30;48;2;255;255;0mde\u001b[0m \u001b[30;48;2;255;255;0mflexibilité\u001b[0m\n"
      ]
     },
     "metadata": {},
     "output_type": "display_data"
    },
    {
     "name": "stdout",
     "output_type": "stream",
     "text": [
      "[('flexibilité', 0.3764), ('équipe', 0.3108), ('réactive', 0.1488), ('exceptionnel', 0.1413), ('toujours', 0.1185), ('niveau', 0.035), ('un', -0.0084), ('très', -0.0182), ('et', -0.0205), ('de', -0.0231)]\n"
     ]
    },
    {
     "data": {
      "text/html": [
       "<pre style=\"white-space:pre;overflow-x:auto;line-height:normal;font-family:Menlo,'DejaVu Sans Mono',consolas,'Courier New',monospace\"><span style=\"color: #000000; text-decoration-color: #000000; background-color: #ffff00\">Deloitte</span> a <span style=\"color: #000000; text-decoration-color: #000000; background-color: #ffff00\">notamment</span> <span style=\"color: #000000; text-decoration-color: #000000; background-color: #ffff00\">notamment</span> <span style=\"color: #000000; text-decoration-color: #000000; background-color: #ffff00\">fourni</span> des <span style=\"color: #000000; text-decoration-color: #000000; background-color: #ffff00\">outils</span> <span style=\"color: #000000; text-decoration-color: #000000; background-color: #ffff00\">pratiques</span> qui ont été expliqués pour \n",
       "<span style=\"color: #000000; text-decoration-color: #000000; background-color: #ffff00\">faciliter</span> la prise en main. L'utilité d'un des deux <span style=\"color: #000000; text-decoration-color: #000000; background-color: #ffff00\">outils</span> reste néanmoins incertaine. Le \n",
       "<span style=\"color: #000000; text-decoration-color: #000000; background-color: #ffff00\">rapport</span> lui a été <span style=\"color: #000000; text-decoration-color: #000000; background-color: #ffff00\">adapté</span> pour nous permettre de l'utiliser au maximum.\n",
       "</pre>\n"
      ],
      "text/plain": [
       "\u001b[30;48;2;255;255;0mDeloitte\u001b[0m a \u001b[30;48;2;255;255;0mnotamment\u001b[0m \u001b[30;48;2;255;255;0mnotamment\u001b[0m \u001b[30;48;2;255;255;0mfourni\u001b[0m des \u001b[30;48;2;255;255;0moutils\u001b[0m \u001b[30;48;2;255;255;0mpratiques\u001b[0m qui ont été expliqués pour \n",
       "\u001b[30;48;2;255;255;0mfaciliter\u001b[0m la prise en main. L'utilité d'un des deux \u001b[30;48;2;255;255;0moutils\u001b[0m reste néanmoins incertaine. Le \n",
       "\u001b[30;48;2;255;255;0mrapport\u001b[0m lui a été \u001b[30;48;2;255;255;0madapté\u001b[0m pour nous permettre de l'utiliser au maximum.\n"
      ]
     },
     "metadata": {},
     "output_type": "display_data"
    },
    {
     "name": "stdout",
     "output_type": "stream",
     "text": [
      "[('outils', 0.4595), ('pratiques', 0.3396), ('rapport', 0.3255), ('adapté', 0.3247), ('utilité', 0.316), ('notamment', 0.3032), ('deloitte', 0.3006), ('utiliser', 0.2997), ('fourni', 0.2653), ('faciliter', 0.2618)]\n"
     ]
    },
    {
     "data": {
      "text/html": [
       "<pre style=\"white-space:pre;overflow-x:auto;line-height:normal;font-family:Menlo,'DejaVu Sans Mono',consolas,'Courier New',monospace\">OUI, <span style=\"color: #000000; text-decoration-color: #000000; background-color: #ffff00\">même</span> <span style=\"color: #000000; text-decoration-color: #000000; background-color: #ffff00\">au</span> <span style=\"color: #000000; text-decoration-color: #000000; background-color: #ffff00\">delà</span> <span style=\"color: #000000; text-decoration-color: #000000; background-color: #ffff00\">de</span> <span style=\"color: #000000; text-decoration-color: #000000; background-color: #ffff00\">nos</span> <span style=\"color: #000000; text-decoration-color: #000000; background-color: #ffff00\">espérances</span>\n",
       "</pre>\n"
      ],
      "text/plain": [
       "OUI, \u001b[30;48;2;255;255;0mmême\u001b[0m \u001b[30;48;2;255;255;0mau\u001b[0m \u001b[30;48;2;255;255;0mdelà\u001b[0m \u001b[30;48;2;255;255;0mde\u001b[0m \u001b[30;48;2;255;255;0mnos\u001b[0m \u001b[30;48;2;255;255;0mespérances\u001b[0m\n"
      ]
     },
     "metadata": {},
     "output_type": "display_data"
    },
    {
     "name": "stdout",
     "output_type": "stream",
     "text": [
      "[('espérances', 0.6353), ('même', 0.6038), ('oui', 0.5364), ('delà', 0.4932), ('nos', 0.3891), ('de', 0.3536), ('au', 0.3172)]\n"
     ]
    },
    {
     "data": {
      "text/html": [
       "<pre style=\"white-space:pre;overflow-x:auto;line-height:normal;font-family:Menlo,'DejaVu Sans Mono',consolas,'Courier New',monospace\">Je n'hésiterais pas <span style=\"color: #000000; text-decoration-color: #000000; background-color: #ffff00\">une</span> <span style=\"color: #000000; text-decoration-color: #000000; background-color: #ffff00\">seule</span> <span style=\"color: #000000; text-decoration-color: #000000; background-color: #ffff00\">seconde</span> à <span style=\"color: #000000; text-decoration-color: #000000; background-color: #ffff00\">retravailler</span> <span style=\"color: #000000; text-decoration-color: #000000; background-color: #ffff00\">avec</span> la <span style=\"color: #000000; text-decoration-color: #000000; background-color: #ffff00\">même</span> <span style=\"color: #000000; text-decoration-color: #000000; background-color: #ffff00\">équipe</span> <span style=\"color: #000000; text-decoration-color: #000000; background-color: #ffff00\">si</span> l'occasion se \n",
       "<span style=\"color: #000000; text-decoration-color: #000000; background-color: #ffff00\">présentait</span>\n",
       "</pre>\n"
      ],
      "text/plain": [
       "Je n'hésiterais pas \u001b[30;48;2;255;255;0mune\u001b[0m \u001b[30;48;2;255;255;0mseule\u001b[0m \u001b[30;48;2;255;255;0mseconde\u001b[0m à \u001b[30;48;2;255;255;0mretravailler\u001b[0m \u001b[30;48;2;255;255;0mavec\u001b[0m la \u001b[30;48;2;255;255;0mmême\u001b[0m \u001b[30;48;2;255;255;0méquipe\u001b[0m \u001b[30;48;2;255;255;0msi\u001b[0m l'occasion se \n",
       "\u001b[30;48;2;255;255;0mprésentait\u001b[0m\n"
      ]
     },
     "metadata": {},
     "output_type": "display_data"
    },
    {
     "name": "stdout",
     "output_type": "stream",
     "text": [
      "[('équipe', 0.442), ('hésiterais', 0.4137), ('seule', 0.28), ('seconde', 0.249), ('même', 0.224), ('une', 0.1785), ('présentait', 0.1755), ('retravailler', 0.1637), ('avec', 0.1606), ('si', 0.1563)]\n"
     ]
    },
    {
     "data": {
      "text/html": [
       "<pre style=\"white-space:pre;overflow-x:auto;line-height:normal;font-family:Menlo,'DejaVu Sans Mono',consolas,'Courier New',monospace\">OUI <span style=\"color: #000000; text-decoration-color: #000000; background-color: #ffff00\">Deloitte</span> <span style=\"color: #000000; text-decoration-color: #000000; background-color: #ffff00\">maîtrise</span> les <span style=\"color: #000000; text-decoration-color: #000000; background-color: #ffff00\">outils</span> a <span style=\"color: #000000; text-decoration-color: #000000; background-color: #ffff00\">distance</span> et a su mener à bien cette <span style=\"color: #000000; text-decoration-color: #000000; background-color: #ffff00\">mission</span> <span style=\"color: #000000; text-decoration-color: #000000; background-color: #ffff00\">malgré</span> <span style=\"color: #000000; text-decoration-color: #000000; background-color: #ffff00\">le</span> \n",
       "<span style=\"color: #000000; text-decoration-color: #000000; background-color: #ffff00\">contexte</span> <span style=\"color: #000000; text-decoration-color: #000000; background-color: #ffff00\">sanitaire</span> difficile.\n",
       "</pre>\n"
      ],
      "text/plain": [
       "OUI \u001b[30;48;2;255;255;0mDeloitte\u001b[0m \u001b[30;48;2;255;255;0mmaîtrise\u001b[0m les \u001b[30;48;2;255;255;0moutils\u001b[0m a \u001b[30;48;2;255;255;0mdistance\u001b[0m et a su mener à bien cette \u001b[30;48;2;255;255;0mmission\u001b[0m \u001b[30;48;2;255;255;0mmalgré\u001b[0m \u001b[30;48;2;255;255;0mle\u001b[0m \n",
       "\u001b[30;48;2;255;255;0mcontexte\u001b[0m \u001b[30;48;2;255;255;0msanitaire\u001b[0m difficile.\n"
      ]
     },
     "metadata": {},
     "output_type": "display_data"
    },
    {
     "name": "stdout",
     "output_type": "stream",
     "text": [
      "[('deloitte', 0.3159), ('outils', 0.3125), ('distance', 0.2695), ('sanitaire', 0.2415), ('maîtrise', 0.2372), ('difficile', 0.2141), ('mission', 0.1873), ('malgré', 0.1573), ('le', 0.1553), ('contexte', 0.133)]\n"
     ]
    }
   ],
   "source": [
    "df[\"ER_Keyword\"] = df[\"ERA_QuestionComment\"].apply(Keywords)"
   ]
  },
  {
   "cell_type": "markdown",
   "id": "bf478afd",
   "metadata": {},
   "source": [
    "### Clean the output"
   ]
  },
  {
   "cell_type": "markdown",
   "id": "c96f53ad",
   "metadata": {},
   "source": [
    "takes each keyword and put it into its own row:"
   ]
  },
  {
   "cell_type": "code",
   "execution_count": 7,
   "id": "45826fc1",
   "metadata": {
    "scrolled": true
   },
   "outputs": [],
   "source": [
    "df = df.explode('ER_Keyword', ignore_index=True)\n",
    "df = df.explode('ER_Keyword', ignore_index=True)"
   ]
  },
  {
   "cell_type": "markdown",
   "id": "0a39eae4",
   "metadata": {},
   "source": [
    "Deltetes every other row (ever other row contains the relevance score - note needed):"
   ]
  },
  {
   "cell_type": "code",
   "execution_count": 8,
   "id": "ecbad3d3",
   "metadata": {},
   "outputs": [],
   "source": [
    "df = df.iloc[::2]"
   ]
  },
  {
   "cell_type": "code",
   "execution_count": 9,
   "id": "2c467a25",
   "metadata": {
    "scrolled": true
   },
   "outputs": [
    {
     "data": {
      "text/html": [
       "<div>\n",
       "<style scoped>\n",
       "    .dataframe tbody tr th:only-of-type {\n",
       "        vertical-align: middle;\n",
       "    }\n",
       "\n",
       "    .dataframe tbody tr th {\n",
       "        vertical-align: top;\n",
       "    }\n",
       "\n",
       "    .dataframe thead th {\n",
       "        text-align: right;\n",
       "    }\n",
       "</style>\n",
       "<table border=\"1\" class=\"dataframe\">\n",
       "  <thead>\n",
       "    <tr style=\"text-align: right;\">\n",
       "      <th></th>\n",
       "      <th>%ERQuestionKey</th>\n",
       "      <th>ERA_QuestionComment</th>\n",
       "      <th>ER_Keyword</th>\n",
       "    </tr>\n",
       "  </thead>\n",
       "  <tbody>\n",
       "    <tr>\n",
       "      <th>0</th>\n",
       "      <td>112/7557</td>\n",
       "      <td>Same. Face to face meeting followed by efficie...</td>\n",
       "      <td>meetings</td>\n",
       "    </tr>\n",
       "    <tr>\n",
       "      <th>2</th>\n",
       "      <td>112/7557</td>\n",
       "      <td>Same. Face to face meeting followed by efficie...</td>\n",
       "      <td>meeting</td>\n",
       "    </tr>\n",
       "    <tr>\n",
       "      <th>4</th>\n",
       "      <td>112/7557</td>\n",
       "      <td>Same. Face to face meeting followed by efficie...</td>\n",
       "      <td>teams</td>\n",
       "    </tr>\n",
       "    <tr>\n",
       "      <th>6</th>\n",
       "      <td>112/7557</td>\n",
       "      <td>Same. Face to face meeting followed by efficie...</td>\n",
       "      <td>efficient</td>\n",
       "    </tr>\n",
       "    <tr>\n",
       "      <th>8</th>\n",
       "      <td>112/7557</td>\n",
       "      <td>Same. Face to face meeting followed by efficie...</td>\n",
       "      <td>face</td>\n",
       "    </tr>\n",
       "    <tr>\n",
       "      <th>10</th>\n",
       "      <td>112/7557</td>\n",
       "      <td>Same. Face to face meeting followed by efficie...</td>\n",
       "      <td>same</td>\n",
       "    </tr>\n",
       "    <tr>\n",
       "      <th>12</th>\n",
       "      <td>112/7557</td>\n",
       "      <td>Same. Face to face meeting followed by efficie...</td>\n",
       "      <td>followed</td>\n",
       "    </tr>\n",
       "    <tr>\n",
       "      <th>14</th>\n",
       "      <td>112/7557</td>\n",
       "      <td>Same. Face to face meeting followed by efficie...</td>\n",
       "      <td>to</td>\n",
       "    </tr>\n",
       "    <tr>\n",
       "      <th>16</th>\n",
       "      <td>112/7557</td>\n",
       "      <td>Same. Face to face meeting followed by efficie...</td>\n",
       "      <td>by</td>\n",
       "    </tr>\n",
       "    <tr>\n",
       "      <th>18</th>\n",
       "      <td>2/7549</td>\n",
       "      <td>project was split in 2 phases: onboarding 2 ex...</td>\n",
       "      <td>exco</td>\n",
       "    </tr>\n",
       "    <tr>\n",
       "      <th>20</th>\n",
       "      <td>2/7549</td>\n",
       "      <td>project was split in 2 phases: onboarding 2 ex...</td>\n",
       "      <td>project</td>\n",
       "    </tr>\n",
       "    <tr>\n",
       "      <th>22</th>\n",
       "      <td>2/7549</td>\n",
       "      <td>project was split in 2 phases: onboarding 2 ex...</td>\n",
       "      <td>pilot</td>\n",
       "    </tr>\n",
       "    <tr>\n",
       "      <th>24</th>\n",
       "      <td>2/7549</td>\n",
       "      <td>project was split in 2 phases: onboarding 2 ex...</td>\n",
       "      <td>reasins</td>\n",
       "    </tr>\n",
       "    <tr>\n",
       "      <th>26</th>\n",
       "      <td>2/7549</td>\n",
       "      <td>project was split in 2 phases: onboarding 2 ex...</td>\n",
       "      <td>onboarding</td>\n",
       "    </tr>\n",
       "    <tr>\n",
       "      <th>28</th>\n",
       "      <td>2/7549</td>\n",
       "      <td>project was split in 2 phases: onboarding 2 ex...</td>\n",
       "      <td>phases</td>\n",
       "    </tr>\n",
       "    <tr>\n",
       "      <th>30</th>\n",
       "      <td>2/7549</td>\n",
       "      <td>project was split in 2 phases: onboarding 2 ex...</td>\n",
       "      <td>organisation</td>\n",
       "    </tr>\n",
       "    <tr>\n",
       "      <th>32</th>\n",
       "      <td>2/7549</td>\n",
       "      <td>project was split in 2 phases: onboarding 2 ex...</td>\n",
       "      <td>results</td>\n",
       "    </tr>\n",
       "    <tr>\n",
       "      <th>34</th>\n",
       "      <td>2/7549</td>\n",
       "      <td>project was split in 2 phases: onboarding 2 ex...</td>\n",
       "      <td>running</td>\n",
       "    </tr>\n",
       "    <tr>\n",
       "      <th>36</th>\n",
       "      <td>2/7549</td>\n",
       "      <td>project was split in 2 phases: onboarding 2 ex...</td>\n",
       "      <td>split</td>\n",
       "    </tr>\n",
       "    <tr>\n",
       "      <th>38</th>\n",
       "      <td>11/7549</td>\n",
       "      <td>working @ distance is not obvious, certainly n...</td>\n",
       "      <td>collaboration</td>\n",
       "    </tr>\n",
       "  </tbody>\n",
       "</table>\n",
       "</div>"
      ],
      "text/plain": [
       "   %ERQuestionKey                                ERA_QuestionComment  \\\n",
       "0        112/7557  Same. Face to face meeting followed by efficie...   \n",
       "2        112/7557  Same. Face to face meeting followed by efficie...   \n",
       "4        112/7557  Same. Face to face meeting followed by efficie...   \n",
       "6        112/7557  Same. Face to face meeting followed by efficie...   \n",
       "8        112/7557  Same. Face to face meeting followed by efficie...   \n",
       "10       112/7557  Same. Face to face meeting followed by efficie...   \n",
       "12       112/7557  Same. Face to face meeting followed by efficie...   \n",
       "14       112/7557  Same. Face to face meeting followed by efficie...   \n",
       "16       112/7557  Same. Face to face meeting followed by efficie...   \n",
       "18         2/7549  project was split in 2 phases: onboarding 2 ex...   \n",
       "20         2/7549  project was split in 2 phases: onboarding 2 ex...   \n",
       "22         2/7549  project was split in 2 phases: onboarding 2 ex...   \n",
       "24         2/7549  project was split in 2 phases: onboarding 2 ex...   \n",
       "26         2/7549  project was split in 2 phases: onboarding 2 ex...   \n",
       "28         2/7549  project was split in 2 phases: onboarding 2 ex...   \n",
       "30         2/7549  project was split in 2 phases: onboarding 2 ex...   \n",
       "32         2/7549  project was split in 2 phases: onboarding 2 ex...   \n",
       "34         2/7549  project was split in 2 phases: onboarding 2 ex...   \n",
       "36         2/7549  project was split in 2 phases: onboarding 2 ex...   \n",
       "38        11/7549  working @ distance is not obvious, certainly n...   \n",
       "\n",
       "       ER_Keyword  \n",
       "0        meetings  \n",
       "2         meeting  \n",
       "4           teams  \n",
       "6       efficient  \n",
       "8            face  \n",
       "10           same  \n",
       "12       followed  \n",
       "14             to  \n",
       "16             by  \n",
       "18           exco  \n",
       "20        project  \n",
       "22          pilot  \n",
       "24        reasins  \n",
       "26     onboarding  \n",
       "28         phases  \n",
       "30   organisation  \n",
       "32        results  \n",
       "34        running  \n",
       "36          split  \n",
       "38  collaboration  "
      ]
     },
     "execution_count": 9,
     "metadata": {},
     "output_type": "execute_result"
    }
   ],
   "source": [
    "df.head(20)"
   ]
  },
  {
   "cell_type": "markdown",
   "id": "3c892a49",
   "metadata": {},
   "source": [
    "Removes all (most likely non-relevant) keywords that are 3 characters or less:"
   ]
  },
  {
   "cell_type": "code",
   "execution_count": 10,
   "id": "9ffc06d8",
   "metadata": {},
   "outputs": [],
   "source": [
    "df['ER_Keyword'] = df['ER_Keyword'].astype('str')\n",
    "mask = (df['ER_Keyword'].str.len() >= 4)\n",
    "df = df.loc[mask]"
   ]
  },
  {
   "cell_type": "code",
   "execution_count": 11,
   "id": "49a73e7e",
   "metadata": {},
   "outputs": [
    {
     "data": {
      "text/html": [
       "<div>\n",
       "<style scoped>\n",
       "    .dataframe tbody tr th:only-of-type {\n",
       "        vertical-align: middle;\n",
       "    }\n",
       "\n",
       "    .dataframe tbody tr th {\n",
       "        vertical-align: top;\n",
       "    }\n",
       "\n",
       "    .dataframe thead th {\n",
       "        text-align: right;\n",
       "    }\n",
       "</style>\n",
       "<table border=\"1\" class=\"dataframe\">\n",
       "  <thead>\n",
       "    <tr style=\"text-align: right;\">\n",
       "      <th></th>\n",
       "      <th>%ERQuestionKey</th>\n",
       "      <th>ERA_QuestionComment</th>\n",
       "      <th>ER_Keyword</th>\n",
       "    </tr>\n",
       "  </thead>\n",
       "  <tbody>\n",
       "    <tr>\n",
       "      <th>0</th>\n",
       "      <td>112/7557</td>\n",
       "      <td>Same. Face to face meeting followed by efficie...</td>\n",
       "      <td>meetings</td>\n",
       "    </tr>\n",
       "    <tr>\n",
       "      <th>2</th>\n",
       "      <td>112/7557</td>\n",
       "      <td>Same. Face to face meeting followed by efficie...</td>\n",
       "      <td>meeting</td>\n",
       "    </tr>\n",
       "    <tr>\n",
       "      <th>4</th>\n",
       "      <td>112/7557</td>\n",
       "      <td>Same. Face to face meeting followed by efficie...</td>\n",
       "      <td>teams</td>\n",
       "    </tr>\n",
       "    <tr>\n",
       "      <th>6</th>\n",
       "      <td>112/7557</td>\n",
       "      <td>Same. Face to face meeting followed by efficie...</td>\n",
       "      <td>efficient</td>\n",
       "    </tr>\n",
       "    <tr>\n",
       "      <th>8</th>\n",
       "      <td>112/7557</td>\n",
       "      <td>Same. Face to face meeting followed by efficie...</td>\n",
       "      <td>face</td>\n",
       "    </tr>\n",
       "    <tr>\n",
       "      <th>10</th>\n",
       "      <td>112/7557</td>\n",
       "      <td>Same. Face to face meeting followed by efficie...</td>\n",
       "      <td>same</td>\n",
       "    </tr>\n",
       "    <tr>\n",
       "      <th>12</th>\n",
       "      <td>112/7557</td>\n",
       "      <td>Same. Face to face meeting followed by efficie...</td>\n",
       "      <td>followed</td>\n",
       "    </tr>\n",
       "    <tr>\n",
       "      <th>18</th>\n",
       "      <td>2/7549</td>\n",
       "      <td>project was split in 2 phases: onboarding 2 ex...</td>\n",
       "      <td>exco</td>\n",
       "    </tr>\n",
       "    <tr>\n",
       "      <th>20</th>\n",
       "      <td>2/7549</td>\n",
       "      <td>project was split in 2 phases: onboarding 2 ex...</td>\n",
       "      <td>project</td>\n",
       "    </tr>\n",
       "    <tr>\n",
       "      <th>22</th>\n",
       "      <td>2/7549</td>\n",
       "      <td>project was split in 2 phases: onboarding 2 ex...</td>\n",
       "      <td>pilot</td>\n",
       "    </tr>\n",
       "    <tr>\n",
       "      <th>24</th>\n",
       "      <td>2/7549</td>\n",
       "      <td>project was split in 2 phases: onboarding 2 ex...</td>\n",
       "      <td>reasins</td>\n",
       "    </tr>\n",
       "    <tr>\n",
       "      <th>26</th>\n",
       "      <td>2/7549</td>\n",
       "      <td>project was split in 2 phases: onboarding 2 ex...</td>\n",
       "      <td>onboarding</td>\n",
       "    </tr>\n",
       "    <tr>\n",
       "      <th>28</th>\n",
       "      <td>2/7549</td>\n",
       "      <td>project was split in 2 phases: onboarding 2 ex...</td>\n",
       "      <td>phases</td>\n",
       "    </tr>\n",
       "    <tr>\n",
       "      <th>30</th>\n",
       "      <td>2/7549</td>\n",
       "      <td>project was split in 2 phases: onboarding 2 ex...</td>\n",
       "      <td>organisation</td>\n",
       "    </tr>\n",
       "    <tr>\n",
       "      <th>32</th>\n",
       "      <td>2/7549</td>\n",
       "      <td>project was split in 2 phases: onboarding 2 ex...</td>\n",
       "      <td>results</td>\n",
       "    </tr>\n",
       "    <tr>\n",
       "      <th>34</th>\n",
       "      <td>2/7549</td>\n",
       "      <td>project was split in 2 phases: onboarding 2 ex...</td>\n",
       "      <td>running</td>\n",
       "    </tr>\n",
       "    <tr>\n",
       "      <th>36</th>\n",
       "      <td>2/7549</td>\n",
       "      <td>project was split in 2 phases: onboarding 2 ex...</td>\n",
       "      <td>split</td>\n",
       "    </tr>\n",
       "    <tr>\n",
       "      <th>38</th>\n",
       "      <td>11/7549</td>\n",
       "      <td>working @ distance is not obvious, certainly n...</td>\n",
       "      <td>collaboration</td>\n",
       "    </tr>\n",
       "    <tr>\n",
       "      <th>40</th>\n",
       "      <td>11/7549</td>\n",
       "      <td>working @ distance is not obvious, certainly n...</td>\n",
       "      <td>distance</td>\n",
       "    </tr>\n",
       "    <tr>\n",
       "      <th>42</th>\n",
       "      <td>11/7549</td>\n",
       "      <td>working @ distance is not obvious, certainly n...</td>\n",
       "      <td>teams</td>\n",
       "    </tr>\n",
       "    <tr>\n",
       "      <th>44</th>\n",
       "      <td>11/7549</td>\n",
       "      <td>working @ distance is not obvious, certainly n...</td>\n",
       "      <td>project</td>\n",
       "    </tr>\n",
       "    <tr>\n",
       "      <th>46</th>\n",
       "      <td>11/7549</td>\n",
       "      <td>working @ distance is not obvious, certainly n...</td>\n",
       "      <td>working</td>\n",
       "    </tr>\n",
       "    <tr>\n",
       "      <th>48</th>\n",
       "      <td>11/7549</td>\n",
       "      <td>working @ distance is not obvious, certainly n...</td>\n",
       "      <td>between</td>\n",
       "    </tr>\n",
       "    <tr>\n",
       "      <th>52</th>\n",
       "      <td>11/7549</td>\n",
       "      <td>working @ distance is not obvious, certainly n...</td>\n",
       "      <td>where</td>\n",
       "    </tr>\n",
       "    <tr>\n",
       "      <th>58</th>\n",
       "      <td>112/7549</td>\n",
       "      <td>physical meetings, making Agile work in a norm...</td>\n",
       "      <td>collaboration</td>\n",
       "    </tr>\n",
       "    <tr>\n",
       "      <th>60</th>\n",
       "      <td>112/7549</td>\n",
       "      <td>physical meetings, making Agile work in a norm...</td>\n",
       "      <td>meetings</td>\n",
       "    </tr>\n",
       "    <tr>\n",
       "      <th>62</th>\n",
       "      <td>112/7549</td>\n",
       "      <td>physical meetings, making Agile work in a norm...</td>\n",
       "      <td>agile</td>\n",
       "    </tr>\n",
       "    <tr>\n",
       "      <th>64</th>\n",
       "      <td>112/7549</td>\n",
       "      <td>physical meetings, making Agile work in a norm...</td>\n",
       "      <td>work</td>\n",
       "    </tr>\n",
       "    <tr>\n",
       "      <th>66</th>\n",
       "      <td>112/7549</td>\n",
       "      <td>physical meetings, making Agile work in a norm...</td>\n",
       "      <td>working</td>\n",
       "    </tr>\n",
       "    <tr>\n",
       "      <th>68</th>\n",
       "      <td>112/7549</td>\n",
       "      <td>physical meetings, making Agile work in a norm...</td>\n",
       "      <td>environment</td>\n",
       "    </tr>\n",
       "  </tbody>\n",
       "</table>\n",
       "</div>"
      ],
      "text/plain": [
       "   %ERQuestionKey                                ERA_QuestionComment  \\\n",
       "0        112/7557  Same. Face to face meeting followed by efficie...   \n",
       "2        112/7557  Same. Face to face meeting followed by efficie...   \n",
       "4        112/7557  Same. Face to face meeting followed by efficie...   \n",
       "6        112/7557  Same. Face to face meeting followed by efficie...   \n",
       "8        112/7557  Same. Face to face meeting followed by efficie...   \n",
       "10       112/7557  Same. Face to face meeting followed by efficie...   \n",
       "12       112/7557  Same. Face to face meeting followed by efficie...   \n",
       "18         2/7549  project was split in 2 phases: onboarding 2 ex...   \n",
       "20         2/7549  project was split in 2 phases: onboarding 2 ex...   \n",
       "22         2/7549  project was split in 2 phases: onboarding 2 ex...   \n",
       "24         2/7549  project was split in 2 phases: onboarding 2 ex...   \n",
       "26         2/7549  project was split in 2 phases: onboarding 2 ex...   \n",
       "28         2/7549  project was split in 2 phases: onboarding 2 ex...   \n",
       "30         2/7549  project was split in 2 phases: onboarding 2 ex...   \n",
       "32         2/7549  project was split in 2 phases: onboarding 2 ex...   \n",
       "34         2/7549  project was split in 2 phases: onboarding 2 ex...   \n",
       "36         2/7549  project was split in 2 phases: onboarding 2 ex...   \n",
       "38        11/7549  working @ distance is not obvious, certainly n...   \n",
       "40        11/7549  working @ distance is not obvious, certainly n...   \n",
       "42        11/7549  working @ distance is not obvious, certainly n...   \n",
       "44        11/7549  working @ distance is not obvious, certainly n...   \n",
       "46        11/7549  working @ distance is not obvious, certainly n...   \n",
       "48        11/7549  working @ distance is not obvious, certainly n...   \n",
       "52        11/7549  working @ distance is not obvious, certainly n...   \n",
       "58       112/7549  physical meetings, making Agile work in a norm...   \n",
       "60       112/7549  physical meetings, making Agile work in a norm...   \n",
       "62       112/7549  physical meetings, making Agile work in a norm...   \n",
       "64       112/7549  physical meetings, making Agile work in a norm...   \n",
       "66       112/7549  physical meetings, making Agile work in a norm...   \n",
       "68       112/7549  physical meetings, making Agile work in a norm...   \n",
       "\n",
       "       ER_Keyword  \n",
       "0        meetings  \n",
       "2         meeting  \n",
       "4           teams  \n",
       "6       efficient  \n",
       "8            face  \n",
       "10           same  \n",
       "12       followed  \n",
       "18           exco  \n",
       "20        project  \n",
       "22          pilot  \n",
       "24        reasins  \n",
       "26     onboarding  \n",
       "28         phases  \n",
       "30   organisation  \n",
       "32        results  \n",
       "34        running  \n",
       "36          split  \n",
       "38  collaboration  \n",
       "40       distance  \n",
       "42          teams  \n",
       "44        project  \n",
       "46        working  \n",
       "48        between  \n",
       "52          where  \n",
       "58  collaboration  \n",
       "60       meetings  \n",
       "62          agile  \n",
       "64           work  \n",
       "66        working  \n",
       "68    environment  "
      ]
     },
     "execution_count": 11,
     "metadata": {},
     "output_type": "execute_result"
    }
   ],
   "source": [
    "df.head(30)"
   ]
  },
  {
   "cell_type": "markdown",
   "id": "885bfa8b",
   "metadata": {},
   "source": [
    "### Export table as CSV "
   ]
  },
  {
   "cell_type": "code",
   "execution_count": null,
   "id": "128d8f1a",
   "metadata": {},
   "outputs": [],
   "source": [
    "df.to_csv('replace desired file path here', index = False, encoding = 'utf-8-sig')"
   ]
  }
 ],
 "metadata": {
  "kernelspec": {
   "display_name": "Python 3 (ipykernel)",
   "language": "python",
   "name": "python3"
  },
  "language_info": {
   "codemirror_mode": {
    "name": "ipython",
    "version": 3
   },
   "file_extension": ".py",
   "mimetype": "text/x-python",
   "name": "python",
   "nbconvert_exporter": "python",
   "pygments_lexer": "ipython3",
   "version": "3.9.1"
  }
 },
 "nbformat": 4,
 "nbformat_minor": 5
}
